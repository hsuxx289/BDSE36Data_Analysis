{
 "cells": [
  {
   "cell_type": "code",
   "execution_count": 1,
   "id": "e0e46660",
   "metadata": {},
   "outputs": [],
   "source": [
    "import pandas as pd\n",
    "import numpy as np"
   ]
  },
  {
   "cell_type": "markdown",
   "id": "494a8791",
   "metadata": {},
   "source": [
    "## 10.1 使用stack() 整理欄位名稱為數值的資料"
   ]
  },
  {
   "cell_type": "code",
   "execution_count": null,
   "id": "dc9588bf",
   "metadata": {},
   "outputs": [
    {
     "name": "stdout",
     "output_type": "stream",
     "text": [
      "         Apple  Orange  Banana\n",
      "Texas       12      10      40\n",
      "Arizona      9       7      12\n",
      "Florida      0      14     190\n"
     ]
    }
   ],
   "source": [
    "# 載入資料集 並設定索引\n",
    "state_fruit = pd.read_csv('../../data/state_fruit.csv', index_col=0)\n",
    "print(state_fruit)"
   ]
  },
  {
   "cell_type": "code",
   "execution_count": 3,
   "id": "c16c951c",
   "metadata": {},
   "outputs": [
    {
     "name": "stdout",
     "output_type": "stream",
     "text": [
      "Texas    Apple      12\n",
      "         Orange     10\n",
      "         Banana     40\n",
      "Arizona  Apple       9\n",
      "         Orange      7\n",
      "         Banana     12\n",
      "Florida  Apple       0\n",
      "         Orange     14\n",
      "         Banana    190\n",
      "dtype: int64\n"
     ]
    }
   ],
   "source": [
    "# 使用stack()\n",
    "print(state_fruit.stack())"
   ]
  },
  {
   "cell_type": "code",
   "execution_count": null,
   "id": "39f8b824",
   "metadata": {},
   "outputs": [
    {
     "name": "stdout",
     "output_type": "stream",
     "text": [
      "   level_0 level_1    0\n",
      "0    Texas   Apple   12\n",
      "1    Texas  Orange   10\n",
      "2    Texas  Banana   40\n",
      "3  Arizona   Apple    9\n",
      "4  Arizona  Orange    7\n",
      "5  Arizona  Banana   12\n",
      "6  Florida   Apple    0\n",
      "7  Florida  Orange   14\n",
      "8  Florida  Banana  190\n"
     ]
    }
   ],
   "source": [
    "# 使用reset_index()\n",
    "print(state_fruit.stack()\n",
    "                 .reset_index())"
   ]
  },
  {
   "cell_type": "code",
   "execution_count": 5,
   "id": "d2a54246",
   "metadata": {},
   "outputs": [
    {
     "name": "stdout",
     "output_type": "stream",
     "text": [
      "     state   fruit  weight\n",
      "0    Texas   Apple      12\n",
      "1    Texas  Orange      10\n",
      "2    Texas  Banana      40\n",
      "3  Arizona   Apple       9\n",
      "4  Arizona  Orange       7\n",
      "5  Arizona  Banana      12\n",
      "6  Florida   Apple       0\n",
      "7  Florida  Orange      14\n",
      "8  Florida  Banana     190\n"
     ]
    }
   ],
   "source": [
    "# 改欄位名稱\n",
    "print(state_fruit.stack()\n",
    "                 .reset_index()\n",
    "                 .rename(columns={'level_0': 'state',\n",
    "                                  'level_1': 'fruit',\n",
    "                                  0 : 'weight'}))"
   ]
  },
  {
   "cell_type": "code",
   "execution_count": null,
   "id": "1517b504",
   "metadata": {},
   "outputs": [
    {
     "name": "stdout",
     "output_type": "stream",
     "text": [
      "     state   fruit  weight\n",
      "0    Texas   Apple      12\n",
      "1    Texas  Orange      10\n",
      "2    Texas  Banana      40\n",
      "3  Arizona   Apple       9\n",
      "4  Arizona  Orange       7\n",
      "5  Arizona  Banana      12\n",
      "6  Florida   Apple       0\n",
      "7  Florida  Orange      14\n",
      "8  Florida  Banana     190\n"
     ]
    }
   ],
   "source": [
    "# 使用rename_axis\n",
    "print(state_fruit.stack()\n",
    "                 .rename_axis(['state','fruit'])\n",
    "                 .reset_index(name='weight')\n",
    ")"
   ]
  },
  {
   "cell_type": "code",
   "execution_count": 9,
   "id": "38ed06c4",
   "metadata": {},
   "outputs": [
    {
     "name": "stdout",
     "output_type": "stream",
     "text": [
      "     State  Apple  Orange  Banana\n",
      "0    Texas     12      10      40\n",
      "1  Arizona      9       7      12\n",
      "2  Florida      0      14     190\n"
     ]
    }
   ],
   "source": [
    "# 直接讀入資料集\n",
    "state_fruit2 = pd.read_csv('../../data/state_fruit2.csv')\n",
    "print(state_fruit2)"
   ]
  },
  {
   "cell_type": "code",
   "execution_count": 10,
   "id": "2bc6aafe",
   "metadata": {},
   "outputs": [
    {
     "name": "stdout",
     "output_type": "stream",
     "text": [
      "0  State       Texas\n",
      "   Apple          12\n",
      "   Orange         10\n",
      "   Banana         40\n",
      "1  State     Arizona\n",
      "   Apple           9\n",
      "   Orange          7\n",
      "   Banana         12\n",
      "2  State     Florida\n",
      "   Apple           0\n",
      "   Orange         14\n",
      "   Banana        190\n",
      "dtype: object\n"
     ]
    }
   ],
   "source": [
    "# 使用stack()\n",
    "print(state_fruit2.stack())"
   ]
  },
  {
   "cell_type": "markdown",
   "id": "65153293",
   "metadata": {},
   "source": [
    "## 10.2 使用melt() 整理欄位名稱為變數值的資料"
   ]
  },
  {
   "cell_type": "code",
   "execution_count": 11,
   "id": "34eaf608",
   "metadata": {},
   "outputs": [
    {
     "name": "stdout",
     "output_type": "stream",
     "text": [
      "     State  Apple  Orange  Banana\n",
      "0    Texas     12      10      40\n",
      "1  Arizona      9       7      12\n",
      "2  Florida      0      14     190\n"
     ]
    }
   ],
   "source": [
    "# 載入資料集\n",
    "state_fruit2 = pd.read_csv('../../data/state_fruit2.csv')\n",
    "print(state_fruit2)"
   ]
  },
  {
   "cell_type": "code",
   "execution_count": 12,
   "id": "15e4c3ce",
   "metadata": {},
   "outputs": [
    {
     "name": "stdout",
     "output_type": "stream",
     "text": [
      "     State variable  value\n",
      "0    Texas    Apple     12\n",
      "1  Arizona    Apple      9\n",
      "2  Florida    Apple      0\n",
      "3    Texas   Orange     10\n",
      "4  Arizona   Orange      7\n",
      "5  Florida   Orange     14\n",
      "6    Texas   Banana     40\n",
      "7  Arizona   Banana     12\n",
      "8  Florida   Banana    190\n"
     ]
    }
   ],
   "source": [
    "# 使用melt()\n",
    "print(state_fruit2.melt(id_vars=['State'],\n",
    "                        value_vars=['Apple', 'Orange', 'Banana']))"
   ]
  },
  {
   "cell_type": "code",
   "execution_count": 13,
   "id": "f9352b52",
   "metadata": {},
   "outputs": [
    {
     "name": "stdout",
     "output_type": "stream",
     "text": [
      "     State   Fruit  Weight\n",
      "0    Texas   Apple      12\n",
      "1  Arizona   Apple       9\n",
      "2  Florida   Apple       0\n",
      "3    Texas  Orange      10\n",
      "4  Arizona  Orange       7\n",
      "5  Florida  Orange      14\n",
      "6    Texas  Banana      40\n",
      "7  Arizona  Banana      12\n",
      "8  Florida  Banana     190\n"
     ]
    }
   ],
   "source": [
    "# 命名欄位\n",
    "print(state_fruit2.melt(id_vars=['State'],\n",
    "                        value_vars=['Apple', 'Orange', 'Banana'],\n",
    "                        var_name='Fruit',\n",
    "                        value_name='Weight'))"
   ]
  },
  {
   "cell_type": "code",
   "execution_count": 14,
   "id": "ad9457c9",
   "metadata": {},
   "outputs": [
    {
     "name": "stdout",
     "output_type": "stream",
     "text": [
      "   variable    value\n",
      "0     State    Texas\n",
      "1     State  Arizona\n",
      "2     State  Florida\n",
      "3     Apple       12\n",
      "4     Apple        9\n",
      "5     Apple        0\n",
      "6    Orange       10\n",
      "7    Orange        7\n",
      "8    Orange       14\n",
      "9    Banana       40\n",
      "10   Banana       12\n",
      "11   Banana      190\n"
     ]
    }
   ],
   "source": [
    "# 也可以不重入任何參數\n",
    "print(state_fruit2.melt())"
   ]
  },
  {
   "cell_type": "code",
   "execution_count": 15,
   "id": "d942af4b",
   "metadata": {},
   "outputs": [
    {
     "name": "stdout",
     "output_type": "stream",
     "text": [
      "     State variable  value\n",
      "0    Texas    Apple     12\n",
      "1  Arizona    Apple      9\n",
      "2  Florida    Apple      0\n",
      "3    Texas   Orange     10\n",
      "4  Arizona   Orange      7\n",
      "5  Florida   Orange     14\n",
      "6    Texas   Banana     40\n",
      "7  Arizona   Banana     12\n",
      "8  Florida   Banana    190\n"
     ]
    }
   ],
   "source": [
    "# 如果沒有指定預設都是全部參與\n",
    "print(state_fruit2.melt(id_vars='State'))"
   ]
  },
  {
   "cell_type": "markdown",
   "id": "c1e94e7c",
   "metadata": {},
   "source": [
    "## 10.3 同時堆疊多組變數"
   ]
  },
  {
   "cell_type": "code",
   "execution_count": 6,
   "id": "ae57398f",
   "metadata": {},
   "outputs": [
    {
     "name": "stdout",
     "output_type": "stream",
     "text": [
      "                                  movie_title     actor_1_name  \\\n",
      "0                                      Avatar      CCH Pounder   \n",
      "1    Pirates of the Caribbean: At World's End      Johnny Depp   \n",
      "2                                     Spectre  Christoph Waltz   \n",
      "3                       The Dark Knight Rises        Tom Hardy   \n",
      "4  Star Wars: Episode VII - The Force Awakens      Doug Walker   \n",
      "\n",
      "       actor_2_name          actor_3_name  actor_1_facebook_likes  \\\n",
      "0  Joel David Moore             Wes Studi                  1000.0   \n",
      "1     Orlando Bloom        Jack Davenport                 40000.0   \n",
      "2      Rory Kinnear      Stephanie Sigman                 11000.0   \n",
      "3    Christian Bale  Joseph Gordon-Levitt                 27000.0   \n",
      "4        Rob Walker                   NaN                   131.0   \n",
      "\n",
      "   actor_2_facebook_likes  actor_3_facebook_likes  \n",
      "0                   936.0                   855.0  \n",
      "1                  5000.0                  1000.0  \n",
      "2                   393.0                   161.0  \n",
      "3                 23000.0                 23000.0  \n",
      "4                    12.0                     NaN  \n"
     ]
    }
   ],
   "source": [
    "# 載入資料集\n",
    "movie = pd.read_csv('../../data/movie.csv')\n",
    "actor = movie[['movie_title', 'actor_1_name',\n",
    "               'actor_2_name', 'actor_3_name',\n",
    "               'actor_1_facebook_likes',\n",
    "               'actor_2_facebook_likes',\n",
    "               'actor_3_facebook_likes']]\n",
    "print(actor.head())"
   ]
  },
  {
   "cell_type": "code",
   "execution_count": 9,
   "id": "4df8c09d",
   "metadata": {},
   "outputs": [],
   "source": [
    "# 先將欄位名稱後方修改成數字\n",
    "def change_col_name(col_name):\n",
    "    col_name = col_name.replace('_name', '')\n",
    "    if 'facebook' in col_name:\n",
    "        fb_idx = col_name.find('facebook')\n",
    "        col_name = (col_name[:5] + col_name[fb_idx - 1:]\n",
    "                    + col_name[5:fb_idx-1])\n",
    "    return col_name"
   ]
  },
  {
   "cell_type": "code",
   "execution_count": 10,
   "id": "951c0130",
   "metadata": {},
   "outputs": [
    {
     "name": "stdout",
     "output_type": "stream",
     "text": [
      "                                     movie_title          actor_1  \\\n",
      "0                                         Avatar      CCH Pounder   \n",
      "1       Pirates of the Caribbean: At World's End      Johnny Depp   \n",
      "2                                        Spectre  Christoph Waltz   \n",
      "3                          The Dark Knight Rises        Tom Hardy   \n",
      "4     Star Wars: Episode VII - The Force Awakens      Doug Walker   \n",
      "...                                          ...              ...   \n",
      "4911                     Signed Sealed Delivered      Eric Mabius   \n",
      "4912                               The Following      Natalie Zea   \n",
      "4913                        A Plague So Pleasant      Eva Boehnke   \n",
      "4914                            Shanghai Calling        Alan Ruck   \n",
      "4915                           My Date with Drew      John August   \n",
      "\n",
      "               actor_2               actor_3  actor_facebook_likes_1  \\\n",
      "0     Joel David Moore             Wes Studi                  1000.0   \n",
      "1        Orlando Bloom        Jack Davenport                 40000.0   \n",
      "2         Rory Kinnear      Stephanie Sigman                 11000.0   \n",
      "3       Christian Bale  Joseph Gordon-Levitt                 27000.0   \n",
      "4           Rob Walker                   NaN                   131.0   \n",
      "...                ...                   ...                     ...   \n",
      "4911     Daphne Zuniga          Crystal Lowe                   637.0   \n",
      "4912     Valorie Curry         Sam Underwood                   841.0   \n",
      "4913     Maxwell Moody        David Chandler                     0.0   \n",
      "4914     Daniel Henney           Eliza Coupe                   946.0   \n",
      "4915  Brian Herzlinger              Jon Gunn                    86.0   \n",
      "\n",
      "      actor_facebook_likes_2  actor_facebook_likes_3  \n",
      "0                      936.0                   855.0  \n",
      "1                     5000.0                  1000.0  \n",
      "2                      393.0                   161.0  \n",
      "3                    23000.0                 23000.0  \n",
      "4                       12.0                     NaN  \n",
      "...                      ...                     ...  \n",
      "4911                   470.0                   318.0  \n",
      "4912                   593.0                   319.0  \n",
      "4913                     0.0                     0.0  \n",
      "4914                   719.0                   489.0  \n",
      "4915                    23.0                    16.0  \n",
      "\n",
      "[4916 rows x 7 columns]\n"
     ]
    }
   ],
   "source": [
    "# 更改名稱\n",
    "actor2 = actor.rename(columns=change_col_name)\n",
    "print(actor2)"
   ]
  },
  {
   "cell_type": "code",
   "execution_count": 12,
   "id": "45c12165",
   "metadata": {},
   "outputs": [
    {
     "name": "stdout",
     "output_type": "stream",
     "text": [
      "                                                                actor  \\\n",
      "movie_title                                actor_num                    \n",
      "Avatar                                     1              CCH Pounder   \n",
      "Pirates of the Caribbean: At World's End   1              Johnny Depp   \n",
      "Spectre                                    1          Christoph Waltz   \n",
      "The Dark Knight Rises                      1                Tom Hardy   \n",
      "Star Wars: Episode VII - The Force Awakens 1              Doug Walker   \n",
      "\n",
      "                                                      actor_facebook_likes  \n",
      "movie_title                                actor_num                        \n",
      "Avatar                                     1                        1000.0  \n",
      "Pirates of the Caribbean: At World's End   1                       40000.0  \n",
      "Spectre                                    1                       11000.0  \n",
      "The Dark Knight Rises                      1                       27000.0  \n",
      "Star Wars: Episode VII - The Force Awakens 1                         131.0  \n"
     ]
    }
   ],
   "source": [
    "# 使用 wide_to_long()\n",
    "stubs = ['actor', 'actor_facebook_likes']\n",
    "actor2_tidy = pd.wide_to_long(actor2,\n",
    "                stubnames=stubs,\n",
    "                i=['movie_title'],\n",
    "                j='actor_num',\n",
    "                sep='_')\n",
    "print(actor2_tidy.head())"
   ]
  },
  {
   "cell_type": "code",
   "execution_count": 13,
   "id": "c4a5ca12",
   "metadata": {},
   "outputs": [
    {
     "name": "stdout",
     "output_type": "stream",
     "text": [
      "  State Country    a1   b2   Test  d  e\n",
      "0    TX      US  0.45  0.3  Test1  2  6\n",
      "1    MA      US  0.03  1.2  Test2  9  7\n",
      "2    ON     CAN  0.70  4.2  Test3  4  2\n"
     ]
    }
   ],
   "source": [
    "# 載入資料集\n",
    "df = pd.read_csv('../../data/stackme.csv')\n",
    "print(df)"
   ]
  },
  {
   "cell_type": "code",
   "execution_count": 16,
   "id": "80d30bd1",
   "metadata": {},
   "outputs": [
    {
     "name": "stdout",
     "output_type": "stream",
     "text": [
      "  State Country  group1_a1  group1_b2   Test  group2_a1  group2_b2\n",
      "0    TX      US       0.45        0.3  Test1          2          6\n",
      "1    MA      US       0.03        1.2  Test2          9          7\n",
      "2    ON     CAN       0.70        4.2  Test3          4          2\n"
     ]
    }
   ],
   "source": [
    "# 重新命名\n",
    "print(df.rename(columns={'a1':'group1_a1', 'b2':'group1_b2',\n",
    "                   'd':'group2_a1', 'e':'group2_b2'}))"
   ]
  },
  {
   "cell_type": "code",
   "execution_count": 17,
   "id": "fcb006f7",
   "metadata": {},
   "outputs": [
    {
     "name": "stdout",
     "output_type": "stream",
     "text": [
      "                           group1  group2\n",
      "State Country Test  Label                \n",
      "TX    US      Test1 a1       0.45       2\n",
      "                    b2       0.30       6\n",
      "MA    US      Test2 a1       0.03       9\n",
      "                    b2       1.20       7\n",
      "ON    CAN     Test3 a1       0.70       4\n",
      "                    b2       4.20       2\n"
     ]
    }
   ],
   "source": [
    "# 使用suffix參數\n",
    "print(pd.wide_to_long(\n",
    "        df.rename(columns = {'a1':'group1_a1',\n",
    "                             'b2':'group1_b2',\n",
    "                             'd':'group2_a1', 'e':'group2_b2'}),\n",
    "        stubnames=['group1', 'group2'],\n",
    "        i=['State', 'Country', 'Test'],\n",
    "        j='Label',\n",
    "        suffix='.+',\n",
    "        sep='_'\n",
    "))"
   ]
  },
  {
   "cell_type": "markdown",
   "id": "05ceab1b",
   "metadata": {},
   "source": [
    "## 10.4 堆疊的反向操作"
   ]
  },
  {
   "cell_type": "code",
   "execution_count": 2,
   "id": "cfa8a73d",
   "metadata": {},
   "outputs": [
    {
     "name": "stdout",
     "output_type": "stream",
     "text": [
      "                                     UGDS_WHITE  UGDS_BLACK  UGDS_HISP  \\\n",
      "INSTNM                                                                   \n",
      "Alabama A & M University                 0.0333      0.9353     0.0055   \n",
      "University of Alabama at Birmingham      0.5922      0.2600     0.0283   \n",
      "Amridge University                       0.2990      0.4192     0.0069   \n",
      "University of Alabama in Huntsville      0.6988      0.1255     0.0382   \n",
      "Alabama State University                 0.0158      0.9208     0.0121   \n",
      "\n",
      "                                     UGDS_ASIAN  UGDS_AIAN  UGDS_NHPI  \\\n",
      "INSTNM                                                                  \n",
      "Alabama A & M University                 0.0019     0.0024     0.0019   \n",
      "University of Alabama at Birmingham      0.0518     0.0022     0.0007   \n",
      "Amridge University                       0.0034     0.0000     0.0000   \n",
      "University of Alabama in Huntsville      0.0376     0.0143     0.0002   \n",
      "Alabama State University                 0.0019     0.0010     0.0006   \n",
      "\n",
      "                                     UGDS_2MOR  UGDS_NRA  UGDS_UNKN  \n",
      "INSTNM                                                               \n",
      "Alabama A & M University                0.0000    0.0059     0.0138  \n",
      "University of Alabama at Birmingham     0.0368    0.0179     0.0100  \n",
      "Amridge University                      0.0000    0.0000     0.2715  \n",
      "University of Alabama in Huntsville     0.0172    0.0332     0.0350  \n",
      "Alabama State University                0.0098    0.0243     0.0137  \n"
     ]
    }
   ],
   "source": [
    "# 載入資料集 只保留特定欄位\n",
    "usecol_func = lambda x: 'UGDS_' in x or x =='INSTNM'\n",
    "\n",
    "college = pd.read_csv('../../data/college.csv',\n",
    "                      index_col='INSTNM',\n",
    "                      usecols=usecol_func)\n",
    "\n",
    "print(college.head())"
   ]
  },
  {
   "cell_type": "code",
   "execution_count": 3,
   "id": "647e36e4",
   "metadata": {},
   "outputs": [
    {
     "name": "stdout",
     "output_type": "stream",
     "text": [
      "INSTNM                                     \n",
      "Alabama A & M University         UGDS_WHITE    0.0333\n",
      "                                 UGDS_BLACK    0.9353\n",
      "                                 UGDS_HISP     0.0055\n",
      "                                 UGDS_ASIAN    0.0019\n",
      "                                 UGDS_AIAN     0.0024\n",
      "                                                ...  \n",
      "Coastal Pines Technical College  UGDS_AIAN     0.0034\n",
      "                                 UGDS_NHPI     0.0017\n",
      "                                 UGDS_2MOR     0.0191\n",
      "                                 UGDS_NRA      0.0028\n",
      "                                 UGDS_UNKN     0.0056\n",
      "Length: 61866, dtype: float64\n"
     ]
    }
   ],
   "source": [
    "# 使用stack()\n",
    "college_stacked = college.stack()\n",
    "print(college_stacked)"
   ]
  },
  {
   "cell_type": "code",
   "execution_count": 4,
   "id": "1694758e",
   "metadata": {},
   "outputs": [
    {
     "name": "stdout",
     "output_type": "stream",
     "text": [
      "                                                    UGDS_WHITE  UGDS_BLACK  \\\n",
      "INSTNM                                                                       \n",
      "Alabama A & M University                                0.0333      0.9353   \n",
      "University of Alabama at Birmingham                     0.5922      0.2600   \n",
      "Amridge University                                      0.2990      0.4192   \n",
      "University of Alabama in Huntsville                     0.6988      0.1255   \n",
      "Alabama State University                                0.0158      0.9208   \n",
      "...                                                        ...         ...   \n",
      "Hollywood Institute of Beauty Careers-West Palm...      0.2182      0.4182   \n",
      "Hollywood Institute of Beauty Careers-Casselberry       0.1200      0.3333   \n",
      "Coachella Valley Beauty College-Beaumont                0.3284      0.1045   \n",
      "Dewey University-Mayaguez                               0.0000      0.0000   \n",
      "Coastal Pines Technical College                         0.6762      0.2508   \n",
      "\n",
      "                                                    UGDS_HISP  UGDS_ASIAN  \\\n",
      "INSTNM                                                                      \n",
      "Alabama A & M University                               0.0055      0.0019   \n",
      "University of Alabama at Birmingham                    0.0283      0.0518   \n",
      "Amridge University                                     0.0069      0.0034   \n",
      "University of Alabama in Huntsville                    0.0382      0.0376   \n",
      "Alabama State University                               0.0121      0.0019   \n",
      "...                                                       ...         ...   \n",
      "Hollywood Institute of Beauty Careers-West Palm...     0.2364      0.0182   \n",
      "Hollywood Institute of Beauty Careers-Casselberry      0.4400      0.0000   \n",
      "Coachella Valley Beauty College-Beaumont               0.4925      0.0149   \n",
      "Dewey University-Mayaguez                              1.0000      0.0000   \n",
      "Coastal Pines Technical College                        0.0359      0.0045   \n",
      "\n",
      "                                                    UGDS_AIAN  UGDS_NHPI  \\\n",
      "INSTNM                                                                     \n",
      "Alabama A & M University                               0.0024     0.0019   \n",
      "University of Alabama at Birmingham                    0.0022     0.0007   \n",
      "Amridge University                                     0.0000     0.0000   \n",
      "University of Alabama in Huntsville                    0.0143     0.0002   \n",
      "Alabama State University                               0.0010     0.0006   \n",
      "...                                                       ...        ...   \n",
      "Hollywood Institute of Beauty Careers-West Palm...     0.0000     0.0000   \n",
      "Hollywood Institute of Beauty Careers-Casselberry      0.0000     0.0000   \n",
      "Coachella Valley Beauty College-Beaumont               0.0299     0.0149   \n",
      "Dewey University-Mayaguez                              0.0000     0.0000   \n",
      "Coastal Pines Technical College                        0.0034     0.0017   \n",
      "\n",
      "                                                    UGDS_2MOR  UGDS_NRA  \\\n",
      "INSTNM                                                                    \n",
      "Alabama A & M University                               0.0000    0.0059   \n",
      "University of Alabama at Birmingham                    0.0368    0.0179   \n",
      "Amridge University                                     0.0000    0.0000   \n",
      "University of Alabama in Huntsville                    0.0172    0.0332   \n",
      "Alabama State University                               0.0098    0.0243   \n",
      "...                                                       ...       ...   \n",
      "Hollywood Institute of Beauty Careers-West Palm...     0.0000    0.0182   \n",
      "Hollywood Institute of Beauty Careers-Casselberry      0.0400    0.0000   \n",
      "Coachella Valley Beauty College-Beaumont               0.0149    0.0000   \n",
      "Dewey University-Mayaguez                              0.0000    0.0000   \n",
      "Coastal Pines Technical College                        0.0191    0.0028   \n",
      "\n",
      "                                                    UGDS_UNKN  \n",
      "INSTNM                                                         \n",
      "Alabama A & M University                               0.0138  \n",
      "University of Alabama at Birmingham                    0.0100  \n",
      "Amridge University                                     0.2715  \n",
      "University of Alabama in Huntsville                    0.0350  \n",
      "Alabama State University                               0.0137  \n",
      "...                                                       ...  \n",
      "Hollywood Institute of Beauty Careers-West Palm...     0.0909  \n",
      "Hollywood Institute of Beauty Careers-Casselberry      0.0667  \n",
      "Coachella Valley Beauty College-Beaumont               0.0000  \n",
      "Dewey University-Mayaguez                              0.0000  \n",
      "Coastal Pines Technical College                        0.0056  \n",
      "\n",
      "[6874 rows x 9 columns]\n"
     ]
    }
   ],
   "source": [
    "# 使用unstack()\n",
    "print(college_stacked.unstack())"
   ]
  },
  {
   "cell_type": "code",
   "execution_count": 5,
   "id": "5839f453",
   "metadata": {},
   "outputs": [
    {
     "name": "stdout",
     "output_type": "stream",
     "text": [
      "                                                  INSTNM        Race  \\\n",
      "0                               Alabama A & M University  UGDS_WHITE   \n",
      "1                    University of Alabama at Birmingham  UGDS_WHITE   \n",
      "2                                     Amridge University  UGDS_WHITE   \n",
      "3                    University of Alabama in Huntsville  UGDS_WHITE   \n",
      "4                               Alabama State University  UGDS_WHITE   \n",
      "...                                                  ...         ...   \n",
      "67810         SAE Institute of Technology  San Francisco   UGDS_UNKN   \n",
      "67811                  Rasmussen College - Overland Park   UGDS_UNKN   \n",
      "67812  National Personal Training Institute of Cleveland   UGDS_UNKN   \n",
      "67813  Bay Area Medical Academy - San Jose Satellite ...   UGDS_UNKN   \n",
      "67814            Excel Learning Center-San Antonio South   UGDS_UNKN   \n",
      "\n",
      "       Percentage  \n",
      "0          0.0333  \n",
      "1          0.5922  \n",
      "2          0.2990  \n",
      "3          0.6988  \n",
      "4          0.0158  \n",
      "...           ...  \n",
      "67810         NaN  \n",
      "67811         NaN  \n",
      "67812         NaN  \n",
      "67813         NaN  \n",
      "67814         NaN  \n",
      "\n",
      "[67815 rows x 3 columns]\n"
     ]
    }
   ],
   "source": [
    "# 使用melt()\n",
    "college2 = pd.read_csv('../../data/college.csv', usecols=usecol_func)\n",
    "\n",
    "college_melted = college2.melt(id_vars='INSTNM',\n",
    "                               var_name='Race',\n",
    "                               value_name='Percentage')\n",
    "\n",
    "print(college_melted)"
   ]
  },
  {
   "cell_type": "code",
   "execution_count": 6,
   "id": "7237d5e5",
   "metadata": {},
   "outputs": [
    {
     "name": "stdout",
     "output_type": "stream",
     "text": [
      "Race                                                UGDS_2MOR  UGDS_AIAN  \\\n",
      "INSTNM                                                                     \n",
      "A & W Healthcare Educators                             0.0000     0.0000   \n",
      "A T Still University of Health Sciences                   NaN        NaN   \n",
      "ABC Beauty Academy                                     0.0000     0.0000   \n",
      "ABC Beauty College Inc                                 0.0000     0.0000   \n",
      "AI Miami International University of Art and De...     0.0018     0.0000   \n",
      "...                                                       ...        ...   \n",
      "Yukon Beauty College Inc                               0.0000     0.1200   \n",
      "Z Hair Academy                                         0.0211     0.0000   \n",
      "Zane State College                                     0.0218     0.0029   \n",
      "duCret School of Arts                                  0.0976     0.0000   \n",
      "eClips School of Cosmetology and Barbering             0.0000     0.0000   \n",
      "\n",
      "Race                                                UGDS_ASIAN  UGDS_BLACK  \\\n",
      "INSTNM                                                                       \n",
      "A & W Healthcare Educators                              0.0000      0.9750   \n",
      "A T Still University of Health Sciences                    NaN         NaN   \n",
      "ABC Beauty Academy                                      0.9333      0.0333   \n",
      "ABC Beauty College Inc                                  0.0000      0.6579   \n",
      "AI Miami International University of Art and De...      0.0018      0.0198   \n",
      "...                                                        ...         ...   \n",
      "Yukon Beauty College Inc                                0.0000      0.0400   \n",
      "Z Hair Academy                                          0.0000      0.0000   \n",
      "Zane State College                                      0.0029      0.0296   \n",
      "duCret School of Arts                                   0.0732      0.1951   \n",
      "eClips School of Cosmetology and Barbering              0.0000      0.8554   \n",
      "\n",
      "Race                                                UGDS_HISP  UGDS_NHPI  \\\n",
      "INSTNM                                                                     \n",
      "A & W Healthcare Educators                             0.0250     0.0000   \n",
      "A T Still University of Health Sciences                   NaN        NaN   \n",
      "ABC Beauty Academy                                     0.0333     0.0000   \n",
      "ABC Beauty College Inc                                 0.0526     0.0000   \n",
      "AI Miami International University of Art and De...     0.4773     0.0000   \n",
      "...                                                       ...        ...   \n",
      "Yukon Beauty College Inc                               0.0000     0.0400   \n",
      "Z Hair Academy                                         0.0211     0.0105   \n",
      "Zane State College                                     0.0029     0.0005   \n",
      "duCret School of Arts                                  0.1463     0.0000   \n",
      "eClips School of Cosmetology and Barbering             0.0000     0.0000   \n",
      "\n",
      "Race                                                UGDS_NRA  UGDS_UNKN  \\\n",
      "INSTNM                                                                    \n",
      "A & W Healthcare Educators                            0.0000     0.0000   \n",
      "A T Still University of Health Sciences                  NaN        NaN   \n",
      "ABC Beauty Academy                                    0.0000     0.0000   \n",
      "ABC Beauty College Inc                                0.0000     0.0000   \n",
      "AI Miami International University of Art and De...    0.0025     0.4644   \n",
      "...                                                      ...        ...   \n",
      "Yukon Beauty College Inc                              0.0000     0.0000   \n",
      "Z Hair Academy                                        0.0000     0.0105   \n",
      "Zane State College                                    0.0000     0.2399   \n",
      "duCret School of Arts                                 0.0000     0.0244   \n",
      "eClips School of Cosmetology and Barbering            0.0000     0.0000   \n",
      "\n",
      "Race                                                UGDS_WHITE  \n",
      "INSTNM                                                          \n",
      "A & W Healthcare Educators                              0.0000  \n",
      "A T Still University of Health Sciences                    NaN  \n",
      "ABC Beauty Academy                                      0.0000  \n",
      "ABC Beauty College Inc                                  0.2895  \n",
      "AI Miami International University of Art and De...      0.0324  \n",
      "...                                                        ...  \n",
      "Yukon Beauty College Inc                                0.8000  \n",
      "Z Hair Academy                                          0.9368  \n",
      "Zane State College                                      0.6995  \n",
      "duCret School of Arts                                   0.4634  \n",
      "eClips School of Cosmetology and Barbering              0.1446  \n",
      "\n",
      "[7535 rows x 9 columns]\n"
     ]
    }
   ],
   "source": [
    "# 使用pivot()\n",
    "melted_inv= college_melted.pivot(index='INSTNM',\n",
    "                                  columns='Race',\n",
    "                                  values='Percentage')\n",
    "\n",
    "print(melted_inv)"
   ]
  },
  {
   "cell_type": "code",
   "execution_count": 7,
   "id": "61ad5a64",
   "metadata": {},
   "outputs": [
    {
     "data": {
      "text/plain": [
       "True"
      ]
     },
     "execution_count": 7,
     "metadata": {},
     "output_type": "execute_result"
    }
   ],
   "source": [
    "# 按照原排序\n",
    "college2_replication = (melted_inv.loc[college2['INSTNM'],\n",
    "                                       college2.columns[1:]]\n",
    "                                       .reset_index())\n",
    "college2.equals(college2_replication)"
   ]
  },
  {
   "cell_type": "code",
   "execution_count": 8,
   "id": "14878264",
   "metadata": {},
   "outputs": [
    {
     "name": "stdout",
     "output_type": "stream",
     "text": [
      "INSTNM      Alabama A & M University  University of Alabama at Birmingham  \\\n",
      "UGDS_WHITE                    0.0333                               0.5922   \n",
      "UGDS_BLACK                    0.9353                               0.2600   \n",
      "UGDS_HISP                     0.0055                               0.0283   \n",
      "UGDS_ASIAN                    0.0019                               0.0518   \n",
      "UGDS_AIAN                     0.0024                               0.0022   \n",
      "UGDS_NHPI                     0.0019                               0.0007   \n",
      "UGDS_2MOR                     0.0000                               0.0368   \n",
      "UGDS_NRA                      0.0059                               0.0179   \n",
      "UGDS_UNKN                     0.0138                               0.0100   \n",
      "\n",
      "INSTNM      Amridge University  University of Alabama in Huntsville  \\\n",
      "UGDS_WHITE              0.2990                               0.6988   \n",
      "UGDS_BLACK              0.4192                               0.1255   \n",
      "UGDS_HISP               0.0069                               0.0382   \n",
      "UGDS_ASIAN              0.0034                               0.0376   \n",
      "UGDS_AIAN               0.0000                               0.0143   \n",
      "UGDS_NHPI               0.0000                               0.0002   \n",
      "UGDS_2MOR               0.0000                               0.0172   \n",
      "UGDS_NRA                0.0000                               0.0332   \n",
      "UGDS_UNKN               0.2715                               0.0350   \n",
      "\n",
      "INSTNM      Alabama State University  The University of Alabama  \\\n",
      "UGDS_WHITE                    0.0158                     0.7825   \n",
      "UGDS_BLACK                    0.9208                     0.1119   \n",
      "UGDS_HISP                     0.0121                     0.0348   \n",
      "UGDS_ASIAN                    0.0019                     0.0106   \n",
      "UGDS_AIAN                     0.0010                     0.0038   \n",
      "UGDS_NHPI                     0.0006                     0.0009   \n",
      "UGDS_2MOR                     0.0098                     0.0261   \n",
      "UGDS_NRA                      0.0243                     0.0268   \n",
      "UGDS_UNKN                     0.0137                     0.0026   \n",
      "\n",
      "INSTNM      Central Alabama Community College  Athens State University  \\\n",
      "UGDS_WHITE                             0.7255                   0.7823   \n",
      "UGDS_BLACK                             0.2613                   0.1200   \n",
      "UGDS_HISP                              0.0044                   0.0191   \n",
      "UGDS_ASIAN                             0.0025                   0.0053   \n",
      "UGDS_AIAN                              0.0044                   0.0157   \n",
      "UGDS_NHPI                              0.0000                   0.0010   \n",
      "UGDS_2MOR                              0.0000                   0.0174   \n",
      "UGDS_NRA                               0.0000                   0.0057   \n",
      "UGDS_UNKN                              0.0019                   0.0334   \n",
      "\n",
      "INSTNM      Auburn University at Montgomery  Auburn University  ...  \\\n",
      "UGDS_WHITE                           0.5328             0.8507  ...   \n",
      "UGDS_BLACK                           0.3376             0.0704  ...   \n",
      "UGDS_HISP                            0.0074             0.0248  ...   \n",
      "UGDS_ASIAN                           0.0221             0.0227  ...   \n",
      "UGDS_AIAN                            0.0044             0.0074  ...   \n",
      "UGDS_NHPI                            0.0016             0.0000  ...   \n",
      "UGDS_2MOR                            0.0297             0.0000  ...   \n",
      "UGDS_NRA                             0.0397             0.0100  ...   \n",
      "UGDS_UNKN                            0.0246             0.0140  ...   \n",
      "\n",
      "INSTNM      MCI Institute of Technology-Boca Raton  \\\n",
      "UGDS_WHITE                                  0.0199   \n",
      "UGDS_BLACK                                  0.2815   \n",
      "UGDS_HISP                                   0.6854   \n",
      "UGDS_ASIAN                                  0.0132   \n",
      "UGDS_AIAN                                   0.0000   \n",
      "UGDS_NHPI                                   0.0000   \n",
      "UGDS_2MOR                                   0.0000   \n",
      "UGDS_NRA                                    0.0000   \n",
      "UGDS_UNKN                                   0.0000   \n",
      "\n",
      "INSTNM      West Coast University-Miami  National American University-Houston  \\\n",
      "UGDS_WHITE                       0.1522                                0.1858   \n",
      "UGDS_BLACK                       0.1739                                0.6443   \n",
      "UGDS_HISP                        0.6087                                0.0672   \n",
      "UGDS_ASIAN                       0.0217                                0.0079   \n",
      "UGDS_AIAN                        0.0000                                0.0079   \n",
      "UGDS_NHPI                        0.0000                                0.0000   \n",
      "UGDS_2MOR                        0.0435                                0.0751   \n",
      "UGDS_NRA                         0.0000                                0.0000   \n",
      "UGDS_UNKN                        0.0000                                0.0119   \n",
      "\n",
      "INSTNM      Aparicio-Levy Technical College  Fred D. Learey Technical College  \\\n",
      "UGDS_WHITE                           0.2431                            0.3731   \n",
      "UGDS_BLACK                           0.1215                            0.1388   \n",
      "UGDS_HISP                            0.6243                            0.3080   \n",
      "UGDS_ASIAN                           0.0055                            0.0000   \n",
      "UGDS_AIAN                            0.0055                            0.0000   \n",
      "UGDS_NHPI                            0.0000                            0.0000   \n",
      "UGDS_2MOR                            0.0000                            0.0022   \n",
      "UGDS_NRA                             0.0000                            0.0000   \n",
      "UGDS_UNKN                            0.0000                            0.1779   \n",
      "\n",
      "INSTNM      Hollywood Institute of Beauty Careers-West Palm Beach  \\\n",
      "UGDS_WHITE                                             0.2182       \n",
      "UGDS_BLACK                                             0.4182       \n",
      "UGDS_HISP                                              0.2364       \n",
      "UGDS_ASIAN                                             0.0182       \n",
      "UGDS_AIAN                                              0.0000       \n",
      "UGDS_NHPI                                              0.0000       \n",
      "UGDS_2MOR                                              0.0000       \n",
      "UGDS_NRA                                               0.0182       \n",
      "UGDS_UNKN                                              0.0909       \n",
      "\n",
      "INSTNM      Hollywood Institute of Beauty Careers-Casselberry  \\\n",
      "UGDS_WHITE                                             0.1200   \n",
      "UGDS_BLACK                                             0.3333   \n",
      "UGDS_HISP                                              0.4400   \n",
      "UGDS_ASIAN                                             0.0000   \n",
      "UGDS_AIAN                                              0.0000   \n",
      "UGDS_NHPI                                              0.0000   \n",
      "UGDS_2MOR                                              0.0400   \n",
      "UGDS_NRA                                               0.0000   \n",
      "UGDS_UNKN                                              0.0667   \n",
      "\n",
      "INSTNM      Coachella Valley Beauty College-Beaumont  \\\n",
      "UGDS_WHITE                                    0.3284   \n",
      "UGDS_BLACK                                    0.1045   \n",
      "UGDS_HISP                                     0.4925   \n",
      "UGDS_ASIAN                                    0.0149   \n",
      "UGDS_AIAN                                     0.0299   \n",
      "UGDS_NHPI                                     0.0149   \n",
      "UGDS_2MOR                                     0.0149   \n",
      "UGDS_NRA                                      0.0000   \n",
      "UGDS_UNKN                                     0.0000   \n",
      "\n",
      "INSTNM      Dewey University-Mayaguez  Coastal Pines Technical College  \n",
      "UGDS_WHITE                        0.0                           0.6762  \n",
      "UGDS_BLACK                        0.0                           0.2508  \n",
      "UGDS_HISP                         1.0                           0.0359  \n",
      "UGDS_ASIAN                        0.0                           0.0045  \n",
      "UGDS_AIAN                         0.0                           0.0034  \n",
      "UGDS_NHPI                         0.0                           0.0017  \n",
      "UGDS_2MOR                         0.0                           0.0191  \n",
      "UGDS_NRA                          0.0                           0.0028  \n",
      "UGDS_UNKN                         0.0                           0.0056  \n",
      "\n",
      "[9 rows x 6874 columns]\n"
     ]
    }
   ],
   "source": [
    "# unstack() 最外層\n",
    "print(college.stack().unstack(level=0))"
   ]
  },
  {
   "cell_type": "code",
   "execution_count": 9,
   "id": "e1bba61b",
   "metadata": {},
   "outputs": [
    {
     "name": "stdout",
     "output_type": "stream",
     "text": [
      "INSTNM      Alabama A & M University  University of Alabama at Birmingham  \\\n",
      "UGDS_WHITE                    0.0333                               0.5922   \n",
      "UGDS_BLACK                    0.9353                               0.2600   \n",
      "UGDS_HISP                     0.0055                               0.0283   \n",
      "UGDS_ASIAN                    0.0019                               0.0518   \n",
      "UGDS_AIAN                     0.0024                               0.0022   \n",
      "UGDS_NHPI                     0.0019                               0.0007   \n",
      "UGDS_2MOR                     0.0000                               0.0368   \n",
      "UGDS_NRA                      0.0059                               0.0179   \n",
      "UGDS_UNKN                     0.0138                               0.0100   \n",
      "\n",
      "INSTNM      Amridge University  University of Alabama in Huntsville  \\\n",
      "UGDS_WHITE              0.2990                               0.6988   \n",
      "UGDS_BLACK              0.4192                               0.1255   \n",
      "UGDS_HISP               0.0069                               0.0382   \n",
      "UGDS_ASIAN              0.0034                               0.0376   \n",
      "UGDS_AIAN               0.0000                               0.0143   \n",
      "UGDS_NHPI               0.0000                               0.0002   \n",
      "UGDS_2MOR               0.0000                               0.0172   \n",
      "UGDS_NRA                0.0000                               0.0332   \n",
      "UGDS_UNKN               0.2715                               0.0350   \n",
      "\n",
      "INSTNM      Alabama State University  The University of Alabama  \\\n",
      "UGDS_WHITE                    0.0158                     0.7825   \n",
      "UGDS_BLACK                    0.9208                     0.1119   \n",
      "UGDS_HISP                     0.0121                     0.0348   \n",
      "UGDS_ASIAN                    0.0019                     0.0106   \n",
      "UGDS_AIAN                     0.0010                     0.0038   \n",
      "UGDS_NHPI                     0.0006                     0.0009   \n",
      "UGDS_2MOR                     0.0098                     0.0261   \n",
      "UGDS_NRA                      0.0243                     0.0268   \n",
      "UGDS_UNKN                     0.0137                     0.0026   \n",
      "\n",
      "INSTNM      Central Alabama Community College  Athens State University  \\\n",
      "UGDS_WHITE                             0.7255                   0.7823   \n",
      "UGDS_BLACK                             0.2613                   0.1200   \n",
      "UGDS_HISP                              0.0044                   0.0191   \n",
      "UGDS_ASIAN                             0.0025                   0.0053   \n",
      "UGDS_AIAN                              0.0044                   0.0157   \n",
      "UGDS_NHPI                              0.0000                   0.0010   \n",
      "UGDS_2MOR                              0.0000                   0.0174   \n",
      "UGDS_NRA                               0.0000                   0.0057   \n",
      "UGDS_UNKN                              0.0019                   0.0334   \n",
      "\n",
      "INSTNM      Auburn University at Montgomery  Auburn University  ...  \\\n",
      "UGDS_WHITE                           0.5328             0.8507  ...   \n",
      "UGDS_BLACK                           0.3376             0.0704  ...   \n",
      "UGDS_HISP                            0.0074             0.0248  ...   \n",
      "UGDS_ASIAN                           0.0221             0.0227  ...   \n",
      "UGDS_AIAN                            0.0044             0.0074  ...   \n",
      "UGDS_NHPI                            0.0016             0.0000  ...   \n",
      "UGDS_2MOR                            0.0297             0.0000  ...   \n",
      "UGDS_NRA                             0.0397             0.0100  ...   \n",
      "UGDS_UNKN                            0.0246             0.0140  ...   \n",
      "\n",
      "INSTNM      Strayer University-North Dallas  Strayer University-San Antonio  \\\n",
      "UGDS_WHITE                              NaN                             NaN   \n",
      "UGDS_BLACK                              NaN                             NaN   \n",
      "UGDS_HISP                               NaN                             NaN   \n",
      "UGDS_ASIAN                              NaN                             NaN   \n",
      "UGDS_AIAN                               NaN                             NaN   \n",
      "UGDS_NHPI                               NaN                             NaN   \n",
      "UGDS_2MOR                               NaN                             NaN   \n",
      "UGDS_NRA                                NaN                             NaN   \n",
      "UGDS_UNKN                               NaN                             NaN   \n",
      "\n",
      "INSTNM      Strayer University-Stafford  WestMed College - Merced  \\\n",
      "UGDS_WHITE                          NaN                       NaN   \n",
      "UGDS_BLACK                          NaN                       NaN   \n",
      "UGDS_HISP                           NaN                       NaN   \n",
      "UGDS_ASIAN                          NaN                       NaN   \n",
      "UGDS_AIAN                           NaN                       NaN   \n",
      "UGDS_NHPI                           NaN                       NaN   \n",
      "UGDS_2MOR                           NaN                       NaN   \n",
      "UGDS_NRA                            NaN                       NaN   \n",
      "UGDS_UNKN                           NaN                       NaN   \n",
      "\n",
      "INSTNM      Vantage College  SAE Institute of Technology  San Francisco  \\\n",
      "UGDS_WHITE              NaN                                         NaN   \n",
      "UGDS_BLACK              NaN                                         NaN   \n",
      "UGDS_HISP               NaN                                         NaN   \n",
      "UGDS_ASIAN              NaN                                         NaN   \n",
      "UGDS_AIAN               NaN                                         NaN   \n",
      "UGDS_NHPI               NaN                                         NaN   \n",
      "UGDS_2MOR               NaN                                         NaN   \n",
      "UGDS_NRA                NaN                                         NaN   \n",
      "UGDS_UNKN               NaN                                         NaN   \n",
      "\n",
      "INSTNM      Rasmussen College - Overland Park  \\\n",
      "UGDS_WHITE                                NaN   \n",
      "UGDS_BLACK                                NaN   \n",
      "UGDS_HISP                                 NaN   \n",
      "UGDS_ASIAN                                NaN   \n",
      "UGDS_AIAN                                 NaN   \n",
      "UGDS_NHPI                                 NaN   \n",
      "UGDS_2MOR                                 NaN   \n",
      "UGDS_NRA                                  NaN   \n",
      "UGDS_UNKN                                 NaN   \n",
      "\n",
      "INSTNM      National Personal Training Institute of Cleveland  \\\n",
      "UGDS_WHITE                                                NaN   \n",
      "UGDS_BLACK                                                NaN   \n",
      "UGDS_HISP                                                 NaN   \n",
      "UGDS_ASIAN                                                NaN   \n",
      "UGDS_AIAN                                                 NaN   \n",
      "UGDS_NHPI                                                 NaN   \n",
      "UGDS_2MOR                                                 NaN   \n",
      "UGDS_NRA                                                  NaN   \n",
      "UGDS_UNKN                                                 NaN   \n",
      "\n",
      "INSTNM      Bay Area Medical Academy - San Jose Satellite Location  \\\n",
      "UGDS_WHITE                                                NaN        \n",
      "UGDS_BLACK                                                NaN        \n",
      "UGDS_HISP                                                 NaN        \n",
      "UGDS_ASIAN                                                NaN        \n",
      "UGDS_AIAN                                                 NaN        \n",
      "UGDS_NHPI                                                 NaN        \n",
      "UGDS_2MOR                                                 NaN        \n",
      "UGDS_NRA                                                  NaN        \n",
      "UGDS_UNKN                                                 NaN        \n",
      "\n",
      "INSTNM      Excel Learning Center-San Antonio South  \n",
      "UGDS_WHITE                                      NaN  \n",
      "UGDS_BLACK                                      NaN  \n",
      "UGDS_HISP                                       NaN  \n",
      "UGDS_ASIAN                                      NaN  \n",
      "UGDS_AIAN                                       NaN  \n",
      "UGDS_NHPI                                       NaN  \n",
      "UGDS_2MOR                                       NaN  \n",
      "UGDS_NRA                                        NaN  \n",
      "UGDS_UNKN                                       NaN  \n",
      "\n",
      "[9 rows x 7535 columns]\n"
     ]
    }
   ],
   "source": [
    "# 但其實上述結果等於原資料集的轉置\n",
    "college.T\n",
    "print(college.transpose())\n"
   ]
  },
  {
   "cell_type": "markdown",
   "id": "c9c1922b",
   "metadata": {},
   "source": [
    "## 10.5 在彙總資料後進行反堆疊操作"
   ]
  },
  {
   "cell_type": "code",
   "execution_count": 10,
   "id": "d3db884c",
   "metadata": {},
   "outputs": [
    {
     "name": "stdout",
     "output_type": "stream",
     "text": [
      "RACE\n",
      "American Indian or Alaskan Native    60272\n",
      "Asian/Pacific Islander               61660\n",
      "Black or African American            50137\n",
      "Hispanic/Latino                      52345\n",
      "Others                               51278\n",
      "White                                64419\n",
      "Name: BASE_SALARY, dtype: int64\n"
     ]
    }
   ],
   "source": [
    "# 讀入資料集 並找出各種族的平均薪水\n",
    "employee = pd.read_csv('../../data/employee.csv')\n",
    "\n",
    "print(employee\n",
    "        .groupby('RACE')\n",
    "        ['BASE_SALARY']\n",
    "        .mean()\n",
    "        .astype(int))"
   ]
  },
  {
   "cell_type": "code",
   "execution_count": 12,
   "id": "393c2df2",
   "metadata": {},
   "outputs": [
    {
     "name": "stdout",
     "output_type": "stream",
     "text": [
      "RACE                               GENDER\n",
      "American Indian or Alaskan Native  Female    60238\n",
      "                                   Male      60305\n",
      "Asian/Pacific Islander             Female    63226\n",
      "                                   Male      61033\n",
      "Black or African American          Female    48915\n",
      "                                   Male      51082\n",
      "Hispanic/Latino                    Female    46503\n",
      "                                   Male      54782\n",
      "Others                             Female    63785\n",
      "                                   Male      38771\n",
      "White                              Female    66793\n",
      "                                   Male      63940\n",
      "Name: BASE_SALARY, dtype: int64\n"
     ]
    }
   ],
   "source": [
    "# 多條件groupby\n",
    "print(employee\n",
    "        .groupby(['RACE', 'GENDER'])\n",
    "        ['BASE_SALARY']\n",
    "        .mean()\n",
    "        .astype(int))"
   ]
  },
  {
   "cell_type": "code",
   "execution_count": 14,
   "id": "fac2acf8",
   "metadata": {},
   "outputs": [
    {
     "name": "stdout",
     "output_type": "stream",
     "text": [
      "GENDER                             Female   Male\n",
      "RACE                                            \n",
      "American Indian or Alaskan Native   60238  60305\n",
      "Asian/Pacific Islander              63226  61033\n",
      "Black or African American           48915  51082\n",
      "Hispanic/Latino                     46503  54782\n",
      "Others                              63785  38771\n",
      "White                               66793  63940\n"
     ]
    }
   ],
   "source": [
    "# 所以我們可以unstack() 性別索引\n",
    "print(employee\n",
    "        .groupby(['RACE', 'GENDER'])\n",
    "        ['BASE_SALARY']\n",
    "        .mean()\n",
    "        .astype(int)\n",
    "        .unstack('GENDER'))"
   ]
  },
  {
   "cell_type": "code",
   "execution_count": 15,
   "id": "1e1a1bf1",
   "metadata": {},
   "outputs": [
    {
     "name": "stdout",
     "output_type": "stream",
     "text": [
      "RACE    American Indian or Alaskan Native  Asian/Pacific Islander  \\\n",
      "GENDER                                                              \n",
      "Female                              60238                   63226   \n",
      "Male                                60305                   61033   \n",
      "\n",
      "RACE    Black or African American  Hispanic/Latino  Others  White  \n",
      "GENDER                                                             \n",
      "Female                      48915            46503   63785  66793  \n",
      "Male                        51082            54782   38771  63940  \n"
     ]
    }
   ],
   "source": [
    "# 也可以unstack() 種族索引\n",
    "print(employee\n",
    "        .groupby(['RACE', 'GENDER'])\n",
    "        ['BASE_SALARY']\n",
    "        .mean()\n",
    "        .astype(int)\n",
    "        .unstack('RACE'))"
   ]
  },
  {
   "cell_type": "code",
   "execution_count": 16,
   "id": "68f625bc",
   "metadata": {},
   "outputs": [
    {
     "name": "stdout",
     "output_type": "stream",
     "text": [
      "                                           mean     max    min\n",
      "RACE                              GENDER                      \n",
      "American Indian or Alaskan Native Female  60238   98536  26125\n",
      "                                  Male    60305   81239  26125\n",
      "Asian/Pacific Islander            Female  63226  130416  26125\n",
      "                                  Male    61033  163228  27914\n",
      "Black or African American         Female  48915  150416  24960\n",
      "                                  Male    51082  275000  26125\n",
      "Hispanic/Latino                   Female  46503  126115  26125\n",
      "                                  Male    54782  165216  26104\n",
      "Others                            Female  63785   63785  63785\n",
      "                                  Male    38771   38771  38771\n",
      "White                             Female  66793  178331  27955\n",
      "                                  Male    63940  210588  26125\n"
     ]
    }
   ],
   "source": [
    "# 多個聚合\n",
    "print(employee\n",
    "        .groupby(['RACE', 'GENDER'])\n",
    "        ['BASE_SALARY']\n",
    "        .agg(['mean', 'max', 'min'])\n",
    "        .astype(int)\n",
    ")"
   ]
  },
  {
   "cell_type": "code",
   "execution_count": null,
   "id": "76ed9c7f",
   "metadata": {},
   "outputs": [
    {
     "name": "stdout",
     "output_type": "stream",
     "text": [
      "                                    mean            max            min       \n",
      "GENDER                            Female   Male  Female    Male Female   Male\n",
      "RACE                                                                         \n",
      "American Indian or Alaskan Native  60238  60305   98536   81239  26125  26125\n",
      "Asian/Pacific Islander             63226  61033  130416  163228  26125  27914\n",
      "Black or African American          48915  51082  150416  275000  24960  26125\n",
      "Hispanic/Latino                    46503  54782  126115  165216  26125  26104\n",
      "Others                             63785  38771   63785   38771  63785  38771\n",
      "White                              66793  63940  178331  210588  27955  26125\n"
     ]
    }
   ],
   "source": [
    "# unstack() 的效果\n",
    "print(employee\n",
    "        .groupby(['RACE', 'GENDER'])\n",
    "        ['BASE_SALARY']\n",
    "        .agg(['mean', 'max', 'min'])\n",
    "        .astype(int)\n",
    "        .unstack('GENDER'))"
   ]
  },
  {
   "cell_type": "markdown",
   "id": "4917ca89",
   "metadata": {},
   "source": [
    "## 10.6 使用groupby 模擬pivot_table() 的功能"
   ]
  },
  {
   "cell_type": "code",
   "execution_count": 18,
   "id": "d1d04d1b",
   "metadata": {},
   "outputs": [
    {
     "name": "stdout",
     "output_type": "stream",
     "text": [
      "ORG_AIR  ATL  DEN  DFW  IAH  LAS  LAX  MSP  ORD  PHX  SFO\n",
      "AIRLINE                                                  \n",
      "AA         3    4   86    3    3   11    3   35    4    2\n",
      "AS         0    0    0    0    0    0    0    0    0    0\n",
      "B6         0    0    0    0    0    0    0    0    0    1\n",
      "DL        28    1    0    0    1    1    4    0    1    2\n",
      "EV        18    6   27   36    0    0    6   53    0    0\n",
      "F9         0    2    1    0    1    1    1    4    0    0\n",
      "HA         0    0    0    0    0    0    0    0    0    0\n",
      "MQ         5    0   62    0    0    0    0   85    0    0\n",
      "NK         1    1    6    0    1    1    3   10    2    0\n",
      "OO         3   25    2   10    0   15    4   41    9   33\n",
      "UA         2    9    1   23    3    6    2   25    3   19\n",
      "US         0    0    2    2    1    0    0    6    7    3\n",
      "VX         0    0    0    0    0    3    0    0    0    3\n",
      "WN         9   13    0    0    7   32    1    0    6   25\n"
     ]
    }
   ],
   "source": [
    "# 載入資料集\n",
    "flights = pd.read_csv('../../data/flights.csv')\n",
    "\n",
    "# 使用pivot_table() 統計不同出發機場中 每家航空的取消航班數\n",
    "fpt = flights.pivot_table(index='AIRLINE',\n",
    "                          columns='ORG_AIR',\n",
    "                          values='CANCELLED',\n",
    "                          aggfunc='sum',\n",
    "                          fill_value=0).round(2)\n",
    "\n",
    "print(fpt)"
   ]
  },
  {
   "cell_type": "code",
   "execution_count": 19,
   "id": "ce9b85c9",
   "metadata": {},
   "outputs": [
    {
     "name": "stdout",
     "output_type": "stream",
     "text": [
      "True\n",
      "ORG_AIR  ATL  DEN  DFW  IAH  LAS  LAX  MSP  ORD  PHX  SFO\n",
      "AIRLINE                                                  \n",
      "AA         3    4   86    3    3   11    3   35    4    2\n",
      "AS         0    0    0    0    0    0    0    0    0    0\n",
      "B6         0    0    0    0    0    0    0    0    0    1\n",
      "DL        28    1    0    0    1    1    4    0    1    2\n",
      "EV        18    6   27   36    0    0    6   53    0    0\n",
      "F9         0    2    1    0    1    1    1    4    0    0\n",
      "HA         0    0    0    0    0    0    0    0    0    0\n",
      "MQ         5    0   62    0    0    0    0   85    0    0\n",
      "NK         1    1    6    0    1    1    3   10    2    0\n",
      "OO         3   25    2   10    0   15    4   41    9   33\n",
      "UA         2    9    1   23    3    6    2   25    3   19\n",
      "US         0    0    2    2    1    0    0    6    7    3\n",
      "VX         0    0    0    0    0    3    0    0    0    3\n",
      "WN         9   13    0    0    7   32    1    0    6   25\n"
     ]
    }
   ],
   "source": [
    "# 先用groupby 算出取消航班數 然後再unstack 出發地\n",
    "fpg = (flights\n",
    "        .groupby(['AIRLINE', 'ORG_AIR'])\n",
    "        ['CANCELLED']\n",
    "        .sum()\n",
    "        .unstack('ORG_AIR', fill_value=0))\n",
    "print(fpt.equals(fpg))\n",
    "print(fpg)"
   ]
  },
  {
   "cell_type": "code",
   "execution_count": 25,
   "id": "c94e922f",
   "metadata": {},
   "outputs": [
    {
     "name": "stdout",
     "output_type": "stream",
     "text": [
      "                    mean                                                       \\\n",
      "               DEP_DELAY                                                        \n",
      "ORG_AIR              ATL             DEN             DFW             IAH        \n",
      "CANCELLED              0    1          0    1          0    1          0    1   \n",
      "AIRLINE MONTH                                                                   \n",
      "AA      1      -3.250000  0.0   7.062500  0.0  11.977591 -3.0   9.750000  0.0   \n",
      "        2      -3.000000  NaN   5.461538  NaN   8.756579  NaN   1.000000  NaN   \n",
      "        3      -0.166667  NaN   7.666667  0.0  15.383784  NaN  10.900000  0.0   \n",
      "        4       0.071429  0.0  20.266667  0.0  10.501493  NaN   6.933333  0.0   \n",
      "        5       5.777778  0.0  23.466667  NaN  16.798780  NaN   3.055556  NaN   \n",
      "...                  ...  ...        ...  ...        ...  ...        ...  ...   \n",
      "WN      7      21.700000  0.0  13.143836  0.0   0.000000  0.0   0.000000  0.0   \n",
      "        8      16.207547  0.0   7.375000  0.0   0.000000  0.0   0.000000  0.0   \n",
      "        9       8.680672  0.0   4.378882  0.0   0.000000  0.0   0.000000  0.0   \n",
      "        11      5.932203  NaN   8.215569  NaN   0.000000  0.0   0.000000  0.0   \n",
      "        12     15.691589  0.0  12.166667  NaN   0.000000  0.0   0.000000  0.0   \n",
      "\n",
      "                               ...     sum                                \\\n",
      "                               ...    DIST                                 \n",
      "ORG_AIR              LAS       ...     LAX          MSP        ORD         \n",
      "CANCELLED              0    1  ...       0     1      0  1       0     1   \n",
      "AIRLINE MONTH                  ...                                         \n",
      "AA      1      32.375000  0.0  ...  135921  2475   7281  0  129334     0   \n",
      "        2      -3.055556  NaN  ...  113483  5454   5040  0  120572  5398   \n",
      "        3      12.074074  0.0  ...  131836  1744  14471  0  127072   802   \n",
      "        4      27.241379  0.0  ...  170285     0   4541  0  152154  4718   \n",
      "        5       2.818182  0.0  ...  167484     0   6298  0  110864  1999   \n",
      "...                  ...  ...  ...     ...   ...    ... ..     ...   ...   \n",
      "WN      7      22.439024  NaN  ...   98545  2950  19418  0       0     0   \n",
      "        8      16.158974  NaN  ...   82705  1384  13735  0       0     0   \n",
      "        9       7.179487  0.0  ...   83021   953  15466  0       0     0   \n",
      "        11      7.522989  NaN  ...   74092  1378   8031  0       0     0   \n",
      "        12     11.994845  NaN  ...   85228  2134  12060  0       0     0   \n",
      "\n",
      "                                         \n",
      "                                         \n",
      "ORG_AIR           PHX         SFO        \n",
      "CANCELLED           0    1      0     1  \n",
      "AIRLINE MONTH                            \n",
      "AA      1       21018    0  33483     0  \n",
      "        2       17049  868  32110  2586  \n",
      "        3       25770    0  43580     0  \n",
      "        4       17727    0  51054     0  \n",
      "        5       11164    0  40233     0  \n",
      "...               ...  ...    ...   ...  \n",
      "WN      7      124669  369  24176     0  \n",
      "        8      153350    0  18056   784  \n",
      "        9      130926    0  27800   709  \n",
      "        11     117726  872  23235   784  \n",
      "        12     112871    0  30508     0  \n",
      "\n",
      "[149 rows x 80 columns]\n"
     ]
    }
   ],
   "source": [
    "# groupby 模擬複雜的pivot_table()\n",
    "print(flights\n",
    "        .groupby(['AIRLINE', 'MONTH', 'ORG_AIR', 'CANCELLED'])\n",
    "        [['DEP_DELAY', 'DIST']]\n",
    "        .agg(['mean', 'sum'])\n",
    "        .unstack(['ORG_AIR','CANCELLED'], fill_value=0)\n",
    "        .swaplevel(0, 1, axis='columns')\n",
    "        )"
   ]
  },
  {
   "cell_type": "markdown",
   "id": "d9dde51b",
   "metadata": {},
   "source": [
    "## 10.7 重新命名個軸內的不同層級"
   ]
  },
  {
   "cell_type": "code",
   "execution_count": 3,
   "id": "4155b953",
   "metadata": {},
   "outputs": [
    {
     "name": "stdout",
     "output_type": "stream",
     "text": [
      "                UGDS                 SATMTMID              \n",
      "                size    min      max     size    min    max\n",
      "STABBR RELAFFIL                                            \n",
      "AK     0           7  109.0  12865.0        7    NaN    NaN\n",
      "       1           3   27.0    275.0        3  503.0  503.0\n",
      "AL     0          72   12.0  29851.0       72  420.0  590.0\n",
      "       1          24   13.0   3033.0       24  400.0  560.0\n",
      "AR     0          68   18.0  21405.0       68  427.0  565.0\n",
      "...              ...    ...      ...      ...    ...    ...\n",
      "WI     0          87   20.0  29302.0       87  480.0  680.0\n",
      "       1          25    4.0   8212.0       25  452.0  605.0\n",
      "WV     0          65   20.0  44924.0       65  430.0  530.0\n",
      "       1           8   63.0   1375.0        8  455.0  510.0\n",
      "WY     0          11   52.0   9910.0       11  540.0  540.0\n",
      "\n",
      "[112 rows x 6 columns]\n"
     ]
    }
   ],
   "source": [
    "# 載入資料集\n",
    "college = pd.read_csv('../../data/college.csv')\n",
    "print(college\n",
    "        .groupby(['STABBR', 'RELAFFIL'])\n",
    "        [['UGDS', 'SATMTMID']]\n",
    "        .agg(['size', 'min', 'max']))"
   ]
  },
  {
   "cell_type": "code",
   "execution_count": 4,
   "id": "21859e63",
   "metadata": {},
   "outputs": [
    {
     "name": "stdout",
     "output_type": "stream",
     "text": [
      "AGG_COLS        UGDS                 SATMTMID              \n",
      "AGG_FUNCS       size    min      max     size    min    max\n",
      "STABBR RELAFFIL                                            \n",
      "AK     0           7  109.0  12865.0        7    NaN    NaN\n",
      "       1           3   27.0    275.0        3  503.0  503.0\n",
      "AL     0          72   12.0  29851.0       72  420.0  590.0\n",
      "       1          24   13.0   3033.0       24  400.0  560.0\n",
      "AR     0          68   18.0  21405.0       68  427.0  565.0\n",
      "...              ...    ...      ...      ...    ...    ...\n",
      "WI     0          87   20.0  29302.0       87  480.0  680.0\n",
      "       1          25    4.0   8212.0       25  452.0  605.0\n",
      "WV     0          65   20.0  44924.0       65  430.0  530.0\n",
      "       1           8   63.0   1375.0        8  455.0  510.0\n",
      "WY     0          11   52.0   9910.0       11  540.0  540.0\n",
      "\n",
      "[112 rows x 6 columns]\n"
     ]
    }
   ],
   "source": [
    "# 替欄位層級取名\n",
    "print(college\n",
    "        .groupby(['STABBR', 'RELAFFIL'])\n",
    "        [['UGDS', 'SATMTMID']]\n",
    "        .agg(['size', 'min', 'max'])\n",
    "        .rename_axis(['AGG_COLS', 'AGG_FUNCS'], axis='columns'))"
   ]
  },
  {
   "cell_type": "code",
   "execution_count": 5,
   "id": "a0151962",
   "metadata": {},
   "outputs": [
    {
     "name": "stdout",
     "output_type": "stream",
     "text": [
      "AGG_COLS                      UGDS  SATMTMID\n",
      "STABBR RELAFFIL AGG_FUNCS                   \n",
      "AK     0        size           7.0       7.0\n",
      "                min          109.0       NaN\n",
      "                max        12865.0       NaN\n",
      "       1        size           3.0       3.0\n",
      "                min           27.0     503.0\n",
      "...                            ...       ...\n",
      "WV     1        min           63.0     455.0\n",
      "                max         1375.0     510.0\n",
      "WY     0        size          11.0      11.0\n",
      "                min           52.0     540.0\n",
      "                max         9910.0     540.0\n",
      "\n",
      "[332 rows x 2 columns]\n"
     ]
    },
    {
     "name": "stderr",
     "output_type": "stream",
     "text": [
      "C:\\Users\\coffi\\AppData\\Local\\Temp\\ipykernel_13828\\1136265079.py:7: FutureWarning: The previous implementation of stack is deprecated and will be removed in a future version of pandas. See the What's New notes for pandas 2.1.0 for details. Specify future_stack=True to adopt the new implementation and silence this warning.\n",
      "  .stack('AGG_FUNCS'))\n"
     ]
    }
   ],
   "source": [
    "# 將AGG_FUNCS 改為索引欄\n",
    "print(college\n",
    "        .groupby(['STABBR', 'RELAFFIL'])\n",
    "        [['UGDS', 'SATMTMID']]\n",
    "        .agg(['size', 'min', 'max'])\n",
    "        .rename_axis(['AGG_COLS', 'AGG_FUNCS'], axis='columns')\n",
    "        .stack('AGG_FUNCS'))"
   ]
  },
  {
   "cell_type": "code",
   "execution_count": 6,
   "id": "3411feb2",
   "metadata": {},
   "outputs": [
    {
     "name": "stdout",
     "output_type": "stream",
     "text": [
      "AGG_COLS                      UGDS  SATMTMID\n",
      "AGG_FUNCS RELAFFIL STABBR                   \n",
      "size      0        AK          7.0       7.0\n",
      "min       0        AK        109.0       NaN\n",
      "max       0        AK      12865.0       NaN\n",
      "size      1        AK          3.0       3.0\n",
      "min       1        AK         27.0     503.0\n",
      "...                            ...       ...\n",
      "                   WV         63.0     455.0\n",
      "max       1        WV       1375.0     510.0\n",
      "size      0        WY         11.0      11.0\n",
      "min       0        WY         52.0     540.0\n",
      "max       0        WY       9910.0     540.0\n",
      "\n",
      "[332 rows x 2 columns]\n"
     ]
    },
    {
     "name": "stderr",
     "output_type": "stream",
     "text": [
      "C:\\Users\\coffi\\AppData\\Local\\Temp\\ipykernel_13828\\3047407508.py:7: FutureWarning: The previous implementation of stack is deprecated and will be removed in a future version of pandas. See the What's New notes for pandas 2.1.0 for details. Specify future_stack=True to adopt the new implementation and silence this warning.\n",
      "  .stack('AGG_FUNCS')\n"
     ]
    }
   ],
   "source": [
    "# 還可以對調索引欄\n",
    "print(college\n",
    "        .groupby(['STABBR', 'RELAFFIL'])\n",
    "        [['UGDS', 'SATMTMID']]\n",
    "        .agg(['size', 'min', 'max'])\n",
    "        .rename_axis(['AGG_COLS', 'AGG_FUNCS'], axis='columns')\n",
    "        .stack('AGG_FUNCS')\n",
    "        .swaplevel('AGG_FUNCS', 'STABBR', axis='index'))"
   ]
  },
  {
   "cell_type": "code",
   "execution_count": 7,
   "id": "9c19b07f",
   "metadata": {},
   "outputs": [
    {
     "name": "stdout",
     "output_type": "stream",
     "text": [
      "AGG_COLS                   SATMTMID      UGDS\n",
      "AGG_FUNCS RELAFFIL STABBR                    \n",
      "max       0        AK           NaN   12865.0\n",
      "                   AL         590.0   29851.0\n",
      "                   AR         565.0   21405.0\n",
      "                   AS           NaN    1276.0\n",
      "                   AZ         580.0  151558.0\n",
      "...                             ...       ...\n",
      "size      1        VI           1.0       1.0\n",
      "                   VT           5.0       5.0\n",
      "                   WA          17.0      17.0\n",
      "                   WI          25.0      25.0\n",
      "                   WV           8.0       8.0\n",
      "\n",
      "[332 rows x 2 columns]\n"
     ]
    },
    {
     "name": "stderr",
     "output_type": "stream",
     "text": [
      "C:\\Users\\coffi\\AppData\\Local\\Temp\\ipykernel_13828\\305948852.py:7: FutureWarning: The previous implementation of stack is deprecated and will be removed in a future version of pandas. See the What's New notes for pandas 2.1.0 for details. Specify future_stack=True to adopt the new implementation and silence this warning.\n",
      "  .stack('AGG_FUNCS')\n"
     ]
    }
   ],
   "source": [
    "# 可以指定要排序的索引\n",
    "print(college\n",
    "        .groupby(['STABBR', 'RELAFFIL'])\n",
    "        [['UGDS', 'SATMTMID']]\n",
    "        .agg(['size', 'min', 'max'])\n",
    "        .rename_axis(['AGG_COLS', 'AGG_FUNCS'], axis='columns')\n",
    "        .stack('AGG_FUNCS')\n",
    "        .swaplevel('AGG_FUNCS', 'STABBR', axis='index')\n",
    "        .sort_index(level='RELAFFIL', axis='index')\n",
    "        .sort_index(level='AGG_COLS', axis='columns'))"
   ]
  },
  {
   "cell_type": "code",
   "execution_count": 8,
   "id": "e12c33c0",
   "metadata": {},
   "outputs": [
    {
     "name": "stdout",
     "output_type": "stream",
     "text": [
      "AGG_COLS      UGDS                                                             \\\n",
      "RELAFFIL         0      1        0       1        0       1       0             \n",
      "STABBR          AK     AK       AL      AL       AR      AR      AS        AZ   \n",
      "AGG_FUNCS                                                                       \n",
      "size           7.0    3.0     72.0    24.0     68.0    18.0     1.0     124.0   \n",
      "min          109.0   27.0     12.0    13.0     18.0    20.0  1276.0       1.0   \n",
      "max        12865.0  275.0  29851.0  3033.0  21405.0  4485.0  1276.0  151558.0   \n",
      "\n",
      "AGG_COLS                    ... SATMTMID                                   \\\n",
      "RELAFFIL        1        0  ...        1      0    1      0      1      0   \n",
      "STABBR         AZ       CA  ...       VI     VT   VT     WA     WA     WI   \n",
      "AGG_FUNCS                   ...                                             \n",
      "size          9.0    609.0  ...      1.0   22.0  5.0  106.0   17.0   87.0   \n",
      "min          25.0      0.0  ...      NaN  425.0  NaN  485.0  496.0  480.0   \n",
      "max        4102.0  44744.0  ...      NaN  685.0  NaN  655.0  605.0  680.0   \n",
      "\n",
      "AGG_COLS                               \n",
      "RELAFFIL       1      0      1      0  \n",
      "STABBR        WI     WV     WV     WY  \n",
      "AGG_FUNCS                              \n",
      "size        25.0   65.0    8.0   11.0  \n",
      "min        452.0  430.0  455.0  540.0  \n",
      "max        605.0  530.0  510.0  540.0  \n",
      "\n",
      "[3 rows x 224 columns]\n"
     ]
    },
    {
     "name": "stderr",
     "output_type": "stream",
     "text": [
      "C:\\Users\\coffi\\AppData\\Local\\Temp\\ipykernel_13828\\2133382907.py:7: FutureWarning: The previous implementation of stack is deprecated and will be removed in a future version of pandas. See the What's New notes for pandas 2.1.0 for details. Specify future_stack=True to adopt the new implementation and silence this warning.\n",
      "  .stack('AGG_FUNCS')\n"
     ]
    }
   ],
   "source": [
    "# 先stack 再 unstack\n",
    "print(college\n",
    "        .groupby(['STABBR', 'RELAFFIL'])\n",
    "        [['UGDS', 'SATMTMID']]\n",
    "        .agg(['size', 'min', 'max'])\n",
    "        .rename_axis(['AGG_COLS', 'AGG_FUNCS'], axis='columns')\n",
    "        .stack('AGG_FUNCS')\n",
    "        .unstack(['RELAFFIL', 'STABBR']))"
   ]
  },
  {
   "cell_type": "code",
   "execution_count": 9,
   "id": "186bf4f4",
   "metadata": {},
   "outputs": [
    {
     "name": "stdout",
     "output_type": "stream",
     "text": [
      "STABBR  RELAFFIL  AGG_FUNCS  AGG_COLS\n",
      "AK      0         size       UGDS            7.0\n",
      "                             SATMTMID        7.0\n",
      "                  min        UGDS          109.0\n",
      "                  max        UGDS        12865.0\n",
      "        1         size       UGDS            3.0\n",
      "                                          ...   \n",
      "WY      0         size       SATMTMID       11.0\n",
      "                  min        UGDS           52.0\n",
      "                             SATMTMID      540.0\n",
      "                  max        UGDS         9910.0\n",
      "                             SATMTMID      540.0\n",
      "Length: 640, dtype: float64\n"
     ]
    },
    {
     "name": "stderr",
     "output_type": "stream",
     "text": [
      "C:\\Users\\coffi\\AppData\\Local\\Temp\\ipykernel_13828\\1477662221.py:7: FutureWarning: The previous implementation of stack is deprecated and will be removed in a future version of pandas. See the What's New notes for pandas 2.1.0 for details. Specify future_stack=True to adopt the new implementation and silence this warning.\n",
      "  .stack(['AGG_FUNCS', 'AGG_COLS']))\n"
     ]
    }
   ],
   "source": [
    "# stack 所有欄位標籤\n",
    "print(college\n",
    "        .groupby(['STABBR', 'RELAFFIL'])\n",
    "        [['UGDS', 'SATMTMID']]\n",
    "        .agg(['size', 'min', 'max'])\n",
    "        .rename_axis(['AGG_COLS', 'AGG_FUNCS'], axis='columns')\n",
    "        .stack(['AGG_FUNCS', 'AGG_COLS']))"
   ]
  },
  {
   "cell_type": "code",
   "execution_count": 10,
   "id": "2d299499",
   "metadata": {},
   "outputs": [
    {
     "name": "stdout",
     "output_type": "stream",
     "text": [
      "AGG_COLS  AGG_FUNCS  STABBR  RELAFFIL\n",
      "UGDS      size       AK      0             7.0\n",
      "                             1             3.0\n",
      "                     AL      0            72.0\n",
      "                             1            24.0\n",
      "                     AR      0            68.0\n",
      "                                         ...  \n",
      "SATMTMID  max        WI      1           605.0\n",
      "                     WV      0           530.0\n",
      "                             1           510.0\n",
      "                     WY      0           540.0\n",
      "                             1             NaN\n",
      "Length: 708, dtype: float64\n"
     ]
    }
   ],
   "source": [
    "# unstack 所有索引\n",
    "print(college\n",
    "        .groupby(['STABBR', 'RELAFFIL'])\n",
    "        [['UGDS', 'SATMTMID']]\n",
    "        .agg(['size', 'min', 'max'])\n",
    "        .rename_axis(['AGG_COLS', 'AGG_FUNCS'], axis='columns')\n",
    "        .unstack(['STABBR', 'RELAFFIL']))"
   ]
  },
  {
   "cell_type": "code",
   "execution_count": 11,
   "id": "481962c5",
   "metadata": {},
   "outputs": [
    {
     "name": "stdout",
     "output_type": "stream",
     "text": [
      "     UGDS                 SATMTMID              \n",
      "     size    min      max     size    min    max\n",
      "AK 0    7  109.0  12865.0        7    NaN    NaN\n",
      "   1    3   27.0    275.0        3  503.0  503.0\n",
      "AL 0   72   12.0  29851.0       72  420.0  590.0\n",
      "   1   24   13.0   3033.0       24  400.0  560.0\n",
      "AR 0   68   18.0  21405.0       68  427.0  565.0\n",
      "...   ...    ...      ...      ...    ...    ...\n",
      "WI 0   87   20.0  29302.0       87  480.0  680.0\n",
      "   1   25    4.0   8212.0       25  452.0  605.0\n",
      "WV 0   65   20.0  44924.0       65  430.0  530.0\n",
      "   1    8   63.0   1375.0        8  455.0  510.0\n",
      "WY 0   11   52.0   9910.0       11  540.0  540.0\n",
      "\n",
      "[112 rows x 6 columns]\n"
     ]
    }
   ],
   "source": [
    "# 移除層級標籤\n",
    "print(college\n",
    "        .groupby(['STABBR', 'RELAFFIL'])\n",
    "        [['UGDS', 'SATMTMID']]\n",
    "        .agg(['size', 'min', 'max'])\n",
    "        .rename_axis([None, None], axis='index')\n",
    "        .rename_axis([None, None], axis='columns'))"
   ]
  },
  {
   "cell_type": "markdown",
   "id": "935c62db",
   "metadata": {},
   "source": [
    "## 10.8 重塑欄位名稱包含多個變數的資料"
   ]
  },
  {
   "cell_type": "code",
   "execution_count": 12,
   "id": "4abc90ff",
   "metadata": {},
   "outputs": [
    {
     "name": "stdout",
     "output_type": "stream",
     "text": [
      "  Weight Category  M35 35-39  M40 40-44  M45 45-49  M50 50-54  M55 55-59  \\\n",
      "0              56        137        130        125        115        102   \n",
      "1              62        152        145        137        127        112   \n",
      "2              69        167        160        150        140        125   \n",
      "3              77        182        172        165        150        135   \n",
      "4              85        192        182        175        160        142   \n",
      "5              94        202        192        182        167        150   \n",
      "6             105        210        200        190        175        157   \n",
      "7            105+        217        207        197        182        165   \n",
      "\n",
      "   M60 60-64  M65 65-69  M70 70-74  M75 75-79  M80 80+  \n",
      "0         92         80         67         62       55  \n",
      "1        102         90         75         67       57  \n",
      "2        112         97         82         75       60  \n",
      "3        122        107         90         82       65  \n",
      "4        130        112         95         87       70  \n",
      "5        137        120        100         90       75  \n",
      "6        142        122        102         95       80  \n",
      "7        150        127        107        100       85  \n"
     ]
    }
   ],
   "source": [
    "# 載入資料集\n",
    "weightlifting = pd.read_csv('../../data/weightlifting_men.csv')\n",
    "print(weightlifting)"
   ]
  },
  {
   "cell_type": "code",
   "execution_count": 13,
   "id": "184af5fc",
   "metadata": {},
   "outputs": [
    {
     "name": "stdout",
     "output_type": "stream",
     "text": [
      "   Weight Category    sex_age  Qual Total\n",
      "0               56  M35 35-39         137\n",
      "1               62  M35 35-39         152\n",
      "2               69  M35 35-39         167\n",
      "3               77  M35 35-39         182\n",
      "4               85  M35 35-39         192\n",
      "..             ...        ...         ...\n",
      "75              77    M80 80+          65\n",
      "76              85    M80 80+          70\n",
      "77              94    M80 80+          75\n",
      "78             105    M80 80+          80\n",
      "79            105+    M80 80+          85\n",
      "\n",
      "[80 rows x 3 columns]\n"
     ]
    }
   ],
   "source": [
    "# 先用melt 轉置欄位\n",
    "print(weightlifting\n",
    "        .melt(id_vars='Weight Category',\n",
    "              var_name='sex_age',\n",
    "              value_name='Qual Total'))"
   ]
  },
  {
   "cell_type": "code",
   "execution_count": 15,
   "id": "864a9648",
   "metadata": {},
   "outputs": [
    {
     "name": "stdout",
     "output_type": "stream",
     "text": [
      "   Sex Age Group\n",
      "0    M     35-39\n",
      "1    M     35-39\n",
      "2    M     35-39\n",
      "3    M     35-39\n",
      "4    M     35-39\n",
      "..  ..       ...\n",
      "75   M       80+\n",
      "76   M       80+\n",
      "77   M       80+\n",
      "78   M       80+\n",
      "79   M       80+\n",
      "\n",
      "[80 rows x 2 columns]\n"
     ]
    }
   ],
   "source": [
    "# 拆分性別與年齡\n",
    "print(weightlifting\n",
    "        .melt(id_vars='Weight Category',\n",
    "              var_name='sex_age',\n",
    "              value_name='Qual Total')\n",
    "        ['sex_age']\n",
    "        .str.split(expand=True)\n",
    "        .rename(columns={0:'Sex', 1:'Age Group'})\n",
    "        .assign(Sex=lambda df_:df_.Sex.str[0])\n",
    ")"
   ]
  },
  {
   "cell_type": "code",
   "execution_count": 16,
   "id": "69604ae8",
   "metadata": {},
   "outputs": [
    {
     "name": "stdout",
     "output_type": "stream",
     "text": [
      "   Sex Age Group Weight Category  Qual Total\n",
      "0    M     35-39              56         137\n",
      "1    M     35-39              62         152\n",
      "2    M     35-39              69         167\n",
      "3    M     35-39              77         182\n",
      "4    M     35-39              85         192\n",
      "..  ..       ...             ...         ...\n",
      "75   M       80+              77          65\n",
      "76   M       80+              85          70\n",
      "77   M       80+              94          75\n",
      "78   M       80+             105          80\n",
      "79   M       80+            105+          85\n",
      "\n",
      "[80 rows x 4 columns]\n"
     ]
    }
   ],
   "source": [
    "# 合併回原始資料集\n",
    "melted = (weightlifting\n",
    "        .melt(id_vars='Weight Category',\n",
    "              var_name='sex_age',\n",
    "              value_name='Qual Total'))\n",
    "tidy = pd.concat([melted['sex_age']\n",
    "        .str.split(expand=True)\n",
    "        .rename(columns={0:'Sex', 1:'Age Group'})\n",
    "        .assign(Sex=lambda df_:df_.Sex.str[0]),\n",
    "        melted[['Weight Category', 'Qual Total']]],\n",
    "        axis='columns')\n",
    "print(tidy)"
   ]
  },
  {
   "cell_type": "code",
   "execution_count": 21,
   "id": "a614ae6c",
   "metadata": {},
   "outputs": [
    {
     "name": "stdout",
     "output_type": "stream",
     "text": [
      "   Sex Age Group Weight_Category  Quad_Total\n",
      "0    M     35-39              56         137\n",
      "1    M     35-39              62         152\n",
      "2    M     35-39              69         167\n",
      "3    M     35-39              77         182\n",
      "4    M     35-39              85         192\n",
      "..  ..       ...             ...         ...\n",
      "75   M       80+              77          65\n",
      "76   M       80+              85          70\n",
      "77   M       80+              94          75\n",
      "78   M       80+             105          80\n",
      "79   M       80+            105+          85\n",
      "\n",
      "[80 rows x 4 columns]\n"
     ]
    }
   ],
   "source": [
    "# 合併回原始資料集 用assign\n",
    "melted = (weightlifting\n",
    "        .melt(id_vars='Weight Category',\n",
    "              var_name='sex_age',\n",
    "              value_name='Qual Total')\n",
    ")\n",
    "print(melted['sex_age']\n",
    "        .str.split(expand=True)\n",
    "        .rename(columns={0:'Sex', 1:'Age Group'})\n",
    "        .assign(Sex=lambda df_:df_.Sex.str[0],\n",
    "        Weight_Category=melted['Weight Category'],\n",
    "        Quad_Total=melted['Qual Total'])\n",
    ")"
   ]
  },
  {
   "cell_type": "code",
   "execution_count": 23,
   "id": "df54911b",
   "metadata": {},
   "outputs": [
    {
     "name": "stdout",
     "output_type": "stream",
     "text": [
      "   Weight Category  Qual Total Sex Age Group\n",
      "0               56         137   M     35-39\n",
      "1               62         152   M     35-39\n",
      "2               69         167   M     35-39\n",
      "3               77         182   M     35-39\n",
      "4               85         192   M     35-39\n",
      "..             ...         ...  ..       ...\n",
      "75              77          65   M       80+\n",
      "76              85          70   M       80+\n",
      "77              94          75   M       80+\n",
      "78             105          80   M       80+\n",
      "79            105+          85   M       80+\n",
      "\n",
      "[80 rows x 4 columns]\n"
     ]
    }
   ],
   "source": [
    "# 改用extract\n",
    "tidy2 = (weightlifting\n",
    "        .melt(id_vars='Weight Category',\n",
    "              var_name='sex_age',\n",
    "              value_name='Qual Total')\n",
    "        .assign(Sex=lambda df_:df_.sex_age.str[0],\n",
    "                **{'Age Group':(lambda df_: (df_\n",
    "                    .sex_age\n",
    "                    .str.extract(r'(\\d{2}[-+](?:\\d{2})?)',\n",
    "                                 expand=False)))})\n",
    "        .drop(columns='sex_age')\n",
    ")\n",
    "print(tidy2)\n",
    "\n"
   ]
  },
  {
   "cell_type": "markdown",
   "id": "05df2449",
   "metadata": {},
   "source": [
    "## 10.9 重塑多個變數儲存在單一欄位內的資料"
   ]
  },
  {
   "cell_type": "code",
   "execution_count": 24,
   "id": "da4e2b11",
   "metadata": {},
   "outputs": [
    {
     "name": "stdout",
     "output_type": "stream",
     "text": [
      "                              Name       Date         Info  \\\n",
      "0                E & E Grill House 2017-08-08      Borough   \n",
      "1                E & E Grill House 2017-08-08      Cuisine   \n",
      "2                E & E Grill House 2017-08-08  Description   \n",
      "3                E & E Grill House 2017-08-08        Grade   \n",
      "4                E & E Grill House 2017-08-08        Score   \n",
      "..                             ...        ...          ...   \n",
      "495  PIER SIXTY ONE-THE LIGHTHOUSE 2017-09-01      Borough   \n",
      "496  PIER SIXTY ONE-THE LIGHTHOUSE 2017-09-01      Cuisine   \n",
      "497  PIER SIXTY ONE-THE LIGHTHOUSE 2017-09-01  Description   \n",
      "498  PIER SIXTY ONE-THE LIGHTHOUSE 2017-09-01        Grade   \n",
      "499  PIER SIXTY ONE-THE LIGHTHOUSE 2017-09-01        Score   \n",
      "\n",
      "                                                 Value  \n",
      "0                                            MANHATTAN  \n",
      "1                                             American  \n",
      "2    Non-food contact surface improperly constructe...  \n",
      "3                                                    A  \n",
      "4                                                  9.0  \n",
      "..                                                 ...  \n",
      "495                                          MANHATTAN  \n",
      "496                                           American  \n",
      "497  Filth flies or food/refuse/sewage-associated (...  \n",
      "498                                                  Z  \n",
      "499                                               33.0  \n",
      "\n",
      "[500 rows x 4 columns]\n"
     ]
    }
   ],
   "source": [
    "# 載入資料集\n",
    "inspections = pd.read_csv('../../data/restaurant_inspections.csv',\n",
    "                          parse_dates=['Date'])\n",
    "print(inspections)"
   ]
  },
  {
   "cell_type": "code",
   "execution_count": 25,
   "id": "4e293392",
   "metadata": {},
   "outputs": [
    {
     "name": "stdout",
     "output_type": "stream",
     "text": [
      "Info                                                  Borough  \\\n",
      "Name                                Date                        \n",
      "3 STAR JUICE CENTER                 2017-05-10       BROOKLYN   \n",
      "A & L PIZZA RESTAURANT              2017-08-22       BROOKLYN   \n",
      "AKSARAY TURKISH CAFE AND RESTAURANT 2017-07-25       BROOKLYN   \n",
      "ANTOJITOS DELI FOOD                 2017-06-01       BROOKLYN   \n",
      "BANGIA                              2017-06-16      MANHATTAN   \n",
      "...                                                       ...   \n",
      "VALL'S PIZZERIA                     2017-03-15  STATEN ISLAND   \n",
      "VIP GRILL                           2017-06-12       BROOKLYN   \n",
      "WAHIZZA                             2017-04-13      MANHATTAN   \n",
      "WANG MANDOO HOUSE                   2017-08-29         QUEENS   \n",
      "XIAOYAN YABO INC                    2017-08-29         QUEENS   \n",
      "\n",
      "Info                                                                                      Cuisine  \\\n",
      "Name                                Date                                                            \n",
      "3 STAR JUICE CENTER                 2017-05-10                     Juice, Smoothies, Fruit Salads   \n",
      "A & L PIZZA RESTAURANT              2017-08-22                                              Pizza   \n",
      "AKSARAY TURKISH CAFE AND RESTAURANT 2017-07-25                                            Turkish   \n",
      "ANTOJITOS DELI FOOD                 2017-06-01  Latin (Cuban, Dominican, Puerto Rican, South &...   \n",
      "BANGIA                              2017-06-16                                             Korean   \n",
      "...                                                                                           ...   \n",
      "VALL'S PIZZERIA                     2017-03-15                                      Pizza/Italian   \n",
      "VIP GRILL                           2017-06-12                                      Jewish/Kosher   \n",
      "WAHIZZA                             2017-04-13                                              Pizza   \n",
      "WANG MANDOO HOUSE                   2017-08-29                                             Korean   \n",
      "XIAOYAN YABO INC                    2017-08-29                                             Korean   \n",
      "\n",
      "Info                                                                                  Description  \\\n",
      "Name                                Date                                                            \n",
      "3 STAR JUICE CENTER                 2017-05-10  Facility not vermin proof. Harborage or condit...   \n",
      "A & L PIZZA RESTAURANT              2017-08-22  Facility not vermin proof. Harborage or condit...   \n",
      "AKSARAY TURKISH CAFE AND RESTAURANT 2017-07-25  Plumbing not properly installed or maintained;...   \n",
      "ANTOJITOS DELI FOOD                 2017-06-01  Live roaches present in facility's food and/or...   \n",
      "BANGIA                              2017-06-16  Covered garbage receptacle not provided or ina...   \n",
      "...                                                                                           ...   \n",
      "VALL'S PIZZERIA                     2017-03-15  Wiping cloths soiled or not stored in sanitizi...   \n",
      "VIP GRILL                           2017-06-12        Hot food item not held at or above 140Âº F.   \n",
      "WAHIZZA                             2017-04-13  No facilities available to wash, rinse and san...   \n",
      "WANG MANDOO HOUSE                   2017-08-29  Accurate thermometer not provided in refrigera...   \n",
      "XIAOYAN YABO INC                    2017-08-29  Evidence of mice or live mice present in facil...   \n",
      "\n",
      "Info                                           Grade Score  \n",
      "Name                                Date                    \n",
      "3 STAR JUICE CENTER                 2017-05-10     A  12.0  \n",
      "A & L PIZZA RESTAURANT              2017-08-22     A   9.0  \n",
      "AKSARAY TURKISH CAFE AND RESTAURANT 2017-07-25     A  13.0  \n",
      "ANTOJITOS DELI FOOD                 2017-06-01     A  10.0  \n",
      "BANGIA                              2017-06-16     A   9.0  \n",
      "...                                              ...   ...  \n",
      "VALL'S PIZZERIA                     2017-03-15     A   9.0  \n",
      "VIP GRILL                           2017-06-12     A  10.0  \n",
      "WAHIZZA                             2017-04-13     A  10.0  \n",
      "WANG MANDOO HOUSE                   2017-08-29     A  12.0  \n",
      "XIAOYAN YABO INC                    2017-08-29     Z  49.0  \n",
      "\n",
      "[100 rows x 5 columns]\n"
     ]
    }
   ],
   "source": [
    "# 用pivot 看得更清楚\n",
    "print(inspections.pivot(index=['Name', 'Date'],\n",
    "                        columns='Info',\n",
    "                        values='Value'))"
   ]
  },
  {
   "cell_type": "code",
   "execution_count": null,
   "id": "654d1210",
   "metadata": {},
   "outputs": [
    {
     "name": "stdout",
     "output_type": "stream",
     "text": [
      "                                                              Value  \\\n",
      "Info                                 Name       Date        Borough   \n",
      "0                     3 STAR JUICE CENTER 2017-05-10       BROOKLYN   \n",
      "1                  A & L PIZZA RESTAURANT 2017-08-22       BROOKLYN   \n",
      "2     AKSARAY TURKISH CAFE AND RESTAURANT 2017-07-25       BROOKLYN   \n",
      "3                     ANTOJITOS DELI FOOD 2017-06-01       BROOKLYN   \n",
      "4                                  BANGIA 2017-06-16      MANHATTAN   \n",
      "..                                    ...        ...            ...   \n",
      "95                        VALL'S PIZZERIA 2017-03-15  STATEN ISLAND   \n",
      "96                              VIP GRILL 2017-06-12       BROOKLYN   \n",
      "97                                WAHIZZA 2017-04-13      MANHATTAN   \n",
      "98                      WANG MANDOO HOUSE 2017-08-29         QUEENS   \n",
      "99                       XIAOYAN YABO INC 2017-08-29         QUEENS   \n",
      "\n",
      "                                                         \\\n",
      "Info                                            Cuisine   \n",
      "0                        Juice, Smoothies, Fruit Salads   \n",
      "1                                                 Pizza   \n",
      "2                                               Turkish   \n",
      "3     Latin (Cuban, Dominican, Puerto Rican, South &...   \n",
      "4                                                Korean   \n",
      "..                                                  ...   \n",
      "95                                        Pizza/Italian   \n",
      "96                                        Jewish/Kosher   \n",
      "97                                                Pizza   \n",
      "98                                               Korean   \n",
      "99                                               Korean   \n",
      "\n",
      "                                                                     \n",
      "Info                                        Description Grade Score  \n",
      "0     Facility not vermin proof. Harborage or condit...     A  12.0  \n",
      "1     Facility not vermin proof. Harborage or condit...     A   9.0  \n",
      "2     Plumbing not properly installed or maintained;...     A  13.0  \n",
      "3     Live roaches present in facility's food and/or...     A  10.0  \n",
      "4     Covered garbage receptacle not provided or ina...     A   9.0  \n",
      "..                                                  ...   ...   ...  \n",
      "95    Wiping cloths soiled or not stored in sanitizi...     A   9.0  \n",
      "96          Hot food item not held at or above 140Âº F.     A  10.0  \n",
      "97    No facilities available to wash, rinse and san...     A  10.0  \n",
      "98    Accurate thermometer not provided in refrigera...     A  12.0  \n",
      "99    Evidence of mice or live mice present in facil...     Z  49.0  \n",
      "\n",
      "[100 rows x 7 columns]\n"
     ]
    }
   ],
   "source": [
    "# 把欄位設成索引 然後unstack 再把索引移回欄位中\n",
    "print(inspections\n",
    "        .set_index(['Name', 'Date', 'Info'])\n",
    "        .unstack('Info')\n",
    "        .reset_index(col_level=-1))"
   ]
  },
  {
   "cell_type": "code",
   "execution_count": 27,
   "id": "5176a1ce",
   "metadata": {},
   "outputs": [
    {
     "name": "stdout",
     "output_type": "stream",
     "text": [
      "                                   Name       Date        Borough  \\\n",
      "0                   3 STAR JUICE CENTER 2017-05-10       BROOKLYN   \n",
      "1                A & L PIZZA RESTAURANT 2017-08-22       BROOKLYN   \n",
      "2   AKSARAY TURKISH CAFE AND RESTAURANT 2017-07-25       BROOKLYN   \n",
      "3                   ANTOJITOS DELI FOOD 2017-06-01       BROOKLYN   \n",
      "4                                BANGIA 2017-06-16      MANHATTAN   \n",
      "..                                  ...        ...            ...   \n",
      "95                      VALL'S PIZZERIA 2017-03-15  STATEN ISLAND   \n",
      "96                            VIP GRILL 2017-06-12       BROOKLYN   \n",
      "97                              WAHIZZA 2017-04-13      MANHATTAN   \n",
      "98                    WANG MANDOO HOUSE 2017-08-29         QUEENS   \n",
      "99                     XIAOYAN YABO INC 2017-08-29         QUEENS   \n",
      "\n",
      "                                              Cuisine  \\\n",
      "0                      Juice, Smoothies, Fruit Salads   \n",
      "1                                               Pizza   \n",
      "2                                             Turkish   \n",
      "3   Latin (Cuban, Dominican, Puerto Rican, South &...   \n",
      "4                                              Korean   \n",
      "..                                                ...   \n",
      "95                                      Pizza/Italian   \n",
      "96                                      Jewish/Kosher   \n",
      "97                                              Pizza   \n",
      "98                                             Korean   \n",
      "99                                             Korean   \n",
      "\n",
      "                                          Description Grade Score  \n",
      "0   Facility not vermin proof. Harborage or condit...     A  12.0  \n",
      "1   Facility not vermin proof. Harborage or condit...     A   9.0  \n",
      "2   Plumbing not properly installed or maintained;...     A  13.0  \n",
      "3   Live roaches present in facility's food and/or...     A  10.0  \n",
      "4   Covered garbage receptacle not provided or ina...     A   9.0  \n",
      "..                                                ...   ...   ...  \n",
      "95  Wiping cloths soiled or not stored in sanitizi...     A   9.0  \n",
      "96        Hot food item not held at or above 140Âº F.     A  10.0  \n",
      "97  No facilities available to wash, rinse and san...     A  10.0  \n",
      "98  Accurate thermometer not provided in refrigera...     A  12.0  \n",
      "99  Evidence of mice or live mice present in facil...     Z  49.0  \n",
      "\n",
      "[100 rows x 7 columns]\n"
     ]
    }
   ],
   "source": [
    "# 如果不要multiIndex 可以使用squeeze()\n",
    "print(inspections\n",
    "        .set_index(['Name', 'Date', 'Info'])\n",
    "        .squeeze()\n",
    "        .unstack('Info')\n",
    "        .reset_index()\n",
    "        .rename_axis(None, axis='columns'))"
   ]
  },
  {
   "cell_type": "code",
   "execution_count": null,
   "id": "b159c65f",
   "metadata": {},
   "outputs": [
    {
     "name": "stdout",
     "output_type": "stream",
     "text": [
      "                                   Name       Date        Borough  \\\n",
      "0                   3 STAR JUICE CENTER 2017-05-10       BROOKLYN   \n",
      "1                A & L PIZZA RESTAURANT 2017-08-22       BROOKLYN   \n",
      "2   AKSARAY TURKISH CAFE AND RESTAURANT 2017-07-25       BROOKLYN   \n",
      "3                   ANTOJITOS DELI FOOD 2017-06-01       BROOKLYN   \n",
      "4                                BANGIA 2017-06-16      MANHATTAN   \n",
      "..                                  ...        ...            ...   \n",
      "95                      VALL'S PIZZERIA 2017-03-15  STATEN ISLAND   \n",
      "96                            VIP GRILL 2017-06-12       BROOKLYN   \n",
      "97                              WAHIZZA 2017-04-13      MANHATTAN   \n",
      "98                    WANG MANDOO HOUSE 2017-08-29         QUEENS   \n",
      "99                     XIAOYAN YABO INC 2017-08-29         QUEENS   \n",
      "\n",
      "                                              Cuisine  \\\n",
      "0                      Juice, Smoothies, Fruit Salads   \n",
      "1                                               Pizza   \n",
      "2                                             Turkish   \n",
      "3   Latin (Cuban, Dominican, Puerto Rican, South &...   \n",
      "4                                              Korean   \n",
      "..                                                ...   \n",
      "95                                      Pizza/Italian   \n",
      "96                                      Jewish/Kosher   \n",
      "97                                              Pizza   \n",
      "98                                             Korean   \n",
      "99                                             Korean   \n",
      "\n",
      "                                          Description Grade Score  \n",
      "0   Facility not vermin proof. Harborage or condit...     A  12.0  \n",
      "1   Facility not vermin proof. Harborage or condit...     A   9.0  \n",
      "2   Plumbing not properly installed or maintained;...     A  13.0  \n",
      "3   Live roaches present in facility's food and/or...     A  10.0  \n",
      "4   Covered garbage receptacle not provided or ina...     A   9.0  \n",
      "..                                                ...   ...   ...  \n",
      "95  Wiping cloths soiled or not stored in sanitizi...     A   9.0  \n",
      "96        Hot food item not held at or above 140Âº F.     A  10.0  \n",
      "97  No facilities available to wash, rinse and san...     A  10.0  \n",
      "98  Accurate thermometer not provided in refrigera...     A  12.0  \n",
      "99  Evidence of mice or live mice present in facil...     Z  49.0  \n",
      "\n",
      "[100 rows x 7 columns]\n"
     ]
    }
   ],
   "source": [
    "# pivot_table\n",
    "print(inspections\n",
    "        .pivot_table(index=['Name', 'Date'],\n",
    "                     columns='Info',\n",
    "                     values='Value',\n",
    "                     aggfunc='first')\n",
    "        .reset_index()\n",
    "        .rename_axis(None, axis='columns'))"
   ]
  },
  {
   "cell_type": "markdown",
   "id": "a462eaa1",
   "metadata": {},
   "source": [
    "## 10.10 整理單一儲存格中包含多個值的資料"
   ]
  },
  {
   "cell_type": "code",
   "execution_count": 30,
   "id": "033394b0",
   "metadata": {},
   "outputs": [
    {
     "name": "stdout",
     "output_type": "stream",
     "text": [
      "      City             Geolocation\n",
      "0  Houston  29.7604° N, 95.3698° W\n",
      "1   Dallas  32.7767° N, 96.7970° W\n",
      "2   Austin  30.2672° N, 97.7431° W\n"
     ]
    }
   ],
   "source": [
    "# 載入資料集\n",
    "cities = pd.read_csv('../../data/texas_cities.csv')\n",
    "print(cities)"
   ]
  },
  {
   "cell_type": "code",
   "execution_count": 31,
   "id": "7bff1914",
   "metadata": {},
   "outputs": [
    {
     "name": "stdout",
     "output_type": "stream",
     "text": [
      "   latitude latitude direction  longitude longitude direction\n",
      "0   29.7604                  N    95.3698                   W\n",
      "1   32.7767                  N    96.7970                   W\n",
      "2   30.2672                  N    97.7431                   W\n"
     ]
    }
   ],
   "source": [
    "# 拆成四個欄位\n",
    "geolocations = cities.Geolocation.str.split(pat='. ', expand=True)\n",
    "\n",
    "geolocations.columns = ['latitude', 'latitude direction', 'longitude', 'longitude direction']\n",
    "\n",
    "geolocations = geolocations.astype({'latitude':'float', 'longitude':'float'})\n",
    "\n",
    "geolocations.assign(city=cities['City'])\n",
    "\n",
    "print(geolocations)"
   ]
  },
  {
   "cell_type": "markdown",
   "id": "d459d733",
   "metadata": {},
   "source": [
    "## 10.11 整理欄位名稱及欄位值包含變數的資料"
   ]
  },
  {
   "cell_type": "code",
   "execution_count": 32,
   "id": "a3c4d0bd",
   "metadata": {},
   "outputs": [
    {
     "name": "stdout",
     "output_type": "stream",
     "text": [
      "  Group     Property  2012  2013  2014  2015  2016\n",
      "0     A     Pressure   928   873   814   973   870\n",
      "1     A  Temperature  1026  1038  1009  1036  1042\n",
      "2     A         Flow   819   806   861   882   856\n",
      "3     B     Pressure   817   877   914   806   942\n",
      "4     B  Temperature  1008  1041  1009  1002  1013\n",
      "5     B         Flow   887   899   837   824   873\n"
     ]
    }
   ],
   "source": [
    "# 載入資料集\n",
    "sensors = pd.read_csv('../../data/sensors.csv')\n",
    "print(sensors)"
   ]
  },
  {
   "cell_type": "code",
   "execution_count": 33,
   "id": "6930c110",
   "metadata": {},
   "outputs": [
    {
     "name": "stdout",
     "output_type": "stream",
     "text": [
      "   Group     Property  Year  value\n",
      "0      A     Pressure  2012    928\n",
      "1      A  Temperature  2012   1026\n",
      "2      A         Flow  2012    819\n",
      "3      B     Pressure  2012    817\n",
      "4      B  Temperature  2012   1008\n",
      "5      B         Flow  2012    887\n",
      "6      A     Pressure  2013    873\n",
      "7      A  Temperature  2013   1038\n",
      "8      A         Flow  2013    806\n",
      "9      B     Pressure  2013    877\n",
      "10     B  Temperature  2013   1041\n",
      "11     B         Flow  2013    899\n",
      "12     A     Pressure  2014    814\n",
      "13     A  Temperature  2014   1009\n",
      "14     A         Flow  2014    861\n",
      "15     B     Pressure  2014    914\n",
      "16     B  Temperature  2014   1009\n",
      "17     B         Flow  2014    837\n",
      "18     A     Pressure  2015    973\n",
      "19     A  Temperature  2015   1036\n",
      "20     A         Flow  2015    882\n",
      "21     B     Pressure  2015    806\n",
      "22     B  Temperature  2015   1002\n",
      "23     B         Flow  2015    824\n",
      "24     A     Pressure  2016    870\n",
      "25     A  Temperature  2016   1042\n",
      "26     A         Flow  2016    856\n",
      "27     B     Pressure  2016    942\n",
      "28     B  Temperature  2016   1013\n",
      "29     B         Flow  2016    873\n"
     ]
    }
   ],
   "source": [
    "# 先處理年分\n",
    "print(sensors.melt(id_vars=['Group', 'Property'], var_name='Year'))"
   ]
  },
  {
   "cell_type": "code",
   "execution_count": 36,
   "id": "65ad09a7",
   "metadata": {},
   "outputs": [
    {
     "name": "stdout",
     "output_type": "stream",
     "text": [
      "  Group  Year   Flow  Pressure  Temperature\n",
      "0     A  2012  819.0     928.0       1026.0\n",
      "1     A  2013  806.0     873.0       1038.0\n",
      "2     A  2014  861.0     814.0       1009.0\n",
      "3     A  2015  882.0     973.0       1036.0\n",
      "4     A  2016  856.0     870.0       1042.0\n",
      "5     B  2012  887.0     817.0       1008.0\n",
      "6     B  2013  899.0     877.0       1041.0\n",
      "7     B  2014  837.0     914.0       1009.0\n",
      "8     B  2015  824.0     806.0       1002.0\n",
      "9     B  2016  873.0     942.0       1013.0\n"
     ]
    }
   ],
   "source": [
    "# 再用pivot_table 處理單欄位中多變數的問題\n",
    "print(sensors\n",
    "        .melt(id_vars=['Group', 'Property'], var_name='Year')\n",
    "        .pivot_table(index=['Group', 'Year'],\n",
    "                     columns='Property',\n",
    "                     values='value')\n",
    "        .reset_index()\n",
    "        .rename_axis(None, axis='columns')\n",
    "        )"
   ]
  },
  {
   "cell_type": "code",
   "execution_count": 37,
   "id": "ab735715",
   "metadata": {},
   "outputs": [
    {
     "name": "stdout",
     "output_type": "stream",
     "text": [
      "  Group  Year  Flow  Pressure  Temperature\n",
      "0     A  2012   819       928         1026\n",
      "1     A  2013   806       873         1038\n",
      "2     A  2014   861       814         1009\n",
      "3     A  2015   882       973         1036\n",
      "4     A  2016   856       870         1042\n",
      "5     B  2012   887       817         1008\n",
      "6     B  2013   899       877         1041\n",
      "7     B  2014   837       914         1009\n",
      "8     B  2015   824       806         1002\n",
      "9     B  2016   873       942         1013\n"
     ]
    }
   ],
   "source": [
    "# 一樣可以使用stack unstack\n",
    "print(sensors\n",
    "        .set_index(['Group', 'Property'])\n",
    "        .stack()\n",
    "        .unstack('Property')\n",
    "        .rename_axis(['Group', 'Year'], axis='index')\n",
    "        .rename_axis(None, axis='columns')\n",
    "        .reset_index())"
   ]
  }
 ],
 "metadata": {
  "kernelspec": {
   "display_name": "Python 3",
   "language": "python",
   "name": "python3"
  },
  "language_info": {
   "codemirror_mode": {
    "name": "ipython",
    "version": 3
   },
   "file_extension": ".py",
   "mimetype": "text/x-python",
   "name": "python",
   "nbconvert_exporter": "python",
   "pygments_lexer": "ipython3",
   "version": "3.13.0"
  }
 },
 "nbformat": 4,
 "nbformat_minor": 5
}

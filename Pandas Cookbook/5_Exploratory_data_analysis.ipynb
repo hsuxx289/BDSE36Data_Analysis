{
 "cells": [
  {
   "cell_type": "code",
   "execution_count": 2,
   "id": "afca2c19",
   "metadata": {},
   "outputs": [],
   "source": [
    "import numpy as np\n",
    "import pandas as pd"
   ]
  },
  {
   "cell_type": "markdown",
   "id": "1f8a8203",
   "metadata": {},
   "source": [
    "## 5.1 摘要統計資訊"
   ]
  },
  {
   "cell_type": "code",
   "execution_count": 7,
   "id": "90464590",
   "metadata": {},
   "outputs": [
    {
     "name": "stdout",
     "output_type": "stream",
     "text": [
      "   barrels08  barrelsA08  charge120  charge240  city08  city08U  cityA08  \\\n",
      "0  15.695714         0.0        0.0        0.0      19      0.0        0   \n",
      "1  29.964545         0.0        0.0        0.0       9      0.0        0   \n",
      "2  12.207778         0.0        0.0        0.0      23      0.0        0   \n",
      "3  29.964545         0.0        0.0        0.0      10      0.0        0   \n",
      "4  17.347895         0.0        0.0        0.0      17      0.0        0   \n",
      "\n",
      "   cityA08U  cityCD  cityE  ...  mfrCode  c240Dscr  charge240b  c240bDscr  \\\n",
      "0       0.0     0.0    0.0  ...      NaN       NaN         0.0        NaN   \n",
      "1       0.0     0.0    0.0  ...      NaN       NaN         0.0        NaN   \n",
      "2       0.0     0.0    0.0  ...      NaN       NaN         0.0        NaN   \n",
      "3       0.0     0.0    0.0  ...      NaN       NaN         0.0        NaN   \n",
      "4       0.0     0.0    0.0  ...      NaN       NaN         0.0        NaN   \n",
      "\n",
      "                      createdOn                    modifiedOn  startStop  \\\n",
      "0  Tue Jan 01 00:00:00 EST 2013  Tue Jan 01 00:00:00 EST 2013        NaN   \n",
      "1  Tue Jan 01 00:00:00 EST 2013  Tue Jan 01 00:00:00 EST 2013        NaN   \n",
      "2  Tue Jan 01 00:00:00 EST 2013  Tue Jan 01 00:00:00 EST 2013        NaN   \n",
      "3  Tue Jan 01 00:00:00 EST 2013  Tue Jan 01 00:00:00 EST 2013        NaN   \n",
      "4  Tue Jan 01 00:00:00 EST 2013  Tue Jan 01 00:00:00 EST 2013        NaN   \n",
      "\n",
      "   phevCity  phevHwy  phevComb  \n",
      "0         0        0         0  \n",
      "1         0        0         0  \n",
      "2         0        0         0  \n",
      "3         0        0         0  \n",
      "4         0        0         0  \n",
      "\n",
      "[5 rows x 83 columns]\n"
     ]
    },
    {
     "name": "stderr",
     "output_type": "stream",
     "text": [
      "C:\\Users\\coffi\\AppData\\Local\\Temp\\ipykernel_10116\\463282324.py:2: DtypeWarning: Columns (70,71,72,73,74,76,79) have mixed types. Specify dtype option on import or set low_memory=False.\n",
      "  fueleco = pd.read_csv('../../data/vehicles.csv.zip')\n"
     ]
    }
   ],
   "source": [
    "# 載入資料集\n",
    "fueleco = pd.read_csv('../../data/vehicles.csv.zip')\n",
    "print(fueleco.head())"
   ]
  },
  {
   "cell_type": "code",
   "execution_count": null,
   "id": "598321fe",
   "metadata": {},
   "outputs": [
    {
     "name": "stdout",
     "output_type": "stream",
     "text": [
      "barrels08             17.442712\n",
      "barrelsA08             0.219276\n",
      "charge120              0.000000\n",
      "charge240              0.029630\n",
      "city08                18.077799\n",
      "city08U                5.040648\n",
      "cityA08                0.569883\n",
      "cityA08U               0.416097\n",
      "cityCD                 0.000560\n",
      "cityE                  0.225181\n",
      "cityUF                 0.000975\n",
      "co2                   72.538989\n",
      "co2A                   5.543950\n",
      "co2TailpipeAGpm       17.826864\n",
      "co2TailpipeGpm       470.704841\n",
      "comb08                20.323828\n",
      "comb08U                5.652724\n",
      "combA08                0.631160\n",
      "combA08U               0.453725\n",
      "combE                  0.230912\n",
      "combinedCD             0.000459\n",
      "combinedUF             0.000959\n",
      "cylinders              5.729105\n",
      "displ                  3.309829\n",
      "engId               8582.377382\n",
      "feScore                0.122580\n",
      "fuelCost08          2242.470781\n",
      "fuelCostA08           91.335260\n",
      "ghgScore               0.120866\n",
      "ghgScoreA             -0.923889\n",
      "highway08             24.208588\n",
      "highway08U             6.712736\n",
      "highwayA08             0.736452\n",
      "highwayA08U            0.523423\n",
      "highwayCD              0.000343\n",
      "highwayE               0.238526\n",
      "highwayUF              0.000938\n",
      "hlv                    2.029539\n",
      "hpv                   10.411243\n",
      "id                 19662.541188\n",
      "lv2                    1.834812\n",
      "lv4                    6.155930\n",
      "phevBlended            0.001458\n",
      "pv2                   13.649574\n",
      "pv4                   33.883711\n",
      "range                  0.500243\n",
      "rangeCity              0.458375\n",
      "rangeCityA             0.050978\n",
      "rangeHwy               0.450392\n",
      "rangeHwyA              0.046958\n",
      "UCity                 22.789421\n",
      "UCityA                 0.723139\n",
      "UHighway              33.884375\n",
      "UHighwayA              1.009562\n",
      "year                2000.635406\n",
      "youSaveSpend       -3459.572645\n",
      "charge240b             0.005869\n",
      "phevCity               0.094703\n",
      "phevHwy                0.094269\n",
      "phevComb               0.094141\n",
      "dtype: float64\n"
     ]
    },
    {
     "data": {
      "text/plain": [
       "60"
      ]
     },
     "execution_count": 20,
     "metadata": {},
     "output_type": "execute_result"
    }
   ],
   "source": [
    "# 取的各欄的平均數\n",
    "#fueleco.select_dtypes(include='number').mean()\n",
    "print(fueleco.mean(numeric_only=True))"
   ]
  },
  {
   "cell_type": "code",
   "execution_count": 23,
   "id": "4d4464a2",
   "metadata": {},
   "outputs": [
    {
     "name": "stdout",
     "output_type": "stream",
     "text": [
      "barrels08              4.580230\n",
      "barrelsA08             1.143837\n",
      "charge120              0.000000\n",
      "charge240              0.487408\n",
      "city08                 6.970672\n",
      "city08U               10.462790\n",
      "cityA08                4.297124\n",
      "cityA08U               4.093495\n",
      "cityCD                 0.045392\n",
      "cityE                  3.180894\n",
      "cityUF                 0.022785\n",
      "co2                  163.252019\n",
      "co2A                  55.956932\n",
      "co2TailpipeAGpm       93.937414\n",
      "co2TailpipeGpm       122.351021\n",
      "comb08                 6.882807\n",
      "comb08U               11.231748\n",
      "combA08                4.395797\n",
      "combA08U               4.131767\n",
      "combE                  3.244463\n",
      "combinedCD             0.040759\n",
      "combinedUF             0.022392\n",
      "cylinders              1.754487\n",
      "displ                  1.361925\n",
      "engId              17606.675590\n",
      "feScore                2.516348\n",
      "fuelCost08           601.273869\n",
      "fuelCostA08          479.485802\n",
      "ghgScore               2.512612\n",
      "ghgScoreA              0.651017\n",
      "highway08              7.128070\n",
      "highway08U            12.809865\n",
      "highwayA08             4.694207\n",
      "highwayA08U            4.343967\n",
      "highwayCD              0.035457\n",
      "highwayE               3.342921\n",
      "highwayUF              0.021931\n",
      "hlv                    5.959735\n",
      "hpv                   28.167271\n",
      "id                 11413.329199\n",
      "lv2                    4.407887\n",
      "lv4                    9.698101\n",
      "phevBlended            0.038153\n",
      "pv2                   31.214466\n",
      "pv4                   45.991687\n",
      "range                  9.742080\n",
      "rangeCity              9.510276\n",
      "rangeCityA             1.383722\n",
      "rangeHwy               9.711025\n",
      "rangeHwyA              1.244770\n",
      "UCity                  9.827224\n",
      "UCityA                 5.965565\n",
      "UHighway              10.399308\n",
      "UHighwayA              6.642943\n",
      "year                  10.690422\n",
      "youSaveSpend        3010.284617\n",
      "charge240b             0.165399\n",
      "phevCity               2.279478\n",
      "phevHwy                2.191115\n",
      "phevComb               2.226500\n",
      "dtype: float64\n"
     ]
    }
   ],
   "source": [
    "# 標準差\n",
    "print(fueleco.std(numeric_only=True))"
   ]
  },
  {
   "cell_type": "code",
   "execution_count": null,
   "id": "801310d3",
   "metadata": {},
   "outputs": [
    {
     "name": "stdout",
     "output_type": "stream",
     "text": [
      "          barrels08    barrelsA08  charge120     charge240        city08  \\\n",
      "count  39101.000000  39101.000000    39101.0  39101.000000  39101.000000   \n",
      "mean      17.442712      0.219276        0.0      0.029630     18.077799   \n",
      "std        4.580230      1.143837        0.0      0.487408      6.970672   \n",
      "min        0.060000      0.000000        0.0      0.000000      6.000000   \n",
      "25%       14.330870      0.000000        0.0      0.000000     15.000000   \n",
      "50%       17.347895      0.000000        0.0      0.000000     17.000000   \n",
      "75%       20.115000      0.000000        0.0      0.000000     20.000000   \n",
      "max       47.087143     18.311667        0.0     12.000000    150.000000   \n",
      "\n",
      "            city08U       cityA08      cityA08U        cityCD         cityE  \\\n",
      "count  39101.000000  39101.000000  39101.000000  39101.000000  39101.000000   \n",
      "mean       5.040648      0.569883      0.416097      0.000560      0.225181   \n",
      "std       10.462790      4.297124      4.093495      0.045392      3.180894   \n",
      "min        0.000000      0.000000      0.000000      0.000000      0.000000   \n",
      "25%        0.000000      0.000000      0.000000      0.000000      0.000000   \n",
      "50%        0.000000      0.000000      0.000000      0.000000      0.000000   \n",
      "75%        0.000000      0.000000      0.000000      0.000000      0.000000   \n",
      "max      150.000000    145.000000    145.083500      5.350000    122.000000   \n",
      "\n",
      "       ...         UCity        UCityA      UHighway     UHighwayA  \\\n",
      "count  ...  39101.000000  39101.000000  39101.000000  39101.000000   \n",
      "mean   ...     22.789421      0.723139     33.884375      1.009562   \n",
      "std    ...      9.827224      5.965565     10.399308      6.642943   \n",
      "min    ...      0.000000      0.000000      0.000000      0.000000   \n",
      "25%    ...     18.000000      0.000000     27.370400      0.000000   \n",
      "50%    ...     21.111100      0.000000     33.000000      0.000000   \n",
      "75%    ...     25.475600      0.000000     38.600000      0.000000   \n",
      "max    ...    224.800000    207.262200    182.700000    173.143600   \n",
      "\n",
      "               year  youSaveSpend    charge240b      phevCity       phevHwy  \\\n",
      "count  39101.000000  39101.000000  39101.000000  39101.000000  39101.000000   \n",
      "mean    2000.635406  -3459.572645      0.005869      0.094703      0.094269   \n",
      "std       10.690422   3010.284617      0.165399      2.279478      2.191115   \n",
      "min     1984.000000 -26500.000000      0.000000      0.000000      0.000000   \n",
      "25%     1991.000000  -4750.000000      0.000000      0.000000      0.000000   \n",
      "50%     2001.000000  -3500.000000      0.000000      0.000000      0.000000   \n",
      "75%     2010.000000  -1500.000000      0.000000      0.000000      0.000000   \n",
      "max     2018.000000   5250.000000      7.000000     97.000000     81.000000   \n",
      "\n",
      "           phevComb  \n",
      "count  39101.000000  \n",
      "mean       0.094141  \n",
      "std        2.226500  \n",
      "min        0.000000  \n",
      "25%        0.000000  \n",
      "50%        0.000000  \n",
      "75%        0.000000  \n",
      "max       88.000000  \n",
      "\n",
      "[8 rows x 59 columns]\n"
     ]
    }
   ],
   "source": [
    "# 用describe()\n",
    "print(fueleco.describe())"
   ]
  },
  {
   "cell_type": "code",
   "execution_count": 34,
   "id": "87ae5d43",
   "metadata": {},
   "outputs": [
    {
     "name": "stdout",
     "output_type": "stream",
     "text": [
      "                    drive eng_dscr fuelType         fuelType1       make  \\\n",
      "count               37912    23431    39101             39101      39101   \n",
      "unique                  7      545       14                 6        134   \n",
      "top     Front-Wheel Drive    (FFS)  Regular  Regular Gasoline  Chevrolet   \n",
      "freq                13653     8827    25620             26931       3900   \n",
      "\n",
      "                  model mpgData            trany        VClass guzzler  ...  \\\n",
      "count             39101   39101            39090         39101    2335  ...   \n",
      "unique             3816       2               37            34       3  ...   \n",
      "top     F150 Pickup 2WD       N  Automatic 4-spd  Compact Cars       G  ...   \n",
      "freq                214   26400            11045          5661    1356  ...   \n",
      "\n",
      "       atvType fuelType2 rangeA     evMotor mfrCode          c240Dscr  \\\n",
      "count     3204      1490   1485         644    8289                53   \n",
      "unique       8         4    216         125      46                 5   \n",
      "top        FFV       E85    290  288V Ni-MH     GMX  standard charger   \n",
      "freq      1383      1383     74         117    1255                42   \n",
      "\n",
      "                  c240bDscr                     createdOn  \\\n",
      "count                    51                         39101   \n",
      "unique                    4                           195   \n",
      "top     80 amp dual charger  Tue Jan 01 00:00:00 EST 2013   \n",
      "freq                     42                         34199   \n",
      "\n",
      "                          modifiedOn startStop  \n",
      "count                          39101      7405  \n",
      "unique                            68         2  \n",
      "top     Tue Jan 01 00:00:00 EST 2013         N  \n",
      "freq                           29438      5176  \n",
      "\n",
      "[4 rows x 23 columns]\n"
     ]
    }
   ],
   "source": [
    "# 用describe() 看類別變數\n",
    "print(fueleco.describe(include=object))"
   ]
  },
  {
   "cell_type": "code",
   "execution_count": 35,
   "id": "a1a7253e",
   "metadata": {},
   "outputs": [
    {
     "name": "stdout",
     "output_type": "stream",
     "text": [
      "                   count          mean           std       min          25%  \\\n",
      "barrels08        39101.0     17.442712      4.580230      0.06    14.330870   \n",
      "barrelsA08       39101.0      0.219276      1.143837      0.00     0.000000   \n",
      "charge120        39101.0      0.000000      0.000000      0.00     0.000000   \n",
      "charge240        39101.0      0.029630      0.487408      0.00     0.000000   \n",
      "city08           39101.0     18.077799      6.970672      6.00    15.000000   \n",
      "city08U          39101.0      5.040648     10.462790      0.00     0.000000   \n",
      "cityA08          39101.0      0.569883      4.297124      0.00     0.000000   \n",
      "cityA08U         39101.0      0.416097      4.093495      0.00     0.000000   \n",
      "cityCD           39101.0      0.000560      0.045392      0.00     0.000000   \n",
      "cityE            39101.0      0.225181      3.180894      0.00     0.000000   \n",
      "cityUF           39101.0      0.000975      0.022785      0.00     0.000000   \n",
      "co2              39101.0     72.538989    163.252019     -1.00    -1.000000   \n",
      "co2A             39101.0      5.543950     55.956932     -1.00    -1.000000   \n",
      "co2TailpipeAGpm  39101.0     17.826864     93.937414      0.00     0.000000   \n",
      "co2TailpipeGpm   39101.0    470.704841    122.351021      0.00   386.391304   \n",
      "comb08           39101.0     20.323828      6.882807      7.00    17.000000   \n",
      "comb08U          39101.0      5.652724     11.231748      0.00     0.000000   \n",
      "combA08          39101.0      0.631160      4.395797      0.00     0.000000   \n",
      "combA08U         39101.0      0.453725      4.131767      0.00     0.000000   \n",
      "combE            39101.0      0.230912      3.244463      0.00     0.000000   \n",
      "combinedCD       39101.0      0.000459      0.040759      0.00     0.000000   \n",
      "combinedUF       39101.0      0.000959      0.022392      0.00     0.000000   \n",
      "cylinders        38956.0      5.729105      1.754487      2.00     4.000000   \n",
      "displ            38958.0      3.309829      1.361925      0.00     2.200000   \n",
      "engId            39101.0   8582.377382  17606.675590      0.00     0.000000   \n",
      "feScore          39101.0      0.122580      2.516348     -1.00    -1.000000   \n",
      "fuelCost08       39101.0   2242.470781    601.273869    500.00  1850.000000   \n",
      "fuelCostA08      39101.0     91.335260    479.485802      0.00     0.000000   \n",
      "ghgScore         39101.0      0.120866      2.512612     -1.00    -1.000000   \n",
      "ghgScoreA        39101.0     -0.923889      0.651017     -1.00    -1.000000   \n",
      "highway08        39101.0     24.208588      7.128070      9.00    20.000000   \n",
      "highway08U       39101.0      6.712736     12.809865      0.00     0.000000   \n",
      "highwayA08       39101.0      0.736452      4.694207      0.00     0.000000   \n",
      "highwayA08U      39101.0      0.523423      4.343967      0.00     0.000000   \n",
      "highwayCD        39101.0      0.000343      0.035457      0.00     0.000000   \n",
      "highwayE         39101.0      0.238526      3.342921      0.00     0.000000   \n",
      "highwayUF        39101.0      0.000938      0.021931      0.00     0.000000   \n",
      "hlv              39101.0      2.029539      5.959735      0.00     0.000000   \n",
      "hpv              39101.0     10.411243     28.167271      0.00     0.000000   \n",
      "id               39101.0  19662.541188  11413.329199      1.00  9776.000000   \n",
      "lv2              39101.0      1.834812      4.407887      0.00     0.000000   \n",
      "lv4              39101.0      6.155930      9.698101      0.00     0.000000   \n",
      "pv2              39101.0     13.649574     31.214466      0.00     0.000000   \n",
      "pv4              39101.0     33.883711     45.991687      0.00     0.000000   \n",
      "range            39101.0      0.500243      9.742080      0.00     0.000000   \n",
      "rangeCity        39101.0      0.458375      9.510276      0.00     0.000000   \n",
      "rangeCityA       39101.0      0.050978      1.383722      0.00     0.000000   \n",
      "rangeHwy         39101.0      0.450392      9.711025      0.00     0.000000   \n",
      "rangeHwyA        39101.0      0.046958      1.244770      0.00     0.000000   \n",
      "UCity            39101.0     22.789421      9.827224      0.00    18.000000   \n",
      "UCityA           39101.0      0.723139      5.965565      0.00     0.000000   \n",
      "UHighway         39101.0     33.884375     10.399308      0.00    27.370400   \n",
      "UHighwayA        39101.0      1.009562      6.642943      0.00     0.000000   \n",
      "year             39101.0   2000.635406     10.690422   1984.00  1991.000000   \n",
      "youSaveSpend     39101.0  -3459.572645   3010.284617 -26500.00 -4750.000000   \n",
      "charge240b       39101.0      0.005869      0.165399      0.00     0.000000   \n",
      "phevCity         39101.0      0.094703      2.279478      0.00     0.000000   \n",
      "phevHwy          39101.0      0.094269      2.191115      0.00     0.000000   \n",
      "phevComb         39101.0      0.094141      2.226500      0.00     0.000000   \n",
      "\n",
      "                          50%           75%           max  \n",
      "barrels08           17.347895     20.115000     47.087143  \n",
      "barrelsA08           0.000000      0.000000     18.311667  \n",
      "charge120            0.000000      0.000000      0.000000  \n",
      "charge240            0.000000      0.000000     12.000000  \n",
      "city08              17.000000     20.000000    150.000000  \n",
      "city08U              0.000000      0.000000    150.000000  \n",
      "cityA08              0.000000      0.000000    145.000000  \n",
      "cityA08U             0.000000      0.000000    145.083500  \n",
      "cityCD               0.000000      0.000000      5.350000  \n",
      "cityE                0.000000      0.000000    122.000000  \n",
      "cityUF               0.000000      0.000000      0.896000  \n",
      "co2                 -1.000000     -1.000000    847.000000  \n",
      "co2A                -1.000000     -1.000000    713.000000  \n",
      "co2TailpipeAGpm      0.000000      0.000000    713.000000  \n",
      "co2TailpipeGpm     459.000000    535.789474   1269.571429  \n",
      "comb08              20.000000     23.000000    136.000000  \n",
      "comb08U              0.000000      0.000000    136.000000  \n",
      "combA08              0.000000      0.000000    133.000000  \n",
      "combA08U             0.000000      0.000000    133.266200  \n",
      "combE                0.000000      0.000000    121.000000  \n",
      "combinedCD           0.000000      0.000000      4.800000  \n",
      "combinedUF           0.000000      0.000000      0.888000  \n",
      "cylinders            6.000000      6.000000     16.000000  \n",
      "displ                3.000000      4.300000      8.400000  \n",
      "engId              202.000000   4401.000000  69102.000000  \n",
      "feScore             -1.000000     -1.000000     10.000000  \n",
      "fuelCost08        2250.000000   2500.000000   6850.000000  \n",
      "fuelCostA08          0.000000      0.000000   3850.000000  \n",
      "ghgScore            -1.000000     -1.000000     10.000000  \n",
      "ghgScoreA           -1.000000     -1.000000      8.000000  \n",
      "highway08           24.000000     27.000000    122.000000  \n",
      "highway08U           0.000000      0.000000    122.000000  \n",
      "highwayA08           0.000000      0.000000    121.000000  \n",
      "highwayA08U          0.000000      0.000000    121.200500  \n",
      "highwayCD            0.000000      0.000000      4.060000  \n",
      "highwayE             0.000000      0.000000    120.000000  \n",
      "highwayUF            0.000000      0.000000      0.877000  \n",
      "hlv                  0.000000      0.000000     49.000000  \n",
      "hpv                  0.000000      0.000000    195.000000  \n",
      "id               19552.000000  29555.000000  39483.000000  \n",
      "lv2                  0.000000      0.000000     41.000000  \n",
      "lv4                  0.000000     13.000000     55.000000  \n",
      "pv2                  0.000000      0.000000    194.000000  \n",
      "pv4                  0.000000     91.000000    192.000000  \n",
      "range                0.000000      0.000000    335.000000  \n",
      "rangeCity            0.000000      0.000000    333.100000  \n",
      "rangeCityA           0.000000      0.000000    103.030000  \n",
      "rangeHwy             0.000000      0.000000    346.900000  \n",
      "rangeHwyA            0.000000      0.000000     90.550000  \n",
      "UCity               21.111100     25.475600    224.800000  \n",
      "UCityA               0.000000      0.000000    207.262200  \n",
      "UHighway            33.000000     38.600000    182.700000  \n",
      "UHighwayA            0.000000      0.000000    173.143600  \n",
      "year              2001.000000   2010.000000   2018.000000  \n",
      "youSaveSpend     -3500.000000  -1500.000000   5250.000000  \n",
      "charge240b           0.000000      0.000000      7.000000  \n",
      "phevCity             0.000000      0.000000     97.000000  \n",
      "phevHwy              0.000000      0.000000     81.000000  \n",
      "phevComb             0.000000      0.000000     88.000000  \n"
     ]
    }
   ],
   "source": [
    "# 用轉置呈現欄位數多的資料\n",
    "print(fueleco.describe().T)"
   ]
  },
  {
   "cell_type": "markdown",
   "id": "bcbfc018",
   "metadata": {},
   "source": [
    "## 5.2 轉換欄位的資料型別"
   ]
  },
  {
   "cell_type": "code",
   "execution_count": null,
   "id": "db95a9c7",
   "metadata": {},
   "outputs": [
    {
     "data": {
      "text/plain": [
       "barrels08     float64\n",
       "barrelsA08    float64\n",
       "charge120     float64\n",
       "charge240     float64\n",
       "city08          int64\n",
       "               ...   \n",
       "modifiedOn     object\n",
       "startStop      object\n",
       "phevCity        int64\n",
       "phevHwy         int64\n",
       "phevComb        int64\n",
       "Length: 83, dtype: object"
      ]
     },
     "execution_count": 36,
     "metadata": {},
     "output_type": "execute_result"
    }
   ],
   "source": [
    "# 查看各欄的資料型別\n",
    "fueleco.dtypes"
   ]
  },
  {
   "cell_type": "code",
   "execution_count": 37,
   "id": "ecf327f2",
   "metadata": {},
   "outputs": [
    {
     "data": {
      "text/plain": [
       "float64    32\n",
       "int64      27\n",
       "object     23\n",
       "bool        1\n",
       "Name: count, dtype: int64"
      ]
     },
     "execution_count": 37,
     "metadata": {},
     "output_type": "execute_result"
    }
   ],
   "source": [
    "# 對資料型別做摘要統計\n",
    "fueleco.dtypes.value_counts()"
   ]
  }
 ],
 "metadata": {
  "kernelspec": {
   "display_name": "Python 3",
   "language": "python",
   "name": "python3"
  },
  "language_info": {
   "codemirror_mode": {
    "name": "ipython",
    "version": 3
   },
   "file_extension": ".py",
   "mimetype": "text/x-python",
   "name": "python",
   "nbconvert_exporter": "python",
   "pygments_lexer": "ipython3",
   "version": "3.13.0"
  }
 },
 "nbformat": 4,
 "nbformat_minor": 5
}

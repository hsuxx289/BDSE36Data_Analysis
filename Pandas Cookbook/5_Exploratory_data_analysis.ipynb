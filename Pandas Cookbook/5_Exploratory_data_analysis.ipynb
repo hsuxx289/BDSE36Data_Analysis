{
 "cells": [
  {
   "cell_type": "code",
   "execution_count": 1,
   "id": "afca2c19",
   "metadata": {},
   "outputs": [],
   "source": [
    "import numpy as np\n",
    "import pandas as pd\n",
    "import seaborn as sns"
   ]
  },
  {
   "cell_type": "markdown",
   "id": "1f8a8203",
   "metadata": {},
   "source": [
    "## 5.1 摘要統計資訊"
   ]
  },
  {
   "cell_type": "code",
   "execution_count": 2,
   "id": "90464590",
   "metadata": {},
   "outputs": [
    {
     "name": "stdout",
     "output_type": "stream",
     "text": [
      "   barrels08  barrelsA08  charge120  charge240  city08  city08U  cityA08  \\\n",
      "0  15.695714         0.0        0.0        0.0      19      0.0        0   \n",
      "1  29.964545         0.0        0.0        0.0       9      0.0        0   \n",
      "2  12.207778         0.0        0.0        0.0      23      0.0        0   \n",
      "3  29.964545         0.0        0.0        0.0      10      0.0        0   \n",
      "4  17.347895         0.0        0.0        0.0      17      0.0        0   \n",
      "\n",
      "   cityA08U  cityCD  cityE  ...  mfrCode  c240Dscr  charge240b  c240bDscr  \\\n",
      "0       0.0     0.0    0.0  ...      NaN       NaN         0.0        NaN   \n",
      "1       0.0     0.0    0.0  ...      NaN       NaN         0.0        NaN   \n",
      "2       0.0     0.0    0.0  ...      NaN       NaN         0.0        NaN   \n",
      "3       0.0     0.0    0.0  ...      NaN       NaN         0.0        NaN   \n",
      "4       0.0     0.0    0.0  ...      NaN       NaN         0.0        NaN   \n",
      "\n",
      "                      createdOn                    modifiedOn  startStop  \\\n",
      "0  Tue Jan 01 00:00:00 EST 2013  Tue Jan 01 00:00:00 EST 2013        NaN   \n",
      "1  Tue Jan 01 00:00:00 EST 2013  Tue Jan 01 00:00:00 EST 2013        NaN   \n",
      "2  Tue Jan 01 00:00:00 EST 2013  Tue Jan 01 00:00:00 EST 2013        NaN   \n",
      "3  Tue Jan 01 00:00:00 EST 2013  Tue Jan 01 00:00:00 EST 2013        NaN   \n",
      "4  Tue Jan 01 00:00:00 EST 2013  Tue Jan 01 00:00:00 EST 2013        NaN   \n",
      "\n",
      "   phevCity  phevHwy  phevComb  \n",
      "0         0        0         0  \n",
      "1         0        0         0  \n",
      "2         0        0         0  \n",
      "3         0        0         0  \n",
      "4         0        0         0  \n",
      "\n",
      "[5 rows x 83 columns]\n"
     ]
    },
    {
     "name": "stderr",
     "output_type": "stream",
     "text": [
      "C:\\Users\\coffi\\AppData\\Local\\Temp\\ipykernel_16240\\463282324.py:2: DtypeWarning: Columns (70,71,72,73,74,76,79) have mixed types. Specify dtype option on import or set low_memory=False.\n",
      "  fueleco = pd.read_csv('../../data/vehicles.csv.zip')\n"
     ]
    }
   ],
   "source": [
    "# 載入資料集\n",
    "fueleco = pd.read_csv('../../data/vehicles.csv.zip')\n",
    "print(fueleco.head())"
   ]
  },
  {
   "cell_type": "code",
   "execution_count": 3,
   "id": "598321fe",
   "metadata": {},
   "outputs": [
    {
     "name": "stdout",
     "output_type": "stream",
     "text": [
      "barrels08             17.442712\n",
      "barrelsA08             0.219276\n",
      "charge120              0.000000\n",
      "charge240              0.029630\n",
      "city08                18.077799\n",
      "city08U                5.040648\n",
      "cityA08                0.569883\n",
      "cityA08U               0.416097\n",
      "cityCD                 0.000560\n",
      "cityE                  0.225181\n",
      "cityUF                 0.000975\n",
      "co2                   72.538989\n",
      "co2A                   5.543950\n",
      "co2TailpipeAGpm       17.826864\n",
      "co2TailpipeGpm       470.704841\n",
      "comb08                20.323828\n",
      "comb08U                5.652724\n",
      "combA08                0.631160\n",
      "combA08U               0.453725\n",
      "combE                  0.230912\n",
      "combinedCD             0.000459\n",
      "combinedUF             0.000959\n",
      "cylinders              5.729105\n",
      "displ                  3.309829\n",
      "engId               8582.377382\n",
      "feScore                0.122580\n",
      "fuelCost08          2242.470781\n",
      "fuelCostA08           91.335260\n",
      "ghgScore               0.120866\n",
      "ghgScoreA             -0.923889\n",
      "highway08             24.208588\n",
      "highway08U             6.712736\n",
      "highwayA08             0.736452\n",
      "highwayA08U            0.523423\n",
      "highwayCD              0.000343\n",
      "highwayE               0.238526\n",
      "highwayUF              0.000938\n",
      "hlv                    2.029539\n",
      "hpv                   10.411243\n",
      "id                 19662.541188\n",
      "lv2                    1.834812\n",
      "lv4                    6.155930\n",
      "phevBlended            0.001458\n",
      "pv2                   13.649574\n",
      "pv4                   33.883711\n",
      "range                  0.500243\n",
      "rangeCity              0.458375\n",
      "rangeCityA             0.050978\n",
      "rangeHwy               0.450392\n",
      "rangeHwyA              0.046958\n",
      "UCity                 22.789421\n",
      "UCityA                 0.723139\n",
      "UHighway              33.884375\n",
      "UHighwayA              1.009562\n",
      "year                2000.635406\n",
      "youSaveSpend       -3459.572645\n",
      "charge240b             0.005869\n",
      "phevCity               0.094703\n",
      "phevHwy                0.094269\n",
      "phevComb               0.094141\n",
      "dtype: float64\n"
     ]
    }
   ],
   "source": [
    "# 取的各欄的平均數\n",
    "#fueleco.select_dtypes(include='number').mean()\n",
    "print(fueleco.mean(numeric_only=True))"
   ]
  },
  {
   "cell_type": "code",
   "execution_count": 4,
   "id": "4d4464a2",
   "metadata": {},
   "outputs": [
    {
     "name": "stdout",
     "output_type": "stream",
     "text": [
      "barrels08              4.580230\n",
      "barrelsA08             1.143837\n",
      "charge120              0.000000\n",
      "charge240              0.487408\n",
      "city08                 6.970672\n",
      "city08U               10.462790\n",
      "cityA08                4.297124\n",
      "cityA08U               4.093495\n",
      "cityCD                 0.045392\n",
      "cityE                  3.180894\n",
      "cityUF                 0.022785\n",
      "co2                  163.252019\n",
      "co2A                  55.956932\n",
      "co2TailpipeAGpm       93.937414\n",
      "co2TailpipeGpm       122.351021\n",
      "comb08                 6.882807\n",
      "comb08U               11.231748\n",
      "combA08                4.395797\n",
      "combA08U               4.131767\n",
      "combE                  3.244463\n",
      "combinedCD             0.040759\n",
      "combinedUF             0.022392\n",
      "cylinders              1.754487\n",
      "displ                  1.361925\n",
      "engId              17606.675590\n",
      "feScore                2.516348\n",
      "fuelCost08           601.273869\n",
      "fuelCostA08          479.485802\n",
      "ghgScore               2.512612\n",
      "ghgScoreA              0.651017\n",
      "highway08              7.128070\n",
      "highway08U            12.809865\n",
      "highwayA08             4.694207\n",
      "highwayA08U            4.343967\n",
      "highwayCD              0.035457\n",
      "highwayE               3.342921\n",
      "highwayUF              0.021931\n",
      "hlv                    5.959735\n",
      "hpv                   28.167271\n",
      "id                 11413.329199\n",
      "lv2                    4.407887\n",
      "lv4                    9.698101\n",
      "phevBlended            0.038153\n",
      "pv2                   31.214466\n",
      "pv4                   45.991687\n",
      "range                  9.742080\n",
      "rangeCity              9.510276\n",
      "rangeCityA             1.383722\n",
      "rangeHwy               9.711025\n",
      "rangeHwyA              1.244770\n",
      "UCity                  9.827224\n",
      "UCityA                 5.965565\n",
      "UHighway              10.399308\n",
      "UHighwayA              6.642943\n",
      "year                  10.690422\n",
      "youSaveSpend        3010.284617\n",
      "charge240b             0.165399\n",
      "phevCity               2.279478\n",
      "phevHwy                2.191115\n",
      "phevComb               2.226500\n",
      "dtype: float64\n"
     ]
    }
   ],
   "source": [
    "# 標準差\n",
    "print(fueleco.std(numeric_only=True))"
   ]
  },
  {
   "cell_type": "code",
   "execution_count": 5,
   "id": "801310d3",
   "metadata": {},
   "outputs": [
    {
     "name": "stdout",
     "output_type": "stream",
     "text": [
      "          barrels08    barrelsA08  charge120     charge240        city08  \\\n",
      "count  39101.000000  39101.000000    39101.0  39101.000000  39101.000000   \n",
      "mean      17.442712      0.219276        0.0      0.029630     18.077799   \n",
      "std        4.580230      1.143837        0.0      0.487408      6.970672   \n",
      "min        0.060000      0.000000        0.0      0.000000      6.000000   \n",
      "25%       14.330870      0.000000        0.0      0.000000     15.000000   \n",
      "50%       17.347895      0.000000        0.0      0.000000     17.000000   \n",
      "75%       20.115000      0.000000        0.0      0.000000     20.000000   \n",
      "max       47.087143     18.311667        0.0     12.000000    150.000000   \n",
      "\n",
      "            city08U       cityA08      cityA08U        cityCD         cityE  \\\n",
      "count  39101.000000  39101.000000  39101.000000  39101.000000  39101.000000   \n",
      "mean       5.040648      0.569883      0.416097      0.000560      0.225181   \n",
      "std       10.462790      4.297124      4.093495      0.045392      3.180894   \n",
      "min        0.000000      0.000000      0.000000      0.000000      0.000000   \n",
      "25%        0.000000      0.000000      0.000000      0.000000      0.000000   \n",
      "50%        0.000000      0.000000      0.000000      0.000000      0.000000   \n",
      "75%        0.000000      0.000000      0.000000      0.000000      0.000000   \n",
      "max      150.000000    145.000000    145.083500      5.350000    122.000000   \n",
      "\n",
      "       ...         UCity        UCityA      UHighway     UHighwayA  \\\n",
      "count  ...  39101.000000  39101.000000  39101.000000  39101.000000   \n",
      "mean   ...     22.789421      0.723139     33.884375      1.009562   \n",
      "std    ...      9.827224      5.965565     10.399308      6.642943   \n",
      "min    ...      0.000000      0.000000      0.000000      0.000000   \n",
      "25%    ...     18.000000      0.000000     27.370400      0.000000   \n",
      "50%    ...     21.111100      0.000000     33.000000      0.000000   \n",
      "75%    ...     25.475600      0.000000     38.600000      0.000000   \n",
      "max    ...    224.800000    207.262200    182.700000    173.143600   \n",
      "\n",
      "               year  youSaveSpend    charge240b      phevCity       phevHwy  \\\n",
      "count  39101.000000  39101.000000  39101.000000  39101.000000  39101.000000   \n",
      "mean    2000.635406  -3459.572645      0.005869      0.094703      0.094269   \n",
      "std       10.690422   3010.284617      0.165399      2.279478      2.191115   \n",
      "min     1984.000000 -26500.000000      0.000000      0.000000      0.000000   \n",
      "25%     1991.000000  -4750.000000      0.000000      0.000000      0.000000   \n",
      "50%     2001.000000  -3500.000000      0.000000      0.000000      0.000000   \n",
      "75%     2010.000000  -1500.000000      0.000000      0.000000      0.000000   \n",
      "max     2018.000000   5250.000000      7.000000     97.000000     81.000000   \n",
      "\n",
      "           phevComb  \n",
      "count  39101.000000  \n",
      "mean       0.094141  \n",
      "std        2.226500  \n",
      "min        0.000000  \n",
      "25%        0.000000  \n",
      "50%        0.000000  \n",
      "75%        0.000000  \n",
      "max       88.000000  \n",
      "\n",
      "[8 rows x 59 columns]\n"
     ]
    }
   ],
   "source": [
    "# 用describe()\n",
    "print(fueleco.describe())"
   ]
  },
  {
   "cell_type": "code",
   "execution_count": 6,
   "id": "87ae5d43",
   "metadata": {},
   "outputs": [
    {
     "name": "stdout",
     "output_type": "stream",
     "text": [
      "                    drive eng_dscr fuelType         fuelType1       make  \\\n",
      "count               37912    23431    39101             39101      39101   \n",
      "unique                  7      545       14                 6        134   \n",
      "top     Front-Wheel Drive    (FFS)  Regular  Regular Gasoline  Chevrolet   \n",
      "freq                13653     8827    25620             26931       3900   \n",
      "\n",
      "                  model mpgData            trany        VClass guzzler  ...  \\\n",
      "count             39101   39101            39090         39101    2335  ...   \n",
      "unique             3816       2               37            34       3  ...   \n",
      "top     F150 Pickup 2WD       N  Automatic 4-spd  Compact Cars       G  ...   \n",
      "freq                214   26400            11045          5661    1356  ...   \n",
      "\n",
      "       atvType fuelType2 rangeA     evMotor mfrCode          c240Dscr  \\\n",
      "count     3204      1490   1485         644    8289                53   \n",
      "unique       8         4    216         125      46                 5   \n",
      "top        FFV       E85    290  288V Ni-MH     GMX  standard charger   \n",
      "freq      1383      1383     74         117    1255                42   \n",
      "\n",
      "                  c240bDscr                     createdOn  \\\n",
      "count                    51                         39101   \n",
      "unique                    4                           195   \n",
      "top     80 amp dual charger  Tue Jan 01 00:00:00 EST 2013   \n",
      "freq                     42                         34199   \n",
      "\n",
      "                          modifiedOn startStop  \n",
      "count                          39101      7405  \n",
      "unique                            68         2  \n",
      "top     Tue Jan 01 00:00:00 EST 2013         N  \n",
      "freq                           29438      5176  \n",
      "\n",
      "[4 rows x 23 columns]\n"
     ]
    }
   ],
   "source": [
    "# 用describe() 看類別變數\n",
    "print(fueleco.describe(include=object))"
   ]
  },
  {
   "cell_type": "code",
   "execution_count": 7,
   "id": "a1a7253e",
   "metadata": {},
   "outputs": [
    {
     "name": "stdout",
     "output_type": "stream",
     "text": [
      "                   count          mean           std       min          25%  \\\n",
      "barrels08        39101.0     17.442712      4.580230      0.06    14.330870   \n",
      "barrelsA08       39101.0      0.219276      1.143837      0.00     0.000000   \n",
      "charge120        39101.0      0.000000      0.000000      0.00     0.000000   \n",
      "charge240        39101.0      0.029630      0.487408      0.00     0.000000   \n",
      "city08           39101.0     18.077799      6.970672      6.00    15.000000   \n",
      "city08U          39101.0      5.040648     10.462790      0.00     0.000000   \n",
      "cityA08          39101.0      0.569883      4.297124      0.00     0.000000   \n",
      "cityA08U         39101.0      0.416097      4.093495      0.00     0.000000   \n",
      "cityCD           39101.0      0.000560      0.045392      0.00     0.000000   \n",
      "cityE            39101.0      0.225181      3.180894      0.00     0.000000   \n",
      "cityUF           39101.0      0.000975      0.022785      0.00     0.000000   \n",
      "co2              39101.0     72.538989    163.252019     -1.00    -1.000000   \n",
      "co2A             39101.0      5.543950     55.956932     -1.00    -1.000000   \n",
      "co2TailpipeAGpm  39101.0     17.826864     93.937414      0.00     0.000000   \n",
      "co2TailpipeGpm   39101.0    470.704841    122.351021      0.00   386.391304   \n",
      "comb08           39101.0     20.323828      6.882807      7.00    17.000000   \n",
      "comb08U          39101.0      5.652724     11.231748      0.00     0.000000   \n",
      "combA08          39101.0      0.631160      4.395797      0.00     0.000000   \n",
      "combA08U         39101.0      0.453725      4.131767      0.00     0.000000   \n",
      "combE            39101.0      0.230912      3.244463      0.00     0.000000   \n",
      "combinedCD       39101.0      0.000459      0.040759      0.00     0.000000   \n",
      "combinedUF       39101.0      0.000959      0.022392      0.00     0.000000   \n",
      "cylinders        38956.0      5.729105      1.754487      2.00     4.000000   \n",
      "displ            38958.0      3.309829      1.361925      0.00     2.200000   \n",
      "engId            39101.0   8582.377382  17606.675590      0.00     0.000000   \n",
      "feScore          39101.0      0.122580      2.516348     -1.00    -1.000000   \n",
      "fuelCost08       39101.0   2242.470781    601.273869    500.00  1850.000000   \n",
      "fuelCostA08      39101.0     91.335260    479.485802      0.00     0.000000   \n",
      "ghgScore         39101.0      0.120866      2.512612     -1.00    -1.000000   \n",
      "ghgScoreA        39101.0     -0.923889      0.651017     -1.00    -1.000000   \n",
      "highway08        39101.0     24.208588      7.128070      9.00    20.000000   \n",
      "highway08U       39101.0      6.712736     12.809865      0.00     0.000000   \n",
      "highwayA08       39101.0      0.736452      4.694207      0.00     0.000000   \n",
      "highwayA08U      39101.0      0.523423      4.343967      0.00     0.000000   \n",
      "highwayCD        39101.0      0.000343      0.035457      0.00     0.000000   \n",
      "highwayE         39101.0      0.238526      3.342921      0.00     0.000000   \n",
      "highwayUF        39101.0      0.000938      0.021931      0.00     0.000000   \n",
      "hlv              39101.0      2.029539      5.959735      0.00     0.000000   \n",
      "hpv              39101.0     10.411243     28.167271      0.00     0.000000   \n",
      "id               39101.0  19662.541188  11413.329199      1.00  9776.000000   \n",
      "lv2              39101.0      1.834812      4.407887      0.00     0.000000   \n",
      "lv4              39101.0      6.155930      9.698101      0.00     0.000000   \n",
      "pv2              39101.0     13.649574     31.214466      0.00     0.000000   \n",
      "pv4              39101.0     33.883711     45.991687      0.00     0.000000   \n",
      "range            39101.0      0.500243      9.742080      0.00     0.000000   \n",
      "rangeCity        39101.0      0.458375      9.510276      0.00     0.000000   \n",
      "rangeCityA       39101.0      0.050978      1.383722      0.00     0.000000   \n",
      "rangeHwy         39101.0      0.450392      9.711025      0.00     0.000000   \n",
      "rangeHwyA        39101.0      0.046958      1.244770      0.00     0.000000   \n",
      "UCity            39101.0     22.789421      9.827224      0.00    18.000000   \n",
      "UCityA           39101.0      0.723139      5.965565      0.00     0.000000   \n",
      "UHighway         39101.0     33.884375     10.399308      0.00    27.370400   \n",
      "UHighwayA        39101.0      1.009562      6.642943      0.00     0.000000   \n",
      "year             39101.0   2000.635406     10.690422   1984.00  1991.000000   \n",
      "youSaveSpend     39101.0  -3459.572645   3010.284617 -26500.00 -4750.000000   \n",
      "charge240b       39101.0      0.005869      0.165399      0.00     0.000000   \n",
      "phevCity         39101.0      0.094703      2.279478      0.00     0.000000   \n",
      "phevHwy          39101.0      0.094269      2.191115      0.00     0.000000   \n",
      "phevComb         39101.0      0.094141      2.226500      0.00     0.000000   \n",
      "\n",
      "                          50%           75%           max  \n",
      "barrels08           17.347895     20.115000     47.087143  \n",
      "barrelsA08           0.000000      0.000000     18.311667  \n",
      "charge120            0.000000      0.000000      0.000000  \n",
      "charge240            0.000000      0.000000     12.000000  \n",
      "city08              17.000000     20.000000    150.000000  \n",
      "city08U              0.000000      0.000000    150.000000  \n",
      "cityA08              0.000000      0.000000    145.000000  \n",
      "cityA08U             0.000000      0.000000    145.083500  \n",
      "cityCD               0.000000      0.000000      5.350000  \n",
      "cityE                0.000000      0.000000    122.000000  \n",
      "cityUF               0.000000      0.000000      0.896000  \n",
      "co2                 -1.000000     -1.000000    847.000000  \n",
      "co2A                -1.000000     -1.000000    713.000000  \n",
      "co2TailpipeAGpm      0.000000      0.000000    713.000000  \n",
      "co2TailpipeGpm     459.000000    535.789474   1269.571429  \n",
      "comb08              20.000000     23.000000    136.000000  \n",
      "comb08U              0.000000      0.000000    136.000000  \n",
      "combA08              0.000000      0.000000    133.000000  \n",
      "combA08U             0.000000      0.000000    133.266200  \n",
      "combE                0.000000      0.000000    121.000000  \n",
      "combinedCD           0.000000      0.000000      4.800000  \n",
      "combinedUF           0.000000      0.000000      0.888000  \n",
      "cylinders            6.000000      6.000000     16.000000  \n",
      "displ                3.000000      4.300000      8.400000  \n",
      "engId              202.000000   4401.000000  69102.000000  \n",
      "feScore             -1.000000     -1.000000     10.000000  \n",
      "fuelCost08        2250.000000   2500.000000   6850.000000  \n",
      "fuelCostA08          0.000000      0.000000   3850.000000  \n",
      "ghgScore            -1.000000     -1.000000     10.000000  \n",
      "ghgScoreA           -1.000000     -1.000000      8.000000  \n",
      "highway08           24.000000     27.000000    122.000000  \n",
      "highway08U           0.000000      0.000000    122.000000  \n",
      "highwayA08           0.000000      0.000000    121.000000  \n",
      "highwayA08U          0.000000      0.000000    121.200500  \n",
      "highwayCD            0.000000      0.000000      4.060000  \n",
      "highwayE             0.000000      0.000000    120.000000  \n",
      "highwayUF            0.000000      0.000000      0.877000  \n",
      "hlv                  0.000000      0.000000     49.000000  \n",
      "hpv                  0.000000      0.000000    195.000000  \n",
      "id               19552.000000  29555.000000  39483.000000  \n",
      "lv2                  0.000000      0.000000     41.000000  \n",
      "lv4                  0.000000     13.000000     55.000000  \n",
      "pv2                  0.000000      0.000000    194.000000  \n",
      "pv4                  0.000000     91.000000    192.000000  \n",
      "range                0.000000      0.000000    335.000000  \n",
      "rangeCity            0.000000      0.000000    333.100000  \n",
      "rangeCityA           0.000000      0.000000    103.030000  \n",
      "rangeHwy             0.000000      0.000000    346.900000  \n",
      "rangeHwyA            0.000000      0.000000     90.550000  \n",
      "UCity               21.111100     25.475600    224.800000  \n",
      "UCityA               0.000000      0.000000    207.262200  \n",
      "UHighway            33.000000     38.600000    182.700000  \n",
      "UHighwayA            0.000000      0.000000    173.143600  \n",
      "year              2001.000000   2010.000000   2018.000000  \n",
      "youSaveSpend     -3500.000000  -1500.000000   5250.000000  \n",
      "charge240b           0.000000      0.000000      7.000000  \n",
      "phevCity             0.000000      0.000000     97.000000  \n",
      "phevHwy              0.000000      0.000000     81.000000  \n",
      "phevComb             0.000000      0.000000     88.000000  \n"
     ]
    }
   ],
   "source": [
    "# 用轉置呈現欄位數多的資料\n",
    "print(fueleco.describe().T)"
   ]
  },
  {
   "cell_type": "markdown",
   "id": "bcbfc018",
   "metadata": {},
   "source": [
    "## 5.2 轉換欄位的資料型別"
   ]
  },
  {
   "cell_type": "code",
   "execution_count": 8,
   "id": "db95a9c7",
   "metadata": {},
   "outputs": [
    {
     "data": {
      "text/plain": [
       "barrels08     float64\n",
       "barrelsA08    float64\n",
       "charge120     float64\n",
       "charge240     float64\n",
       "city08          int64\n",
       "               ...   \n",
       "modifiedOn     object\n",
       "startStop      object\n",
       "phevCity        int64\n",
       "phevHwy         int64\n",
       "phevComb        int64\n",
       "Length: 83, dtype: object"
      ]
     },
     "execution_count": 8,
     "metadata": {},
     "output_type": "execute_result"
    }
   ],
   "source": [
    "# 查看各欄的資料型別\n",
    "fueleco.dtypes"
   ]
  },
  {
   "cell_type": "code",
   "execution_count": 9,
   "id": "ecf327f2",
   "metadata": {},
   "outputs": [
    {
     "data": {
      "text/plain": [
       "float64    32\n",
       "int64      27\n",
       "object     23\n",
       "bool        1\n",
       "Name: count, dtype: int64"
      ]
     },
     "execution_count": 9,
     "metadata": {},
     "output_type": "execute_result"
    }
   ],
   "source": [
    "# 對資料型別做摘要統計\n",
    "fueleco.dtypes.value_counts()"
   ]
  },
  {
   "cell_type": "code",
   "execution_count": 10,
   "id": "669dc036",
   "metadata": {},
   "outputs": [
    {
     "name": "stdout",
     "output_type": "stream",
     "text": [
      "                count          mean           std      min     25%      50%  \\\n",
      "city08        39101.0     18.077799      6.970672      6.0    15.0     17.0   \n",
      "cityA08       39101.0      0.569883      4.297124      0.0     0.0      0.0   \n",
      "co2           39101.0     72.538989    163.252019     -1.0    -1.0     -1.0   \n",
      "co2A          39101.0      5.543950     55.956932     -1.0    -1.0     -1.0   \n",
      "comb08        39101.0     20.323828      6.882807      7.0    17.0     20.0   \n",
      "combA08       39101.0      0.631160      4.395797      0.0     0.0      0.0   \n",
      "engId         39101.0   8582.377382  17606.675590      0.0     0.0    202.0   \n",
      "feScore       39101.0      0.122580      2.516348     -1.0    -1.0     -1.0   \n",
      "fuelCost08    39101.0   2242.470781    601.273869    500.0  1850.0   2250.0   \n",
      "fuelCostA08   39101.0     91.335260    479.485802      0.0     0.0      0.0   \n",
      "ghgScore      39101.0      0.120866      2.512612     -1.0    -1.0     -1.0   \n",
      "ghgScoreA     39101.0     -0.923889      0.651017     -1.0    -1.0     -1.0   \n",
      "highway08     39101.0     24.208588      7.128070      9.0    20.0     24.0   \n",
      "highwayA08    39101.0      0.736452      4.694207      0.0     0.0      0.0   \n",
      "hlv           39101.0      2.029539      5.959735      0.0     0.0      0.0   \n",
      "hpv           39101.0     10.411243     28.167271      0.0     0.0      0.0   \n",
      "id            39101.0  19662.541188  11413.329199      1.0  9776.0  19552.0   \n",
      "lv2           39101.0      1.834812      4.407887      0.0     0.0      0.0   \n",
      "lv4           39101.0      6.155930      9.698101      0.0     0.0      0.0   \n",
      "pv2           39101.0     13.649574     31.214466      0.0     0.0      0.0   \n",
      "pv4           39101.0     33.883711     45.991687      0.0     0.0      0.0   \n",
      "range         39101.0      0.500243      9.742080      0.0     0.0      0.0   \n",
      "year          39101.0   2000.635406     10.690422   1984.0  1991.0   2001.0   \n",
      "youSaveSpend  39101.0  -3459.572645   3010.284617 -26500.0 -4750.0  -3500.0   \n",
      "phevCity      39101.0      0.094703      2.279478      0.0     0.0      0.0   \n",
      "phevHwy       39101.0      0.094269      2.191115      0.0     0.0      0.0   \n",
      "phevComb      39101.0      0.094141      2.226500      0.0     0.0      0.0   \n",
      "\n",
      "                  75%      max  \n",
      "city08           20.0    150.0  \n",
      "cityA08           0.0    145.0  \n",
      "co2              -1.0    847.0  \n",
      "co2A             -1.0    713.0  \n",
      "comb08           23.0    136.0  \n",
      "combA08           0.0    133.0  \n",
      "engId          4401.0  69102.0  \n",
      "feScore          -1.0     10.0  \n",
      "fuelCost08     2500.0   6850.0  \n",
      "fuelCostA08       0.0   3850.0  \n",
      "ghgScore         -1.0     10.0  \n",
      "ghgScoreA        -1.0      8.0  \n",
      "highway08        27.0    122.0  \n",
      "highwayA08        0.0    121.0  \n",
      "hlv               0.0     49.0  \n",
      "hpv               0.0    195.0  \n",
      "id            29555.0  39483.0  \n",
      "lv2               0.0     41.0  \n",
      "lv4              13.0     55.0  \n",
      "pv2               0.0    194.0  \n",
      "pv4              91.0    192.0  \n",
      "range             0.0    335.0  \n",
      "year           2010.0   2018.0  \n",
      "youSaveSpend  -1500.0   5250.0  \n",
      "phevCity          0.0     97.0  \n",
      "phevHwy           0.0     81.0  \n",
      "phevComb          0.0     88.0  \n"
     ]
    }
   ],
   "source": [
    "# 檢視int64 欄位\n",
    "print(fueleco.select_dtypes('int64').describe().T)"
   ]
  },
  {
   "cell_type": "code",
   "execution_count": 11,
   "id": "b1036e52",
   "metadata": {},
   "outputs": [
    {
     "name": "stdout",
     "output_type": "stream",
     "text": [
      "Machine parameters for int8\n",
      "---------------------------------------------------------------\n",
      "min = -128\n",
      "max = 127\n",
      "---------------------------------------------------------------\n",
      "\n",
      "Machine parameters for int16\n",
      "---------------------------------------------------------------\n",
      "min = -32768\n",
      "max = 32767\n",
      "---------------------------------------------------------------\n",
      "\n"
     ]
    }
   ],
   "source": [
    "# int8 的上下限\n",
    "print(np.iinfo(np.int8))\n",
    "# int16 的上下限\n",
    "print(np.iinfo(np.int16))"
   ]
  },
  {
   "cell_type": "code",
   "execution_count": 13,
   "id": "245f220f",
   "metadata": {},
   "outputs": [
    {
     "name": "stdout",
     "output_type": "stream",
     "text": [
      "<class 'pandas.core.frame.DataFrame'>\n",
      "RangeIndex: 39101 entries, 0 to 39100\n",
      "Data columns (total 2 columns):\n",
      " #   Column  Non-Null Count  Dtype\n",
      "---  ------  --------------  -----\n",
      " 0   city08  39101 non-null  int64\n",
      " 1   comb08  39101 non-null  int64\n",
      "dtypes: int64(2)\n",
      "memory usage: 611.1 KB\n"
     ]
    }
   ],
   "source": [
    "# 查詢'city08', 'comb08' 占用的記憶體空間\n",
    "fueleco[['city08', 'comb08']].info()"
   ]
  },
  {
   "cell_type": "code",
   "execution_count": 14,
   "id": "96d554be",
   "metadata": {},
   "outputs": [
    {
     "name": "stdout",
     "output_type": "stream",
     "text": [
      "<class 'pandas.core.frame.DataFrame'>\n",
      "RangeIndex: 39101 entries, 0 to 39100\n",
      "Data columns (total 2 columns):\n",
      " #   Column  Non-Null Count  Dtype\n",
      "---  ------  --------------  -----\n",
      " 0   city08  39101 non-null  int16\n",
      " 1   comb08  39101 non-null  int16\n",
      "dtypes: int16(2)\n",
      "memory usage: 152.9 KB\n",
      "None\n"
     ]
    }
   ],
   "source": [
    "# 改為int16\n",
    "print(fueleco[['city08', 'comb08']]\n",
    "      .assign(city08=fueleco.city08.astype(np.int16),\n",
    "              comb08=fueleco.comb08.astype(np.int16))\n",
    "              .info())"
   ]
  },
  {
   "cell_type": "code",
   "execution_count": 15,
   "id": "1405b56f",
   "metadata": {},
   "outputs": [
    {
     "name": "stdout",
     "output_type": "stream",
     "text": [
      "134\n",
      "3816\n"
     ]
    }
   ],
   "source": [
    "# 查看make欄位\n",
    "print(fueleco.make.nunique())\n",
    "\n",
    "# 查看model欄位\n",
    "print(fueleco.model.nunique())"
   ]
  },
  {
   "cell_type": "code",
   "execution_count": 16,
   "id": "92f99323",
   "metadata": {},
   "outputs": [
    {
     "name": "stdout",
     "output_type": "stream",
     "text": [
      "<class 'pandas.core.frame.DataFrame'>\n",
      "RangeIndex: 39101 entries, 0 to 39100\n",
      "Data columns (total 1 columns):\n",
      " #   Column  Non-Null Count  Dtype \n",
      "---  ------  --------------  ----- \n",
      " 0   make    39101 non-null  object\n",
      "dtypes: object(1)\n",
      "memory usage: 2.1 MB\n",
      "None\n",
      "<class 'pandas.core.frame.DataFrame'>\n",
      "RangeIndex: 39101 entries, 0 to 39100\n",
      "Data columns (total 1 columns):\n",
      " #   Column  Non-Null Count  Dtype   \n",
      "---  ------  --------------  -----   \n",
      " 0   make    39101 non-null  category\n",
      "dtypes: category(1)\n",
      "memory usage: 81.6 KB\n",
      "None\n"
     ]
    }
   ],
   "source": [
    "# 比較轉換make 欄位型別後差異\n",
    "print(fueleco[['make']].info(memory_usage='deep'))\n",
    "\n",
    "print(fueleco[['make']]\n",
    "      .assign(make=fueleco.make.astype('category'))\n",
    "      .info())"
   ]
  },
  {
   "cell_type": "code",
   "execution_count": 17,
   "id": "8044d1d5",
   "metadata": {},
   "outputs": [
    {
     "name": "stdout",
     "output_type": "stream",
     "text": [
      "<class 'pandas.core.frame.DataFrame'>\n",
      "RangeIndex: 39101 entries, 0 to 39100\n",
      "Data columns (total 1 columns):\n",
      " #   Column  Non-Null Count  Dtype \n",
      "---  ------  --------------  ----- \n",
      " 0   model   39101 non-null  object\n",
      "dtypes: object(1)\n",
      "memory usage: 2.2 MB\n",
      "None\n",
      "<class 'pandas.core.frame.DataFrame'>\n",
      "RangeIndex: 39101 entries, 0 to 39100\n",
      "Data columns (total 2 columns):\n",
      " #   Column  Non-Null Count  Dtype   \n",
      "---  ------  --------------  -----   \n",
      " 0   model   39101 non-null  object  \n",
      " 1   make    39101 non-null  category\n",
      "dtypes: category(1), object(1)\n",
      "memory usage: 387.1+ KB\n",
      "None\n"
     ]
    }
   ],
   "source": [
    "# 比較轉換model 欄位型別後差異\n",
    "print(fueleco[['model']].info(memory_usage='deep'))\n",
    "\n",
    "print(fueleco[['model']]\n",
    "      .assign(make=fueleco.make.astype('category'))\n",
    "      .info())"
   ]
  },
  {
   "cell_type": "markdown",
   "id": "033d71d7",
   "metadata": {},
   "source": [
    "## 5.3 資料轉換與缺失值處理"
   ]
  },
  {
   "cell_type": "code",
   "execution_count": 18,
   "id": "fd202fb5",
   "metadata": {},
   "outputs": [
    {
     "data": {
      "text/plain": [
       "Index(['drive', 'eng_dscr', 'fuelType', 'fuelType1', 'make', 'model',\n",
       "       'mpgData', 'trany', 'VClass', 'guzzler', 'trans_dscr', 'tCharger',\n",
       "       'sCharger', 'atvType', 'fuelType2', 'rangeA', 'evMotor', 'mfrCode',\n",
       "       'c240Dscr', 'c240bDscr', 'createdOn', 'modifiedOn', 'startStop'],\n",
       "      dtype='object')"
      ]
     },
     "execution_count": 18,
     "metadata": {},
     "output_type": "execute_result"
    }
   ],
   "source": [
    "# 選取object 資料型別的資料\n",
    "fueleco.select_dtypes(object).columns"
   ]
  },
  {
   "cell_type": "code",
   "execution_count": 19,
   "id": "c55dc375",
   "metadata": {},
   "outputs": [
    {
     "data": {
      "text/plain": [
       "7"
      ]
     },
     "execution_count": 19,
     "metadata": {},
     "output_type": "execute_result"
    }
   ],
   "source": [
    "# 以drive欄位為例\n",
    "fueleco.drive.nunique()"
   ]
  },
  {
   "cell_type": "code",
   "execution_count": 20,
   "id": "b9e4a8fd",
   "metadata": {},
   "outputs": [
    {
     "data": {
      "text/plain": [
       "4217     4-Wheel or All-Wheel Drive\n",
       "1736     4-Wheel or All-Wheel Drive\n",
       "36029              Rear-Wheel Drive\n",
       "37631             Front-Wheel Drive\n",
       "1668               Rear-Wheel Drive\n",
       "Name: drive, dtype: object"
      ]
     },
     "execution_count": 20,
     "metadata": {},
     "output_type": "execute_result"
    }
   ],
   "source": [
    "# 用sample 查看一些資料\n",
    "fueleco.drive.sample(5, random_state=42)"
   ]
  },
  {
   "cell_type": "code",
   "execution_count": 22,
   "id": "87791e24",
   "metadata": {},
   "outputs": [
    {
     "name": "stdout",
     "output_type": "stream",
     "text": [
      "1189\n"
     ]
    }
   ],
   "source": [
    "# 檢查缺失值總數\n",
    "print(fueleco.drive.isna().sum())"
   ]
  },
  {
   "cell_type": "code",
   "execution_count": 23,
   "id": "7343b587",
   "metadata": {},
   "outputs": [
    {
     "name": "stdout",
     "output_type": "stream",
     "text": [
      "3.0408429451932175\n"
     ]
    }
   ],
   "source": [
    "# 計算缺失值占比\n",
    "print(fueleco.drive.isna().mean() * 100)"
   ]
  },
  {
   "cell_type": "code",
   "execution_count": 24,
   "id": "670531ff",
   "metadata": {},
   "outputs": [
    {
     "data": {
      "text/plain": [
       "drive\n",
       "Front-Wheel Drive             13653\n",
       "Rear-Wheel Drive              13284\n",
       "4-Wheel or All-Wheel Drive     6648\n",
       "All-Wheel Drive                2401\n",
       "4-Wheel Drive                  1221\n",
       "NaN                            1189\n",
       "2-Wheel Drive                   507\n",
       "Part-time 4-Wheel Drive         198\n",
       "Name: count, dtype: int64"
      ]
     },
     "execution_count": 24,
     "metadata": {},
     "output_type": "execute_result"
    }
   ],
   "source": [
    "# 使用value_counts()\n",
    "fueleco.drive.value_counts(dropna=False)"
   ]
  },
  {
   "cell_type": "code",
   "execution_count": 30,
   "id": "23a57b99",
   "metadata": {},
   "outputs": [
    {
     "name": "stdout",
     "output_type": "stream",
     "text": [
      "make\n",
      "Other        23211\n",
      "Chevrolet     3900\n",
      "Ford          3208\n",
      "Dodge         2557\n",
      "GMC           2442\n",
      "Toyota        1976\n",
      "BMW           1807\n",
      "Name: count, dtype: int64\n"
     ]
    }
   ],
   "source": [
    "# 只保留相對多的分類 例如前六名\n",
    "top_n = fueleco.make.value_counts().index[:6]\n",
    "print(fueleco\n",
    "        .assign(make=fueleco.make.where(\n",
    "                fueleco.make.isin(top_n), 'Other'))\n",
    "        .make\n",
    "        .value_counts()\n",
    ")\n"
   ]
  },
  {
   "cell_type": "code",
   "execution_count": null,
   "id": "fc6e82e6",
   "metadata": {},
   "outputs": [
    {
     "data": {
      "image/png": "[encoded data removed]",
      "text/plain": [
       "<Figure size 1000x800 with 1 Axes>"
      ]
     },
     "metadata": {},
     "output_type": "display_data"
    }
   ],
   "source": [
    "# 以matplotlib 視覺化\n",
    "import matplotlib.pyplot as plt\n",
    "fig, ax = plt.subplots(figsize=(10, 8))\n",
    "top_n = fueleco.make.value_counts().index[:6]\n",
    "(fueleco\n",
    "    .assign(make=fueleco.make.where(\n",
    "            fueleco.make.isin(top_n), 'Other'))\n",
    "    .make\n",
    "    .value_counts()\n",
    "    .plot.bar(ax=ax)\n",
    ");"
   ]
  },
  {
   "cell_type": "code",
   "execution_count": 36,
   "id": "87dce689",
   "metadata": {},
   "outputs": [
    {
     "data": {
      "image/png": "[encoded data removed]",
      "text/plain": [
       "<Figure size 1000x800 with 1 Axes>"
      ]
     },
     "metadata": {},
     "output_type": "display_data"
    }
   ],
   "source": [
    "# 使用Seaborn\n",
    "import seaborn as sns\n",
    "fig, ax = plt.subplots(figsize=(10, 8))\n",
    "top_n = fueleco.make.value_counts().index[:6]\n",
    "sns.countplot(y='make',\n",
    "              data=(\n",
    "                  fueleco\n",
    "                    .assign(make=fueleco.make.where(\n",
    "                            fueleco.make.isin(top_n), 'Other'))\n",
    "              ));"
   ]
  },
  {
   "cell_type": "code",
   "execution_count": 38,
   "id": "e7e7a8b3",
   "metadata": {},
   "outputs": [
    {
     "data": {
      "text/plain": [
       "rangeA\n",
       "258        1\n",
       "328        1\n",
       "334        1\n",
       "256        1\n",
       "301        1\n",
       "286        1\n",
       "36         1\n",
       "40         1\n",
       "341        1\n",
       "17         1\n",
       "289/430    1\n",
       "22         1\n",
       "337/501    1\n",
       "362/537    1\n",
       "97         1\n",
       "29         1\n",
       "9          1\n",
       "31         1\n",
       "25         1\n",
       "18         1\n",
       "Name: count, dtype: int64"
      ]
     },
     "execution_count": 38,
     "metadata": {},
     "output_type": "execute_result"
    }
   ],
   "source": [
    "# 以 rangeA 為例\n",
    "fueleco.rangeA.value_counts().tail(20)"
   ]
  },
  {
   "cell_type": "code",
   "execution_count": 45,
   "id": "6cafc405",
   "metadata": {},
   "outputs": [
    {
     "data": {
      "text/plain": [
       "/    280\n",
       "-     71\n",
       "Name: count, dtype: int64"
      ]
     },
     "execution_count": 45,
     "metadata": {},
     "output_type": "execute_result"
    }
   ],
   "source": [
    "# 找出有問題的字元\n",
    "(fueleco.rangeA.str.extract(r'([^0-9])')\n",
    "    .dropna()\n",
    "    .apply(lambda row: ''.join(row), axis=1)\n",
    "    .value_counts()\n",
    ")"
   ]
  },
  {
   "cell_type": "code",
   "execution_count": 46,
   "id": "cdb8b975",
   "metadata": {},
   "outputs": [
    {
     "data": {
      "text/plain": [
       "{float, str}"
      ]
     },
     "execution_count": 46,
     "metadata": {},
     "output_type": "execute_result"
    }
   ],
   "source": [
    "# 查看object 內個別的資料型別\n",
    "set(fueleco.rangeA.apply(type))"
   ]
  },
  {
   "cell_type": "code",
   "execution_count": 47,
   "id": "326766cd",
   "metadata": {},
   "outputs": [
    {
     "data": {
      "text/plain": [
       "0        0.0\n",
       "1        0.0\n",
       "2        0.0\n",
       "3        0.0\n",
       "4        0.0\n",
       "        ... \n",
       "39096    0.0\n",
       "39097    0.0\n",
       "39098    0.0\n",
       "39099    0.0\n",
       "39100    0.0\n",
       "Length: 39101, dtype: float64"
      ]
     },
     "execution_count": 47,
     "metadata": {},
     "output_type": "execute_result"
    }
   ],
   "source": [
    "# 填補缺失值 與轉換非數值字元\n",
    "(fueleco\n",
    "    .rangeA\n",
    "    .fillna('0')\n",
    "    .str.replace('-', '/')\n",
    "    .str.split('/', expand=True) # expand 代表分成多個欄位\n",
    "    .astype(float)\n",
    "    .mean(axis=1)\n",
    ")"
   ]
  },
  {
   "cell_type": "code",
   "execution_count": null,
   "id": "d31c594e",
   "metadata": {},
   "outputs": [
    {
     "data": {
      "text/plain": [
       "(-0.45, 44.95]     37688\n",
       "(269.7, 314.65]      559\n",
       "(314.65, 359.6]      352\n",
       "(359.6, 404.55]      205\n",
       "(224.75, 269.7]      181\n",
       "(404.55, 449.5]       82\n",
       "(89.9, 134.85]        12\n",
       "(179.8, 224.75]        9\n",
       "(44.95, 89.9]          8\n",
       "(134.85, 179.8]        5\n",
       "Name: count, dtype: int64"
      ]
     },
     "execution_count": 48,
     "metadata": {},
     "output_type": "execute_result"
    }
   ],
   "source": [
    "# 使用cut() 切10個區間\n",
    "(fueleco\n",
    "    .rangeA\n",
    "    .fillna('0')\n",
    "    .str.replace('-', '/')\n",
    "    .str.split('/', expand=True) # expand 代表分成多個欄位\n",
    "    .astype(float)\n",
    "    .mean(axis=1)\n",
    "    .pipe(lambda ser_: pd.cut(ser_, 10)) # pipe 代表把前面的結果傳入lambda 中處理\n",
    "    .value_counts()\n",
    ")"
   ]
  },
  {
   "cell_type": "code",
   "execution_count": 49,
   "id": "830ecf02",
   "metadata": {},
   "outputs": [
    {
     "ename": "ValueError",
     "evalue": "Bin edges must be unique: Index([0.0, 0.0, 0.0, 0.0, 0.0, 0.0, 0.0, 0.0, 0.0, 0.0, 449.5], dtype='float64').\nYou can drop duplicate edges by setting the 'duplicates' kwarg",
     "output_type": "error",
     "traceback": [
      "\u001b[1;31m---------------------------------------------------------------------------\u001b[0m",
      "\u001b[1;31mValueError\u001b[0m                                Traceback (most recent call last)",
      "Cell \u001b[1;32mIn[49], line 9\u001b[0m\n\u001b[0;32m      1\u001b[0m \u001b[38;5;66;03m# 使用qcut()\u001b[39;00m\n\u001b[0;32m      2\u001b[0m (\u001b[43mfueleco\u001b[49m\n\u001b[0;32m      3\u001b[0m \u001b[43m    \u001b[49m\u001b[38;5;241;43m.\u001b[39;49m\u001b[43mrangeA\u001b[49m\n\u001b[0;32m      4\u001b[0m \u001b[43m    \u001b[49m\u001b[38;5;241;43m.\u001b[39;49m\u001b[43mfillna\u001b[49m\u001b[43m(\u001b[49m\u001b[38;5;124;43m'\u001b[39;49m\u001b[38;5;124;43m0\u001b[39;49m\u001b[38;5;124;43m'\u001b[39;49m\u001b[43m)\u001b[49m\n\u001b[0;32m      5\u001b[0m \u001b[43m    \u001b[49m\u001b[38;5;241;43m.\u001b[39;49m\u001b[43mstr\u001b[49m\u001b[38;5;241;43m.\u001b[39;49m\u001b[43mreplace\u001b[49m\u001b[43m(\u001b[49m\u001b[38;5;124;43m'\u001b[39;49m\u001b[38;5;124;43m-\u001b[39;49m\u001b[38;5;124;43m'\u001b[39;49m\u001b[43m,\u001b[49m\u001b[43m \u001b[49m\u001b[38;5;124;43m'\u001b[39;49m\u001b[38;5;124;43m/\u001b[39;49m\u001b[38;5;124;43m'\u001b[39;49m\u001b[43m)\u001b[49m\n\u001b[0;32m      6\u001b[0m \u001b[43m    \u001b[49m\u001b[38;5;241;43m.\u001b[39;49m\u001b[43mstr\u001b[49m\u001b[38;5;241;43m.\u001b[39;49m\u001b[43msplit\u001b[49m\u001b[43m(\u001b[49m\u001b[38;5;124;43m'\u001b[39;49m\u001b[38;5;124;43m/\u001b[39;49m\u001b[38;5;124;43m'\u001b[39;49m\u001b[43m,\u001b[49m\u001b[43m \u001b[49m\u001b[43mexpand\u001b[49m\u001b[38;5;241;43m=\u001b[39;49m\u001b[38;5;28;43;01mTrue\u001b[39;49;00m\u001b[43m)\u001b[49m\u001b[43m \u001b[49m\u001b[38;5;66;43;03m# expand 代表分成多個欄位\u001b[39;49;00m\n\u001b[0;32m      7\u001b[0m \u001b[43m    \u001b[49m\u001b[38;5;241;43m.\u001b[39;49m\u001b[43mastype\u001b[49m\u001b[43m(\u001b[49m\u001b[38;5;28;43mfloat\u001b[39;49m\u001b[43m)\u001b[49m\n\u001b[0;32m      8\u001b[0m \u001b[43m    \u001b[49m\u001b[38;5;241;43m.\u001b[39;49m\u001b[43mmean\u001b[49m\u001b[43m(\u001b[49m\u001b[43maxis\u001b[49m\u001b[38;5;241;43m=\u001b[39;49m\u001b[38;5;241;43m1\u001b[39;49m\u001b[43m)\u001b[49m\n\u001b[1;32m----> 9\u001b[0m \u001b[43m    \u001b[49m\u001b[38;5;241;43m.\u001b[39;49m\u001b[43mpipe\u001b[49m\u001b[43m(\u001b[49m\u001b[38;5;28;43;01mlambda\u001b[39;49;00m\u001b[43m \u001b[49m\u001b[43mser_\u001b[49m\u001b[43m:\u001b[49m\u001b[43m \u001b[49m\u001b[43mpd\u001b[49m\u001b[38;5;241;43m.\u001b[39;49m\u001b[43mqcut\u001b[49m\u001b[43m(\u001b[49m\u001b[43mser_\u001b[49m\u001b[43m,\u001b[49m\u001b[43m \u001b[49m\u001b[38;5;241;43m10\u001b[39;49m\u001b[43m)\u001b[49m\u001b[43m)\u001b[49m \u001b[38;5;66;03m# pipe 代表把前面的結果傳入lambda 中處理\u001b[39;00m\n\u001b[0;32m     10\u001b[0m     \u001b[38;5;241m.\u001b[39mvalue_counts()\n\u001b[0;32m     11\u001b[0m )\n",
      "File \u001b[1;32mc:\\Users\\coffi\\AppData\\Local\\Programs\\Python\\Python313\\Lib\\site-packages\\pandas\\core\\generic.py:6231\u001b[0m, in \u001b[0;36mNDFrame.pipe\u001b[1;34m(self, func, *args, **kwargs)\u001b[0m\n\u001b[0;32m   6229\u001b[0m \u001b[38;5;28;01mif\u001b[39;00m using_copy_on_write():\n\u001b[0;32m   6230\u001b[0m     \u001b[38;5;28;01mreturn\u001b[39;00m common\u001b[38;5;241m.\u001b[39mpipe(\u001b[38;5;28mself\u001b[39m\u001b[38;5;241m.\u001b[39mcopy(deep\u001b[38;5;241m=\u001b[39m\u001b[38;5;28;01mNone\u001b[39;00m), func, \u001b[38;5;241m*\u001b[39margs, \u001b[38;5;241m*\u001b[39m\u001b[38;5;241m*\u001b[39mkwargs)\n\u001b[1;32m-> 6231\u001b[0m \u001b[38;5;28;01mreturn\u001b[39;00m \u001b[43mcommon\u001b[49m\u001b[38;5;241;43m.\u001b[39;49m\u001b[43mpipe\u001b[49m\u001b[43m(\u001b[49m\u001b[38;5;28;43mself\u001b[39;49m\u001b[43m,\u001b[49m\u001b[43m \u001b[49m\u001b[43mfunc\u001b[49m\u001b[43m,\u001b[49m\u001b[43m \u001b[49m\u001b[38;5;241;43m*\u001b[39;49m\u001b[43margs\u001b[49m\u001b[43m,\u001b[49m\u001b[43m \u001b[49m\u001b[38;5;241;43m*\u001b[39;49m\u001b[38;5;241;43m*\u001b[39;49m\u001b[43mkwargs\u001b[49m\u001b[43m)\u001b[49m\n",
      "File \u001b[1;32mc:\\Users\\coffi\\AppData\\Local\\Programs\\Python\\Python313\\Lib\\site-packages\\pandas\\core\\common.py:502\u001b[0m, in \u001b[0;36mpipe\u001b[1;34m(obj, func, *args, **kwargs)\u001b[0m\n\u001b[0;32m    500\u001b[0m     \u001b[38;5;28;01mreturn\u001b[39;00m func(\u001b[38;5;241m*\u001b[39margs, \u001b[38;5;241m*\u001b[39m\u001b[38;5;241m*\u001b[39mkwargs)\n\u001b[0;32m    501\u001b[0m \u001b[38;5;28;01melse\u001b[39;00m:\n\u001b[1;32m--> 502\u001b[0m     \u001b[38;5;28;01mreturn\u001b[39;00m \u001b[43mfunc\u001b[49m\u001b[43m(\u001b[49m\u001b[43mobj\u001b[49m\u001b[43m,\u001b[49m\u001b[43m \u001b[49m\u001b[38;5;241;43m*\u001b[39;49m\u001b[43margs\u001b[49m\u001b[43m,\u001b[49m\u001b[43m \u001b[49m\u001b[38;5;241;43m*\u001b[39;49m\u001b[38;5;241;43m*\u001b[39;49m\u001b[43mkwargs\u001b[49m\u001b[43m)\u001b[49m\n",
      "Cell \u001b[1;32mIn[49], line 9\u001b[0m, in \u001b[0;36m<lambda>\u001b[1;34m(ser_)\u001b[0m\n\u001b[0;32m      1\u001b[0m \u001b[38;5;66;03m# 使用qcut()\u001b[39;00m\n\u001b[0;32m      2\u001b[0m (fueleco\n\u001b[0;32m      3\u001b[0m     \u001b[38;5;241m.\u001b[39mrangeA\n\u001b[0;32m      4\u001b[0m     \u001b[38;5;241m.\u001b[39mfillna(\u001b[38;5;124m'\u001b[39m\u001b[38;5;124m0\u001b[39m\u001b[38;5;124m'\u001b[39m)\n\u001b[0;32m      5\u001b[0m     \u001b[38;5;241m.\u001b[39mstr\u001b[38;5;241m.\u001b[39mreplace(\u001b[38;5;124m'\u001b[39m\u001b[38;5;124m-\u001b[39m\u001b[38;5;124m'\u001b[39m, \u001b[38;5;124m'\u001b[39m\u001b[38;5;124m/\u001b[39m\u001b[38;5;124m'\u001b[39m)\n\u001b[0;32m      6\u001b[0m     \u001b[38;5;241m.\u001b[39mstr\u001b[38;5;241m.\u001b[39msplit(\u001b[38;5;124m'\u001b[39m\u001b[38;5;124m/\u001b[39m\u001b[38;5;124m'\u001b[39m, expand\u001b[38;5;241m=\u001b[39m\u001b[38;5;28;01mTrue\u001b[39;00m) \u001b[38;5;66;03m# expand 代表分成多個欄位\u001b[39;00m\n\u001b[0;32m      7\u001b[0m     \u001b[38;5;241m.\u001b[39mastype(\u001b[38;5;28mfloat\u001b[39m)\n\u001b[0;32m      8\u001b[0m     \u001b[38;5;241m.\u001b[39mmean(axis\u001b[38;5;241m=\u001b[39m\u001b[38;5;241m1\u001b[39m)\n\u001b[1;32m----> 9\u001b[0m     \u001b[38;5;241m.\u001b[39mpipe(\u001b[38;5;28;01mlambda\u001b[39;00m ser_: \u001b[43mpd\u001b[49m\u001b[38;5;241;43m.\u001b[39;49m\u001b[43mqcut\u001b[49m\u001b[43m(\u001b[49m\u001b[43mser_\u001b[49m\u001b[43m,\u001b[49m\u001b[43m \u001b[49m\u001b[38;5;241;43m10\u001b[39;49m\u001b[43m)\u001b[49m) \u001b[38;5;66;03m# pipe 代表把前面的結果傳入lambda 中處理\u001b[39;00m\n\u001b[0;32m     10\u001b[0m     \u001b[38;5;241m.\u001b[39mvalue_counts()\n\u001b[0;32m     11\u001b[0m )\n",
      "File \u001b[1;32mc:\\Users\\coffi\\AppData\\Local\\Programs\\Python\\Python313\\Lib\\site-packages\\pandas\\core\\reshape\\tile.py:340\u001b[0m, in \u001b[0;36mqcut\u001b[1;34m(x, q, labels, retbins, precision, duplicates)\u001b[0m\n\u001b[0;32m    336\u001b[0m quantiles \u001b[38;5;241m=\u001b[39m np\u001b[38;5;241m.\u001b[39mlinspace(\u001b[38;5;241m0\u001b[39m, \u001b[38;5;241m1\u001b[39m, q \u001b[38;5;241m+\u001b[39m \u001b[38;5;241m1\u001b[39m) \u001b[38;5;28;01mif\u001b[39;00m is_integer(q) \u001b[38;5;28;01melse\u001b[39;00m q\n\u001b[0;32m    338\u001b[0m bins \u001b[38;5;241m=\u001b[39m x_idx\u001b[38;5;241m.\u001b[39mto_series()\u001b[38;5;241m.\u001b[39mdropna()\u001b[38;5;241m.\u001b[39mquantile(quantiles)\n\u001b[1;32m--> 340\u001b[0m fac, bins \u001b[38;5;241m=\u001b[39m \u001b[43m_bins_to_cuts\u001b[49m\u001b[43m(\u001b[49m\n\u001b[0;32m    341\u001b[0m \u001b[43m    \u001b[49m\u001b[43mx_idx\u001b[49m\u001b[43m,\u001b[49m\n\u001b[0;32m    342\u001b[0m \u001b[43m    \u001b[49m\u001b[43mIndex\u001b[49m\u001b[43m(\u001b[49m\u001b[43mbins\u001b[49m\u001b[43m)\u001b[49m\u001b[43m,\u001b[49m\n\u001b[0;32m    343\u001b[0m \u001b[43m    \u001b[49m\u001b[43mlabels\u001b[49m\u001b[38;5;241;43m=\u001b[39;49m\u001b[43mlabels\u001b[49m\u001b[43m,\u001b[49m\n\u001b[0;32m    344\u001b[0m \u001b[43m    \u001b[49m\u001b[43mprecision\u001b[49m\u001b[38;5;241;43m=\u001b[39;49m\u001b[43mprecision\u001b[49m\u001b[43m,\u001b[49m\n\u001b[0;32m    345\u001b[0m \u001b[43m    \u001b[49m\u001b[43minclude_lowest\u001b[49m\u001b[38;5;241;43m=\u001b[39;49m\u001b[38;5;28;43;01mTrue\u001b[39;49;00m\u001b[43m,\u001b[49m\n\u001b[0;32m    346\u001b[0m \u001b[43m    \u001b[49m\u001b[43mduplicates\u001b[49m\u001b[38;5;241;43m=\u001b[39;49m\u001b[43mduplicates\u001b[49m\u001b[43m,\u001b[49m\n\u001b[0;32m    347\u001b[0m \u001b[43m\u001b[49m\u001b[43m)\u001b[49m\n\u001b[0;32m    349\u001b[0m \u001b[38;5;28;01mreturn\u001b[39;00m _postprocess_for_cut(fac, bins, retbins, original)\n",
      "File \u001b[1;32mc:\\Users\\coffi\\AppData\\Local\\Programs\\Python\\Python313\\Lib\\site-packages\\pandas\\core\\reshape\\tile.py:443\u001b[0m, in \u001b[0;36m_bins_to_cuts\u001b[1;34m(x_idx, bins, right, labels, precision, include_lowest, duplicates, ordered)\u001b[0m\n\u001b[0;32m    441\u001b[0m \u001b[38;5;28;01mif\u001b[39;00m \u001b[38;5;28mlen\u001b[39m(unique_bins) \u001b[38;5;241m<\u001b[39m \u001b[38;5;28mlen\u001b[39m(bins) \u001b[38;5;129;01mand\u001b[39;00m \u001b[38;5;28mlen\u001b[39m(bins) \u001b[38;5;241m!=\u001b[39m \u001b[38;5;241m2\u001b[39m:\n\u001b[0;32m    442\u001b[0m     \u001b[38;5;28;01mif\u001b[39;00m duplicates \u001b[38;5;241m==\u001b[39m \u001b[38;5;124m\"\u001b[39m\u001b[38;5;124mraise\u001b[39m\u001b[38;5;124m\"\u001b[39m:\n\u001b[1;32m--> 443\u001b[0m         \u001b[38;5;28;01mraise\u001b[39;00m \u001b[38;5;167;01mValueError\u001b[39;00m(\n\u001b[0;32m    444\u001b[0m             \u001b[38;5;124mf\u001b[39m\u001b[38;5;124m\"\u001b[39m\u001b[38;5;124mBin edges must be unique: \u001b[39m\u001b[38;5;132;01m{\u001b[39;00m\u001b[38;5;28mrepr\u001b[39m(bins)\u001b[38;5;132;01m}\u001b[39;00m\u001b[38;5;124m.\u001b[39m\u001b[38;5;130;01m\\n\u001b[39;00m\u001b[38;5;124m\"\u001b[39m\n\u001b[0;32m    445\u001b[0m             \u001b[38;5;124mf\u001b[39m\u001b[38;5;124m\"\u001b[39m\u001b[38;5;124mYou can drop duplicate edges by setting the \u001b[39m\u001b[38;5;124m'\u001b[39m\u001b[38;5;124mduplicates\u001b[39m\u001b[38;5;124m'\u001b[39m\u001b[38;5;124m kwarg\u001b[39m\u001b[38;5;124m\"\u001b[39m\n\u001b[0;32m    446\u001b[0m         )\n\u001b[0;32m    447\u001b[0m     bins \u001b[38;5;241m=\u001b[39m unique_bins\n\u001b[0;32m    449\u001b[0m side: Literal[\u001b[38;5;124m\"\u001b[39m\u001b[38;5;124mleft\u001b[39m\u001b[38;5;124m\"\u001b[39m, \u001b[38;5;124m\"\u001b[39m\u001b[38;5;124mright\u001b[39m\u001b[38;5;124m\"\u001b[39m] \u001b[38;5;241m=\u001b[39m \u001b[38;5;124m\"\u001b[39m\u001b[38;5;124mleft\u001b[39m\u001b[38;5;124m\"\u001b[39m \u001b[38;5;28;01mif\u001b[39;00m right \u001b[38;5;28;01melse\u001b[39;00m \u001b[38;5;124m\"\u001b[39m\u001b[38;5;124mright\u001b[39m\u001b[38;5;124m\"\u001b[39m\n",
      "\u001b[1;31mValueError\u001b[0m: Bin edges must be unique: Index([0.0, 0.0, 0.0, 0.0, 0.0, 0.0, 0.0, 0.0, 0.0, 0.0, 449.5], dtype='float64').\nYou can drop duplicate edges by setting the 'duplicates' kwarg"
     ]
    }
   ],
   "source": [
    "# 使用qcut()\n",
    "(fueleco\n",
    "    .rangeA\n",
    "    .fillna('0')\n",
    "    .str.replace('-', '/')\n",
    "    .str.split('/', expand=True) # expand 代表分成多個欄位\n",
    "    .astype(float)\n",
    "    .mean(axis=1)\n",
    "    .pipe(lambda ser_: pd.qcut(ser_, 10)) # pipe 代表把前面的結果傳入lambda 中處理\n",
    "    .value_counts()\n",
    ")"
   ]
  },
  {
   "cell_type": "code",
   "execution_count": 53,
   "id": "53911458",
   "metadata": {},
   "outputs": [
    {
     "data": {
      "text/plain": [
       "city08\n",
       "(5.999, 13.0]    5939\n",
       "(13.0, 14.0]     2898\n",
       "(14.0, 15.0]     4381\n",
       "(15.0, 16.0]     3855\n",
       "(16.0, 17.0]     3881\n",
       "(17.0, 18.0]     3912\n",
       "(18.0, 19.0]     2847\n",
       "(19.0, 21.0]     4477\n",
       "(21.0, 24.0]     3676\n",
       "(24.0, 150.0]    3235\n",
       "Name: count, dtype: int64"
      ]
     },
     "execution_count": 53,
     "metadata": {},
     "output_type": "execute_result"
    }
   ],
   "source": [
    "# 用其他欄位當qcut()範例\n",
    "(fueleco\n",
    "    .city08\n",
    "    .pipe(lambda ser: pd.qcut(ser, q=10))\n",
    "    .value_counts(sort=False))"
   ]
  },
  {
   "cell_type": "code",
   "execution_count": null,
   "id": "3c30ae02",
   "metadata": {},
   "outputs": [
    {
     "data": {
      "text/plain": [
       "city08\n",
       "(5.856, 20.4]     29832\n",
       "(20.4, 34.8]       8788\n",
       "(34.8, 49.2]        326\n",
       "(49.2, 63.6]         32\n",
       "(63.6, 78.0]          8\n",
       "(78.0, 92.4]         37\n",
       "(92.4, 106.8]        25\n",
       "(106.8, 121.2]       13\n",
       "(121.2, 135.6]       34\n",
       "(135.6, 150.0]        6\n",
       "Name: count, dtype: int64"
      ]
     },
     "execution_count": 52,
     "metadata": {},
     "output_type": "execute_result"
    }
   ],
   "source": [
    "# 用其他欄位當cut()範例\n",
    "(fueleco\n",
    "    .city08\n",
    "    .pipe(lambda ser: pd.cut(ser, 10))\n",
    "    .value_counts(sort=False))"
   ]
  },
  {
   "cell_type": "markdown",
   "id": "1f29c713",
   "metadata": {},
   "source": [
    "## 5.4 檢視連續資料的分布狀況"
   ]
  },
  {
   "cell_type": "code",
   "execution_count": 3,
   "id": "8300412c",
   "metadata": {},
   "outputs": [
    {
     "name": "stdout",
     "output_type": "stream",
     "text": [
      "       barrels08  barrelsA08  charge120  charge240  city08  city08U  cityA08  \\\n",
      "0      15.695714         0.0        0.0        0.0      19      0.0        0   \n",
      "1      29.964545         0.0        0.0        0.0       9      0.0        0   \n",
      "2      12.207778         0.0        0.0        0.0      23      0.0        0   \n",
      "3      29.964545         0.0        0.0        0.0      10      0.0        0   \n",
      "4      17.347895         0.0        0.0        0.0      17      0.0        0   \n",
      "...          ...         ...        ...        ...     ...      ...      ...   \n",
      "39096  14.982273         0.0        0.0        0.0      19      0.0        0   \n",
      "39097  14.330870         0.0        0.0        0.0      20      0.0        0   \n",
      "39098  15.695714         0.0        0.0        0.0      18      0.0        0   \n",
      "39099  15.695714         0.0        0.0        0.0      18      0.0        0   \n",
      "39100  18.311667         0.0        0.0        0.0      16      0.0        0   \n",
      "\n",
      "       cityA08U  cityCD  cityE  ...    UCity  UCityA  UHighway  UHighwayA  \\\n",
      "0           0.0     0.0    0.0  ...  23.3333     0.0   35.0000        0.0   \n",
      "1           0.0     0.0    0.0  ...  11.0000     0.0   19.0000        0.0   \n",
      "2           0.0     0.0    0.0  ...  29.0000     0.0   47.0000        0.0   \n",
      "3           0.0     0.0    0.0  ...  12.2222     0.0   16.6667        0.0   \n",
      "4           0.0     0.0    0.0  ...  21.0000     0.0   32.0000        0.0   \n",
      "...         ...     ...    ...  ...      ...     ...       ...        ...   \n",
      "39096       0.0     0.0    0.0  ...  24.0000     0.0   37.0000        0.0   \n",
      "39097       0.0     0.0    0.0  ...  25.0000     0.0   39.0000        0.0   \n",
      "39098       0.0     0.0    0.0  ...  23.0000     0.0   34.0000        0.0   \n",
      "39099       0.0     0.0    0.0  ...  23.0000     0.0   34.0000        0.0   \n",
      "39100       0.0     0.0    0.0  ...  20.0000     0.0   29.0000        0.0   \n",
      "\n",
      "       year  youSaveSpend  charge240b  phevCity  phevHwy  phevComb  \n",
      "0      1985         -1750         0.0         0        0         0  \n",
      "1      1985        -10500         0.0         0        0         0  \n",
      "2      1985           250         0.0         0        0         0  \n",
      "3      1985        -10500         0.0         0        0         0  \n",
      "4      1993         -4750         0.0         0        0         0  \n",
      "...     ...           ...         ...       ...      ...       ...  \n",
      "39096  1993         -1500         0.0         0        0         0  \n",
      "39097  1993         -1000         0.0         0        0         0  \n",
      "39098  1993         -1750         0.0         0        0         0  \n",
      "39099  1993         -1750         0.0         0        0         0  \n",
      "39100  1993         -5500         0.0         0        0         0  \n",
      "\n",
      "[39101 rows x 59 columns]\n"
     ]
    }
   ],
   "source": [
    "# 篩選出數值類別的資料\n",
    "print(fueleco.select_dtypes('number'))"
   ]
  },
  {
   "cell_type": "code",
   "execution_count": 4,
   "id": "f2eedb9f",
   "metadata": {},
   "outputs": [
    {
     "data": {
      "text/plain": [
       "4217     11\n",
       "1736     21\n",
       "36029    16\n",
       "37631    16\n",
       "1668     17\n",
       "Name: city08, dtype: int64"
      ]
     },
     "execution_count": 4,
     "metadata": {},
     "output_type": "execute_result"
    }
   ],
   "source": [
    "# 要了解特定特徵的長相 可以用sample()\n",
    "fueleco.city08.sample(5, random_state=42)"
   ]
  },
  {
   "cell_type": "code",
   "execution_count": 5,
   "id": "9ba038a4",
   "metadata": {},
   "outputs": [
    {
     "name": "stdout",
     "output_type": "stream",
     "text": [
      "0\n",
      "0.0\n"
     ]
    }
   ],
   "source": [
    "# 計算缺失值\n",
    "print(fueleco.city08.isna().sum())\n",
    "\n",
    "# 計算缺失值占比\n",
    "print(fueleco.city08.isna().mean() * 100)"
   ]
  },
  {
   "cell_type": "code",
   "execution_count": 6,
   "id": "315002ca",
   "metadata": {},
   "outputs": [
    {
     "data": {
      "text/plain": [
       "count    39101.000000\n",
       "mean        18.077799\n",
       "std          6.970672\n",
       "min          6.000000\n",
       "25%         15.000000\n",
       "50%         17.000000\n",
       "75%         20.000000\n",
       "max        150.000000\n",
       "Name: city08, dtype: float64"
      ]
     },
     "execution_count": 6,
     "metadata": {},
     "output_type": "execute_result"
    }
   ],
   "source": [
    "# 檢視資料集中程度\n",
    "fueleco.city08.describe()"
   ]
  },
  {
   "cell_type": "code",
   "execution_count": 8,
   "id": "34b8cd58",
   "metadata": {},
   "outputs": [
    {
     "data": {
      "image/png": "[encoded data removed]",
      "text/plain": [
       "<Figure size 1000x800 with 1 Axes>"
      ]
     },
     "metadata": {},
     "output_type": "display_data"
    }
   ],
   "source": [
    "# 視覺化\n",
    "import matplotlib.pyplot as plt\n",
    "fig, ax = plt.subplots(figsize=(10, 8))\n",
    "fueleco.city08.hist(ax=ax);"
   ]
  },
  {
   "cell_type": "code",
   "execution_count": 9,
   "id": "914627aa",
   "metadata": {},
   "outputs": [
    {
     "data": {
      "image/png": "[encoded data removed]",
      "text/plain": [
       "<Figure size 1000x800 with 1 Axes>"
      ]
     },
     "metadata": {},
     "output_type": "display_data"
    }
   ],
   "source": [
    "# 試著增加區間數目至30\n",
    "import matplotlib.pyplot as plt\n",
    "fig, ax = plt.subplots(figsize=(10, 8))\n",
    "fueleco.city08.hist(ax=ax, bins=30);"
   ]
  },
  {
   "cell_type": "code",
   "execution_count": 18,
   "id": "1e258577",
   "metadata": {},
   "outputs": [
    {
     "data": {
      "image/png": "[encoded data removed]",
      "text/plain": [
       "<Figure size 1000x800 with 1 Axes>"
      ]
     },
     "metadata": {},
     "output_type": "display_data"
    }
   ],
   "source": [
    "# 使用Seaborn 繪圖\n",
    "fig, ax = plt.subplots(figsize=(10, 8))\n",
    "sns.kdeplot(data=fueleco, x=\"city08\", ax=ax, fill=True)\n",
    "sns.rugplot(data=fueleco, x=\"city08\", ax=ax);"
   ]
  },
  {
   "cell_type": "code",
   "execution_count": 26,
   "id": "f0d4e517",
   "metadata": {},
   "outputs": [
    {
     "data": {
      "image/png": "[encoded data removed]",
      "text/plain": [
       "<Figure size 1000x800 with 3 Axes>"
      ]
     },
     "metadata": {},
     "output_type": "display_data"
    }
   ],
   "source": [
    "# 使用小提琴圖 boxen\n",
    "fig, axs = plt.subplots(nrows=3, figsize=(10, 8))\n",
    "sns.boxplot(x=fueleco.city08, ax=axs[0])\n",
    "sns.violinplot(x=fueleco.city08, ax=axs[1])\n",
    "sns.boxenplot(x=fueleco.city08, ax=axs[2])\n",
    "plt.tight_layout();"
   ]
  },
  {
   "cell_type": "code",
   "execution_count": 28,
   "id": "54f82957",
   "metadata": {},
   "outputs": [
    {
     "name": "stdout",
     "output_type": "stream",
     "text": [
      "KstestResult(statistic=np.float64(0.9999999990134123), pvalue=np.float64(0.0), statistic_location=np.int64(6), statistic_sign=np.int8(-1))\n"
     ]
    }
   ],
   "source": [
    "# 使用 Kolmogorov-Smirnov 檢驗法 評估資料是否為常態分布\n",
    "from scipy import stats\n",
    "stats.kstest(fueleco.city08, cdf='norm')"
   ]
  },
  {
   "cell_type": "code",
   "execution_count": 35,
   "id": "00d16180",
   "metadata": {},
   "outputs": [
    {
     "data": {
      "image/png": "[encoded data removed]",
      "text/plain": [
       "<Figure size 1000x800 with 1 Axes>"
      ]
     },
     "metadata": {},
     "output_type": "display_data"
    }
   ],
   "source": [
    "# 用QQ圖比對與標準常態分布的相似情況\n",
    "fig, ax = plt.subplots(figsize=(10, 8))\n",
    "stats.probplot(fueleco.city08, plot=ax);"
   ]
  },
  {
   "cell_type": "markdown",
   "id": "10779630",
   "metadata": {},
   "source": [
    "## 5.5 檢視不同分類的資料分佈"
   ]
  },
  {
   "cell_type": "code",
   "execution_count": 3,
   "id": "b3781d8c",
   "metadata": {},
   "outputs": [
    {
     "name": "stdout",
     "output_type": "stream",
     "text": [
      "            mean       std\n",
      "make                      \n",
      "BMW    17.817377  7.372907\n",
      "Ford   16.853803  6.701029\n",
      "Honda  24.372973  9.154064\n",
      "Tesla  92.826087  5.538970\n"
     ]
    }
   ],
   "source": [
    "# 比較各廠牌間的平均數與標準差\n",
    "mask = fueleco.make.isin(['Ford', 'Honda', 'Tesla', 'BMW'])\n",
    "print(fueleco[mask].groupby('make').city08.agg(['mean', 'std']))"
   ]
  },
  {
   "cell_type": "code",
   "execution_count": 11,
   "id": "e4b83d9e",
   "metadata": {},
   "outputs": [
    {
     "data": {
      "image/png": "[encoded data removed]",
      "text/plain": [
       "<Figure size 500x500 with 1 Axes>"
      ]
     },
     "metadata": {},
     "output_type": "display_data"
    }
   ],
   "source": [
    "# 箱型圖視覺化\n",
    "g = sns.catplot(x='make', y='city08',\n",
    "                data=fueleco[mask], kind='box',hue='make', legend=False)"
   ]
  },
  {
   "cell_type": "code",
   "execution_count": 6,
   "id": "35ff1821",
   "metadata": {},
   "outputs": [
    {
     "name": "stdout",
     "output_type": "stream",
     "text": [
      "make\n",
      "BMW      1807\n",
      "Ford     3208\n",
      "Honda     925\n",
      "Tesla      46\n",
      "Name: city08, dtype: int64\n"
     ]
    }
   ],
   "source": [
    "# 查看各廠牌的樣本數量\n",
    "mask = fueleco.make.isin(['Ford', 'Honda', 'Tesla', 'BMW'])\n",
    "print(fueleco[mask].groupby('make').city08.count())"
   ]
  },
  {
   "cell_type": "code",
   "execution_count": null,
   "id": "4cf7d44c",
   "metadata": {},
   "outputs": [
    {
     "data": {
      "image/png": "[encoded data removed]",
      "text/plain": [
       "<Figure size 511.111x500 with 1 Axes>"
      ]
     },
     "metadata": {},
     "output_type": "display_data"
    }
   ],
   "source": [
    "# 疊加swarm圖\n",
    "g = sns.catplot(x='make', y='city08',\n",
    "                data=fueleco[mask], kind='box')\n",
    "sns.swarmplot(x='make', y='city08', data=fueleco[mask], color='k', size=0.1, ax=g.ax);"
   ]
  },
  {
   "cell_type": "code",
   "execution_count": 12,
   "id": "25354205",
   "metadata": {},
   "outputs": [
    {
     "data": {
      "image/png": "[encoded data removed]",
      "text/plain": [
       "<Figure size 1000x1000 with 4 Axes>"
      ]
     },
     "metadata": {},
     "output_type": "display_data"
    }
   ],
   "source": [
    "# 增加出廠年份\n",
    "g = sns.catplot(x='make', y='city08',\n",
    "                data=fueleco[mask], kind='box',\n",
    "                col='year', col_order=[2012, 2014, 2016, 2018],\n",
    "                col_wrap=2,hue='make', legend=False)"
   ]
  },
  {
   "cell_type": "code",
   "execution_count": 25,
   "id": "820432bf",
   "metadata": {},
   "outputs": [
    {
     "data": {
      "image/png": "[encoded data removed]",
      "text/plain": [
       "<Figure size 670.5x500 with 1 Axes>"
      ]
     },
     "metadata": {},
     "output_type": "display_data"
    }
   ],
   "source": [
    "# 用 hue 指定出廠年份\n",
    "mask2 = fueleco.make.isin(['Ford', 'Honda', 'Tesla', 'BMW']) \\\n",
    "        & fueleco.year.isin([2012, 2014, 2016, 2018])\n",
    "g = sns.catplot(x='make', y='city08',\n",
    "                data=fueleco[mask2], kind='box',\n",
    "                hue='year', hue_order=[2012, 2014, 2016, 2018])\n",
    "\n",
    "# 先移除舊的\n",
    "g._legend.remove()  \n",
    "g.add_legend(title='Year');"
   ]
  },
  {
   "cell_type": "code",
   "execution_count": null,
   "id": "0e442fbe",
   "metadata": {},
   "outputs": [
    {
     "data": {
      "text/html": [
       "<style type=\"text/css\">\n",
       "#T_a9f7e_row0_col0 {\n",
       "  background-color: #700320;\n",
       "  color: #f1f1f1;\n",
       "}\n",
       "#T_a9f7e_row0_col1 {\n",
       "  background-color: #f5f6f7;\n",
       "  color: #000000;\n",
       "}\n",
       "#T_a9f7e_row1_col0, #T_a9f7e_row3_col1 {\n",
       "  background-color: #67001f;\n",
       "  color: #f1f1f1;\n",
       "}\n",
       "#T_a9f7e_row1_col1 {\n",
       "  background-color: #f6b191;\n",
       "  color: #000000;\n",
       "}\n",
       "#T_a9f7e_row2_col0 {\n",
       "  background-color: #b1182b;\n",
       "  color: #f1f1f1;\n",
       "}\n",
       "#T_a9f7e_row2_col1, #T_a9f7e_row3_col0 {\n",
       "  background-color: #053061;\n",
       "  color: #f1f1f1;\n",
       "}\n",
       "</style>\n",
       "<table id=\"T_a9f7e\">\n",
       "  <thead>\n",
       "    <tr>\n",
       "      <th class=\"blank level0\" >&nbsp;</th>\n",
       "      <th id=\"T_a9f7e_level0_col0\" class=\"col_heading level0 col0\" >mean</th>\n",
       "      <th id=\"T_a9f7e_level0_col1\" class=\"col_heading level0 col1\" >std</th>\n",
       "    </tr>\n",
       "    <tr>\n",
       "      <th class=\"index_name level0\" >make</th>\n",
       "      <th class=\"blank col0\" >&nbsp;</th>\n",
       "      <th class=\"blank col1\" >&nbsp;</th>\n",
       "    </tr>\n",
       "  </thead>\n",
       "  <tbody>\n",
       "    <tr>\n",
       "      <th id=\"T_a9f7e_level0_row0\" class=\"row_heading level0 row0\" >BMW</th>\n",
       "      <td id=\"T_a9f7e_row0_col0\" class=\"data row0 col0\" >17.817377</td>\n",
       "      <td id=\"T_a9f7e_row0_col1\" class=\"data row0 col1\" >7.372907</td>\n",
       "    </tr>\n",
       "    <tr>\n",
       "      <th id=\"T_a9f7e_level0_row1\" class=\"row_heading level0 row1\" >Ford</th>\n",
       "      <td id=\"T_a9f7e_row1_col0\" class=\"data row1 col0\" >16.853803</td>\n",
       "      <td id=\"T_a9f7e_row1_col1\" class=\"data row1 col1\" >6.701029</td>\n",
       "    </tr>\n",
       "    <tr>\n",
       "      <th id=\"T_a9f7e_level0_row2\" class=\"row_heading level0 row2\" >Honda</th>\n",
       "      <td id=\"T_a9f7e_row2_col0\" class=\"data row2 col0\" >24.372973</td>\n",
       "      <td id=\"T_a9f7e_row2_col1\" class=\"data row2 col1\" >9.154064</td>\n",
       "    </tr>\n",
       "    <tr>\n",
       "      <th id=\"T_a9f7e_level0_row3\" class=\"row_heading level0 row3\" >Tesla</th>\n",
       "      <td id=\"T_a9f7e_row3_col0\" class=\"data row3 col0\" >92.826087</td>\n",
       "      <td id=\"T_a9f7e_row3_col1\" class=\"data row3 col1\" >5.538970</td>\n",
       "    </tr>\n",
       "  </tbody>\n",
       "</table>\n"
      ],
      "text/plain": [
       "<pandas.io.formats.style.Styler at 0x17e18632780>"
      ]
     },
     "execution_count": 22,
     "metadata": {},
     "output_type": "execute_result"
    }
   ],
   "source": [
    "# jupyter nootbook 的隱藏功能 直接輸出的極端值變深色\n",
    "(fueleco[mask].groupby('make').city08.agg(['mean', 'std'])\n",
    " .style.background_gradient(cmap='RdBu', axis=0))"
   ]
  },
  {
   "cell_type": "markdown",
   "id": "74e8ea92",
   "metadata": {},
   "source": [
    "## 5.6 比較連續欄位間的關聯性"
   ]
  }
 ],
 "metadata": {
  "kernelspec": {
   "display_name": "Python 3",
   "language": "python",
   "name": "python3"
  },
  "language_info": {
   "codemirror_mode": {
    "name": "ipython",
    "version": 3
   },
   "file_extension": ".py",
   "mimetype": "text/x-python",
   "name": "python",
   "nbconvert_exporter": "python",
   "pygments_lexer": "ipython3",
   "version": "3.13.0"
  }
 },
 "nbformat": 4,
 "nbformat_minor": 5
}

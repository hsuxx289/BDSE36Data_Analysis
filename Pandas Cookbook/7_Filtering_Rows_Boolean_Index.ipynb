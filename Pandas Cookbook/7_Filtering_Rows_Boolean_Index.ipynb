{
 "cells": [
  {
   "cell_type": "code",
   "execution_count": 1,
   "id": "d22ea468",
   "metadata": {},
   "outputs": [],
   "source": [
    "import pandas as pd\n",
    "import numpy as np"
   ]
  },
  {
   "cell_type": "markdown",
   "id": "cd714c31",
   "metadata": {},
   "source": [
    "## 7.1 計算布林陣列的統計資訊"
   ]
  },
  {
   "cell_type": "code",
   "execution_count": null,
   "id": "536e0f3c",
   "metadata": {},
   "outputs": [
    {
     "name": "stdout",
     "output_type": "stream",
     "text": [
      "                                            duration\n",
      "movie_title                                         \n",
      "Avatar                                         178.0\n",
      "Pirates of the Caribbean: At World's End       169.0\n",
      "Spectre                                        148.0\n",
      "The Dark Knight Rises                          164.0\n",
      "Star Wars: Episode VII - The Force Awakens       NaN\n",
      "John Carter                                    132.0\n",
      "Spider-Man 3                                   156.0\n",
      "Tangled                                        100.0\n",
      "Avengers: Age of Ultron                        141.0\n",
      "Harry Potter and the Half-Blood Prince         153.0\n"
     ]
    }
   ],
   "source": [
    "# 載入資料集 並以title 為索引\n",
    "movie = pd.read_csv('../../data/movie.csv', index_col='movie_title')\n",
    "print(movie[['duration']].head(10))"
   ]
  },
  {
   "cell_type": "code",
   "execution_count": 4,
   "id": "395bb6e6",
   "metadata": {},
   "outputs": [
    {
     "name": "stdout",
     "output_type": "stream",
     "text": [
      "movie_title\n",
      "Avatar                                         True\n",
      "Pirates of the Caribbean: At World's End       True\n",
      "Spectre                                        True\n",
      "The Dark Knight Rises                          True\n",
      "Star Wars: Episode VII - The Force Awakens    False\n",
      "John Carter                                    True\n",
      "Spider-Man 3                                   True\n",
      "Tangled                                       False\n",
      "Avengers: Age of Ultron                        True\n",
      "Harry Potter and the Half-Blood Prince         True\n",
      "Name: duration, dtype: bool\n"
     ]
    }
   ],
   "source": [
    "# 尋找片長大於2小時的電影\n",
    "movie_2_hours = movie['duration'] > 120\n",
    "print(movie_2_hours.head(10))"
   ]
  },
  {
   "cell_type": "code",
   "execution_count": 5,
   "id": "ce543dc4",
   "metadata": {},
   "outputs": [
    {
     "name": "stdout",
     "output_type": "stream",
     "text": [
      "1039\n",
      "21.13506916192026\n"
     ]
    }
   ],
   "source": [
    "# 計算總數\n",
    "print(movie_2_hours.sum())\n",
    "\n",
    "# 計算百分比\n",
    "print(movie_2_hours.mean() * 100)"
   ]
  },
  {
   "cell_type": "code",
   "execution_count": 6,
   "id": "11518fa4",
   "metadata": {},
   "outputs": [
    {
     "name": "stdout",
     "output_type": "stream",
     "text": [
      "21.199755152009793\n"
     ]
    }
   ],
   "source": [
    "# 去除NaN 運算\n",
    "print(movie['duration'].dropna().gt(120).mean() * 100)"
   ]
  },
  {
   "cell_type": "code",
   "execution_count": 7,
   "id": "0d59b970",
   "metadata": {},
   "outputs": [
    {
     "name": "stdout",
     "output_type": "stream",
     "text": [
      "count      4916\n",
      "unique        2\n",
      "top       False\n",
      "freq       3877\n",
      "Name: duration, dtype: object\n"
     ]
    }
   ],
   "source": [
    "# 輸出摘要統計\n",
    "print(movie_2_hours.describe())"
   ]
  },
  {
   "cell_type": "code",
   "execution_count": 8,
   "id": "21f5cacd",
   "metadata": {},
   "outputs": [
    {
     "name": "stdout",
     "output_type": "stream",
     "text": [
      "count    4916.000000\n",
      "mean        0.211351\n",
      "std         0.408308\n",
      "min         0.000000\n",
      "25%         0.000000\n",
      "50%         0.000000\n",
      "75%         0.000000\n",
      "max         1.000000\n",
      "Name: duration, dtype: float64\n"
     ]
    }
   ],
   "source": [
    "# 轉換資料型別為整數\n",
    "print(movie_2_hours.astype(int).describe())"
   ]
  },
  {
   "cell_type": "code",
   "execution_count": 11,
   "id": "68026193",
   "metadata": {},
   "outputs": [
    {
     "name": "stdout",
     "output_type": "stream",
     "text": [
      "duration\n",
      "False    0.788002\n",
      "True     0.211998\n",
      "Name: proportion, dtype: float64\n"
     ]
    }
   ],
   "source": [
    "# True False 總數\n",
    "print(movie['duration'].dropna().gt(120).value_counts(normalize=True))"
   ]
  },
  {
   "cell_type": "code",
   "execution_count": 13,
   "id": "1be21d40",
   "metadata": {},
   "outputs": [
    {
     "name": "stdout",
     "output_type": "stream",
     "text": [
      "0.9777687130328371\n"
     ]
    }
   ],
   "source": [
    "# 多欄位比較\n",
    "actors = movie[['actor_1_facebook_likes',\n",
    "                'actor_2_facebook_likes']].dropna()\n",
    "\n",
    "print((actors['actor_1_facebook_likes'] > actors['actor_2_facebook_likes']).mean())"
   ]
  },
  {
   "cell_type": "markdown",
   "id": "a0da5af3",
   "metadata": {},
   "source": [
    "## 7.2 設定多個布林條件"
   ]
  },
  {
   "cell_type": "code",
   "execution_count": 2,
   "id": "8b2e1e95",
   "metadata": {},
   "outputs": [],
   "source": [
    "# 載入資料集 並以title 為索引\n",
    "movie = pd.read_csv('../../data/movie.csv', index_col='movie_title')"
   ]
  },
  {
   "cell_type": "code",
   "execution_count": 3,
   "id": "25a35828",
   "metadata": {},
   "outputs": [
    {
     "name": "stdout",
     "output_type": "stream",
     "text": [
      "movie_title\n",
      "Avatar                                        False\n",
      "Pirates of the Caribbean: At World's End      False\n",
      "Spectre                                       False\n",
      "The Dark Knight Rises                          True\n",
      "Star Wars: Episode VII - The Force Awakens    False\n",
      "dtype: bool\n"
     ]
    }
   ],
   "source": [
    "# 設定多個篩選器\n",
    "criteria1 = movie.imdb_score > 8\n",
    "criteria2 = movie.content_rating == 'PG-13'\n",
    "criteria3 = ((movie.title_year < 2000) | (movie.title_year > 2009))\n",
    "\n",
    "# 結合多個條件\n",
    "criteria_final = criteria1 & criteria2 & criteria3\n",
    "print(criteria_final.head())"
   ]
  },
  {
   "cell_type": "markdown",
   "id": "62366968",
   "metadata": {},
   "source": [
    "## 7.3 以布林陣列來進行過濾"
   ]
  },
  {
   "cell_type": "code",
   "execution_count": null,
   "id": "f96972e7",
   "metadata": {},
   "outputs": [],
   "source": [
    "# 載入資料集 並以title 為索引\n",
    "movie = pd.read_csv('../../data/movie.csv', index_col='movie_title')"
   ]
  },
  {
   "cell_type": "code",
   "execution_count": 4,
   "id": "e90d9732",
   "metadata": {},
   "outputs": [],
   "source": [
    "# 設定第一組條件\n",
    "crit_a1 = movie.imdb_score > 8\n",
    "crit_a2 = movie.content_rating == 'PG-13'\n",
    "crit_a3 = ((movie.title_year < 2000) | (movie.title_year > 2009))\n",
    "final_crit_a = crit_a1 & crit_a2 & crit_a3\n",
    "\n",
    "# 設定第二組條件\n",
    "crit_b1 = movie.imdb_score < 5\n",
    "crit_b2 = movie.content_rating == 'R'\n",
    "crit_b3 = ((movie.title_year >= 2000) | (movie.title_year <= 2010))\n",
    "final_crit_b = crit_b1 & crit_b2 & crit_b3"
   ]
  },
  {
   "cell_type": "code",
   "execution_count": 5,
   "id": "52bce754",
   "metadata": {},
   "outputs": [
    {
     "name": "stdout",
     "output_type": "stream",
     "text": [
      "movie_title\n",
      "Avatar                                        False\n",
      "Pirates of the Caribbean: At World's End      False\n",
      "Spectre                                       False\n",
      "The Dark Knight Rises                          True\n",
      "Star Wars: Episode VII - The Force Awakens    False\n",
      "dtype: bool\n"
     ]
    }
   ],
   "source": [
    "final_crit_all = final_crit_a | final_crit_b\n",
    "print(final_crit_all.head())"
   ]
  },
  {
   "cell_type": "code",
   "execution_count": 6,
   "id": "0f9de347",
   "metadata": {},
   "outputs": [
    {
     "name": "stdout",
     "output_type": "stream",
     "text": [
      "                            color      director_name  num_critic_for_reviews  \\\n",
      "movie_title                                                                    \n",
      "The Dark Knight Rises       Color  Christopher Nolan                   813.0   \n",
      "The Avengers                Color        Joss Whedon                   703.0   \n",
      "Captain America: Civil War  Color      Anthony Russo                   516.0   \n",
      "The Lovers                  Color       Roland Joffé                    10.0   \n",
      "Guardians of the Galaxy     Color         James Gunn                   653.0   \n",
      "\n",
      "                            duration  director_facebook_likes  \\\n",
      "movie_title                                                     \n",
      "The Dark Knight Rises          164.0                  22000.0   \n",
      "The Avengers                   173.0                      0.0   \n",
      "Captain America: Civil War     147.0                     94.0   \n",
      "The Lovers                     109.0                    596.0   \n",
      "Guardians of the Galaxy        121.0                    571.0   \n",
      "\n",
      "                            actor_3_facebook_likes        actor_2_name  \\\n",
      "movie_title                                                              \n",
      "The Dark Knight Rises                      23000.0      Christian Bale   \n",
      "The Avengers                               19000.0   Robert Downey Jr.   \n",
      "Captain America: Civil War                 11000.0  Scarlett Johansson   \n",
      "The Lovers                                   283.0       Alice Englert   \n",
      "Guardians of the Galaxy                     3000.0          Vin Diesel   \n",
      "\n",
      "                            actor_1_facebook_likes        gross  \\\n",
      "movie_title                                                       \n",
      "The Dark Knight Rises                      27000.0  448130642.0   \n",
      "The Avengers                               26000.0  623279547.0   \n",
      "Captain America: Civil War                 21000.0  407197282.0   \n",
      "The Lovers                                   622.0          NaN   \n",
      "Guardians of the Galaxy                    14000.0  333130696.0   \n",
      "\n",
      "                                                     genres  ...  \\\n",
      "movie_title                                                  ...   \n",
      "The Dark Knight Rises                       Action|Thriller  ...   \n",
      "The Avengers                        Action|Adventure|Sci-Fi  ...   \n",
      "Captain America: Civil War          Action|Adventure|Sci-Fi  ...   \n",
      "The Lovers                  Action|Adventure|Romance|Sci-Fi  ...   \n",
      "Guardians of the Galaxy             Action|Adventure|Sci-Fi  ...   \n",
      "\n",
      "                           num_user_for_reviews  language  country  \\\n",
      "movie_title                                                          \n",
      "The Dark Knight Rises                    2701.0   English      USA   \n",
      "The Avengers                             1722.0   English      USA   \n",
      "Captain America: Civil War               1022.0   English      USA   \n",
      "The Lovers                                 15.0   English  Belgium   \n",
      "Guardians of the Galaxy                  1097.0   English      USA   \n",
      "\n",
      "                           content_rating       budget title_year  \\\n",
      "movie_title                                                         \n",
      "The Dark Knight Rises               PG-13  250000000.0     2012.0   \n",
      "The Avengers                        PG-13  220000000.0     2012.0   \n",
      "Captain America: Civil War          PG-13  250000000.0     2016.0   \n",
      "The Lovers                              R          NaN     2015.0   \n",
      "Guardians of the Galaxy             PG-13  170000000.0     2014.0   \n",
      "\n",
      "                           actor_2_facebook_likes  imdb_score aspect_ratio  \\\n",
      "movie_title                                                                  \n",
      "The Dark Knight Rises                     23000.0         8.5         2.35   \n",
      "The Avengers                              21000.0         8.1         1.85   \n",
      "Captain America: Civil War                19000.0         8.2         2.35   \n",
      "The Lovers                                  525.0         4.5          NaN   \n",
      "Guardians of the Galaxy                   14000.0         8.1         2.35   \n",
      "\n",
      "                           movie_facebook_likes  \n",
      "movie_title                                      \n",
      "The Dark Knight Rises                    164000  \n",
      "The Avengers                             123000  \n",
      "Captain America: Civil War                72000  \n",
      "The Lovers                                  677  \n",
      "Guardians of the Galaxy                   96000  \n",
      "\n",
      "[5 rows x 27 columns]\n"
     ]
    }
   ],
   "source": [
    "# 布林陣列篩選\n",
    "print(movie[final_crit_all].head())"
   ]
  },
  {
   "cell_type": "code",
   "execution_count": 7,
   "id": "789e6141",
   "metadata": {},
   "outputs": [
    {
     "name": "stdout",
     "output_type": "stream",
     "text": [
      "                            color      director_name  num_critic_for_reviews  \\\n",
      "movie_title                                                                    \n",
      "The Dark Knight Rises       Color  Christopher Nolan                   813.0   \n",
      "The Avengers                Color        Joss Whedon                   703.0   \n",
      "Captain America: Civil War  Color      Anthony Russo                   516.0   \n",
      "The Lovers                  Color       Roland Joffé                    10.0   \n",
      "Guardians of the Galaxy     Color         James Gunn                   653.0   \n",
      "\n",
      "                            duration  director_facebook_likes  \\\n",
      "movie_title                                                     \n",
      "The Dark Knight Rises          164.0                  22000.0   \n",
      "The Avengers                   173.0                      0.0   \n",
      "Captain America: Civil War     147.0                     94.0   \n",
      "The Lovers                     109.0                    596.0   \n",
      "Guardians of the Galaxy        121.0                    571.0   \n",
      "\n",
      "                            actor_3_facebook_likes        actor_2_name  \\\n",
      "movie_title                                                              \n",
      "The Dark Knight Rises                      23000.0      Christian Bale   \n",
      "The Avengers                               19000.0   Robert Downey Jr.   \n",
      "Captain America: Civil War                 11000.0  Scarlett Johansson   \n",
      "The Lovers                                   283.0       Alice Englert   \n",
      "Guardians of the Galaxy                     3000.0          Vin Diesel   \n",
      "\n",
      "                            actor_1_facebook_likes        gross  \\\n",
      "movie_title                                                       \n",
      "The Dark Knight Rises                      27000.0  448130642.0   \n",
      "The Avengers                               26000.0  623279547.0   \n",
      "Captain America: Civil War                 21000.0  407197282.0   \n",
      "The Lovers                                   622.0          NaN   \n",
      "Guardians of the Galaxy                    14000.0  333130696.0   \n",
      "\n",
      "                                                     genres  ...  \\\n",
      "movie_title                                                  ...   \n",
      "The Dark Knight Rises                       Action|Thriller  ...   \n",
      "The Avengers                        Action|Adventure|Sci-Fi  ...   \n",
      "Captain America: Civil War          Action|Adventure|Sci-Fi  ...   \n",
      "The Lovers                  Action|Adventure|Romance|Sci-Fi  ...   \n",
      "Guardians of the Galaxy             Action|Adventure|Sci-Fi  ...   \n",
      "\n",
      "                           num_user_for_reviews  language  country  \\\n",
      "movie_title                                                          \n",
      "The Dark Knight Rises                    2701.0   English      USA   \n",
      "The Avengers                             1722.0   English      USA   \n",
      "Captain America: Civil War               1022.0   English      USA   \n",
      "The Lovers                                 15.0   English  Belgium   \n",
      "Guardians of the Galaxy                  1097.0   English      USA   \n",
      "\n",
      "                           content_rating       budget title_year  \\\n",
      "movie_title                                                         \n",
      "The Dark Knight Rises               PG-13  250000000.0     2012.0   \n",
      "The Avengers                        PG-13  220000000.0     2012.0   \n",
      "Captain America: Civil War          PG-13  250000000.0     2016.0   \n",
      "The Lovers                              R          NaN     2015.0   \n",
      "Guardians of the Galaxy             PG-13  170000000.0     2014.0   \n",
      "\n",
      "                           actor_2_facebook_likes  imdb_score aspect_ratio  \\\n",
      "movie_title                                                                  \n",
      "The Dark Knight Rises                     23000.0         8.5         2.35   \n",
      "The Avengers                              21000.0         8.1         1.85   \n",
      "Captain America: Civil War                19000.0         8.2         2.35   \n",
      "The Lovers                                  525.0         4.5          NaN   \n",
      "Guardians of the Galaxy                   14000.0         8.1         2.35   \n",
      "\n",
      "                           movie_facebook_likes  \n",
      "movie_title                                      \n",
      "The Dark Knight Rises                    164000  \n",
      "The Avengers                             123000  \n",
      "Captain America: Civil War                72000  \n",
      "The Lovers                                  677  \n",
      "Guardians of the Galaxy                   96000  \n",
      "\n",
      "[5 rows x 27 columns]\n"
     ]
    }
   ],
   "source": [
    "# 用loc 也可以進行一樣的篩選\n",
    "print(movie.loc[final_crit_all].head())"
   ]
  },
  {
   "cell_type": "code",
   "execution_count": null,
   "id": "2efce7c2",
   "metadata": {},
   "outputs": [
    {
     "name": "stdout",
     "output_type": "stream",
     "text": [
      "                            imdb_score content_rating  title_year\n",
      "movie_title                                                      \n",
      "The Dark Knight Rises              8.5          PG-13      2012.0\n",
      "The Avengers                       8.1          PG-13      2012.0\n",
      "Captain America: Civil War         8.2          PG-13      2016.0\n",
      "The Lovers                         4.5              R      2015.0\n",
      "Guardians of the Galaxy            8.1          PG-13      2014.0\n",
      "Interstellar                       8.6          PG-13      2014.0\n",
      "Inception                          8.8          PG-13      2010.0\n",
      "The Martian                        8.1          PG-13      2015.0\n",
      "Town & Country                     4.4              R      2001.0\n",
      "Sex and the City 2                 4.3              R      2010.0\n"
     ]
    }
   ],
   "source": [
    "# 用loc檢查條件是否符合\n",
    "cols = ['imdb_score', 'content_rating', 'title_year']\n",
    "movie_filtered = movie.loc[final_crit_all, cols]\n",
    "print(movie_filtered.head(10))"
   ]
  },
  {
   "cell_type": "code",
   "execution_count": 11,
   "id": "1ea6d685",
   "metadata": {},
   "outputs": [
    {
     "name": "stdout",
     "output_type": "stream",
     "text": [
      "                            color      director_name  num_critic_for_reviews  \\\n",
      "movie_title                                                                    \n",
      "The Dark Knight Rises       Color  Christopher Nolan                   813.0   \n",
      "The Avengers                Color        Joss Whedon                   703.0   \n",
      "Captain America: Civil War  Color      Anthony Russo                   516.0   \n",
      "The Lovers                  Color       Roland Joffé                    10.0   \n",
      "Guardians of the Galaxy     Color         James Gunn                   653.0   \n",
      "...                           ...                ...                     ...   \n",
      "The Canyons                 Color      Paul Schrader                   162.0   \n",
      "Butterfly                   Color        Matt Cimber                    15.0   \n",
      "The Gallows                 Color       Travis Cluff                   159.0   \n",
      "The Legend of God's Gun     Color         Mike Bruce                     3.0   \n",
      "Exeter                      Color      Marcus Nispel                    43.0   \n",
      "\n",
      "                            duration  director_facebook_likes  \\\n",
      "movie_title                                                     \n",
      "The Dark Knight Rises          164.0                  22000.0   \n",
      "The Avengers                   173.0                      0.0   \n",
      "Captain America: Civil War     147.0                     94.0   \n",
      "The Lovers                     109.0                    596.0   \n",
      "Guardians of the Galaxy        121.0                    571.0   \n",
      "...                              ...                      ...   \n",
      "The Canyons                     99.0                    261.0   \n",
      "Butterfly                      108.0                     32.0   \n",
      "The Gallows                     81.0                      3.0   \n",
      "The Legend of God's Gun         78.0                      6.0   \n",
      "Exeter                          91.0                    158.0   \n",
      "\n",
      "                            actor_3_facebook_likes        actor_2_name  \\\n",
      "movie_title                                                              \n",
      "The Dark Knight Rises                      23000.0      Christian Bale   \n",
      "The Avengers                               19000.0   Robert Downey Jr.   \n",
      "Captain America: Civil War                 11000.0  Scarlett Johansson   \n",
      "The Lovers                                   283.0       Alice Englert   \n",
      "Guardians of the Galaxy                     3000.0          Vin Diesel   \n",
      "...                                            ...                 ...   \n",
      "The Canyons                                  461.0        Gus Van Sant   \n",
      "Butterfly                                    180.0       June Lockhart   \n",
      "The Gallows                                    7.0     Cassidy Gifford   \n",
      "The Legend of God's Gun                       17.0   Kirpatrick Thomas   \n",
      "Exeter                                       265.0     Brittany Curran   \n",
      "\n",
      "                            actor_1_facebook_likes        gross  \\\n",
      "movie_title                                                       \n",
      "The Dark Knight Rises                      27000.0  448130642.0   \n",
      "The Avengers                               26000.0  623279547.0   \n",
      "Captain America: Civil War                 21000.0  407197282.0   \n",
      "The Lovers                                   622.0          NaN   \n",
      "Guardians of the Galaxy                    14000.0  333130696.0   \n",
      "...                                            ...          ...   \n",
      "The Canyons                                  924.0      49494.0   \n",
      "Butterfly                                    602.0          NaN   \n",
      "The Gallows                                  220.0   22757819.0   \n",
      "The Legend of God's Gun                       32.0     243768.0   \n",
      "Exeter                                       630.0          NaN   \n",
      "\n",
      "                                                     genres  ...  \\\n",
      "movie_title                                                  ...   \n",
      "The Dark Knight Rises                       Action|Thriller  ...   \n",
      "The Avengers                        Action|Adventure|Sci-Fi  ...   \n",
      "Captain America: Civil War          Action|Adventure|Sci-Fi  ...   \n",
      "The Lovers                  Action|Adventure|Romance|Sci-Fi  ...   \n",
      "Guardians of the Galaxy             Action|Adventure|Sci-Fi  ...   \n",
      "...                                                     ...  ...   \n",
      "The Canyons                                  Drama|Thriller  ...   \n",
      "Butterfly                                       Crime|Drama  ...   \n",
      "The Gallows                                 Horror|Thriller  ...   \n",
      "The Legend of God's Gun                             Western  ...   \n",
      "Exeter                              Horror|Mystery|Thriller  ...   \n",
      "\n",
      "                           num_user_for_reviews  language  country  \\\n",
      "movie_title                                                          \n",
      "The Dark Knight Rises                    2701.0   English      USA   \n",
      "The Avengers                             1722.0   English      USA   \n",
      "Captain America: Civil War               1022.0   English      USA   \n",
      "The Lovers                                 15.0   English  Belgium   \n",
      "Guardians of the Galaxy                  1097.0   English      USA   \n",
      "...                                         ...       ...      ...   \n",
      "The Canyons                                87.0   English      USA   \n",
      "Butterfly                                  18.0   English      USA   \n",
      "The Gallows                               150.0   English      USA   \n",
      "The Legend of God's Gun                     9.0   English      USA   \n",
      "Exeter                                     33.0   English      USA   \n",
      "\n",
      "                           content_rating       budget title_year  \\\n",
      "movie_title                                                         \n",
      "The Dark Knight Rises               PG-13  250000000.0     2012.0   \n",
      "The Avengers                        PG-13  220000000.0     2012.0   \n",
      "Captain America: Civil War          PG-13  250000000.0     2016.0   \n",
      "The Lovers                              R          NaN     2015.0   \n",
      "Guardians of the Galaxy             PG-13  170000000.0     2014.0   \n",
      "...                                   ...          ...        ...   \n",
      "The Canyons                             R     250000.0     2013.0   \n",
      "Butterfly                               R          NaN     1982.0   \n",
      "The Gallows                             R     100000.0     2015.0   \n",
      "The Legend of God's Gun                 R      30000.0     2007.0   \n",
      "Exeter                                  R          NaN     2015.0   \n",
      "\n",
      "                           actor_2_facebook_likes  imdb_score aspect_ratio  \\\n",
      "movie_title                                                                  \n",
      "The Dark Knight Rises                     23000.0         8.5         2.35   \n",
      "The Avengers                              21000.0         8.1         1.85   \n",
      "Captain America: Civil War                19000.0         8.2         2.35   \n",
      "The Lovers                                  525.0         4.5          NaN   \n",
      "Guardians of the Galaxy                   14000.0         8.1         2.35   \n",
      "...                                           ...         ...          ...   \n",
      "The Canyons                                 835.0         3.9         2.35   \n",
      "Butterfly                                   427.0         4.5         1.85   \n",
      "The Gallows                                  40.0         4.2         1.85   \n",
      "The Legend of God's Gun                      17.0         4.1         2.35   \n",
      "Exeter                                      512.0         4.6         1.85   \n",
      "\n",
      "                           movie_facebook_likes  \n",
      "movie_title                                      \n",
      "The Dark Knight Rises                    164000  \n",
      "The Avengers                             123000  \n",
      "Captain America: Civil War                72000  \n",
      "The Lovers                                  677  \n",
      "Guardians of the Galaxy                   96000  \n",
      "...                                         ...  \n",
      "The Canyons                                   0  \n",
      "Butterfly                                    76  \n",
      "The Gallows                                   0  \n",
      "The Legend of God's Gun                      13  \n",
      "Exeter                                        0  \n",
      "\n",
      "[168 rows x 27 columns]\n"
     ]
    }
   ],
   "source": [
    "# 使用iloc 屬性\n",
    "print(movie.iloc[final_crit_all.to_numpy()])"
   ]
  },
  {
   "cell_type": "markdown",
   "id": "21613573",
   "metadata": {},
   "source": [
    "## 7.4 布林選取 vs 索引選取"
   ]
  },
  {
   "cell_type": "code",
   "execution_count": 2,
   "id": "c2d92c33",
   "metadata": {},
   "outputs": [
    {
     "name": "stdout",
     "output_type": "stream",
     "text": [
      "                            INSTNM        CITY STABBR  HBCU  MENONLY  \\\n",
      "3610  Abilene Christian University     Abilene     TX   0.0      0.0   \n",
      "3611       Alvin Community College       Alvin     TX   0.0      0.0   \n",
      "3612              Amarillo College    Amarillo     TX   0.0      0.0   \n",
      "3613              Angelina College      Lufkin     TX   0.0      0.0   \n",
      "3614       Angelo State University  San Angelo     TX   0.0      0.0   \n",
      "\n",
      "      WOMENONLY  RELAFFIL  SATVRMID  SATMTMID  DISTANCEONLY  ...  UGDS_2MOR  \\\n",
      "3610        0.0         1     530.0     545.0           0.0  ...     0.0454   \n",
      "3611        0.0         0       NaN       NaN           0.0  ...     0.0002   \n",
      "3612        0.0         0       NaN       NaN           0.0  ...     0.0000   \n",
      "3613        0.0         0       NaN       NaN           0.0  ...     0.0264   \n",
      "3614        0.0         0     475.0     490.0           0.0  ...     0.0285   \n",
      "\n",
      "      UGDS_NRA  UGDS_UNKN  PPTUG_EF  CURROPER  PCTPELL  PCTFLOAN  UG25ABV  \\\n",
      "3610    0.0423     0.0045    0.0468         1   0.2595    0.5527   0.0381   \n",
      "3611    0.0000     0.0143    0.7123         1   0.1549    0.0625   0.2841   \n",
      "3612    0.0001     0.0085    0.6922         1   0.3786    0.1573   0.3431   \n",
      "3613    0.0005     0.0000    0.5600         1   0.5308    0.0000   0.2603   \n",
      "3614    0.0331     0.0011    0.1289         1   0.4068    0.5279   0.1407   \n",
      "\n",
      "      MD_EARN_WNE_P10  GRAD_DEBT_MDN_SUPP  \n",
      "3610            40200               25985  \n",
      "3611            34500                6750  \n",
      "3612            31700               10950  \n",
      "3613            26900   PrivacySuppressed  \n",
      "3614            37700             21319.5  \n",
      "\n",
      "[5 rows x 27 columns]\n"
     ]
    }
   ],
   "source": [
    "# 載入資料集\n",
    "college = pd.read_csv('../../data/college.csv')\n",
    "\n",
    "# 使用布林選取\n",
    "print(college[college['STABBR'] == 'TX'].head())"
   ]
  },
  {
   "cell_type": "code",
   "execution_count": 3,
   "id": "c922497e",
   "metadata": {},
   "outputs": [
    {
     "name": "stdout",
     "output_type": "stream",
     "text": [
      "                              INSTNM        CITY  HBCU  MENONLY  WOMENONLY  \\\n",
      "STABBR                                                                       \n",
      "TX      Abilene Christian University     Abilene   0.0      0.0        0.0   \n",
      "TX           Alvin Community College       Alvin   0.0      0.0        0.0   \n",
      "TX                  Amarillo College    Amarillo   0.0      0.0        0.0   \n",
      "TX                  Angelina College      Lufkin   0.0      0.0        0.0   \n",
      "TX           Angelo State University  San Angelo   0.0      0.0        0.0   \n",
      "\n",
      "        RELAFFIL  SATVRMID  SATMTMID  DISTANCEONLY    UGDS  ...  UGDS_2MOR  \\\n",
      "STABBR                                                      ...              \n",
      "TX             1     530.0     545.0           0.0  3572.0  ...     0.0454   \n",
      "TX             0       NaN       NaN           0.0  4682.0  ...     0.0002   \n",
      "TX             0       NaN       NaN           0.0  9346.0  ...     0.0000   \n",
      "TX             0       NaN       NaN           0.0  3825.0  ...     0.0264   \n",
      "TX             0     475.0     490.0           0.0  5290.0  ...     0.0285   \n",
      "\n",
      "        UGDS_NRA  UGDS_UNKN  PPTUG_EF  CURROPER  PCTPELL  PCTFLOAN  UG25ABV  \\\n",
      "STABBR                                                                        \n",
      "TX        0.0423     0.0045    0.0468         1   0.2595    0.5527   0.0381   \n",
      "TX        0.0000     0.0143    0.7123         1   0.1549    0.0625   0.2841   \n",
      "TX        0.0001     0.0085    0.6922         1   0.3786    0.1573   0.3431   \n",
      "TX        0.0005     0.0000    0.5600         1   0.5308    0.0000   0.2603   \n",
      "TX        0.0331     0.0011    0.1289         1   0.4068    0.5279   0.1407   \n",
      "\n",
      "        MD_EARN_WNE_P10  GRAD_DEBT_MDN_SUPP  \n",
      "STABBR                                       \n",
      "TX                40200               25985  \n",
      "TX                34500                6750  \n",
      "TX                31700               10950  \n",
      "TX                26900   PrivacySuppressed  \n",
      "TX                37700             21319.5  \n",
      "\n",
      "[5 rows x 26 columns]\n"
     ]
    }
   ],
   "source": [
    "# 指定索引\n",
    "college2 = college.set_index('STABBR')\n",
    "\n",
    "# 索引選取\n",
    "print(college2.loc['TX'].head())"
   ]
  },
  {
   "cell_type": "code",
   "execution_count": 6,
   "id": "8185fd0d",
   "metadata": {},
   "outputs": [
    {
     "name": "stdout",
     "output_type": "stream",
     "text": [
      "427 μs ± 6.35 μs per loop (mean ± std. dev. of 7 runs, 1,000 loops each)\n",
      "671 μs ± 24.1 μs per loop (mean ± std. dev. of 7 runs, 1,000 loops each)\n",
      "168 μs ± 2.01 μs per loop (mean ± std. dev. of 7 runs, 10,000 loops each)\n"
     ]
    }
   ],
   "source": [
    "# 比較執行時間\n",
    "%timeit college[college['STABBR'] == 'TX']\n",
    "\n",
    "%timeit college2 = college.set_index('STABBR')\n",
    "\n",
    "%timeit college2.loc['TX']"
   ]
  },
  {
   "cell_type": "code",
   "execution_count": 7,
   "id": "e19a1da4",
   "metadata": {},
   "outputs": [
    {
     "name": "stdout",
     "output_type": "stream",
     "text": [
      "                                                 INSTNM              CITY  \\\n",
      "192                           Academy of Art University     San Francisco   \n",
      "193              ITT Technical Institute-Rancho Cordova    Rancho Cordova   \n",
      "194      Academy of Chinese Culture and Health Sciences           Oakland   \n",
      "195            The Academy of Radio and TV Broadcasting  Huntington Beach   \n",
      "196                Avalon School of Cosmetology-Alameda           Alameda   \n",
      "...                                                 ...               ...   \n",
      "7528                           WestMed College - Merced            Merced   \n",
      "7529                                    Vantage College           El Paso   \n",
      "7530         SAE Institute of Technology  San Francisco        Emeryville   \n",
      "7533  Bay Area Medical Academy - San Jose Satellite ...          San Jose   \n",
      "7534            Excel Learning Center-San Antonio South       San Antonio   \n",
      "\n",
      "     STABBR  HBCU  MENONLY  WOMENONLY  RELAFFIL  SATVRMID  SATMTMID  \\\n",
      "192      CA   0.0      0.0        0.0         0       NaN       NaN   \n",
      "193      CA   0.0      0.0        0.0         0       NaN       NaN   \n",
      "194      CA   0.0      0.0        0.0         0       NaN       NaN   \n",
      "195      CA   0.0      0.0        0.0         0       NaN       NaN   \n",
      "196      CA   0.0      0.0        0.0         0       NaN       NaN   \n",
      "...     ...   ...      ...        ...       ...       ...       ...   \n",
      "7528     CA   NaN      NaN        NaN         1       NaN       NaN   \n",
      "7529     TX   NaN      NaN        NaN         1       NaN       NaN   \n",
      "7530     CA   NaN      NaN        NaN         1       NaN       NaN   \n",
      "7533     CA   NaN      NaN        NaN         1       NaN       NaN   \n",
      "7534     TX   NaN      NaN        NaN         1       NaN       NaN   \n",
      "\n",
      "      DISTANCEONLY  ...  UGDS_2MOR  UGDS_NRA  UGDS_UNKN  PPTUG_EF  CURROPER  \\\n",
      "192            0.0  ...     0.0249    0.2523     0.2098    0.4334         1   \n",
      "193            0.0  ...     0.0400    0.0000     0.1780    0.2540         0   \n",
      "194            0.0  ...        NaN       NaN        NaN       NaN         1   \n",
      "195            0.0  ...     0.0000    0.0000     0.0000    0.0000         1   \n",
      "196            0.0  ...     0.0553    0.0000     0.0435    0.5099         1   \n",
      "...            ...  ...        ...       ...        ...       ...       ...   \n",
      "7528           NaN  ...        NaN       NaN        NaN       NaN         1   \n",
      "7529           NaN  ...        NaN       NaN        NaN       NaN         1   \n",
      "7530           NaN  ...        NaN       NaN        NaN       NaN         1   \n",
      "7533           NaN  ...        NaN       NaN        NaN       NaN         1   \n",
      "7534           NaN  ...        NaN       NaN        NaN       NaN         1   \n",
      "\n",
      "      PCTPELL  PCTFLOAN  UG25ABV  MD_EARN_WNE_P10  GRAD_DEBT_MDN_SUPP  \n",
      "192    0.4008    0.5524   0.4043            36000               35093  \n",
      "193    0.7137    0.7667   0.7235            38800             25827.5  \n",
      "194       NaN       NaN      NaN              NaN   PrivacySuppressed  \n",
      "195    0.9579    1.0000   0.4545            28400                9500  \n",
      "196    0.7407    0.6768   0.3387            21600                9860  \n",
      "...       ...       ...      ...              ...                 ...  \n",
      "7528      NaN       NaN      NaN              NaN             15623.5  \n",
      "7529      NaN       NaN      NaN              NaN                9500  \n",
      "7530      NaN       NaN      NaN              NaN                9500  \n",
      "7533      NaN       NaN      NaN              NaN   PrivacySuppressed  \n",
      "7534      NaN       NaN      NaN              NaN               12125  \n",
      "\n",
      "[1704 rows x 27 columns]\n"
     ]
    }
   ],
   "source": [
    "# 選取多個州別\n",
    "states = ['TX', 'CA', 'NY']\n",
    "print(college[college['STABBR'].isin(states)])"
   ]
  },
  {
   "cell_type": "code",
   "execution_count": 8,
   "id": "f7fb06b9",
   "metadata": {},
   "outputs": [
    {
     "name": "stdout",
     "output_type": "stream",
     "text": [
      "                                               INSTNM        CITY  HBCU  \\\n",
      "STABBR                                                                    \n",
      "TX                       Abilene Christian University     Abilene   0.0   \n",
      "TX                            Alvin Community College       Alvin   0.0   \n",
      "TX                                   Amarillo College    Amarillo   0.0   \n",
      "TX                                   Angelina College      Lufkin   0.0   \n",
      "TX                            Angelo State University  San Angelo   0.0   \n",
      "...                                               ...         ...   ...   \n",
      "NY                      Briarcliffe College–Patchogue   Patchogue   NaN   \n",
      "NY                       Jamestown Business College -   Salamanca   NaN   \n",
      "NY      Pratt Manhattan-A Division of Pratt Institute    New York   NaN   \n",
      "NY                  Saint Josephs College-Long Island   Patchogue   NaN   \n",
      "NY        Franklin Career Institute - Brooklyn Campus    Brooklyn   NaN   \n",
      "\n",
      "        MENONLY  WOMENONLY  RELAFFIL  SATVRMID  SATMTMID  DISTANCEONLY  \\\n",
      "STABBR                                                                   \n",
      "TX          0.0        0.0         1     530.0     545.0           0.0   \n",
      "TX          0.0        0.0         0       NaN       NaN           0.0   \n",
      "TX          0.0        0.0         0       NaN       NaN           0.0   \n",
      "TX          0.0        0.0         0       NaN       NaN           0.0   \n",
      "TX          0.0        0.0         0     475.0     490.0           0.0   \n",
      "...         ...        ...       ...       ...       ...           ...   \n",
      "NY          NaN        NaN         1       NaN       NaN           NaN   \n",
      "NY          NaN        NaN         1       NaN       NaN           NaN   \n",
      "NY          NaN        NaN         1       NaN       NaN           NaN   \n",
      "NY          NaN        NaN         1       NaN       NaN           NaN   \n",
      "NY          NaN        NaN         1       NaN       NaN           NaN   \n",
      "\n",
      "          UGDS  ...  UGDS_2MOR  UGDS_NRA  UGDS_UNKN  PPTUG_EF  CURROPER  \\\n",
      "STABBR          ...                                                       \n",
      "TX      3572.0  ...     0.0454    0.0423     0.0045    0.0468         1   \n",
      "TX      4682.0  ...     0.0002    0.0000     0.0143    0.7123         1   \n",
      "TX      9346.0  ...     0.0000    0.0001     0.0085    0.6922         1   \n",
      "TX      3825.0  ...     0.0264    0.0005     0.0000    0.5600         1   \n",
      "TX      5290.0  ...     0.0285    0.0331     0.0011    0.1289         1   \n",
      "...        ...  ...        ...       ...        ...       ...       ...   \n",
      "NY         NaN  ...        NaN       NaN        NaN       NaN         1   \n",
      "NY         NaN  ...        NaN       NaN        NaN       NaN         1   \n",
      "NY         NaN  ...        NaN       NaN        NaN       NaN         1   \n",
      "NY         NaN  ...        NaN       NaN        NaN       NaN         1   \n",
      "NY         NaN  ...        NaN       NaN        NaN       NaN         0   \n",
      "\n",
      "        PCTPELL  PCTFLOAN  UG25ABV  MD_EARN_WNE_P10  GRAD_DEBT_MDN_SUPP  \n",
      "STABBR                                                                   \n",
      "TX       0.2595    0.5527   0.0381            40200               25985  \n",
      "TX       0.1549    0.0625   0.2841            34500                6750  \n",
      "TX       0.3786    0.1573   0.3431            31700               10950  \n",
      "TX       0.5308    0.0000   0.2603            26900   PrivacySuppressed  \n",
      "TX       0.4068    0.5279   0.1407            37700             21319.5  \n",
      "...         ...       ...      ...              ...                 ...  \n",
      "NY          NaN       NaN      NaN            38200             28720.5  \n",
      "NY          NaN       NaN      NaN              NaN               12050  \n",
      "NY          NaN       NaN      NaN            40900               26691  \n",
      "NY          NaN       NaN      NaN            52000             22143.5  \n",
      "NY          NaN       NaN      NaN            20000   PrivacySuppressed  \n",
      "\n",
      "[1704 rows x 26 columns]\n"
     ]
    }
   ],
   "source": [
    "# loc 直接傳遞list 即可\n",
    "print(college2.loc[states])"
   ]
  },
  {
   "cell_type": "markdown",
   "id": "366772ef",
   "metadata": {},
   "source": [
    "## 7.5 用唯一或以排序的索引標籤來選取資料"
   ]
  },
  {
   "cell_type": "code",
   "execution_count": 13,
   "id": "a6ace719",
   "metadata": {},
   "outputs": [
    {
     "name": "stdout",
     "output_type": "stream",
     "text": [
      "False\n"
     ]
    }
   ],
   "source": [
    "# 載入資料集\n",
    "college = pd.read_csv('../../data/college.csv')\n",
    "\n",
    "# 指定索引\n",
    "college2 = college.set_index('STABBR')\n",
    "\n",
    "# 檢查索引是否排序\n",
    "idx = college2.index\n",
    "is_sorted = idx.is_monotonic_increasing or idx.is_monotonic_decreasing\n",
    "print(is_sorted)"
   ]
  },
  {
   "cell_type": "code",
   "execution_count": 14,
   "id": "e3c9ab44",
   "metadata": {},
   "outputs": [
    {
     "name": "stdout",
     "output_type": "stream",
     "text": [
      "True\n"
     ]
    }
   ],
   "source": [
    "# 排序資料\n",
    "college3 = college2.sort_index()\n",
    "\n",
    "# 檢查索引是否排序\n",
    "idx = college3.index\n",
    "is_sorted = idx.is_monotonic_increasing or idx.is_monotonic_decreasing\n",
    "print(is_sorted)"
   ]
  },
  {
   "cell_type": "code",
   "execution_count": 15,
   "id": "b4d917d0",
   "metadata": {},
   "outputs": [
    {
     "name": "stdout",
     "output_type": "stream",
     "text": [
      "24 μs ± 469 ns per loop (mean ± std. dev. of 7 runs, 10,000 loops each)\n"
     ]
    }
   ],
   "source": [
    "# 計算時間\n",
    "%timeit college3.loc['TX']"
   ]
  },
  {
   "cell_type": "code",
   "execution_count": 17,
   "id": "40858e35",
   "metadata": {},
   "outputs": [
    {
     "data": {
      "text/plain": [
       "True"
      ]
     },
     "execution_count": 17,
     "metadata": {},
     "output_type": "execute_result"
    }
   ],
   "source": [
    "# 設定不重複的欄位當作索引\n",
    "college_unique = college.set_index('INSTNM')\n",
    "\n",
    "# 檢查索引是否唯一\n",
    "college_unique.index.is_unique"
   ]
  },
  {
   "cell_type": "code",
   "execution_count": 18,
   "id": "79bb534a",
   "metadata": {},
   "outputs": [
    {
     "name": "stdout",
     "output_type": "stream",
     "text": [
      "                   INSTNM      CITY STABBR  HBCU  MENONLY  WOMENONLY  \\\n",
      "4217  Stanford University  Stanford     CA   0.0      0.0        0.0   \n",
      "\n",
      "      RELAFFIL  SATVRMID  SATMTMID  DISTANCEONLY  ...  UGDS_2MOR  UGDS_NRA  \\\n",
      "4217         0     730.0     745.0           0.0  ...     0.1067    0.0819   \n",
      "\n",
      "      UGDS_UNKN  PPTUG_EF  CURROPER  PCTPELL  PCTFLOAN  UG25ABV  \\\n",
      "4217     0.0031       0.0         1   0.1556    0.1256   0.0401   \n",
      "\n",
      "      MD_EARN_WNE_P10  GRAD_DEBT_MDN_SUPP  \n",
      "4217            86000               12782  \n",
      "\n",
      "[1 rows x 27 columns]\n"
     ]
    }
   ],
   "source": [
    "# 使用布林選取\n",
    "print(college[college['INSTNM'] == 'Stanford University'])"
   ]
  },
  {
   "cell_type": "code",
   "execution_count": 19,
   "id": "4513fda5",
   "metadata": {},
   "outputs": [
    {
     "name": "stdout",
     "output_type": "stream",
     "text": [
      "CITY                  Stanford\n",
      "STABBR                      CA\n",
      "HBCU                       0.0\n",
      "MENONLY                    0.0\n",
      "WOMENONLY                  0.0\n",
      "RELAFFIL                     0\n",
      "SATVRMID                 730.0\n",
      "SATMTMID                 745.0\n",
      "DISTANCEONLY               0.0\n",
      "UGDS                    7018.0\n",
      "UGDS_WHITE              0.3752\n",
      "UGDS_BLACK              0.0591\n",
      "UGDS_HISP               0.1607\n",
      "UGDS_ASIAN              0.1979\n",
      "UGDS_AIAN               0.0114\n",
      "UGDS_NHPI               0.0038\n",
      "UGDS_2MOR               0.1067\n",
      "UGDS_NRA                0.0819\n",
      "UGDS_UNKN               0.0031\n",
      "PPTUG_EF                   0.0\n",
      "CURROPER                     1\n",
      "PCTPELL                 0.1556\n",
      "PCTFLOAN                0.1256\n",
      "UG25ABV                 0.0401\n",
      "MD_EARN_WNE_P10          86000\n",
      "GRAD_DEBT_MDN_SUPP       12782\n",
      "Name: Stanford University, dtype: object\n"
     ]
    }
   ],
   "source": [
    "# 使用索引選取\n",
    "print(college_unique.loc['Stanford University'])"
   ]
  },
  {
   "cell_type": "code",
   "execution_count": 20,
   "id": "d0b675ae",
   "metadata": {},
   "outputs": [
    {
     "name": "stdout",
     "output_type": "stream",
     "text": [
      "                         CITY STABBR  HBCU  MENONLY  WOMENONLY  RELAFFIL  \\\n",
      "INSTNM                                                                     \n",
      "Stanford University  Stanford     CA   0.0      0.0        0.0         0   \n",
      "\n",
      "                     SATVRMID  SATMTMID  DISTANCEONLY    UGDS  ...  UGDS_2MOR  \\\n",
      "INSTNM                                                         ...              \n",
      "Stanford University     730.0     745.0           0.0  7018.0  ...     0.1067   \n",
      "\n",
      "                     UGDS_NRA  UGDS_UNKN  PPTUG_EF  CURROPER  PCTPELL  \\\n",
      "INSTNM                                                                  \n",
      "Stanford University    0.0819     0.0031       0.0         1   0.1556   \n",
      "\n",
      "                     PCTFLOAN  UG25ABV  MD_EARN_WNE_P10  GRAD_DEBT_MDN_SUPP  \n",
      "INSTNM                                                                       \n",
      "Stanford University    0.1256   0.0401            86000               12782  \n",
      "\n",
      "[1 rows x 26 columns]\n"
     ]
    }
   ],
   "source": [
    "# 使用索引選取 但回傳df\n",
    "print(college_unique.loc[['Stanford University']])"
   ]
  },
  {
   "cell_type": "code",
   "execution_count": 21,
   "id": "75ce0ecb",
   "metadata": {},
   "outputs": [
    {
     "name": "stdout",
     "output_type": "stream",
     "text": [
      "402 μs ± 7.96 μs per loop (mean ± std. dev. of 7 runs, 1,000 loops each)\n",
      "129 μs ± 4.04 μs per loop (mean ± std. dev. of 7 runs, 10,000 loops each)\n"
     ]
    }
   ],
   "source": [
    "# 比較時間\n",
    "%timeit college[college['INSTNM'] == 'Stanford University']\n",
    "\n",
    "%timeit college_unique.loc[['Stanford University']]"
   ]
  },
  {
   "cell_type": "code",
   "execution_count": 22,
   "id": "0c40261d",
   "metadata": {},
   "outputs": [
    {
     "name": "stdout",
     "output_type": "stream",
     "text": [
      "                                 INSTNM      CITY STABBR  HBCU  MENONLY  \\\n",
      "ARTESIA, CA           Angeles Institute   ARTESIA     CA   0.0      0.0   \n",
      "Aberdeen, SD       Presentation College  Aberdeen     SD   0.0      0.0   \n",
      "Aberdeen, SD  Northern State University  Aberdeen     SD   0.0      0.0   \n",
      "Aberdeen, WA       Grays Harbor College  Aberdeen     WA   0.0      0.0   \n",
      "Abilene, TX   Hardin-Simmons University   Abilene     TX   0.0      0.0   \n",
      "\n",
      "              WOMENONLY  RELAFFIL  SATVRMID  SATMTMID  DISTANCEONLY  ...  \\\n",
      "ARTESIA, CA         0.0         0       NaN       NaN           0.0  ...   \n",
      "Aberdeen, SD        0.0         1     440.0     480.0           0.0  ...   \n",
      "Aberdeen, SD        0.0         0     480.0     475.0           0.0  ...   \n",
      "Aberdeen, WA        0.0         0       NaN       NaN           0.0  ...   \n",
      "Abilene, TX         0.0         1     508.0     515.0           0.0  ...   \n",
      "\n",
      "              UGDS_2MOR  UGDS_NRA  UGDS_UNKN  PPTUG_EF  CURROPER  PCTPELL  \\\n",
      "ARTESIA, CA      0.0175    0.0088     0.0088    0.0000         1   0.6275   \n",
      "Aberdeen, SD     0.0284    0.0142     0.0823    0.2865         1   0.4829   \n",
      "Aberdeen, SD     0.0219    0.0425     0.0024    0.1872         1   0.2272   \n",
      "Aberdeen, WA     0.0937    0.0009     0.0250    0.1820         1   0.4530   \n",
      "Abilene, TX      0.0298    0.0159     0.0102    0.0685         1   0.3256   \n",
      "\n",
      "              PCTFLOAN  UG25ABV  MD_EARN_WNE_P10  GRAD_DEBT_MDN_SUPP  \n",
      "ARTESIA, CA     0.8138   0.5429              NaN               16850  \n",
      "Aberdeen, SD    0.7560   0.3097            35900               25000  \n",
      "Aberdeen, SD    0.4303   0.1766            33600               24847  \n",
      "Aberdeen, WA    0.1502   0.5087            27000               11490  \n",
      "Abilene, TX     0.5547   0.0982            38700               25864  \n",
      "\n",
      "[5 rows x 27 columns]\n"
     ]
    }
   ],
   "source": [
    "# 製造多個條件合併的索引\n",
    "college.index = college['CITY'] + ', ' + college['STABBR']\n",
    "college = college.sort_index()\n",
    "print(college.head())"
   ]
  },
  {
   "cell_type": "code",
   "execution_count": 23,
   "id": "3f05f246",
   "metadata": {},
   "outputs": [
    {
     "name": "stdout",
     "output_type": "stream",
     "text": [
      "                                              INSTNM   CITY STABBR  HBCU  \\\n",
      "Miami, FL        New Professions Technical Institute  Miami     FL   0.0   \n",
      "Miami, FL               Management Resources College  Miami     FL   0.0   \n",
      "Miami, FL                   Strayer University-Doral  Miami     FL   NaN   \n",
      "Miami, FL                   Keiser University- Miami  Miami     FL   NaN   \n",
      "Miami, FL  George T Baker Aviation Technical College  Miami     FL   0.0   \n",
      "\n",
      "           MENONLY  WOMENONLY  RELAFFIL  SATVRMID  SATMTMID  DISTANCEONLY  \\\n",
      "Miami, FL      0.0        0.0         0       NaN       NaN           0.0   \n",
      "Miami, FL      0.0        0.0         0       NaN       NaN           0.0   \n",
      "Miami, FL      NaN        NaN         1       NaN       NaN           NaN   \n",
      "Miami, FL      NaN        NaN         1       NaN       NaN           NaN   \n",
      "Miami, FL      0.0        0.0         0       NaN       NaN           0.0   \n",
      "\n",
      "           ...  UGDS_2MOR  UGDS_NRA  UGDS_UNKN  PPTUG_EF  CURROPER  PCTPELL  \\\n",
      "Miami, FL  ...     0.0000       0.0        0.0    0.4464         1   0.8701   \n",
      "Miami, FL  ...     0.0000       0.0        0.0    0.0000         1   0.4239   \n",
      "Miami, FL  ...        NaN       NaN        NaN       NaN         1      NaN   \n",
      "Miami, FL  ...        NaN       NaN        NaN       NaN         1      NaN   \n",
      "Miami, FL  ...     0.0046       0.0        0.0    0.5686         1   0.2567   \n",
      "\n",
      "           PCTFLOAN  UG25ABV    MD_EARN_WNE_P10  GRAD_DEBT_MDN_SUPP  \n",
      "Miami, FL    0.6780   0.8358              18700                8682  \n",
      "Miami, FL    0.5458   0.8698  PrivacySuppressed               12182  \n",
      "Miami, FL       NaN      NaN              49200             36173.5  \n",
      "Miami, FL       NaN      NaN              29700               26063  \n",
      "Miami, FL    0.0000   0.4366              38600   PrivacySuppressed  \n",
      "\n",
      "[5 rows x 27 columns]\n"
     ]
    }
   ],
   "source": [
    "# 使用 loc 查詢合併索引\n",
    "print(college.loc['Miami, FL'].head())"
   ]
  },
  {
   "cell_type": "code",
   "execution_count": 24,
   "id": "c8416a2d",
   "metadata": {},
   "outputs": [
    {
     "name": "stdout",
     "output_type": "stream",
     "text": [
      "101 μs ± 2.79 μs per loop (mean ± std. dev. of 7 runs, 10,000 loops each)\n",
      "23.3 μs ± 2.17 μs per loop (mean ± std. dev. of 7 runs, 10,000 loops each)\n"
     ]
    }
   ],
   "source": [
    "# 比較時間\n",
    "crit1 = college['CITY'] == 'Miami'\n",
    "crit2 = college['STABBR'] == 'FL'\n",
    "%timeit college[crit1 & crit2]\n",
    "\n",
    "%timeit college.loc['Miami, FL']"
   ]
  },
  {
   "cell_type": "markdown",
   "id": "97ee9302",
   "metadata": {},
   "source": [
    "## 7.6 利用Pandas 實現SQL 中的功能"
   ]
  },
  {
   "cell_type": "code",
   "execution_count": 2,
   "id": "16e9245e",
   "metadata": {},
   "outputs": [],
   "source": [
    "# 載入資料集\n",
    "employee = pd.read_csv('../../data/employee.csv')"
   ]
  },
  {
   "cell_type": "code",
   "execution_count": 4,
   "id": "70c58ddb",
   "metadata": {},
   "outputs": [
    {
     "name": "stdout",
     "output_type": "stream",
     "text": [
      "UNIQUE_ID              int64\n",
      "POSITION_TITLE        object\n",
      "DEPARTMENT            object\n",
      "BASE_SALARY          float64\n",
      "RACE                  object\n",
      "EMPLOYMENT_TYPE       object\n",
      "GENDER                object\n",
      "EMPLOYMENT_STATUS     object\n",
      "HIRE_DATE             object\n",
      "JOB_DATE              object\n",
      "dtype: object\n"
     ]
    }
   ],
   "source": [
    "# 觀察資料集\n",
    "print(employee.dtypes)"
   ]
  },
  {
   "cell_type": "code",
   "execution_count": 5,
   "id": "cb66ac83",
   "metadata": {},
   "outputs": [
    {
     "name": "stdout",
     "output_type": "stream",
     "text": [
      "DEPARTMENT\n",
      "Houston Police Department-HPD     638\n",
      "Houston Fire Department (HFD)     384\n",
      "Public Works & Engineering-PWE    343\n",
      "Health & Human Services           110\n",
      "Houston Airport System (HAS)      106\n",
      "Parks & Recreation                 74\n",
      "Solid Waste Management             43\n",
      "Library                            36\n",
      "Fleet Management Department        36\n",
      "Admn. & Regulatory Affairs         29\n",
      "Municipal Courts Department        28\n",
      "Human Resources Dept.              24\n",
      "Houston Emergency Center (HEC)     23\n",
      "General Services Department        22\n",
      "Housing and Community Devp.        22\n",
      "Dept of Neighborhoods (DON)        17\n",
      "Legal Department                   17\n",
      "City Council                       11\n",
      "Finance                            10\n",
      "Houston Information Tech Svcs       9\n",
      "Planning & Development              7\n",
      "City Controller's Office            5\n",
      "Mayor's Office                      5\n",
      "Convention and Entertainment        1\n",
      "Name: count, dtype: int64\n"
     ]
    }
   ],
   "source": [
    "# 查看部門分布\n",
    "print(employee.DEPARTMENT.value_counts())"
   ]
  },
  {
   "cell_type": "code",
   "execution_count": 6,
   "id": "968be78c",
   "metadata": {},
   "outputs": [
    {
     "name": "stdout",
     "output_type": "stream",
     "text": [
      "GENDER\n",
      "Male      1397\n",
      "Female     603\n",
      "Name: count, dtype: int64\n"
     ]
    }
   ],
   "source": [
    "# 查看性別分布\n",
    "print(employee.GENDER.value_counts())"
   ]
  },
  {
   "cell_type": "code",
   "execution_count": 8,
   "id": "deffd426",
   "metadata": {},
   "outputs": [
    {
     "name": "stdout",
     "output_type": "stream",
     "text": [
      "count      1886.000000\n",
      "mean      55767.931601\n",
      "std       21693.706679\n",
      "min       24960.000000\n",
      "25%       40170.000000\n",
      "50%       54461.000000\n",
      "75%       66614.000000\n",
      "max      275000.000000\n",
      "Name: BASE_SALARY, dtype: float64\n"
     ]
    }
   ],
   "source": [
    "# 查看薪水的敘述統計\n",
    "print(employee.BASE_SALARY.describe())"
   ]
  },
  {
   "cell_type": "code",
   "execution_count": 11,
   "id": "5991a562",
   "metadata": {},
   "outputs": [],
   "source": [
    "# 建立篩選條件\n",
    "depts = ['Houston Police Department-HPD', 'Houston Fire Department (HFD)']\n",
    "\n",
    "criteria_dept = employee.DEPARTMENT.isin(depts)\n",
    "\n",
    "criteria_gender = employee.GENDER == \"Female\"\n",
    "\n",
    "criteria_sal = ((employee.BASE_SALARY >= 80000) & (employee.BASE_SALARY <= 1200000))\n",
    "\n",
    "criteria_final = (criteria_dept &\n",
    "                  criteria_gender &\n",
    "                  criteria_sal)"
   ]
  },
  {
   "cell_type": "code",
   "execution_count": 12,
   "id": "415ba54f",
   "metadata": {},
   "outputs": [
    {
     "name": "stdout",
     "output_type": "stream",
     "text": [
      "     UNIQUE_ID                     DEPARTMENT  GENDER  BASE_SALARY\n",
      "61          61  Houston Fire Department (HFD)  Female      96668.0\n",
      "136        136  Houston Police Department-HPD  Female      81239.0\n",
      "367        367  Houston Police Department-HPD  Female      86534.0\n",
      "474        474  Houston Police Department-HPD  Female      91181.0\n",
      "513        513  Houston Police Department-HPD  Female      81239.0\n"
     ]
    }
   ],
   "source": [
    "# 指定我們想要查看的欄位 並套用篩選條件\n",
    "select_columns = ['UNIQUE_ID', 'DEPARTMENT',\n",
    "                  'GENDER', 'BASE_SALARY']\n",
    "print(employee.loc[criteria_final, select_columns].head())"
   ]
  },
  {
   "cell_type": "code",
   "execution_count": null,
   "id": "01013b7a",
   "metadata": {},
   "outputs": [],
   "source": [
    "# 薪水的篩選可以直接使用between\n",
    "criteria_sal = employee.BASE_SALARY.between(80000, 120000)"
   ]
  },
  {
   "cell_type": "code",
   "execution_count": 13,
   "id": "d104abe0",
   "metadata": {},
   "outputs": [
    {
     "name": "stdout",
     "output_type": "stream",
     "text": [
      "      UNIQUE_ID                     POSITION_TITLE  \\\n",
      "0             0        ASSISTANT DIRECTOR (EX LVL)   \n",
      "1             1                  LIBRARY ASSISTANT   \n",
      "4             4                        ELECTRICIAN   \n",
      "18           18           MAINTENANCE MECHANIC III   \n",
      "32           32                  SENIOR ACCOUNTANT   \n",
      "...         ...                                ...   \n",
      "1976       1976         SENIOR SIDELOADER OPERATOR   \n",
      "1983       1983          ADMINISTRATIVE SPECIALIST   \n",
      "1985       1985                       TRUCK DRIVER   \n",
      "1988       1988  SENIOR ASSISTANT CITY ATTORNEY II   \n",
      "1990       1990    BUILDING MAINTENANCE SUPERVISOR   \n",
      "\n",
      "                       DEPARTMENT  BASE_SALARY                       RACE  \\\n",
      "0     Municipal Courts Department     121862.0            Hispanic/Latino   \n",
      "1                         Library      26125.0            Hispanic/Latino   \n",
      "4     General Services Department      56347.0                      White   \n",
      "18    General Services Department      40581.0            Hispanic/Latino   \n",
      "32                        Finance      46963.0  Black or African American   \n",
      "...                           ...          ...                        ...   \n",
      "1976       Solid Waste Management      34466.0            Hispanic/Latino   \n",
      "1983   Admn. & Regulatory Affairs      55172.0  Black or African American   \n",
      "1985  Fleet Management Department      30222.0  Black or African American   \n",
      "1988             Legal Department     124115.0                      White   \n",
      "1990           Parks & Recreation      30347.0  Black or African American   \n",
      "\n",
      "     EMPLOYMENT_TYPE  GENDER EMPLOYMENT_STATUS   HIRE_DATE    JOB_DATE  \n",
      "0          Full Time  Female            Active  2006-06-12  2012-10-13  \n",
      "1          Full Time  Female            Active  2000-07-19  2010-09-18  \n",
      "4          Full Time    Male            Active  1989-06-19  1994-10-22  \n",
      "18         Full Time    Male            Active  2008-12-29  2008-12-29  \n",
      "32         Full Time    Male            Active  1991-02-11  2016-02-13  \n",
      "...              ...     ...               ...         ...         ...  \n",
      "1976       Full Time  Female            Active  2015-07-20  2016-01-30  \n",
      "1983       Full Time  Female            Active  2006-10-16  2006-10-16  \n",
      "1985       Full Time    Male            Active  2013-06-10  2015-08-01  \n",
      "1988       Full Time    Male            Active  2013-01-23  2013-03-02  \n",
      "1990       Full Time  Female            Active  1995-10-14  2010-03-20  \n",
      "\n",
      "[419 rows x 10 columns]\n"
     ]
    }
   ],
   "source": [
    "# 動態篩選\n",
    "top_5_depts = employee.DEPARTMENT.value_counts().index[:5]\n",
    "\n",
    "criteria = ~employee.DEPARTMENT.isin(top_5_depts)\n",
    "print(employee[criteria])"
   ]
  },
  {
   "cell_type": "markdown",
   "id": "325df841",
   "metadata": {},
   "source": [
    "## 7.7 使用query 方法提高布林選取的可讀性"
   ]
  },
  {
   "cell_type": "code",
   "execution_count": 14,
   "id": "bc226694",
   "metadata": {},
   "outputs": [],
   "source": [
    "# 載入資料集\n",
    "employee = pd.read_csv('../../data/employee.csv')\n",
    "\n",
    "# 設定篩選條件 與指定欄位\n",
    "depts = ['Houston Police Department-HPD', 'Houston Fire Department (HFD)']\n",
    "\n",
    "select_columns = ['UNIQUE_ID', 'DEPARTMENT',\n",
    "                  'GENDER', 'BASE_SALARY']"
   ]
  },
  {
   "cell_type": "code",
   "execution_count": 15,
   "id": "0e21f823",
   "metadata": {},
   "outputs": [
    {
     "name": "stdout",
     "output_type": "stream",
     "text": [
      "     UNIQUE_ID                     DEPARTMENT  GENDER  BASE_SALARY\n",
      "61          61  Houston Fire Department (HFD)  Female      96668.0\n",
      "136        136  Houston Police Department-HPD  Female      81239.0\n",
      "367        367  Houston Police Department-HPD  Female      86534.0\n",
      "474        474  Houston Police Department-HPD  Female      91181.0\n",
      "513        513  Houston Police Department-HPD  Female      81239.0\n"
     ]
    }
   ],
   "source": [
    "# 建立query 條件並套用篩選\n",
    "qs = \"DEPARTMENT in @depts\"\\\n",
    "     \" and GENDER == 'Female'\"\\\n",
    "     \" and 80000 <= BASE_SALARY <= 120000\"\n",
    "emp_filtered = employee.query(qs)\n",
    "print(emp_filtered[select_columns].head())"
   ]
  },
  {
   "cell_type": "code",
   "execution_count": 16,
   "id": "f12e67f7",
   "metadata": {},
   "outputs": [
    {
     "name": "stdout",
     "output_type": "stream",
     "text": [
      "     UNIQUE_ID                    POSITION_TITLE  \\\n",
      "0            0       ASSISTANT DIRECTOR (EX LVL)   \n",
      "73          73         ADMINISTRATIVE SPECIALIST   \n",
      "96          96     ASSISTANT CITY CONTROLLER III   \n",
      "117        117  SENIOR ASSISTANT CITY ATTORNEY I   \n",
      "146        146              SENIOR STAFF ANALYST   \n",
      "\n",
      "                        DEPARTMENT  BASE_SALARY                       RACE  \\\n",
      "0      Municipal Courts Department     121862.0            Hispanic/Latino   \n",
      "73           Human Resources Dept.      55939.0  Black or African American   \n",
      "96        City Controller's Office      59077.0     Asian/Pacific Islander   \n",
      "117               Legal Department      90957.0  Black or African American   \n",
      "146  Houston Information Tech Svcs      74951.0                      White   \n",
      "\n",
      "    EMPLOYMENT_TYPE  GENDER EMPLOYMENT_STATUS   HIRE_DATE    JOB_DATE  \n",
      "0         Full Time  Female            Active  2006-06-12  2012-10-13  \n",
      "73        Full Time  Female            Active  2011-12-19  2013-11-23  \n",
      "96        Full Time  Female            Active  2013-06-10  2013-06-10  \n",
      "117       Full Time  Female            Active  1998-03-20  2012-07-21  \n",
      "146       Full Time  Female            Active  2014-03-17  2014-03-17  \n"
     ]
    }
   ],
   "source": [
    "# 動態篩選\n",
    "top_10_depts = (employee.DEPARTMENT.value_counts()\n",
    "                                    .index[:10].tolist())\n",
    "qs = \"DEPARTMENT not in @top_10_depts and GENDER == 'Female'\"\n",
    "employee_filtered2 = employee.query(qs)\n",
    "print(employee_filtered2.head())"
   ]
  },
  {
   "cell_type": "markdown",
   "id": "bb26654c",
   "metadata": {},
   "source": [
    "## 7.8 使用where() 維持 Series 的大小"
   ]
  },
  {
   "cell_type": "code",
   "execution_count": 17,
   "id": "359e1115",
   "metadata": {},
   "outputs": [
    {
     "name": "stdout",
     "output_type": "stream",
     "text": [
      "movie_title\n",
      "Avatar                                         1000.0\n",
      "Pirates of the Caribbean: At World's End      40000.0\n",
      "Spectre                                       11000.0\n",
      "The Dark Knight Rises                         27000.0\n",
      "Star Wars: Episode VII - The Force Awakens      131.0\n",
      "Name: actor_1_facebook_likes, dtype: float64\n"
     ]
    }
   ],
   "source": [
    "# 載入資料集 並以title 為索引\n",
    "movie = pd.read_csv('../../data/movie.csv', index_col='movie_title')\n",
    "\n",
    "# 刪除 actor_1_facebook_likes 的缺失值\n",
    "fb_likes = movie['actor_1_facebook_likes'].dropna()\n",
    "print(fb_likes.head())"
   ]
  },
  {
   "cell_type": "code",
   "execution_count": 18,
   "id": "503b495b",
   "metadata": {},
   "outputs": [
    {
     "name": "stdout",
     "output_type": "stream",
     "text": [
      "<bound method NDFrame.describe of movie_title\n",
      "Avatar                                         1000.0\n",
      "Pirates of the Caribbean: At World's End      40000.0\n",
      "Spectre                                       11000.0\n",
      "The Dark Knight Rises                         27000.0\n",
      "Star Wars: Episode VII - The Force Awakens      131.0\n",
      "                                               ...   \n",
      "Signed Sealed Delivered                         637.0\n",
      "The Following                                   841.0\n",
      "A Plague So Pleasant                              0.0\n",
      "Shanghai Calling                                946.0\n",
      "My Date with Drew                                86.0\n",
      "Name: actor_1_facebook_likes, Length: 4909, dtype: float64>\n"
     ]
    }
   ],
   "source": [
    "# 了解一下資料分布\n",
    "print(fb_likes.describe)"
   ]
  },
  {
   "cell_type": "code",
   "execution_count": 19,
   "id": "749476ac",
   "metadata": {},
   "outputs": [
    {
     "data": {
      "text/plain": [
       "<Axes: >"
      ]
     },
     "execution_count": 19,
     "metadata": {},
     "output_type": "execute_result"
    },
    {
     "data": {
      "image/png": "[encoded data removed]",
      "text/plain": [
       "<Figure size 1000x800 with 1 Axes>"
      ]
     },
     "metadata": {},
     "output_type": "display_data"
    }
   ],
   "source": [
    "# 視覺化\n",
    "import matplotlib.pyplot as plt\n",
    "fig, ax = plt.subplots(figsize=(10, 8))\n",
    "fb_likes.hist(ax=ax)"
   ]
  },
  {
   "cell_type": "code",
   "execution_count": 21,
   "id": "efc2fc75",
   "metadata": {},
   "outputs": [
    {
     "name": "stdout",
     "output_type": "stream",
     "text": [
      "90.85353432470971\n"
     ]
    }
   ],
   "source": [
    "# 查看有多少值小於20000\n",
    "criteria_high = fb_likes < 20000\n",
    "print(criteria_high.mean() * 100)"
   ]
  },
  {
   "cell_type": "code",
   "execution_count": 22,
   "id": "e93a6b9d",
   "metadata": {},
   "outputs": [
    {
     "name": "stdout",
     "output_type": "stream",
     "text": [
      "movie_title\n",
      "Avatar                                         1000.0\n",
      "Pirates of the Caribbean: At World's End          NaN\n",
      "Spectre                                       11000.0\n",
      "The Dark Knight Rises                             NaN\n",
      "Star Wars: Episode VII - The Force Awakens      131.0\n",
      "Name: actor_1_facebook_likes, dtype: float64\n"
     ]
    }
   ],
   "source": [
    "# 用where() 篩選出20000以下的值\n",
    "print(fb_likes.where(criteria_high).head())"
   ]
  },
  {
   "cell_type": "code",
   "execution_count": 23,
   "id": "c6aaadb5",
   "metadata": {},
   "outputs": [
    {
     "name": "stdout",
     "output_type": "stream",
     "text": [
      "movie_title\n",
      "Avatar                                         1000.0\n",
      "Pirates of the Caribbean: At World's End      20000.0\n",
      "Spectre                                       11000.0\n",
      "The Dark Knight Rises                         20000.0\n",
      "Star Wars: Episode VII - The Force Awakens      131.0\n",
      "Name: actor_1_facebook_likes, dtype: float64\n"
     ]
    }
   ],
   "source": [
    "# 將20000以上的值 都設定成200000\n",
    "print(fb_likes.where(criteria_high, other=20000).head())"
   ]
  },
  {
   "cell_type": "code",
   "execution_count": 24,
   "id": "fffe51e6",
   "metadata": {},
   "outputs": [
    {
     "name": "stdout",
     "output_type": "stream",
     "text": [
      "movie_title\n",
      "Avatar                                         1000.0\n",
      "Pirates of the Caribbean: At World's End      20000.0\n",
      "Spectre                                       11000.0\n",
      "The Dark Knight Rises                         20000.0\n",
      "Star Wars: Episode VII - The Force Awakens      300.0\n",
      "Name: actor_1_facebook_likes, dtype: float64\n"
     ]
    }
   ],
   "source": [
    "# 將300以下的值 都設定成300\n",
    "criteria_low = fb_likes > 300\n",
    "fb_likes_cap = (fb_likes\n",
    "                .where(criteria_high, other=20000)\n",
    "                .where(criteria_low, 300)\n",
    "                )\n",
    "print(fb_likes_cap.head())"
   ]
  },
  {
   "cell_type": "code",
   "execution_count": 25,
   "id": "84ecaa52",
   "metadata": {},
   "outputs": [
    {
     "data": {
      "text/plain": [
       "(4909, 4909)"
      ]
     },
     "execution_count": 25,
     "metadata": {},
     "output_type": "execute_result"
    }
   ],
   "source": [
    "# 確認where() 沒有縮減資料集\n",
    "len(fb_likes), len(fb_likes_cap)"
   ]
  },
  {
   "cell_type": "code",
   "execution_count": 26,
   "id": "7ced4268",
   "metadata": {},
   "outputs": [
    {
     "data": {
      "text/plain": [
       "<Axes: >"
      ]
     },
     "execution_count": 26,
     "metadata": {},
     "output_type": "execute_result"
    },
    {
     "data": {
      "image/png": "[encoded data removed]",
      "text/plain": [
       "<Figure size 1000x800 with 1 Axes>"
      ]
     },
     "metadata": {},
     "output_type": "display_data"
    }
   ],
   "source": [
    "# 重新畫圖\n",
    "fig, ax = plt.subplots(figsize=(10,8))\n",
    "fb_likes_cap.hist(ax=ax)"
   ]
  },
  {
   "cell_type": "code",
   "execution_count": 27,
   "id": "b0e08153",
   "metadata": {},
   "outputs": [
    {
     "data": {
      "text/plain": [
       "True"
      ]
     },
     "execution_count": 27,
     "metadata": {},
     "output_type": "execute_result"
    }
   ],
   "source": [
    "# clip() 直接設定上下限\n",
    "fb_likes_cap2 = fb_likes.clip(lower=300, upper=20000)\n",
    "# 檢查是否結果是否與where() 相同\n",
    "fb_likes_cap2.equals(fb_likes_cap)"
   ]
  },
  {
   "cell_type": "markdown",
   "id": "59bcbf84",
   "metadata": {},
   "source": [
    "## 7.9 對DataFrame 的列進行遮罩"
   ]
  },
  {
   "cell_type": "code",
   "execution_count": null,
   "id": "32c59699",
   "metadata": {},
   "outputs": [],
   "source": [
    "# 載入資料集 並以title 為索引\n",
    "movie = pd.read_csv('../../data/movie.csv', index_col='movie_title')\n",
    "# 遮罩條件\n",
    "c1 = movie['title_year']  >= 2010\n",
    "c2 = movie['title_year'].isna()\n",
    "criteria = c1 | c2"
   ]
  },
  {
   "cell_type": "code",
   "execution_count": 29,
   "id": "6f74234c",
   "metadata": {},
   "outputs": [
    {
     "name": "stdout",
     "output_type": "stream",
     "text": [
      "                                            color   director_name  \\\n",
      "movie_title                                                         \n",
      "Avatar                                      Color   James Cameron   \n",
      "Pirates of the Caribbean: At World's End    Color  Gore Verbinski   \n",
      "Spectre                                       NaN             NaN   \n",
      "The Dark Knight Rises                         NaN             NaN   \n",
      "Star Wars: Episode VII - The Force Awakens    NaN             NaN   \n",
      "\n",
      "                                            num_critic_for_reviews  duration  \\\n",
      "movie_title                                                                    \n",
      "Avatar                                                       723.0     178.0   \n",
      "Pirates of the Caribbean: At World's End                     302.0     169.0   \n",
      "Spectre                                                        NaN       NaN   \n",
      "The Dark Knight Rises                                          NaN       NaN   \n",
      "Star Wars: Episode VII - The Force Awakens                     NaN       NaN   \n",
      "\n",
      "                                            director_facebook_likes  \\\n",
      "movie_title                                                           \n",
      "Avatar                                                          0.0   \n",
      "Pirates of the Caribbean: At World's End                      563.0   \n",
      "Spectre                                                         NaN   \n",
      "The Dark Knight Rises                                           NaN   \n",
      "Star Wars: Episode VII - The Force Awakens                      NaN   \n",
      "\n",
      "                                            actor_3_facebook_likes  \\\n",
      "movie_title                                                          \n",
      "Avatar                                                       855.0   \n",
      "Pirates of the Caribbean: At World's End                    1000.0   \n",
      "Spectre                                                        NaN   \n",
      "The Dark Knight Rises                                          NaN   \n",
      "Star Wars: Episode VII - The Force Awakens                     NaN   \n",
      "\n",
      "                                                actor_2_name  \\\n",
      "movie_title                                                    \n",
      "Avatar                                      Joel David Moore   \n",
      "Pirates of the Caribbean: At World's End       Orlando Bloom   \n",
      "Spectre                                                  NaN   \n",
      "The Dark Knight Rises                                    NaN   \n",
      "Star Wars: Episode VII - The Force Awakens               NaN   \n",
      "\n",
      "                                            actor_1_facebook_likes  \\\n",
      "movie_title                                                          \n",
      "Avatar                                                      1000.0   \n",
      "Pirates of the Caribbean: At World's End                   40000.0   \n",
      "Spectre                                                        NaN   \n",
      "The Dark Knight Rises                                          NaN   \n",
      "Star Wars: Episode VII - The Force Awakens                     NaN   \n",
      "\n",
      "                                                  gross  \\\n",
      "movie_title                                               \n",
      "Avatar                                      760505847.0   \n",
      "Pirates of the Caribbean: At World's End    309404152.0   \n",
      "Spectre                                             NaN   \n",
      "The Dark Knight Rises                               NaN   \n",
      "Star Wars: Episode VII - The Force Awakens          NaN   \n",
      "\n",
      "                                                                     genres  \\\n",
      "movie_title                                                                   \n",
      "Avatar                                      Action|Adventure|Fantasy|Sci-Fi   \n",
      "Pirates of the Caribbean: At World's End           Action|Adventure|Fantasy   \n",
      "Spectre                                                                 NaN   \n",
      "The Dark Knight Rises                                                   NaN   \n",
      "Star Wars: Episode VII - The Force Awakens                              NaN   \n",
      "\n",
      "                                            ... num_user_for_reviews  \\\n",
      "movie_title                                 ...                        \n",
      "Avatar                                      ...               3054.0   \n",
      "Pirates of the Caribbean: At World's End    ...               1238.0   \n",
      "Spectre                                     ...                  NaN   \n",
      "The Dark Knight Rises                       ...                  NaN   \n",
      "Star Wars: Episode VII - The Force Awakens  ...                  NaN   \n",
      "\n",
      "                                            language  country content_rating  \\\n",
      "movie_title                                                                    \n",
      "Avatar                                       English      USA          PG-13   \n",
      "Pirates of the Caribbean: At World's End     English      USA          PG-13   \n",
      "Spectre                                          NaN      NaN            NaN   \n",
      "The Dark Knight Rises                            NaN      NaN            NaN   \n",
      "Star Wars: Episode VII - The Force Awakens       NaN      NaN            NaN   \n",
      "\n",
      "                                                 budget title_year  \\\n",
      "movie_title                                                          \n",
      "Avatar                                      237000000.0     2009.0   \n",
      "Pirates of the Caribbean: At World's End    300000000.0     2007.0   \n",
      "Spectre                                             NaN        NaN   \n",
      "The Dark Knight Rises                               NaN        NaN   \n",
      "Star Wars: Episode VII - The Force Awakens          NaN        NaN   \n",
      "\n",
      "                                           actor_2_facebook_likes  imdb_score  \\\n",
      "movie_title                                                                     \n",
      "Avatar                                                      936.0         7.9   \n",
      "Pirates of the Caribbean: At World's End                   5000.0         7.1   \n",
      "Spectre                                                       NaN         NaN   \n",
      "The Dark Knight Rises                                         NaN         NaN   \n",
      "Star Wars: Episode VII - The Force Awakens                    NaN         NaN   \n",
      "\n",
      "                                           aspect_ratio movie_facebook_likes  \n",
      "movie_title                                                                   \n",
      "Avatar                                             1.78              33000.0  \n",
      "Pirates of the Caribbean: At World's End           2.35                  0.0  \n",
      "Spectre                                             NaN                  NaN  \n",
      "The Dark Knight Rises                               NaN                  NaN  \n",
      "Star Wars: Episode VII - The Force Awakens          NaN                  NaN  \n",
      "\n",
      "[5 rows x 27 columns]\n"
     ]
    }
   ],
   "source": [
    "# 傳入遮罩\n",
    "print(movie.mask(criteria).head())"
   ]
  },
  {
   "cell_type": "code",
   "execution_count": 30,
   "id": "cc3c8d7d",
   "metadata": {},
   "outputs": [
    {
     "name": "stdout",
     "output_type": "stream",
     "text": [
      "                                          color   director_name  \\\n",
      "movie_title                                                       \n",
      "Avatar                                    Color   James Cameron   \n",
      "Pirates of the Caribbean: At World's End  Color  Gore Verbinski   \n",
      "Spider-Man 3                              Color       Sam Raimi   \n",
      "Harry Potter and the Half-Blood Prince    Color     David Yates   \n",
      "Superman Returns                          Color    Bryan Singer   \n",
      "\n",
      "                                          num_critic_for_reviews  duration  \\\n",
      "movie_title                                                                  \n",
      "Avatar                                                     723.0     178.0   \n",
      "Pirates of the Caribbean: At World's End                   302.0     169.0   \n",
      "Spider-Man 3                                               392.0     156.0   \n",
      "Harry Potter and the Half-Blood Prince                     375.0     153.0   \n",
      "Superman Returns                                           434.0     169.0   \n",
      "\n",
      "                                          director_facebook_likes  \\\n",
      "movie_title                                                         \n",
      "Avatar                                                        0.0   \n",
      "Pirates of the Caribbean: At World's End                    563.0   \n",
      "Spider-Man 3                                                  0.0   \n",
      "Harry Potter and the Half-Blood Prince                      282.0   \n",
      "Superman Returns                                              0.0   \n",
      "\n",
      "                                          actor_3_facebook_likes  \\\n",
      "movie_title                                                        \n",
      "Avatar                                                     855.0   \n",
      "Pirates of the Caribbean: At World's End                  1000.0   \n",
      "Spider-Man 3                                              4000.0   \n",
      "Harry Potter and the Half-Blood Prince                   10000.0   \n",
      "Superman Returns                                           903.0   \n",
      "\n",
      "                                              actor_2_name  \\\n",
      "movie_title                                                  \n",
      "Avatar                                    Joel David Moore   \n",
      "Pirates of the Caribbean: At World's End     Orlando Bloom   \n",
      "Spider-Man 3                                  James Franco   \n",
      "Harry Potter and the Half-Blood Prince    Daniel Radcliffe   \n",
      "Superman Returns                             Marlon Brando   \n",
      "\n",
      "                                          actor_1_facebook_likes        gross  \\\n",
      "movie_title                                                                     \n",
      "Avatar                                                    1000.0  760505847.0   \n",
      "Pirates of the Caribbean: At World's End                 40000.0  309404152.0   \n",
      "Spider-Man 3                                             24000.0  336530303.0   \n",
      "Harry Potter and the Half-Blood Prince                   25000.0  301956980.0   \n",
      "Superman Returns                                         18000.0  200069408.0   \n",
      "\n",
      "                                                                    genres  \\\n",
      "movie_title                                                                  \n",
      "Avatar                                     Action|Adventure|Fantasy|Sci-Fi   \n",
      "Pirates of the Caribbean: At World's End          Action|Adventure|Fantasy   \n",
      "Spider-Man 3                                      Action|Adventure|Romance   \n",
      "Harry Potter and the Half-Blood Prince    Adventure|Family|Fantasy|Mystery   \n",
      "Superman Returns                                   Action|Adventure|Sci-Fi   \n",
      "\n",
      "                                          ... num_user_for_reviews  language  \\\n",
      "movie_title                               ...                                  \n",
      "Avatar                                    ...               3054.0   English   \n",
      "Pirates of the Caribbean: At World's End  ...               1238.0   English   \n",
      "Spider-Man 3                              ...               1902.0   English   \n",
      "Harry Potter and the Half-Blood Prince    ...                973.0   English   \n",
      "Superman Returns                          ...               2367.0   English   \n",
      "\n",
      "                                          country content_rating       budget  \\\n",
      "movie_title                                                                     \n",
      "Avatar                                        USA          PG-13  237000000.0   \n",
      "Pirates of the Caribbean: At World's End      USA          PG-13  300000000.0   \n",
      "Spider-Man 3                                  USA          PG-13  258000000.0   \n",
      "Harry Potter and the Half-Blood Prince         UK             PG  250000000.0   \n",
      "Superman Returns                              USA          PG-13  209000000.0   \n",
      "\n",
      "                                         title_year actor_2_facebook_likes  \\\n",
      "movie_title                                                                  \n",
      "Avatar                                       2009.0                  936.0   \n",
      "Pirates of the Caribbean: At World's End     2007.0                 5000.0   \n",
      "Spider-Man 3                                 2007.0                11000.0   \n",
      "Harry Potter and the Half-Blood Prince       2009.0                11000.0   \n",
      "Superman Returns                             2006.0                10000.0   \n",
      "\n",
      "                                          imdb_score aspect_ratio  \\\n",
      "movie_title                                                         \n",
      "Avatar                                           7.9         1.78   \n",
      "Pirates of the Caribbean: At World's End         7.1         2.35   \n",
      "Spider-Man 3                                     6.2         2.35   \n",
      "Harry Potter and the Half-Blood Prince           7.5         2.35   \n",
      "Superman Returns                                 6.1         2.35   \n",
      "\n",
      "                                         movie_facebook_likes  \n",
      "movie_title                                                    \n",
      "Avatar                                                33000.0  \n",
      "Pirates of the Caribbean: At World's End                  0.0  \n",
      "Spider-Man 3                                              0.0  \n",
      "Harry Potter and the Half-Blood Prince                10000.0  \n",
      "Superman Returns                                          0.0  \n",
      "\n",
      "[5 rows x 27 columns]\n"
     ]
    }
   ],
   "source": [
    "# 移除整列都是缺失值的資料\n",
    "movie_mask = movie.mask(criteria).dropna(how='all')\n",
    "print(movie_mask.head())"
   ]
  },
  {
   "cell_type": "code",
   "execution_count": 31,
   "id": "e8c0ca8a",
   "metadata": {},
   "outputs": [
    {
     "data": {
      "text/plain": [
       "False"
      ]
     },
     "execution_count": 31,
     "metadata": {},
     "output_type": "execute_result"
    }
   ],
   "source": [
    "# 用布林篩選執行相同操作 檢查結果是否一致\n",
    "movie_boolean = movie[movie['title_year'] < 2010]\n",
    "movie_mask.equals(movie_boolean)"
   ]
  },
  {
   "cell_type": "code",
   "execution_count": 32,
   "id": "75ef0816",
   "metadata": {},
   "outputs": [
    {
     "name": "stdout",
     "output_type": "stream",
     "text": [
      "color                         True\n",
      "director_name                 True\n",
      "num_critic_for_reviews        True\n",
      "duration                      True\n",
      "director_facebook_likes       True\n",
      "actor_3_facebook_likes        True\n",
      "actor_2_name                  True\n",
      "actor_1_facebook_likes        True\n",
      "gross                         True\n",
      "genres                        True\n",
      "actor_1_name                  True\n",
      "num_voted_users              False\n",
      "cast_total_facebook_likes    False\n",
      "actor_3_name                  True\n",
      "facenumber_in_poster          True\n",
      "plot_keywords                 True\n",
      "movie_imdb_link               True\n",
      "num_user_for_reviews          True\n",
      "language                      True\n",
      "country                       True\n",
      "content_rating                True\n",
      "budget                        True\n",
      "title_year                    True\n",
      "actor_2_facebook_likes        True\n",
      "imdb_score                    True\n",
      "aspect_ratio                  True\n",
      "movie_facebook_likes         False\n",
      "dtype: bool\n"
     ]
    }
   ],
   "source": [
    "# 檢查那些欄位資料型態不一樣\n",
    "print(movie_mask.dtypes == movie_boolean.dtypes)"
   ]
  },
  {
   "cell_type": "code",
   "execution_count": 33,
   "id": "8946cd92",
   "metadata": {},
   "outputs": [],
   "source": [
    "# 使用pandas 的testing 模組 跳過資料型別檢查\n",
    "from pandas.testing import assert_frame_equal\n",
    "assert_frame_equal(movie_boolean, movie_mask,\n",
    "                   check_dtype=False)"
   ]
  },
  {
   "cell_type": "code",
   "execution_count": null,
   "id": "e3045c6a",
   "metadata": {},
   "outputs": [
    {
     "name": "stdout",
     "output_type": "stream",
     "text": [
      "4.55 ms ± 55.4 μs per loop (mean ± std. dev. of 7 runs, 100 loops each)\n",
      "520 μs ± 6.69 μs per loop (mean ± std. dev. of 7 runs, 1,000 loops each)\n"
     ]
    }
   ],
   "source": [
    "# 比較速度\n",
    "%timeit movie.mask(criteria).dropna(how='all')\n",
    "%timeit movie[movie['title_year'] < 2010]"
   ]
  },
  {
   "cell_type": "markdown",
   "id": "de1cc6d0",
   "metadata": {},
   "source": [
    "## 7.10 以布林陣列、位置數字和標籤選擇資料"
   ]
  },
  {
   "cell_type": "code",
   "execution_count": 36,
   "id": "7a606d57",
   "metadata": {},
   "outputs": [],
   "source": [
    "# 載入資料集 並以title 為索引\n",
    "movie = pd.read_csv('../../data/movie.csv', index_col='movie_title')\n",
    "\n",
    "# 設定篩選條件\n",
    "c1 = movie['content_rating'] == 'G'\n",
    "c2 = movie['imdb_score'] < 4\n",
    "criteria = c1 & c2"
   ]
  },
  {
   "cell_type": "code",
   "execution_count": 37,
   "id": "47d359c5",
   "metadata": {},
   "outputs": [
    {
     "name": "stdout",
     "output_type": "stream",
     "text": [
      "                                color     director_name  \\\n",
      "movie_title                                               \n",
      "The True Story of Puss'N Boots  Color  Jérôme Deschamps   \n",
      "Doogal                          Color    Dave Borthwick   \n",
      "Thomas and the Magic Railroad   Color    Britt Allcroft   \n",
      "Barney's Great Adventure        Color       Steve Gomer   \n",
      "Justin Bieber: Never Say Never  Color        Jon M. Chu   \n",
      "\n",
      "                                num_critic_for_reviews  duration  \\\n",
      "movie_title                                                        \n",
      "The True Story of Puss'N Boots                     4.0      80.0   \n",
      "Doogal                                            31.0      77.0   \n",
      "Thomas and the Magic Railroad                     47.0      85.0   \n",
      "Barney's Great Adventure                          24.0      76.0   \n",
      "Justin Bieber: Never Say Never                    84.0     115.0   \n",
      "\n",
      "                                director_facebook_likes  \\\n",
      "movie_title                                               \n",
      "The True Story of Puss'N Boots                      0.0   \n",
      "Doogal                                              3.0   \n",
      "Thomas and the Magic Railroad                       2.0   \n",
      "Barney's Great Adventure                            9.0   \n",
      "Justin Bieber: Never Say Never                    209.0   \n",
      "\n",
      "                                actor_3_facebook_likes   actor_2_name  \\\n",
      "movie_title                                                             \n",
      "The True Story of Puss'N Boots                     0.0    André Wilms   \n",
      "Doogal                                           593.0  Kylie Minogue   \n",
      "Thomas and the Magic Railroad                    402.0     Colm Feore   \n",
      "Barney's Great Adventure                          47.0     Kyla Pratt   \n",
      "Justin Bieber: Never Say Never                    41.0  Sean Kingston   \n",
      "\n",
      "                                actor_1_facebook_likes       gross  \\\n",
      "movie_title                                                          \n",
      "The True Story of Puss'N Boots                    44.0         NaN   \n",
      "Doogal                                           787.0   7382993.0   \n",
      "Thomas and the Magic Railroad                   1000.0  15911333.0   \n",
      "Barney's Great Adventure                         595.0  11144518.0   \n",
      "Justin Bieber: Never Say Never                   569.0  73000942.0   \n",
      "\n",
      "                                                                   genres  \\\n",
      "movie_title                                                                 \n",
      "The True Story of Puss'N Boots                 Adventure|Animation|Comedy   \n",
      "Doogal                          Adventure|Animation|Comedy|Family|Fantasy   \n",
      "Thomas and the Magic Railroad       Adventure|Comedy|Drama|Family|Fantasy   \n",
      "Barney's Great Adventure                                 Adventure|Family   \n",
      "Justin Bieber: Never Say Never                          Documentary|Music   \n",
      "\n",
      "                                ... num_user_for_reviews  language  country  \\\n",
      "movie_title                     ...                                           \n",
      "The True Story of Puss'N Boots  ...                 24.0   English   France   \n",
      "Doogal                          ...                114.0   English      USA   \n",
      "Thomas and the Magic Railroad   ...                119.0   English       UK   \n",
      "Barney's Great Adventure        ...                 53.0   English   Canada   \n",
      "Justin Bieber: Never Say Never  ...                233.0   English      USA   \n",
      "\n",
      "                               content_rating      budget title_year  \\\n",
      "movie_title                                                            \n",
      "The True Story of Puss'N Boots              G  25000000.0     2009.0   \n",
      "Doogal                                      G  20000000.0     2006.0   \n",
      "Thomas and the Magic Railroad               G  19000000.0     2000.0   \n",
      "Barney's Great Adventure                    G  15000000.0     1998.0   \n",
      "Justin Bieber: Never Say Never              G  13000000.0     2011.0   \n",
      "\n",
      "                               actor_2_facebook_likes  imdb_score  \\\n",
      "movie_title                                                         \n",
      "The True Story of Puss'N Boots                    9.0         2.9   \n",
      "Doogal                                          690.0         2.8   \n",
      "Thomas and the Magic Railroad                   539.0         3.6   \n",
      "Barney's Great Adventure                        417.0         2.8   \n",
      "Justin Bieber: Never Say Never                   69.0         1.6   \n",
      "\n",
      "                               aspect_ratio movie_facebook_likes  \n",
      "movie_title                                                       \n",
      "The True Story of Puss'N Boots          NaN                   90  \n",
      "Doogal                                 1.85                  346  \n",
      "Thomas and the Magic Railroad          1.85                  663  \n",
      "Barney's Great Adventure               1.85                  436  \n",
      "Justin Bieber: Never Say Never         1.85                62000  \n",
      "\n",
      "[5 rows x 27 columns]\n"
     ]
    }
   ],
   "source": [
    "# 使用loc 過濾\n",
    "movie_loc = movie.loc[criteria]\n",
    "print(movie_loc.head())"
   ]
  },
  {
   "cell_type": "code",
   "execution_count": 38,
   "id": "73c5a01f",
   "metadata": {},
   "outputs": [
    {
     "data": {
      "text/plain": [
       "True"
      ]
     },
     "execution_count": 38,
     "metadata": {},
     "output_type": "execute_result"
    }
   ],
   "source": [
    "# 使用iloc 過濾\n",
    "movie_iloc = movie.iloc[criteria.to_numpy()]\n",
    "movie_iloc.equals(movie_loc)"
   ]
  },
  {
   "cell_type": "code",
   "execution_count": 41,
   "id": "f7e247c7",
   "metadata": {},
   "outputs": [
    {
     "name": "stdout",
     "output_type": "stream",
     "text": [
      "color                        False\n",
      "director_name                False\n",
      "num_critic_for_reviews       False\n",
      "duration                     False\n",
      "director_facebook_likes      False\n",
      "actor_3_facebook_likes       False\n",
      "actor_2_name                 False\n",
      "actor_1_facebook_likes       False\n",
      "gross                        False\n",
      "genres                       False\n",
      "actor_1_name                 False\n",
      "num_voted_users               True\n",
      "cast_total_facebook_likes     True\n",
      "actor_3_name                 False\n",
      "facenumber_in_poster         False\n",
      "plot_keywords                False\n",
      "movie_imdb_link              False\n",
      "num_user_for_reviews         False\n",
      "language                     False\n",
      "country                      False\n",
      "content_rating               False\n",
      "budget                       False\n",
      "title_year                   False\n",
      "actor_2_facebook_likes       False\n",
      "imdb_score                   False\n",
      "aspect_ratio                 False\n",
      "movie_facebook_likes          True\n",
      "dtype: bool\n"
     ]
    }
   ],
   "source": [
    "# 用布林索引選取欄\n",
    "criteria_col = movie.dtypes == np.int64\n",
    "print(criteria_col)"
   ]
  },
  {
   "cell_type": "code",
   "execution_count": 42,
   "id": "6b82d196",
   "metadata": {},
   "outputs": [
    {
     "name": "stdout",
     "output_type": "stream",
     "text": [
      "                                            num_voted_users  \\\n",
      "movie_title                                                   \n",
      "Avatar                                               886204   \n",
      "Pirates of the Caribbean: At World's End             471220   \n",
      "Spectre                                              275868   \n",
      "The Dark Knight Rises                               1144337   \n",
      "Star Wars: Episode VII - The Force Awakens                8   \n",
      "\n",
      "                                            cast_total_facebook_likes  \\\n",
      "movie_title                                                             \n",
      "Avatar                                                           4834   \n",
      "Pirates of the Caribbean: At World's End                        48350   \n",
      "Spectre                                                         11700   \n",
      "The Dark Knight Rises                                          106759   \n",
      "Star Wars: Episode VII - The Force Awakens                        143   \n",
      "\n",
      "                                            movie_facebook_likes  \n",
      "movie_title                                                       \n",
      "Avatar                                                     33000  \n",
      "Pirates of the Caribbean: At World's End                       0  \n",
      "Spectre                                                    85000  \n",
      "The Dark Knight Rises                                     164000  \n",
      "Star Wars: Episode VII - The Force Awakens                     0  \n"
     ]
    }
   ],
   "source": [
    "# 用loc 選欄位\n",
    "print(movie.loc[:, criteria_col].head())"
   ]
  },
  {
   "cell_type": "code",
   "execution_count": 46,
   "id": "c75f35ce",
   "metadata": {},
   "outputs": [
    {
     "name": "stdout",
     "output_type": "stream",
     "text": [
      "                                            num_voted_users  \\\n",
      "movie_title                                                   \n",
      "Avatar                                               886204   \n",
      "Pirates of the Caribbean: At World's End             471220   \n",
      "Spectre                                              275868   \n",
      "The Dark Knight Rises                               1144337   \n",
      "Star Wars: Episode VII - The Force Awakens                8   \n",
      "\n",
      "                                            cast_total_facebook_likes  \\\n",
      "movie_title                                                             \n",
      "Avatar                                                           4834   \n",
      "Pirates of the Caribbean: At World's End                        48350   \n",
      "Spectre                                                         11700   \n",
      "The Dark Knight Rises                                          106759   \n",
      "Star Wars: Episode VII - The Force Awakens                        143   \n",
      "\n",
      "                                            movie_facebook_likes  \n",
      "movie_title                                                       \n",
      "Avatar                                                     33000  \n",
      "Pirates of the Caribbean: At World's End                       0  \n",
      "Spectre                                                    85000  \n",
      "The Dark Knight Rises                                     164000  \n",
      "Star Wars: Episode VII - The Force Awakens                     0  \n"
     ]
    }
   ],
   "source": [
    "# 用iloc 選欄位\n",
    "print(movie.iloc[:, criteria_col.to_numpy()].head())"
   ]
  },
  {
   "cell_type": "code",
   "execution_count": 47,
   "id": "bd92cf5d",
   "metadata": {},
   "outputs": [
    {
     "name": "stdout",
     "output_type": "stream",
     "text": [
      "                               content_rating  imdb_score  title_year  \\\n",
      "movie_title                                                             \n",
      "Justin Bieber: Never Say Never              G         1.6      2011.0   \n",
      "Sunday School Musical                       G         2.5      2008.0   \n",
      "Doogal                                      G         2.8      2006.0   \n",
      "Barney's Great Adventure                    G         2.8      1998.0   \n",
      "The True Story of Puss'N Boots              G         2.9      2009.0   \n",
      "Thomas and the Magic Railroad               G         3.6      2000.0   \n",
      "\n",
      "                                     gross  \n",
      "movie_title                                 \n",
      "Justin Bieber: Never Say Never  73000942.0  \n",
      "Sunday School Musical                  NaN  \n",
      "Doogal                           7382993.0  \n",
      "Barney's Great Adventure        11144518.0  \n",
      "The True Story of Puss'N Boots         NaN  \n",
      "Thomas and the Magic Railroad   15911333.0  \n"
     ]
    }
   ],
   "source": [
    "# 用loc 選列與欄\n",
    "cols = ['content_rating', 'imdb_score', 'title_year', 'gross']\n",
    "print(movie.loc[criteria, cols].sort_values('imdb_score'))"
   ]
  },
  {
   "cell_type": "code",
   "execution_count": 49,
   "id": "15fc802b",
   "metadata": {},
   "outputs": [
    {
     "name": "stdout",
     "output_type": "stream",
     "text": [
      "                               content_rating  imdb_score  title_year  \\\n",
      "movie_title                                                             \n",
      "Justin Bieber: Never Say Never              G         1.6      2011.0   \n",
      "Sunday School Musical                       G         2.5      2008.0   \n",
      "Doogal                                      G         2.8      2006.0   \n",
      "Barney's Great Adventure                    G         2.8      1998.0   \n",
      "The True Story of Puss'N Boots              G         2.9      2009.0   \n",
      "Thomas and the Magic Railroad               G         3.6      2000.0   \n",
      "\n",
      "                                     gross  \n",
      "movie_title                                 \n",
      "Justin Bieber: Never Say Never  73000942.0  \n",
      "Sunday School Musical                  NaN  \n",
      "Doogal                           7382993.0  \n",
      "Barney's Great Adventure        11144518.0  \n",
      "The True Story of Puss'N Boots         NaN  \n",
      "Thomas and the Magic Railroad   15911333.0  \n"
     ]
    }
   ],
   "source": [
    "# 用iloc 選列與欄\n",
    "col_index = [movie.columns.get_loc(col) for col in cols]\n",
    "\n",
    "print(movie.iloc[criteria.to_numpy(), col_index].sort_values('imdb_score'))"
   ]
  }
 ],
 "metadata": {
  "kernelspec": {
   "display_name": "Python 3",
   "language": "python",
   "name": "python3"
  },
  "language_info": {
   "codemirror_mode": {
    "name": "ipython",
    "version": 3
   },
   "file_extension": ".py",
   "mimetype": "text/x-python",
   "name": "python",
   "nbconvert_exporter": "python",
   "pygments_lexer": "ipython3",
   "version": "3.13.0"
  }
 },
 "nbformat": 4,
 "nbformat_minor": 5
}

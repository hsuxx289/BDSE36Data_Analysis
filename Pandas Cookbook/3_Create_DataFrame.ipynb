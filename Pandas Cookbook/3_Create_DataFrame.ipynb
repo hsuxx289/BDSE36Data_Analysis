{
 "cells": [
  {
   "cell_type": "code",
   "execution_count": 1,
   "id": "668fddc4",
   "metadata": {},
   "outputs": [],
   "source": [
    "import numpy as np\n",
    "import pandas as pd"
   ]
  },
  {
   "cell_type": "markdown",
   "id": "035ca650",
   "metadata": {},
   "source": [
    "## 3.1 從無到有建立DataFrame"
   ]
  },
  {
   "cell_type": "code",
   "execution_count": 3,
   "id": "746a6e70",
   "metadata": {},
   "outputs": [
    {
     "name": "stdout",
     "output_type": "stream",
     "text": [
      "     first       last  birth\n",
      "0     Paul  McCartney   1942\n",
      "1     John     Lennon   1940\n",
      "2  Richard    Starkey   1940\n",
      "3   George   Harrison   1943\n"
     ]
    }
   ],
   "source": [
    "# 需要一些串列 作為欄位\n",
    "fname = ['Paul', 'John', 'Richard', 'George']\n",
    "lname = ['McCartney', 'Lennon', 'Starkey', 'Harrison']\n",
    "birth = [1942, 1940, 1940, 1943]\n",
    "\n",
    "# 使用以上串列 建立字典\n",
    "people = {'first': fname, 'last': lname, 'birth': birth}\n",
    "\n",
    "# 使用以上字典 建立DataFrame\n",
    "beatles = pd.DataFrame(people)\n",
    "print(beatles)"
   ]
  },
  {
   "cell_type": "code",
   "execution_count": null,
   "id": "f354d6e9",
   "metadata": {},
   "outputs": [
    {
     "data": {
      "text/plain": [
       "RangeIndex(start=0, stop=4, step=1)"
      ]
     },
     "execution_count": 4,
     "metadata": {},
     "output_type": "execute_result"
    }
   ],
   "source": [
    "# 預設索引\n",
    "beatles.index"
   ]
  },
  {
   "cell_type": "code",
   "execution_count": 5,
   "id": "19f64bbf",
   "metadata": {},
   "outputs": [
    {
     "name": "stdout",
     "output_type": "stream",
     "text": [
      "     first       last  birth\n",
      "a     Paul  McCartney   1942\n",
      "b     John     Lennon   1940\n",
      "c  Richard    Starkey   1940\n",
      "d   George   Harrison   1943\n"
     ]
    }
   ],
   "source": [
    "# 自訂索引\n",
    "print(pd.DataFrame(people, index=['a', 'b', 'c', 'd']))"
   ]
  },
  {
   "cell_type": "code",
   "execution_count": null,
   "id": "692c4654",
   "metadata": {},
   "outputs": [
    {
     "name": "stdout",
     "output_type": "stream",
     "text": [
      "     first       last  birth\n",
      "0     Paul  McCartney   1942\n",
      "1     John     Lennon   1940\n",
      "2  Richard    Starkey   1940\n",
      "3   George   Harrison   1943\n"
     ]
    }
   ],
   "source": [
    "# 用多個字典構成的串列建立DataFrame\n",
    "print(pd.DataFrame([{'first':'Paul', 'last':'McCartney', 'birth':1942},\n",
    "                    {'first':'John', 'last':'Lennon', 'birth':1940},\n",
    "                    {'first':'Richard', 'last':'Starkey', 'birth':1940},\n",
    "                    {'first':'George', 'last':'Harrison', 'birth':1943}]))"
   ]
  },
  {
   "cell_type": "code",
   "execution_count": 8,
   "id": "09b5289c",
   "metadata": {},
   "outputs": [
    {
     "name": "stdout",
     "output_type": "stream",
     "text": [
      "        last    first  birth\n",
      "0  McCartney     Paul   1942\n",
      "1     Lennon     John   1940\n",
      "2    Starkey  Richard   1940\n",
      "3   Harrison   George   1943\n"
     ]
    }
   ],
   "source": [
    "# 用多個字典構成的串列建立DataFrame\n",
    "print(pd.DataFrame([{'first':'Paul', 'last':'McCartney', 'birth':1942},\n",
    "                    {'first':'John', 'last':'Lennon', 'birth':1940},\n",
    "                    {'first':'Richard', 'last':'Starkey', 'birth':1940},\n",
    "                    {'first':'George', 'last':'Harrison', 'birth':1943}],\n",
    "                    columns=['last', 'first', 'birth']))"
   ]
  },
  {
   "cell_type": "markdown",
   "id": "9449c096",
   "metadata": {},
   "source": [
    "## 3.2 存取CSV 檔案"
   ]
  },
  {
   "cell_type": "code",
   "execution_count": 9,
   "id": "771705f8",
   "metadata": {},
   "outputs": [
    {
     "name": "stdout",
     "output_type": "stream",
     "text": [
      ",first,last,birth\n",
      "0,Paul,McCartney,1942\n",
      "1,John,Lennon,1940\n",
      "2,Richard,Starkey,1940\n",
      "3,George,Harrison,1943\n",
      "\n"
     ]
    }
   ],
   "source": [
    "# 將DataFrame 以CSV 形式存入字串緩衝區\n",
    "from io import StringIO\n",
    "fout = StringIO()\n",
    "beatles.to_csv(fout)\n",
    "\n",
    "# 查看內容\n",
    "print(fout.getvalue())"
   ]
  },
  {
   "cell_type": "code",
   "execution_count": 10,
   "id": "7f6d45b6",
   "metadata": {},
   "outputs": [
    {
     "name": "stdout",
     "output_type": "stream",
     "text": [
      "   Unnamed: 0    first       last  birth\n",
      "0           0     Paul  McCartney   1942\n",
      "1           1     John     Lennon   1940\n",
      "2           2  Richard    Starkey   1940\n",
      "3           3   George   Harrison   1943\n"
     ]
    }
   ],
   "source": [
    "# 從CSV 存取DataFrame\n",
    "fout.seek(0) # 移至緩衝區的開頭位置\n",
    "print(pd.read_csv(fout))"
   ]
  },
  {
   "cell_type": "code",
   "execution_count": 11,
   "id": "c402fe3c",
   "metadata": {},
   "outputs": [
    {
     "name": "stdout",
     "output_type": "stream",
     "text": [
      "     first       last  birth\n",
      "0     Paul  McCartney   1942\n",
      "1     John     Lennon   1940\n",
      "2  Richard    Starkey   1940\n",
      "3   George   Harrison   1943\n"
     ]
    }
   ],
   "source": [
    "# 使用 index_col=\n",
    "fout.seek(0)\n",
    "print(pd.read_csv(fout, index_col=0))"
   ]
  },
  {
   "cell_type": "code",
   "execution_count": 12,
   "id": "3155bd43",
   "metadata": {},
   "outputs": [
    {
     "name": "stdout",
     "output_type": "stream",
     "text": [
      "first,last,birth\n",
      "Paul,McCartney,1942\n",
      "John,Lennon,1940\n",
      "Richard,Starkey,1940\n",
      "George,Harrison,1943\n",
      "\n"
     ]
    }
   ],
   "source": [
    "# 也可以不要存入索引 index=False\n",
    "fout = StringIO()\n",
    "beatles.to_csv(fout, index=False)\n",
    "print(fout.getvalue())"
   ]
  },
  {
   "cell_type": "markdown",
   "id": "80a59090",
   "metadata": {},
   "source": [
    "## 3.3 讀取大型的CSV 檔案"
   ]
  },
  {
   "cell_type": "code",
   "execution_count": 15,
   "id": "e4c45209",
   "metadata": {},
   "outputs": [
    {
     "name": "stdout",
     "output_type": "stream",
     "text": [
      "     carat      cut color clarity  depth  table  price     x     y     z\n",
      "0     0.23    Ideal     E     SI2   61.5   55.0    326  3.95  3.98  2.43\n",
      "1     0.21  Premium     E     SI1   59.8   61.0    326  3.89  3.84  2.31\n",
      "2     0.23     Good     E     VS1   56.9   65.0    327  4.05  4.07  2.31\n",
      "3     0.29  Premium     I     VS2   62.4   58.0    334  4.20  4.23  2.63\n",
      "4     0.31     Good     J     SI2   63.3   58.0    335  4.34  4.35  2.75\n",
      "..     ...      ...   ...     ...    ...    ...    ...   ...   ...   ...\n",
      "995   0.54    Ideal     D    VVS2   61.4   52.0   2897  5.30  5.34  3.26\n",
      "996   0.72    Ideal     E     SI1   62.5   55.0   2897  5.69  5.74  3.57\n",
      "997   0.72     Good     F     VS1   59.4   61.0   2897  5.82  5.89  3.48\n",
      "998   0.74  Premium     D     VS2   61.8   58.0   2897  5.81  5.77  3.58\n",
      "999   1.12  Premium     J     SI2   60.6   59.0   2898  6.68  6.61  4.03\n",
      "\n",
      "[1000 rows x 10 columns]\n"
     ]
    }
   ],
   "source": [
    "# 限制載入資料量 nrows=\n",
    "diamonds = pd.read_csv('../../data/diamonds.csv', nrows=1000)\n",
    "\n",
    "print(diamonds)"
   ]
  },
  {
   "cell_type": "code",
   "execution_count": 16,
   "id": "8fc35626",
   "metadata": {},
   "outputs": [
    {
     "name": "stdout",
     "output_type": "stream",
     "text": [
      "<class 'pandas.core.frame.DataFrame'>\n",
      "RangeIndex: 1000 entries, 0 to 999\n",
      "Data columns (total 10 columns):\n",
      " #   Column   Non-Null Count  Dtype  \n",
      "---  ------   --------------  -----  \n",
      " 0   carat    1000 non-null   float64\n",
      " 1   cut      1000 non-null   object \n",
      " 2   color    1000 non-null   object \n",
      " 3   clarity  1000 non-null   object \n",
      " 4   depth    1000 non-null   float64\n",
      " 5   table    1000 non-null   float64\n",
      " 6   price    1000 non-null   int64  \n",
      " 7   x        1000 non-null   float64\n",
      " 8   y        1000 non-null   float64\n",
      " 9   z        1000 non-null   float64\n",
      "dtypes: float64(6), int64(1), object(3)\n",
      "memory usage: 78.3+ KB\n"
     ]
    }
   ],
   "source": [
    "# 查看占用多少記憶體\n",
    "diamonds.info()"
   ]
  },
  {
   "cell_type": "code",
   "execution_count": 17,
   "id": "d021c346",
   "metadata": {},
   "outputs": [
    {
     "name": "stdout",
     "output_type": "stream",
     "text": [
      "<class 'pandas.core.frame.DataFrame'>\n",
      "RangeIndex: 1000 entries, 0 to 999\n",
      "Data columns (total 10 columns):\n",
      " #   Column   Non-Null Count  Dtype  \n",
      "---  ------   --------------  -----  \n",
      " 0   carat    1000 non-null   float32\n",
      " 1   cut      1000 non-null   object \n",
      " 2   color    1000 non-null   object \n",
      " 3   clarity  1000 non-null   object \n",
      " 4   depth    1000 non-null   float32\n",
      " 5   table    1000 non-null   float32\n",
      " 6   price    1000 non-null   int16  \n",
      " 7   x        1000 non-null   float32\n",
      " 8   y        1000 non-null   float32\n",
      " 9   z        1000 non-null   float32\n",
      "dtypes: float32(6), int16(1), object(3)\n",
      "memory usage: 49.0+ KB\n"
     ]
    }
   ],
   "source": [
    "# 指定存入的資料型態\n",
    "diamonds2 = pd.read_csv('../../data/diamonds.csv', nrows=1000,\n",
    "                        dtype={'carat':np.float32, 'depth':np.float32,\n",
    "                               'table': np.float32, 'x': np.float32,\n",
    "                               'y':np.float32, 'z':np.float32,\n",
    "                               'price': np.int16})\n",
    "\n",
    "diamonds2.info()"
   ]
  },
  {
   "cell_type": "code",
   "execution_count": 19,
   "id": "8742d1ab",
   "metadata": {},
   "outputs": [
    {
     "name": "stdout",
     "output_type": "stream",
     "text": [
      "             carat        depth        table       price            x  \\\n",
      "count  1000.000000  1000.000000  1000.000000  1000.00000  1000.000000   \n",
      "mean      0.689280    61.722800    57.734700  2476.54000     5.605940   \n",
      "std       0.195291     1.758879     2.467946   839.57562     0.625173   \n",
      "min       0.200000    53.000000    52.000000   326.00000     3.790000   \n",
      "25%       0.700000    60.900000    56.000000  2777.00000     5.640000   \n",
      "50%       0.710000    61.800000    57.000000  2818.00000     5.770000   \n",
      "75%       0.790000    62.600000    59.000000  2856.00000     5.920000   \n",
      "max       1.270000    69.500000    70.000000  2898.00000     7.120000   \n",
      "\n",
      "                 y            z  \n",
      "count  1000.000000  1000.000000  \n",
      "mean      5.599180     3.457530  \n",
      "std       0.611974     0.389819  \n",
      "min       3.750000     2.270000  \n",
      "25%       5.630000     3.450000  \n",
      "50%       5.760000     3.550000  \n",
      "75%       5.910000     3.640000  \n",
      "max       7.050000     4.330000  \n"
     ]
    }
   ],
   "source": [
    "# 比對一下資料集內容\n",
    "print(diamonds.describe())"
   ]
  },
  {
   "cell_type": "code",
   "execution_count": 21,
   "id": "ceb0b668",
   "metadata": {},
   "outputs": [
    {
     "name": "stdout",
     "output_type": "stream",
     "text": [
      "             carat        depth        table       price            x  \\\n",
      "count  1000.000000  1000.000000  1000.000000  1000.00000  1000.000000   \n",
      "mean      0.689280    61.722801    57.734699  2476.54000     5.605940   \n",
      "std       0.195291     1.758879     2.467946   839.57562     0.625173   \n",
      "min       0.200000    53.000000    52.000000   326.00000     3.790000   \n",
      "25%       0.700000    60.900002    56.000000  2777.00000     5.640000   \n",
      "50%       0.710000    61.799999    57.000000  2818.00000     5.770000   \n",
      "75%       0.790000    62.599998    59.000000  2856.00000     5.920000   \n",
      "max       1.270000    69.500000    70.000000  2898.00000     7.120000   \n",
      "\n",
      "                 y            z  \n",
      "count  1000.000000  1000.000000  \n",
      "mean      5.599180     3.457530  \n",
      "std       0.611974     0.389819  \n",
      "min       3.750000     2.270000  \n",
      "25%       5.630000     3.450000  \n",
      "50%       5.760000     3.550000  \n",
      "75%       5.910000     3.640000  \n",
      "max       7.050000     4.330000  \n"
     ]
    }
   ],
   "source": [
    "print(diamonds2.describe())"
   ]
  },
  {
   "cell_type": "code",
   "execution_count": null,
   "id": "ad8814c5",
   "metadata": {},
   "outputs": [
    {
     "data": {
      "text/plain": [
       "cut\n",
       "Ideal        333\n",
       "Premium      290\n",
       "Very Good    226\n",
       "Good          89\n",
       "Fair          62\n",
       "Name: count, dtype: int64"
      ]
     },
     "execution_count": 22,
     "metadata": {},
     "output_type": "execute_result"
    }
   ],
   "source": [
    "# 檢視類別型別的相異資料數\n",
    "diamonds2.cut.value_counts()"
   ]
  },
  {
   "cell_type": "code",
   "execution_count": 23,
   "id": "3aa1f19f",
   "metadata": {},
   "outputs": [
    {
     "data": {
      "text/plain": [
       "color\n",
       "E    240\n",
       "F    226\n",
       "G    139\n",
       "D    129\n",
       "H    125\n",
       "I     95\n",
       "J     46\n",
       "Name: count, dtype: int64"
      ]
     },
     "execution_count": 23,
     "metadata": {},
     "output_type": "execute_result"
    }
   ],
   "source": [
    "# 檢視類別型別的相異資料數\n",
    "diamonds2.color.value_counts()"
   ]
  },
  {
   "cell_type": "code",
   "execution_count": 24,
   "id": "5db422a5",
   "metadata": {},
   "outputs": [
    {
     "data": {
      "text/plain": [
       "clarity\n",
       "SI1     306\n",
       "VS2     218\n",
       "VS1     159\n",
       "SI2     154\n",
       "VVS2     62\n",
       "VVS1     58\n",
       "I1       29\n",
       "IF       14\n",
       "Name: count, dtype: int64"
      ]
     },
     "execution_count": 24,
     "metadata": {},
     "output_type": "execute_result"
    }
   ],
   "source": [
    "# 檢視類別型別的相異資料數\n",
    "diamonds2.clarity.value_counts()"
   ]
  },
  {
   "cell_type": "code",
   "execution_count": 25,
   "id": "d0a15250",
   "metadata": {},
   "outputs": [
    {
     "name": "stdout",
     "output_type": "stream",
     "text": [
      "<class 'pandas.core.frame.DataFrame'>\n",
      "RangeIndex: 1000 entries, 0 to 999\n",
      "Data columns (total 10 columns):\n",
      " #   Column   Non-Null Count  Dtype   \n",
      "---  ------   --------------  -----   \n",
      " 0   carat    1000 non-null   float32 \n",
      " 1   cut      1000 non-null   category\n",
      " 2   color    1000 non-null   category\n",
      " 3   clarity  1000 non-null   category\n",
      " 4   depth    1000 non-null   float32 \n",
      " 5   table    1000 non-null   float32 \n",
      " 6   price    1000 non-null   int16   \n",
      " 7   x        1000 non-null   float32 \n",
      " 8   y        1000 non-null   float32 \n",
      " 9   z        1000 non-null   float32 \n",
      "dtypes: category(3), float32(6), int16(1)\n",
      "memory usage: 29.4 KB\n"
     ]
    }
   ],
   "source": [
    "# 轉換為categorical dtype\n",
    "diamonds3 = pd.read_csv('../../data/diamonds.csv', nrows=1000,\n",
    "                        dtype={'carat':np.float32, 'depth':np.float32,\n",
    "                               'table': np.float32, 'x': np.float32,\n",
    "                               'y':np.float32, 'z':np.float32,\n",
    "                               'price': np.int16,\n",
    "                               'cut':'category', 'color': 'category',\n",
    "                               'clarity': 'category'})\n",
    "\n",
    "diamonds3.info()"
   ]
  }
 ],
 "metadata": {
  "kernelspec": {
   "display_name": "Python 3",
   "language": "python",
   "name": "python3"
  },
  "language_info": {
   "codemirror_mode": {
    "name": "ipython",
    "version": 3
   },
   "file_extension": ".py",
   "mimetype": "text/x-python",
   "name": "python",
   "nbconvert_exporter": "python",
   "pygments_lexer": "ipython3",
   "version": "3.13.0"
  }
 },
 "nbformat": 4,
 "nbformat_minor": 5
}

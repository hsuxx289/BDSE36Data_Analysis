{
 "cells": [
  {
   "cell_type": "code",
   "execution_count": 1,
   "id": "2f033f8b",
   "metadata": {},
   "outputs": [],
   "source": [
    "import pandas as pd\n",
    "import numpy as np"
   ]
  },
  {
   "cell_type": "markdown",
   "id": "04d7a78e",
   "metadata": {},
   "source": [
    "## 11.1 了解Python 和 Pandas 日期工具的區別"
   ]
  },
  {
   "cell_type": "code",
   "execution_count": 2,
   "id": "cecb9e33",
   "metadata": {},
   "outputs": [
    {
     "name": "stdout",
     "output_type": "stream",
     "text": [
      "date is 2022-06-07\n",
      "time is 12:30:19.463198\n",
      "datetime is 2022-06-07 12:30:19.463198\n"
     ]
    }
   ],
   "source": [
    "# 熟悉Python datetime\n",
    "import datetime\n",
    "date = datetime.date(year=2022, month=6, day=7)\n",
    "time = datetime.time(hour=12, minute=30, second=19, microsecond=463198)\n",
    "dt = datetime.datetime(year=2022, month=6, day=7,\n",
    "                       hour=12, minute=30, second=19, microsecond=463198)\n",
    "\n",
    "print(f'date is {date}')\n",
    "print(f'time is {time}')\n",
    "print(f'datetime is {dt}')"
   ]
  },
  {
   "cell_type": "code",
   "execution_count": null,
   "id": "75944bbe",
   "metadata": {},
   "outputs": [
    {
     "name": "stdout",
     "output_type": "stream",
     "text": [
      "19 days, 10:20:06.829008\n"
     ]
    }
   ],
   "source": [
    "# timedelta 物件\n",
    "td = datetime.timedelta(weeks=2, days=5, hours=10, minutes=20, seconds=6.73,\n",
    "                        milliseconds=99, microseconds=8)\n",
    "\n",
    "print(td)"
   ]
  },
  {
   "cell_type": "code",
   "execution_count": 4,
   "id": "5a38c156",
   "metadata": {},
   "outputs": [
    {
     "name": "stdout",
     "output_type": "stream",
     "text": [
      "new data is 2022-06-26\n",
      "new datatime is 2022-06-26 22:50:26.292206\n"
     ]
    }
   ],
   "source": [
    "# date 與 datetime 可以與 timedelta 進行運算\n",
    "print(f'new data is {date+td}')\n",
    "print(f'new datatime is {dt+td}')"
   ]
  },
  {
   "cell_type": "code",
   "execution_count": 5,
   "id": "6485a4f2",
   "metadata": {},
   "outputs": [
    {
     "name": "stdout",
     "output_type": "stream",
     "text": [
      "2021-12-21 05:10:08.000099\n",
      "2016-01-10 00:00:00\n",
      "2014-05-10 00:00:00\n",
      "2019-01-03 20:45:33\n",
      "2016-01-05 05:34:43.123456789\n"
     ]
    }
   ],
   "source": [
    "# pd.Timestamp\n",
    "print(pd.Timestamp(year=2021, month=12, day=21, hour=5, minute=10, second=8,\n",
    "             microsecond=99))\n",
    "print(pd.Timestamp('2016/1/10'))\n",
    "print(pd.Timestamp('2014-5/10'))\n",
    "print(pd.Timestamp('Jan 3, 2019 20:45.56'))\n",
    "print(pd.Timestamp('2016-01-05T05:34:43.123456789'))\n"
   ]
  },
  {
   "cell_type": "code",
   "execution_count": null,
   "id": "ca0b3087",
   "metadata": {},
   "outputs": [
    {
     "name": "stdout",
     "output_type": "stream",
     "text": [
      "1970-01-01 00:00:00.000000500\n",
      "1971-05-16 00:00:00\n"
     ]
    }
   ],
   "source": [
    "# 傳入數值 預設單位是毫微秒\n",
    "print(pd.Timestamp(500))\n",
    "\n",
    "# 指定單位為日\n",
    "print(pd.Timestamp(500, unit='D'))"
   ]
  },
  {
   "cell_type": "code",
   "execution_count": 7,
   "id": "edc36c92",
   "metadata": {},
   "outputs": [
    {
     "name": "stdout",
     "output_type": "stream",
     "text": [
      "2015-05-13 00:00:00\n",
      "2015-05-13 00:00:00\n",
      "2017-09-30 13:20:00\n"
     ]
    }
   ],
   "source": [
    "# to_datetime()\n",
    "print(pd.to_datetime('2015-5-13'))\n",
    "print(pd.to_datetime('2015-13-5', dayfirst=True))\n",
    "\n",
    "# 還可以使用格式指令 讓pandas 理解自訂的日期時間格式\n",
    "print(pd.to_datetime('Start Date: Sep 30, 2017 Start Time: 1:20 pm',\n",
    "                      format='Start Date: %b %d, %Y Start Time: %I:%M %p'))\n"
   ]
  },
  {
   "cell_type": "code",
   "execution_count": 9,
   "id": "4b30bf55",
   "metadata": {},
   "outputs": [
    {
     "name": "stdout",
     "output_type": "stream",
     "text": [
      "2013-04-11 00:00:00\n"
     ]
    }
   ],
   "source": [
    "# 可以指定起始日期\n",
    "print(pd.to_datetime(100, unit='D', origin='2013-1-1'))"
   ]
  },
  {
   "cell_type": "code",
   "execution_count": 13,
   "id": "84cf1255",
   "metadata": {},
   "outputs": [
    {
     "name": "stdout",
     "output_type": "stream",
     "text": [
      "0   1970-01-11\n",
      "1   1970-04-11\n",
      "2   1972-09-27\n",
      "3   1997-05-19\n",
      "dtype: datetime64[ns]\n",
      "0   2015-05-12\n",
      "1   2013-01-14\n",
      "2   2017-12-20\n",
      "3          NaT\n",
      "dtype: datetime64[ns]\n",
      "DatetimeIndex(['1999-08-03 03:45:56', '2017-10-31 00:00:00'], dtype='datetime64[ns]', freq=None)\n"
     ]
    }
   ],
   "source": [
    "# 輸入Series\n",
    "s = pd.Series([10, 100, 1000, 10000])\n",
    "print(pd.to_datetime(s, unit='D'))\n",
    "s = pd.Series(['12-5-2015', '14-1-2013', '20-12-2017', '40/23/2017'])\n",
    "print(pd.to_datetime(s, dayfirst=True, errors='coerce'))\n",
    "\n",
    "print(pd.to_datetime(['Aug 3 1999 3:45:56', '31-10-2017'], format='mixed'))"
   ]
  },
  {
   "cell_type": "code",
   "execution_count": 15,
   "id": "d6c94fbd",
   "metadata": {},
   "outputs": [
    {
     "name": "stdout",
     "output_type": "stream",
     "text": [
      "12 days 05:03:01.234567890\n",
      "5 days 00:07:20.400000\n",
      "700 days 00:00:00\n",
      "2 days 19:15:45.454000\n",
      "0   0 days 00:00:10\n",
      "1   0 days 00:01:40\n",
      "dtype: timedelta64[ns]\n"
     ]
    }
   ],
   "source": [
    "# pd.Timedelta to_timedelta()\n",
    "print(pd.Timedelta('12 days 5 hours 3 minutes 1234567890 nanoseconds'))\n",
    "\n",
    "print(pd.Timedelta(days=5, minutes=7.34))\n",
    "\n",
    "print(pd.Timedelta(100, unit='W'))\n",
    "\n",
    "print(pd.to_timedelta('67:15:45.454'))\n",
    "\n",
    "s = pd.Series([10, 100])\n",
    "print(pd.to_timedelta(s, unit='s'))"
   ]
  },
  {
   "cell_type": "code",
   "execution_count": 16,
   "id": "8db81764",
   "metadata": {},
   "outputs": [
    {
     "name": "stdout",
     "output_type": "stream",
     "text": [
      "2022-01-25 10:06:00\n",
      "TimedeltaIndex(['0 days 03:00:10', '0 days 04:01:40'], dtype='timedelta64[ns]', freq=None)\n",
      "4.0\n"
     ]
    }
   ],
   "source": [
    "# timestamp 與 timedelta 運算\n",
    "print(pd.Timestamp('1/1/2022') + pd.Timedelta('12 days 5 hours 3 minutes') * 2)\n",
    "\n",
    "td1 = pd.to_timedelta([10, 100], unit='s')\n",
    "td2 = pd.to_timedelta(['3 hours', '4 hours'])\n",
    "print(td1 + td2)\n",
    "\n",
    "print(pd.Timedelta('12 days') / pd.Timedelta('3 days'))"
   ]
  },
  {
   "cell_type": "code",
   "execution_count": 17,
   "id": "9603dae8",
   "metadata": {},
   "outputs": [
    {
     "name": "stdout",
     "output_type": "stream",
     "text": [
      "2021-10-01 05:00:00\n",
      "2021 10 1 4 23 23\n",
      "4 274 31\n",
      "2021-10-01 04:23:23.900000\n",
      "5 days 05:52:00\n",
      "Components(days=5, hours=5, minutes=52, seconds=20, milliseconds=280, microseconds=0, nanoseconds=0)\n",
      "453140.28\n"
     ]
    }
   ],
   "source": [
    "# 檢視可用屬性與方法\n",
    "ts = pd.Timestamp('2021-10-1 4:23:23.9')\n",
    "# 進位至小時\n",
    "print(ts.ceil('h'))\n",
    "\n",
    "# 取得屬性資訊\n",
    "print(ts.year, ts.month, ts.day, ts.hour, ts.minute, ts.second)\n",
    "\n",
    "# 星期 一年中第幾天 所在月份的天數\n",
    "print(ts.dayofweek, ts.dayofyear, ts.daysinmonth)\n",
    "\n",
    "# 轉換為python datetime物件\n",
    "print(ts.to_pydatetime())\n",
    "\n",
    "# 建立Timedelta 物件 近似到分鐘\n",
    "td = pd.Timedelta(125.8723, unit='h')\n",
    "print(td.round('min'))\n",
    "\n",
    "# 檢視個別元素\n",
    "print(td.components)\n",
    "\n",
    "# 計算總秒數\n",
    "print(td.total_seconds())"
   ]
  },
  {
   "cell_type": "markdown",
   "id": "fa1e47f9",
   "metadata": {},
   "source": [
    "## 11.2 對時間序列切片"
   ]
  },
  {
   "cell_type": "code",
   "execution_count": 26,
   "id": "b17b0336",
   "metadata": {},
   "outputs": [
    {
     "name": "stdout",
     "output_type": "stream",
     "text": [
      "OFFENSE_TYPE_ID              category\n",
      "OFFENSE_CATEGORY_ID          category\n",
      "REPORTED_DATE          datetime64[ns]\n",
      "GEO_LON                       float64\n",
      "GEO_LAT                       float64\n",
      "NEIGHBORHOOD_ID              category\n",
      "IS_CRIME                        int64\n",
      "IS_TRAFFIC                      int64\n",
      "dtype: object\n"
     ]
    }
   ],
   "source": [
    "# 載入資料集\n",
    "crime = pd.read_hdf('../../data/crime.h5', 'crime')\n",
    "print(crime.dtypes)"
   ]
  },
  {
   "cell_type": "code",
   "execution_count": 27,
   "id": "73680783",
   "metadata": {},
   "outputs": [
    {
     "name": "stdout",
     "output_type": "stream",
     "text": [
      "                                  OFFENSE_TYPE_ID OFFENSE_CATEGORY_ID  \\\n",
      "REPORTED_DATE                                                           \n",
      "2014-06-29 02:01:00     traffic-accident-dui-duid    traffic-accident   \n",
      "2014-06-29 01:54:00    vehicular-eluding-no-chase    all-other-crimes   \n",
      "2014-06-29 02:00:00          disturbing-the-peace     public-disorder   \n",
      "2014-06-29 02:18:00                        curfew     public-disorder   \n",
      "2014-06-29 04:17:00            aggravated-assault  aggravated-assault   \n",
      "...                                           ...                 ...   \n",
      "2017-09-13 05:48:00    burglary-business-by-force            burglary   \n",
      "2017-09-12 20:37:00  weapon-unlawful-discharge-of    all-other-crimes   \n",
      "2017-09-12 16:32:00        traf-habitual-offender    all-other-crimes   \n",
      "2017-09-12 13:04:00       criminal-mischief-other     public-disorder   \n",
      "2017-09-12 09:30:00                   theft-other             larceny   \n",
      "\n",
      "                        GEO_LON    GEO_LAT            NEIGHBORHOOD_ID  \\\n",
      "REPORTED_DATE                                                           \n",
      "2014-06-29 02:01:00 -105.000149  39.745753                        cbd   \n",
      "2014-06-29 01:54:00 -104.884660  39.738702                east-colfax   \n",
      "2014-06-29 02:00:00 -105.020719  39.706674                athmar-park   \n",
      "2014-06-29 02:18:00 -105.001552  39.769505                  sunnyside   \n",
      "2014-06-29 04:17:00 -105.018557  39.679229  college-view-south-platte   \n",
      "...                         ...        ...                        ...   \n",
      "2017-09-13 05:48:00 -105.033840  39.762365              west-highland   \n",
      "2017-09-12 20:37:00 -105.040313  39.721264                barnum-west   \n",
      "2017-09-12 16:32:00 -104.847024  39.779596                  montbello   \n",
      "2017-09-12 13:04:00 -104.949183  39.756353                    skyland   \n",
      "2017-09-12 09:30:00 -104.985739  39.735045               capitol-hill   \n",
      "\n",
      "                     IS_CRIME  IS_TRAFFIC  \n",
      "REPORTED_DATE                              \n",
      "2014-06-29 02:01:00         0           1  \n",
      "2014-06-29 01:54:00         1           0  \n",
      "2014-06-29 02:00:00         1           0  \n",
      "2014-06-29 02:18:00         1           0  \n",
      "2014-06-29 04:17:00         1           0  \n",
      "...                       ...         ...  \n",
      "2017-09-13 05:48:00         1           0  \n",
      "2017-09-12 20:37:00         1           0  \n",
      "2017-09-12 16:32:00         1           0  \n",
      "2017-09-12 13:04:00         1           0  \n",
      "2017-09-12 09:30:00         1           0  \n",
      "\n",
      "[460911 rows x 7 columns]\n"
     ]
    }
   ],
   "source": [
    "# 將日期欄位設成索引\n",
    "crime = crime.set_index('REPORTED_DATE')\n",
    "print(crime)"
   ]
  },
  {
   "cell_type": "code",
   "execution_count": 28,
   "id": "b8b3edd0",
   "metadata": {},
   "outputs": [
    {
     "name": "stdout",
     "output_type": "stream",
     "text": [
      "                             OFFENSE_TYPE_ID           OFFENSE_CATEGORY_ID  \\\n",
      "REPORTED_DATE                                                                \n",
      "2016-05-12 23:51:00  criminal-mischief-other               public-disorder   \n",
      "2016-05-12 18:40:00        liquor-possession                  drug-alcohol   \n",
      "2016-05-12 22:26:00         traffic-accident              traffic-accident   \n",
      "2016-05-12 20:35:00            theft-bicycle                       larceny   \n",
      "2016-05-12 09:39:00   theft-of-motor-vehicle                    auto-theft   \n",
      "...                                      ...                           ...   \n",
      "2016-05-12 17:55:00       public-peace-other               public-disorder   \n",
      "2016-05-12 19:24:00        threats-to-injure               public-disorder   \n",
      "2016-05-12 22:28:00            sex-aslt-rape                sexual-assault   \n",
      "2016-05-12 15:59:00   menacing-felony-w-weap            aggravated-assault   \n",
      "2016-05-12 16:39:00               assault-dv  other-crimes-against-persons   \n",
      "\n",
      "                        GEO_LON    GEO_LAT      NEIGHBORHOOD_ID  IS_CRIME  \\\n",
      "REPORTED_DATE                                                               \n",
      "2016-05-12 23:51:00 -105.017241  39.705845          athmar-park         1   \n",
      "2016-05-12 18:40:00 -104.995692  39.747875                  cbd         1   \n",
      "2016-05-12 22:26:00 -104.880037  39.777037            stapleton         0   \n",
      "2016-05-12 20:35:00 -104.929350  39.763797  northeast-park-hill         1   \n",
      "2016-05-12 09:39:00 -104.941233  39.775510       elyria-swansea         1   \n",
      "...                         ...        ...                  ...       ...   \n",
      "2016-05-12 17:55:00 -105.027747  39.700029             westwood         1   \n",
      "2016-05-12 19:24:00 -104.947118  39.763777              clayton         1   \n",
      "2016-05-12 22:28:00         NaN        NaN    harvey-park-south         1   \n",
      "2016-05-12 15:59:00 -104.935172  39.723703              hilltop         1   \n",
      "2016-05-12 16:39:00 -104.974700  39.740555   north-capitol-hill         1   \n",
      "\n",
      "                     IS_TRAFFIC  \n",
      "REPORTED_DATE                    \n",
      "2016-05-12 23:51:00           0  \n",
      "2016-05-12 18:40:00           0  \n",
      "2016-05-12 22:26:00           1  \n",
      "2016-05-12 20:35:00           0  \n",
      "2016-05-12 09:39:00           0  \n",
      "...                         ...  \n",
      "2016-05-12 17:55:00           0  \n",
      "2016-05-12 19:24:00           0  \n",
      "2016-05-12 22:28:00           0  \n",
      "2016-05-12 15:59:00           0  \n",
      "2016-05-12 16:39:00           0  \n",
      "\n",
      "[243 rows x 7 columns]\n"
     ]
    }
   ],
   "source": [
    "# 只填入日期\n",
    "print(crime.loc['2016-05-12'])\n"
   ]
  },
  {
   "cell_type": "code",
   "execution_count": 29,
   "id": "e0cf40d4",
   "metadata": {},
   "outputs": [
    {
     "name": "stdout",
     "output_type": "stream",
     "text": [
      "(8012, 7)\n",
      "(91076, 7)\n"
     ]
    }
   ],
   "source": [
    "# 也可以指定到月 甚至是年\n",
    "print(crime.loc['2016-05'].shape)\n",
    "print(crime.loc['2016'].shape)"
   ]
  },
  {
   "cell_type": "code",
   "execution_count": 31,
   "id": "e5439bf8",
   "metadata": {},
   "outputs": [
    {
     "name": "stdout",
     "output_type": "stream",
     "text": [
      "(6907, 7)\n",
      "(4, 7)\n"
     ]
    }
   ],
   "source": [
    "# 還可以用月份名稱或字串 都可以自動轉換\n",
    "print(crime.loc['Dec 2015'].shape)\n",
    "print(crime.loc['21st October 2014 05'].shape)"
   ]
  },
  {
   "cell_type": "code",
   "execution_count": 32,
   "id": "53fb0a31",
   "metadata": {},
   "outputs": [
    {
     "name": "stdout",
     "output_type": "stream",
     "text": [
      "                                  OFFENSE_TYPE_ID OFFENSE_CATEGORY_ID  \\\n",
      "REPORTED_DATE                                                           \n",
      "2015-03-04 22:25:00  traffic-accident-hit-and-run    traffic-accident   \n",
      "2015-03-04 22:30:00              traffic-accident    traffic-accident   \n",
      "2015-03-04 22:32:00  traffic-accident-hit-and-run    traffic-accident   \n",
      "2015-03-04 22:33:00  traffic-accident-hit-and-run    traffic-accident   \n",
      "2015-03-04 22:36:00       theft-unauth-use-of-ftd  white-collar-crime   \n",
      "...                                           ...                 ...   \n",
      "2016-01-01 11:10:00        theft-of-motor-vehicle          auto-theft   \n",
      "2016-01-01 11:11:00              traffic-accident    traffic-accident   \n",
      "2016-01-01 11:11:00  traffic-accident-hit-and-run    traffic-accident   \n",
      "2016-01-01 11:16:00                    traf-other    all-other-crimes   \n",
      "2016-01-01 11:22:00              traffic-accident    traffic-accident   \n",
      "\n",
      "                        GEO_LON    GEO_LAT       NEIGHBORHOOD_ID  IS_CRIME  \\\n",
      "REPORTED_DATE                                                                \n",
      "2015-03-04 22:25:00 -104.973896  39.769064           five-points         0   \n",
      "2015-03-04 22:30:00 -104.906412  39.632816         hampden-south         0   \n",
      "2015-03-04 22:32:00 -104.979180  39.706613  washington-park-west         0   \n",
      "2015-03-04 22:33:00 -104.991655  39.740067          civic-center         0   \n",
      "2015-03-04 22:36:00 -105.045235  39.667928           harvey-park         1   \n",
      "...                         ...        ...                   ...       ...   \n",
      "2016-01-01 11:10:00 -104.819450  39.791615             montbello         1   \n",
      "2016-01-01 11:11:00 -104.981701  39.736814          capitol-hill         0   \n",
      "2016-01-01 11:11:00 -104.973731  39.714223                 speer         0   \n",
      "2016-01-01 11:16:00 -104.977509  39.783541            globeville         1   \n",
      "2016-01-01 11:22:00 -105.053250  39.731282            villa-park         0   \n",
      "\n",
      "                     IS_TRAFFIC  \n",
      "REPORTED_DATE                    \n",
      "2015-03-04 22:25:00           1  \n",
      "2015-03-04 22:30:00           1  \n",
      "2015-03-04 22:32:00           1  \n",
      "2015-03-04 22:33:00           1  \n",
      "2015-03-04 22:36:00           0  \n",
      "...                         ...  \n",
      "2016-01-01 11:10:00           0  \n",
      "2016-01-01 11:11:00           1  \n",
      "2016-01-01 11:11:00           1  \n",
      "2016-01-01 11:16:00           0  \n",
      "2016-01-01 11:22:00           1  \n",
      "\n",
      "[75071 rows x 7 columns]\n"
     ]
    }
   ],
   "source": [
    "# 時間索引切片\n",
    "crime = crime.sort_index()\n",
    "\n",
    "print(crime.loc['2015-3-4 22':'2016-1-1 11:22:00'])"
   ]
  },
  {
   "cell_type": "markdown",
   "id": "ae34443b",
   "metadata": {},
   "source": [
    "## 11.3 過濾包含時間資料的欄位"
   ]
  },
  {
   "cell_type": "code",
   "execution_count": 3,
   "id": "e7f073f9",
   "metadata": {},
   "outputs": [
    {
     "name": "stdout",
     "output_type": "stream",
     "text": [
      "OFFENSE_TYPE_ID              category\n",
      "OFFENSE_CATEGORY_ID          category\n",
      "REPORTED_DATE          datetime64[ns]\n",
      "GEO_LON                       float64\n",
      "GEO_LAT                       float64\n",
      "NEIGHBORHOOD_ID              category\n",
      "IS_CRIME                        int64\n",
      "IS_TRAFFIC                      int64\n",
      "dtype: object\n"
     ]
    }
   ],
   "source": [
    "# 載入資料集\n",
    "crime = pd.read_hdf('../../data/crime.h5', 'crime')\n",
    "print(crime.dtypes)"
   ]
  },
  {
   "cell_type": "code",
   "execution_count": 5,
   "id": "a81f01c6",
   "metadata": {},
   "outputs": [
    {
     "name": "stdout",
     "output_type": "stream",
     "text": [
      "Empty DataFrame\n",
      "Columns: [OFFENSE_TYPE_ID, OFFENSE_CATEGORY_ID, REPORTED_DATE, GEO_LON, GEO_LAT, NEIGHBORHOOD_ID, IS_CRIME, IS_TRAFFIC]\n",
      "Index: []\n"
     ]
    }
   ],
   "source": [
    "# 用== 無法用日期搜尋\n",
    "print(crime[crime.REPORTED_DATE == '2016-05-12'])"
   ]
  },
  {
   "cell_type": "code",
   "execution_count": 4,
   "id": "97bbe441",
   "metadata": {},
   "outputs": [
    {
     "name": "stdout",
     "output_type": "stream",
     "text": [
      "                OFFENSE_TYPE_ID           OFFENSE_CATEGORY_ID  \\\n",
      "295715  criminal-mischief-other               public-disorder   \n",
      "296474        liquor-possession                  drug-alcohol   \n",
      "297204         traffic-accident              traffic-accident   \n",
      "299383            theft-bicycle                       larceny   \n",
      "299389   theft-of-motor-vehicle                    auto-theft   \n",
      "...                         ...                           ...   \n",
      "358208       public-peace-other               public-disorder   \n",
      "358448        threats-to-injure               public-disorder   \n",
      "363134            sex-aslt-rape                sexual-assault   \n",
      "365959   menacing-felony-w-weap            aggravated-assault   \n",
      "378711               assault-dv  other-crimes-against-persons   \n",
      "\n",
      "             REPORTED_DATE     GEO_LON    GEO_LAT      NEIGHBORHOOD_ID  \\\n",
      "295715 2016-05-12 23:51:00 -105.017241  39.705845          athmar-park   \n",
      "296474 2016-05-12 18:40:00 -104.995692  39.747875                  cbd   \n",
      "297204 2016-05-12 22:26:00 -104.880037  39.777037            stapleton   \n",
      "299383 2016-05-12 20:35:00 -104.929350  39.763797  northeast-park-hill   \n",
      "299389 2016-05-12 09:39:00 -104.941233  39.775510       elyria-swansea   \n",
      "...                    ...         ...        ...                  ...   \n",
      "358208 2016-05-12 17:55:00 -105.027747  39.700029             westwood   \n",
      "358448 2016-05-12 19:24:00 -104.947118  39.763777              clayton   \n",
      "363134 2016-05-12 22:28:00         NaN        NaN    harvey-park-south   \n",
      "365959 2016-05-12 15:59:00 -104.935172  39.723703              hilltop   \n",
      "378711 2016-05-12 16:39:00 -104.974700  39.740555   north-capitol-hill   \n",
      "\n",
      "        IS_CRIME  IS_TRAFFIC  \n",
      "295715         1           0  \n",
      "296474         1           0  \n",
      "297204         0           1  \n",
      "299383         1           0  \n",
      "299389         1           0  \n",
      "...          ...         ...  \n",
      "358208         1           0  \n",
      "358448         1           0  \n",
      "363134         1           0  \n",
      "365959         1           0  \n",
      "378711         1           0  \n",
      "\n",
      "[243 rows x 8 columns]\n"
     ]
    }
   ],
   "source": [
    "# 使用between 選取\n",
    "print(crime[crime.REPORTED_DATE.between(left='2016-05-12', right='2016-05-13')])"
   ]
  },
  {
   "cell_type": "code",
   "execution_count": 6,
   "id": "25c24fe7",
   "metadata": {},
   "outputs": [
    {
     "name": "stdout",
     "output_type": "stream",
     "text": [
      "(8012, 8)\n",
      "(89148, 8)\n"
     ]
    }
   ],
   "source": [
    "# 用between 切片\n",
    "print(crime[crime.REPORTED_DATE.between('2016-05', '2016-06')].shape)\n",
    "\n",
    "print(crime[crime.REPORTED_DATE.between('2015', '2016')].shape)"
   ]
  },
  {
   "cell_type": "markdown",
   "id": "415a266c",
   "metadata": {},
   "source": [
    "## 11.4 僅適用於DatetimeIndex 的方法"
   ]
  },
  {
   "cell_type": "code",
   "execution_count": 2,
   "id": "2f87bbc7",
   "metadata": {},
   "outputs": [
    {
     "data": {
      "text/plain": [
       "pandas.core.indexes.datetimes.DatetimeIndex"
      ]
     },
     "execution_count": 2,
     "metadata": {},
     "output_type": "execute_result"
    }
   ],
   "source": [
    "# 載入資料集\n",
    "crime = pd.read_hdf('../../data/crime.h5', 'crime').set_index('REPORTED_DATE')\n",
    "type(crime.index)"
   ]
  },
  {
   "cell_type": "code",
   "execution_count": 6,
   "id": "962c07b8",
   "metadata": {},
   "outputs": [
    {
     "name": "stdout",
     "output_type": "stream",
     "text": [
      "                                    OFFENSE_TYPE_ID  \\\n",
      "REPORTED_DATE                                         \n",
      "2014-06-29 02:01:00       traffic-accident-dui-duid   \n",
      "2014-06-29 02:00:00            disturbing-the-peace   \n",
      "2014-06-29 02:18:00                          curfew   \n",
      "2014-06-29 04:17:00              aggravated-assault   \n",
      "2014-06-29 04:22:00  violation-of-restraining-order   \n",
      "...                                             ...   \n",
      "2017-08-25 04:41:00        theft-items-from-vehicle   \n",
      "2017-09-13 04:17:00          theft-of-motor-vehicle   \n",
      "2017-09-13 02:21:00                  assault-simple   \n",
      "2017-09-13 03:21:00       traffic-accident-dui-duid   \n",
      "2017-09-13 02:15:00    traffic-accident-hit-and-run   \n",
      "\n",
      "                              OFFENSE_CATEGORY_ID     GEO_LON    GEO_LAT  \\\n",
      "REPORTED_DATE                                                              \n",
      "2014-06-29 02:01:00              traffic-accident -105.000149  39.745753   \n",
      "2014-06-29 02:00:00               public-disorder -105.020719  39.706674   \n",
      "2014-06-29 02:18:00               public-disorder -105.001552  39.769505   \n",
      "2014-06-29 04:17:00            aggravated-assault -105.018557  39.679229   \n",
      "2014-06-29 04:22:00              all-other-crimes -104.972447  39.739449   \n",
      "...                                           ...         ...        ...   \n",
      "2017-08-25 04:41:00      theft-from-motor-vehicle -104.880586  39.645164   \n",
      "2017-09-13 04:17:00                    auto-theft -105.028694  39.708288   \n",
      "2017-09-13 02:21:00  other-crimes-against-persons -104.925733  39.654184   \n",
      "2017-09-13 03:21:00              traffic-accident -105.010711  39.757385   \n",
      "2017-09-13 02:15:00              traffic-accident -105.043950  39.787436   \n",
      "\n",
      "                               NEIGHBORHOOD_ID  IS_CRIME  IS_TRAFFIC  \n",
      "REPORTED_DATE                                                         \n",
      "2014-06-29 02:01:00                        cbd         0           1  \n",
      "2014-06-29 02:00:00                athmar-park         1           0  \n",
      "2014-06-29 02:18:00                  sunnyside         1           0  \n",
      "2014-06-29 04:17:00  college-view-south-platte         1           0  \n",
      "2014-06-29 04:22:00              cheesman-park         1           0  \n",
      "...                                        ...       ...         ...  \n",
      "2017-08-25 04:41:00              hampden-south         1           0  \n",
      "2017-09-13 04:17:00                   westwood         1           0  \n",
      "2017-09-13 02:21:00           university-hills         1           0  \n",
      "2017-09-13 03:21:00                   highland         0           1  \n",
      "2017-09-13 02:15:00                      regis         0           1  \n",
      "\n",
      "[29229 rows x 7 columns]\n"
     ]
    }
   ],
   "source": [
    "# 選取2-5 A.M.\n",
    "print(crime.between_time('2:00', '5:00'))"
   ]
  },
  {
   "cell_type": "code",
   "execution_count": 7,
   "id": "75e9aaba",
   "metadata": {},
   "outputs": [
    {
     "name": "stdout",
     "output_type": "stream",
     "text": [
      "                                  OFFENSE_TYPE_ID       OFFENSE_CATEGORY_ID  \\\n",
      "REPORTED_DATE                                                                 \n",
      "2013-11-26 05:47:00       criminal-mischief-other           public-disorder   \n",
      "2017-04-09 05:47:00     criminal-mischief-mtr-veh           public-disorder   \n",
      "2017-02-19 05:47:00       criminal-mischief-other           public-disorder   \n",
      "2017-02-16 05:47:00            aggravated-assault        aggravated-assault   \n",
      "2017-02-12 05:47:00           police-interference          all-other-crimes   \n",
      "...                                           ...                       ...   \n",
      "2013-09-10 05:47:00              traffic-accident          traffic-accident   \n",
      "2013-03-14 05:47:00                   theft-other                   larceny   \n",
      "2012-10-08 05:47:00      theft-items-from-vehicle  theft-from-motor-vehicle   \n",
      "2013-08-21 05:47:00      theft-items-from-vehicle  theft-from-motor-vehicle   \n",
      "2017-08-23 05:47:00  traffic-accident-hit-and-run          traffic-accident   \n",
      "\n",
      "                        GEO_LON    GEO_LAT           NEIGHBORHOOD_ID  \\\n",
      "REPORTED_DATE                                                          \n",
      "2013-11-26 05:47:00 -104.991476  39.751536                       cbd   \n",
      "2017-04-09 05:47:00 -104.959394  39.678425                university   \n",
      "2017-02-19 05:47:00 -104.986767  39.741336        north-capitol-hill   \n",
      "2017-02-16 05:47:00 -104.934029  39.732320                      hale   \n",
      "2017-02-12 05:47:00 -104.976306  39.722644                     speer   \n",
      "...                         ...        ...                       ...   \n",
      "2013-09-10 05:47:00 -104.986311  39.708426      washington-park-west   \n",
      "2013-03-14 05:47:00 -105.047861  39.727237                villa-park   \n",
      "2012-10-08 05:47:00 -105.037308  39.768336             west-highland   \n",
      "2013-08-21 05:47:00 -105.021310  39.758076            jefferson-park   \n",
      "2017-08-23 05:47:00 -104.931056  39.702503  washington-virginia-vale   \n",
      "\n",
      "                     IS_CRIME  IS_TRAFFIC  \n",
      "REPORTED_DATE                              \n",
      "2013-11-26 05:47:00         1           0  \n",
      "2017-04-09 05:47:00         1           0  \n",
      "2017-02-19 05:47:00         1           0  \n",
      "2017-02-16 05:47:00         1           0  \n",
      "2017-02-12 05:47:00         1           0  \n",
      "...                       ...         ...  \n",
      "2013-09-10 05:47:00         0           1  \n",
      "2013-03-14 05:47:00         1           0  \n",
      "2012-10-08 05:47:00         1           0  \n",
      "2013-08-21 05:47:00         1           0  \n",
      "2017-08-23 05:47:00         0           1  \n",
      "\n",
      "[118 rows x 7 columns]\n"
     ]
    }
   ],
   "source": [
    "# 選取特定時間點\n",
    "print(crime.at_time('5:47'))"
   ]
  },
  {
   "cell_type": "code",
   "execution_count": 9,
   "id": "03883bfe",
   "metadata": {},
   "outputs": [
    {
     "name": "stdout",
     "output_type": "stream",
     "text": [
      "                                    OFFENSE_TYPE_ID OFFENSE_CATEGORY_ID  \\\n",
      "REPORTED_DATE                                                             \n",
      "2012-01-02 00:06:00              aggravated-assault  aggravated-assault   \n",
      "2012-01-02 00:06:00  violation-of-restraining-order    all-other-crimes   \n",
      "2012-01-02 00:16:00       traffic-accident-dui-duid    traffic-accident   \n",
      "2012-01-02 00:47:00                traffic-accident    traffic-accident   \n",
      "2012-01-02 01:35:00              aggravated-assault  aggravated-assault   \n",
      "...                                             ...                 ...   \n",
      "2012-06-30 23:40:00       traffic-accident-dui-duid    traffic-accident   \n",
      "2012-06-30 23:44:00                traffic-accident    traffic-accident   \n",
      "2012-06-30 23:50:00       criminal-mischief-mtr-veh     public-disorder   \n",
      "2012-06-30 23:54:00    traffic-accident-hit-and-run    traffic-accident   \n",
      "2012-07-01 00:01:00                  robbery-street             robbery   \n",
      "\n",
      "                        GEO_LON    GEO_LAT      NEIGHBORHOOD_ID  IS_CRIME  \\\n",
      "REPORTED_DATE                                                               \n",
      "2012-01-02 00:06:00 -104.816860  39.796717            montbello         1   \n",
      "2012-01-02 00:06:00 -104.816860  39.796717            montbello         1   \n",
      "2012-01-02 00:16:00 -104.971851  39.736874        cheesman-park         0   \n",
      "2012-01-02 00:47:00 -104.951824  39.740168        congress-park         0   \n",
      "2012-01-02 01:35:00 -104.998131  39.749922        union-station         1   \n",
      "...                         ...        ...                  ...       ...   \n",
      "2012-06-30 23:40:00 -104.922266  39.678471            goldsmith         0   \n",
      "2012-06-30 23:44:00 -104.987578  39.711158                baker         0   \n",
      "2012-06-30 23:50:00 -104.838271  39.788683            montbello         1   \n",
      "2012-06-30 23:54:00 -105.014162  39.740439         lincoln-park         0   \n",
      "2012-07-01 00:01:00 -104.924292  39.767585  northeast-park-hill         1   \n",
      "\n",
      "                     IS_TRAFFIC  \n",
      "REPORTED_DATE                    \n",
      "2012-01-02 00:06:00           0  \n",
      "2012-01-02 00:06:00           0  \n",
      "2012-01-02 00:16:00           1  \n",
      "2012-01-02 00:47:00           1  \n",
      "2012-01-02 01:35:00           0  \n",
      "...                         ...  \n",
      "2012-06-30 23:40:00           1  \n",
      "2012-06-30 23:44:00           1  \n",
      "2012-06-30 23:50:00           0  \n",
      "2012-06-30 23:54:00           1  \n",
      "2012-07-01 00:01:00           0  \n",
      "\n",
      "[27489 rows x 7 columns]\n"
     ]
    },
    {
     "name": "stderr",
     "output_type": "stream",
     "text": [
      "C:\\Users\\coffi\\AppData\\Local\\Temp\\ipykernel_2852\\2534242546.py:3: FutureWarning: first is deprecated and will be removed in a future version. Please create a mask and filter using `.loc` instead\n",
      "  print(crime_sort.first(offset=pd.offsets.MonthBegin(6)))\n"
     ]
    }
   ],
   "source": [
    "# 選取前6個月的資料\n",
    "crime_sort = crime.sort_index()\n",
    "print(crime_sort.first(offset=pd.offsets.MonthBegin(6)))"
   ]
  },
  {
   "cell_type": "code",
   "execution_count": 10,
   "id": "8235e3d0",
   "metadata": {},
   "outputs": [
    {
     "name": "stdout",
     "output_type": "stream",
     "text": [
      "                                    OFFENSE_TYPE_ID  \\\n",
      "REPORTED_DATE                                         \n",
      "2012-01-02 00:06:00              aggravated-assault   \n",
      "2012-01-02 00:06:00  violation-of-restraining-order   \n",
      "2012-01-02 00:16:00       traffic-accident-dui-duid   \n",
      "2012-01-02 00:47:00                traffic-accident   \n",
      "2012-01-02 01:35:00              aggravated-assault   \n",
      "...                                             ...   \n",
      "2012-06-29 23:01:00              aggravated-assault   \n",
      "2012-06-29 23:11:00                traffic-accident   \n",
      "2012-06-29 23:41:00                  robbery-street   \n",
      "2012-06-29 23:57:00                  assault-simple   \n",
      "2012-06-30 00:04:00                traffic-accident   \n",
      "\n",
      "                              OFFENSE_CATEGORY_ID     GEO_LON    GEO_LAT  \\\n",
      "REPORTED_DATE                                                              \n",
      "2012-01-02 00:06:00            aggravated-assault -104.816860  39.796717   \n",
      "2012-01-02 00:06:00              all-other-crimes -104.816860  39.796717   \n",
      "2012-01-02 00:16:00              traffic-accident -104.971851  39.736874   \n",
      "2012-01-02 00:47:00              traffic-accident -104.951824  39.740168   \n",
      "2012-01-02 01:35:00            aggravated-assault -104.998131  39.749922   \n",
      "...                                           ...         ...        ...   \n",
      "2012-06-29 23:01:00            aggravated-assault -105.019673  39.733250   \n",
      "2012-06-29 23:11:00              traffic-accident -104.918451  39.653080   \n",
      "2012-06-29 23:41:00                       robbery -104.991912  39.756163   \n",
      "2012-06-29 23:57:00  other-crimes-against-persons -104.987360  39.715162   \n",
      "2012-06-30 00:04:00              traffic-accident -104.894697  39.628902   \n",
      "\n",
      "                    NEIGHBORHOOD_ID  IS_CRIME  IS_TRAFFIC  \n",
      "REPORTED_DATE                                              \n",
      "2012-01-02 00:06:00       montbello         1           0  \n",
      "2012-01-02 00:06:00       montbello         1           0  \n",
      "2012-01-02 00:16:00   cheesman-park         0           1  \n",
      "2012-01-02 00:47:00   congress-park         0           1  \n",
      "2012-01-02 01:35:00   union-station         1           0  \n",
      "...                             ...       ...         ...  \n",
      "2012-06-29 23:01:00      sun-valley         1           0  \n",
      "2012-06-29 23:11:00  southmoor-park         0           1  \n",
      "2012-06-29 23:41:00     five-points         1           0  \n",
      "2012-06-29 23:57:00           speer         1           0  \n",
      "2012-06-30 00:04:00   hampden-south         0           1  \n",
      "\n",
      "[27332 rows x 7 columns]\n"
     ]
    },
    {
     "name": "stderr",
     "output_type": "stream",
     "text": [
      "C:\\Users\\coffi\\AppData\\Local\\Temp\\ipykernel_2852\\2263777660.py:2: FutureWarning: first is deprecated and will be removed in a future version. Please create a mask and filter using `.loc` instead\n",
      "  print(crime_sort.first(offset=pd.offsets.MonthEnd(6)))\n"
     ]
    }
   ],
   "source": [
    "# 改用MonthEnd\n",
    "print(crime_sort.first(offset=pd.offsets.MonthEnd(6)))"
   ]
  },
  {
   "cell_type": "code",
   "execution_count": null,
   "id": "fede8667",
   "metadata": {},
   "outputs": [
    {
     "name": "stdout",
     "output_type": "stream",
     "text": [
      "                                    OFFENSE_TYPE_ID OFFENSE_CATEGORY_ID  \\\n",
      "REPORTED_DATE                                                             \n",
      "2012-01-02 00:06:00              aggravated-assault  aggravated-assault   \n",
      "2012-01-02 00:06:00  violation-of-restraining-order    all-other-crimes   \n",
      "2012-01-02 00:16:00       traffic-accident-dui-duid    traffic-accident   \n",
      "2012-01-02 00:47:00                traffic-accident    traffic-accident   \n",
      "2012-01-02 01:35:00              aggravated-assault  aggravated-assault   \n",
      "...                                             ...                 ...   \n",
      "2012-06-30 23:40:00    traffic-accident-hit-and-run    traffic-accident   \n",
      "2012-06-30 23:40:00       traffic-accident-dui-duid    traffic-accident   \n",
      "2012-06-30 23:44:00                traffic-accident    traffic-accident   \n",
      "2012-06-30 23:50:00       criminal-mischief-mtr-veh     public-disorder   \n",
      "2012-06-30 23:54:00    traffic-accident-hit-and-run    traffic-accident   \n",
      "\n",
      "                        GEO_LON    GEO_LAT NEIGHBORHOOD_ID  IS_CRIME  \\\n",
      "REPORTED_DATE                                                          \n",
      "2012-01-02 00:06:00 -104.816860  39.796717       montbello         1   \n",
      "2012-01-02 00:06:00 -104.816860  39.796717       montbello         1   \n",
      "2012-01-02 00:16:00 -104.971851  39.736874   cheesman-park         0   \n",
      "2012-01-02 00:47:00 -104.951824  39.740168   congress-park         0   \n",
      "2012-01-02 01:35:00 -104.998131  39.749922   union-station         1   \n",
      "...                         ...        ...             ...       ...   \n",
      "2012-06-30 23:40:00 -104.922266  39.678471       goldsmith         0   \n",
      "2012-06-30 23:40:00 -104.922266  39.678471       goldsmith         0   \n",
      "2012-06-30 23:44:00 -104.987578  39.711158           baker         0   \n",
      "2012-06-30 23:50:00 -104.838271  39.788683       montbello         1   \n",
      "2012-06-30 23:54:00 -105.014162  39.740439    lincoln-park         0   \n",
      "\n",
      "                     IS_TRAFFIC  \n",
      "REPORTED_DATE                    \n",
      "2012-01-02 00:06:00           0  \n",
      "2012-01-02 00:06:00           0  \n",
      "2012-01-02 00:16:00           1  \n",
      "2012-01-02 00:47:00           1  \n",
      "2012-01-02 01:35:00           0  \n",
      "...                         ...  \n",
      "2012-06-30 23:40:00           1  \n",
      "2012-06-30 23:40:00           1  \n",
      "2012-06-30 23:44:00           1  \n",
      "2012-06-30 23:50:00           0  \n",
      "2012-06-30 23:54:00           1  \n",
      "\n",
      "[27488 rows x 7 columns]\n"
     ]
    },
    {
     "name": "stderr",
     "output_type": "stream",
     "text": [
      "C:\\Users\\coffi\\AppData\\Local\\Temp\\ipykernel_2852\\2541294236.py:2: FutureWarning: first is deprecated and will be removed in a future version. Please create a mask and filter using `.loc` instead\n",
      "  print(crime_sort.first(offset=pd.offsets.MonthBegin(6, normalize=True)))\n"
     ]
    }
   ],
   "source": [
    "# 使用normalize 參數\n",
    "print(crime_sort.first(offset=pd.offsets.MonthBegin(6, normalize=True)))"
   ]
  },
  {
   "cell_type": "code",
   "execution_count": 12,
   "id": "58b0434b",
   "metadata": {},
   "outputs": [
    {
     "name": "stdout",
     "output_type": "stream",
     "text": [
      "                                    OFFENSE_TYPE_ID OFFENSE_CATEGORY_ID  \\\n",
      "REPORTED_DATE                                                             \n",
      "2012-01-02 00:06:00              aggravated-assault  aggravated-assault   \n",
      "2012-01-02 00:06:00  violation-of-restraining-order    all-other-crimes   \n",
      "2012-01-02 00:16:00       traffic-accident-dui-duid    traffic-accident   \n",
      "2012-01-02 00:47:00                traffic-accident    traffic-accident   \n",
      "2012-01-02 01:35:00              aggravated-assault  aggravated-assault   \n",
      "...                                             ...                 ...   \n",
      "2012-06-30 23:40:00    traffic-accident-hit-and-run    traffic-accident   \n",
      "2012-06-30 23:40:00       traffic-accident-dui-duid    traffic-accident   \n",
      "2012-06-30 23:44:00                traffic-accident    traffic-accident   \n",
      "2012-06-30 23:50:00       criminal-mischief-mtr-veh     public-disorder   \n",
      "2012-06-30 23:54:00    traffic-accident-hit-and-run    traffic-accident   \n",
      "\n",
      "                        GEO_LON    GEO_LAT NEIGHBORHOOD_ID  IS_CRIME  \\\n",
      "REPORTED_DATE                                                          \n",
      "2012-01-02 00:06:00 -104.816860  39.796717       montbello         1   \n",
      "2012-01-02 00:06:00 -104.816860  39.796717       montbello         1   \n",
      "2012-01-02 00:16:00 -104.971851  39.736874   cheesman-park         0   \n",
      "2012-01-02 00:47:00 -104.951824  39.740168   congress-park         0   \n",
      "2012-01-02 01:35:00 -104.998131  39.749922   union-station         1   \n",
      "...                         ...        ...             ...       ...   \n",
      "2012-06-30 23:40:00 -104.922266  39.678471       goldsmith         0   \n",
      "2012-06-30 23:40:00 -104.922266  39.678471       goldsmith         0   \n",
      "2012-06-30 23:44:00 -104.987578  39.711158           baker         0   \n",
      "2012-06-30 23:50:00 -104.838271  39.788683       montbello         1   \n",
      "2012-06-30 23:54:00 -105.014162  39.740439    lincoln-park         0   \n",
      "\n",
      "                     IS_TRAFFIC  \n",
      "REPORTED_DATE                    \n",
      "2012-01-02 00:06:00           0  \n",
      "2012-01-02 00:06:00           0  \n",
      "2012-01-02 00:16:00           1  \n",
      "2012-01-02 00:47:00           1  \n",
      "2012-01-02 01:35:00           0  \n",
      "...                         ...  \n",
      "2012-06-30 23:40:00           1  \n",
      "2012-06-30 23:40:00           1  \n",
      "2012-06-30 23:44:00           1  \n",
      "2012-06-30 23:50:00           0  \n",
      "2012-06-30 23:54:00           1  \n",
      "\n",
      "[27488 rows x 7 columns]\n"
     ]
    }
   ],
   "source": [
    "# 用loc\n",
    "print(crime_sort.loc[:'2012-06'])"
   ]
  },
  {
   "cell_type": "code",
   "execution_count": 14,
   "id": "bb311103",
   "metadata": {},
   "outputs": [
    {
     "data": {
      "text/plain": [
       "Timestamp('2012-02-16 13:30:00')"
      ]
     },
     "execution_count": 14,
     "metadata": {},
     "output_type": "execute_result"
    }
   ],
   "source": [
    "# 自訂偏移量\n",
    "dt = pd.Timestamp('2012-1-16 13:30')\n",
    "dt + pd.DateOffset(months=1)"
   ]
  },
  {
   "cell_type": "markdown",
   "id": "5ff3677d",
   "metadata": {},
   "source": [
    "## 11.5 依據時間區段重新分組"
   ]
  },
  {
   "cell_type": "code",
   "execution_count": 16,
   "id": "012225f9",
   "metadata": {},
   "outputs": [],
   "source": [
    "# 載入資料集\n",
    "crime_sort = (pd.read_hdf('../../data/crime.h5', 'crime')\n",
    "                    .set_index('REPORTED_DATE')\n",
    "                    .sort_index()\n",
    ")"
   ]
  },
  {
   "cell_type": "code",
   "execution_count": 17,
   "id": "863a7d9f",
   "metadata": {},
   "outputs": [
    {
     "name": "stdout",
     "output_type": "stream",
     "text": [
      "DatetimeIndexResampler [freq=<Week: weekday=6>, axis=0, closed=right, label=right, convention=start, origin=start_day]\n"
     ]
    }
   ],
   "source": [
    "# 以周為單位分組\n",
    "print(crime_sort.resample('W'))"
   ]
  },
  {
   "cell_type": "code",
   "execution_count": 18,
   "id": "9b038b46",
   "metadata": {},
   "outputs": [
    {
     "name": "stdout",
     "output_type": "stream",
     "text": [
      "REPORTED_DATE\n",
      "2012-01-08     877\n",
      "2012-01-15    1071\n",
      "2012-01-22     991\n",
      "2012-01-29     988\n",
      "2012-02-05     888\n",
      "              ... \n",
      "2017-09-03    1956\n",
      "2017-09-10    1733\n",
      "2017-09-17    1976\n",
      "2017-09-24    1839\n",
      "2017-10-01    1059\n",
      "Freq: W-SUN, Length: 300, dtype: int64\n"
     ]
    }
   ],
   "source": [
    "# 每周案件量\n",
    "print(crime_sort.resample('W').size())"
   ]
  },
  {
   "cell_type": "code",
   "execution_count": 19,
   "id": "45cd34b3",
   "metadata": {},
   "outputs": [
    {
     "name": "stdout",
     "output_type": "stream",
     "text": [
      "REPORTED_DATE\n",
      "2012-01-05     462\n",
      "2012-01-12    1116\n",
      "2012-01-19     924\n",
      "2012-01-26    1061\n",
      "2012-02-02     926\n",
      "              ... \n",
      "2017-09-07    1803\n",
      "2017-09-14    1866\n",
      "2017-09-21    1926\n",
      "2017-09-28    1720\n",
      "2017-10-05      28\n",
      "Freq: W-THU, Length: 301, dtype: int64\n"
     ]
    }
   ],
   "source": [
    "# 改成以週四做為結束日\n",
    "print(crime_sort.resample('W-THU').size())"
   ]
  },
  {
   "cell_type": "code",
   "execution_count": 20,
   "id": "ae11732b",
   "metadata": {},
   "outputs": [
    {
     "name": "stdout",
     "output_type": "stream",
     "text": [
      "REPORTED_DATE\n",
      "2012-01-08     877\n",
      "2012-01-15    1071\n",
      "2012-01-22     991\n",
      "2012-01-29     988\n",
      "2012-02-05     888\n",
      "              ... \n",
      "2017-09-03    1956\n",
      "2017-09-10    1733\n",
      "2017-09-17    1976\n",
      "2017-09-24    1839\n",
      "2017-10-01    1059\n",
      "Freq: W-SUN, Length: 300, dtype: int64\n"
     ]
    }
   ],
   "source": [
    "# 用groupby 做出一樣的效果\n",
    "weekly_crimes = (crime_sort.groupby(pd.Grouper(freq='W')).size())\n",
    "print(weekly_crimes)"
   ]
  },
  {
   "cell_type": "code",
   "execution_count": null,
   "id": "169f447d",
   "metadata": {},
   "outputs": [
    {
     "data": {
      "text/plain": [
       "['agg',\n",
       " 'aggregate',\n",
       " 'apply',\n",
       " 'asfreq',\n",
       " 'ax',\n",
       " 'bfill',\n",
       " 'binner',\n",
       " 'count',\n",
       " 'ffill',\n",
       " 'fillna',\n",
       " 'first',\n",
       " 'get_group',\n",
       " 'groups',\n",
       " 'include_groups',\n",
       " 'indices',\n",
       " 'interpolate',\n",
       " 'kind',\n",
       " 'last',\n",
       " 'max',\n",
       " 'mean',\n",
       " 'median',\n",
       " 'min',\n",
       " 'ndim',\n",
       " 'nearest',\n",
       " 'ngroups',\n",
       " 'nunique',\n",
       " 'ohlc',\n",
       " 'pipe',\n",
       " 'prod',\n",
       " 'quantile',\n",
       " 'sem',\n",
       " 'size',\n",
       " 'std',\n",
       " 'sum',\n",
       " 'transform',\n",
       " 'var']"
      ]
     },
     "execution_count": 21,
     "metadata": {},
     "output_type": "execute_result"
    }
   ],
   "source": [
    "# resample() 的屬性與方法 (不顯示特殊方法)\n",
    "r = crime_sort.resample('W')\n",
    "[attr for attr in dir(r) if attr[0].islower()]"
   ]
  },
  {
   "cell_type": "code",
   "execution_count": 22,
   "id": "e324ddd2",
   "metadata": {},
   "outputs": [
    {
     "data": {
      "image/png": "[encoded data removed]",
      "text/plain": [
       "<Figure size 1600x400 with 1 Axes>"
      ]
     },
     "metadata": {},
     "output_type": "display_data"
    }
   ],
   "source": [
    "# 畫個折線圖\n",
    "import matplotlib.pyplot as plt\n",
    "fig, ax = plt.subplots(figsize=(16, 4))\n",
    "weekly_crimes.plot(title='All Denver Crimes', ax=ax);"
   ]
  },
  {
   "cell_type": "markdown",
   "id": "b4be1116",
   "metadata": {},
   "source": [
    "## 11.6 分組彙總同一時間單位的多個欄位"
   ]
  },
  {
   "cell_type": "code",
   "execution_count": 24,
   "id": "eddc296a",
   "metadata": {},
   "outputs": [],
   "source": [
    "# 載入資料集\n",
    "crime = (pd.read_hdf('../../data/crime.h5', 'crime')\n",
    "                    .set_index('REPORTED_DATE')\n",
    "                    .sort_index())"
   ]
  },
  {
   "cell_type": "code",
   "execution_count": 26,
   "id": "211925f0",
   "metadata": {},
   "outputs": [
    {
     "name": "stdout",
     "output_type": "stream",
     "text": [
      "               IS_CRIME  IS_TRAFFIC\n",
      "REPORTED_DATE                      \n",
      "2012-03-31         7882        4726\n",
      "2012-06-30         9641        5255\n",
      "2012-09-30        10566        5003\n",
      "2012-12-31         9197        4802\n",
      "2013-03-31         8730        4442\n",
      "2013-06-30        12259        4510\n",
      "2013-09-30        15799        4942\n",
      "2013-12-31        13910        4968\n",
      "2014-03-31        14487        5021\n",
      "2014-06-30        15833        5225\n",
      "2014-09-30        17342        5734\n",
      "2014-12-31        15028        5783\n",
      "2015-03-31        14989        5380\n",
      "2015-06-30        16924        5825\n",
      "2015-09-30        17891        5988\n",
      "2015-12-31        16090        6117\n",
      "2016-03-31        16423        5590\n",
      "2016-06-30        17547        5861\n",
      "2016-09-30        17427        6199\n",
      "2016-12-31        15984        6094\n",
      "2017-03-31        16426        5587\n",
      "2017-06-30        17486        6148\n",
      "2017-09-30        17990        6101\n"
     ]
    }
   ],
   "source": [
    "# 直接用resample 求出犯罪與交通事故季度總數\n",
    "print(crime\n",
    "        .resample('QE')\n",
    "        ['IS_CRIME', 'IS_TRAFFIC']\n",
    "        .sum())"
   ]
  },
  {
   "cell_type": "code",
   "execution_count": 28,
   "id": "369042cc",
   "metadata": {},
   "outputs": [
    {
     "name": "stdout",
     "output_type": "stream",
     "text": [
      "               IS_CRIME  IS_TRAFFIC\n",
      "REPORTED_DATE                      \n",
      "2012-01-01         7882        4726\n",
      "2012-04-01         9641        5255\n",
      "2012-07-01        10566        5003\n",
      "2012-10-01         9197        4802\n",
      "2013-01-01         8730        4442\n",
      "2013-04-01        12259        4510\n",
      "2013-07-01        15799        4942\n",
      "2013-10-01        13910        4968\n",
      "2014-01-01        14487        5021\n",
      "2014-04-01        15833        5225\n",
      "2014-07-01        17342        5734\n",
      "2014-10-01        15028        5783\n",
      "2015-01-01        14989        5380\n",
      "2015-04-01        16924        5825\n",
      "2015-07-01        17891        5988\n",
      "2015-10-01        16090        6117\n",
      "2016-01-01        16423        5590\n",
      "2016-04-01        17547        5861\n",
      "2016-07-01        17427        6199\n",
      "2016-10-01        15984        6094\n",
      "2017-01-01        16426        5587\n",
      "2017-04-01        17486        6148\n",
      "2017-07-01        17990        6101\n"
     ]
    }
   ],
   "source": [
    "# 索引改為起始日\n",
    "print(crime\n",
    "        .resample('QS')\n",
    "        ['IS_CRIME', 'IS_TRAFFIC']\n",
    "        .sum())"
   ]
  },
  {
   "cell_type": "code",
   "execution_count": 32,
   "id": "dfa4bc0e",
   "metadata": {},
   "outputs": [
    {
     "data": {
      "image/png": "[encoded data removed]",
      "text/plain": [
       "<Figure size 1600x400 with 1 Axes>"
      ]
     },
     "metadata": {},
     "output_type": "display_data"
    }
   ],
   "source": [
    "# 畫折線圖比較\n",
    "fig, ax = plt.subplots(figsize=(16, 4))\n",
    "(crime.groupby(pd.Grouper(freq='QE'))\n",
    "      [['IS_CRIME', 'IS_TRAFFIC']]\n",
    "      .sum()\n",
    "      .plot(color=['black', 'lightgrey'], ax=ax,\n",
    "            title='Denver Crimes and Traffic Accidents'));"
   ]
  },
  {
   "cell_type": "code",
   "execution_count": 34,
   "id": "e2130be7",
   "metadata": {},
   "outputs": [
    {
     "name": "stdout",
     "output_type": "stream",
     "text": [
      "               IS_CRIME  IS_TRAFFIC\n",
      "REPORTED_DATE                      \n",
      "2011-12-01         5013        3198\n",
      "2012-03-01         9260        4954\n",
      "2012-06-01        10524        5190\n",
      "2012-09-01         9450        4777\n",
      "2012-12-01         9003        4652\n",
      "2013-03-01         9953        4461\n",
      "2013-06-01        15792        4797\n",
      "2013-09-01        14588        4915\n",
      "2013-12-01        13538        5030\n",
      "2014-03-01        15794        5131\n",
      "2014-06-01        17041        5550\n",
      "2014-09-01        15946        5813\n",
      "2014-12-01        14395        5626\n",
      "2015-03-01        16599        5517\n",
      "2015-06-01        17833        6011\n",
      "2015-09-01        16865        6158\n",
      "2015-12-01        15874        5652\n",
      "2016-03-01        17362        5777\n",
      "2016-06-01        17225        6042\n",
      "2016-09-01        16932        6202\n",
      "2016-12-01        15615        5731\n",
      "2017-03-01        17287        5940\n",
      "2017-06-01        18545        6246\n",
      "2017-09-01         5417        1931\n"
     ]
    }
   ],
   "source": [
    "# 讓季度從三月開始\n",
    "print(crime\n",
    "        .resample('QS-MAR')\n",
    "        ['IS_CRIME', 'IS_TRAFFIC']\n",
    "        .sum())"
   ]
  },
  {
   "cell_type": "code",
   "execution_count": 36,
   "id": "fb78a80c",
   "metadata": {},
   "outputs": [
    {
     "data": {
      "image/png": "[encoded data removed]",
      "text/plain": [
       "<Figure size 1600x400 with 1 Axes>"
      ]
     },
     "metadata": {},
     "output_type": "display_data"
    }
   ],
   "source": [
    "# 成長率的並列長條圖\n",
    "crime_begin = (crime.resample('QE')\n",
    "                    ['IS_CRIME', 'IS_TRAFFIC']\n",
    "                    .sum()\n",
    "                    .iloc[0])\n",
    "\n",
    "fig, ax = plt.subplots(figsize=(16, 4))\n",
    "(crime.resample('QE')\n",
    "       ['IS_CRIME', 'IS_TRAFFIC']\n",
    "      .sum()\n",
    "      .div(crime_begin)\n",
    "      .sub(1)\n",
    "      .round(2)\n",
    "      .mul(100)\n",
    "      .plot.bar(color=['black', 'lightgrey'], ax=ax,\n",
    "                title='Denver Crimes and Traffic Accidents % Increase'));"
   ]
  },
  {
   "cell_type": "markdown",
   "id": "5e3f9ef7",
   "metadata": {},
   "source": [
    "## 11.7 案例演練: 以星期幾來統計犯罪率"
   ]
  },
  {
   "cell_type": "code",
   "execution_count": 37,
   "id": "321aa835",
   "metadata": {},
   "outputs": [
    {
     "name": "stdout",
     "output_type": "stream",
     "text": [
      "                     OFFENSE_TYPE_ID OFFENSE_CATEGORY_ID       REPORTED_DATE  \\\n",
      "0          traffic-accident-dui-duid    traffic-accident 2014-06-29 02:01:00   \n",
      "1         vehicular-eluding-no-chase    all-other-crimes 2014-06-29 01:54:00   \n",
      "2               disturbing-the-peace     public-disorder 2014-06-29 02:00:00   \n",
      "3                             curfew     public-disorder 2014-06-29 02:18:00   \n",
      "4                 aggravated-assault  aggravated-assault 2014-06-29 04:17:00   \n",
      "...                              ...                 ...                 ...   \n",
      "460906    burglary-business-by-force            burglary 2017-09-13 05:48:00   \n",
      "460907  weapon-unlawful-discharge-of    all-other-crimes 2017-09-12 20:37:00   \n",
      "460908        traf-habitual-offender    all-other-crimes 2017-09-12 16:32:00   \n",
      "460909       criminal-mischief-other     public-disorder 2017-09-12 13:04:00   \n",
      "460910                   theft-other             larceny 2017-09-12 09:30:00   \n",
      "\n",
      "           GEO_LON    GEO_LAT            NEIGHBORHOOD_ID  IS_CRIME  IS_TRAFFIC  \n",
      "0      -105.000149  39.745753                        cbd         0           1  \n",
      "1      -104.884660  39.738702                east-colfax         1           0  \n",
      "2      -105.020719  39.706674                athmar-park         1           0  \n",
      "3      -105.001552  39.769505                  sunnyside         1           0  \n",
      "4      -105.018557  39.679229  college-view-south-platte         1           0  \n",
      "...            ...        ...                        ...       ...         ...  \n",
      "460906 -105.033840  39.762365              west-highland         1           0  \n",
      "460907 -105.040313  39.721264                barnum-west         1           0  \n",
      "460908 -104.847024  39.779596                  montbello         1           0  \n",
      "460909 -104.949183  39.756353                    skyland         1           0  \n",
      "460910 -104.985739  39.735045               capitol-hill         1           0  \n",
      "\n",
      "[460911 rows x 8 columns]\n"
     ]
    }
   ],
   "source": [
    "# 載入資料集\n",
    "crime = pd.read_hdf('../../data/crime.h5', 'crime')\n",
    "print(crime)"
   ]
  },
  {
   "cell_type": "code",
   "execution_count": 38,
   "id": "d4dd1dd5",
   "metadata": {},
   "outputs": [
    {
     "name": "stdout",
     "output_type": "stream",
     "text": [
      "REPORTED_DATE\n",
      "Monday       70024\n",
      "Friday       69621\n",
      "Wednesday    69538\n",
      "Thursday     69287\n",
      "Tuesday      68394\n",
      "Saturday     58834\n",
      "Sunday       55213\n",
      "Name: count, dtype: int64\n"
     ]
    }
   ],
   "source": [
    "# 找出各星期彙總\n",
    "print(crime['REPORTED_DATE']\n",
    "           .dt.day_name()\n",
    "           .value_counts())"
   ]
  },
  {
   "cell_type": "code",
   "execution_count": 40,
   "id": "227c32c9",
   "metadata": {},
   "outputs": [
    {
     "data": {
      "image/png": "[encoded data removed]",
      "text/plain": [
       "<Figure size 600x400 with 1 Axes>"
      ]
     },
     "metadata": {},
     "output_type": "display_data"
    }
   ],
   "source": [
    "# 畫水平長條圖\n",
    "days = ['Monday', 'Tuesday', 'Wednesday', 'Thursday', 'Friday', 'Saturday', 'Sunday']\n",
    "\n",
    "title = 'Denver Crimes and Traffic Accidents per Weekday'\n",
    "\n",
    "fig, ax = plt.subplots(figsize=(6, 4))\n",
    "(crime['REPORTED_DATE'].dt.day_name()\n",
    "                       .value_counts()\n",
    "                       .reindex(days)\n",
    "                       .plot.barh(title=title, ax=ax));"
   ]
  },
  {
   "cell_type": "code",
   "execution_count": 41,
   "id": "04b4a63d",
   "metadata": {},
   "outputs": [
    {
     "data": {
      "image/png": "[encoded data removed]",
      "text/plain": [
       "<Figure size 600x400 with 1 Axes>"
      ]
     },
     "metadata": {},
     "output_type": "display_data"
    }
   ],
   "source": [
    "# 也可以依照年分\n",
    "title = 'Denver Crimes and Traffic Accidents per Year'\n",
    "\n",
    "fig, ax = plt.subplots(figsize=(6, 4))\n",
    "(crime['REPORTED_DATE'].dt.year\n",
    "                       .value_counts()\n",
    "                       .sort_index()\n",
    "                       .plot.barh(title=title, ax=ax));"
   ]
  },
  {
   "cell_type": "code",
   "execution_count": 42,
   "id": "5b71f056",
   "metadata": {},
   "outputs": [
    {
     "name": "stdout",
     "output_type": "stream",
     "text": [
      "year  day      \n",
      "2012  Friday        8549\n",
      "      Monday        8786\n",
      "      Saturday      7442\n",
      "      Sunday        7189\n",
      "      Thursday      8440\n",
      "      Tuesday       8191\n",
      "      Wednesday     8440\n",
      "2013  Friday       10380\n",
      "      Monday       10627\n",
      "      Saturday      8875\n",
      "      Sunday        8444\n",
      "      Thursday     10431\n",
      "      Tuesday      10416\n",
      "      Wednesday    10354\n",
      "2014  Friday       12683\n",
      "      Monday       12813\n",
      "      Saturday     10950\n",
      "      Sunday       10278\n",
      "      Thursday     12309\n",
      "      Tuesday      12440\n",
      "      Wednesday    12948\n",
      "2015  Friday       13273\n",
      "      Monday       13452\n",
      "      Saturday     11586\n",
      "      Sunday       10624\n",
      "      Thursday     13512\n",
      "      Tuesday      13381\n",
      "      Wednesday    13320\n",
      "2016  Friday       14059\n",
      "      Monday       13708\n",
      "      Saturday     11467\n",
      "      Sunday       10554\n",
      "      Thursday     14050\n",
      "      Tuesday      13338\n",
      "      Wednesday    13900\n",
      "2017  Friday       10677\n",
      "      Monday       10638\n",
      "      Saturday      8514\n",
      "      Sunday        8124\n",
      "      Thursday     10545\n",
      "      Tuesday      10628\n",
      "      Wednesday    10576\n",
      "dtype: int64\n"
     ]
    }
   ],
   "source": [
    "# 每年中的各星期\n",
    "print(crime\n",
    "        .groupby([crime['REPORTED_DATE'].dt.year.rename('year'),\n",
    "                  crime['REPORTED_DATE'].dt.day_name().rename('day')])\n",
    "        .size())"
   ]
  },
  {
   "cell_type": "code",
   "execution_count": 43,
   "id": "0d061b21",
   "metadata": {},
   "outputs": [
    {
     "name": "stdout",
     "output_type": "stream",
     "text": [
      "day   Friday  Monday  Saturday  Sunday  Thursday  Tuesday  Wednesday\n",
      "year                                                                \n",
      "2012    8549    8786      7442    7189      8440     8191       8440\n",
      "2013   10380   10627      8875    8444     10431    10416      10354\n",
      "2014   12683   12813     10950   10278     12309    12440      12948\n",
      "2015   13273   13452     11586   10624     13512    13381      13320\n",
      "2016   14059   13708     11467   10554     14050    13338      13900\n",
      "2017   10677   10638      8514    8124     10545    10628      10576\n"
     ]
    }
   ],
   "source": [
    "# unstack 來比較\n",
    "print(crime\n",
    "        .groupby([crime['REPORTED_DATE'].dt.year.rename('year'),\n",
    "                  crime['REPORTED_DATE'].dt.day_name().rename('day')])\n",
    "        .size()\n",
    "        .unstack('day'))"
   ]
  },
  {
   "cell_type": "code",
   "execution_count": 44,
   "id": "9f140c43",
   "metadata": {},
   "outputs": [
    {
     "name": "stdout",
     "output_type": "stream",
     "text": [
      "day   Friday  Monday  Saturday  Sunday  Thursday  Tuesday  Wednesday\n",
      "year                                                                \n",
      "2012    8549    8786      7442    7189      8440     8191       8440\n",
      "2013   10380   10627      8875    8444     10431    10416      10354\n",
      "2014   12683   12813     10950   10278     12309    12440      12948\n",
      "2015   13273   13452     11586   10624     13512    13381      13320\n",
      "2016   14059   13708     11467   10554     14050    13338      13900\n",
      "2017   10677   10638      8514    8124     10545    10628      10576\n"
     ]
    }
   ],
   "source": [
    "# 使用crosstab\n",
    "print(crime\n",
    "        .assign(year = crime.REPORTED_DATE.dt.year,\n",
    "                day = crime.REPORTED_DATE.dt.day_name())\n",
    "        .pipe(lambda df_:pd.crosstab(df_.year, df_.day))\n",
    ")"
   ]
  },
  {
   "cell_type": "code",
   "execution_count": 53,
   "id": "be1e81d3",
   "metadata": {},
   "outputs": [
    {
     "name": "stdout",
     "output_type": "stream",
     "text": [
      "272\n"
     ]
    }
   ],
   "source": [
    "# 2017的紀錄天數\n",
    "criteria = crime['REPORTED_DATE'].dt.year == 2017\n",
    "print(crime.loc[criteria, 'REPORTED_DATE'].dt.dayofyear.max())"
   ]
  },
  {
   "cell_type": "code",
   "execution_count": 55,
   "id": "16943cf3",
   "metadata": {},
   "outputs": [
    {
     "name": "stdout",
     "output_type": "stream",
     "text": [
      "0.748\n"
     ]
    }
   ],
   "source": [
    "# 計算前272天的中位數\n",
    "crime_pct = (crime\n",
    "                ['REPORTED_DATE']\n",
    "                .dt.dayofyear.le(272)\n",
    "                .groupby(crime.REPORTED_DATE.dt.year)\n",
    "                .mean()\n",
    "                .round(3))\n",
    "\n",
    "print(crime_pct.loc[2012:2016].median())"
   ]
  },
  {
   "cell_type": "code",
   "execution_count": null,
   "id": "36dd57c0",
   "metadata": {},
   "outputs": [
    {
     "name": "stdout",
     "output_type": "stream",
     "text": [
      "day   Monday  Tuesday  Wednesday  Thursday  Friday  Saturday  Sunday\n",
      "year                                                                \n",
      "2012    8786     8191       8440      8440    8549      7442    7189\n",
      "2013   10627    10416      10354     10431   10380      8875    8444\n",
      "2014   12813    12440      12948     12309   12683     10950   10278\n",
      "2015   13452    13381      13320     13512   13273     11586   10624\n",
      "2016   13708    13338      13900     14050   14059     11467   10554\n",
      "2017   14221    14208      14139     14097   14274     11382   10860\n"
     ]
    }
   ],
   "source": [
    "# 用佔比中位數去推測2017 的紀錄\n",
    "def update_2017(df_):\n",
    "    df_.loc[2017] = (df_.loc[2017]\n",
    "                        .div(.748)\n",
    "                        .astype('int'))\n",
    "    return df_\n",
    "\n",
    "print(crime\n",
    "        .groupby([crime['REPORTED_DATE'].dt.year.rename('year'),\n",
    "                  crime['REPORTED_DATE'].dt.day_name().rename('day')])\n",
    "        .size()\n",
    "        .unstack('day')\n",
    "        .pipe(update_2017)\n",
    "        .reindex(columns=days))"
   ]
  },
  {
   "cell_type": "code",
   "execution_count": 58,
   "id": "aaa87344",
   "metadata": {},
   "outputs": [
    {
     "data": {
      "image/png": "[encoded data removed]",
      "text/plain": [
       "<Figure size 600x400 with 2 Axes>"
      ]
     },
     "metadata": {},
     "output_type": "display_data"
    }
   ],
   "source": [
    "# 用seaborn 呈現熱力圖\n",
    "import seaborn as sns\n",
    "fig, ax = plt.subplots(figsize=(6, 4))\n",
    "table = (crime\n",
    "        .groupby([crime['REPORTED_DATE'].dt.year.rename('year'),\n",
    "                  crime['REPORTED_DATE'].dt.day_name().rename('day')])\n",
    "        .size()\n",
    "        .unstack('day')\n",
    "        .pipe(update_2017)\n",
    "        .reindex(columns=days))\n",
    "sns.heatmap(table, cmap='Greys', ax=ax);"
   ]
  },
  {
   "cell_type": "code",
   "execution_count": 59,
   "id": "9d205943",
   "metadata": {},
   "outputs": [
    {
     "name": "stdout",
     "output_type": "stream",
     "text": [
      "      Population\n",
      "Year            \n",
      "2017      705000\n",
      "2016      693000\n",
      "2015      680000\n",
      "2014      662000\n",
      "2013      647000\n",
      "2012      634000\n"
     ]
    }
   ],
   "source": [
    "# 載入人口數資料集\n",
    "denver_pop = pd.read_csv('../../data/denver_pop.csv', index_col='Year')\n",
    "print(denver_pop)"
   ]
  },
  {
   "cell_type": "code",
   "execution_count": 60,
   "id": "50b01666",
   "metadata": {},
   "outputs": [
    {
     "name": "stdout",
     "output_type": "stream",
     "text": [
      "Year\n",
      "2017    7.05\n",
      "2016    6.93\n",
      "2015    6.80\n",
      "2014    6.62\n",
      "2013    6.47\n",
      "2012    6.34\n",
      "Name: Population, dtype: float64\n"
     ]
    }
   ],
   "source": [
    "# 通常犯罪率的分母是每100000人為單位\n",
    "den_100K = denver_pop.div(100_000).squeeze()\n",
    "print(den_100K)"
   ]
  },
  {
   "cell_type": "code",
   "execution_count": 62,
   "id": "f31499a5",
   "metadata": {},
   "outputs": [
    {
     "name": "stdout",
     "output_type": "stream",
     "text": [
      "day   Monday  Tuesday  Wednesday  Thursday  Friday  Saturday  Sunday\n",
      "2012    1385     1291       1331      1331    1348      1173    1133\n",
      "2013    1642     1609       1600      1612    1604      1371    1305\n",
      "2014    1935     1879       1955      1859    1915      1654    1552\n",
      "2015    1978     1967       1958      1987    1951      1703    1562\n",
      "2016    1978     1924       2005      2027    2028      1654    1522\n",
      "2017    2017     2015       2005      1999    2024      1614    1540\n"
     ]
    }
   ],
   "source": [
    "# 對齊索引\n",
    "normalized = (crime\n",
    "                .groupby([crime['REPORTED_DATE'].dt.year.rename('year'),\n",
    "                        crime['REPORTED_DATE'].dt.day_name().rename('day')])\n",
    "                .size()\n",
    "                .unstack('day')\n",
    "                .pipe(update_2017)\n",
    "                .reindex(columns=days)\n",
    "                .div(den_100K, axis='index')\n",
    "                .astype(int))\n",
    "\n",
    "print(normalized)"
   ]
  },
  {
   "cell_type": "code",
   "execution_count": 64,
   "id": "324fc133",
   "metadata": {},
   "outputs": [
    {
     "data": {
      "image/png": "[encoded data removed]",
      "text/plain": [
       "<Figure size 600x400 with 2 Axes>"
      ]
     },
     "metadata": {},
     "output_type": "display_data"
    }
   ],
   "source": [
    "# 再次畫熱力圖\n",
    "fig, ax = plt.subplots(figsize=(6, 4))\n",
    "sns.heatmap(normalized, cmap='Greys', ax=ax);"
   ]
  },
  {
   "cell_type": "code",
   "execution_count": 65,
   "id": "cea77057",
   "metadata": {},
   "outputs": [
    {
     "name": "stdout",
     "output_type": "stream",
     "text": [
      "day   Monday  Tuesday  Wednesday  Thursday  Friday  Saturday  Sunday\n",
      "2012      95       72         72        76      71        78      76\n",
      "2013      85       74         74        69      65        68      67\n",
      "2014      94       76         72        70      76        67      67\n",
      "2015     108      102         89       101      92        85      78\n",
      "2016     119      102        100        99      97        86      85\n",
      "2017     114      118        111       106     111        91     102\n"
     ]
    }
   ],
   "source": [
    "# 查看特定犯罪類型\n",
    "days = ['Monday', 'Tuesday', 'Wednesday', 'Thursday', 'Friday', 'Saturday', 'Sunday']\n",
    "\n",
    "crime_type = 'auto-theft'\n",
    "\n",
    "normalized = (crime\n",
    "                .query('OFFENSE_CATEGORY_ID == @crime_type')\n",
    "                .groupby([crime['REPORTED_DATE'].dt.year.rename('year'),\n",
    "                        crime['REPORTED_DATE'].dt.day_name().rename('day')])\n",
    "                .size()\n",
    "                .unstack('day')\n",
    "                .pipe(update_2017)\n",
    "                .reindex(columns=days)\n",
    "                .div(den_100K, axis='index')\n",
    "                .astype(int))\n",
    "\n",
    "print(normalized)"
   ]
  },
  {
   "cell_type": "markdown",
   "id": "a01d2095",
   "metadata": {},
   "source": [
    "## 11.8 使用匿名函式來分組"
   ]
  },
  {
   "cell_type": "code",
   "execution_count": 2,
   "id": "a4e20677",
   "metadata": {},
   "outputs": [],
   "source": [
    "# 載入資料集\n",
    "crime = (pd.read_hdf('../../data/crime.h5', 'crime')\n",
    "                    .set_index('REPORTED_DATE')\n",
    "                    .sort_index())"
   ]
  },
  {
   "cell_type": "code",
   "execution_count": 3,
   "id": "54f96fac",
   "metadata": {},
   "outputs": [
    {
     "name": "stdout",
     "output_type": "stream",
     "text": [
      "REPORTED_DATE\n",
      "Monday       70024\n",
      "Friday       69621\n",
      "Wednesday    69538\n",
      "Thursday     69287\n",
      "Tuesday      68394\n",
      "Saturday     58834\n",
      "Sunday       55213\n",
      "Name: count, dtype: int64\n"
     ]
    }
   ],
   "source": [
    "# 用index 取得每星期的資訊\n",
    "print(crime.index.day_name().value_counts())"
   ]
  },
  {
   "cell_type": "code",
   "execution_count": 6,
   "id": "f9108330",
   "metadata": {},
   "outputs": [
    {
     "name": "stdout",
     "output_type": "stream",
     "text": [
      "               IS_CRIME  IS_TRAFFIC\n",
      "REPORTED_DATE                      \n",
      "Friday            48833       20814\n",
      "Monday            52158       17895\n",
      "Saturday          43363       15516\n",
      "Sunday            42315       12968\n",
      "Thursday          49470       19845\n",
      "Tuesday           49658       18755\n",
      "Wednesday         50054       19508\n"
     ]
    }
   ],
   "source": [
    "# groupby 可以傳入函式\n",
    "print(crime.groupby(lambda idx: idx.day_name())\n",
    "            [['IS_CRIME', 'IS_TRAFFIC']]\n",
    "            .sum())"
   ]
  },
  {
   "cell_type": "code",
   "execution_count": 7,
   "id": "8e2204bd",
   "metadata": {},
   "outputs": [
    {
     "name": "stdout",
     "output_type": "stream",
     "text": [
      "              IS_CRIME                               IS_TRAFFIC              \\\n",
      "REPORTED_DATE     2012  2013  2014  2015  2016  2017       2012  2013  2014   \n",
      "REPORTED_DATE                                                                 \n",
      "0                 2422  4040  5649  5649  5377  3811        919   792   978   \n",
      "2                 1888  3214  4245  4050  4091  3041        718   652   779   \n",
      "4                 1472  2181  2956  2959  3044  2255        399   378   424   \n",
      "6                 1067  1365  1750  2167  2108  1567        411   399   479   \n",
      "8                 2998  3445  3727  4161  4488  3251       1957  1955  2210   \n",
      "10                4305  5035  5658  6205  6218  4993       1979  1901  2139   \n",
      "12                4496  5524  6434  6841  7226  5463       2200  2138  2379   \n",
      "14                4266  5698  6708  7218  6896  5396       2241  2245  2630   \n",
      "16                4113  5889  7351  7643  7926  6338       2714  2562  3002   \n",
      "18                3660  5094  6586  7015  7407  6157       3118  2704  3217   \n",
      "20                3521  4895  6130  6360  6963  5272       1787  1806  1994   \n",
      "22                3078  4318  5496  5626  5637  4358       1343  1330  1532   \n",
      "\n",
      "                                 \n",
      "REPORTED_DATE  2015  2016  2017  \n",
      "REPORTED_DATE                    \n",
      "0              1136   980   782  \n",
      "2               773   718   537  \n",
      "4               471   464   313  \n",
      "6               494   593   462  \n",
      "8              2331  2372  1828  \n",
      "10             2320  2303  1873  \n",
      "12             2631  2760  1986  \n",
      "14             2840  2763  1990  \n",
      "16             3160  3527  2784  \n",
      "18             3412  3608  2718  \n",
      "20             2071  2184  1491  \n",
      "22             1671  1472  1072  \n"
     ]
    }
   ],
   "source": [
    "# 函式可以是多個條件\n",
    "funcs = [lambda idx: idx.round('2h').hour, lambda idx: idx.year]\n",
    "\n",
    "print(crime.groupby(funcs)\n",
    "            [['IS_CRIME', 'IS_TRAFFIC']]\n",
    "            .sum()\n",
    "            .unstack())"
   ]
  },
  {
   "cell_type": "code",
   "execution_count": 9,
   "id": "996aaf94",
   "metadata": {},
   "outputs": [
    {
     "data": {
      "text/html": [
       "<style type=\"text/css\">\n",
       "#T_5f769_row6_col0, #T_5f769_row8_col1, #T_5f769_row8_col2, #T_5f769_row8_col3, #T_5f769_row8_col4, #T_5f769_row8_col5, #T_5f769_row8_col11, #T_5f769_row9_col6, #T_5f769_row9_col7, #T_5f769_row9_col8, #T_5f769_row9_col9, #T_5f769_row9_col10 {\n",
       "  background-color: grey;\n",
       "}\n",
       "</style>\n",
       "<table id=\"T_5f769\">\n",
       "  <thead>\n",
       "    <tr>\n",
       "      <th class=\"blank level0\" >&nbsp;</th>\n",
       "      <th id=\"T_5f769_level0_col0\" class=\"col_heading level0 col0\" colspan=\"6\">IS_CRIME</th>\n",
       "      <th id=\"T_5f769_level0_col6\" class=\"col_heading level0 col6\" colspan=\"6\">IS_TRAFFIC</th>\n",
       "    </tr>\n",
       "    <tr>\n",
       "      <th class=\"index_name level1\" >REPORTED_DATE</th>\n",
       "      <th id=\"T_5f769_level1_col0\" class=\"col_heading level1 col0\" >2012</th>\n",
       "      <th id=\"T_5f769_level1_col1\" class=\"col_heading level1 col1\" >2013</th>\n",
       "      <th id=\"T_5f769_level1_col2\" class=\"col_heading level1 col2\" >2014</th>\n",
       "      <th id=\"T_5f769_level1_col3\" class=\"col_heading level1 col3\" >2015</th>\n",
       "      <th id=\"T_5f769_level1_col4\" class=\"col_heading level1 col4\" >2016</th>\n",
       "      <th id=\"T_5f769_level1_col5\" class=\"col_heading level1 col5\" >2017</th>\n",
       "      <th id=\"T_5f769_level1_col6\" class=\"col_heading level1 col6\" >2012</th>\n",
       "      <th id=\"T_5f769_level1_col7\" class=\"col_heading level1 col7\" >2013</th>\n",
       "      <th id=\"T_5f769_level1_col8\" class=\"col_heading level1 col8\" >2014</th>\n",
       "      <th id=\"T_5f769_level1_col9\" class=\"col_heading level1 col9\" >2015</th>\n",
       "      <th id=\"T_5f769_level1_col10\" class=\"col_heading level1 col10\" >2016</th>\n",
       "      <th id=\"T_5f769_level1_col11\" class=\"col_heading level1 col11\" >2017</th>\n",
       "    </tr>\n",
       "    <tr>\n",
       "      <th class=\"index_name level0\" >REPORTED_DATE</th>\n",
       "      <th class=\"blank col0\" >&nbsp;</th>\n",
       "      <th class=\"blank col1\" >&nbsp;</th>\n",
       "      <th class=\"blank col2\" >&nbsp;</th>\n",
       "      <th class=\"blank col3\" >&nbsp;</th>\n",
       "      <th class=\"blank col4\" >&nbsp;</th>\n",
       "      <th class=\"blank col5\" >&nbsp;</th>\n",
       "      <th class=\"blank col6\" >&nbsp;</th>\n",
       "      <th class=\"blank col7\" >&nbsp;</th>\n",
       "      <th class=\"blank col8\" >&nbsp;</th>\n",
       "      <th class=\"blank col9\" >&nbsp;</th>\n",
       "      <th class=\"blank col10\" >&nbsp;</th>\n",
       "      <th class=\"blank col11\" >&nbsp;</th>\n",
       "    </tr>\n",
       "  </thead>\n",
       "  <tbody>\n",
       "    <tr>\n",
       "      <th id=\"T_5f769_level0_row0\" class=\"row_heading level0 row0\" >0</th>\n",
       "      <td id=\"T_5f769_row0_col0\" class=\"data row0 col0\" >2422</td>\n",
       "      <td id=\"T_5f769_row0_col1\" class=\"data row0 col1\" >4040</td>\n",
       "      <td id=\"T_5f769_row0_col2\" class=\"data row0 col2\" >5649</td>\n",
       "      <td id=\"T_5f769_row0_col3\" class=\"data row0 col3\" >5649</td>\n",
       "      <td id=\"T_5f769_row0_col4\" class=\"data row0 col4\" >5377</td>\n",
       "      <td id=\"T_5f769_row0_col5\" class=\"data row0 col5\" >3811</td>\n",
       "      <td id=\"T_5f769_row0_col6\" class=\"data row0 col6\" >919</td>\n",
       "      <td id=\"T_5f769_row0_col7\" class=\"data row0 col7\" >792</td>\n",
       "      <td id=\"T_5f769_row0_col8\" class=\"data row0 col8\" >978</td>\n",
       "      <td id=\"T_5f769_row0_col9\" class=\"data row0 col9\" >1136</td>\n",
       "      <td id=\"T_5f769_row0_col10\" class=\"data row0 col10\" >980</td>\n",
       "      <td id=\"T_5f769_row0_col11\" class=\"data row0 col11\" >782</td>\n",
       "    </tr>\n",
       "    <tr>\n",
       "      <th id=\"T_5f769_level0_row1\" class=\"row_heading level0 row1\" >2</th>\n",
       "      <td id=\"T_5f769_row1_col0\" class=\"data row1 col0\" >1888</td>\n",
       "      <td id=\"T_5f769_row1_col1\" class=\"data row1 col1\" >3214</td>\n",
       "      <td id=\"T_5f769_row1_col2\" class=\"data row1 col2\" >4245</td>\n",
       "      <td id=\"T_5f769_row1_col3\" class=\"data row1 col3\" >4050</td>\n",
       "      <td id=\"T_5f769_row1_col4\" class=\"data row1 col4\" >4091</td>\n",
       "      <td id=\"T_5f769_row1_col5\" class=\"data row1 col5\" >3041</td>\n",
       "      <td id=\"T_5f769_row1_col6\" class=\"data row1 col6\" >718</td>\n",
       "      <td id=\"T_5f769_row1_col7\" class=\"data row1 col7\" >652</td>\n",
       "      <td id=\"T_5f769_row1_col8\" class=\"data row1 col8\" >779</td>\n",
       "      <td id=\"T_5f769_row1_col9\" class=\"data row1 col9\" >773</td>\n",
       "      <td id=\"T_5f769_row1_col10\" class=\"data row1 col10\" >718</td>\n",
       "      <td id=\"T_5f769_row1_col11\" class=\"data row1 col11\" >537</td>\n",
       "    </tr>\n",
       "    <tr>\n",
       "      <th id=\"T_5f769_level0_row2\" class=\"row_heading level0 row2\" >4</th>\n",
       "      <td id=\"T_5f769_row2_col0\" class=\"data row2 col0\" >1472</td>\n",
       "      <td id=\"T_5f769_row2_col1\" class=\"data row2 col1\" >2181</td>\n",
       "      <td id=\"T_5f769_row2_col2\" class=\"data row2 col2\" >2956</td>\n",
       "      <td id=\"T_5f769_row2_col3\" class=\"data row2 col3\" >2959</td>\n",
       "      <td id=\"T_5f769_row2_col4\" class=\"data row2 col4\" >3044</td>\n",
       "      <td id=\"T_5f769_row2_col5\" class=\"data row2 col5\" >2255</td>\n",
       "      <td id=\"T_5f769_row2_col6\" class=\"data row2 col6\" >399</td>\n",
       "      <td id=\"T_5f769_row2_col7\" class=\"data row2 col7\" >378</td>\n",
       "      <td id=\"T_5f769_row2_col8\" class=\"data row2 col8\" >424</td>\n",
       "      <td id=\"T_5f769_row2_col9\" class=\"data row2 col9\" >471</td>\n",
       "      <td id=\"T_5f769_row2_col10\" class=\"data row2 col10\" >464</td>\n",
       "      <td id=\"T_5f769_row2_col11\" class=\"data row2 col11\" >313</td>\n",
       "    </tr>\n",
       "    <tr>\n",
       "      <th id=\"T_5f769_level0_row3\" class=\"row_heading level0 row3\" >6</th>\n",
       "      <td id=\"T_5f769_row3_col0\" class=\"data row3 col0\" >1067</td>\n",
       "      <td id=\"T_5f769_row3_col1\" class=\"data row3 col1\" >1365</td>\n",
       "      <td id=\"T_5f769_row3_col2\" class=\"data row3 col2\" >1750</td>\n",
       "      <td id=\"T_5f769_row3_col3\" class=\"data row3 col3\" >2167</td>\n",
       "      <td id=\"T_5f769_row3_col4\" class=\"data row3 col4\" >2108</td>\n",
       "      <td id=\"T_5f769_row3_col5\" class=\"data row3 col5\" >1567</td>\n",
       "      <td id=\"T_5f769_row3_col6\" class=\"data row3 col6\" >411</td>\n",
       "      <td id=\"T_5f769_row3_col7\" class=\"data row3 col7\" >399</td>\n",
       "      <td id=\"T_5f769_row3_col8\" class=\"data row3 col8\" >479</td>\n",
       "      <td id=\"T_5f769_row3_col9\" class=\"data row3 col9\" >494</td>\n",
       "      <td id=\"T_5f769_row3_col10\" class=\"data row3 col10\" >593</td>\n",
       "      <td id=\"T_5f769_row3_col11\" class=\"data row3 col11\" >462</td>\n",
       "    </tr>\n",
       "    <tr>\n",
       "      <th id=\"T_5f769_level0_row4\" class=\"row_heading level0 row4\" >8</th>\n",
       "      <td id=\"T_5f769_row4_col0\" class=\"data row4 col0\" >2998</td>\n",
       "      <td id=\"T_5f769_row4_col1\" class=\"data row4 col1\" >3445</td>\n",
       "      <td id=\"T_5f769_row4_col2\" class=\"data row4 col2\" >3727</td>\n",
       "      <td id=\"T_5f769_row4_col3\" class=\"data row4 col3\" >4161</td>\n",
       "      <td id=\"T_5f769_row4_col4\" class=\"data row4 col4\" >4488</td>\n",
       "      <td id=\"T_5f769_row4_col5\" class=\"data row4 col5\" >3251</td>\n",
       "      <td id=\"T_5f769_row4_col6\" class=\"data row4 col6\" >1957</td>\n",
       "      <td id=\"T_5f769_row4_col7\" class=\"data row4 col7\" >1955</td>\n",
       "      <td id=\"T_5f769_row4_col8\" class=\"data row4 col8\" >2210</td>\n",
       "      <td id=\"T_5f769_row4_col9\" class=\"data row4 col9\" >2331</td>\n",
       "      <td id=\"T_5f769_row4_col10\" class=\"data row4 col10\" >2372</td>\n",
       "      <td id=\"T_5f769_row4_col11\" class=\"data row4 col11\" >1828</td>\n",
       "    </tr>\n",
       "    <tr>\n",
       "      <th id=\"T_5f769_level0_row5\" class=\"row_heading level0 row5\" >10</th>\n",
       "      <td id=\"T_5f769_row5_col0\" class=\"data row5 col0\" >4305</td>\n",
       "      <td id=\"T_5f769_row5_col1\" class=\"data row5 col1\" >5035</td>\n",
       "      <td id=\"T_5f769_row5_col2\" class=\"data row5 col2\" >5658</td>\n",
       "      <td id=\"T_5f769_row5_col3\" class=\"data row5 col3\" >6205</td>\n",
       "      <td id=\"T_5f769_row5_col4\" class=\"data row5 col4\" >6218</td>\n",
       "      <td id=\"T_5f769_row5_col5\" class=\"data row5 col5\" >4993</td>\n",
       "      <td id=\"T_5f769_row5_col6\" class=\"data row5 col6\" >1979</td>\n",
       "      <td id=\"T_5f769_row5_col7\" class=\"data row5 col7\" >1901</td>\n",
       "      <td id=\"T_5f769_row5_col8\" class=\"data row5 col8\" >2139</td>\n",
       "      <td id=\"T_5f769_row5_col9\" class=\"data row5 col9\" >2320</td>\n",
       "      <td id=\"T_5f769_row5_col10\" class=\"data row5 col10\" >2303</td>\n",
       "      <td id=\"T_5f769_row5_col11\" class=\"data row5 col11\" >1873</td>\n",
       "    </tr>\n",
       "    <tr>\n",
       "      <th id=\"T_5f769_level0_row6\" class=\"row_heading level0 row6\" >12</th>\n",
       "      <td id=\"T_5f769_row6_col0\" class=\"data row6 col0\" >4496</td>\n",
       "      <td id=\"T_5f769_row6_col1\" class=\"data row6 col1\" >5524</td>\n",
       "      <td id=\"T_5f769_row6_col2\" class=\"data row6 col2\" >6434</td>\n",
       "      <td id=\"T_5f769_row6_col3\" class=\"data row6 col3\" >6841</td>\n",
       "      <td id=\"T_5f769_row6_col4\" class=\"data row6 col4\" >7226</td>\n",
       "      <td id=\"T_5f769_row6_col5\" class=\"data row6 col5\" >5463</td>\n",
       "      <td id=\"T_5f769_row6_col6\" class=\"data row6 col6\" >2200</td>\n",
       "      <td id=\"T_5f769_row6_col7\" class=\"data row6 col7\" >2138</td>\n",
       "      <td id=\"T_5f769_row6_col8\" class=\"data row6 col8\" >2379</td>\n",
       "      <td id=\"T_5f769_row6_col9\" class=\"data row6 col9\" >2631</td>\n",
       "      <td id=\"T_5f769_row6_col10\" class=\"data row6 col10\" >2760</td>\n",
       "      <td id=\"T_5f769_row6_col11\" class=\"data row6 col11\" >1986</td>\n",
       "    </tr>\n",
       "    <tr>\n",
       "      <th id=\"T_5f769_level0_row7\" class=\"row_heading level0 row7\" >14</th>\n",
       "      <td id=\"T_5f769_row7_col0\" class=\"data row7 col0\" >4266</td>\n",
       "      <td id=\"T_5f769_row7_col1\" class=\"data row7 col1\" >5698</td>\n",
       "      <td id=\"T_5f769_row7_col2\" class=\"data row7 col2\" >6708</td>\n",
       "      <td id=\"T_5f769_row7_col3\" class=\"data row7 col3\" >7218</td>\n",
       "      <td id=\"T_5f769_row7_col4\" class=\"data row7 col4\" >6896</td>\n",
       "      <td id=\"T_5f769_row7_col5\" class=\"data row7 col5\" >5396</td>\n",
       "      <td id=\"T_5f769_row7_col6\" class=\"data row7 col6\" >2241</td>\n",
       "      <td id=\"T_5f769_row7_col7\" class=\"data row7 col7\" >2245</td>\n",
       "      <td id=\"T_5f769_row7_col8\" class=\"data row7 col8\" >2630</td>\n",
       "      <td id=\"T_5f769_row7_col9\" class=\"data row7 col9\" >2840</td>\n",
       "      <td id=\"T_5f769_row7_col10\" class=\"data row7 col10\" >2763</td>\n",
       "      <td id=\"T_5f769_row7_col11\" class=\"data row7 col11\" >1990</td>\n",
       "    </tr>\n",
       "    <tr>\n",
       "      <th id=\"T_5f769_level0_row8\" class=\"row_heading level0 row8\" >16</th>\n",
       "      <td id=\"T_5f769_row8_col0\" class=\"data row8 col0\" >4113</td>\n",
       "      <td id=\"T_5f769_row8_col1\" class=\"data row8 col1\" >5889</td>\n",
       "      <td id=\"T_5f769_row8_col2\" class=\"data row8 col2\" >7351</td>\n",
       "      <td id=\"T_5f769_row8_col3\" class=\"data row8 col3\" >7643</td>\n",
       "      <td id=\"T_5f769_row8_col4\" class=\"data row8 col4\" >7926</td>\n",
       "      <td id=\"T_5f769_row8_col5\" class=\"data row8 col5\" >6338</td>\n",
       "      <td id=\"T_5f769_row8_col6\" class=\"data row8 col6\" >2714</td>\n",
       "      <td id=\"T_5f769_row8_col7\" class=\"data row8 col7\" >2562</td>\n",
       "      <td id=\"T_5f769_row8_col8\" class=\"data row8 col8\" >3002</td>\n",
       "      <td id=\"T_5f769_row8_col9\" class=\"data row8 col9\" >3160</td>\n",
       "      <td id=\"T_5f769_row8_col10\" class=\"data row8 col10\" >3527</td>\n",
       "      <td id=\"T_5f769_row8_col11\" class=\"data row8 col11\" >2784</td>\n",
       "    </tr>\n",
       "    <tr>\n",
       "      <th id=\"T_5f769_level0_row9\" class=\"row_heading level0 row9\" >18</th>\n",
       "      <td id=\"T_5f769_row9_col0\" class=\"data row9 col0\" >3660</td>\n",
       "      <td id=\"T_5f769_row9_col1\" class=\"data row9 col1\" >5094</td>\n",
       "      <td id=\"T_5f769_row9_col2\" class=\"data row9 col2\" >6586</td>\n",
       "      <td id=\"T_5f769_row9_col3\" class=\"data row9 col3\" >7015</td>\n",
       "      <td id=\"T_5f769_row9_col4\" class=\"data row9 col4\" >7407</td>\n",
       "      <td id=\"T_5f769_row9_col5\" class=\"data row9 col5\" >6157</td>\n",
       "      <td id=\"T_5f769_row9_col6\" class=\"data row9 col6\" >3118</td>\n",
       "      <td id=\"T_5f769_row9_col7\" class=\"data row9 col7\" >2704</td>\n",
       "      <td id=\"T_5f769_row9_col8\" class=\"data row9 col8\" >3217</td>\n",
       "      <td id=\"T_5f769_row9_col9\" class=\"data row9 col9\" >3412</td>\n",
       "      <td id=\"T_5f769_row9_col10\" class=\"data row9 col10\" >3608</td>\n",
       "      <td id=\"T_5f769_row9_col11\" class=\"data row9 col11\" >2718</td>\n",
       "    </tr>\n",
       "    <tr>\n",
       "      <th id=\"T_5f769_level0_row10\" class=\"row_heading level0 row10\" >20</th>\n",
       "      <td id=\"T_5f769_row10_col0\" class=\"data row10 col0\" >3521</td>\n",
       "      <td id=\"T_5f769_row10_col1\" class=\"data row10 col1\" >4895</td>\n",
       "      <td id=\"T_5f769_row10_col2\" class=\"data row10 col2\" >6130</td>\n",
       "      <td id=\"T_5f769_row10_col3\" class=\"data row10 col3\" >6360</td>\n",
       "      <td id=\"T_5f769_row10_col4\" class=\"data row10 col4\" >6963</td>\n",
       "      <td id=\"T_5f769_row10_col5\" class=\"data row10 col5\" >5272</td>\n",
       "      <td id=\"T_5f769_row10_col6\" class=\"data row10 col6\" >1787</td>\n",
       "      <td id=\"T_5f769_row10_col7\" class=\"data row10 col7\" >1806</td>\n",
       "      <td id=\"T_5f769_row10_col8\" class=\"data row10 col8\" >1994</td>\n",
       "      <td id=\"T_5f769_row10_col9\" class=\"data row10 col9\" >2071</td>\n",
       "      <td id=\"T_5f769_row10_col10\" class=\"data row10 col10\" >2184</td>\n",
       "      <td id=\"T_5f769_row10_col11\" class=\"data row10 col11\" >1491</td>\n",
       "    </tr>\n",
       "    <tr>\n",
       "      <th id=\"T_5f769_level0_row11\" class=\"row_heading level0 row11\" >22</th>\n",
       "      <td id=\"T_5f769_row11_col0\" class=\"data row11 col0\" >3078</td>\n",
       "      <td id=\"T_5f769_row11_col1\" class=\"data row11 col1\" >4318</td>\n",
       "      <td id=\"T_5f769_row11_col2\" class=\"data row11 col2\" >5496</td>\n",
       "      <td id=\"T_5f769_row11_col3\" class=\"data row11 col3\" >5626</td>\n",
       "      <td id=\"T_5f769_row11_col4\" class=\"data row11 col4\" >5637</td>\n",
       "      <td id=\"T_5f769_row11_col5\" class=\"data row11 col5\" >4358</td>\n",
       "      <td id=\"T_5f769_row11_col6\" class=\"data row11 col6\" >1343</td>\n",
       "      <td id=\"T_5f769_row11_col7\" class=\"data row11 col7\" >1330</td>\n",
       "      <td id=\"T_5f769_row11_col8\" class=\"data row11 col8\" >1532</td>\n",
       "      <td id=\"T_5f769_row11_col9\" class=\"data row11 col9\" >1671</td>\n",
       "      <td id=\"T_5f769_row11_col10\" class=\"data row11 col10\" >1472</td>\n",
       "      <td id=\"T_5f769_row11_col11\" class=\"data row11 col11\" >1072</td>\n",
       "    </tr>\n",
       "  </tbody>\n",
       "</table>\n"
      ],
      "text/plain": [
       "<pandas.io.formats.style.Styler at 0x1988313b110>"
      ]
     },
     "execution_count": 9,
     "metadata": {},
     "output_type": "execute_result"
    }
   ],
   "source": [
    "# highlight 重點\n",
    "(crime.groupby(funcs)\n",
    "        [['IS_CRIME', 'IS_TRAFFIC']]\n",
    "        .sum()\n",
    "        .unstack()\n",
    "        .style.highlight_max(color='grey'))"
   ]
  },
  {
   "cell_type": "markdown",
   "id": "efa49437",
   "metadata": {},
   "source": [
    "## 11.9 使用Timestamp 與另一欄位來分組"
   ]
  },
  {
   "cell_type": "code",
   "execution_count": 10,
   "id": "869de2af",
   "metadata": {},
   "outputs": [
    {
     "name": "stdout",
     "output_type": "stream",
     "text": [
      "            UNIQUE_ID               POSITION_TITLE  \\\n",
      "HIRE_DATE                                            \n",
      "2006-06-12          0  ASSISTANT DIRECTOR (EX LVL)   \n",
      "2000-07-19          1            LIBRARY ASSISTANT   \n",
      "2015-02-03          2               POLICE OFFICER   \n",
      "1982-02-08          3            ENGINEER/OPERATOR   \n",
      "1989-06-19          4                  ELECTRICIAN   \n",
      "...               ...                          ...   \n",
      "2014-06-09       1995               POLICE OFFICER   \n",
      "2003-09-02       1996       COMMUNICATIONS CAPTAIN   \n",
      "2014-10-13       1997               POLICE OFFICER   \n",
      "2009-01-20       1998               POLICE OFFICER   \n",
      "2009-01-12       1999                 FIRE FIGHTER   \n",
      "\n",
      "                               DEPARTMENT  BASE_SALARY  \\\n",
      "HIRE_DATE                                                \n",
      "2006-06-12    Municipal Courts Department     121862.0   \n",
      "2000-07-19                        Library      26125.0   \n",
      "2015-02-03  Houston Police Department-HPD      45279.0   \n",
      "1982-02-08  Houston Fire Department (HFD)      63166.0   \n",
      "1989-06-19    General Services Department      56347.0   \n",
      "...                                   ...          ...   \n",
      "2014-06-09  Houston Police Department-HPD      43443.0   \n",
      "2003-09-02  Houston Fire Department (HFD)      66523.0   \n",
      "2014-10-13  Houston Police Department-HPD      43443.0   \n",
      "2009-01-20  Houston Police Department-HPD      55461.0   \n",
      "2009-01-12  Houston Fire Department (HFD)      51194.0   \n",
      "\n",
      "                                 RACE EMPLOYMENT_TYPE  GENDER  \\\n",
      "HIRE_DATE                                                       \n",
      "2006-06-12            Hispanic/Latino       Full Time  Female   \n",
      "2000-07-19            Hispanic/Latino       Full Time  Female   \n",
      "2015-02-03                      White       Full Time    Male   \n",
      "1982-02-08                      White       Full Time    Male   \n",
      "1989-06-19                      White       Full Time    Male   \n",
      "...                               ...             ...     ...   \n",
      "2014-06-09                      White       Full Time    Male   \n",
      "2003-09-02  Black or African American       Full Time    Male   \n",
      "2014-10-13                      White       Full Time    Male   \n",
      "2009-01-20     Asian/Pacific Islander       Full Time    Male   \n",
      "2009-01-12            Hispanic/Latino       Full Time    Male   \n",
      "\n",
      "           EMPLOYMENT_STATUS   JOB_DATE  \n",
      "HIRE_DATE                                \n",
      "2006-06-12            Active 2012-10-13  \n",
      "2000-07-19            Active 2010-09-18  \n",
      "2015-02-03            Active 2015-02-03  \n",
      "1982-02-08            Active 1991-05-25  \n",
      "1989-06-19            Active 1994-10-22  \n",
      "...                      ...        ...  \n",
      "2014-06-09            Active 2015-06-09  \n",
      "2003-09-02            Active 2013-10-06  \n",
      "2014-10-13            Active 2015-10-13  \n",
      "2009-01-20            Active 2011-07-02  \n",
      "2009-01-12            Active 2010-07-12  \n",
      "\n",
      "[2000 rows x 9 columns]\n"
     ]
    }
   ],
   "source": [
    "# 載入資料集\n",
    "employee = pd.read_csv('../../data/employee.csv',\n",
    "                       parse_dates=['JOB_DATE', 'HIRE_DATE'],\n",
    "                       index_col='HIRE_DATE')\n",
    "\n",
    "print(employee)"
   ]
  },
  {
   "cell_type": "code",
   "execution_count": 11,
   "id": "4ab47814",
   "metadata": {},
   "outputs": [
    {
     "name": "stdout",
     "output_type": "stream",
     "text": [
      "GENDER\n",
      "Female    52200.0\n",
      "Male      57400.0\n",
      "Name: BASE_SALARY, dtype: float64\n"
     ]
    }
   ],
   "source": [
    "# 可以找出不同性別的均薪\n",
    "print(employee\n",
    "        .groupby('GENDER')\n",
    "        ['BASE_SALARY']\n",
    "        .mean()\n",
    "        .round(-2))"
   ]
  },
  {
   "cell_type": "code",
   "execution_count": 13,
   "id": "7947b059",
   "metadata": {},
   "outputs": [
    {
     "name": "stdout",
     "output_type": "stream",
     "text": [
      "HIRE_DATE\n",
      "1958-01-01     81200.0\n",
      "1968-01-01    106500.0\n",
      "1978-01-01     69600.0\n",
      "1988-01-01     62300.0\n",
      "1998-01-01     58200.0\n",
      "2008-01-01     47200.0\n",
      "Freq: 10YS-JAN, Name: BASE_SALARY, dtype: float64\n"
     ]
    }
   ],
   "source": [
    "# 以10年為單位分組計算均薪\n",
    "print(employee\n",
    "        .resample('10YS')\n",
    "        ['BASE_SALARY']\n",
    "        .mean()\n",
    "        .round(-2))"
   ]
  },
  {
   "cell_type": "code",
   "execution_count": 14,
   "id": "874671aa",
   "metadata": {},
   "outputs": [
    {
     "name": "stdout",
     "output_type": "stream",
     "text": [
      "GENDER  HIRE_DATE \n",
      "Female  1975-01-01     51600.0\n",
      "        1985-01-01     57600.0\n",
      "        1995-01-01     55500.0\n",
      "        2005-01-01     51700.0\n",
      "        2015-01-01     38600.0\n",
      "Male    1958-01-01     81200.0\n",
      "        1968-01-01    106500.0\n",
      "        1978-01-01     72300.0\n",
      "        1988-01-01     64600.0\n",
      "        1998-01-01     59700.0\n",
      "        2008-01-01     47200.0\n",
      "Name: BASE_SALARY, dtype: float64\n"
     ]
    }
   ],
   "source": [
    "# 合起來可以對性別與年份分組\n",
    "print(employee\n",
    "        .groupby('GENDER')\n",
    "        .resample('10YS')\n",
    "        ['BASE_SALARY']\n",
    "        .mean()\n",
    "        .round(-2))"
   ]
  },
  {
   "cell_type": "code",
   "execution_count": 16,
   "id": "3d9ca517",
   "metadata": {},
   "outputs": [
    {
     "name": "stdout",
     "output_type": "stream",
     "text": [
      "GENDER       Female      Male\n",
      "HIRE_DATE                    \n",
      "1958-01-01      NaN   81200.0\n",
      "1968-01-01      NaN  106500.0\n",
      "1978-01-01  57100.0   72300.0\n",
      "1988-01-01  57100.0   64600.0\n",
      "1998-01-01  54700.0   59700.0\n",
      "2008-01-01  47300.0   47200.0\n"
     ]
    }
   ],
   "source": [
    "# 同時groupby 才正確\n",
    "print(employee\n",
    "        .groupby(['GENDER',pd.Grouper(freq='10YS')])\n",
    "        ['BASE_SALARY']\n",
    "        .mean()\n",
    "        .round(-2)\n",
    "        .unstack('GENDER'))"
   ]
  },
  {
   "cell_type": "code",
   "execution_count": 17,
   "id": "d6a146c3",
   "metadata": {},
   "outputs": [
    {
     "name": "stdout",
     "output_type": "stream",
     "text": [
      "GENDER      Female      Male\n",
      "HIRE_DATE                   \n",
      "1958-1967      NaN   81200.0\n",
      "1968-1977      NaN  106500.0\n",
      "1978-1987  57100.0   72300.0\n",
      "1988-1997  57100.0   64600.0\n",
      "1998-2007  54700.0   59700.0\n",
      "2008-2017  47300.0   47200.0\n"
     ]
    }
   ],
   "source": [
    "# 修改索引呈現方式 變成區間\n",
    "sal_final =(employee\n",
    "                .groupby(['GENDER',pd.Grouper(freq='10YS')])\n",
    "                ['BASE_SALARY']\n",
    "                .mean()\n",
    "                .round(-2)\n",
    "                .unstack('GENDER'))\n",
    "\n",
    "years = sal_final.index.year\n",
    "years_right = years + 9\n",
    "sal_final.index = years.astype(str) + '-' + years_right.astype(str)\n",
    "\n",
    "print(sal_final)"
   ]
  },
  {
   "cell_type": "code",
   "execution_count": 19,
   "id": "54e41fa4",
   "metadata": {},
   "outputs": [
    {
     "name": "stdout",
     "output_type": "stream",
     "text": [
      "GENDER             Female     Male\n",
      "(1958.0, 1970.0]      NaN  85400.0\n",
      "(1970.0, 1981.0]  54400.0  72700.0\n",
      "(1981.0, 1993.0]  55700.0  69300.0\n",
      "(1993.0, 2004.0]  56500.0  62300.0\n",
      "(2004.0, 2016.0]  49100.0  49800.0\n"
     ]
    }
   ],
   "source": [
    "# 用cut() 分bins\n",
    "cuts = pd.cut(employee.index.year, bins=5, precision=0)\n",
    "\n",
    "print(employee\n",
    "        .groupby([cuts, 'GENDER'], observed=False)\n",
    "        ['BASE_SALARY']\n",
    "        .mean()\n",
    "        .round(-2)\n",
    "        .unstack('GENDER'))"
   ]
  }
 ],
 "metadata": {
  "kernelspec": {
   "display_name": "Python 3",
   "language": "python",
   "name": "python3"
  },
  "language_info": {
   "codemirror_mode": {
    "name": "ipython",
    "version": 3
   },
   "file_extension": ".py",
   "mimetype": "text/x-python",
   "name": "python",
   "nbconvert_exporter": "python",
   "pygments_lexer": "ipython3",
   "version": "3.13.0"
  }
 },
 "nbformat": 4,
 "nbformat_minor": 5
}

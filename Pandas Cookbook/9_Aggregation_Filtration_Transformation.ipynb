{
 "cells": [
  {
   "cell_type": "code",
   "execution_count": 2,
   "id": "021add21",
   "metadata": {},
   "outputs": [],
   "source": [
    "import pandas as pd\n",
    "import numpy as np"
   ]
  },
  {
   "cell_type": "markdown",
   "id": "daead211",
   "metadata": {},
   "source": [
    "## 9.1 進行簡單的分組及聚合運算"
   ]
  },
  {
   "cell_type": "code",
   "execution_count": 2,
   "id": "e04251aa",
   "metadata": {},
   "outputs": [
    {
     "name": "stdout",
     "output_type": "stream",
     "text": [
      "   MONTH  DAY  WEEKDAY AIRLINE ORG_AIR DEST_AIR  SCHED_DEP  DEP_DELAY  \\\n",
      "0      1    1        4      WN     LAX      SLC       1625       58.0   \n",
      "1      1    1        4      UA     DEN      IAD        823        7.0   \n",
      "2      1    1        4      MQ     DFW      VPS       1305       36.0   \n",
      "3      1    1        4      AA     DFW      DCA       1555        7.0   \n",
      "4      1    1        4      WN     LAX      MCI       1720       48.0   \n",
      "\n",
      "   AIR_TIME  DIST  SCHED_ARR  ARR_DELAY  DIVERTED  CANCELLED  \n",
      "0      94.0   590       1905       65.0         0          0  \n",
      "1     154.0  1452       1333      -13.0         0          0  \n",
      "2      85.0   641       1453       35.0         0          0  \n",
      "3     126.0  1192       1935       -7.0         0          0  \n",
      "4     166.0  1363       2225       39.0         0          0  \n"
     ]
    }
   ],
   "source": [
    "# 載入資料集\n",
    "flights = pd.read_csv('../../data/flights.csv')\n",
    "print(flights.head())"
   ]
  },
  {
   "cell_type": "code",
   "execution_count": 3,
   "id": "606076df",
   "metadata": {},
   "outputs": [
    {
     "name": "stdout",
     "output_type": "stream",
     "text": [
      "         ARR_DELAY\n",
      "AIRLINE           \n",
      "AA        5.542661\n",
      "AS       -0.833333\n",
      "B6        8.692593\n",
      "DL        0.339691\n",
      "EV        7.034580\n",
      "F9       13.630651\n",
      "HA        4.972973\n",
      "MQ        6.860591\n",
      "NK       18.436070\n",
      "OO        7.593463\n",
      "UA        7.765755\n",
      "US        1.681105\n",
      "VX        5.348884\n",
      "WN        6.397353\n"
     ]
    }
   ],
   "source": [
    "# 查詢每家航空的平均延誤時間\n",
    "print(flights.groupby('AIRLINE')\n",
    "             .agg({'ARR_DELAY':'mean'}))"
   ]
  },
  {
   "cell_type": "code",
   "execution_count": 4,
   "id": "d28555e7",
   "metadata": {},
   "outputs": [
    {
     "name": "stdout",
     "output_type": "stream",
     "text": [
      "AIRLINE\n",
      "AA     5.542661\n",
      "AS    -0.833333\n",
      "B6     8.692593\n",
      "DL     0.339691\n",
      "EV     7.034580\n",
      "F9    13.630651\n",
      "HA     4.972973\n",
      "MQ     6.860591\n",
      "NK    18.436070\n",
      "OO     7.593463\n",
      "UA     7.765755\n",
      "US     1.681105\n",
      "VX     5.348884\n",
      "WN     6.397353\n",
      "Name: ARR_DELAY, dtype: float64\n"
     ]
    }
   ],
   "source": [
    "# 也可以用指定欄位的方式處理\n",
    "print(flights.groupby('AIRLINE')['ARR_DELAY']\n",
    "             .agg('mean'))"
   ]
  },
  {
   "cell_type": "code",
   "execution_count": 5,
   "id": "bceb76ab",
   "metadata": {},
   "outputs": [
    {
     "name": "stdout",
     "output_type": "stream",
     "text": [
      "AIRLINE\n",
      "AA     5.542661\n",
      "AS    -0.833333\n",
      "B6     8.692593\n",
      "DL     0.339691\n",
      "EV     7.034580\n",
      "F9    13.630651\n",
      "HA     4.972973\n",
      "MQ     6.860591\n",
      "NK    18.436070\n",
      "OO     7.593463\n",
      "UA     7.765755\n",
      "US     1.681105\n",
      "VX     5.348884\n",
      "WN     6.397353\n",
      "Name: ARR_DELAY, dtype: float64\n"
     ]
    },
    {
     "name": "stderr",
     "output_type": "stream",
     "text": [
      "C:\\Users\\coffi\\AppData\\Local\\Temp\\ipykernel_23124\\3713595697.py:3: FutureWarning: The provided callable <function mean at 0x0000028EC66AAB60> is currently using SeriesGroupBy.mean. In a future version of pandas, the provided callable will be used directly. To keep current behavior pass the string \"mean\" instead.\n",
      "  .agg(np.mean))\n"
     ]
    }
   ],
   "source": [
    "# 除了給字串 也可以給numpy 的聚合函式\n",
    "print(flights.groupby('AIRLINE')['ARR_DELAY']\n",
    "             .agg(np.mean))"
   ]
  },
  {
   "cell_type": "code",
   "execution_count": 6,
   "id": "b1fcc9f4",
   "metadata": {},
   "outputs": [
    {
     "name": "stdout",
     "output_type": "stream",
     "text": [
      "AIRLINE\n",
      "AA     5.542661\n",
      "AS    -0.833333\n",
      "B6     8.692593\n",
      "DL     0.339691\n",
      "EV     7.034580\n",
      "F9    13.630651\n",
      "HA     4.972973\n",
      "MQ     6.860591\n",
      "NK    18.436070\n",
      "OO     7.593463\n",
      "UA     7.765755\n",
      "US     1.681105\n",
      "VX     5.348884\n",
      "WN     6.397353\n",
      "Name: ARR_DELAY, dtype: float64\n"
     ]
    }
   ],
   "source": [
    "# 不用agg 也可以直接用聚合函式\n",
    "print(flights.groupby('AIRLINE')['ARR_DELAY']\n",
    "             .mean())"
   ]
  },
  {
   "cell_type": "markdown",
   "id": "fefced5d",
   "metadata": {},
   "source": [
    "## 9.2 對多個欄位執行分組及聚合運算"
   ]
  },
  {
   "cell_type": "code",
   "execution_count": 8,
   "id": "50b74a41",
   "metadata": {},
   "outputs": [
    {
     "name": "stdout",
     "output_type": "stream",
     "text": [
      "AIRLINE  WEEKDAY\n",
      "AA       1          41\n",
      "         2           9\n",
      "         3          16\n",
      "         4          20\n",
      "         5          18\n",
      "                    ..\n",
      "WN       3          18\n",
      "         4          10\n",
      "         5           7\n",
      "         6          10\n",
      "         7           7\n",
      "Name: CANCELLED, Length: 98, dtype: int64\n"
     ]
    }
   ],
   "source": [
    "# 取得各航空各星期航班取消數目\n",
    "print(flights.groupby(['AIRLINE', 'WEEKDAY'])\n",
    "             ['CANCELLED']\n",
    "             .agg('sum'))"
   ]
  },
  {
   "cell_type": "code",
   "execution_count": 14,
   "id": "32ca2e01",
   "metadata": {},
   "outputs": [
    {
     "name": "stdout",
     "output_type": "stream",
     "text": [
      "                CANCELLED           DIVERTED          \n",
      "                      sum      mean      sum      mean\n",
      "AIRLINE WEEKDAY                                       \n",
      "AA      1              41  0.032106        6  0.004699\n",
      "        2               9  0.007341        2  0.001631\n",
      "        3              16  0.011949        2  0.001494\n",
      "        4              20  0.015004        5  0.003751\n",
      "        5              18  0.014151        1  0.000786\n",
      "...                   ...       ...      ...       ...\n",
      "WN      3              18  0.014118        2  0.001569\n",
      "        4              10  0.007911        4  0.003165\n",
      "        5               7  0.005828        0  0.000000\n",
      "        6              10  0.010132        3  0.003040\n",
      "        7               7  0.006066        3  0.002600\n",
      "\n",
      "[98 rows x 4 columns]\n"
     ]
    }
   ],
   "source": [
    "# 取得各航空各星期航班取消與更改的數目與百分比\n",
    "print(flights.groupby(['AIRLINE', 'WEEKDAY'])\n",
    "             [['CANCELLED', 'DIVERTED']]\n",
    "             .agg(['sum', 'mean']))"
   ]
  },
  {
   "cell_type": "code",
   "execution_count": 15,
   "id": "55405e15",
   "metadata": {},
   "outputs": [
    {
     "name": "stdout",
     "output_type": "stream",
     "text": [
      "                 CANCELLED                   AIR_TIME            \n",
      "                       sum      mean size        mean         var\n",
      "ORG_AIR DEST_AIR                                                 \n",
      "ATL     ABE              0  0.000000   31   96.387097   45.778495\n",
      "        ABQ              0  0.000000   16  170.500000   87.866667\n",
      "        ABY              0  0.000000   19   28.578947    6.590643\n",
      "        ACY              0  0.000000    6   91.333333   11.466667\n",
      "        AEX              0  0.000000   40   78.725000   47.332692\n",
      "...                    ...       ...  ...         ...         ...\n",
      "SFO     SNA              4  0.032787  122   64.059322   11.338331\n",
      "        STL              0  0.000000   20  198.900000  101.042105\n",
      "        SUN              0  0.000000   10   78.000000   25.777778\n",
      "        TUS              0  0.000000   20  100.200000   35.221053\n",
      "        XNA              0  0.000000    2  173.500000    0.500000\n",
      "\n",
      "[1130 rows x 5 columns]\n"
     ]
    }
   ],
   "source": [
    "# 根據不同出發地與目的地 找出航班總數 取消的航班數和百分比 以及飛行時間的平均數與變異數\n",
    "print(flights.groupby(['ORG_AIR', 'DEST_AIR'])\n",
    "             .agg({'CANCELLED':['sum', 'mean', 'size'],\n",
    "                   'AIR_TIME':['mean', 'var']}))"
   ]
  },
  {
   "cell_type": "code",
   "execution_count": 4,
   "id": "11c9916c",
   "metadata": {},
   "outputs": [
    {
     "name": "stdout",
     "output_type": "stream",
     "text": [
      "                  sum_cancelled  mean_cancelled  size_cancelled  mean_air  \\\n",
      "ORG_AIR DEST_AIR                                                            \n",
      "ATL     ABE                   0        0.000000              31    2988.0   \n",
      "        ABQ                   0        0.000000              16    2728.0   \n",
      "        ABY                   0        0.000000              19     543.0   \n",
      "        ACY                   0        0.000000               6     548.0   \n",
      "        AEX                   0        0.000000              40    3149.0   \n",
      "...                         ...             ...             ...       ...   \n",
      "SFO     SNA                   4        0.032787             122    7559.0   \n",
      "        STL                   0        0.000000              20    3978.0   \n",
      "        SUN                   0        0.000000              10     780.0   \n",
      "        TUS                   0        0.000000              20    2004.0   \n",
      "        XNA                   0        0.000000               2     347.0   \n",
      "\n",
      "                  var_time_air  \n",
      "ORG_AIR DEST_AIR                \n",
      "ATL     ABE          45.778495  \n",
      "        ABQ          87.866667  \n",
      "        ABY           6.590643  \n",
      "        ACY          11.466667  \n",
      "        AEX          47.332692  \n",
      "...                        ...  \n",
      "SFO     SNA          11.338331  \n",
      "        STL         101.042105  \n",
      "        SUN          25.777778  \n",
      "        TUS          35.221053  \n",
      "        XNA           0.500000  \n",
      "\n",
      "[1130 rows x 5 columns]\n"
     ]
    }
   ],
   "source": [
    "# named aggregation 物件\n",
    "print(flights.groupby(['ORG_AIR', 'DEST_AIR'])\n",
    "             .agg(sum_cancelled= pd.NamedAgg(column='CANCELLED', aggfunc='sum'),\n",
    "                  mean_cancelled= pd.NamedAgg(column='CANCELLED', aggfunc='mean'),\n",
    "                  size_cancelled= pd.NamedAgg(column='CANCELLED', aggfunc='size'),\n",
    "                  mean_air= pd.NamedAgg(column='AIR_TIME', aggfunc='sum'),\n",
    "                  var_time_air= pd.NamedAgg(column='AIR_TIME', aggfunc='var'),\n",
    "                  ))"
   ]
  },
  {
   "cell_type": "code",
   "execution_count": 5,
   "id": "2a33372e",
   "metadata": {},
   "outputs": [
    {
     "name": "stdout",
     "output_type": "stream",
     "text": [
      "MultiIndex([('CANCELLED',  'sum'),\n",
      "            ('CANCELLED', 'mean'),\n",
      "            ('CANCELLED', 'size'),\n",
      "            ( 'AIR_TIME', 'mean'),\n",
      "            ( 'AIR_TIME',  'var')],\n",
      "           )\n"
     ]
    }
   ],
   "source": [
    "# 取出index\n",
    "res = (flights.groupby(['ORG_AIR', 'DEST_AIR'])\n",
    "             .agg({'CANCELLED':['sum', 'mean', 'size'],\n",
    "                   'AIR_TIME':['mean', 'var']}))\n",
    "\n",
    "print(res.columns)"
   ]
  },
  {
   "cell_type": "code",
   "execution_count": 6,
   "id": "e5d63e16",
   "metadata": {},
   "outputs": [
    {
     "name": "stdout",
     "output_type": "stream",
     "text": [
      "Index([ ('CANCELLED', 'sum'), ('CANCELLED', 'mean'), ('CANCELLED', 'size'),\n",
      "        ('AIR_TIME', 'mean'),   ('AIR_TIME', 'var')],\n",
      "      dtype='object')\n"
     ]
    }
   ],
   "source": [
    "# 壓平多重索引\n",
    "res_flat_column = res.columns.to_flat_index()\n",
    "print(res_flat_column)"
   ]
  },
  {
   "cell_type": "code",
   "execution_count": 7,
   "id": "5c59495b",
   "metadata": {},
   "outputs": [
    {
     "name": "stdout",
     "output_type": "stream",
     "text": [
      "                  CANCELLED_sum  CANCELLED_mean  CANCELLED_size  \\\n",
      "ORG_AIR DEST_AIR                                                  \n",
      "ATL     ABE                   0        0.000000              31   \n",
      "        ABQ                   0        0.000000              16   \n",
      "        ABY                   0        0.000000              19   \n",
      "        ACY                   0        0.000000               6   \n",
      "        AEX                   0        0.000000              40   \n",
      "...                         ...             ...             ...   \n",
      "SFO     SNA                   4        0.032787             122   \n",
      "        STL                   0        0.000000              20   \n",
      "        SUN                   0        0.000000              10   \n",
      "        TUS                   0        0.000000              20   \n",
      "        XNA                   0        0.000000               2   \n",
      "\n",
      "                  AIR_TIME_mean  AIR_TIME_var  \n",
      "ORG_AIR DEST_AIR                               \n",
      "ATL     ABE           96.387097     45.778495  \n",
      "        ABQ          170.500000     87.866667  \n",
      "        ABY           28.578947      6.590643  \n",
      "        ACY           91.333333     11.466667  \n",
      "        AEX           78.725000     47.332692  \n",
      "...                         ...           ...  \n",
      "SFO     SNA           64.059322     11.338331  \n",
      "        STL          198.900000    101.042105  \n",
      "        SUN           78.000000     25.777778  \n",
      "        TUS          100.200000     35.221053  \n",
      "        XNA          173.500000      0.500000  \n",
      "\n",
      "[1130 rows x 5 columns]\n"
     ]
    }
   ],
   "source": [
    "# 重設index\n",
    "res.columns = ['_'.join(x) for x in res_flat_column]\n",
    "print(res)"
   ]
  },
  {
   "cell_type": "code",
   "execution_count": 8,
   "id": "6deb39cd",
   "metadata": {},
   "outputs": [
    {
     "name": "stdout",
     "output_type": "stream",
     "text": [
      "                  CANCELLED_sum  CANCELLED_mean  CANCELLED_size  \\\n",
      "ORG_AIR DEST_AIR                                                  \n",
      "ATL     ABE                   0        0.000000              31   \n",
      "        ABQ                   0        0.000000              16   \n",
      "        ABY                   0        0.000000              19   \n",
      "        ACY                   0        0.000000               6   \n",
      "        AEX                   0        0.000000              40   \n",
      "...                         ...             ...             ...   \n",
      "SFO     SNA                   4        0.032787             122   \n",
      "        STL                   0        0.000000              20   \n",
      "        SUN                   0        0.000000              10   \n",
      "        TUS                   0        0.000000              20   \n",
      "        XNA                   0        0.000000               2   \n",
      "\n",
      "                  AIR_TIME_mean  AIR_TIME_var  \n",
      "ORG_AIR DEST_AIR                               \n",
      "ATL     ABE           96.387097     45.778495  \n",
      "        ABQ          170.500000     87.866667  \n",
      "        ABY           28.578947      6.590643  \n",
      "        ACY           91.333333     11.466667  \n",
      "        AEX           78.725000     47.332692  \n",
      "...                         ...           ...  \n",
      "SFO     SNA           64.059322     11.338331  \n",
      "        STL          198.900000    101.042105  \n",
      "        SUN           78.000000     25.777778  \n",
      "        TUS          100.200000     35.221053  \n",
      "        XNA          173.500000      0.500000  \n",
      "\n",
      "[1130 rows x 5 columns]\n"
     ]
    }
   ],
   "source": [
    "# 整合的寫法\n",
    "def flatten_cols(df):\n",
    "    df.columns = ['_'.join(x) for x in df.columns.to_flat_index()]\n",
    "    return df\n",
    "\n",
    "res = (flights.groupby(['ORG_AIR', 'DEST_AIR'])\n",
    "             .agg({'CANCELLED':['sum', 'mean', 'size'],\n",
    "                   'AIR_TIME':['mean', 'var']})\n",
    "        .pipe(flatten_cols))\n",
    "\n",
    "print(res)"
   ]
  },
  {
   "cell_type": "code",
   "execution_count": 10,
   "id": "180a9f1f",
   "metadata": {},
   "outputs": [
    {
     "name": "stdout",
     "output_type": "stream",
     "text": [
      "                 CANCELLED              AIR_TIME           \n",
      "                       sum mean size        mean        var\n",
      "ORG_AIR DEST_AIR                                           \n",
      "ATL     ABE              0  0.0   31   96.387097  45.778495\n",
      "        ABI              0  NaN    0         NaN        NaN\n",
      "        ABQ              0  0.0   16  170.500000  87.866667\n",
      "        ABR              0  NaN    0         NaN        NaN\n",
      "        ABY              0  0.0   19   28.578947   6.590643\n",
      "...                    ...  ...  ...         ...        ...\n",
      "SFO     TYS              0  NaN    0         NaN        NaN\n",
      "        VLD              0  NaN    0         NaN        NaN\n",
      "        VPS              0  NaN    0         NaN        NaN\n",
      "        XNA              0  0.0    2  173.500000   0.500000\n",
      "        YUM              0  NaN    0         NaN        NaN\n",
      "\n",
      "[2710 rows x 5 columns]\n",
      "                  CANCELLED_sum  CANCELLED_mean  CANCELLED_size  \\\n",
      "ORG_AIR DEST_AIR                                                  \n",
      "ATL     ABE                   0        0.000000              31   \n",
      "        ABQ                   0        0.000000              16   \n",
      "        ABY                   0        0.000000              19   \n",
      "        ACY                   0        0.000000               6   \n",
      "        AEX                   0        0.000000              40   \n",
      "...                         ...             ...             ...   \n",
      "SFO     SNA                   4        0.032787             122   \n",
      "        STL                   0        0.000000              20   \n",
      "        SUN                   0        0.000000              10   \n",
      "        TUS                   0        0.000000              20   \n",
      "        XNA                   0        0.000000               2   \n",
      "\n",
      "                  AIR_TIME_mean  AIR_TIME_var  \n",
      "ORG_AIR DEST_AIR                               \n",
      "ATL     ABE           96.387097     45.778495  \n",
      "        ABQ          170.500000     87.866667  \n",
      "        ABY           28.578947      6.590643  \n",
      "        ACY           91.333333     11.466667  \n",
      "        AEX           78.725000     47.332692  \n",
      "...                         ...           ...  \n",
      "SFO     SNA           64.059322     11.338331  \n",
      "        STL          198.900000    101.042105  \n",
      "        SUN           78.000000     25.777778  \n",
      "        TUS          100.200000     35.221053  \n",
      "        XNA          173.500000      0.500000  \n",
      "\n",
      "[1130 rows x 5 columns]\n"
     ]
    },
    {
     "name": "stderr",
     "output_type": "stream",
     "text": [
      "C:\\Users\\coffi\\AppData\\Local\\Temp\\ipykernel_916\\4069297035.py:3: FutureWarning: The default of observed=False is deprecated and will be changed to True in a future version of pandas. Pass observed=False to retain current behavior or observed=True to adopt the future default and silence this warning.\n",
      "  .groupby(['ORG_AIR', 'DEST_AIR'])\n"
     ]
    }
   ],
   "source": [
    "# category 型別 會有笛卡爾積\n",
    "print(flights.assign(ORG_AIR=flights.ORG_AIR.astype('category'))\n",
    "             .groupby(['ORG_AIR', 'DEST_AIR'])\n",
    "             .agg({'CANCELLED':['sum', 'mean', 'size'],\n",
    "                   'AIR_TIME':['mean', 'var']}))\n",
    "print(res)"
   ]
  },
  {
   "cell_type": "code",
   "execution_count": 11,
   "id": "111d8fec",
   "metadata": {},
   "outputs": [
    {
     "name": "stdout",
     "output_type": "stream",
     "text": [
      "                 CANCELLED                   AIR_TIME            \n",
      "                       sum      mean size        mean         var\n",
      "ORG_AIR DEST_AIR                                                 \n",
      "ATL     ABE              0  0.000000   31   96.387097   45.778495\n",
      "        ABQ              0  0.000000   16  170.500000   87.866667\n",
      "        ABY              0  0.000000   19   28.578947    6.590643\n",
      "        ACY              0  0.000000    6   91.333333   11.466667\n",
      "        AEX              0  0.000000   40   78.725000   47.332692\n",
      "...                    ...       ...  ...         ...         ...\n",
      "SFO     SNA              4  0.032787  122   64.059322   11.338331\n",
      "        STL              0  0.000000   20  198.900000  101.042105\n",
      "        SUN              0  0.000000   10   78.000000   25.777778\n",
      "        TUS              0  0.000000   20  100.200000   35.221053\n",
      "        XNA              0  0.000000    2  173.500000    0.500000\n",
      "\n",
      "[1130 rows x 5 columns]\n",
      "                  CANCELLED_sum  CANCELLED_mean  CANCELLED_size  \\\n",
      "ORG_AIR DEST_AIR                                                  \n",
      "ATL     ABE                   0        0.000000              31   \n",
      "        ABQ                   0        0.000000              16   \n",
      "        ABY                   0        0.000000              19   \n",
      "        ACY                   0        0.000000               6   \n",
      "        AEX                   0        0.000000              40   \n",
      "...                         ...             ...             ...   \n",
      "SFO     SNA                   4        0.032787             122   \n",
      "        STL                   0        0.000000              20   \n",
      "        SUN                   0        0.000000              10   \n",
      "        TUS                   0        0.000000              20   \n",
      "        XNA                   0        0.000000               2   \n",
      "\n",
      "                  AIR_TIME_mean  AIR_TIME_var  \n",
      "ORG_AIR DEST_AIR                               \n",
      "ATL     ABE           96.387097     45.778495  \n",
      "        ABQ          170.500000     87.866667  \n",
      "        ABY           28.578947      6.590643  \n",
      "        ACY           91.333333     11.466667  \n",
      "        AEX           78.725000     47.332692  \n",
      "...                         ...           ...  \n",
      "SFO     SNA           64.059322     11.338331  \n",
      "        STL          198.900000    101.042105  \n",
      "        SUN           78.000000     25.777778  \n",
      "        TUS          100.200000     35.221053  \n",
      "        XNA          173.500000      0.500000  \n",
      "\n",
      "[1130 rows x 5 columns]\n"
     ]
    }
   ],
   "source": [
    "# category 型別 會有笛卡爾積 observed 改為True\n",
    "print(flights.assign(ORG_AIR=flights.ORG_AIR.astype('category'))\n",
    "             .groupby(['ORG_AIR', 'DEST_AIR'], observed=True)\n",
    "             .agg({'CANCELLED':['sum', 'mean', 'size'],\n",
    "                   'AIR_TIME':['mean', 'var']}))\n",
    "print(res)"
   ]
  },
  {
   "cell_type": "markdown",
   "id": "61bdd7a8",
   "metadata": {},
   "source": [
    "## 9.3 分組後刪除MultiIndex"
   ]
  },
  {
   "cell_type": "code",
   "execution_count": 12,
   "id": "e9603480",
   "metadata": {},
   "outputs": [],
   "source": [
    "# 載入資料集\n",
    "flights = pd.read_csv('../../data/flights.csv')"
   ]
  },
  {
   "cell_type": "code",
   "execution_count": 13,
   "id": "e48ee4cf",
   "metadata": {},
   "outputs": [
    {
     "name": "stdout",
     "output_type": "stream",
     "text": [
      "                    DIST       ARR_DELAY     \n",
      "                     sum  mean       min  max\n",
      "AIRLINE WEEKDAY                              \n",
      "AA      1        1455386  1139       -60  551\n",
      "        2        1358256  1107       -52  725\n",
      "        3        1496665  1117       -45  473\n",
      "        4        1452394  1089       -46  349\n",
      "        5        1427749  1122       -41  732\n",
      "...                  ...   ...       ...  ...\n",
      "WN      3         997213   782       -38  262\n",
      "        4        1024854   810       -52  284\n",
      "        5         981036   816       -44  244\n",
      "        6         823946   834       -41  290\n",
      "        7         945679   819       -45  261\n",
      "\n",
      "[98 rows x 4 columns]\n"
     ]
    }
   ],
   "source": [
    "# 找出各星期每個航空公司的總里程數與平均里程數 以及最大與最小延誤時間\n",
    "airline_info = (flights.groupby(['AIRLINE', 'WEEKDAY'])\n",
    "                       .agg({'DIST':['sum', 'mean'],\n",
    "                             'ARR_DELAY':['min', 'max']})\n",
    "                        .astype(int))\n",
    "print(airline_info)"
   ]
  },
  {
   "cell_type": "code",
   "execution_count": 14,
   "id": "019e572f",
   "metadata": {},
   "outputs": [
    {
     "name": "stdout",
     "output_type": "stream",
     "text": [
      "Index(['DIST', 'DIST', 'ARR_DELAY', 'ARR_DELAY'], dtype='object')\n",
      "Index(['sum', 'mean', 'min', 'max'], dtype='object')\n"
     ]
    }
   ],
   "source": [
    "# 查看最外層名稱\n",
    "print(airline_info.columns.get_level_values(0))\n",
    "\n",
    "# 查看第二層名稱\n",
    "print(airline_info.columns.get_level_values(1))"
   ]
  },
  {
   "cell_type": "code",
   "execution_count": 15,
   "id": "2dc25a49",
   "metadata": {},
   "outputs": [
    {
     "name": "stdout",
     "output_type": "stream",
     "text": [
      "                 DIST_sum  DIST_mean  ARR_DELAY_min  ARR_DELAY_max\n",
      "AIRLINE WEEKDAY                                                   \n",
      "AA      1         1455386       1139            -60            551\n",
      "        2         1358256       1107            -52            725\n",
      "        3         1496665       1117            -45            473\n",
      "        4         1452394       1089            -46            349\n",
      "        5         1427749       1122            -41            732\n",
      "...                   ...        ...            ...            ...\n",
      "WN      3          997213        782            -38            262\n",
      "        4         1024854        810            -52            284\n",
      "        5          981036        816            -44            244\n",
      "        6          823946        834            -41            290\n",
      "        7          945679        819            -45            261\n",
      "\n",
      "[98 rows x 4 columns]\n"
     ]
    }
   ],
   "source": [
    "# 攤平欄位名稱\n",
    "airline_info.columns = ['_'.join(x) for x in airline_info.columns.to_flat_index()]\n",
    "\n",
    "print(airline_info)"
   ]
  },
  {
   "cell_type": "code",
   "execution_count": 16,
   "id": "3cad0fc6",
   "metadata": {},
   "outputs": [
    {
     "name": "stdout",
     "output_type": "stream",
     "text": [
      "   AIRLINE  WEEKDAY  DIST_sum  DIST_mean  ARR_DELAY_min  ARR_DELAY_max\n",
      "0       AA        1   1455386       1139            -60            551\n",
      "1       AA        2   1358256       1107            -52            725\n",
      "2       AA        3   1496665       1117            -45            473\n",
      "3       AA        4   1452394       1089            -46            349\n",
      "4       AA        5   1427749       1122            -41            732\n",
      "..     ...      ...       ...        ...            ...            ...\n",
      "93      WN        3    997213        782            -38            262\n",
      "94      WN        4   1024854        810            -52            284\n",
      "95      WN        5    981036        816            -44            244\n",
      "96      WN        6    823946        834            -41            290\n",
      "97      WN        7    945679        819            -45            261\n",
      "\n",
      "[98 rows x 6 columns]\n"
     ]
    }
   ],
   "source": [
    "# 使用reset_index()\n",
    "print(airline_info.reset_index())"
   ]
  },
  {
   "cell_type": "code",
   "execution_count": 19,
   "id": "1147dc04",
   "metadata": {},
   "outputs": [
    {
     "name": "stdout",
     "output_type": "stream",
     "text": [
      "   AIRLINE  WEEKDAY  dist_sum  dist_mean  arr_delay_min  arr_delay_max\n",
      "0       AA        1   1455386       1139            -60            551\n",
      "1       AA        2   1358256       1107            -52            725\n",
      "2       AA        3   1496665       1117            -45            473\n",
      "3       AA        4   1452394       1089            -46            349\n",
      "4       AA        5   1427749       1122            -41            732\n",
      "..     ...      ...       ...        ...            ...            ...\n",
      "93      WN        3    997213        782            -38            262\n",
      "94      WN        4   1024854        810            -52            284\n",
      "95      WN        5    981036        816            -44            244\n",
      "96      WN        6    823946        834            -41            290\n",
      "97      WN        7    945679        819            -45            261\n",
      "\n",
      "[98 rows x 6 columns]\n"
     ]
    }
   ],
   "source": [
    "# 使用NamedAgg() 扁平化的欄位\n",
    "print(flights.groupby(['AIRLINE', 'WEEKDAY'])\n",
    "             .agg(dist_sum= pd.NamedAgg(column='DIST', aggfunc='sum'),\n",
    "                  dist_mean= pd.NamedAgg(column='DIST', aggfunc='mean'),\n",
    "                  arr_delay_min= pd.NamedAgg(column='ARR_DELAY', aggfunc='min'),\n",
    "                  arr_delay_max= pd.NamedAgg(column='ARR_DELAY', aggfunc='max'))\n",
    "                  .astype(int)\n",
    "                  .reset_index())"
   ]
  },
  {
   "cell_type": "code",
   "execution_count": 20,
   "id": "a21b8acb",
   "metadata": {},
   "outputs": [
    {
     "name": "stdout",
     "output_type": "stream",
     "text": [
      "   AIRLINE    DIST\n",
      "0       AA  1114.0\n",
      "1       AS  1066.0\n",
      "2       B6  1772.0\n",
      "3       DL   866.0\n",
      "4       EV   460.0\n",
      "5       F9   970.0\n",
      "6       HA  2615.0\n",
      "7       MQ   404.0\n",
      "8       NK  1047.0\n",
      "9       OO   511.0\n",
      "10      UA  1231.0\n",
      "11      US  1181.0\n",
      "12      VX  1240.0\n",
      "13      WN   810.0\n"
     ]
    }
   ],
   "source": [
    "# 避免多重標籤的參數 as_index\n",
    "print(flights.groupby(['AIRLINE'], as_index=False)['DIST']\n",
    "             .agg('mean')\n",
    "             .round(0))"
   ]
  },
  {
   "cell_type": "markdown",
   "id": "1ecc1212",
   "metadata": {},
   "source": [
    "## 9.4 使用自訂的聚合函式來分組"
   ]
  },
  {
   "cell_type": "code",
   "execution_count": 21,
   "id": "00f60ae6",
   "metadata": {},
   "outputs": [],
   "source": [
    "# 載入資料集\n",
    "college = pd.read_csv('../../data/college.csv')"
   ]
  },
  {
   "cell_type": "code",
   "execution_count": 22,
   "id": "d5653ad4",
   "metadata": {},
   "outputs": [
    {
     "name": "stdout",
     "output_type": "stream",
     "text": [
      "          mean      std\n",
      "STABBR                 \n",
      "AK      2493.0   4052.0\n",
      "AL      2790.0   4658.0\n",
      "AR      1644.0   3143.0\n",
      "AS      1276.0      NaN\n",
      "AZ      4130.0  14894.0\n",
      "CA      3518.0   6709.0\n",
      "CO      2325.0   4670.0\n",
      "CT      1874.0   2871.0\n",
      "DC      2645.0   3225.0\n",
      "DE      2491.0   4503.0\n",
      "FL      2493.0   7033.0\n",
      "FM      2344.0      NaN\n",
      "GA      2643.0   4422.0\n",
      "GU      1894.0   1774.0\n",
      "HI      2361.0   2999.0\n",
      "IA      2294.0   5815.0\n",
      "ID      2096.0   4865.0\n",
      "IL      2189.0   4080.0\n",
      "IN      2654.0   8278.0\n",
      "KS      1861.0   3673.0\n",
      "KY      1991.0   3783.0\n",
      "LA      1660.0   3485.0\n",
      "MA      2023.0   3267.0\n",
      "MD      3003.0   5837.0\n",
      "ME      1437.0   1808.0\n",
      "MH      1078.0      NaN\n",
      "MI      2643.0   5356.0\n",
      "MN      2086.0   3580.0\n",
      "MO      1557.0   3569.0\n",
      "MP      1120.0      NaN\n",
      "MS      2499.0   3848.0\n",
      "MT      1471.0   3007.0\n",
      "NC      2447.0   4212.0\n",
      "ND      1460.0   2919.0\n",
      "NE      1932.0   3579.0\n",
      "NH      2060.0   4877.0\n",
      "NJ      2353.0   4480.0\n",
      "NM      2254.0   4566.0\n",
      "NV      2274.0   6144.0\n",
      "NY      2349.0   4421.0\n",
      "OH      1577.0   4101.0\n",
      "OK      1351.0   3280.0\n",
      "OR      2183.0   4952.0\n",
      "PA      1699.0   3793.0\n",
      "PR      1599.0   2913.0\n",
      "PW       602.0      NaN\n",
      "RI      3306.0   4609.0\n",
      "SC      2074.0   3778.0\n",
      "SD      1358.0   2069.0\n",
      "TN      1570.0   3279.0\n",
      "TX      2999.0   7363.0\n",
      "UT      3035.0   8056.0\n",
      "VA      2695.0   6707.0\n",
      "VI      1971.0      NaN\n",
      "VT      1513.0   2194.0\n",
      "WA      2271.0   4124.0\n",
      "WI      2655.0   4615.0\n",
      "WV      1758.0   5957.0\n",
      "WY      2244.0   2745.0\n"
     ]
    }
   ],
   "source": [
    "# 找出各州大學生人數的平均數和標準差\n",
    "print(college.groupby('STABBR')['UGDS']\n",
    "             .agg(['mean', 'std'])\n",
    "             .round(0))"
   ]
  },
  {
   "cell_type": "code",
   "execution_count": 23,
   "id": "3afe3a89",
   "metadata": {},
   "outputs": [
    {
     "name": "stdout",
     "output_type": "stream",
     "text": [
      "STABBR\n",
      "AK     2.6\n",
      "AL     5.8\n",
      "AR     6.3\n",
      "AS     NaN\n",
      "AZ     9.9\n",
      "CA     6.1\n",
      "CO     5.0\n",
      "CT     5.6\n",
      "DC     2.4\n",
      "DE     3.5\n",
      "FL     8.4\n",
      "FM     NaN\n",
      "GA     5.4\n",
      "GU     1.0\n",
      "HI     3.8\n",
      "IA     6.5\n",
      "ID     4.5\n",
      "IL     7.3\n",
      "IN     9.1\n",
      "KS     4.9\n",
      "KY     5.2\n",
      "LA     6.5\n",
      "MA     6.1\n",
      "MD     5.3\n",
      "ME     4.0\n",
      "MH     NaN\n",
      "MI     6.7\n",
      "MN     7.8\n",
      "MO     7.2\n",
      "MP     NaN\n",
      "MS     4.0\n",
      "MT     3.9\n",
      "NC     4.9\n",
      "ND     3.5\n",
      "NE     5.0\n",
      "NH     5.3\n",
      "NJ     7.1\n",
      "NM     4.5\n",
      "NV     4.7\n",
      "NY     8.2\n",
      "OH    10.3\n",
      "OK     5.9\n",
      "OR     5.3\n",
      "PA    10.1\n",
      "PR     6.0\n",
      "PW     NaN\n",
      "RI     2.9\n",
      "SC     6.0\n",
      "SD     4.2\n",
      "TN     6.0\n",
      "TX     7.7\n",
      "UT     5.1\n",
      "VA     7.0\n",
      "VI     NaN\n",
      "VT     3.8\n",
      "WA     6.6\n",
      "WI     5.8\n",
      "WV     7.2\n",
      "WY     2.8\n",
      "Name: UGDS, dtype: float64\n"
     ]
    }
   ],
   "source": [
    "# 找出各州中離均值最遠的值\n",
    "# 自訂z-score\n",
    "def max_deviation(s):\n",
    "    std_score = (s - s.mean()) / s.std()\n",
    "    return std_score.abs().max()\n",
    "\n",
    "# 使用自定義聚合函式\n",
    "print(college.groupby('STABBR')['UGDS']\n",
    "             .agg(max_deviation)\n",
    "             .round(1))"
   ]
  },
  {
   "cell_type": "code",
   "execution_count": 24,
   "id": "d752975c",
   "metadata": {},
   "outputs": [
    {
     "name": "stdout",
     "output_type": "stream",
     "text": [
      "        UGDS  SATVRMID  SATMTMID\n",
      "STABBR                          \n",
      "AK       2.6       NaN       NaN\n",
      "AL       5.8       1.6       1.8\n",
      "AR       6.3       2.2       2.3\n",
      "AS       NaN       NaN       NaN\n",
      "AZ       9.9       1.9       1.4\n",
      "CA       6.1       2.7       2.5\n",
      "CO       5.0       2.1       2.3\n",
      "CT       5.6       3.0       2.7\n",
      "DC       2.4       1.7       1.6\n",
      "DE       3.5       1.2       1.1\n",
      "FL       8.4       2.2       2.4\n",
      "FM       NaN       NaN       NaN\n",
      "GA       5.4       2.5       3.0\n",
      "GU       1.0       NaN       NaN\n",
      "HI       3.8       0.9       1.0\n",
      "IA       6.5       2.8       2.8\n",
      "ID       4.5       2.2       1.7\n",
      "IL       7.3       3.3       2.5\n",
      "IN       9.1       3.7       3.3\n",
      "KS       4.9       2.5       1.6\n",
      "KY       5.2       2.1       2.1\n",
      "LA       6.5       2.4       2.2\n",
      "MA       6.1       2.0       2.0\n",
      "MD       5.3       2.0       2.2\n",
      "ME       4.0       2.4       2.4\n",
      "MH       NaN       NaN       NaN\n",
      "MI       6.7       2.5       2.5\n",
      "MN       7.8       2.2       2.2\n",
      "MO       7.2       3.3       3.3\n",
      "MP       NaN       NaN       NaN\n",
      "MS       4.0       1.6       1.7\n",
      "MT       3.9       1.6       1.2\n",
      "NC       4.9       2.7       3.1\n",
      "ND       3.5       1.2       1.5\n",
      "NE       5.0       1.5       1.6\n",
      "NH       5.3       2.0       1.9\n",
      "NJ       7.1       3.2       2.7\n",
      "NM       4.5       1.4       1.6\n",
      "NV       4.7       1.2       1.1\n",
      "NY       8.2       2.7       2.4\n",
      "OH      10.3       2.5       2.6\n",
      "OK       5.9       1.7       1.8\n",
      "OR       5.3       3.1       2.8\n",
      "PA      10.1       3.3       3.3\n",
      "PR       6.0       1.3       1.2\n",
      "PW       NaN       NaN       NaN\n",
      "RI       2.9       1.3       1.2\n",
      "SC       6.0       1.9       2.2\n",
      "SD       4.2       1.8       2.0\n",
      "TN       6.0       2.9       3.1\n",
      "TX       7.7       3.2       3.4\n",
      "UT       5.1       1.3       1.2\n",
      "VA       7.0       2.4       2.3\n",
      "VI       NaN       NaN       NaN\n",
      "VT       3.8       1.9       1.9\n",
      "WA       6.6       2.2       2.0\n",
      "WI       5.8       2.4       2.2\n",
      "WV       7.2       1.7       2.1\n",
      "WY       2.8       NaN       NaN\n"
     ]
    }
   ],
   "source": [
    "# 將自定義函式用於多個欄位\n",
    "print(college.groupby('STABBR')\n",
    "             [['UGDS', 'SATVRMID', 'SATMTMID']]\n",
    "             .agg(max_deviation)\n",
    "             .round(1))"
   ]
  },
  {
   "cell_type": "code",
   "execution_count": 25,
   "id": "aef4bb28",
   "metadata": {},
   "outputs": [
    {
     "name": "stdout",
     "output_type": "stream",
     "text": [
      "        max_deviation    mean      std\n",
      "STABBR                                \n",
      "AK                2.6  2493.2   4051.7\n",
      "AL                5.8  2789.9   4657.9\n",
      "AR                6.3  1644.1   3142.8\n",
      "AS                NaN  1276.0      NaN\n",
      "AZ                9.9  4130.5  14893.6\n",
      "CA                6.1  3518.3   6708.6\n",
      "CO                5.0  2324.9   4670.3\n",
      "CT                5.6  1873.6   2871.3\n",
      "DC                2.4  2645.3   3224.8\n",
      "DE                3.5  2491.1   4503.4\n",
      "FL                8.4  2492.9   7033.4\n",
      "FM                NaN  2344.0      NaN\n",
      "GA                5.4  2642.6   4422.1\n",
      "GU                1.0  1894.0   1773.8\n",
      "HI                3.8  2360.7   2999.3\n",
      "IA                6.5  2293.9   5815.2\n",
      "ID                4.5  2096.2   4864.7\n",
      "IL                7.3  2189.1   4079.6\n",
      "IN                9.1  2653.6   8278.0\n",
      "KS                4.9  1861.3   3672.8\n",
      "KY                5.2  1991.0   3783.4\n",
      "LA                6.5  1660.2   3484.8\n",
      "MA                6.1  2023.1   3267.4\n",
      "MD                5.3  3003.1   5836.9\n",
      "ME                4.0  1436.6   1808.4\n",
      "MH                NaN  1078.0      NaN\n",
      "MI                6.7  2643.0   5356.3\n",
      "MN                7.8  2086.0   3579.8\n",
      "MO                7.2  1557.1   3569.1\n",
      "MP                NaN  1120.0      NaN\n",
      "MS                4.0  2498.6   3847.7\n",
      "MT                3.9  1470.7   3006.7\n",
      "NC                4.9  2446.9   4212.3\n",
      "ND                3.5  1460.1   2918.9\n",
      "NE                5.0  1932.3   3579.2\n",
      "NH                5.3  2060.5   4877.4\n",
      "NJ                7.1  2353.3   4479.9\n",
      "NM                4.5  2253.6   4565.8\n",
      "NV                4.7  2274.3   6144.3\n",
      "NY                8.2  2349.0   4421.4\n",
      "OH               10.3  1576.7   4100.6\n",
      "OK                5.9  1351.0   3279.9\n",
      "OR                5.3  2182.6   4951.9\n",
      "PA               10.1  1699.3   3793.4\n",
      "PR                6.0  1598.8   2912.9\n",
      "PW                NaN   602.0      NaN\n",
      "RI                2.9  3305.6   4608.6\n",
      "SC                6.0  2073.5   3778.5\n",
      "SD                4.2  1358.1   2069.4\n",
      "TN                6.0  1570.2   3279.2\n",
      "TX                7.7  2998.5   7362.5\n",
      "UT                5.1  3035.3   8055.7\n",
      "VA                7.0  2694.9   6706.8\n",
      "VI                NaN  1971.0      NaN\n",
      "VT                3.8  1512.6   2193.6\n",
      "WA                6.6  2271.2   4123.7\n",
      "WI                5.8  2655.5   4615.5\n",
      "WV                7.2  1758.1   5957.2\n",
      "WY                2.8  2244.4   2744.7\n"
     ]
    }
   ],
   "source": [
    "# 自訂的聚合函式 可以搭配內建聚合函式\n",
    "print(college.groupby('STABBR')['UGDS']\n",
    "             .agg([max_deviation, 'mean', 'std'])\n",
    "             .round(1))"
   ]
  },
  {
   "cell_type": "code",
   "execution_count": 26,
   "id": "9b9f6681",
   "metadata": {},
   "outputs": [
    {
     "name": "stdout",
     "output_type": "stream",
     "text": [
      "        Max Deviation    mean      std\n",
      "STABBR                                \n",
      "AK                2.6  2493.2   4051.7\n",
      "AL                5.8  2789.9   4657.9\n",
      "AR                6.3  1644.1   3142.8\n",
      "AS                NaN  1276.0      NaN\n",
      "AZ                9.9  4130.5  14893.6\n",
      "CA                6.1  3518.3   6708.6\n",
      "CO                5.0  2324.9   4670.3\n",
      "CT                5.6  1873.6   2871.3\n",
      "DC                2.4  2645.3   3224.8\n",
      "DE                3.5  2491.1   4503.4\n",
      "FL                8.4  2492.9   7033.4\n",
      "FM                NaN  2344.0      NaN\n",
      "GA                5.4  2642.6   4422.1\n",
      "GU                1.0  1894.0   1773.8\n",
      "HI                3.8  2360.7   2999.3\n",
      "IA                6.5  2293.9   5815.2\n",
      "ID                4.5  2096.2   4864.7\n",
      "IL                7.3  2189.1   4079.6\n",
      "IN                9.1  2653.6   8278.0\n",
      "KS                4.9  1861.3   3672.8\n",
      "KY                5.2  1991.0   3783.4\n",
      "LA                6.5  1660.2   3484.8\n",
      "MA                6.1  2023.1   3267.4\n",
      "MD                5.3  3003.1   5836.9\n",
      "ME                4.0  1436.6   1808.4\n",
      "MH                NaN  1078.0      NaN\n",
      "MI                6.7  2643.0   5356.3\n",
      "MN                7.8  2086.0   3579.8\n",
      "MO                7.2  1557.1   3569.1\n",
      "MP                NaN  1120.0      NaN\n",
      "MS                4.0  2498.6   3847.7\n",
      "MT                3.9  1470.7   3006.7\n",
      "NC                4.9  2446.9   4212.3\n",
      "ND                3.5  1460.1   2918.9\n",
      "NE                5.0  1932.3   3579.2\n",
      "NH                5.3  2060.5   4877.4\n",
      "NJ                7.1  2353.3   4479.9\n",
      "NM                4.5  2253.6   4565.8\n",
      "NV                4.7  2274.3   6144.3\n",
      "NY                8.2  2349.0   4421.4\n",
      "OH               10.3  1576.7   4100.6\n",
      "OK                5.9  1351.0   3279.9\n",
      "OR                5.3  2182.6   4951.9\n",
      "PA               10.1  1699.3   3793.4\n",
      "PR                6.0  1598.8   2912.9\n",
      "PW                NaN   602.0      NaN\n",
      "RI                2.9  3305.6   4608.6\n",
      "SC                6.0  2073.5   3778.5\n",
      "SD                4.2  1358.1   2069.4\n",
      "TN                6.0  1570.2   3279.2\n",
      "TX                7.7  2998.5   7362.5\n",
      "UT                5.1  3035.3   8055.7\n",
      "VA                7.0  2694.9   6706.8\n",
      "VI                NaN  1971.0      NaN\n",
      "VT                3.8  1512.6   2193.6\n",
      "WA                6.6  2271.2   4123.7\n",
      "WI                5.8  2655.5   4615.5\n",
      "WV                7.2  1758.1   5957.2\n",
      "WY                2.8  2244.4   2744.7\n"
     ]
    }
   ],
   "source": [
    "# 自訂欄位顯示名稱\n",
    "max_deviation.__name__ = 'Max Deviation'\n",
    "\n",
    "print(college.groupby('STABBR')['UGDS']\n",
    "             .agg([max_deviation, 'mean', 'std'])\n",
    "             .round(1))"
   ]
  },
  {
   "cell_type": "markdown",
   "id": "d9a96309",
   "metadata": {},
   "source": [
    "## 9.5 可接收多個參數的自訂聚合函式"
   ]
  },
  {
   "cell_type": "code",
   "execution_count": 27,
   "id": "be3b401a",
   "metadata": {},
   "outputs": [],
   "source": [
    "# 定義一個可傳回學生人數在1000-3000 之間的學校百分比 只接受Series\n",
    "def pct_between1_3k(s):\n",
    "    return (s.between(1000, 3000)\n",
    "             .mean()* 100)"
   ]
  },
  {
   "cell_type": "code",
   "execution_count": 29,
   "id": "24e4f1cb",
   "metadata": {},
   "outputs": [
    {
     "name": "stdout",
     "output_type": "stream",
     "text": [
      "STABBR  RELAFFIL\n",
      "AK      0           14.3\n",
      "        1            0.0\n",
      "AL      0           23.6\n",
      "        1           33.3\n",
      "AR      0           27.9\n",
      "                    ... \n",
      "WI      0           13.8\n",
      "        1           36.0\n",
      "WV      0           24.6\n",
      "        1           37.5\n",
      "WY      0           54.5\n",
      "Name: UGDS, Length: 112, dtype: float64\n"
     ]
    }
   ],
   "source": [
    "# 用州與宗教欄位分組\n",
    "print(college.groupby(['STABBR', 'RELAFFIL'])['UGDS']\n",
    "             .agg(pct_between1_3k)\n",
    "             .round(1))"
   ]
  },
  {
   "cell_type": "code",
   "execution_count": 30,
   "id": "46d4f4fe",
   "metadata": {},
   "outputs": [],
   "source": [
    "# 修改成可以自定義上下限的函式\n",
    "def pct_between(s, low, high):\n",
    "    return (s.between(low, high)\n",
    "             .mean()* 100)"
   ]
  },
  {
   "cell_type": "code",
   "execution_count": 32,
   "id": "c837c83e",
   "metadata": {},
   "outputs": [
    {
     "name": "stdout",
     "output_type": "stream",
     "text": [
      "STABBR  RELAFFIL\n",
      "AK      0           42.9\n",
      "        1            0.0\n",
      "AL      0           45.8\n",
      "        1           37.5\n",
      "AR      0           39.7\n",
      "                    ... \n",
      "WI      0           31.0\n",
      "        1           44.0\n",
      "WV      0           29.2\n",
      "        1           37.5\n",
      "WY      0           72.7\n",
      "Name: UGDS, Length: 112, dtype: float64\n"
     ]
    }
   ],
   "source": [
    "# 自己填入上下限 參數改為1000 10000\n",
    "print(college.groupby(['STABBR', 'RELAFFIL'])['UGDS']\n",
    "             .agg(pct_between, 1000, 10000)\n",
    "             .round(1))"
   ]
  },
  {
   "cell_type": "code",
   "execution_count": null,
   "id": "12682a7f",
   "metadata": {},
   "outputs": [
    {
     "name": "stdout",
     "output_type": "stream",
     "text": [
      "STABBR  RELAFFIL\n",
      "AK      0           42.9\n",
      "        1            0.0\n",
      "AL      0           45.8\n",
      "        1           37.5\n",
      "AR      0           39.7\n",
      "                    ... \n",
      "WI      0           31.0\n",
      "        1           44.0\n",
      "WV      0           29.2\n",
      "        1           37.5\n",
      "WY      0           72.7\n",
      "Name: UGDS, Length: 112, dtype: float64\n"
     ]
    }
   ],
   "source": [
    "# 自己填入上下限 關鍵字\n",
    "print(college.groupby(['STABBR', 'RELAFFIL'])['UGDS']\n",
    "             .agg(pct_between, low=1000, high=10000)\n",
    "             .round(1))"
   ]
  },
  {
   "cell_type": "code",
   "execution_count": 33,
   "id": "19363a32",
   "metadata": {},
   "outputs": [],
   "source": [
    "# 閉包寫法\n",
    "def between_n_m(n, m):\n",
    "    def wrapper(ser):\n",
    "        return pct_between(ser, n, m)\n",
    "    wrapper.__name__ = f'between_{n}_{m}'\n",
    "    return wrapper"
   ]
  },
  {
   "cell_type": "code",
   "execution_count": 34,
   "id": "35db8fe2",
   "metadata": {},
   "outputs": [
    {
     "name": "stdout",
     "output_type": "stream",
     "text": [
      "                 between_1000_10000      max    mean\n",
      "STABBR RELAFFIL                                     \n",
      "AK     0                       42.9  12865.0  3508.9\n",
      "       1                        0.0    275.0   123.3\n",
      "AL     0                       45.8  29851.0  3248.8\n",
      "       1                       37.5   3033.0   979.7\n",
      "AR     0                       39.7  21405.0  1793.7\n",
      "...                             ...      ...     ...\n",
      "WI     0                       31.0  29302.0  2879.1\n",
      "       1                       44.0   8212.0  1716.2\n",
      "WV     0                       29.2  44924.0  1873.9\n",
      "       1                       37.5   1375.0   716.4\n",
      "WY     0                       72.7   9910.0  2244.4\n",
      "\n",
      "[112 rows x 3 columns]\n"
     ]
    }
   ],
   "source": [
    "# 使用閉包函式就可以使用多個聚合函式\n",
    "print(college.groupby(['STABBR', 'RELAFFIL'])['UGDS']\n",
    "             .agg([between_n_m(1000, 10000), 'max', 'mean'])\n",
    "             .round(1))"
   ]
  },
  {
   "cell_type": "markdown",
   "id": "d2bfe303",
   "metadata": {},
   "source": [
    "## 9.6 深入了解groupby 物件"
   ]
  },
  {
   "cell_type": "code",
   "execution_count": 3,
   "id": "d85bdc52",
   "metadata": {},
   "outputs": [],
   "source": [
    "# 載入資料集\n",
    "college = pd.read_csv('../../data/college.csv')"
   ]
  },
  {
   "cell_type": "code",
   "execution_count": 4,
   "id": "82a0553f",
   "metadata": {},
   "outputs": [
    {
     "data": {
      "text/plain": [
       "pandas.core.groupby.generic.DataFrameGroupBy"
      ]
     },
     "execution_count": 4,
     "metadata": {},
     "output_type": "execute_result"
    }
   ],
   "source": [
    "# groupby 兩個欄位\n",
    "grouped = college.groupby(['STABBR', 'RELAFFIL'])\n",
    "type(grouped)"
   ]
  },
  {
   "cell_type": "code",
   "execution_count": 5,
   "id": "c4630940",
   "metadata": {},
   "outputs": [
    {
     "name": "stdout",
     "output_type": "stream",
     "text": [
      "['CITY', 'CURROPER', 'DISTANCEONLY', 'GRAD_DEBT_MDN_SUPP', 'HBCU', 'INSTNM', 'MD_EARN_WNE_P10', 'MENONLY', 'PCTFLOAN', 'PCTPELL', 'PPTUG_EF', 'RELAFFIL', 'SATMTMID', 'SATVRMID', 'STABBR', 'UG25ABV', 'UGDS', 'UGDS_2MOR', 'UGDS_AIAN', 'UGDS_ASIAN', 'UGDS_BLACK', 'UGDS_HISP', 'UGDS_NHPI', 'UGDS_NRA', 'UGDS_UNKN', 'UGDS_WHITE', 'WOMENONLY', 'agg', 'aggregate', 'all', 'any', 'apply', 'bfill', 'boxplot', 'corr', 'corrwith', 'count', 'cov', 'cumcount', 'cummax', 'cummin', 'cumprod', 'cumsum', 'describe', 'diff', 'dtypes', 'ewm', 'expanding', 'ffill', 'fillna', 'filter', 'first', 'get_group', 'groups', 'head', 'hist', 'idxmax', 'idxmin', 'indices', 'last', 'max', 'mean', 'median', 'min', 'ndim', 'ngroup', 'ngroups', 'nth', 'nunique', 'ohlc', 'pct_change', 'pipe', 'plot', 'prod', 'quantile', 'rank', 'resample', 'rolling', 'sample', 'sem', 'shift', 'size', 'skew', 'std', 'sum', 'tail', 'take', 'transform', 'value_counts', 'var']\n"
     ]
    }
   ],
   "source": [
    "# 使用dir() 查看該物件有甚麼屬性\n",
    "print([attr for attr in dir(grouped) if not attr.startswith('_')])"
   ]
  },
  {
   "cell_type": "code",
   "execution_count": 6,
   "id": "cf8c7739",
   "metadata": {},
   "outputs": [
    {
     "data": {
      "text/plain": [
       "112"
      ]
     },
     "execution_count": 6,
     "metadata": {},
     "output_type": "execute_result"
    }
   ],
   "source": [
    "# 查看組別數量\n",
    "grouped.ngroups"
   ]
  },
  {
   "cell_type": "code",
   "execution_count": 7,
   "id": "288f2b29",
   "metadata": {},
   "outputs": [
    {
     "data": {
      "text/plain": [
       "[('AK', 0), ('AK', 1), ('AL', 0), ('AL', 1), ('AR', 0), ('AR', 1)]"
      ]
     },
     "execution_count": 7,
     "metadata": {},
     "output_type": "execute_result"
    }
   ],
   "source": [
    "# 取得前六組的標籤\n",
    "groups = list(grouped.groups)\n",
    "groups[:6]"
   ]
  },
  {
   "cell_type": "code",
   "execution_count": 8,
   "id": "5e2e1fd4",
   "metadata": {},
   "outputs": [
    {
     "name": "stdout",
     "output_type": "stream",
     "text": [
      "                                         INSTNM             CITY STABBR  HBCU  \\\n",
      "712              The Baptist College of Florida       Graceville     FL   0.0   \n",
      "713                            Barry University            Miami     FL   0.0   \n",
      "714       Gooding Institute of Nurse Anesthesia      Panama City     FL   0.0   \n",
      "715                  Bethune-Cookman University    Daytona Beach     FL   1.0   \n",
      "724                  Johnson University Florida        Kissimmee     FL   0.0   \n",
      "...                                         ...              ...    ...   ...   \n",
      "7486    Strayer University-Coral Springs Campus    Coral Springs     FL   NaN   \n",
      "7487  Strayer University-Fort Lauderdale Campus  Fort Lauderdale     FL   NaN   \n",
      "7488          Strayer University-Miramar Campus          Miramar     FL   NaN   \n",
      "7489                   Strayer University-Doral            Miami     FL   NaN   \n",
      "7490                Strayer University-Brickell            Miami     FL   NaN   \n",
      "\n",
      "      MENONLY  WOMENONLY  RELAFFIL  SATVRMID  SATMTMID  DISTANCEONLY  ...  \\\n",
      "712       0.0        0.0         1     545.0     465.0           0.0  ...   \n",
      "713       0.0        0.0         1     470.0     462.0           0.0  ...   \n",
      "714       0.0        0.0         1       NaN       NaN           0.0  ...   \n",
      "715       0.0        0.0         1     405.0     395.0           0.0  ...   \n",
      "724       0.0        0.0         1     480.0     470.0           0.0  ...   \n",
      "...       ...        ...       ...       ...       ...           ...  ...   \n",
      "7486      NaN        NaN         1       NaN       NaN           NaN  ...   \n",
      "7487      NaN        NaN         1       NaN       NaN           NaN  ...   \n",
      "7488      NaN        NaN         1       NaN       NaN           NaN  ...   \n",
      "7489      NaN        NaN         1       NaN       NaN           NaN  ...   \n",
      "7490      NaN        NaN         1       NaN       NaN           NaN  ...   \n",
      "\n",
      "      UGDS_2MOR  UGDS_NRA  UGDS_UNKN  PPTUG_EF  CURROPER  PCTPELL  PCTFLOAN  \\\n",
      "712      0.0308    0.0000     0.0507    0.2291         1   0.5878    0.5602   \n",
      "713      0.0164    0.0741     0.0841    0.1518         1   0.5045    0.6733   \n",
      "714         NaN       NaN        NaN       NaN         0      NaN       NaN   \n",
      "715      0.0198    0.0205     0.0190    0.0523         1   0.7758    0.8867   \n",
      "724      0.0045    0.0045     0.0136    0.1636         1   0.6689    0.7384   \n",
      "...         ...       ...        ...       ...       ...      ...       ...   \n",
      "7486        NaN       NaN        NaN       NaN         0      NaN       NaN   \n",
      "7487        NaN       NaN        NaN       NaN         1      NaN       NaN   \n",
      "7488        NaN       NaN        NaN       NaN         1      NaN       NaN   \n",
      "7489        NaN       NaN        NaN       NaN         1      NaN       NaN   \n",
      "7490        NaN       NaN        NaN       NaN         1      NaN       NaN   \n",
      "\n",
      "      UG25ABV  MD_EARN_WNE_P10  GRAD_DEBT_MDN_SUPP  \n",
      "712    0.3531            30800               20052  \n",
      "713    0.4361            44100               28250  \n",
      "714       NaN              NaN   PrivacySuppressed  \n",
      "715    0.0647            29400               36250  \n",
      "724    0.2185            26300               20199  \n",
      "...       ...              ...                 ...  \n",
      "7486      NaN            49200             36173.5  \n",
      "7487      NaN            49200             36173.5  \n",
      "7488      NaN            49200             36173.5  \n",
      "7489      NaN            49200             36173.5  \n",
      "7490      NaN            49200             36173.5  \n",
      "\n",
      "[89 rows x 27 columns]\n"
     ]
    }
   ],
   "source": [
    "# 取得特定組別\n",
    "print(grouped.get_group(('FL', 1)))"
   ]
  },
  {
   "cell_type": "code",
   "execution_count": 11,
   "id": "b7895eb9",
   "metadata": {},
   "outputs": [
    {
     "name": "stdout",
     "output_type": "stream",
     "text": [
      "('AK', np.int64(0))\n"
     ]
    },
    {
     "data": {
      "application/vnd.microsoft.datawrangler.viewer.v0+json": {
       "columns": [
        {
         "name": "index",
         "rawType": "int64",
         "type": "integer"
        },
        {
         "name": "INSTNM",
         "rawType": "object",
         "type": "string"
        },
        {
         "name": "CITY",
         "rawType": "object",
         "type": "string"
        },
        {
         "name": "STABBR",
         "rawType": "object",
         "type": "string"
        },
        {
         "name": "HBCU",
         "rawType": "float64",
         "type": "float"
        },
        {
         "name": "MENONLY",
         "rawType": "float64",
         "type": "float"
        },
        {
         "name": "WOMENONLY",
         "rawType": "float64",
         "type": "float"
        },
        {
         "name": "RELAFFIL",
         "rawType": "int64",
         "type": "integer"
        },
        {
         "name": "SATVRMID",
         "rawType": "float64",
         "type": "float"
        },
        {
         "name": "SATMTMID",
         "rawType": "float64",
         "type": "float"
        },
        {
         "name": "DISTANCEONLY",
         "rawType": "float64",
         "type": "float"
        },
        {
         "name": "UGDS",
         "rawType": "float64",
         "type": "float"
        },
        {
         "name": "UGDS_WHITE",
         "rawType": "float64",
         "type": "float"
        },
        {
         "name": "UGDS_BLACK",
         "rawType": "float64",
         "type": "float"
        },
        {
         "name": "UGDS_HISP",
         "rawType": "float64",
         "type": "float"
        },
        {
         "name": "UGDS_ASIAN",
         "rawType": "float64",
         "type": "float"
        },
        {
         "name": "UGDS_AIAN",
         "rawType": "float64",
         "type": "float"
        },
        {
         "name": "UGDS_NHPI",
         "rawType": "float64",
         "type": "float"
        },
        {
         "name": "UGDS_2MOR",
         "rawType": "float64",
         "type": "float"
        },
        {
         "name": "UGDS_NRA",
         "rawType": "float64",
         "type": "float"
        },
        {
         "name": "UGDS_UNKN",
         "rawType": "float64",
         "type": "float"
        },
        {
         "name": "PPTUG_EF",
         "rawType": "float64",
         "type": "float"
        },
        {
         "name": "CURROPER",
         "rawType": "int64",
         "type": "integer"
        },
        {
         "name": "PCTPELL",
         "rawType": "float64",
         "type": "float"
        },
        {
         "name": "PCTFLOAN",
         "rawType": "float64",
         "type": "float"
        },
        {
         "name": "UG25ABV",
         "rawType": "float64",
         "type": "float"
        },
        {
         "name": "MD_EARN_WNE_P10",
         "rawType": "object",
         "type": "string"
        },
        {
         "name": "GRAD_DEBT_MDN_SUPP",
         "rawType": "object",
         "type": "string"
        }
       ],
       "ref": "fcca4b4a-b93b-4108-b6f7-1d15ae6a9db4",
       "rows": [
        [
         "60",
         "University of Alaska Anchorage",
         "Anchorage",
         "AK",
         "0.0",
         "0.0",
         "0.0",
         "0",
         null,
         null,
         "0.0",
         "12865.0",
         "0.5747",
         "0.0358",
         "0.0761",
         "0.0778",
         "0.0653",
         "0.0086",
         "0.098",
         "0.0181",
         "0.0457",
         "0.4539",
         "1",
         "0.2385",
         "0.2647",
         "0.4386",
         "42500",
         "19449.5"
        ],
        [
         "62",
         "University of Alaska Fairbanks",
         "Fairbanks",
         "AK",
         "0.0",
         "0.0",
         "0.0",
         "0",
         null,
         null,
         "0.0",
         "5536.0",
         "0.4259",
         "0.021",
         "0.0522",
         "0.0126",
         "0.1284",
         "0.0027",
         "0.0401",
         "0.011",
         "0.306",
         "0.3887",
         "1",
         "0.2263",
         "0.255",
         "0.4519",
         "36200",
         "19355"
        ],
        [
         "63",
         "University of Alaska Southeast",
         "Juneau",
         "AK",
         "0.0",
         "0.0",
         "0.0",
         "0",
         null,
         null,
         "0.0",
         "1428.0",
         "0.4748",
         "0.0119",
         "0.0623",
         "0.0357",
         "0.1029",
         "0.0147",
         "0.0686",
         "0.0049",
         "0.2241",
         "0.5112",
         "1",
         "0.1769",
         "0.1996",
         "0.555",
         "37400",
         "16875"
        ]
       ],
       "shape": {
        "columns": 27,
        "rows": 3
       }
      },
      "text/html": [
       "<div>\n",
       "<style scoped>\n",
       "    .dataframe tbody tr th:only-of-type {\n",
       "        vertical-align: middle;\n",
       "    }\n",
       "\n",
       "    .dataframe tbody tr th {\n",
       "        vertical-align: top;\n",
       "    }\n",
       "\n",
       "    .dataframe thead th {\n",
       "        text-align: right;\n",
       "    }\n",
       "</style>\n",
       "<table border=\"1\" class=\"dataframe\">\n",
       "  <thead>\n",
       "    <tr style=\"text-align: right;\">\n",
       "      <th></th>\n",
       "      <th>INSTNM</th>\n",
       "      <th>CITY</th>\n",
       "      <th>STABBR</th>\n",
       "      <th>HBCU</th>\n",
       "      <th>MENONLY</th>\n",
       "      <th>WOMENONLY</th>\n",
       "      <th>RELAFFIL</th>\n",
       "      <th>SATVRMID</th>\n",
       "      <th>SATMTMID</th>\n",
       "      <th>DISTANCEONLY</th>\n",
       "      <th>...</th>\n",
       "      <th>UGDS_2MOR</th>\n",
       "      <th>UGDS_NRA</th>\n",
       "      <th>UGDS_UNKN</th>\n",
       "      <th>PPTUG_EF</th>\n",
       "      <th>CURROPER</th>\n",
       "      <th>PCTPELL</th>\n",
       "      <th>PCTFLOAN</th>\n",
       "      <th>UG25ABV</th>\n",
       "      <th>MD_EARN_WNE_P10</th>\n",
       "      <th>GRAD_DEBT_MDN_SUPP</th>\n",
       "    </tr>\n",
       "  </thead>\n",
       "  <tbody>\n",
       "    <tr>\n",
       "      <th>60</th>\n",
       "      <td>University of Alaska Anchorage</td>\n",
       "      <td>Anchorage</td>\n",
       "      <td>AK</td>\n",
       "      <td>0.0</td>\n",
       "      <td>0.0</td>\n",
       "      <td>0.0</td>\n",
       "      <td>0</td>\n",
       "      <td>NaN</td>\n",
       "      <td>NaN</td>\n",
       "      <td>0.0</td>\n",
       "      <td>...</td>\n",
       "      <td>0.0980</td>\n",
       "      <td>0.0181</td>\n",
       "      <td>0.0457</td>\n",
       "      <td>0.4539</td>\n",
       "      <td>1</td>\n",
       "      <td>0.2385</td>\n",
       "      <td>0.2647</td>\n",
       "      <td>0.4386</td>\n",
       "      <td>42500</td>\n",
       "      <td>19449.5</td>\n",
       "    </tr>\n",
       "    <tr>\n",
       "      <th>62</th>\n",
       "      <td>University of Alaska Fairbanks</td>\n",
       "      <td>Fairbanks</td>\n",
       "      <td>AK</td>\n",
       "      <td>0.0</td>\n",
       "      <td>0.0</td>\n",
       "      <td>0.0</td>\n",
       "      <td>0</td>\n",
       "      <td>NaN</td>\n",
       "      <td>NaN</td>\n",
       "      <td>0.0</td>\n",
       "      <td>...</td>\n",
       "      <td>0.0401</td>\n",
       "      <td>0.0110</td>\n",
       "      <td>0.3060</td>\n",
       "      <td>0.3887</td>\n",
       "      <td>1</td>\n",
       "      <td>0.2263</td>\n",
       "      <td>0.2550</td>\n",
       "      <td>0.4519</td>\n",
       "      <td>36200</td>\n",
       "      <td>19355</td>\n",
       "    </tr>\n",
       "    <tr>\n",
       "      <th>63</th>\n",
       "      <td>University of Alaska Southeast</td>\n",
       "      <td>Juneau</td>\n",
       "      <td>AK</td>\n",
       "      <td>0.0</td>\n",
       "      <td>0.0</td>\n",
       "      <td>0.0</td>\n",
       "      <td>0</td>\n",
       "      <td>NaN</td>\n",
       "      <td>NaN</td>\n",
       "      <td>0.0</td>\n",
       "      <td>...</td>\n",
       "      <td>0.0686</td>\n",
       "      <td>0.0049</td>\n",
       "      <td>0.2241</td>\n",
       "      <td>0.5112</td>\n",
       "      <td>1</td>\n",
       "      <td>0.1769</td>\n",
       "      <td>0.1996</td>\n",
       "      <td>0.5550</td>\n",
       "      <td>37400</td>\n",
       "      <td>16875</td>\n",
       "    </tr>\n",
       "  </tbody>\n",
       "</table>\n",
       "<p>3 rows × 27 columns</p>\n",
       "</div>"
      ],
      "text/plain": [
       "                            INSTNM       CITY STABBR  HBCU  MENONLY  \\\n",
       "60  University of Alaska Anchorage  Anchorage     AK   0.0      0.0   \n",
       "62  University of Alaska Fairbanks  Fairbanks     AK   0.0      0.0   \n",
       "63  University of Alaska Southeast     Juneau     AK   0.0      0.0   \n",
       "\n",
       "    WOMENONLY  RELAFFIL  SATVRMID  SATMTMID  DISTANCEONLY  ...  UGDS_2MOR  \\\n",
       "60        0.0         0       NaN       NaN           0.0  ...     0.0980   \n",
       "62        0.0         0       NaN       NaN           0.0  ...     0.0401   \n",
       "63        0.0         0       NaN       NaN           0.0  ...     0.0686   \n",
       "\n",
       "    UGDS_NRA  UGDS_UNKN  PPTUG_EF  CURROPER  PCTPELL  PCTFLOAN  UG25ABV  \\\n",
       "60    0.0181     0.0457    0.4539         1   0.2385    0.2647   0.4386   \n",
       "62    0.0110     0.3060    0.3887         1   0.2263    0.2550   0.4519   \n",
       "63    0.0049     0.2241    0.5112         1   0.1769    0.1996   0.5550   \n",
       "\n",
       "    MD_EARN_WNE_P10  GRAD_DEBT_MDN_SUPP  \n",
       "60            42500             19449.5  \n",
       "62            36200               19355  \n",
       "63            37400               16875  \n",
       "\n",
       "[3 rows x 27 columns]"
      ]
     },
     "metadata": {},
     "output_type": "display_data"
    }
   ],
   "source": [
    "# 迭代顯示每個物件的資料\n",
    "from IPython.display import display\n",
    "for name, group in grouped:\n",
    "    print(name)\n",
    "    display(group.head(3))\n",
    "    break"
   ]
  },
  {
   "cell_type": "code",
   "execution_count": 12,
   "id": "99d0703d",
   "metadata": {},
   "outputs": [
    {
     "name": "stdout",
     "output_type": "stream",
     "text": [
      "                                                INSTNM        CITY STABBR  \\\n",
      "0                             Alabama A & M University      Normal     AL   \n",
      "2                                   Amridge University  Montgomery     AL   \n",
      "43                          Prince Institute-Southeast    Elmhurst     IL   \n",
      "60                      University of Alaska Anchorage   Anchorage     AK   \n",
      "61                                Alaska Bible College      Palmer     AK   \n",
      "...                                                ...         ...    ...   \n",
      "4561                   College of the Marshall Islands      Majuro     MH   \n",
      "5289                        Pacific Islands University    Mangilao     GU   \n",
      "6439                           Touro University Nevada   Henderson     NV   \n",
      "7404  University of the Virgin Islands-Albert A. Sheen   St. Croix     VI   \n",
      "7419                 Computer Career Center-Las Cruces  Las Cruces     NM   \n",
      "\n",
      "      HBCU  MENONLY  WOMENONLY  RELAFFIL  SATVRMID  SATMTMID  DISTANCEONLY  \\\n",
      "0      1.0      0.0        0.0         0     424.0     420.0           0.0   \n",
      "2      0.0      0.0        0.0         1       NaN       NaN           1.0   \n",
      "43     0.0      0.0        0.0         0       NaN       NaN           0.0   \n",
      "60     0.0      0.0        0.0         0       NaN       NaN           0.0   \n",
      "61     0.0      0.0        0.0         1       NaN       NaN           0.0   \n",
      "...    ...      ...        ...       ...       ...       ...           ...   \n",
      "4561   0.0      0.0        0.0         0       NaN       NaN           0.0   \n",
      "5289   0.0      0.0        0.0         1       NaN       NaN           0.0   \n",
      "6439   0.0      0.0        0.0         1       NaN       NaN           0.0   \n",
      "7404   NaN      NaN        NaN         1       NaN       NaN           NaN   \n",
      "7419   NaN      NaN        NaN         1       NaN       NaN           NaN   \n",
      "\n",
      "      ...  UGDS_2MOR  UGDS_NRA  UGDS_UNKN  PPTUG_EF  CURROPER  PCTPELL  \\\n",
      "0     ...     0.0000    0.0059     0.0138    0.0656         1   0.7356   \n",
      "2     ...     0.0000    0.0000     0.2715    0.4536         1   0.6801   \n",
      "43    ...     0.0000    0.0000     0.0000    0.0000         1   0.7857   \n",
      "60    ...     0.0980    0.0181     0.0457    0.4539         1   0.2385   \n",
      "61    ...     0.0370    0.0000     0.0000    0.1481         1   0.3571   \n",
      "...   ...        ...       ...        ...       ...       ...      ...   \n",
      "4561  ...     0.0000    0.0056     0.0000    0.2727         1   0.8923   \n",
      "5289  ...     0.0000    0.0000     0.0000    0.1846         1   0.9730   \n",
      "6439  ...     0.0323    0.0000     0.0645    0.0323         1   0.0000   \n",
      "7404  ...        NaN       NaN        NaN       NaN         1      NaN   \n",
      "7419  ...        NaN       NaN        NaN       NaN         1      NaN   \n",
      "\n",
      "      PCTFLOAN  UG25ABV    MD_EARN_WNE_P10  GRAD_DEBT_MDN_SUPP  \n",
      "0       0.8284   0.1049              30300               33888  \n",
      "2       0.7795   0.8540              40100               23370  \n",
      "43      0.9375   0.6569  PrivacySuppressed               20992  \n",
      "60      0.2647   0.4386              42500             19449.5  \n",
      "61      0.2857   0.4286                NaN   PrivacySuppressed  \n",
      "...        ...      ...                ...                 ...  \n",
      "4561    0.0000   0.2310  PrivacySuppressed   PrivacySuppressed  \n",
      "5289    0.0000   0.2533  PrivacySuppressed   PrivacySuppressed  \n",
      "6439    0.2000   0.4000                NaN   PrivacySuppressed  \n",
      "7404       NaN      NaN              31800               15150  \n",
      "7419       NaN      NaN              21300               14250  \n",
      "\n",
      "[112 rows x 27 columns]\n"
     ]
    }
   ],
   "source": [
    "# 只印出每一組的第一列\n",
    "print(grouped.head(1))"
   ]
  },
  {
   "cell_type": "code",
   "execution_count": 13,
   "id": "2dcfd47a",
   "metadata": {},
   "outputs": [
    {
     "name": "stdout",
     "output_type": "stream",
     "text": [
      "                                                 INSTNM              CITY  \\\n",
      "1                   University of Alabama at Birmingham        Birmingham   \n",
      "10                          Birmingham Southern College        Birmingham   \n",
      "62                       University of Alaska Fairbanks         Fairbanks   \n",
      "64                            Alaska Pacific University         Anchorage   \n",
      "70                 Empire Beauty School-Paradise Valley           Phoenix   \n",
      "...                                                 ...               ...   \n",
      "7519               Strayer University-Charleston Campus  North Charleston   \n",
      "7531                  Rasmussen College - Overland Park     Overland Park   \n",
      "7532  National Personal Training Institute of Cleveland  Highland Heights   \n",
      "7533  Bay Area Medical Academy - San Jose Satellite ...          San Jose   \n",
      "7534            Excel Learning Center-San Antonio South       San Antonio   \n",
      "\n",
      "     STABBR  HBCU  MENONLY  WOMENONLY  RELAFFIL  SATVRMID  SATMTMID  \\\n",
      "1        AL   0.0      0.0        0.0         0     570.0     565.0   \n",
      "10       AL   0.0      0.0        0.0         1     560.0     560.0   \n",
      "62       AK   0.0      0.0        0.0         0       NaN       NaN   \n",
      "64       AK   0.0      0.0        0.0         1     555.0     503.0   \n",
      "70       AZ   0.0      0.0        0.0         1       NaN       NaN   \n",
      "...     ...   ...      ...        ...       ...       ...       ...   \n",
      "7519     SC   NaN      NaN        NaN         1       NaN       NaN   \n",
      "7531     KS   NaN      NaN        NaN         1       NaN       NaN   \n",
      "7532     OH   NaN      NaN        NaN         1       NaN       NaN   \n",
      "7533     CA   NaN      NaN        NaN         1       NaN       NaN   \n",
      "7534     TX   NaN      NaN        NaN         1       NaN       NaN   \n",
      "\n",
      "      DISTANCEONLY  ...  UGDS_2MOR  UGDS_NRA  UGDS_UNKN  PPTUG_EF  CURROPER  \\\n",
      "1              0.0  ...     0.0368    0.0179     0.0100    0.2607         1   \n",
      "10             0.0  ...     0.0051    0.0000     0.0051    0.0017         1   \n",
      "62             0.0  ...     0.0401    0.0110     0.3060    0.3887         1   \n",
      "64             0.0  ...     0.0945    0.0000     0.0873    0.3745         1   \n",
      "70             0.0  ...     0.0400    0.0000     0.0000    0.1600         0   \n",
      "...            ...  ...        ...       ...        ...       ...       ...   \n",
      "7519           NaN  ...        NaN       NaN        NaN       NaN         1   \n",
      "7531           NaN  ...        NaN       NaN        NaN       NaN         1   \n",
      "7532           NaN  ...        NaN       NaN        NaN       NaN         1   \n",
      "7533           NaN  ...        NaN       NaN        NaN       NaN         1   \n",
      "7534           NaN  ...        NaN       NaN        NaN       NaN         1   \n",
      "\n",
      "      PCTPELL  PCTFLOAN  UG25ABV  MD_EARN_WNE_P10  GRAD_DEBT_MDN_SUPP  \n",
      "1      0.3460    0.5214   0.2422            39700             21941.5  \n",
      "10     0.1920    0.4809   0.0152            44200               27000  \n",
      "62     0.2263    0.2550   0.4519            36200               19355  \n",
      "64     0.3152    0.5297   0.4910            47000               23250  \n",
      "70     0.6349    0.5873   0.4651            17800                9588  \n",
      "...       ...       ...      ...              ...                 ...  \n",
      "7519      NaN       NaN      NaN            49200             36173.5  \n",
      "7531      NaN       NaN      NaN              NaN               21163  \n",
      "7532      NaN       NaN      NaN              NaN                6333  \n",
      "7533      NaN       NaN      NaN              NaN   PrivacySuppressed  \n",
      "7534      NaN       NaN      NaN              NaN               12125  \n",
      "\n",
      "[213 rows x 27 columns]\n"
     ]
    }
   ],
   "source": [
    "# 選出首列與最後一列\n",
    "print(grouped.nth([1, -1]))"
   ]
  },
  {
   "cell_type": "markdown",
   "id": "e11b1abb",
   "metadata": {},
   "source": [
    "## 9.7 過濾特定的組別"
   ]
  },
  {
   "cell_type": "code",
   "execution_count": 2,
   "id": "60b52b1d",
   "metadata": {},
   "outputs": [
    {
     "data": {
      "text/plain": [
       "59"
      ]
     },
     "execution_count": 2,
     "metadata": {},
     "output_type": "execute_result"
    }
   ],
   "source": [
    "# 載入資料集\n",
    "college = pd.read_csv('../../data/college.csv', index_col='INSTNM')\n",
    "grouped = college.groupby('STABBR')\n",
    "grouped.ngroups"
   ]
  },
  {
   "cell_type": "code",
   "execution_count": 3,
   "id": "cb196583",
   "metadata": {},
   "outputs": [],
   "source": [
    "# 找各州內的所有大學中的非白人百分比是否超過特定閥值\n",
    "def check_minority(df, threshold):\n",
    "    minority_pct = 1 - df['UGDS_WHITE']\n",
    "    total_minority = (df['UGDS'] * minority_pct).sum()\n",
    "\n",
    "    total_ugds = df['UGDS'].sum()\n",
    "    total_minority_pct = total_minority / total_ugds\n",
    "\n",
    "    return total_minority_pct > threshold"
   ]
  },
  {
   "cell_type": "code",
   "execution_count": 4,
   "id": "9f851cdd",
   "metadata": {},
   "outputs": [
    {
     "name": "stdout",
     "output_type": "stream",
     "text": [
      "                                                           CITY STABBR  HBCU  \\\n",
      "INSTNM                                                                         \n",
      "Everest College-Phoenix                                 Phoenix     AZ   0.0   \n",
      "Collins College                                         Phoenix     AZ   0.0   \n",
      "Empire Beauty School-Paradise Valley                    Phoenix     AZ   0.0   \n",
      "Empire Beauty School-Tucson                              Tucson     AZ   0.0   \n",
      "Thunderbird School of Global Management                Glendale     AZ   0.0   \n",
      "...                                                         ...    ...   ...   \n",
      "WestMed College - Merced                                 Merced     CA   NaN   \n",
      "Vantage College                                         El Paso     TX   NaN   \n",
      "SAE Institute of Technology  San Francisco           Emeryville     CA   NaN   \n",
      "Bay Area Medical Academy - San Jose Satellite L...     San Jose     CA   NaN   \n",
      "Excel Learning Center-San Antonio South             San Antonio     TX   NaN   \n",
      "\n",
      "                                                    MENONLY  WOMENONLY  \\\n",
      "INSTNM                                                                   \n",
      "Everest College-Phoenix                                 0.0        0.0   \n",
      "Collins College                                         0.0        0.0   \n",
      "Empire Beauty School-Paradise Valley                    0.0        0.0   \n",
      "Empire Beauty School-Tucson                             0.0        0.0   \n",
      "Thunderbird School of Global Management                 0.0        0.0   \n",
      "...                                                     ...        ...   \n",
      "WestMed College - Merced                                NaN        NaN   \n",
      "Vantage College                                         NaN        NaN   \n",
      "SAE Institute of Technology  San Francisco              NaN        NaN   \n",
      "Bay Area Medical Academy - San Jose Satellite L...      NaN        NaN   \n",
      "Excel Learning Center-San Antonio South                 NaN        NaN   \n",
      "\n",
      "                                                    RELAFFIL  SATVRMID  \\\n",
      "INSTNM                                                                   \n",
      "Everest College-Phoenix                                    1       NaN   \n",
      "Collins College                                            0       NaN   \n",
      "Empire Beauty School-Paradise Valley                       1       NaN   \n",
      "Empire Beauty School-Tucson                                0       NaN   \n",
      "Thunderbird School of Global Management                    0       NaN   \n",
      "...                                                      ...       ...   \n",
      "WestMed College - Merced                                   1       NaN   \n",
      "Vantage College                                            1       NaN   \n",
      "SAE Institute of Technology  San Francisco                 1       NaN   \n",
      "Bay Area Medical Academy - San Jose Satellite L...         1       NaN   \n",
      "Excel Learning Center-San Antonio South                    1       NaN   \n",
      "\n",
      "                                                    SATMTMID  DISTANCEONLY  \\\n",
      "INSTNM                                                                       \n",
      "Everest College-Phoenix                                  NaN           0.0   \n",
      "Collins College                                          NaN           0.0   \n",
      "Empire Beauty School-Paradise Valley                     NaN           0.0   \n",
      "Empire Beauty School-Tucson                              NaN           0.0   \n",
      "Thunderbird School of Global Management                  NaN           0.0   \n",
      "...                                                      ...           ...   \n",
      "WestMed College - Merced                                 NaN           NaN   \n",
      "Vantage College                                          NaN           NaN   \n",
      "SAE Institute of Technology  San Francisco               NaN           NaN   \n",
      "Bay Area Medical Academy - San Jose Satellite L...       NaN           NaN   \n",
      "Excel Learning Center-San Antonio South                  NaN           NaN   \n",
      "\n",
      "                                                      UGDS  ...  UGDS_2MOR  \\\n",
      "INSTNM                                                      ...              \n",
      "Everest College-Phoenix                             4102.0  ...     0.0373   \n",
      "Collins College                                       83.0  ...     0.0241   \n",
      "Empire Beauty School-Paradise Valley                  25.0  ...     0.0400   \n",
      "Empire Beauty School-Tucson                          126.0  ...     0.0000   \n",
      "Thunderbird School of Global Management                1.0  ...     0.0000   \n",
      "...                                                    ...  ...        ...   \n",
      "WestMed College - Merced                               NaN  ...        NaN   \n",
      "Vantage College                                        NaN  ...        NaN   \n",
      "SAE Institute of Technology  San Francisco             NaN  ...        NaN   \n",
      "Bay Area Medical Academy - San Jose Satellite L...     NaN  ...        NaN   \n",
      "Excel Learning Center-San Antonio South                NaN  ...        NaN   \n",
      "\n",
      "                                                    UGDS_NRA  UGDS_UNKN  \\\n",
      "INSTNM                                                                    \n",
      "Everest College-Phoenix                                  0.0     0.1026   \n",
      "Collins College                                          0.0     0.3855   \n",
      "Empire Beauty School-Paradise Valley                     0.0     0.0000   \n",
      "Empire Beauty School-Tucson                              0.0     0.0079   \n",
      "Thunderbird School of Global Management                  0.0     0.0000   \n",
      "...                                                      ...        ...   \n",
      "WestMed College - Merced                                 NaN        NaN   \n",
      "Vantage College                                          NaN        NaN   \n",
      "SAE Institute of Technology  San Francisco               NaN        NaN   \n",
      "Bay Area Medical Academy - San Jose Satellite L...       NaN        NaN   \n",
      "Excel Learning Center-San Antonio South                  NaN        NaN   \n",
      "\n",
      "                                                    PPTUG_EF  CURROPER  \\\n",
      "INSTNM                                                                   \n",
      "Everest College-Phoenix                               0.4749         0   \n",
      "Collins College                                       0.3373         0   \n",
      "Empire Beauty School-Paradise Valley                  0.1600         0   \n",
      "Empire Beauty School-Tucson                           0.2222         1   \n",
      "Thunderbird School of Global Management               1.0000         0   \n",
      "...                                                      ...       ...   \n",
      "WestMed College - Merced                                 NaN         1   \n",
      "Vantage College                                          NaN         1   \n",
      "SAE Institute of Technology  San Francisco               NaN         1   \n",
      "Bay Area Medical Academy - San Jose Satellite L...       NaN         1   \n",
      "Excel Learning Center-San Antonio South                  NaN         1   \n",
      "\n",
      "                                                    PCTPELL  PCTFLOAN  \\\n",
      "INSTNM                                                                  \n",
      "Everest College-Phoenix                              0.8291    0.7151   \n",
      "Collins College                                      0.7205    0.8228   \n",
      "Empire Beauty School-Paradise Valley                 0.6349    0.5873   \n",
      "Empire Beauty School-Tucson                          0.7962    0.6615   \n",
      "Thunderbird School of Global Management              0.0000    0.0000   \n",
      "...                                                     ...       ...   \n",
      "WestMed College - Merced                                NaN       NaN   \n",
      "Vantage College                                         NaN       NaN   \n",
      "SAE Institute of Technology  San Francisco              NaN       NaN   \n",
      "Bay Area Medical Academy - San Jose Satellite L...      NaN       NaN   \n",
      "Excel Learning Center-San Antonio South                 NaN       NaN   \n",
      "\n",
      "                                                    UG25ABV  MD_EARN_WNE_P10  \\\n",
      "INSTNM                                                                         \n",
      "Everest College-Phoenix                              0.6700            28600   \n",
      "Collins College                                      0.4764            25700   \n",
      "Empire Beauty School-Paradise Valley                 0.4651            17800   \n",
      "Empire Beauty School-Tucson                          0.4229            18200   \n",
      "Thunderbird School of Global Management              0.0000           118900   \n",
      "...                                                     ...              ...   \n",
      "WestMed College - Merced                                NaN              NaN   \n",
      "Vantage College                                         NaN              NaN   \n",
      "SAE Institute of Technology  San Francisco              NaN              NaN   \n",
      "Bay Area Medical Academy - San Jose Satellite L...      NaN              NaN   \n",
      "Excel Learning Center-San Antonio South                 NaN              NaN   \n",
      "\n",
      "                                                    GRAD_DEBT_MDN_SUPP  \n",
      "INSTNM                                                                  \n",
      "Everest College-Phoenix                                           9500  \n",
      "Collins College                                                  47000  \n",
      "Empire Beauty School-Paradise Valley                              9588  \n",
      "Empire Beauty School-Tucson                                       9833  \n",
      "Thunderbird School of Global Management              PrivacySuppressed  \n",
      "...                                                                ...  \n",
      "WestMed College - Merced                                       15623.5  \n",
      "Vantage College                                                   9500  \n",
      "SAE Institute of Technology  San Francisco                        9500  \n",
      "Bay Area Medical Academy - San Jose Satellite L...   PrivacySuppressed  \n",
      "Excel Learning Center-San Antonio South                          12125  \n",
      "\n",
      "[3028 rows x 26 columns]\n"
     ]
    }
   ],
   "source": [
    "# 找超過50% 的州\n",
    "college_filtered = grouped.filter(check_minority, threshold=.5)\n",
    "print(college_filtered)"
   ]
  },
  {
   "cell_type": "code",
   "execution_count": 5,
   "id": "559fba2a",
   "metadata": {},
   "outputs": [
    {
     "name": "stdout",
     "output_type": "stream",
     "text": [
      "(7535, 26)\n",
      "(3028, 26)\n",
      "20\n"
     ]
    }
   ],
   "source": [
    "# 比較原始數據與篩選後的數據\n",
    "print(college.shape)\n",
    "\n",
    "print(college_filtered.shape)\n",
    "\n",
    "print(college_filtered['STABBR'].nunique())"
   ]
  },
  {
   "cell_type": "markdown",
   "id": "7b3338c2",
   "metadata": {},
   "source": [
    "## 9.8 分組轉換特定欄位的資料"
   ]
  },
  {
   "cell_type": "code",
   "execution_count": 6,
   "id": "08488ba3",
   "metadata": {},
   "outputs": [
    {
     "name": "stdout",
     "output_type": "stream",
     "text": [
      "  Name Month    Week  Weight\n",
      "0  Bob   Jan  Week 1     291\n",
      "1  Amy   Jan  Week 1     197\n",
      "2  Bob   Jan  Week 2     288\n",
      "3  Amy   Jan  Week 2     189\n",
      "4  Bob   Jan  Week 3     283\n",
      "5  Amy   Jan  Week 3     189\n",
      "6  Bob   Jan  Week 4     283\n",
      "7  Amy   Jan  Week 4     190\n"
     ]
    }
   ],
   "source": [
    "# 載入資料集\n",
    "weight_loss = pd.read_csv('../../data/weight_loss.csv')\n",
    "print(weight_loss.query('Month == \"Jan\"'))"
   ]
  },
  {
   "cell_type": "code",
   "execution_count": 7,
   "id": "0aa7d77a",
   "metadata": {},
   "outputs": [],
   "source": [
    "# 算出每月第一周與最後一周的變化的函式\n",
    "def percent_loss(s):\n",
    "    return((s - s.iloc[0]) / s.iloc[0]) * 100"
   ]
  },
  {
   "cell_type": "code",
   "execution_count": 8,
   "id": "a361dbc4",
   "metadata": {},
   "outputs": [
    {
     "name": "stdout",
     "output_type": "stream",
     "text": [
      "0    0.000000\n",
      "2   -1.030928\n",
      "4   -2.749141\n",
      "6   -2.749141\n",
      "Name: Weight, dtype: float64\n"
     ]
    }
   ],
   "source": [
    "# 算出Bob 一月的體重變化\n",
    "print(weight_loss\n",
    "        .query('Name==\"Bob\" and Month==\"Jan\"')\n",
    "        ['Weight']\n",
    "        .pipe(percent_loss))"
   ]
  },
  {
   "cell_type": "code",
   "execution_count": 12,
   "id": "36149b23",
   "metadata": {},
   "outputs": [
    {
     "name": "stdout",
     "output_type": "stream",
     "text": [
      "0     0.000000\n",
      "1     0.000000\n",
      "2    -1.030928\n",
      "3    -4.060914\n",
      "4    -2.749141\n",
      "5    -4.060914\n",
      "6    -2.749141\n",
      "7    -3.553299\n",
      "8     0.000000\n",
      "9     0.000000\n",
      "10   -2.826855\n",
      "11   -3.157895\n",
      "12   -5.300353\n",
      "13   -6.842105\n",
      "14   -5.300353\n",
      "15   -8.947368\n",
      "16    0.000000\n",
      "17    0.000000\n",
      "18    1.119403\n",
      "19    0.000000\n",
      "20   -1.119403\n",
      "21   -1.734104\n",
      "22   -2.611940\n",
      "23   -1.734104\n",
      "24    0.000000\n",
      "25    0.000000\n",
      "26   -1.149425\n",
      "27   -3.529412\n",
      "28   -3.065134\n",
      "29   -3.529412\n",
      "30   -4.214559\n",
      "31   -5.294118\n",
      "Name: Weight, dtype: float64\n"
     ]
    }
   ],
   "source": [
    "# 傳入兩人的資料\n",
    "print(weight_loss\n",
    "        .groupby(['Name', 'Month'])\n",
    "        ['Weight']\n",
    "        .transform(percent_loss))"
   ]
  },
  {
   "cell_type": "code",
   "execution_count": 13,
   "id": "53d9db08",
   "metadata": {},
   "outputs": [
    {
     "name": "stdout",
     "output_type": "stream",
     "text": [
      "   Name Month    Week  Weight  percent_loss\n",
      "0   Bob   Jan  Week 1     291           0.0\n",
      "2   Bob   Jan  Week 2     288          -1.0\n",
      "4   Bob   Jan  Week 3     283          -2.7\n",
      "6   Bob   Jan  Week 4     283          -2.7\n",
      "8   Bob   Feb  Week 1     283           0.0\n",
      "10  Bob   Feb  Week 2     275          -2.8\n",
      "12  Bob   Feb  Week 3     268          -5.3\n",
      "14  Bob   Feb  Week 4     268          -5.3\n"
     ]
    }
   ],
   "source": [
    "# 把算出來的資料放回原本的df中\n",
    "print(weight_loss\n",
    "        .assign(percent_loss=(weight_loss\n",
    "            .groupby(['Name', 'Month'])\n",
    "            ['Weight']\n",
    "            .transform(percent_loss)\n",
    "            .round(1)))\n",
    "        .query('Name==\"Bob\" and Month in [\"Jan\", \"Feb\"]')\n",
    ")\n",
    "        "
   ]
  },
  {
   "cell_type": "code",
   "execution_count": 14,
   "id": "cc1eb774",
   "metadata": {},
   "outputs": [
    {
     "name": "stdout",
     "output_type": "stream",
     "text": [
      "   Name Month    Week  Weight  percent_loss\n",
      "6   Bob   Jan  Week 4     283          -2.7\n",
      "7   Amy   Jan  Week 4     190          -3.6\n",
      "14  Bob   Feb  Week 4     268          -5.3\n",
      "15  Amy   Feb  Week 4     173          -8.9\n",
      "22  Bob   Mar  Week 4     261          -2.6\n",
      "23  Amy   Mar  Week 4     170          -1.7\n",
      "30  Bob   Apr  Week 4     250          -4.2\n",
      "31  Amy   Apr  Week 4     161          -5.3\n"
     ]
    }
   ],
   "source": [
    "# 看最後一周 就可以決定贏家\n",
    "print(weight_loss\n",
    "        .assign(percent_loss=(weight_loss\n",
    "            .groupby(['Name', 'Month'])\n",
    "            ['Weight']\n",
    "            .transform(percent_loss)\n",
    "            .round(1)))\n",
    "        .query('Week == \"Week 4\"')\n",
    ")"
   ]
  },
  {
   "cell_type": "code",
   "execution_count": 16,
   "id": "7fe2c24b",
   "metadata": {},
   "outputs": [
    {
     "name": "stdout",
     "output_type": "stream",
     "text": [
      "Name   Amy  Bob\n",
      "Month          \n",
      "Apr   -5.3 -4.2\n",
      "Feb   -8.9 -5.3\n",
      "Jan   -3.6 -2.7\n",
      "Mar   -1.7 -2.6\n"
     ]
    }
   ],
   "source": [
    "# pivot 一下\n",
    "print(weight_loss\n",
    "        .assign(percent_loss=(weight_loss\n",
    "            .groupby(['Name', 'Month'])\n",
    "            ['Weight']\n",
    "            .transform(percent_loss)\n",
    "            .round(1)))\n",
    "        .query('Week == \"Week 4\"')\n",
    "        .pivot(index='Month', columns='Name',\n",
    "               values='percent_loss')\n",
    ")"
   ]
  },
  {
   "cell_type": "code",
   "execution_count": 17,
   "id": "42fd9b41",
   "metadata": {},
   "outputs": [
    {
     "name": "stdout",
     "output_type": "stream",
     "text": [
      "Name   Amy  Bob winner\n",
      "Month                 \n",
      "Apr   -5.3 -4.2    Amy\n",
      "Feb   -8.9 -5.3    Amy\n",
      "Jan   -3.6 -2.7    Amy\n",
      "Mar   -1.7 -2.6    Bob\n"
     ]
    }
   ],
   "source": [
    "# 用 np.where() 放入獲勝者\n",
    "print(weight_loss\n",
    "        .assign(percent_loss=(weight_loss\n",
    "            .groupby(['Name', 'Month'])\n",
    "            ['Weight']\n",
    "            .transform(percent_loss)\n",
    "            .round(1)))\n",
    "        .query('Week == \"Week 4\"')\n",
    "        .pivot(index='Month', columns='Name',\n",
    "               values='percent_loss')\n",
    "        .assign(winner=lambda df_:\n",
    "                np.where(df_.Amy < df_.Bob, 'Amy', 'Bob'))\n",
    ")"
   ]
  },
  {
   "cell_type": "code",
   "execution_count": 19,
   "id": "ae64baf1",
   "metadata": {},
   "outputs": [
    {
     "name": "stdout",
     "output_type": "stream",
     "text": [
      "winner\n",
      "Amy    3\n",
      "Bob    1\n",
      "Name: count, dtype: int64\n"
     ]
    }
   ],
   "source": [
    "# 算出獲勝次數\n",
    "print(weight_loss\n",
    "        .assign(percent_loss=(weight_loss\n",
    "            .groupby(['Name', 'Month'])\n",
    "            ['Weight']\n",
    "            .transform(percent_loss)\n",
    "            .round(1)))\n",
    "        .query('Week == \"Week 4\"')\n",
    "        .pivot(index='Month', columns='Name',\n",
    "               values='percent_loss')\n",
    "        .assign(winner=lambda df_:\n",
    "                np.where(df_.Amy < df_.Bob, 'Amy', 'Bob'))\n",
    "        .winner\n",
    "        .value_counts()\n",
    ")"
   ]
  },
  {
   "cell_type": "code",
   "execution_count": 21,
   "id": "da2351b0",
   "metadata": {},
   "outputs": [
    {
     "name": "stdout",
     "output_type": "stream",
     "text": [
      "Name   Amy  Bob\n",
      "Month          \n",
      "Jan   -3.6 -2.7\n",
      "Feb   -8.9 -5.3\n",
      "Mar   -1.7 -2.6\n",
      "Apr   -5.3 -4.2\n"
     ]
    }
   ],
   "source": [
    "# 轉換月份排序\n",
    "print(weight_loss\n",
    "        .assign(percent_loss=(weight_loss\n",
    "            .groupby(['Name', 'Month'])\n",
    "            ['Weight']\n",
    "            .transform(percent_loss)\n",
    "            .round(1)),\n",
    "                Month=pd.Categorical(weight_loss.Month,\n",
    "                      categories=['Jan', 'Feb', 'Mar', 'Apr'],\n",
    "                      ordered=True))\n",
    "        .query('Week == \"Week 4\"')\n",
    "        .pivot(index='Month', columns='Name',\n",
    "               values='percent_loss')\n",
    ")"
   ]
  },
  {
   "cell_type": "markdown",
   "id": "49718c44",
   "metadata": {},
   "source": [
    "## 9.9 使用apply() 計算加權平均數"
   ]
  },
  {
   "cell_type": "code",
   "execution_count": 22,
   "id": "b95f1038",
   "metadata": {},
   "outputs": [
    {
     "name": "stdout",
     "output_type": "stream",
     "text": [
      "(7535, 27)\n",
      "(1184, 27)\n"
     ]
    }
   ],
   "source": [
    "# 載入資料集\n",
    "college = pd.read_csv('../../data/college.csv')\n",
    "# 刪除這三個欄位的缺失值\n",
    "subset = ['UGDS', 'SATMTMID', 'SATVRMID']\n",
    "college2 = college.dropna(subset=subset)\n",
    "print(college.shape)\n",
    "print(college2.shape)\n"
   ]
  },
  {
   "cell_type": "code",
   "execution_count": 23,
   "id": "888ce55a",
   "metadata": {},
   "outputs": [],
   "source": [
    "# 定義一個計算SAT 數學成績的加權平均\n",
    "def weighted_math_average(df):\n",
    "    weighted_math = df['UGDS'] * df['SATMTMID']\n",
    "    return int(weighted_math.sum() / df['UGDS'].sum())"
   ]
  },
  {
   "cell_type": "code",
   "execution_count": 24,
   "id": "61c8133f",
   "metadata": {},
   "outputs": [
    {
     "name": "stdout",
     "output_type": "stream",
     "text": [
      "STABBR\n",
      "AK    503\n",
      "AL    536\n",
      "AR    529\n",
      "AZ    569\n",
      "CA    564\n",
      "CO    553\n",
      "CT    545\n",
      "DC    621\n",
      "DE    569\n",
      "FL    565\n",
      "GA    540\n",
      "HI    534\n",
      "IA    577\n",
      "ID    509\n",
      "IL    594\n",
      "IN    546\n",
      "KS    491\n",
      "KY    525\n",
      "LA    549\n",
      "MA    597\n",
      "MD    572\n",
      "ME    524\n",
      "MI    586\n",
      "MN    598\n",
      "MO    576\n",
      "MS    527\n",
      "MT    551\n",
      "NC    552\n",
      "ND    546\n",
      "NE    567\n",
      "NH    561\n",
      "NJ    554\n",
      "NM    529\n",
      "NV    516\n",
      "NY    578\n",
      "OH    569\n",
      "OK    557\n",
      "OR    540\n",
      "PA    553\n",
      "PR    571\n",
      "RI    567\n",
      "SC    549\n",
      "SD    528\n",
      "TN    544\n",
      "TX    548\n",
      "UT    577\n",
      "VA    550\n",
      "VI    390\n",
      "VT    566\n",
      "WA    555\n",
      "WI    593\n",
      "WV    500\n",
      "WY    540\n",
      "dtype: int64\n"
     ]
    },
    {
     "name": "stderr",
     "output_type": "stream",
     "text": [
      "C:\\Users\\coffi\\AppData\\Local\\Temp\\ipykernel_8496\\494927486.py:2: DeprecationWarning: DataFrameGroupBy.apply operated on the grouping columns. This behavior is deprecated, and in a future version of pandas the grouping columns will be excluded from the operation. Either pass `include_groups=False` to exclude the groupings or explicitly select the grouping columns after groupby to silence this warning.\n",
      "  print(college2.groupby('STABBR').apply(weighted_math_average))\n"
     ]
    }
   ],
   "source": [
    "# 用在groupby 各州後的資料 可以回傳純量\n",
    "print(college2.groupby('STABBR').apply(weighted_math_average))"
   ]
  },
  {
   "cell_type": "code",
   "execution_count": 26,
   "id": "048986d5",
   "metadata": {},
   "outputs": [],
   "source": [
    "# 算出每個科目的加權平均和算術平均 大學數量\n",
    "def weighted_average(df):\n",
    "    weight_m = df['UGDS'] * df['SATMTMID']\n",
    "    weight_v = df['UGDS'] * df['SATVRMID']\n",
    "    wm_avg = weight_m.sum() / df['UGDS'].sum()\n",
    "    wv_avg = weight_v.sum() / df['UGDS'].sum()\n",
    "    data = {'w_math_avg': wm_avg,\n",
    "            'w_verbal_avg': wv_avg,\n",
    "            'math_avg': df['SATMTMID'].mean(),\n",
    "            'verbal_avg': df['SATVRMID'].mean(),\n",
    "            'count': len(df)\n",
    "            }\n",
    "    return pd.Series(data)"
   ]
  },
  {
   "cell_type": "code",
   "execution_count": null,
   "id": "cc18433e",
   "metadata": {},
   "outputs": [
    {
     "name": "stdout",
     "output_type": "stream",
     "text": [
      "w_math_avg       559.408812\n",
      "w_verbal_avg     542.989462\n",
      "math_avg         530.958615\n",
      "verbal_avg       522.775338\n",
      "count           1184.000000\n",
      "dtype: float64\n"
     ]
    }
   ],
   "source": [
    "# 用全部算\n",
    "print(weighted_average(college2))"
   ]
  },
  {
   "cell_type": "code",
   "execution_count": 29,
   "id": "4f86965d",
   "metadata": {},
   "outputs": [
    {
     "name": "stdout",
     "output_type": "stream",
     "text": [
      "        w_math_avg  w_verbal_avg  math_avg  verbal_avg  count\n",
      "STABBR                                                       \n",
      "AK             503           555       503         555      1\n",
      "AL             536           533       504         508     21\n",
      "AR             529           504       515         491     16\n",
      "AZ             569           557       536         538      6\n",
      "CA             564           539       562         549     72\n",
      "CO             553           547       540         537     14\n",
      "CT             545           533       522         517     14\n",
      "DC             621           623       588         589      6\n",
      "DE             569           553       495         486      3\n",
      "FL             565           565       521         529     38\n",
      "GA             540           541       503         509     42\n",
      "HI             534           513       513         497      4\n",
      "IA             577           533       534         511     23\n",
      "ID             509           510       504         510      7\n",
      "IL             594           560       551         532     38\n",
      "IN             546           531       525         517     42\n",
      "KS             491           473       483         469     15\n",
      "KY             525           516       510         502     23\n",
      "LA             549           532       521         511     15\n",
      "MA             597           578       566         555     47\n",
      "MD             572           560       530         533     19\n",
      "ME             524           521       522         512      9\n",
      "MI             586           542       553         531     25\n",
      "MN             598           574       558         557     25\n",
      "MO             576           565       550         541     29\n",
      "MS             527           517       518         500     11\n",
      "MT             551           551       540         528      6\n",
      "NC             552           539       502         502     48\n",
      "ND             546           531       511         498      8\n",
      "NE             567           545       527         508      8\n",
      "NH             561           552       538         535      6\n",
      "NJ             554           525       530         509     27\n",
      "NM             529           516       529         506      5\n",
      "NV             516           511       510         508      3\n",
      "NY             578           554       557         542     87\n",
      "OH             569           547       536         529     45\n",
      "OK             557           543       516         505     14\n",
      "OR             540           538       539         543     17\n",
      "PA             553           538       518         511    102\n",
      "PR             571           564       554         546      4\n",
      "RI             567           557       591         577      4\n",
      "SC             549           540       500         497     29\n",
      "SD             528           483       519         491     10\n",
      "TN             544           539       511         510     32\n",
      "TX             548           527       524         511     62\n",
      "UT             577           576       561         561      4\n",
      "VA             550           549       526         529     39\n",
      "VI             390           400       390         400      1\n",
      "VT             566           564       526         527      8\n",
      "WA             555           541       551         548     18\n",
      "WI             593           556       545         516     14\n",
      "WV             500           487       481         473     17\n",
      "WY             540           535       540         535      1\n"
     ]
    }
   ],
   "source": [
    "# 用各州分組\n",
    "print(college2\n",
    "        .groupby('STABBR')\n",
    "        .apply(weighted_average, include_groups=False)\n",
    "        .astype(int))"
   ]
  },
  {
   "cell_type": "code",
   "execution_count": 32,
   "id": "719510c9",
   "metadata": {},
   "outputs": [
    {
     "name": "stdout",
     "output_type": "stream",
     "text": [
      "                   SATMTMID  SATVRMID  count\n",
      "STABBR                                      \n",
      "AK     Arithmetic       503       555      1\n",
      "       Weighted         503       555      1\n",
      "       Geometric        503       555      1\n",
      "       Harmonic         503       555      1\n",
      "AL     Arithmetic       504       508     21\n",
      "...                     ...       ...    ...\n",
      "WV     Harmonic         480       472     17\n",
      "WY     Arithmetic       540       535      1\n",
      "       Weighted         540       535      1\n",
      "       Geometric        540       534      1\n",
      "       Harmonic         540       535      1\n",
      "\n",
      "[212 rows x 3 columns]\n"
     ]
    }
   ],
   "source": [
    "# 回傳df\n",
    "from scipy.stats import gmean, hmean\n",
    "def calculate_means(df):\n",
    "    df_means = pd.DataFrame(index=['Arithmetic', 'Weighted',\n",
    "                                   'Geometric', 'Harmonic'])\n",
    "    cols = ['SATMTMID', 'SATVRMID']\n",
    "    for col in cols:\n",
    "        arithmetic = df[col].mean()\n",
    "        weighted = np.average(df[col], weights=df['UGDS'])\n",
    "        geometric = gmean(df[col])\n",
    "        harmonic = hmean(df[col])\n",
    "        df_means[col] = [arithmetic, weighted, geometric, harmonic]\n",
    "    df_means['count'] = len(df)\n",
    "    return df_means.astype(int)\n",
    "print(college2\n",
    "        .groupby('STABBR')\n",
    "        .apply(calculate_means, include_groups = False))"
   ]
  },
  {
   "cell_type": "markdown",
   "id": "82b8ac5d",
   "metadata": {},
   "source": [
    "## 9.10 以連續變化的數值進行分組"
   ]
  },
  {
   "cell_type": "code",
   "execution_count": 3,
   "id": "3346ca80",
   "metadata": {},
   "outputs": [],
   "source": [
    "# 載入資料集\n",
    "flights = pd.read_csv('../../data/flights.csv')"
   ]
  },
  {
   "cell_type": "code",
   "execution_count": 4,
   "id": "5af00909",
   "metadata": {},
   "outputs": [
    {
     "name": "stdout",
     "output_type": "stream",
     "text": [
      "0         (500.0, 1000.0]\n",
      "1        (1000.0, 2000.0]\n",
      "2         (500.0, 1000.0]\n",
      "3        (1000.0, 2000.0]\n",
      "4        (1000.0, 2000.0]\n",
      "               ...       \n",
      "58487    (1000.0, 2000.0]\n",
      "58488      (200.0, 500.0]\n",
      "58489      (200.0, 500.0]\n",
      "58490     (500.0, 1000.0]\n",
      "58491     (500.0, 1000.0]\n",
      "Name: DIST, Length: 58492, dtype: category\n",
      "Categories (5, interval[float64, right]): [(-inf, 200.0] < (200.0, 500.0] < (500.0, 1000.0] < (1000.0, 2000.0] < (2000.0, inf]]\n"
     ]
    }
   ],
   "source": [
    "# 將飛行距離分成5個區間\n",
    "bins = [-np.inf, 200, 500, 1000, 2000, np.inf]\n",
    "cuts = pd.cut(flights['DIST'], bins=bins)\n",
    "print(cuts)"
   ]
  },
  {
   "cell_type": "code",
   "execution_count": 5,
   "id": "a572b0b7",
   "metadata": {},
   "outputs": [
    {
     "name": "stdout",
     "output_type": "stream",
     "text": [
      "DIST\n",
      "(500.0, 1000.0]     20659\n",
      "(200.0, 500.0]      15874\n",
      "(1000.0, 2000.0]    14186\n",
      "(2000.0, inf]        4054\n",
      "(-inf, 200.0]        3719\n",
      "Name: count, dtype: int64\n"
     ]
    }
   ],
   "source": [
    "# 查看分組結果\n",
    "print(cuts.value_counts())"
   ]
  },
  {
   "cell_type": "code",
   "execution_count": 11,
   "id": "c217bd2a",
   "metadata": {},
   "outputs": [
    {
     "name": "stdout",
     "output_type": "stream",
     "text": [
      "DIST           AIRLINE\n",
      "(-inf, 200.0]  OO         0.326\n",
      "               EV         0.289\n",
      "               MQ         0.211\n",
      "               DL         0.086\n",
      "               AA         0.052\n",
      "                          ...  \n",
      "(2000.0, inf]  AS         0.012\n",
      "               F9         0.004\n",
      "               EV         0.000\n",
      "               MQ         0.000\n",
      "               OO         0.000\n",
      "Name: proportion, Length: 70, dtype: float64\n"
     ]
    }
   ],
   "source": [
    "# 拿來分組 並算出各航空的相對頻率\n",
    "print(flights\n",
    "        .groupby(cuts, observed=False)\n",
    "        ['AIRLINE']\n",
    "        .value_counts(normalize=True)\n",
    "        .round(3))"
   ]
  },
  {
   "cell_type": "code",
   "execution_count": 8,
   "id": "474f0d7b",
   "metadata": {},
   "outputs": [
    {
     "name": "stdout",
     "output_type": "stream",
     "text": [
      "DIST                  \n",
      "(-inf, 200.0]     0.25    0.43\n",
      "                  0.50    0.50\n",
      "                  0.75    0.57\n",
      "(200.0, 500.0]    0.25    0.77\n",
      "                  0.50    0.92\n",
      "                  0.75    1.05\n",
      "(500.0, 1000.0]   0.25    1.43\n",
      "                  0.50    1.65\n",
      "                  0.75    1.92\n",
      "(1000.0, 2000.0]  0.25    2.50\n",
      "                  0.50    2.93\n",
      "                  0.75    3.40\n",
      "(2000.0, inf]     0.25    4.30\n",
      "                  0.50    4.70\n",
      "                  0.75    5.03\n",
      "Name: AIR_TIME, dtype: float64\n"
     ]
    }
   ],
   "source": [
    "# 也可以拿來算飛行時間的四分位數\n",
    "print(flights\n",
    "        .groupby(cuts, observed=False)\n",
    "        ['AIR_TIME']\n",
    "        .quantile(q=[.25, .5, .75])\n",
    "        .div(60)\n",
    "        .round(2))"
   ]
  },
  {
   "cell_type": "markdown",
   "id": "48519a13",
   "metadata": {},
   "source": [
    "## 9.11 案例演練: 計算城市之間的航班總數"
   ]
  },
  {
   "cell_type": "code",
   "execution_count": 12,
   "id": "5b8e9ed1",
   "metadata": {},
   "outputs": [],
   "source": [
    "# 載入資料集\n",
    "flights = pd.read_csv('../../data/flights.csv')"
   ]
  },
  {
   "cell_type": "code",
   "execution_count": 13,
   "id": "d4ff6127",
   "metadata": {},
   "outputs": [
    {
     "name": "stdout",
     "output_type": "stream",
     "text": [
      "ORG_AIR  DEST_AIR\n",
      "ATL      ABE          31\n",
      "         ABQ          16\n",
      "         ABY          19\n",
      "         ACY           6\n",
      "         AEX          40\n",
      "                    ... \n",
      "SFO      SNA         122\n",
      "         STL          20\n",
      "         SUN          10\n",
      "         TUS          20\n",
      "         XNA           2\n",
      "Length: 1130, dtype: int64\n"
     ]
    }
   ],
   "source": [
    "# 計算起點與終點有多少種組合\n",
    "flights_ct = flights.groupby(['ORG_AIR', 'DEST_AIR']).size()\n",
    "print(flights_ct)"
   ]
  },
  {
   "cell_type": "code",
   "execution_count": 15,
   "id": "74949375",
   "metadata": {},
   "outputs": [
    {
     "name": "stdout",
     "output_type": "stream",
     "text": [
      "ORG_AIR  DEST_AIR\n",
      "ATL      IAH         121\n",
      "IAH      ATL         148\n",
      "dtype: int64\n"
     ]
    }
   ],
   "source": [
    "# 找出IAH ATL 的雙線航班\n",
    "print(flights_ct.loc[[('ATL', 'IAH'), ('IAH', 'ATL')]])"
   ]
  },
  {
   "cell_type": "code",
   "execution_count": 16,
   "id": "13548d36",
   "metadata": {},
   "outputs": [
    {
     "name": "stdout",
     "output_type": "stream",
     "text": [
      "         0    1\n",
      "0      LAX  SLC\n",
      "1      DEN  IAD\n",
      "2      DFW  VPS\n",
      "3      DCA  DFW\n",
      "4      LAX  MCI\n",
      "...    ...  ...\n",
      "58487  DFW  SFO\n",
      "58488  LAS  SFO\n",
      "58489  SBA  SFO\n",
      "58490  ATL  MSP\n",
      "58491  BOI  SFO\n",
      "\n",
      "[58492 rows x 2 columns]\n"
     ]
    }
   ],
   "source": [
    "# 做出新的標籤\n",
    "f_part3 = (flights\n",
    "           [['ORG_AIR', 'DEST_AIR']]\n",
    "           .apply(lambda ser:\n",
    "                  ser.sort_values().reset_index(drop=True),\n",
    "                  axis='columns'))\n",
    "print(f_part3)"
   ]
  },
  {
   "cell_type": "code",
   "execution_count": null,
   "id": "eba5ea19",
   "metadata": {},
   "outputs": [
    {
     "name": "stdout",
     "output_type": "stream",
     "text": [
      "AIR1  AIR2\n",
      "ABE   ATL      31\n",
      "      ORD      24\n",
      "ABI   DFW      74\n",
      "ABQ   ATL      16\n",
      "      DEN      46\n",
      "             ... \n",
      "SFO   SNA     122\n",
      "      STL      20\n",
      "      SUN      10\n",
      "      TUS      20\n",
      "      XNA       2\n",
      "Length: 1085, dtype: int64\n"
     ]
    }
   ],
   "source": [
    "# 重新命名欄位名稱\n",
    "rename_dict = {0:'AIR1', 1:'AIR2'}\n",
    "print(flights\n",
    "           [['ORG_AIR', 'DEST_AIR']]\n",
    "           .apply(lambda ser:\n",
    "                  ser.sort_values().reset_index(drop=True),\n",
    "                  axis='columns')\n",
    "            .rename(columns=rename_dict)\n",
    "            .groupby(['AIR1', 'AIR2'])\n",
    "            .size())"
   ]
  },
  {
   "cell_type": "code",
   "execution_count": 18,
   "id": "cda8a09d",
   "metadata": {},
   "outputs": [
    {
     "name": "stdout",
     "output_type": "stream",
     "text": [
      "269\n"
     ]
    }
   ],
   "source": [
    "# 計算ATL 與IAH 之間航班數\n",
    "rename_dict = {0:'AIR1', 1:'AIR2'}\n",
    "print(flights\n",
    "           [['ORG_AIR', 'DEST_AIR']]\n",
    "           .apply(lambda ser:\n",
    "                  ser.sort_values().reset_index(drop=True),\n",
    "                  axis='columns')\n",
    "            .rename(columns=rename_dict)\n",
    "            .groupby(['AIR1', 'AIR2'])\n",
    "            .size()\n",
    "            .loc[('ATL', 'IAH')])"
   ]
  },
  {
   "cell_type": "code",
   "execution_count": 19,
   "id": "9450b61f",
   "metadata": {},
   "outputs": [
    {
     "data": {
      "text/plain": [
       "True"
      ]
     },
     "execution_count": 19,
     "metadata": {},
     "output_type": "execute_result"
    }
   ],
   "source": [
    "# 改用np.sort()\n",
    "data_sorted = np.sort(flights[['ORG_AIR', 'DEST_AIR']])\n",
    "\n",
    "# 改為df 並重新命名欄位名稱\n",
    "flights_sort2 = pd.DataFrame(data_sorted, columns=['AIR1', 'AIR2'])\n",
    "\n",
    "# 比較結果\n",
    "flights_sort2.equals(f_part3.rename(columns={0:'AIR1', 1:'AIR2'}))"
   ]
  },
  {
   "cell_type": "markdown",
   "id": "38ffbf53",
   "metadata": {},
   "source": [
    "## 9.12 案例演練: 尋找航班的連續準時紀錄"
   ]
  },
  {
   "cell_type": "code",
   "execution_count": 20,
   "id": "1d14ccd3",
   "metadata": {},
   "outputs": [
    {
     "name": "stdout",
     "output_type": "stream",
     "text": [
      "0    0\n",
      "1    1\n",
      "2    1\n",
      "3    0\n",
      "4    1\n",
      "5    1\n",
      "6    1\n",
      "7    0\n",
      "dtype: int64\n"
     ]
    }
   ],
   "source": [
    "# 先用一個簡單的Series 練習找出連續紀錄\n",
    "s = pd.Series([0, 1, 1, 0, 1, 1, 1, 0])\n",
    "print(s)"
   ]
  },
  {
   "cell_type": "code",
   "execution_count": 21,
   "id": "3524512b",
   "metadata": {},
   "outputs": [
    {
     "name": "stdout",
     "output_type": "stream",
     "text": [
      "0    0\n",
      "1    1\n",
      "2    2\n",
      "3    2\n",
      "4    3\n",
      "5    4\n",
      "6    5\n",
      "7    5\n",
      "dtype: int64\n"
     ]
    }
   ],
   "source": [
    "# 使用cumsum()\n",
    "s1 = s.cumsum()\n",
    "print(s1)"
   ]
  },
  {
   "cell_type": "code",
   "execution_count": 23,
   "id": "c46be0bc",
   "metadata": {},
   "outputs": [
    {
     "name": "stdout",
     "output_type": "stream",
     "text": [
      "0    0\n",
      "1    1\n",
      "2    2\n",
      "3    0\n",
      "4    3\n",
      "5    4\n",
      "6    5\n",
      "7    0\n",
      "dtype: int64\n"
     ]
    }
   ],
   "source": [
    "# 將s1 乘上 s\n",
    "print(s.mul(s1))"
   ]
  },
  {
   "cell_type": "code",
   "execution_count": 25,
   "id": "ef85d872",
   "metadata": {},
   "outputs": [
    {
     "name": "stdout",
     "output_type": "stream",
     "text": [
      "0    NaN\n",
      "1    1.0\n",
      "2    1.0\n",
      "3   -2.0\n",
      "4    3.0\n",
      "5    1.0\n",
      "6    1.0\n",
      "7   -5.0\n",
      "dtype: float64\n"
     ]
    }
   ],
   "source": [
    "# 使用diff()\n",
    "print(s.mul(s1).diff())"
   ]
  },
  {
   "cell_type": "code",
   "execution_count": 27,
   "id": "19e739d8",
   "metadata": {},
   "outputs": [
    {
     "name": "stdout",
     "output_type": "stream",
     "text": [
      "0    NaN\n",
      "1    NaN\n",
      "2    NaN\n",
      "3   -2.0\n",
      "4    NaN\n",
      "5    NaN\n",
      "6    NaN\n",
      "7   -5.0\n",
      "dtype: float64\n"
     ]
    }
   ],
   "source": [
    "# 只保留負數值\n",
    "print(s.mul(s.cumsum())\n",
    "  .diff()\n",
    "  .where(lambda x: x < 0))"
   ]
  },
  {
   "cell_type": "code",
   "execution_count": 30,
   "id": "a8f695ef",
   "metadata": {},
   "outputs": [
    {
     "name": "stdout",
     "output_type": "stream",
     "text": [
      "0    NaN\n",
      "1    NaN\n",
      "2    NaN\n",
      "3   -2.0\n",
      "4   -2.0\n",
      "5   -2.0\n",
      "6   -2.0\n",
      "7   -5.0\n",
      "dtype: float64\n"
     ]
    }
   ],
   "source": [
    "# 填補缺失值\n",
    "print(s.mul(s.cumsum())\n",
    "  .diff()\n",
    "  .where(lambda x: x < 0)\n",
    "  .ffill())"
   ]
  },
  {
   "cell_type": "code",
   "execution_count": null,
   "id": "075640aa",
   "metadata": {},
   "outputs": [
    {
     "name": "stdout",
     "output_type": "stream",
     "text": [
      "0    0.0\n",
      "1    1.0\n",
      "2    2.0\n",
      "3    0.0\n",
      "4    1.0\n",
      "5    2.0\n",
      "6    3.0\n",
      "7    0.0\n",
      "dtype: float64\n"
     ]
    }
   ],
   "source": [
    "# 與cumsum() 結果相加\n",
    "print(s.mul(s.cumsum())\n",
    "  .diff()\n",
    "  .where(lambda x: x < 0)\n",
    "  .ffill()\n",
    "  .add(s.cumsum(), fill_value=0)\n",
    ")"
   ]
  },
  {
   "cell_type": "code",
   "execution_count": 32,
   "id": "922c4fc7",
   "metadata": {},
   "outputs": [],
   "source": [
    "# 載入資料集\n",
    "flights = pd.read_csv('../../data/flights.csv')"
   ]
  },
  {
   "cell_type": "code",
   "execution_count": 33,
   "id": "6047e131",
   "metadata": {},
   "outputs": [],
   "source": [
    "# 把前面的計數器改寫為函式\n",
    "def max_streak(s):\n",
    "    s1 = s.cumsum()\n",
    "    return (s.mul(s1)\n",
    "            .diff()\n",
    "            .where(lambda x: x < 0)\n",
    "            .ffill()\n",
    "            .add(s.cumsum(), fill_value=0)\n",
    "            .max())"
   ]
  },
  {
   "cell_type": "code",
   "execution_count": null,
   "id": "fd1dad47",
   "metadata": {},
   "outputs": [
    {
     "name": "stdout",
     "output_type": "stream",
     "text": [
      "                 mean  size  max_streak\n",
      "AIRLINE ORG_AIR                        \n",
      "AA      ATL      0.82   233        15.0\n",
      "        DEN      0.74   219        17.0\n",
      "        DFW      0.78  4006        64.0\n",
      "        IAH      0.80   196        24.0\n",
      "        LAS      0.79   374        29.0\n",
      "...               ...   ...         ...\n",
      "WN      LAS      0.77  2031        39.0\n",
      "        LAX      0.70  1135        23.0\n",
      "        MSP      0.84   237        32.0\n",
      "        PHX      0.77  1724        33.0\n",
      "        SFO      0.76   445        17.0\n",
      "\n",
      "[114 rows x 3 columns]\n"
     ]
    }
   ],
   "source": [
    "# 套用函式 找出每家航空的最大連續準時紀錄\n",
    "print(flights\n",
    "        .assign(ON_TIME=flights['ARR_DELAY'].lt(15).astype(int))\n",
    "        .sort_values(['MONTH', 'DAY', 'SCHED_DEP'])\n",
    "        .groupby(['AIRLINE', 'ORG_AIR'])\n",
    "        ['ON_TIME']\n",
    "        .agg(['mean', 'size', max_streak])\n",
    "        .round(2))"
   ]
  }
 ],
 "metadata": {
  "kernelspec": {
   "display_name": "Python 3",
   "language": "python",
   "name": "python3"
  },
  "language_info": {
   "codemirror_mode": {
    "name": "ipython",
    "version": 3
   },
   "file_extension": ".py",
   "mimetype": "text/x-python",
   "name": "python",
   "nbconvert_exporter": "python",
   "pygments_lexer": "ipython3",
   "version": "3.13.0"
  }
 },
 "nbformat": 4,
 "nbformat_minor": 5
}

{
 "cells": [
  {
   "cell_type": "markdown",
   "id": "6b146155",
   "metadata": {},
   "source": [
    "## 4.1 制定資料分析的例行程序"
   ]
  },
  {
   "cell_type": "code",
   "execution_count": 1,
   "id": "6d329c57",
   "metadata": {},
   "outputs": [],
   "source": [
    "import numpy as np\n",
    "import pandas as pd"
   ]
  },
  {
   "cell_type": "code",
   "execution_count": 2,
   "id": "fa65deb7",
   "metadata": {},
   "outputs": [
    {
     "name": "stdout",
     "output_type": "stream",
     "text": [
      "                    INSTNM         CITY STABBR  HBCU  MENONLY  WOMENONLY  \\\n",
      "3649  Career Point College  San Antonio     TX   0.0      0.0        0.0   \n",
      "\n",
      "      RELAFFIL  SATVRMID  SATMTMID  DISTANCEONLY  ...  UGDS_2MOR  UGDS_NRA  \\\n",
      "3649         0       NaN       NaN           0.0  ...        0.0       0.0   \n",
      "\n",
      "      UGDS_UNKN  PPTUG_EF  CURROPER  PCTPELL  PCTFLOAN  UG25ABV  \\\n",
      "3649        0.0       0.0         1   0.9172    0.9172    0.697   \n",
      "\n",
      "      MD_EARN_WNE_P10  GRAD_DEBT_MDN_SUPP  \n",
      "3649            20700               14977  \n",
      "\n",
      "[1 rows x 27 columns]\n"
     ]
    }
   ],
   "source": [
    "# 讀取資料集 並查看資料\n",
    "college = pd.read_csv('../../data/college.csv')\n",
    "print(college.sample(random_state=42))"
   ]
  },
  {
   "cell_type": "code",
   "execution_count": 3,
   "id": "3f903ac6",
   "metadata": {},
   "outputs": [
    {
     "data": {
      "text/plain": [
       "(7535, 27)"
      ]
     },
     "execution_count": 3,
     "metadata": {},
     "output_type": "execute_result"
    }
   ],
   "source": [
    "# 用shape屬性看dataframe 的維度大小\n",
    "college.shape"
   ]
  },
  {
   "cell_type": "code",
   "execution_count": 4,
   "id": "0708c988",
   "metadata": {},
   "outputs": [
    {
     "name": "stdout",
     "output_type": "stream",
     "text": [
      "<class 'pandas.core.frame.DataFrame'>\n",
      "RangeIndex: 7535 entries, 0 to 7534\n",
      "Data columns (total 27 columns):\n",
      " #   Column              Non-Null Count  Dtype  \n",
      "---  ------              --------------  -----  \n",
      " 0   INSTNM              7535 non-null   object \n",
      " 1   CITY                7535 non-null   object \n",
      " 2   STABBR              7535 non-null   object \n",
      " 3   HBCU                7164 non-null   float64\n",
      " 4   MENONLY             7164 non-null   float64\n",
      " 5   WOMENONLY           7164 non-null   float64\n",
      " 6   RELAFFIL            7535 non-null   int64  \n",
      " 7   SATVRMID            1185 non-null   float64\n",
      " 8   SATMTMID            1196 non-null   float64\n",
      " 9   DISTANCEONLY        7164 non-null   float64\n",
      " 10  UGDS                6874 non-null   float64\n",
      " 11  UGDS_WHITE          6874 non-null   float64\n",
      " 12  UGDS_BLACK          6874 non-null   float64\n",
      " 13  UGDS_HISP           6874 non-null   float64\n",
      " 14  UGDS_ASIAN          6874 non-null   float64\n",
      " 15  UGDS_AIAN           6874 non-null   float64\n",
      " 16  UGDS_NHPI           6874 non-null   float64\n",
      " 17  UGDS_2MOR           6874 non-null   float64\n",
      " 18  UGDS_NRA            6874 non-null   float64\n",
      " 19  UGDS_UNKN           6874 non-null   float64\n",
      " 20  PPTUG_EF            6853 non-null   float64\n",
      " 21  CURROPER            7535 non-null   int64  \n",
      " 22  PCTPELL             6849 non-null   float64\n",
      " 23  PCTFLOAN            6849 non-null   float64\n",
      " 24  UG25ABV             6718 non-null   float64\n",
      " 25  MD_EARN_WNE_P10     6413 non-null   object \n",
      " 26  GRAD_DEBT_MDN_SUPP  7503 non-null   object \n",
      "dtypes: float64(20), int64(2), object(5)\n",
      "memory usage: 1.6+ MB\n"
     ]
    }
   ],
   "source": [
    "# 用info 看更多的metadata\n",
    "college.info()"
   ]
  },
  {
   "cell_type": "code",
   "execution_count": 5,
   "id": "3e0577ce",
   "metadata": {},
   "outputs": [
    {
     "name": "stdout",
     "output_type": "stream",
     "text": [
      "               count         mean          std    min         25%        50%  \\\n",
      "HBCU          7164.0     0.014238     0.118478    0.0    0.000000    0.00000   \n",
      "MENONLY       7164.0     0.009213     0.095546    0.0    0.000000    0.00000   \n",
      "WOMENONLY     7164.0     0.005304     0.072642    0.0    0.000000    0.00000   \n",
      "RELAFFIL      7535.0     0.190975     0.393096    0.0    0.000000    0.00000   \n",
      "SATVRMID      1185.0   522.819409    68.578862  290.0  475.000000  510.00000   \n",
      "SATMTMID      1196.0   530.765050    73.469767  310.0  482.000000  520.00000   \n",
      "DISTANCEONLY  7164.0     0.005583     0.074519    0.0    0.000000    0.00000   \n",
      "UGDS          6874.0  2356.837940  5474.275871    0.0  117.000000  412.50000   \n",
      "UGDS_WHITE    6874.0     0.510207     0.286958    0.0    0.267500    0.55570   \n",
      "UGDS_BLACK    6874.0     0.189997     0.224587    0.0    0.036125    0.10005   \n",
      "UGDS_HISP     6874.0     0.161635     0.221854    0.0    0.027600    0.07140   \n",
      "UGDS_ASIAN    6874.0     0.033544     0.073777    0.0    0.002500    0.01290   \n",
      "UGDS_AIAN     6874.0     0.013813     0.070196    0.0    0.000000    0.00260   \n",
      "UGDS_NHPI     6874.0     0.004569     0.033125    0.0    0.000000    0.00000   \n",
      "UGDS_2MOR     6874.0     0.023950     0.031288    0.0    0.000000    0.01750   \n",
      "UGDS_NRA      6874.0     0.016086     0.050172    0.0    0.000000    0.00000   \n",
      "UGDS_UNKN     6874.0     0.045181     0.093440    0.0    0.000000    0.01430   \n",
      "PPTUG_EF      6853.0     0.226639     0.246470    0.0    0.000000    0.15040   \n",
      "CURROPER      7535.0     0.923291     0.266146    0.0    1.000000    1.00000   \n",
      "PCTPELL       6849.0     0.530643     0.225544    0.0    0.357800    0.52150   \n",
      "PCTFLOAN      6849.0     0.522211     0.283616    0.0    0.332900    0.58330   \n",
      "UG25ABV       6718.0     0.410021     0.228939    0.0    0.241500    0.40075   \n",
      "\n",
      "                      75%          max  \n",
      "HBCU             0.000000       1.0000  \n",
      "MENONLY          0.000000       1.0000  \n",
      "WOMENONLY        0.000000       1.0000  \n",
      "RELAFFIL         0.000000       1.0000  \n",
      "SATVRMID       555.000000     765.0000  \n",
      "SATMTMID       565.000000     785.0000  \n",
      "DISTANCEONLY     0.000000       1.0000  \n",
      "UGDS          1929.500000  151558.0000  \n",
      "UGDS_WHITE       0.747875       1.0000  \n",
      "UGDS_BLACK       0.257700       1.0000  \n",
      "UGDS_HISP        0.198875       1.0000  \n",
      "UGDS_ASIAN       0.032700       0.9727  \n",
      "UGDS_AIAN        0.007300       1.0000  \n",
      "UGDS_NHPI        0.002500       0.9983  \n",
      "UGDS_2MOR        0.033900       0.5333  \n",
      "UGDS_NRA         0.011700       0.9286  \n",
      "UGDS_UNKN        0.045400       0.9027  \n",
      "PPTUG_EF         0.376900       1.0000  \n",
      "CURROPER         1.000000       1.0000  \n",
      "PCTPELL          0.712900       1.0000  \n",
      "PCTFLOAN         0.745000       1.0000  \n",
      "UG25ABV          0.572275       1.0000  \n"
     ]
    }
   ],
   "source": [
    "# 用describe() 取得總結性統計\n",
    "print(college.describe().T)"
   ]
  },
  {
   "cell_type": "code",
   "execution_count": 6,
   "id": "8c374aed",
   "metadata": {},
   "outputs": [
    {
     "name": "stdout",
     "output_type": "stream",
     "text": [
      "                   count unique                                      top  freq\n",
      "INSTNM              7535   7535  Excel Learning Center-San Antonio South     1\n",
      "CITY                7535   2514                                 New York    87\n",
      "STABBR              7535     59                                       CA   773\n",
      "MD_EARN_WNE_P10     6413    598                        PrivacySuppressed   822\n",
      "GRAD_DEBT_MDN_SUPP  7503   2038                        PrivacySuppressed  1510\n"
     ]
    }
   ],
   "source": [
    "# 用include參數 取得類別型資料的總結性統計\n",
    "print(college.describe(include=[object]).T)"
   ]
  },
  {
   "cell_type": "code",
   "execution_count": 7,
   "id": "378e6222",
   "metadata": {},
   "outputs": [
    {
     "name": "stdout",
     "output_type": "stream",
     "text": [
      "               count         mean          std    min          1%          5%  \\\n",
      "HBCU          7164.0     0.014238     0.118478    0.0    0.000000    0.000000   \n",
      "MENONLY       7164.0     0.009213     0.095546    0.0    0.000000    0.000000   \n",
      "WOMENONLY     7164.0     0.005304     0.072642    0.0    0.000000    0.000000   \n",
      "RELAFFIL      7535.0     0.190975     0.393096    0.0    0.000000    0.000000   \n",
      "SATVRMID      1185.0   522.819409    68.578862  290.0  390.000000  430.000000   \n",
      "SATMTMID      1196.0   530.765050    73.469767  310.0  395.000000  430.000000   \n",
      "DISTANCEONLY  7164.0     0.005583     0.074519    0.0    0.000000    0.000000   \n",
      "UGDS          6874.0  2356.837940  5474.275871    0.0   14.000000   31.650000   \n",
      "UGDS_WHITE    6874.0     0.510207     0.286958    0.0    0.000000    0.013265   \n",
      "UGDS_BLACK    6874.0     0.189997     0.224587    0.0    0.000000    0.000000   \n",
      "UGDS_HISP     6874.0     0.161635     0.221854    0.0    0.000000    0.000000   \n",
      "UGDS_ASIAN    6874.0     0.033544     0.073777    0.0    0.000000    0.000000   \n",
      "UGDS_AIAN     6874.0     0.013813     0.070196    0.0    0.000000    0.000000   \n",
      "UGDS_NHPI     6874.0     0.004569     0.033125    0.0    0.000000    0.000000   \n",
      "UGDS_2MOR     6874.0     0.023950     0.031288    0.0    0.000000    0.000000   \n",
      "UGDS_NRA      6874.0     0.016086     0.050172    0.0    0.000000    0.000000   \n",
      "UGDS_UNKN     6874.0     0.045181     0.093440    0.0    0.000000    0.000000   \n",
      "PPTUG_EF      6853.0     0.226639     0.246470    0.0    0.000000    0.000000   \n",
      "CURROPER      7535.0     0.923291     0.266146    0.0    0.000000    0.000000   \n",
      "PCTPELL       6849.0     0.530643     0.225544    0.0    0.054976    0.170000   \n",
      "PCTFLOAN      6849.0     0.522211     0.283616    0.0    0.000000    0.000000   \n",
      "UG25ABV       6718.0     0.410021     0.228939    0.0    0.002500    0.037400   \n",
      "\n",
      "                    10%         25%        50%          75%         90%  \\\n",
      "HBCU            0.00000    0.000000    0.00000     0.000000     0.00000   \n",
      "MENONLY         0.00000    0.000000    0.00000     0.000000     0.00000   \n",
      "WOMENONLY       0.00000    0.000000    0.00000     0.000000     0.00000   \n",
      "RELAFFIL        0.00000    0.000000    0.00000     0.000000     1.00000   \n",
      "SATVRMID      447.40000  475.000000  510.00000   555.000000   605.00000   \n",
      "SATMTMID      453.00000  482.000000  520.00000   565.000000   630.00000   \n",
      "DISTANCEONLY    0.00000    0.000000    0.00000     0.000000     0.00000   \n",
      "UGDS           49.00000  117.000000  412.50000  1929.500000  6512.30000   \n",
      "UGDS_WHITE      0.06879    0.267500    0.55570     0.747875     0.86297   \n",
      "UGDS_BLACK      0.00753    0.036125    0.10005     0.257700     0.51571   \n",
      "UGDS_HISP       0.00573    0.027600    0.07140     0.198875     0.44314   \n",
      "UGDS_ASIAN      0.00000    0.002500    0.01290     0.032700     0.07840   \n",
      "UGDS_AIAN       0.00000    0.000000    0.00260     0.007300     0.01837   \n",
      "UGDS_NHPI       0.00000    0.000000    0.00000     0.002500     0.00800   \n",
      "UGDS_2MOR       0.00000    0.000000    0.01750     0.033900     0.05651   \n",
      "UGDS_NRA        0.00000    0.000000    0.00000     0.011700     0.04250   \n",
      "UGDS_UNKN       0.00000    0.000000    0.01430     0.045400     0.10801   \n",
      "PPTUG_EF        0.00000    0.000000    0.15040     0.376900     0.60410   \n",
      "CURROPER        1.00000    1.000000    1.00000     1.000000     1.00000   \n",
      "PCTPELL         0.23656    0.357800    0.52150     0.712900     0.83330   \n",
      "PCTFLOAN        0.00000    0.332900    0.58330     0.745000     0.84752   \n",
      "UG25ABV         0.08990    0.241500    0.40075     0.572275     0.72666   \n",
      "\n",
      "                       95%           99%          max  \n",
      "HBCU              0.000000      1.000000       1.0000  \n",
      "MENONLY           0.000000      0.000000       1.0000  \n",
      "WOMENONLY         0.000000      0.000000       1.0000  \n",
      "RELAFFIL          1.000000      1.000000       1.0000  \n",
      "SATVRMID        665.000000    730.000000     765.0000  \n",
      "SATMTMID        685.000000    745.250000     785.0000  \n",
      "DISTANCEONLY      0.000000      0.000000       1.0000  \n",
      "UGDS          11858.050000  26015.290000  151558.0000  \n",
      "UGDS_WHITE        0.927315      1.000000       1.0000  \n",
      "UGDS_BLACK        0.726715      0.961467       1.0000  \n",
      "UGDS_HISP         0.666700      1.000000       1.0000  \n",
      "UGDS_ASIAN        0.131775      0.346429       0.9727  \n",
      "UGDS_AIAN         0.036410      0.209326       1.0000  \n",
      "UGDS_NHPI         0.015200      0.050508       0.9983  \n",
      "UGDS_2MOR         0.076900      0.133154       0.5333  \n",
      "UGDS_NRA          0.078135      0.236989       0.9286  \n",
      "UGDS_UNKN         0.200575      0.496581       0.9027  \n",
      "PPTUG_EF          0.710620      0.946724       1.0000  \n",
      "CURROPER          1.000000      1.000000       1.0000  \n",
      "PCTPELL           0.896360      0.993908       1.0000  \n",
      "PCTFLOAN          0.897920      0.986368       1.0000  \n",
      "UG25ABV           0.800000      0.917383       1.0000  \n"
     ]
    }
   ],
   "source": [
    "# 指定百分位數\n",
    "print(college.describe(include=[np.number],\n",
    "                       percentiles=[.01, .05, .10, .25, .50,\n",
    "                                    .75, .9, .95, .99]).T)"
   ]
  },
  {
   "cell_type": "markdown",
   "id": "8a4e7428",
   "metadata": {},
   "source": [
    "## 4.2 資料字典"
   ]
  },
  {
   "cell_type": "code",
   "execution_count": 8,
   "id": "68873d7f",
   "metadata": {},
   "outputs": [
    {
     "name": "stdout",
     "output_type": "stream",
     "text": [
      "           column_name                                        description\n",
      "0               INSTNM                                   Institution Name\n",
      "1                 CITY                                      City Location\n",
      "2               STABBR                                 State Abbreviation\n",
      "3                 HBCU           Historically Black College or University\n",
      "4              MENONLY                                       0/1 Men Only\n",
      "5            WOMENONLY                                     0/1 Women only\n",
      "6             RELAFFIL                          0/1 Religious Affiliation\n",
      "7             SATVRMID                                  SAT Verbal Median\n",
      "8             SATMTMID                                    SAT Math Median\n",
      "9         DISTANCEONLY                            Distance Education Only\n",
      "10                UGDS                           Undergraduate Enrollment\n",
      "11          UGDS_WHITE                            Percent Undergrad White\n",
      "12          UGDS_BLACK                            Percent Undergrad Black\n",
      "13           UGDS_HISP                         Percent Undergrad Hispanic\n",
      "14          UGDS_ASIAN                            Percent Undergrad Asian\n",
      "15           UGDS_AIAN   Percent Undergrad American Indian/Alaskan Native\n",
      "16           UGDS_NHPI  Percent Undergrad Native Hawaiian/Pacific Isla...\n",
      "17           UGDS_2MOR                  Percent Undergrad 2 or more races\n",
      "18            UGDS_NRA              Percent Undergrad non-resident aliens\n",
      "19           UGDS_UNKN                     Percent Undergrad race unknown\n",
      "20            PPTUG_EF                         Percent Students part-time\n",
      "21            CURROPER                            0/1 Currently Operating\n",
      "22             PCTPELL                   Percent Students with Pell grant\n",
      "23            PCTFLOAN                 Percent Students with federal loan\n",
      "24             UG25ABV                     Percent Students Older than 25\n",
      "25     MD_EARN_WNE_P10          Median Earnings 10 years after enrollment\n",
      "26  GRAD_DEBT_MDN_SUPP                          Median debt of completers\n"
     ]
    }
   ],
   "source": [
    "# data dictionaries\n",
    "print(pd.read_csv('../../data/college_data_dictionary.csv'))"
   ]
  },
  {
   "cell_type": "markdown",
   "id": "f4906dbc",
   "metadata": {},
   "source": [
    "## 4.3 改變資料型別以減少記憶體用量"
   ]
  },
  {
   "cell_type": "code",
   "execution_count": 9,
   "id": "81624e83",
   "metadata": {},
   "outputs": [
    {
     "name": "stdout",
     "output_type": "stream",
     "text": [
      "   RELAFFIL  SATMTMID  CURROPER                               INSTNM STABBR\n",
      "0         0     420.0         1             Alabama A & M University     AL\n",
      "1         0     565.0         1  University of Alabama at Birmingham     AL\n",
      "2         1       NaN         1                   Amridge University     AL\n",
      "3         0     590.0         1  University of Alabama in Huntsville     AL\n",
      "4         0     430.0         1             Alabama State University     AL\n"
     ]
    }
   ],
   "source": [
    "# 各型別欄位取出幾個作範例\n",
    "college = pd.read_csv('../../data/college.csv')\n",
    "different_cols =['RELAFFIL', 'SATMTMID', 'CURROPER', 'INSTNM', 'STABBR']\n",
    "col2 = college.loc[:, different_cols]\n",
    "print(col2.head())"
   ]
  },
  {
   "cell_type": "code",
   "execution_count": 10,
   "id": "edcb340e",
   "metadata": {},
   "outputs": [
    {
     "data": {
      "text/plain": [
       "RELAFFIL      int64\n",
       "SATMTMID    float64\n",
       "CURROPER      int64\n",
       "INSTNM       object\n",
       "STABBR       object\n",
       "dtype: object"
      ]
     },
     "execution_count": 10,
     "metadata": {},
     "output_type": "execute_result"
    }
   ],
   "source": [
    "# 檢視欄位型別\n",
    "col2.dtypes"
   ]
  },
  {
   "cell_type": "code",
   "execution_count": 11,
   "id": "b64c1899",
   "metadata": {},
   "outputs": [
    {
     "data": {
      "text/plain": [
       "Index          132\n",
       "RELAFFIL     60280\n",
       "SATMTMID     60280\n",
       "CURROPER     60280\n",
       "INSTNM      599848\n",
       "STABBR      384285\n",
       "dtype: int64"
      ]
     },
     "execution_count": 11,
     "metadata": {},
     "output_type": "execute_result"
    }
   ],
   "source": [
    "# 檢視各欄記憶體用量\n",
    "original_mem = col2.memory_usage(deep=True)\n",
    "original_mem"
   ]
  },
  {
   "cell_type": "code",
   "execution_count": 12,
   "id": "7e744ce9",
   "metadata": {},
   "outputs": [
    {
     "name": "stdout",
     "output_type": "stream",
     "text": [
      "RELAFFIL       int8\n",
      "SATMTMID    float64\n",
      "CURROPER      int64\n",
      "INSTNM       object\n",
      "STABBR       object\n",
      "dtype: object\n",
      "Index          132\n",
      "RELAFFIL      7535\n",
      "SATMTMID     60280\n",
      "CURROPER     60280\n",
      "INSTNM      599848\n",
      "STABBR      384285\n",
      "dtype: int64\n"
     ]
    }
   ],
   "source": [
    "# 改dtype\n",
    "col2['RELAFFIL'] = col2['RELAFFIL'].astype(np.int8)\n",
    "\n",
    "# 檢查型別\n",
    "print(col2.dtypes)\n",
    "\n",
    "# 檢查記憶體用量\n",
    "print(col2.memory_usage(deep=True))"
   ]
  },
  {
   "cell_type": "code",
   "execution_count": 13,
   "id": "90b7bf2b",
   "metadata": {},
   "outputs": [
    {
     "data": {
      "text/plain": [
       "INSTNM    7535\n",
       "STABBR      59\n",
       "dtype: int64"
      ]
     },
     "execution_count": 13,
     "metadata": {},
     "output_type": "execute_result"
    }
   ],
   "source": [
    "# 檢視重複資料\n",
    "col2.select_dtypes(include=['object']).nunique()"
   ]
  },
  {
   "cell_type": "code",
   "execution_count": 14,
   "id": "b116973b",
   "metadata": {},
   "outputs": [
    {
     "name": "stdout",
     "output_type": "stream",
     "text": [
      "Index          132\n",
      "RELAFFIL      7535\n",
      "SATMTMID     60280\n",
      "CURROPER     60280\n",
      "INSTNM      600307\n",
      "STABBR       12648\n",
      "dtype: int64\n"
     ]
    }
   ],
   "source": [
    "# 轉為categorical type\n",
    "col2['STABBR'] = col2['STABBR'].astype('category')\n",
    "col2.dtypes\n",
    "\n",
    "# 檢查記憶體用量\n",
    "print(col2.memory_usage(deep=True))"
   ]
  },
  {
   "cell_type": "code",
   "execution_count": 15,
   "id": "761a38fa",
   "metadata": {},
   "outputs": [
    {
     "data": {
      "text/plain": [
       "Index       1.000000\n",
       "RELAFFIL    0.125000\n",
       "SATMTMID    1.000000\n",
       "CURROPER    1.000000\n",
       "INSTNM      1.000765\n",
       "STABBR      0.032913\n",
       "dtype: float64"
      ]
     },
     "execution_count": 15,
     "metadata": {},
     "output_type": "execute_result"
    }
   ],
   "source": [
    "# 比較節省的記憶體用量\n",
    "new_mem = col2.memory_usage(deep=True)\n",
    "\n",
    "new_mem / original_mem"
   ]
  },
  {
   "cell_type": "code",
   "execution_count": 16,
   "id": "19bf20f9",
   "metadata": {},
   "outputs": [
    {
     "name": "stdout",
     "output_type": "stream",
     "text": [
      "0       0.0\n",
      "1       0.0\n",
      "2       0.0\n",
      "3       0.0\n",
      "4       0.0\n",
      "       ... \n",
      "7530    NaN\n",
      "7531    NaN\n",
      "7532    NaN\n",
      "7533    NaN\n",
      "7534    NaN\n",
      "Name: MENONLY, Length: 7535, dtype: float64\n"
     ]
    }
   ],
   "source": [
    "# 有缺失值的資料型別\n",
    "print(college['MENONLY'])"
   ]
  },
  {
   "cell_type": "code",
   "execution_count": 19,
   "id": "c60d8333",
   "metadata": {},
   "outputs": [
    {
     "name": "stdout",
     "output_type": "stream",
     "text": [
      "60412\n",
      "67947\n"
     ]
    }
   ],
   "source": [
    "# 改成Int64型別\n",
    "print(college['MENONLY'].memory_usage(deep=True))\n",
    "print(college['MENONLY'].astype('Int64').memory_usage(deep=True))"
   ]
  },
  {
   "cell_type": "markdown",
   "id": "ea10f305",
   "metadata": {},
   "source": [
    "## 4.4 資料的排序"
   ]
  },
  {
   "cell_type": "code",
   "execution_count": 5,
   "id": "f0082e5e",
   "metadata": {},
   "outputs": [
    {
     "name": "stdout",
     "output_type": "stream",
     "text": [
      "                                  movie_title  imdb_score       budget\n",
      "0                                      Avatar         7.9  237000000.0\n",
      "1    Pirates of the Caribbean: At World's End         7.1  300000000.0\n",
      "2                                     Spectre         6.8  245000000.0\n",
      "3                       The Dark Knight Rises         8.5  250000000.0\n",
      "4  Star Wars: Episode VII - The Force Awakens         7.1          NaN\n"
     ]
    }
   ],
   "source": [
    "# 載入資料集\n",
    "movie = pd.read_csv('../../data/movie.csv')\n",
    "movie2 = movie[['movie_title', 'imdb_score', 'budget']]\n",
    "print(movie2.head())"
   ]
  },
  {
   "cell_type": "code",
   "execution_count": 25,
   "id": "dca64797",
   "metadata": {},
   "outputs": [
    {
     "name": "stdout",
     "output_type": "stream",
     "text": [
      "                   movie_title  imdb_score      budget\n",
      "2725          Towering Inferno         9.5         NaN\n",
      "1920  The Shawshank Redemption         9.3  25000000.0\n",
      "3402             The Godfather         9.2   6000000.0\n",
      "2779                   Dekalog         9.1         NaN\n",
      "4312      Kickboxer: Vengeance         9.1  17000000.0\n"
     ]
    }
   ],
   "source": [
    "# 找前100名\n",
    "print(movie2.nlargest(100, 'imdb_score').head())"
   ]
  },
  {
   "cell_type": "code",
   "execution_count": 6,
   "id": "ce28a2b0",
   "metadata": {},
   "outputs": [
    {
     "name": "stdout",
     "output_type": "stream",
     "text": [
      "               movie_title  imdb_score    budget\n",
      "4804        Butterfly Girl         8.7  180000.0\n",
      "4801    Children of Heaven         8.5  180000.0\n",
      "4706          12 Angry Men         8.9  350000.0\n",
      "4550          A Separation         8.4  500000.0\n",
      "4636  The Other Dream Team         8.4  500000.0\n"
     ]
    }
   ],
   "source": [
    "# 先找出評分前100名 再找出預算前5低的電影\n",
    "print(movie2.nlargest(100, 'imdb_score').nsmallest(5, 'budget'))"
   ]
  },
  {
   "cell_type": "markdown",
   "id": "455da453",
   "metadata": {},
   "source": [
    "## 4.5 排序後選取每組的最大值和最小值"
   ]
  },
  {
   "cell_type": "code",
   "execution_count": 2,
   "id": "7c370d58",
   "metadata": {},
   "outputs": [
    {
     "name": "stdout",
     "output_type": "stream",
     "text": [
      "                                  movie_title  title_year  imdb_score\n",
      "0                                      Avatar      2009.0         7.9\n",
      "1    Pirates of the Caribbean: At World's End      2007.0         7.1\n",
      "2                                     Spectre      2015.0         6.8\n",
      "3                       The Dark Knight Rises      2012.0         8.5\n",
      "4  Star Wars: Episode VII - The Force Awakens         NaN         7.1\n"
     ]
    }
   ],
   "source": [
    "# 載入資料集\n",
    "movie = pd.read_csv('../../data/movie.csv')\n",
    "movie3 = movie[['movie_title', 'title_year','imdb_score']]\n",
    "print(movie3.head())"
   ]
  },
  {
   "cell_type": "code",
   "execution_count": 32,
   "id": "9e5b762f",
   "metadata": {},
   "outputs": [
    {
     "name": "stdout",
     "output_type": "stream",
     "text": [
      "                      movie_title  title_year  imdb_score\n",
      "4312         Kickboxer: Vengeance      2016.0         9.1\n",
      "4277  A Beginner's Guide to Snuff      2016.0         8.7\n",
      "3798                      Airlift      2016.0         8.5\n",
      "27     Captain America: Civil War      2016.0         8.2\n",
      "98            Godzilla Resurgence      2016.0         8.2\n"
     ]
    }
   ],
   "source": [
    "# 按照年分與評分排序\n",
    "print(movie3.sort_values(['title_year', 'imdb_score'], ascending=False).head())"
   ]
  },
  {
   "cell_type": "code",
   "execution_count": null,
   "id": "262c08c2",
   "metadata": {},
   "outputs": [
    {
     "name": "stdout",
     "output_type": "stream",
     "text": [
      "                                  movie_title  title_year  imdb_score\n",
      "4312                     Kickboxer: Vengeance      2016.0         9.1\n",
      "3745                          Running Forever      2015.0         8.6\n",
      "4369                   Queen of the Mountains      2014.0         8.7\n",
      "3935  Batman: The Dark Knight Returns, Part 2      2013.0         8.4\n",
      "3                       The Dark Knight Rises      2012.0         8.5\n"
     ]
    }
   ],
   "source": [
    "# 只保留每個年份的第一筆資料\n",
    "print(movie3.sort_values(['title_year', 'imdb_score'], ascending=False)\n",
    "            .drop_duplicates(subset='title_year').head())"
   ]
  },
  {
   "cell_type": "code",
   "execution_count": null,
   "id": "70d3d33c",
   "metadata": {},
   "outputs": [
    {
     "name": "stdout",
     "output_type": "stream",
     "text": [
      "                                  movie_title  title_year  imdb_score\n",
      "4312                     Kickboxer: Vengeance      2016.0         9.1\n",
      "3745                          Running Forever      2015.0         8.6\n",
      "4369                   Queen of the Mountains      2014.0         8.7\n",
      "3935  Batman: The Dark Knight Returns, Part 2      2013.0         8.4\n",
      "3                       The Dark Knight Rises      2012.0         8.5\n"
     ]
    }
   ],
   "source": [
    "# groupby 新的做法\n",
    "print(movie3.sort_values(['title_year', 'imdb_score'], ascending=[False, False])\n",
    "            .groupby('title_year').head(1).head())"
   ]
  },
  {
   "cell_type": "code",
   "execution_count": 97,
   "id": "9a62cbcb",
   "metadata": {},
   "outputs": [
    {
     "name": "stdout",
     "output_type": "stream",
     "text": [
      "                                             movie_title  imdb_score\n",
      "title_year                                                          \n",
      "2016.0     4312                     Kickboxer: Vengeance         9.1\n",
      "2015.0     3745                          Running Forever         8.6\n",
      "2014.0     4804                           Butterfly Girl         8.7\n",
      "2013.0     3935  Batman: The Dark Knight Returns, Part 2         8.4\n",
      "2012.0     3                       The Dark Knight Rises         8.5\n"
     ]
    }
   ],
   "source": [
    "print(\n",
    "    movie3.groupby('title_year')\n",
    "          .apply(lambda df: df.sort_values('imdb_score', ascending=False).head(1), include_groups=False)\n",
    "          .sort_values('title_year', ascending=False)\n",
    "          .head()\n",
    ")"
   ]
  },
  {
   "cell_type": "code",
   "execution_count": null,
   "id": "4919b8c0",
   "metadata": {},
   "outputs": [
    {
     "name": "stdout",
     "output_type": "stream",
     "text": [
      "                         movie_title  title_year content_rating      budget\n",
      "4026                       Compadres      2016.0              R   3000000.0\n",
      "4658             Fight to the Finish      2016.0          PG-13    150000.0\n",
      "4661                      Rodeo Girl      2016.0             PG    500000.0\n",
      "3252                     The Wailing      2016.0      Not Rated         NaN\n",
      "4659  Alleluia! The Devil's Carnival      2016.0            NaN    500000.0\n",
      "...                              ...         ...            ...         ...\n",
      "2558                      Lilyhammer         NaN          TV-MA  34000000.0\n",
      "807       Sabrina, the Teenage Witch         NaN           TV-G   3000000.0\n",
      "848                    Stargate SG-1         NaN          TV-14   1400000.0\n",
      "2436                          Carlos         NaN      Not Rated         NaN\n",
      "2119                    The Bachelor         NaN            NaN   3000000.0\n",
      "\n",
      "[359 rows x 4 columns]\n"
     ]
    }
   ],
   "source": [
    "# 依照電影分級制度查詢年度預算最低的電影\n",
    "print(movie[['movie_title', 'title_year', 'content_rating', 'budget']]\n",
    "      .sort_values(['title_year', 'content_rating', 'budget'],\n",
    "                     ascending=[False, False, True])\n",
    "      .drop_duplicates(subset=['title_year', 'content_rating']))"
   ]
  },
  {
   "cell_type": "markdown",
   "id": "9ecab160",
   "metadata": {},
   "source": [
    "## 4.6 用sort_values() 選取最大值"
   ]
  },
  {
   "cell_type": "code",
   "execution_count": 7,
   "id": "2bed8ea2",
   "metadata": {},
   "outputs": [
    {
     "name": "stdout",
     "output_type": "stream",
     "text": [
      "               movie_title  imdb_score    budget\n",
      "4804        Butterfly Girl         8.7  180000.0\n",
      "4801    Children of Heaven         8.5  180000.0\n",
      "4706          12 Angry Men         8.9  350000.0\n",
      "4550          A Separation         8.4  500000.0\n",
      "4636  The Other Dream Team         8.4  500000.0\n"
     ]
    }
   ],
   "source": [
    "# 載入資料集\n",
    "movie = pd.read_csv('../../data/movie.csv')\n",
    "movie2 = movie[['movie_title', 'imdb_score', 'budget']]\n",
    "\n",
    "# 先找出評分前100名 再找出預算前5低的電影\n",
    "print(movie2.nlargest(100, 'imdb_score').nsmallest(5, 'budget'))"
   ]
  },
  {
   "cell_type": "code",
   "execution_count": 8,
   "id": "14b7c9fd",
   "metadata": {},
   "outputs": [
    {
     "name": "stdout",
     "output_type": "stream",
     "text": [
      "                    movie_title  imdb_score    budget\n",
      "4815  A Charlie Brown Christmas         8.4  150000.0\n",
      "4804             Butterfly Girl         8.7  180000.0\n",
      "4801         Children of Heaven         8.5  180000.0\n",
      "4706               12 Angry Men         8.9  350000.0\n",
      "4550               A Separation         8.4  500000.0\n"
     ]
    }
   ],
   "source": [
    "# 使用sort_values() 進行一樣的操作\n",
    "print(movie2.sort_values('imdb_score', ascending=False)\n",
    "      .head(100)\n",
    "      .sort_values('budget')\n",
    "      .head(5))"
   ]
  },
  {
   "cell_type": "code",
   "execution_count": 15,
   "id": "690ad5f6",
   "metadata": {},
   "outputs": [
    {
     "name": "stdout",
     "output_type": "stream",
     "text": [
      "                movie_title  imdb_score     budget\n",
      "4023                 Oldboy         8.4  3000000.0\n",
      "4163  To Kill a Mockingbird         8.4  2000000.0\n",
      "4395         Reservoir Dogs         8.4  1200000.0\n",
      "4550           A Separation         8.4   500000.0\n",
      "4636   The Other Dream Team         8.4   500000.0\n"
     ]
    }
   ],
   "source": [
    "# 用nlargest先找出評分前100名 然後直接看tail\n",
    "print(movie2.nlargest(100, 'imdb_score').tail())"
   ]
  },
  {
   "cell_type": "code",
   "execution_count": 16,
   "id": "0341e691",
   "metadata": {},
   "outputs": [
    {
     "name": "stdout",
     "output_type": "stream",
     "text": [
      "                    movie_title  imdb_score      budget\n",
      "2646                      U2 3D         8.4         NaN\n",
      "4815  A Charlie Brown Christmas         8.4    150000.0\n",
      "3902                    M*A*S*H         8.4         NaN\n",
      "2922                   Das Boot         8.4  14000000.0\n",
      "2605         Lawrence of Arabia         8.4  15000000.0\n"
     ]
    }
   ],
   "source": [
    "# 使用sort_values() 進行一樣的操作\n",
    "print(movie2.sort_values('imdb_score', ascending=False)\n",
    "      .head(100)\n",
    "      .tail(5))"
   ]
  },
  {
   "cell_type": "markdown",
   "id": "8d1c4c82",
   "metadata": {},
   "source": [
    "## 4.7 案例演練: 計算移動停損單價格"
   ]
  },
  {
   "cell_type": "code",
   "execution_count": 6,
   "id": "1470d014",
   "metadata": {},
   "outputs": [
    {
     "name": "stdout",
     "output_type": "stream",
     "text": [
      "                  Open        High         Low       Close   Volume\n",
      "Date                                                               \n",
      "2025-01-01  253.126324  255.479148  252.066393  253.528105  1380163\n",
      "2025-01-02  252.698221  256.040026  253.820536  254.328419  1221310\n",
      "2025-01-03  256.748677  256.309323  255.859271  256.285895  1841514\n",
      "2025-01-06  259.860383  261.487638  259.731280  260.767681  1991809\n",
      "2025-01-07  264.554743  265.962779  264.451472  264.502797  1808468\n"
     ]
    }
   ],
   "source": [
    "# 使用假資料集模擬\n",
    "import pandas as pd\n",
    "import numpy as np\n",
    "\n",
    "np.random.seed(0)\n",
    "dates = pd.date_range(start=\"2025-01-01\", end=\"2025-04-01\", freq=\"B\")\n",
    "prices = np.cumsum(np.random.normal(0, 2, len(dates))) + 250\n",
    "\n",
    "tsla_sim = pd.DataFrame({\n",
    "    \"Date\": dates,\n",
    "    \"Open\": prices + np.random.normal(0, 1, len(dates)),\n",
    "    \"High\": prices + np.random.uniform(0, 2, len(dates)),\n",
    "    \"Low\": prices - np.random.uniform(0, 2, len(dates)),\n",
    "    \"Close\": prices,\n",
    "    \"Volume\": np.random.randint(1e6, 3e6, len(dates)),\n",
    "})\n",
    "tsla_sim.set_index(\"Date\", inplace=True)\n",
    "print(tsla_sim.head())"
   ]
  },
  {
   "cell_type": "code",
   "execution_count": 7,
   "id": "ae3e4fb3",
   "metadata": {},
   "outputs": [
    {
     "name": "stdout",
     "output_type": "stream",
     "text": [
      "Date\n",
      "2025-01-01    253.528105\n",
      "2025-01-02    254.328419\n",
      "2025-01-03    256.285895\n",
      "2025-01-06    260.767681\n",
      "2025-01-07    264.502797\n",
      "Name: Close, dtype: float64\n"
     ]
    }
   ],
   "source": [
    "# 只看收盤價格\n",
    "tsla_close = tsla_sim['Close']\n",
    "\n",
    "# 查看歷史最高收盤價格\n",
    "tsla_cummax = tsla_close.cummax()\n",
    "print(tsla_cummax.head())"
   ]
  },
  {
   "cell_type": "code",
   "execution_count": 9,
   "id": "04b37131",
   "metadata": {},
   "outputs": [
    {
     "name": "stdout",
     "output_type": "stream",
     "text": [
      "Date\n",
      "2025-01-01    228.175294\n",
      "2025-01-02    228.895577\n",
      "2025-01-03    230.657306\n",
      "2025-01-06    234.690913\n",
      "2025-01-07    238.052518\n",
      "Name: Close, dtype: float64\n"
     ]
    }
   ],
   "source": [
    "# 設立停損點\n",
    "print(tsla_sim['Close'].cummax()\n",
    "                  .mul(.9)\n",
    "                  .head())"
   ]
  }
 ],
 "metadata": {
  "kernelspec": {
   "display_name": "Python 3",
   "language": "python",
   "name": "python3"
  },
  "language_info": {
   "codemirror_mode": {
    "name": "ipython",
    "version": 3
   },
   "file_extension": ".py",
   "mimetype": "text/x-python",
   "name": "python",
   "nbconvert_exporter": "python",
   "pygments_lexer": "ipython3",
   "version": "3.13.0"
  }
 },
 "nbformat": 4,
 "nbformat_minor": 5
}

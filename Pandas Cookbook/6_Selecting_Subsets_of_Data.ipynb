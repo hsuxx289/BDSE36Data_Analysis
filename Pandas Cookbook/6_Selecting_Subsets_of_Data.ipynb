{
 "cells": [
  {
   "cell_type": "code",
   "execution_count": 1,
   "id": "2df43c65",
   "metadata": {},
   "outputs": [],
   "source": [
    "import pandas as pd\n",
    "import numpy as np"
   ]
  },
  {
   "cell_type": "markdown",
   "id": "64083163",
   "metadata": {},
   "source": [
    "## 6.1 選取一筆或多筆Series 資料"
   ]
  },
  {
   "cell_type": "code",
   "execution_count": 2,
   "id": "566ee02a",
   "metadata": {},
   "outputs": [
    {
     "name": "stdout",
     "output_type": "stream",
     "text": [
      "INSTNM\n",
      "Alabama A & M University                                            Normal\n",
      "University of Alabama at Birmingham                             Birmingham\n",
      "Amridge University                                              Montgomery\n",
      "University of Alabama in Huntsville                             Huntsville\n",
      "Alabama State University                                        Montgomery\n",
      "                                                                ...       \n",
      "SAE Institute of Technology  San Francisco                      Emeryville\n",
      "Rasmussen College - Overland Park                            Overland Park\n",
      "National Personal Training Institute of Cleveland         Highland Heights\n",
      "Bay Area Medical Academy - San Jose Satellite Location            San Jose\n",
      "Excel Learning Center-San Antonio South                        San Antonio\n",
      "Name: CITY, Length: 7535, dtype: object\n"
     ]
    }
   ],
   "source": [
    "# 讀取檔案 並以特定欄位為索引\n",
    "college = pd.read_csv('../../data/college.csv', index_col='INSTNM')\n",
    "city = college['CITY']\n",
    "print(city)"
   ]
  },
  {
   "cell_type": "code",
   "execution_count": 4,
   "id": "b29e9aec",
   "metadata": {},
   "outputs": [
    {
     "name": "stdout",
     "output_type": "stream",
     "text": [
      "Normal\n",
      "Normal\n",
      "Normal\n",
      "INSTNM\n",
      "Alabama A & M University        Normal\n",
      "Alabama State University    Montgomery\n",
      "Name: CITY, dtype: object\n",
      "INSTNM\n",
      "Alabama A & M University        Normal\n",
      "Alabama State University    Montgomery\n",
      "Name: CITY, dtype: object\n",
      "INSTNM\n",
      "Alabama A & M University        Normal\n",
      "Alabama State University    Montgomery\n",
      "Name: CITY, dtype: object\n"
     ]
    }
   ],
   "source": [
    "# 使用[]\n",
    "print(city['Alabama A & M University'])\n",
    "\n",
    "# 使用.loc\n",
    "print(city.loc['Alabama A & M University'])\n",
    "\n",
    "# 使用.iloc\n",
    "print(city.iloc[0])\n",
    "\n",
    "# 使用[] 放入list放入list\n",
    "print(city[['Alabama A & M University', 'Alabama State University']])\n",
    "\n",
    "# 使用.loc 找多筆\n",
    "print(city.loc[['Alabama A & M University', 'Alabama State University']])\n",
    "\n",
    "# 使用.iloc 找多筆\n",
    "print(city.iloc[[0, 4]])"
   ]
  },
  {
   "cell_type": "code",
   "execution_count": 5,
   "id": "f295e01d",
   "metadata": {},
   "outputs": [
    {
     "name": "stdout",
     "output_type": "stream",
     "text": [
      "INSTNM\n",
      "Alabama A & M University                   Normal\n",
      "University of Alabama at Birmingham    Birmingham\n",
      "Amridge University                     Montgomery\n",
      "University of Alabama in Huntsville    Huntsville\n",
      "Alabama State University               Montgomery\n",
      "Name: CITY, dtype: object\n",
      "INSTNM\n",
      "Alabama A & M University                   Normal\n",
      "University of Alabama at Birmingham    Birmingham\n",
      "Amridge University                     Montgomery\n",
      "University of Alabama in Huntsville    Huntsville\n",
      "Alabama State University               Montgomery\n",
      "Name: CITY, dtype: object\n",
      "INSTNM\n",
      "Alabama A & M University                   Normal\n",
      "University of Alabama at Birmingham    Birmingham\n",
      "Amridge University                     Montgomery\n",
      "University of Alabama in Huntsville    Huntsville\n",
      "Alabama State University               Montgomery\n",
      "Name: CITY, dtype: object\n",
      "INSTNM\n",
      "Alabama A & M University                   Normal\n",
      "University of Alabama at Birmingham    Birmingham\n",
      "Amridge University                     Montgomery\n",
      "University of Alabama in Huntsville    Huntsville\n",
      "Alabama State University               Montgomery\n",
      "Name: CITY, dtype: object\n"
     ]
    }
   ],
   "source": [
    "# 使用[] 切片\n",
    "print(city['Alabama A & M University': 'Alabama State University'])\n",
    "\n",
    "# 使用[] 的位置切片\n",
    "print(city[0:5])\n",
    "\n",
    "# 使用.loc 切片\n",
    "print(city['Alabama A & M University': 'Alabama State University'])\n",
    "\n",
    "# 使用.iloc 切片\n",
    "print(city.iloc[0:5])"
   ]
  },
  {
   "cell_type": "code",
   "execution_count": 6,
   "id": "515d1b50",
   "metadata": {},
   "outputs": [
    {
     "name": "stdout",
     "output_type": "stream",
     "text": [
      "INSTNM\n",
      "Alabama A & M University                                  False\n",
      "University of Alabama at Birmingham                        True\n",
      "Amridge University                                         True\n",
      "University of Alabama in Huntsville                       False\n",
      "Alabama State University                                   True\n",
      "                                                          ...  \n",
      "SAE Institute of Technology  San Francisco                False\n",
      "Rasmussen College - Overland Park                         False\n",
      "National Personal Training Institute of Cleveland         False\n",
      "Bay Area Medical Academy - San Jose Satellite Location    False\n",
      "Excel Learning Center-San Antonio South                   False\n",
      "Name: CITY, Length: 7535, dtype: bool\n"
     ]
    }
   ],
   "source": [
    "# 做出一個地點的遮罩\n",
    "alabama_mask = city.isin(['Birmingham', 'Montgomery'])\n",
    "print(alabama_mask)"
   ]
  },
  {
   "cell_type": "code",
   "execution_count": 7,
   "id": "1dd14e10",
   "metadata": {},
   "outputs": [
    {
     "name": "stdout",
     "output_type": "stream",
     "text": [
      "INSTNM\n",
      "University of Alabama at Birmingham                 Birmingham\n",
      "Amridge University                                  Montgomery\n",
      "Alabama State University                            Montgomery\n",
      "Auburn University at Montgomery                     Montgomery\n",
      "Birmingham Southern College                         Birmingham\n",
      "South University-Montgomery                         Montgomery\n",
      "Faulkner University                                 Montgomery\n",
      "Herzing University-Birmingham                       Birmingham\n",
      "Huntingdon College                                  Montgomery\n",
      "Jefferson State Community College                   Birmingham\n",
      "Lawson State Community College-Birmingham Campus    Birmingham\n",
      "Samford University                                  Birmingham\n",
      "Southeastern Bible College                          Birmingham\n",
      "H Councill Trenholm State Community College         Montgomery\n",
      "West Virginia University Institute of Technology    Montgomery\n",
      "Virginia College-Birmingham                         Birmingham\n",
      "Southeastern School of Cosmetology                  Birmingham\n",
      "Strayer University-Alabama                          Birmingham\n",
      "University of Phoenix-Alabama                       Birmingham\n",
      "Virginia College-Montgomery                         Montgomery\n",
      "Fortis College-Montgomery                           Montgomery\n",
      "Fortis Institute-Birmingham                         Birmingham\n",
      "Hair Academy                                        Montgomery\n",
      "Brown Mackie College-Birmingham                     Birmingham\n",
      "Nunation School of Cosmetology                      Birmingham\n",
      "Troy University-Montgomery Campus                   Montgomery\n",
      "Name: CITY, dtype: object\n"
     ]
    }
   ],
   "source": [
    "# 使用遮罩 就只會回傳True 的資料\n",
    "print(city[alabama_mask])"
   ]
  },
  {
   "cell_type": "code",
   "execution_count": 10,
   "id": "0716ff88",
   "metadata": {},
   "outputs": [
    {
     "name": "stdout",
     "output_type": "stream",
     "text": [
      "Normal\n",
      "Normal\n",
      "INSTNM\n",
      "Alabama A & M University        Normal\n",
      "Alabama State University    Montgomery\n",
      "Name: CITY, dtype: object\n",
      "INSTNM\n",
      "Alabama A & M University        Normal\n",
      "Alabama State University    Montgomery\n",
      "Name: CITY, dtype: object\n"
     ]
    }
   ],
   "source": [
    "# 指定列跟欄\n",
    "print(college.loc['Alabama A & M University', 'CITY'])\n",
    "\n",
    "print(college.iloc[0, 0])\n",
    "\n",
    "# 指定多列與欄\n",
    "print(college.loc[['Alabama A & M University', 'Alabama State University'], 'CITY'])\n",
    "\n",
    "print(college.iloc[[0,4], 0])"
   ]
  },
  {
   "cell_type": "code",
   "execution_count": 11,
   "id": "ed3a41cd",
   "metadata": {},
   "outputs": [
    {
     "name": "stdout",
     "output_type": "stream",
     "text": [
      "INSTNM\n",
      "Alabama A & M University                   Normal\n",
      "University of Alabama at Birmingham    Birmingham\n",
      "Amridge University                     Montgomery\n",
      "University of Alabama in Huntsville    Huntsville\n",
      "Alabama State University               Montgomery\n",
      "Name: CITY, dtype: object\n",
      "INSTNM\n",
      "Alabama A & M University                   Normal\n",
      "University of Alabama at Birmingham    Birmingham\n",
      "Amridge University                     Montgomery\n",
      "University of Alabama in Huntsville    Huntsville\n",
      "Name: CITY, dtype: object\n"
     ]
    }
   ],
   "source": [
    "# 切片指定多列與欄\n",
    "print(college.loc['Alabama A & M University': 'Alabama State University', 'CITY'])\n",
    "\n",
    "print(college.iloc[0:4, 0])"
   ]
  },
  {
   "cell_type": "markdown",
   "id": "4de42921",
   "metadata": {},
   "source": [
    "## 6.2 選取DataFrame 的列"
   ]
  },
  {
   "cell_type": "code",
   "execution_count": 5,
   "id": "601fd8b5",
   "metadata": {},
   "outputs": [
    {
     "name": "stdout",
     "output_type": "stream",
     "text": [
      "                                           CITY STABBR  HBCU  MENONLY  \\\n",
      "INSTNM                                                                  \n",
      "Alabama A & M University                 Normal     AL   1.0      0.0   \n",
      "University of Alabama at Birmingham  Birmingham     AL   0.0      0.0   \n",
      "Amridge University                   Montgomery     AL   0.0      0.0   \n",
      "University of Alabama in Huntsville  Huntsville     AL   0.0      0.0   \n",
      "Alabama State University             Montgomery     AL   1.0      0.0   \n",
      "\n",
      "                                     WOMENONLY  RELAFFIL  SATVRMID  SATMTMID  \\\n",
      "INSTNM                                                                         \n",
      "Alabama A & M University                   0.0         0     424.0     420.0   \n",
      "University of Alabama at Birmingham        0.0         0     570.0     565.0   \n",
      "Amridge University                         0.0         1       NaN       NaN   \n",
      "University of Alabama in Huntsville        0.0         0     595.0     590.0   \n",
      "Alabama State University                   0.0         0     425.0     430.0   \n",
      "\n",
      "                                     DISTANCEONLY     UGDS  ...  UGDS_2MOR  \\\n",
      "INSTNM                                                      ...              \n",
      "Alabama A & M University                      0.0   4206.0  ...     0.0000   \n",
      "University of Alabama at Birmingham           0.0  11383.0  ...     0.0368   \n",
      "Amridge University                            1.0    291.0  ...     0.0000   \n",
      "University of Alabama in Huntsville           0.0   5451.0  ...     0.0172   \n",
      "Alabama State University                      0.0   4811.0  ...     0.0098   \n",
      "\n",
      "                                     UGDS_NRA  UGDS_UNKN  PPTUG_EF  CURROPER  \\\n",
      "INSTNM                                                                         \n",
      "Alabama A & M University               0.0059     0.0138    0.0656         1   \n",
      "University of Alabama at Birmingham    0.0179     0.0100    0.2607         1   \n",
      "Amridge University                     0.0000     0.2715    0.4536         1   \n",
      "University of Alabama in Huntsville    0.0332     0.0350    0.2146         1   \n",
      "Alabama State University               0.0243     0.0137    0.0892         1   \n",
      "\n",
      "                                     PCTPELL  PCTFLOAN  UG25ABV  \\\n",
      "INSTNM                                                            \n",
      "Alabama A & M University              0.7356    0.8284   0.1049   \n",
      "University of Alabama at Birmingham   0.3460    0.5214   0.2422   \n",
      "Amridge University                    0.6801    0.7795   0.8540   \n",
      "University of Alabama in Huntsville   0.3072    0.4596   0.2640   \n",
      "Alabama State University              0.7347    0.7554   0.1270   \n",
      "\n",
      "                                     MD_EARN_WNE_P10  GRAD_DEBT_MDN_SUPP  \n",
      "INSTNM                                                                    \n",
      "Alabama A & M University                       30300               33888  \n",
      "University of Alabama at Birmingham            39700             21941.5  \n",
      "Amridge University                             40100               23370  \n",
      "University of Alabama in Huntsville            45500               24097  \n",
      "Alabama State University                       26600             33118.5  \n",
      "\n",
      "[5 rows x 26 columns]\n"
     ]
    }
   ],
   "source": [
    "# 讀取檔案 並以特定欄位為索引\n",
    "college = pd.read_csv('../../data/college.csv', index_col='INSTNM')\n",
    "\n",
    "print(college.head())"
   ]
  },
  {
   "cell_type": "code",
   "execution_count": 6,
   "id": "c43e6af0",
   "metadata": {},
   "outputs": [
    {
     "name": "stdout",
     "output_type": "stream",
     "text": [
      "CITY                  Normal\n",
      "STABBR                    AL\n",
      "HBCU                     1.0\n",
      "MENONLY                  0.0\n",
      "WOMENONLY                0.0\n",
      "RELAFFIL                   0\n",
      "SATVRMID               424.0\n",
      "SATMTMID               420.0\n",
      "DISTANCEONLY             0.0\n",
      "UGDS                  4206.0\n",
      "UGDS_WHITE            0.0333\n",
      "UGDS_BLACK            0.9353\n",
      "UGDS_HISP             0.0055\n",
      "UGDS_ASIAN            0.0019\n",
      "UGDS_AIAN             0.0024\n",
      "UGDS_NHPI             0.0019\n",
      "UGDS_2MOR                0.0\n",
      "UGDS_NRA              0.0059\n",
      "UGDS_UNKN             0.0138\n",
      "PPTUG_EF              0.0656\n",
      "CURROPER                   1\n",
      "PCTPELL               0.7356\n",
      "PCTFLOAN              0.8284\n",
      "UG25ABV               0.1049\n",
      "MD_EARN_WNE_P10        30300\n",
      "GRAD_DEBT_MDN_SUPP     33888\n",
      "Name: Alabama A & M University, dtype: object\n"
     ]
    }
   ],
   "source": [
    "# 指定特定列\n",
    "print(college.iloc[0])"
   ]
  },
  {
   "cell_type": "code",
   "execution_count": 7,
   "id": "082dc859",
   "metadata": {},
   "outputs": [
    {
     "name": "stdout",
     "output_type": "stream",
     "text": [
      "CITY                  Normal\n",
      "STABBR                    AL\n",
      "HBCU                     1.0\n",
      "MENONLY                  0.0\n",
      "WOMENONLY                0.0\n",
      "RELAFFIL                   0\n",
      "SATVRMID               424.0\n",
      "SATMTMID               420.0\n",
      "DISTANCEONLY             0.0\n",
      "UGDS                  4206.0\n",
      "UGDS_WHITE            0.0333\n",
      "UGDS_BLACK            0.9353\n",
      "UGDS_HISP             0.0055\n",
      "UGDS_ASIAN            0.0019\n",
      "UGDS_AIAN             0.0024\n",
      "UGDS_NHPI             0.0019\n",
      "UGDS_2MOR                0.0\n",
      "UGDS_NRA              0.0059\n",
      "UGDS_UNKN             0.0138\n",
      "PPTUG_EF              0.0656\n",
      "CURROPER                   1\n",
      "PCTPELL               0.7356\n",
      "PCTFLOAN              0.8284\n",
      "UG25ABV               0.1049\n",
      "MD_EARN_WNE_P10        30300\n",
      "GRAD_DEBT_MDN_SUPP     33888\n",
      "Name: Alabama A & M University, dtype: object\n"
     ]
    }
   ],
   "source": [
    "# 指定特定列\n",
    "print(college.loc['Alabama A & M University'])"
   ]
  },
  {
   "cell_type": "code",
   "execution_count": 8,
   "id": "c1f6560c",
   "metadata": {},
   "outputs": [
    {
     "name": "stdout",
     "output_type": "stream",
     "text": [
      "                                            CITY STABBR  HBCU  MENONLY  \\\n",
      "INSTNM                                                                   \n",
      "University of Alaska Anchorage         Anchorage     AK   0.0      0.0   \n",
      "International Academy of Hair Design       Tempe     AZ   0.0      0.0   \n",
      "University of Alabama in Huntsville   Huntsville     AL   0.0      0.0   \n",
      "\n",
      "                                      WOMENONLY  RELAFFIL  SATVRMID  SATMTMID  \\\n",
      "INSTNM                                                                          \n",
      "University of Alaska Anchorage              0.0         0       NaN       NaN   \n",
      "International Academy of Hair Design        0.0         0       NaN       NaN   \n",
      "University of Alabama in Huntsville         0.0         0     595.0     590.0   \n",
      "\n",
      "                                      DISTANCEONLY     UGDS  ...  UGDS_2MOR  \\\n",
      "INSTNM                                                       ...              \n",
      "University of Alaska Anchorage                 0.0  12865.0  ...     0.0980   \n",
      "International Academy of Hair Design           0.0    188.0  ...     0.0160   \n",
      "University of Alabama in Huntsville            0.0   5451.0  ...     0.0172   \n",
      "\n",
      "                                      UGDS_NRA  UGDS_UNKN  PPTUG_EF  CURROPER  \\\n",
      "INSTNM                                                                          \n",
      "University of Alaska Anchorage          0.0181     0.0457    0.4539         1   \n",
      "International Academy of Hair Design    0.0000     0.0638    0.0000         0   \n",
      "University of Alabama in Huntsville     0.0332     0.0350    0.2146         1   \n",
      "\n",
      "                                      PCTPELL  PCTFLOAN  UG25ABV  \\\n",
      "INSTNM                                                             \n",
      "University of Alaska Anchorage         0.2385    0.2647   0.4386   \n",
      "International Academy of Hair Design   0.7185    0.7346   0.3905   \n",
      "University of Alabama in Huntsville    0.3072    0.4596   0.2640   \n",
      "\n",
      "                                      MD_EARN_WNE_P10  GRAD_DEBT_MDN_SUPP  \n",
      "INSTNM                                                                     \n",
      "University of Alaska Anchorage                  42500             19449.5  \n",
      "International Academy of Hair Design            22200               10556  \n",
      "University of Alabama in Huntsville             45500               24097  \n",
      "\n",
      "[3 rows x 26 columns]\n"
     ]
    }
   ],
   "source": [
    "# 選取多個列\n",
    "print(college.iloc[[60, 99, 3]])"
   ]
  },
  {
   "cell_type": "code",
   "execution_count": 10,
   "id": "9b6be3f9",
   "metadata": {},
   "outputs": [
    {
     "name": "stdout",
     "output_type": "stream",
     "text": [
      "                                            CITY STABBR  HBCU  MENONLY  \\\n",
      "INSTNM                                                                   \n",
      "University of Alaska Anchorage         Anchorage     AK   0.0      0.0   \n",
      "International Academy of Hair Design       Tempe     AZ   0.0      0.0   \n",
      "University of Alabama in Huntsville   Huntsville     AL   0.0      0.0   \n",
      "\n",
      "                                      WOMENONLY  RELAFFIL  SATVRMID  SATMTMID  \\\n",
      "INSTNM                                                                          \n",
      "University of Alaska Anchorage              0.0         0       NaN       NaN   \n",
      "International Academy of Hair Design        0.0         0       NaN       NaN   \n",
      "University of Alabama in Huntsville         0.0         0     595.0     590.0   \n",
      "\n",
      "                                      DISTANCEONLY     UGDS  ...  UGDS_2MOR  \\\n",
      "INSTNM                                                       ...              \n",
      "University of Alaska Anchorage                 0.0  12865.0  ...     0.0980   \n",
      "International Academy of Hair Design           0.0    188.0  ...     0.0160   \n",
      "University of Alabama in Huntsville            0.0   5451.0  ...     0.0172   \n",
      "\n",
      "                                      UGDS_NRA  UGDS_UNKN  PPTUG_EF  CURROPER  \\\n",
      "INSTNM                                                                          \n",
      "University of Alaska Anchorage          0.0181     0.0457    0.4539         1   \n",
      "International Academy of Hair Design    0.0000     0.0638    0.0000         0   \n",
      "University of Alabama in Huntsville     0.0332     0.0350    0.2146         1   \n",
      "\n",
      "                                      PCTPELL  PCTFLOAN  UG25ABV  \\\n",
      "INSTNM                                                             \n",
      "University of Alaska Anchorage         0.2385    0.2647   0.4386   \n",
      "International Academy of Hair Design   0.7185    0.7346   0.3905   \n",
      "University of Alabama in Huntsville    0.3072    0.4596   0.2640   \n",
      "\n",
      "                                      MD_EARN_WNE_P10  GRAD_DEBT_MDN_SUPP  \n",
      "INSTNM                                                                     \n",
      "University of Alaska Anchorage                  42500             19449.5  \n",
      "International Academy of Hair Design            22200               10556  \n",
      "University of Alabama in Huntsville             45500               24097  \n",
      "\n",
      "[3 rows x 26 columns]\n"
     ]
    }
   ],
   "source": [
    "# 選取多個列\n",
    "labels = ['University of Alaska Anchorage',\n",
    "          'International Academy of Hair Design',\n",
    "          'University of Alabama in Huntsville']\n",
    "print(college.loc[labels])"
   ]
  },
  {
   "cell_type": "code",
   "execution_count": 11,
   "id": "b5deeea4",
   "metadata": {},
   "outputs": [
    {
     "name": "stdout",
     "output_type": "stream",
     "text": [
      "                                         CITY STABBR  HBCU  MENONLY  \\\n",
      "INSTNM                                                                \n",
      "International Academy of Hair Design    Tempe     AZ   0.0      0.0   \n",
      "GateWay Community College             Phoenix     AZ   0.0      0.0   \n",
      "Mesa Community College                   Mesa     AZ   0.0      0.0   \n",
      "\n",
      "                                      WOMENONLY  RELAFFIL  SATVRMID  SATMTMID  \\\n",
      "INSTNM                                                                          \n",
      "International Academy of Hair Design        0.0         0       NaN       NaN   \n",
      "GateWay Community College                   0.0         0       NaN       NaN   \n",
      "Mesa Community College                      0.0         0       NaN       NaN   \n",
      "\n",
      "                                      DISTANCEONLY     UGDS  ...  UGDS_2MOR  \\\n",
      "INSTNM                                                       ...              \n",
      "International Academy of Hair Design           0.0    188.0  ...     0.0160   \n",
      "GateWay Community College                      0.0   5211.0  ...     0.0127   \n",
      "Mesa Community College                         0.0  19055.0  ...     0.0205   \n",
      "\n",
      "                                      UGDS_NRA  UGDS_UNKN  PPTUG_EF  CURROPER  \\\n",
      "INSTNM                                                                          \n",
      "International Academy of Hair Design    0.0000     0.0638    0.0000         0   \n",
      "GateWay Community College               0.0161     0.0702    0.7465         1   \n",
      "Mesa Community College                  0.0257     0.0682    0.6457         1   \n",
      "\n",
      "                                      PCTPELL  PCTFLOAN  UG25ABV  \\\n",
      "INSTNM                                                             \n",
      "International Academy of Hair Design   0.7185    0.7346   0.3905   \n",
      "GateWay Community College              0.3270    0.2189   0.5832   \n",
      "Mesa Community College                 0.3423    0.2207   0.4010   \n",
      "\n",
      "                                      MD_EARN_WNE_P10  GRAD_DEBT_MDN_SUPP  \n",
      "INSTNM                                                                     \n",
      "International Academy of Hair Design            22200               10556  \n",
      "GateWay Community College                       29800                7283  \n",
      "Mesa Community College                          35200                8000  \n",
      "\n",
      "[3 rows x 26 columns]\n"
     ]
    }
   ],
   "source": [
    "# 切片法\n",
    "print(college.iloc[99:102])"
   ]
  },
  {
   "cell_type": "code",
   "execution_count": 12,
   "id": "9928fb80",
   "metadata": {},
   "outputs": [
    {
     "name": "stdout",
     "output_type": "stream",
     "text": [
      "                                         CITY STABBR  HBCU  MENONLY  \\\n",
      "INSTNM                                                                \n",
      "International Academy of Hair Design    Tempe     AZ   0.0      0.0   \n",
      "GateWay Community College             Phoenix     AZ   0.0      0.0   \n",
      "Mesa Community College                   Mesa     AZ   0.0      0.0   \n",
      "\n",
      "                                      WOMENONLY  RELAFFIL  SATVRMID  SATMTMID  \\\n",
      "INSTNM                                                                          \n",
      "International Academy of Hair Design        0.0         0       NaN       NaN   \n",
      "GateWay Community College                   0.0         0       NaN       NaN   \n",
      "Mesa Community College                      0.0         0       NaN       NaN   \n",
      "\n",
      "                                      DISTANCEONLY     UGDS  ...  UGDS_2MOR  \\\n",
      "INSTNM                                                       ...              \n",
      "International Academy of Hair Design           0.0    188.0  ...     0.0160   \n",
      "GateWay Community College                      0.0   5211.0  ...     0.0127   \n",
      "Mesa Community College                         0.0  19055.0  ...     0.0205   \n",
      "\n",
      "                                      UGDS_NRA  UGDS_UNKN  PPTUG_EF  CURROPER  \\\n",
      "INSTNM                                                                          \n",
      "International Academy of Hair Design    0.0000     0.0638    0.0000         0   \n",
      "GateWay Community College               0.0161     0.0702    0.7465         1   \n",
      "Mesa Community College                  0.0257     0.0682    0.6457         1   \n",
      "\n",
      "                                      PCTPELL  PCTFLOAN  UG25ABV  \\\n",
      "INSTNM                                                             \n",
      "International Academy of Hair Design   0.7185    0.7346   0.3905   \n",
      "GateWay Community College              0.3270    0.2189   0.5832   \n",
      "Mesa Community College                 0.3423    0.2207   0.4010   \n",
      "\n",
      "                                      MD_EARN_WNE_P10  GRAD_DEBT_MDN_SUPP  \n",
      "INSTNM                                                                     \n",
      "International Academy of Hair Design            22200               10556  \n",
      "GateWay Community College                       29800                7283  \n",
      "Mesa Community College                          35200                8000  \n",
      "\n",
      "[3 rows x 26 columns]\n"
     ]
    }
   ],
   "source": [
    "# loc 切片法 包含尾巴\n",
    "start = 'International Academy of Hair Design'\n",
    "stop = 'Mesa Community College'\n",
    "print(college.loc[start:stop])"
   ]
  },
  {
   "cell_type": "markdown",
   "id": "1c45aa8f",
   "metadata": {},
   "source": [
    "## 6.3 同時選取DataFrame 的列與欄位"
   ]
  },
  {
   "cell_type": "code",
   "execution_count": null,
   "id": "b4eb23bb",
   "metadata": {},
   "outputs": [],
   "source": [
    "# 讀取檔案 並以特定欄位為索引\n",
    "college = pd.read_csv('../../data/college.csv', index_col='INSTNM')"
   ]
  },
  {
   "cell_type": "code",
   "execution_count": 13,
   "id": "4deefd6c",
   "metadata": {},
   "outputs": [
    {
     "name": "stdout",
     "output_type": "stream",
     "text": [
      "                                           CITY STABBR  HBCU  MENONLY\n",
      "INSTNM                                                               \n",
      "Alabama A & M University                 Normal     AL   1.0      0.0\n",
      "University of Alabama at Birmingham  Birmingham     AL   0.0      0.0\n",
      "Amridge University                   Montgomery     AL   0.0      0.0\n"
     ]
    }
   ],
   "source": [
    "# 切片前3列 前4欄\n",
    "print(college.iloc[:3, :4])"
   ]
  },
  {
   "cell_type": "code",
   "execution_count": 14,
   "id": "63427a08",
   "metadata": {},
   "outputs": [
    {
     "name": "stdout",
     "output_type": "stream",
     "text": [
      "                                           CITY STABBR  HBCU  MENONLY\n",
      "INSTNM                                                               \n",
      "Alabama A & M University                 Normal     AL   1.0      0.0\n",
      "University of Alabama at Birmingham  Birmingham     AL   0.0      0.0\n",
      "Amridge University                   Montgomery     AL   0.0      0.0\n"
     ]
    }
   ],
   "source": [
    "# 切片前3列 前4欄\n",
    "print(college.loc[:'Amridge University', :'MENONLY'])"
   ]
  },
  {
   "cell_type": "code",
   "execution_count": 15,
   "id": "d51560fa",
   "metadata": {},
   "outputs": [
    {
     "name": "stdout",
     "output_type": "stream",
     "text": [
      "                                     WOMENONLY  SATVRMID\n",
      "INSTNM                                                  \n",
      "Alabama A & M University                   0.0     424.0\n",
      "University of Alabama at Birmingham        0.0     570.0\n",
      "Amridge University                         0.0       NaN\n",
      "University of Alabama in Huntsville        0.0     595.0\n",
      "Alabama State University                   0.0     425.0\n"
     ]
    }
   ],
   "source": [
    "# 選取所有列 4和6的欄位\n",
    "print(college.iloc[:, [4, 6]].head())"
   ]
  },
  {
   "cell_type": "code",
   "execution_count": 17,
   "id": "f94ec58b",
   "metadata": {},
   "outputs": [
    {
     "name": "stdout",
     "output_type": "stream",
     "text": [
      "                                     WOMENONLY  SATVRMID\n",
      "INSTNM                                                  \n",
      "Alabama A & M University                   0.0     424.0\n",
      "University of Alabama at Birmingham        0.0     570.0\n",
      "Amridge University                         0.0       NaN\n",
      "University of Alabama in Huntsville        0.0     595.0\n",
      "Alabama State University                   0.0     425.0\n"
     ]
    }
   ],
   "source": [
    "# 選取所有列 4和6的欄位\n",
    "print(college.loc[:, ['WOMENONLY', 'SATVRMID']].head())"
   ]
  },
  {
   "cell_type": "code",
   "execution_count": 18,
   "id": "340a0578",
   "metadata": {},
   "outputs": [
    {
     "name": "stdout",
     "output_type": "stream",
     "text": [
      "0.401\n"
     ]
    }
   ],
   "source": [
    "# 顯示特定儲存格的值\n",
    "print(college.iloc[5, -4])"
   ]
  },
  {
   "cell_type": "code",
   "execution_count": 19,
   "id": "1a0ab23a",
   "metadata": {},
   "outputs": [
    {
     "name": "stdout",
     "output_type": "stream",
     "text": [
      "0.401\n"
     ]
    }
   ],
   "source": [
    "# 顯示特定儲存格的值\n",
    "print(college.loc['The University of Alabama', 'PCTFLOAN'])"
   ]
  },
  {
   "cell_type": "code",
   "execution_count": 21,
   "id": "3df14f77",
   "metadata": {},
   "outputs": [
    {
     "name": "stdout",
     "output_type": "stream",
     "text": [
      "INSTNM\n",
      "Birmingham Southern College             1\n",
      "Concordia College Alabama               1\n",
      "Enterprise State Community College      0\n",
      "Faulkner University                     1\n",
      "New Beginning College of Cosmetology    0\n",
      "Name: RELAFFIL, dtype: int64\n"
     ]
    }
   ],
   "source": [
    "# 切片操作單一欄位\n",
    "print(college.iloc[10:20:2, 5])"
   ]
  },
  {
   "cell_type": "code",
   "execution_count": 23,
   "id": "afe15414",
   "metadata": {},
   "outputs": [
    {
     "name": "stdout",
     "output_type": "stream",
     "text": [
      "INSTNM\n",
      "Birmingham Southern College             1\n",
      "Concordia College Alabama               1\n",
      "Enterprise State Community College      0\n",
      "Faulkner University                     1\n",
      "New Beginning College of Cosmetology    0\n",
      "Name: RELAFFIL, dtype: int64\n"
     ]
    }
   ],
   "source": [
    "# 切片操作單一欄位\n",
    "start = 'Birmingham Southern College'\n",
    "stop = 'New Beginning College of Cosmetology'\n",
    "print(college.loc[start:stop:2, 'RELAFFIL'])"
   ]
  },
  {
   "cell_type": "markdown",
   "id": "2981d58e",
   "metadata": {},
   "source": [
    "## 6.4 混用位置與標籤來選取資料"
   ]
  },
  {
   "cell_type": "code",
   "execution_count": 2,
   "id": "6bce9511",
   "metadata": {},
   "outputs": [],
   "source": [
    "# 讀取檔案 並以特定欄位為索引\n",
    "college = pd.read_csv('../../data/college.csv', index_col='INSTNM')"
   ]
  },
  {
   "cell_type": "code",
   "execution_count": 3,
   "id": "7d3b5679",
   "metadata": {},
   "outputs": [
    {
     "name": "stdout",
     "output_type": "stream",
     "text": [
      "10 19\n",
      "                                     UGDS_WHITE  UGDS_BLACK  UGDS_HISP  \\\n",
      "INSTNM                                                                   \n",
      "Alabama A & M University                 0.0333      0.9353     0.0055   \n",
      "University of Alabama at Birmingham      0.5922      0.2600     0.0283   \n",
      "Amridge University                       0.2990      0.4192     0.0069   \n",
      "University of Alabama in Huntsville      0.6988      0.1255     0.0382   \n",
      "Alabama State University                 0.0158      0.9208     0.0121   \n",
      "\n",
      "                                     UGDS_ASIAN  UGDS_AIAN  UGDS_NHPI  \\\n",
      "INSTNM                                                                  \n",
      "Alabama A & M University                 0.0019     0.0024     0.0019   \n",
      "University of Alabama at Birmingham      0.0518     0.0022     0.0007   \n",
      "Amridge University                       0.0034     0.0000     0.0000   \n",
      "University of Alabama in Huntsville      0.0376     0.0143     0.0002   \n",
      "Alabama State University                 0.0019     0.0010     0.0006   \n",
      "\n",
      "                                     UGDS_2MOR  UGDS_NRA  UGDS_UNKN  \n",
      "INSTNM                                                               \n",
      "Alabama A & M University                0.0000    0.0059     0.0138  \n",
      "University of Alabama at Birmingham     0.0368    0.0179     0.0100  \n",
      "Amridge University                      0.0000    0.0000     0.2715  \n",
      "University of Alabama in Huntsville     0.0172    0.0332     0.0350  \n",
      "Alabama State University                0.0098    0.0243     0.0137  \n"
     ]
    }
   ],
   "source": [
    "# 找到標籤位置\n",
    "col_start = college.columns.get_loc('UGDS_WHITE')\n",
    "\n",
    "col_end = college.columns.get_loc('UGDS_UNKN') + 1\n",
    "\n",
    "print(col_start, col_end)\n",
    "\n",
    "# 再用iloc\n",
    "print(college.iloc[:5, col_start:col_end])"
   ]
  },
  {
   "cell_type": "code",
   "execution_count": 4,
   "id": "ebdc1fbb",
   "metadata": {},
   "outputs": [
    {
     "name": "stdout",
     "output_type": "stream",
     "text": [
      "Birmingham Southern College James H Faulkner State Community College\n",
      "                                          UGDS_WHITE  UGDS_BLACK  UGDS_HISP  \\\n",
      "INSTNM                                                                        \n",
      "Birmingham Southern College                   0.7983      0.1102     0.0195   \n",
      "Chattahoochee Valley Community College        0.4661      0.4372     0.0492   \n",
      "Concordia College Alabama                     0.0280      0.8758     0.0373   \n",
      "South University-Montgomery                   0.3046      0.6054     0.0153   \n",
      "Enterprise State Community College            0.6408      0.2435     0.0509   \n",
      "James H Faulkner State Community College      0.6979      0.2259     0.0320   \n",
      "\n",
      "                                          UGDS_ASIAN  UGDS_AIAN  UGDS_NHPI  \\\n",
      "INSTNM                                                                       \n",
      "Birmingham Southern College                   0.0517     0.0102     0.0000   \n",
      "Chattahoochee Valley Community College        0.0127     0.0023     0.0035   \n",
      "Concordia College Alabama                     0.0093     0.0000     0.0000   \n",
      "South University-Montgomery                   0.0153     0.0153     0.0096   \n",
      "Enterprise State Community College            0.0202     0.0081     0.0029   \n",
      "James H Faulkner State Community College      0.0084     0.0177     0.0014   \n",
      "\n",
      "                                          UGDS_2MOR  UGDS_NRA  UGDS_UNKN  \n",
      "INSTNM                                                                    \n",
      "Birmingham Southern College                  0.0051    0.0000     0.0051  \n",
      "Chattahoochee Valley Community College       0.0151    0.0000     0.0139  \n",
      "Concordia College Alabama                    0.0031    0.0466     0.0000  \n",
      "South University-Montgomery                  0.0000    0.0019     0.0326  \n",
      "Enterprise State Community College           0.0254    0.0012     0.0069  \n",
      "James H Faulkner State Community College     0.0152    0.0007     0.0009  \n"
     ]
    }
   ],
   "source": [
    "# 反過來用數字找標籤\n",
    "row_start = college.index[10]\n",
    "\n",
    "row_end = college.index[15]\n",
    "\n",
    "print(row_start, row_end)\n",
    "\n",
    "# 再用loc\n",
    "print(college.loc[row_start:row_end, 'UGDS_WHITE':'UGDS_UNKN'])"
   ]
  },
  {
   "cell_type": "markdown",
   "id": "e04ba08e",
   "metadata": {},
   "source": [
    "## 6.5 按標籤的字母順序進行切片"
   ]
  },
  {
   "cell_type": "code",
   "execution_count": 5,
   "id": "2fed9490",
   "metadata": {},
   "outputs": [],
   "source": [
    "# 讀取檔案 並以特定欄位為索引\n",
    "college = pd.read_csv('../../data/college.csv', index_col='INSTNM')"
   ]
  },
  {
   "cell_type": "code",
   "execution_count": 8,
   "id": "c0dfd16f",
   "metadata": {},
   "outputs": [
    {
     "name": "stdout",
     "output_type": "stream",
     "text": [
      "                                                  CITY STABBR  HBCU  MENONLY  \\\n",
      "INSTNM                                                                         \n",
      "Spa Tech Institute-Ipswich                     Ipswich     MA   0.0      0.0   \n",
      "Spa Tech Institute-Plymouth                   Plymouth     MA   0.0      0.0   \n",
      "Spa Tech Institute-Westboro                   Westboro     MA   0.0      0.0   \n",
      "Spa Tech Institute-Westbrook                 Westbrook     ME   0.0      0.0   \n",
      "Spalding University                         Louisville     KY   0.0      0.0   \n",
      "...                                                ...    ...   ...      ...   \n",
      "Studio Academy of Beauty                      Chandler     AZ   0.0      0.0   \n",
      "Studio Jewelers                               New York     NY   0.0      0.0   \n",
      "Stylemaster College of Hair Design            Longview     WA   0.0      0.0   \n",
      "Styles and Profiles Beauty College              Selmer     TN   0.0      0.0   \n",
      "Styletrends Barber and Hairstyling Academy   Rock Hill     SC   0.0      0.0   \n",
      "\n",
      "                                            WOMENONLY  RELAFFIL  SATVRMID  \\\n",
      "INSTNM                                                                      \n",
      "Spa Tech Institute-Ipswich                        0.0         0       NaN   \n",
      "Spa Tech Institute-Plymouth                       0.0         0       NaN   \n",
      "Spa Tech Institute-Westboro                       0.0         0       NaN   \n",
      "Spa Tech Institute-Westbrook                      0.0         0       NaN   \n",
      "Spalding University                               0.0         1     490.0   \n",
      "...                                               ...       ...       ...   \n",
      "Studio Academy of Beauty                          0.0         0       NaN   \n",
      "Studio Jewelers                                   0.0         0       NaN   \n",
      "Stylemaster College of Hair Design                0.0         0       NaN   \n",
      "Styles and Profiles Beauty College                0.0         0       NaN   \n",
      "Styletrends Barber and Hairstyling Academy        0.0         0       NaN   \n",
      "\n",
      "                                            SATMTMID  DISTANCEONLY    UGDS  \\\n",
      "INSTNM                                                                       \n",
      "Spa Tech Institute-Ipswich                       NaN           0.0    37.0   \n",
      "Spa Tech Institute-Plymouth                      NaN           0.0   153.0   \n",
      "Spa Tech Institute-Westboro                      NaN           0.0    90.0   \n",
      "Spa Tech Institute-Westbrook                     NaN           0.0   240.0   \n",
      "Spalding University                            440.0           0.0  1227.0   \n",
      "...                                              ...           ...     ...   \n",
      "Studio Academy of Beauty                         NaN           0.0   332.0   \n",
      "Studio Jewelers                                  NaN           0.0    55.0   \n",
      "Stylemaster College of Hair Design               NaN           0.0    77.0   \n",
      "Styles and Profiles Beauty College               NaN           0.0    31.0   \n",
      "Styletrends Barber and Hairstyling Academy       NaN           0.0    45.0   \n",
      "\n",
      "                                            ...  UGDS_2MOR  UGDS_NRA  \\\n",
      "INSTNM                                      ...                        \n",
      "Spa Tech Institute-Ipswich                  ...     0.0000    0.0000   \n",
      "Spa Tech Institute-Plymouth                 ...     0.0000    0.0000   \n",
      "Spa Tech Institute-Westboro                 ...     0.0000    0.0000   \n",
      "Spa Tech Institute-Westbrook                ...     0.0000    0.0000   \n",
      "Spalding University                         ...     0.0302    0.0016   \n",
      "...                                         ...        ...       ...   \n",
      "Studio Academy of Beauty                    ...     0.0392    0.0000   \n",
      "Studio Jewelers                             ...     0.0000    0.0364   \n",
      "Stylemaster College of Hair Design          ...     0.0130    0.0000   \n",
      "Styles and Profiles Beauty College          ...     0.0000    0.0000   \n",
      "Styletrends Barber and Hairstyling Academy  ...     0.0000    0.0000   \n",
      "\n",
      "                                            UGDS_UNKN  PPTUG_EF  CURROPER  \\\n",
      "INSTNM                                                                      \n",
      "Spa Tech Institute-Ipswich                     0.0541    0.4054         1   \n",
      "Spa Tech Institute-Plymouth                    0.2484    0.3399         1   \n",
      "Spa Tech Institute-Westboro                    0.0222    0.5778         1   \n",
      "Spa Tech Institute-Westbrook                   0.0042    0.2542         1   \n",
      "Spalding University                            0.0326    0.2502         1   \n",
      "...                                               ...       ...       ...   \n",
      "Studio Academy of Beauty                       0.0090    0.0000         1   \n",
      "Studio Jewelers                                0.0000    0.6000         1   \n",
      "Stylemaster College of Hair Design             0.0000    0.0000         1   \n",
      "Styles and Profiles Beauty College             0.0000    0.0000         1   \n",
      "Styletrends Barber and Hairstyling Academy     0.0000    0.5556         0   \n",
      "\n",
      "                                            PCTPELL  PCTFLOAN  UG25ABV  \\\n",
      "INSTNM                                                                   \n",
      "Spa Tech Institute-Ipswich                   0.2656    0.3906   0.7907   \n",
      "Spa Tech Institute-Plymouth                  0.3716    0.4266   0.6250   \n",
      "Spa Tech Institute-Westboro                  0.3409    0.4545   0.6882   \n",
      "Spa Tech Institute-Westbrook                 0.4350    0.5093   0.5224   \n",
      "Spalding University                          0.4442    0.6725   0.3764   \n",
      "...                                             ...       ...      ...   \n",
      "Studio Academy of Beauty                     0.5855    0.6218   0.5675   \n",
      "Studio Jewelers                              0.0451    0.0902   0.8525   \n",
      "Stylemaster College of Hair Design           0.8036    0.7024   0.4510   \n",
      "Styles and Profiles Beauty College           0.8182    0.7955   0.2400   \n",
      "Styletrends Barber and Hairstyling Academy   1.0000    1.0000   0.3529   \n",
      "\n",
      "                                              MD_EARN_WNE_P10  \\\n",
      "INSTNM                                                          \n",
      "Spa Tech Institute-Ipswich                              21500   \n",
      "Spa Tech Institute-Plymouth                             21500   \n",
      "Spa Tech Institute-Westboro                             21500   \n",
      "Spa Tech Institute-Westbrook                            21500   \n",
      "Spalding University                                     41700   \n",
      "...                                                       ...   \n",
      "Studio Academy of Beauty                                  NaN   \n",
      "Studio Jewelers                             PrivacySuppressed   \n",
      "Stylemaster College of Hair Design                      17000   \n",
      "Styles and Profiles Beauty College          PrivacySuppressed   \n",
      "Styletrends Barber and Hairstyling Academy  PrivacySuppressed   \n",
      "\n",
      "                                            GRAD_DEBT_MDN_SUPP  \n",
      "INSTNM                                                          \n",
      "Spa Tech Institute-Ipswich                                6333  \n",
      "Spa Tech Institute-Plymouth                               6333  \n",
      "Spa Tech Institute-Westboro                               6333  \n",
      "Spa Tech Institute-Westbrook                              6333  \n",
      "Spalding University                                      25000  \n",
      "...                                                        ...  \n",
      "Studio Academy of Beauty                                  6333  \n",
      "Studio Jewelers                              PrivacySuppressed  \n",
      "Stylemaster College of Hair Design                       13320  \n",
      "Styles and Profiles Beauty College           PrivacySuppressed  \n",
      "Styletrends Barber and Hairstyling Academy              9495.5  \n",
      "\n",
      "[201 rows x 26 columns]\n"
     ]
    }
   ],
   "source": [
    "# 排序index\n",
    "college = college.sort_index()\n",
    "\n",
    "# 排序後就能以字母順序切片\n",
    "print(college.loc['Sp':'Su'])"
   ]
  },
  {
   "cell_type": "code",
   "execution_count": 9,
   "id": "7868650a",
   "metadata": {},
   "outputs": [
    {
     "name": "stdout",
     "output_type": "stream",
     "text": [
      "                                                  CITY STABBR  HBCU  MENONLY  \\\n",
      "INSTNM                                                                         \n",
      "Dyersburg State Community College            Dyersburg     TN   0.0      0.0   \n",
      "Dutchess Community College                Poughkeepsie     NY   0.0      0.0   \n",
      "Dutchess BOCES-Practical Nursing Program  Poughkeepsie     NY   0.0      0.0   \n",
      "Durham Technical Community College              Durham     NC   0.0      0.0   \n",
      "Durham Beauty Academy                           Durham     NC   0.0      0.0   \n",
      "...                                                ...    ...   ...      ...   \n",
      "Bacone College                                Muskogee     OK   0.0      0.0   \n",
      "Babson College                               Wellesley     MA   0.0      0.0   \n",
      "BJ's Beauty & Barber College                    Auburn     WA   0.0      0.0   \n",
      "BIR Training Center                            Chicago     IL   0.0      0.0   \n",
      "B M Spurr School of Practical Nursing        Glen Dale     WV   0.0      0.0   \n",
      "\n",
      "                                          WOMENONLY  RELAFFIL  SATVRMID  \\\n",
      "INSTNM                                                                    \n",
      "Dyersburg State Community College               0.0         0       NaN   \n",
      "Dutchess Community College                      0.0         0       NaN   \n",
      "Dutchess BOCES-Practical Nursing Program        0.0         0       NaN   \n",
      "Durham Technical Community College              0.0         0       NaN   \n",
      "Durham Beauty Academy                           0.0         0       NaN   \n",
      "...                                             ...       ...       ...   \n",
      "Bacone College                                  0.0         1     398.0   \n",
      "Babson College                                  0.0         0     615.0   \n",
      "BJ's Beauty & Barber College                    0.0         0       NaN   \n",
      "BIR Training Center                             0.0         0       NaN   \n",
      "B M Spurr School of Practical Nursing           0.0         0       NaN   \n",
      "\n",
      "                                          SATMTMID  DISTANCEONLY    UGDS  ...  \\\n",
      "INSTNM                                                                    ...   \n",
      "Dyersburg State Community College              NaN           0.0  2001.0  ...   \n",
      "Dutchess Community College                     NaN           0.0  6885.0  ...   \n",
      "Dutchess BOCES-Practical Nursing Program       NaN           0.0   155.0  ...   \n",
      "Durham Technical Community College             NaN           0.0  4769.0  ...   \n",
      "Durham Beauty Academy                          NaN           0.0    78.0  ...   \n",
      "...                                            ...           ...     ...  ...   \n",
      "Bacone College                               428.0           0.0   939.0  ...   \n",
      "Babson College                               660.0           0.0  2107.0  ...   \n",
      "BJ's Beauty & Barber College                   NaN           0.0    28.0  ...   \n",
      "BIR Training Center                            NaN           0.0  2132.0  ...   \n",
      "B M Spurr School of Practical Nursing          NaN           0.0    31.0  ...   \n",
      "\n",
      "                                          UGDS_2MOR  UGDS_NRA  UGDS_UNKN  \\\n",
      "INSTNM                                                                     \n",
      "Dyersburg State Community College            0.0185    0.0010     0.0085   \n",
      "Dutchess Community College                   0.0446    0.0129     0.0049   \n",
      "Dutchess BOCES-Practical Nursing Program     0.0581    0.0000     0.0000   \n",
      "Durham Technical Community College           0.0182    0.0025     0.0457   \n",
      "Durham Beauty Academy                        0.0000    0.0000     0.0128   \n",
      "...                                             ...       ...        ...   \n",
      "Bacone College                               0.0298    0.0000     0.0895   \n",
      "Babson College                               0.0233    0.2682     0.0603   \n",
      "BJ's Beauty & Barber College                 0.0714    0.0000     0.0714   \n",
      "BIR Training Center                          0.0000    0.0000     0.0000   \n",
      "B M Spurr School of Practical Nursing        0.0000    0.0000     0.0000   \n",
      "\n",
      "                                          PPTUG_EF  CURROPER  PCTPELL  \\\n",
      "INSTNM                                                                  \n",
      "Dyersburg State Community College           0.4423         1   0.4921   \n",
      "Dutchess Community College                  0.3312         1   0.2464   \n",
      "Dutchess BOCES-Practical Nursing Program    0.7548         1   0.5294   \n",
      "Durham Technical Community College          0.6905         1   0.4495   \n",
      "Durham Beauty Academy                       0.0000         1   0.5746   \n",
      "...                                            ...       ...      ...   \n",
      "Bacone College                              0.1140         1   0.9392   \n",
      "Babson College                              0.0000         1   0.1709   \n",
      "BJ's Beauty & Barber College                0.0000         1   0.5192   \n",
      "BIR Training Center                         0.1806         0   0.6700   \n",
      "B M Spurr School of Practical Nursing       0.0000         1   0.4722   \n",
      "\n",
      "                                          PCTFLOAN  UG25ABV  \\\n",
      "INSTNM                                                        \n",
      "Dyersburg State Community College           0.2493   0.3097   \n",
      "Dutchess Community College                  0.1936   0.1806   \n",
      "Dutchess BOCES-Practical Nursing Program    0.6275   0.5430   \n",
      "Durham Technical Community College          0.1796   0.5961   \n",
      "Durham Beauty Academy                       0.8134   0.4000   \n",
      "...                                            ...      ...   \n",
      "Bacone College                              0.8920   0.1648   \n",
      "Babson College                              0.3727   0.0090   \n",
      "BJ's Beauty & Barber College                0.6154   0.2917   \n",
      "BIR Training Center                         0.6998   0.6741   \n",
      "B M Spurr School of Practical Nursing       0.0000   0.4444   \n",
      "\n",
      "                                            MD_EARN_WNE_P10  \\\n",
      "INSTNM                                                        \n",
      "Dyersburg State Community College                     26800   \n",
      "Dutchess Community College                            32500   \n",
      "Dutchess BOCES-Practical Nursing Program              36500   \n",
      "Durham Technical Community College                    27200   \n",
      "Durham Beauty Academy                     PrivacySuppressed   \n",
      "...                                                     ...   \n",
      "Bacone College                                        29700   \n",
      "Babson College                                        86700   \n",
      "BJ's Beauty & Barber College                            NaN   \n",
      "BIR Training Center                       PrivacySuppressed   \n",
      "B M Spurr School of Practical Nursing     PrivacySuppressed   \n",
      "\n",
      "                                          GRAD_DEBT_MDN_SUPP  \n",
      "INSTNM                                                        \n",
      "Dyersburg State Community College                       7475  \n",
      "Dutchess Community College                             10250  \n",
      "Dutchess BOCES-Practical Nursing Program                9500  \n",
      "Durham Technical Community College                   11069.5  \n",
      "Durham Beauty Academy                                  15332  \n",
      "...                                                      ...  \n",
      "Bacone College                                         26350  \n",
      "Babson College                                         27000  \n",
      "BJ's Beauty & Barber College               PrivacySuppressed  \n",
      "BIR Training Center                                    15394  \n",
      "B M Spurr School of Practical Nursing      PrivacySuppressed  \n",
      "\n",
      "[1411 rows x 26 columns]\n"
     ]
    }
   ],
   "source": [
    "# 反向排序也支援\n",
    "college = college.sort_index(ascending=False)\n",
    "\n",
    "print(college.loc['E': 'B'])"
   ]
  }
 ],
 "metadata": {
  "kernelspec": {
   "display_name": "Python 3",
   "language": "python",
   "name": "python3"
  },
  "language_info": {
   "codemirror_mode": {
    "name": "ipython",
    "version": 3
   },
   "file_extension": ".py",
   "mimetype": "text/x-python",
   "name": "python",
   "nbconvert_exporter": "python",
   "pygments_lexer": "ipython3",
   "version": "3.13.0"
  }
 },
 "nbformat": 4,
 "nbformat_minor": 5
}

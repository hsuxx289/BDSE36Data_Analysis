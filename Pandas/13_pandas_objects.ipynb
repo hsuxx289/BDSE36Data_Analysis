{
 "cells": [
  {
   "cell_type": "code",
   "execution_count": 1,
   "metadata": {},
   "outputs": [],
   "source": [
    "import numpy as np\n",
    "import pandas as pd"
   ]
  },
  {
   "cell_type": "code",
   "execution_count": 14,
   "metadata": {},
   "outputs": [
    {
     "name": "stdout",
     "output_type": "stream",
     "text": [
      "0    0.25\n",
      "1    0.50\n",
      "2    0.75\n",
      "3    1.00\n",
      "dtype: float64\n",
      "0.5\n",
      "1    0.50\n",
      "2    0.75\n",
      "dtype: float64\n",
      "[0.25 0.5  0.75 1.  ]\n",
      "RangeIndex(start=0, stop=4, step=1)\n"
     ]
    }
   ],
   "source": [
    "data = pd.Series([0.25, 0.5, 0.75, 1.0])\n",
    "print(data)\n",
    "\n",
    "# 也可以用python的中括號取值\n",
    "print(data[1])\n",
    "\n",
    "print(data[1:3])\n",
    "\n",
    "# values 會變成我們習慣的NumPy 形式\n",
    "print(data.values)\n",
    "# index 可以取得索引\n",
    "print(data.index)"
   ]
  },
  {
   "cell_type": "code",
   "execution_count": 6,
   "metadata": {},
   "outputs": [
    {
     "name": "stdout",
     "output_type": "stream",
     "text": [
      "a    0.25\n",
      "b    0.50\n",
      "c    0.75\n",
      "d    1.00\n",
      "dtype: float64\n",
      "0.5\n",
      "2    0.25\n",
      "5    0.50\n",
      "3    0.75\n",
      "7    1.00\n",
      "dtype: float64\n",
      "0.5\n"
     ]
    }
   ],
   "source": [
    "# Pandas 的 Series 物件可以定義任何資料型態的索引\n",
    "data = pd.Series([0.25, 0.5, 0.75, 1.0],\n",
    "                 index=['a','b','c','d'])\n",
    "\n",
    "print(data)\n",
    "\n",
    "print(data['b'])\n",
    "\n",
    "data = pd.Series([0.25, 0.5, 0.75, 1.0],\n",
    "                 index=[2, 5, 3, 7])\n",
    "\n",
    "print(data)\n",
    "\n",
    "print(data[5])\n"
   ]
  },
  {
   "cell_type": "code",
   "execution_count": 7,
   "metadata": {},
   "outputs": [
    {
     "name": "stdout",
     "output_type": "stream",
     "text": [
      "California      39538223\n",
      "Texas           29145505\n",
      "Florida         21538187\n",
      "New York        20201249\n",
      "Pennsylvania    13002700\n",
      "dtype: int64\n",
      "39538223\n",
      "California    39538223\n",
      "Texas         29145505\n",
      "Florida       21538187\n",
      "dtype: int64\n"
     ]
    }
   ],
   "source": [
    "# 使用python的字典來建立Series 物件 \n",
    "population_dict = {'California': 39538223, 'Texas': 29145505,'Florida': 21538187, \n",
    "                   'New York': 20201249, 'Pennsylvania': 13002700}\n",
    "\n",
    "population = pd.Series(population_dict)\n",
    "\n",
    "print(population)\n",
    "\n",
    "print(population['California'])\n",
    "\n",
    "print(population['California':'Florida'])"
   ]
  },
  {
   "cell_type": "code",
   "execution_count": 8,
   "metadata": {},
   "outputs": [
    {
     "name": "stdout",
     "output_type": "stream",
     "text": [
      "0    2\n",
      "1    4\n",
      "2    6\n",
      "dtype: int64\n",
      "100    5\n",
      "200    5\n",
      "300    5\n",
      "dtype: int64\n",
      "2    a\n",
      "1    b\n",
      "3    c\n",
      "dtype: object\n",
      "1    b\n",
      "2    a\n",
      "dtype: object\n"
     ]
    }
   ],
   "source": [
    "# 如果data 是串列或NumPy 陣列 沒有指定index 則預設index 為整數\n",
    "print(pd.Series([2, 4, 6]))\n",
    "\n",
    "# 或是填入重複的純量\n",
    "print(pd.Series(5, index=[100, 200, 300]))\n",
    "\n",
    "# 如果data 直接是字典 則會使用字典的鍵值做為index\n",
    "print(pd.Series({2:'a', 1:'b', 3:'c'}))\n",
    "\n",
    "# 可以使用index 的順序 來使用鍵的順序或取得子集合\n",
    "print(pd.Series({2:'a', 1:'b', 3:'c'}, index=[1, 2]))"
   ]
  },
  {
   "cell_type": "code",
   "execution_count": 9,
   "metadata": {},
   "outputs": [
    {
     "name": "stdout",
     "output_type": "stream",
     "text": [
      "California      39538223\n",
      "Texas           29145505\n",
      "Florida         21538187\n",
      "New York        20201249\n",
      "Pennsylvania    13002700\n",
      "dtype: int64\n",
      "California      423967\n",
      "Texas           695662\n",
      "Florida         170312\n",
      "New York        141297\n",
      "Pennsylvania    119280\n",
      "dtype: int64\n",
      "              population    area\n",
      "California      39538223  423967\n",
      "Texas           29145505  695662\n",
      "Florida         21538187  170312\n",
      "New York        20201249  141297\n",
      "Pennsylvania    13002700  119280\n"
     ]
    }
   ],
   "source": [
    "population_dict = {'California': 39538223, 'Texas': 29145505,'Florida': 21538187, \n",
    "                   'New York': 20201249, 'Pennsylvania': 13002700}\n",
    "\n",
    "population = pd.Series(population_dict)\n",
    "\n",
    "area_dict = {'California': 423967, 'Texas': 695662,'Florida': 170312, \n",
    "             'New York': 141297, 'Pennsylvania': 119280}\n",
    "\n",
    "area = pd.Series(area_dict)\n",
    "\n",
    "states = pd.DataFrame({'population':population,\n",
    "                       'area':area})\n",
    "\n",
    "print(population)\n",
    "print(area)\n",
    "print(states)"
   ]
  },
  {
   "cell_type": "code",
   "execution_count": 13,
   "metadata": {},
   "outputs": [
    {
     "name": "stdout",
     "output_type": "stream",
     "text": [
      "Index(['California', 'Texas', 'Florida', 'New York', 'Pennsylvania'], dtype='object')\n",
      "[[39538223   423967]\n",
      " [29145505   695662]\n",
      " [21538187   170312]\n",
      " [20201249   141297]\n",
      " [13002700   119280]]\n",
      "Index(['population', 'area'], dtype='object')\n"
     ]
    }
   ],
   "source": [
    "# DataFrame 取值的方式多了一個 .column 屬性\n",
    "print(states.index)\n",
    "print(states.values)\n",
    "print(states.columns)"
   ]
  },
  {
   "cell_type": "code",
   "execution_count": 20,
   "metadata": {},
   "outputs": [
    {
     "name": "stdout",
     "output_type": "stream",
     "text": [
      "California      423967\n",
      "Texas           695662\n",
      "Florida         170312\n",
      "New York        141297\n",
      "Pennsylvania    119280\n",
      "Name: area, dtype: int64\n"
     ]
    }
   ],
   "source": [
    "print(states['area'])"
   ]
  },
  {
   "cell_type": "code",
   "execution_count": 21,
   "metadata": {},
   "outputs": [
    {
     "name": "stdout",
     "output_type": "stream",
     "text": [
      "              population\n",
      "California      39538223\n",
      "Texas           29145505\n",
      "Florida         21538187\n",
      "New York        20201249\n",
      "Pennsylvania    13002700\n",
      "   a  b\n",
      "0  0  0\n",
      "1  1  2\n",
      "2  2  4\n",
      "     a  b    c\n",
      "0  1.0  2  NaN\n",
      "1  NaN  3  4.0\n",
      "              population    area\n",
      "California      39538223  423967\n",
      "Texas           29145505  695662\n",
      "Florida         21538187  170312\n",
      "New York        20201249  141297\n",
      "Pennsylvania    13002700  119280\n",
      "        foo       bar\n",
      "a  0.313144  0.052756\n",
      "b  0.705255  0.583052\n",
      "c  0.598429  0.239802\n",
      "[(0, 0.) (0, 0.) (0, 0.)]\n",
      "   A    B\n",
      "0  0  0.0\n",
      "1  0  0.0\n",
      "2  0  0.0\n"
     ]
    }
   ],
   "source": [
    "# 從一個Series 物件 可以建立單欄的DataFrame\n",
    "print(pd.DataFrame(population, columns=['population']))\n",
    "\n",
    "# 從一個字典串列 使用串列生成式\n",
    "data = [{'a': i, 'b': 2 * i } for i in range(3)]\n",
    "print(pd.DataFrame(data))\n",
    "\n",
    "# 缺少鍵的話 對應的值會自動補上NaN\n",
    "print(pd.DataFrame([{'a': 1, 'b': 2}, {'b': 3, 'c': 4}]))\n",
    "\n",
    "# 使用Series 物件的字典建立\n",
    "print(pd.DataFrame({'population':population,'area':area}))\n",
    "\n",
    "# 使用二維陣列的 NumPy來建立 但是要自己另外設定欄位名稱跟索引 若沒給預設為整數\n",
    "print(pd.DataFrame(np.random.rand(3,2),\n",
    "                   columns=['foo', 'bar'],\n",
    "                   index = ['a', 'b', 'c']))\n",
    "\n",
    "# 使用 NumPy 的結構陣列 (本質與DataFrame十分相似)\n",
    "A = np.zeros(3, dtype=[('A', 'i8'), ('B', 'f8')])\n",
    "print(A)\n",
    "print(pd.DataFrame(A))"
   ]
  },
  {
   "cell_type": "code",
   "execution_count": 22,
   "metadata": {},
   "outputs": [
    {
     "name": "stdout",
     "output_type": "stream",
     "text": [
      "Index([2, 3, 5, 7, 11], dtype='int64')\n"
     ]
    }
   ],
   "source": [
    "# Pandas 的 Index 物件\n",
    "ind = pd.Index([2, 3, 5, 7, 11])\n",
    "\n",
    "print(ind)"
   ]
  },
  {
   "cell_type": "code",
   "execution_count": 23,
   "metadata": {},
   "outputs": [
    {
     "name": "stdout",
     "output_type": "stream",
     "text": [
      "3\n",
      "Index([2, 5, 11], dtype='int64')\n",
      "5 (5,) 1 int64\n"
     ]
    },
    {
     "ename": "TypeError",
     "evalue": "Index does not support mutable operations",
     "output_type": "error",
     "traceback": [
      "\u001b[1;31m---------------------------------------------------------------------------\u001b[0m",
      "\u001b[1;31mTypeError\u001b[0m                                 Traceback (most recent call last)",
      "Cell \u001b[1;32mIn[23], line 11\u001b[0m\n\u001b[0;32m      8\u001b[0m \u001b[38;5;28mprint\u001b[39m(ind\u001b[38;5;241m.\u001b[39msize, ind\u001b[38;5;241m.\u001b[39mshape, ind\u001b[38;5;241m.\u001b[39mndim, ind\u001b[38;5;241m.\u001b[39mdtype)\n\u001b[0;32m     10\u001b[0m \u001b[38;5;66;03m# index 不能修改\u001b[39;00m\n\u001b[1;32m---> 11\u001b[0m \u001b[43mind\u001b[49m\u001b[43m[\u001b[49m\u001b[38;5;241;43m1\u001b[39;49m\u001b[43m]\u001b[49m \u001b[38;5;241m=\u001b[39m \u001b[38;5;241m0\u001b[39m\n",
      "File \u001b[1;32mc:\\Users\\student\\AppData\\Local\\Programs\\Python\\Python313\\Lib\\site-packages\\pandas\\core\\indexes\\base.py:5371\u001b[0m, in \u001b[0;36mIndex.__setitem__\u001b[1;34m(self, key, value)\u001b[0m\n\u001b[0;32m   5369\u001b[0m \u001b[38;5;129m@final\u001b[39m\n\u001b[0;32m   5370\u001b[0m \u001b[38;5;28;01mdef\u001b[39;00m \u001b[38;5;21m__setitem__\u001b[39m(\u001b[38;5;28mself\u001b[39m, key, value) \u001b[38;5;241m-\u001b[39m\u001b[38;5;241m>\u001b[39m \u001b[38;5;28;01mNone\u001b[39;00m:\n\u001b[1;32m-> 5371\u001b[0m     \u001b[38;5;28;01mraise\u001b[39;00m \u001b[38;5;167;01mTypeError\u001b[39;00m(\u001b[38;5;124m\"\u001b[39m\u001b[38;5;124mIndex does not support mutable operations\u001b[39m\u001b[38;5;124m\"\u001b[39m)\n",
      "\u001b[1;31mTypeError\u001b[0m: Index does not support mutable operations"
     ]
    }
   ],
   "source": [
    "ind = pd.Index([2, 3, 5, 7, 11])\n",
    "\n",
    "# index 像陣列一樣 可以使用slice 取值\n",
    "print(ind[1])\n",
    "print(ind[::2])\n",
    "\n",
    "# index 的屬性也跟陣列很像\n",
    "print(ind.size, ind.shape, ind.ndim, ind.dtype)\n",
    "\n",
    "# index 不能修改\n",
    "ind[1] = 0"
   ]
  },
  {
   "cell_type": "code",
   "execution_count": 24,
   "metadata": {},
   "outputs": [
    {
     "name": "stdout",
     "output_type": "stream",
     "text": [
      "Index([3, 5, 7], dtype='int64')\n",
      "Index([1, 2, 3, 5, 7, 9, 11], dtype='int64')\n",
      "Index([1, 2, 9, 11], dtype='int64')\n"
     ]
    }
   ],
   "source": [
    "indA = pd.Index([1, 3, 5, 7, 9])\n",
    "indB = pd.Index([2, 3, 5, 7, 11])\n",
    "\n",
    "# 交集\n",
    "print(indA.intersection(indB))\n",
    "# 聯集\n",
    "print(indA.union(indB))\n",
    "# 差集\n",
    "print(indA.symmetric_difference(indB))"
   ]
  }
 ],
 "metadata": {
  "kernelspec": {
   "display_name": "Python 3",
   "language": "python",
   "name": "python3"
  },
  "language_info": {
   "codemirror_mode": {
    "name": "ipython",
    "version": 3
   },
   "file_extension": ".py",
   "mimetype": "text/x-python",
   "name": "python",
   "nbconvert_exporter": "python",
   "pygments_lexer": "ipython3",
   "version": "3.13.0"
  }
 },
 "nbformat": 4,
 "nbformat_minor": 2
}

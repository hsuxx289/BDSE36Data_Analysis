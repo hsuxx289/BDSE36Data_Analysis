{
 "cells": [
  {
   "cell_type": "code",
   "execution_count": 32,
   "metadata": {},
   "outputs": [
    {
     "name": "stdout",
     "output_type": "stream",
     "text": [
      "0    0\n",
      "1    7\n",
      "2    6\n",
      "3    4\n",
      "dtype: int64\n",
      "   A  B  C  D\n",
      "0  4  8  0  6\n",
      "1  2  0  5  9\n",
      "2  7  7  7  7\n",
      "0       1.000000\n",
      "1    1096.633158\n",
      "2     403.428793\n",
      "3      54.598150\n",
      "dtype: float64\n",
      "              A             B         C         D\n",
      "0  1.224647e-16 -2.449294e-16  0.000000 -1.000000\n",
      "1  1.000000e+00  0.000000e+00 -0.707107  0.707107\n",
      "2 -7.071068e-01 -7.071068e-01 -0.707107 -0.707107\n"
     ]
    }
   ],
   "source": [
    "import pandas as pd\n",
    "import numpy as np\n",
    "\n",
    "# 隨機產生一個 4 個元素的 Series 物件\n",
    "rng = np.random.default_rng(42)\n",
    "ser = pd.Series(rng.integers(0, 10, 4))\n",
    "print(ser)\n",
    "\n",
    "# 隨機產生一個 3x4 的 DataFrame 物件\n",
    "df = pd.DataFrame(rng.integers(0, 10, (3, 4)),\n",
    "                  columns=['A', 'B', 'C', 'D'])\n",
    "print(df)\n",
    "\n",
    "# 套用 NumPy 的通用函式會產生另一個保留 index 的 Pandas 物件\n",
    "print(np.exp(ser))\n",
    "\n",
    "# 更複雜的運算也一樣\n",
    "print(np.sin(df * np.pi / 4))"
   ]
  },
  {
   "cell_type": "code",
   "execution_count": 9,
   "metadata": {},
   "outputs": [
    {
     "name": "stdout",
     "output_type": "stream",
     "text": [
      "Alaska              NaN\n",
      "California    93.257784\n",
      "Florida             NaN\n",
      "Texas         41.896072\n",
      "dtype: float64\n",
      "Index(['Alaska', 'California', 'Florida', 'Texas'], dtype='object')\n",
      "0    NaN\n",
      "1    5.0\n",
      "2    9.0\n",
      "3    NaN\n",
      "dtype: float64\n",
      "0    2.0\n",
      "1    5.0\n",
      "2    9.0\n",
      "3    5.0\n",
      "dtype: float64\n"
     ]
    }
   ],
   "source": [
    "area = pd.Series({'Alaska': 1723337, 'Texas': 695662, 'California': 423967, \n",
    "                  }, name='area')\n",
    "population = pd.Series({'California': 39538223, 'Texas': 29145505, 'Florida': 21438187, \n",
    "                        }, name='population')\n",
    "\n",
    "# Series 運算範例\n",
    "print(population/area)\n",
    "\n",
    "# 檢查索引是否為兩個陣列的索引聯集\n",
    "print(area.index.union(population.index))\n",
    "\n",
    "# 有一方的資料為NaN 結果就會是NaN\n",
    "A = pd.Series([2, 4, 6], index=[0, 1, 2])\n",
    "B = pd.Series([1, 3, 5], index=[1, 2, 3])\n",
    "print(A + B)\n",
    "# 使用函式可以設定空值的預設值 指定空值為0\n",
    "print(A.add(B, fill_value=0))"
   ]
  },
  {
   "cell_type": "code",
   "execution_count": 12,
   "metadata": {},
   "outputs": [
    {
     "name": "stdout",
     "output_type": "stream",
     "text": [
      "    a   b\n",
      "0  14   7\n",
      "1   1  19\n",
      "   b  a  c\n",
      "0  4  8  6\n",
      "1  7  7  1\n",
      "2  3  4  4\n",
      "      a     b   c\n",
      "0  22.0  11.0 NaN\n",
      "1   8.0  26.0 NaN\n",
      "2   NaN   NaN NaN\n",
      "       a      b      c\n",
      "0  22.00  11.00  16.25\n",
      "1   8.00  26.00  11.25\n",
      "2  14.25  13.25  14.25\n"
     ]
    }
   ],
   "source": [
    "A = pd.DataFrame(rng.integers(0, 20, (2, 2)),\n",
    "                 columns=['a', 'b'])\n",
    "print(A)\n",
    "# B 的索引順序故意與 A 的不同\n",
    "B = pd.DataFrame(rng.integers(0, 10, (3, 3)),\n",
    "                 columns=['b','a','c'])\n",
    "print(B)\n",
    "\n",
    "# 運算結果會自動對齊 (按照UTF-8編碼順序)\n",
    "print(A+B)\n",
    "\n",
    "# 缺失值指定為 A 的所有元素的平均數\n",
    "print(A.add(B, fill_value=A.values.mean()))"
   ]
  },
  {
   "cell_type": "code",
   "execution_count": 37,
   "metadata": {},
   "outputs": [
    {
     "name": "stdout",
     "output_type": "stream",
     "text": [
      "[[0 7 6 4]\n",
      " [4 8 0 6]\n",
      " [2 0 5 9]]\n",
      "[[ 0  0  0  0]\n",
      " [ 4  1 -6  2]\n",
      " [ 2 -7 -1  5]]\n",
      "   Q  R  S  T\n",
      "0  0  0  0  0\n",
      "1  4  1 -6  2\n",
      "2  2 -7 -1  5\n",
      "   Q  R  S  T\n",
      "0 -7  0 -1 -3\n",
      "1 -4  0 -8 -2\n",
      "2  2  0  5  9\n",
      "Q    0\n",
      "S    6\n",
      "Name: 0, dtype: int64\n",
      "     Q   R    S   T\n",
      "0  0.0 NaN  0.0 NaN\n",
      "1  4.0 NaN -6.0 NaN\n",
      "2  2.0 NaN -1.0 NaN\n"
     ]
    }
   ],
   "source": [
    "# Numpy 的擴張運算\n",
    "rng = np.random.default_rng(42)\n",
    "A = rng.integers(10, size=(3, 4))\n",
    "print(A)\n",
    "print(A - A[0])\n",
    "\n",
    "# Pandas 也是一樣的規則\n",
    "df = pd.DataFrame(A, columns=['Q', 'R', 'S', 'T'])\n",
    "print(df - df.iloc[0])\n",
    "\n",
    "# Pandas 的逐欄運算方法\n",
    "print(df.subtract(df['R'], axis=0))\n",
    "\n",
    "# 會自動對齊 也會顯示NaN\n",
    "halfrow = df.iloc[0, ::2]\n",
    "print(halfrow)\n",
    "print(df - halfrow)\n"
   ]
  }
 ],
 "metadata": {
  "kernelspec": {
   "display_name": "Python 3",
   "language": "python",
   "name": "python3"
  },
  "language_info": {
   "codemirror_mode": {
    "name": "ipython",
    "version": 3
   },
   "file_extension": ".py",
   "mimetype": "text/x-python",
   "name": "python",
   "nbconvert_exporter": "python",
   "pygments_lexer": "ipython3",
   "version": "3.13.0"
  }
 },
 "nbformat": 4,
 "nbformat_minor": 2
}

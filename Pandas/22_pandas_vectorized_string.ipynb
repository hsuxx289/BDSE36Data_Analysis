{
 "cells": [
  {
   "cell_type": "code",
   "execution_count": 4,
   "metadata": {},
   "outputs": [],
   "source": [
    "import numpy as np\n",
    "import pandas as pd"
   ]
  },
  {
   "cell_type": "code",
   "execution_count": 5,
   "metadata": {},
   "outputs": [
    {
     "name": "stdout",
     "output_type": "stream",
     "text": [
      "[ 4  6 10 14 22 26]\n",
      "['Peter', 'Paul', 'Mary', 'Guido']\n",
      "['Peter', 'Paul', None, 'Mary', 'Guido']\n"
     ]
    }
   ],
   "source": [
    "# NumPy 向量式運算\n",
    "x = np.array([2, 3, 5, 7, 11, 13])\n",
    "print(x * 2)\n",
    "\n",
    "# NumPy 沒有提供字串的向量式運算\n",
    "data = ['peter', 'Paul', 'MARY', 'gUIDO']\n",
    "print([s.capitalize() for s in data])\n",
    "\n",
    "# 如果有空值會報錯 較為麻煩\n",
    "data = ['peter', 'Paul', None, 'MARY', 'gUIDO']\n",
    "print([s if s is None else s.capitalize() for s in data])\n"
   ]
  },
  {
   "cell_type": "code",
   "execution_count": 6,
   "metadata": {},
   "outputs": [
    {
     "name": "stdout",
     "output_type": "stream",
     "text": [
      "0    Peter\n",
      "1     Paul\n",
      "2     None\n",
      "3     Mary\n",
      "4    Guido\n",
      "dtype: object\n"
     ]
    }
   ],
   "source": [
    "# Pandas 支援字串的向量化操作\n",
    "names = pd.Series(data)\n",
    "print(names.str.capitalize())"
   ]
  },
  {
   "cell_type": "code",
   "execution_count": 7,
   "metadata": {},
   "outputs": [
    {
     "name": "stdout",
     "output_type": "stream",
     "text": [
      "0    graham chapman\n",
      "1       john cleese\n",
      "2     terru gilliam\n",
      "3         eric idle\n",
      "4       terry jones\n",
      "5     michael palin\n",
      "dtype: object\n",
      "0    14\n",
      "1    11\n",
      "2    13\n",
      "3     9\n",
      "4    11\n",
      "5    13\n",
      "dtype: int64\n",
      "0    False\n",
      "1    False\n",
      "2     True\n",
      "3    False\n",
      "4     True\n",
      "5    False\n",
      "dtype: bool\n",
      "0    [Graham, Chapman]\n",
      "1       [John, Cleese]\n",
      "2     [Terru, Gilliam]\n",
      "3         [Eric, Idle]\n",
      "4       [Terry, Jones]\n",
      "5     [Michael, Palin]\n",
      "dtype: object\n"
     ]
    }
   ],
   "source": [
    "monte = pd.Series(['Graham Chapman', 'John Cleese', 'Terru Gilliam',\n",
    "                   'Eric Idle', 'Terry Jones', 'Michael Palin'])\n",
    "\n",
    "print(monte.str.lower())\n",
    "print(monte.str.len())\n",
    "print(monte.str.startswith('T'))\n",
    "print(monte.str.split())"
   ]
  },
  {
   "cell_type": "code",
   "execution_count": 8,
   "metadata": {},
   "outputs": [
    {
     "name": "stdout",
     "output_type": "stream",
     "text": [
      "0     Graham\n",
      "1       John\n",
      "2      Terru\n",
      "3       Eric\n",
      "4      Terry\n",
      "5    Michael\n",
      "dtype: object\n",
      "0    [Graham Chapman]\n",
      "1                  []\n",
      "2     [Terru Gilliam]\n",
      "3                  []\n",
      "4       [Terry Jones]\n",
      "5     [Michael Palin]\n",
      "dtype: object\n"
     ]
    }
   ],
   "source": [
    "print(monte.str.extract('([A-Za-z]+)', expand=False)) # expand 回傳dataframe 還是series\n",
    "print(monte.str.findall(r'^[^AEIOU].*[^aeiou]$'))\n"
   ]
  },
  {
   "cell_type": "code",
   "execution_count": 9,
   "metadata": {},
   "outputs": [
    {
     "name": "stdout",
     "output_type": "stream",
     "text": [
      "0    Gra\n",
      "1    Joh\n",
      "2    Ter\n",
      "3    Eri\n",
      "4    Ter\n",
      "5    Mic\n",
      "dtype: object\n",
      "0    Gra\n",
      "1    Joh\n",
      "2    Ter\n",
      "3    Eri\n",
      "4    Ter\n",
      "5    Mic\n",
      "dtype: object\n",
      "0    Chapman\n",
      "1     Cleese\n",
      "2    Gilliam\n",
      "3       Idle\n",
      "4      Jones\n",
      "5      Palin\n",
      "dtype: object\n"
     ]
    }
   ],
   "source": [
    "# slice() 與 pandas.str的直接切片一樣\n",
    "print(monte.str[0:3])\n",
    "print(monte.str.slice(0, 3))\n",
    "\n",
    "# 也可指定元素\n",
    "print(monte.str.split().str[-1])"
   ]
  },
  {
   "cell_type": "code",
   "execution_count": 10,
   "metadata": {},
   "outputs": [
    {
     "name": "stdout",
     "output_type": "stream",
     "text": [
      "             name   info\n",
      "0  Graham Chapman  B|C|D\n",
      "1     John Cleese    B|D\n",
      "2   Terru Gilliam    A|C\n",
      "3       Eric Idle    B|D\n",
      "4     Terry Jones    B|C\n",
      "5   Michael Palin  B|C|D\n",
      "   A  B  C  D\n",
      "0  0  1  1  1\n",
      "1  0  1  0  1\n",
      "2  1  0  1  0\n",
      "3  0  1  0  1\n",
      "4  0  1  1  0\n",
      "5  0  1  1  1\n"
     ]
    }
   ],
   "source": [
    "full_monte = pd.DataFrame({'name': monte,\n",
    "                           'info': ['B|C|D', 'B|D', 'A|C',\n",
    "                                    'B|D', 'B|C', 'B|C|D']})\n",
    "print(full_monte)\n",
    "\n",
    "# 使用 get_dummies()\n",
    "print(full_monte['info'].str.get_dummies('|'))"
   ]
  },
  {
   "cell_type": "code",
   "execution_count": 11,
   "metadata": {},
   "outputs": [
    {
     "name": "stdout",
     "output_type": "stream",
     "text": [
      "(173278, 17)\n",
      "_id                                {'$oid': '5160756b96cc62079cc2db15'}\n",
      "name                                    Drop Biscuits and Sausage Gravy\n",
      "ingredients           Biscuits\\n3 cups All-purpose Flour\\n2 Tablespo...\n",
      "url                   http://thepioneerwoman.com/cooking/2013/03/dro...\n",
      "image                 http://static.thepioneerwoman.com/cooking/file...\n",
      "ts                                             {'$date': 1365276011104}\n",
      "cookTime                                                          PT30M\n",
      "source                                                  thepioneerwoman\n",
      "recipeYield                                                          12\n",
      "datePublished                                                2013-03-11\n",
      "prepTime                                                          PT10M\n",
      "description           Late Saturday afternoon, after Marlboro Man ha...\n",
      "totalTime                                                           NaN\n",
      "creator                                                             NaN\n",
      "recipeCategory                                                      NaN\n",
      "dateModified                                                        NaN\n",
      "recipeInstructions                                                  NaN\n",
      "Name: 0, dtype: object\n",
      "count    173278.000000\n",
      "mean        244.617926\n",
      "std         146.705285\n",
      "min           0.000000\n",
      "25%         147.000000\n",
      "50%         221.000000\n",
      "75%         314.000000\n",
      "max        9067.000000\n",
      "Name: ingredients, dtype: float64\n"
     ]
    }
   ],
   "source": [
    "# 用pd 讀取json檔 每一行都是一個 json項目 lines=True\n",
    "recipes = pd.read_json('data/recipeitems.json', lines=True)\n",
    "print(recipes.shape)\n",
    "\n",
    "# 看其中一列\n",
    "print(recipes.iloc[0])\n",
    "\n",
    "# 看食材欄位的字串數量統計量\n",
    "print(recipes.ingredients.str.len().describe())"
   ]
  },
  {
   "cell_type": "code",
   "execution_count": 12,
   "metadata": {},
   "outputs": [
    {
     "name": "stdout",
     "output_type": "stream",
     "text": [
      "Carrot Pineapple Spice &amp; Brownie Layer Cake with Whipped Cream &amp; Cream Cheese Frosting and Marzipan Carrots\n",
      "3524\n",
      "10526\n",
      "11\n"
     ]
    }
   ],
   "source": [
    "# 檢視max 的資料\n",
    "print(recipes.name[np.argmax(recipes.ingredients.str.len())])\n",
    "\n",
    "# 檢視有多少資料是早餐的食譜 使用regex 包含大小寫\n",
    "print(recipes.description.str.contains('[Bb]reakfast').sum())\n",
    "\n",
    "# 檢視有多少食譜使用肉桂 使用regex 包含大小寫\n",
    "print(recipes.ingredients.str.contains('[Cc]innamon').sum())\n",
    "\n",
    "# 還可以檢視有沒有肉桂拼錯的\n",
    "print(recipes.ingredients.str.contains('[Cc]inamon').sum())\n"
   ]
  },
  {
   "cell_type": "code",
   "execution_count": 13,
   "metadata": {},
   "outputs": [
    {
     "name": "stdout",
     "output_type": "stream",
     "text": [
      "    salt  pepper  oregano   sage  parsley  rosemary  tarragon  thyme  paprika  \\\n",
      "0  False   False    False   True    False     False     False  False    False   \n",
      "1  False   False    False  False    False     False     False  False    False   \n",
      "2   True    True    False  False    False     False     False  False    False   \n",
      "3  False   False    False  False    False     False     False  False    False   \n",
      "4  False   False    False  False    False     False     False  False    False   \n",
      "\n",
      "   cumin  \n",
      "0  False  \n",
      "1  False  \n",
      "2   True  \n",
      "3  False  \n",
      "4  False  \n",
      "10\n",
      "2069      All cremat with a Little Gem, dandelion and wa...\n",
      "74964                         Lobster with Thermidor butter\n",
      "93768      Burton's Southern Fried Chicken with White Gravy\n",
      "113926                     Mijo's Slow Cooker Shredded Beef\n",
      "137686                     Asparagus Soup with Poached Eggs\n",
      "140530                                 Fried Oyster Po’boys\n",
      "158475                Lamb shank tagine with herb tabbouleh\n",
      "158486                 Southern fried chicken in buttermilk\n",
      "163175            Fried Chicken Sliders with Pickles + Slaw\n",
      "165243                        Bar Tartine Cauliflower Salad\n",
      "Name: name, dtype: object\n"
     ]
    }
   ],
   "source": [
    "# 定義想查詢的食材內容\n",
    "spice_list = ['salt', 'pepper', 'oregano', 'sage', 'parsley',\n",
    "              'rosemary', 'tarragon', 'thyme', 'paprika', 'cumin']\n",
    "\n",
    "# 建立食材的布林dataframe\n",
    "import re\n",
    "spice_df = pd.DataFrame({spice: recipes.ingredients.str.contains(spice, re.IGNORECASE)\n",
    "                         for spice in spice_list})\n",
    "print(spice_df.head())\n",
    "\n",
    "# 可以拿來查詢是否包含特定食材\n",
    "selection = spice_df.query('parsley & paprika & tarragon')\n",
    "print(len(selection))\n",
    "\n",
    "# 把查詢結果當作索引 檢視食譜\n",
    "print(recipes.name[selection.index])\n"
   ]
  }
 ],
 "metadata": {
  "kernelspec": {
   "display_name": "Python 3",
   "language": "python",
   "name": "python3"
  },
  "language_info": {
   "codemirror_mode": {
    "name": "ipython",
    "version": 3
   },
   "file_extension": ".py",
   "mimetype": "text/x-python",
   "name": "python",
   "nbconvert_exporter": "python",
   "pygments_lexer": "ipython3",
   "version": "3.13.0"
  }
 },
 "nbformat": 4,
 "nbformat_minor": 2
}

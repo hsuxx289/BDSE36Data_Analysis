{
 "cells": [
  {
   "cell_type": "code",
   "execution_count": 4,
   "metadata": {},
   "outputs": [
    {
     "name": "stdout",
     "output_type": "stream",
     "text": [
      "2021-07-04 00:00:00\n",
      "2021-07-04 00:00:00\n",
      "Sunday\n"
     ]
    }
   ],
   "source": [
    "# 使用Python 內建模組datetime 建立時間\n",
    "from datetime import datetime\n",
    "print(datetime(year=2021, month=7, day=4))\n",
    "\n",
    "# 使用第三方dateutil 模組 可以從字串中剖析出日期\n",
    "from dateutil import parser\n",
    "date = parser.parse(\"4th of July, 2021\")\n",
    "print(date)\n",
    "\n",
    "# 使用strftime() 輸出格式化字串\n",
    "print(date.strftime('%A'))"
   ]
  }
 ],
 "metadata": {
  "kernelspec": {
   "display_name": "Python 3",
   "language": "python",
   "name": "python3"
  },
  "language_info": {
   "codemirror_mode": {
    "name": "ipython",
    "version": 3
   },
   "file_extension": ".py",
   "mimetype": "text/x-python",
   "name": "python",
   "nbconvert_exporter": "python",
   "pygments_lexer": "ipython3",
   "version": "3.13.0"
  }
 },
 "nbformat": 4,
 "nbformat_minor": 2
}

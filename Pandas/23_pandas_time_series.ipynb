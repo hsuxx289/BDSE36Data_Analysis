{
 "cells": [
  {
   "cell_type": "code",
   "execution_count": 1,
   "metadata": {},
   "outputs": [
    {
     "name": "stdout",
     "output_type": "stream",
     "text": [
      "2021-07-04 00:00:00\n",
      "2021-07-04 00:00:00\n",
      "Sunday\n"
     ]
    }
   ],
   "source": [
    "# 使用Python 內建模組datetime 建立時間\n",
    "from datetime import datetime\n",
    "print(datetime(year=2021, month=7, day=4))\n",
    "\n",
    "# 使用第三方dateutil 模組 可以從字串中剖析出日期\n",
    "from dateutil import parser\n",
    "date = parser.parse(\"4th of July, 2021\")\n",
    "print(date)\n",
    "\n",
    "# 使用strftime() 輸出格式化字串\n",
    "print(date.strftime('%A'))"
   ]
  },
  {
   "cell_type": "code",
   "execution_count": null,
   "metadata": {},
   "outputs": [
    {
     "name": "stdout",
     "output_type": "stream",
     "text": [
      "2021-07-04\n",
      "['2021-07-04' '2021-07-05' '2021-07-06' '2021-07-07' '2021-07-08'\n",
      " '2021-07-09' '2021-07-10' '2021-07-11' '2021-07-12' '2021-07-13'\n",
      " '2021-07-14' '2021-07-15']\n"
     ]
    }
   ],
   "source": [
    "import numpy as np\n",
    "# 使用NumPy 的時間資料型態\n",
    "date = np.array('2021-07-04', dtype=np.datetime64)\n",
    "print(date)\n",
    "\n",
    "# 可進行向量化運算\n",
    "print(date + np.arange(12))"
   ]
  },
  {
   "cell_type": "code",
   "execution_count": null,
   "metadata": {},
   "outputs": [
    {
     "name": "stdout",
     "output_type": "stream",
     "text": [
      "2021-07-04T12:00\n",
      "2021-07-04T12:59:59.500000000\n"
     ]
    }
   ],
   "source": [
    "# 以分為單位\n",
    "print(np.datetime64('2021-07-04 12:00'))\n",
    "\n",
    "# 強制設定單位為奈秒\n",
    "print(np.datetime64('2021-07-04 12:59:59.50', 'ns'))"
   ]
  },
  {
   "cell_type": "code",
   "execution_count": 5,
   "metadata": {},
   "outputs": [
    {
     "name": "stdout",
     "output_type": "stream",
     "text": [
      "2021-07-04 00:00:00\n",
      "Sunday\n",
      "DatetimeIndex(['2021-07-04', '2021-07-05', '2021-07-06', '2021-07-07',\n",
      "               '2021-07-08', '2021-07-09', '2021-07-10', '2021-07-11',\n",
      "               '2021-07-12', '2021-07-13', '2021-07-14', '2021-07-15'],\n",
      "              dtype='datetime64[ns]', freq=None)\n"
     ]
    }
   ],
   "source": [
    "import pandas as pd\n",
    "# pandas 字串轉時間物件\n",
    "date = pd.to_datetime(\"4th of July, 2021\")\n",
    "print(date)\n",
    "# 輸出格式時間編碼\n",
    "print(date.strftime('%A'))\n",
    "# 進行向量化操作\n",
    "print(date + pd.to_timedelta(np.arange(12),'D'))"
   ]
  },
  {
   "cell_type": "code",
   "execution_count": 7,
   "metadata": {},
   "outputs": [
    {
     "name": "stdout",
     "output_type": "stream",
     "text": [
      "2020-07-04    0\n",
      "2020-08-04    1\n",
      "2021-07-04    2\n",
      "2021-08-04    3\n",
      "dtype: int64\n",
      "2020-07-04    0\n",
      "2020-08-04    1\n",
      "2021-07-04    2\n",
      "dtype: int64\n",
      "2021-07-04    2\n",
      "2021-08-04    3\n",
      "dtype: int64\n"
     ]
    }
   ],
   "source": [
    "# 使用時間戳記當作索引的Series物件\n",
    "index = pd.DatetimeIndex(['2020-07-04', '2020-08-04',\n",
    "                          '2021-07-04','2021-08-04'])\n",
    "data = pd.Series([0, 1, 2, 3], index = index)\n",
    "print(data)\n",
    "\n",
    "# 之後可以以時間當作索引切片\n",
    "print(data['2020-07-04':'2021-07-04'])\n",
    "\n",
    "# 甚至可以傳遞部分的時間 如指定年\n",
    "print(data['2021'])"
   ]
  },
  {
   "cell_type": "code",
   "execution_count": 9,
   "metadata": {},
   "outputs": [
    {
     "name": "stdout",
     "output_type": "stream",
     "text": [
      "DatetimeIndex(['2021-07-03', '2021-07-04', '2021-07-06', '2021-07-07',\n",
      "               '2021-07-08'],\n",
      "              dtype='datetime64[ns]', freq=None)\n",
      "PeriodIndex(['2021-07-03', '2021-07-04', '2021-07-06', '2021-07-07',\n",
      "             '2021-07-08'],\n",
      "            dtype='period[D]')\n"
     ]
    },
    {
     "data": {
      "text/plain": [
       "TimedeltaIndex(['0 days', '1 days', '3 days', '4 days', '5 days'], dtype='timedelta64[ns]', freq=None)"
      ]
     },
     "execution_count": 9,
     "metadata": {},
     "output_type": "execute_result"
    }
   ],
   "source": [
    "# 使用pd.to_date_time傳不同格式字串\n",
    "dates = pd.to_datetime([datetime(2021, 7, 3), '4th of July, 2021',\n",
    "                        '2021-Jul-6', '07-07-2021', '20210708'])\n",
    "print(dates)\n",
    "\n",
    "# 使用to_period() 加上頻率單位 轉成 PeriodIndex\n",
    "print(dates.to_period('D'))\n",
    "\n",
    "# 日期減日期會變成TimedeltaIndex\n",
    "dates - dates[0]"
   ]
  },
  {
   "cell_type": "code",
   "execution_count": 12,
   "metadata": {},
   "outputs": [
    {
     "name": "stdout",
     "output_type": "stream",
     "text": [
      "DatetimeIndex(['2015-07-03', '2015-07-04', '2015-07-05', '2015-07-06',\n",
      "               '2015-07-07', '2015-07-08', '2015-07-09', '2015-07-10'],\n",
      "              dtype='datetime64[ns]', freq='D')\n",
      "DatetimeIndex(['2015-07-03', '2015-07-04', '2015-07-05', '2015-07-06',\n",
      "               '2015-07-07', '2015-07-08', '2015-07-09', '2015-07-10'],\n",
      "              dtype='datetime64[ns]', freq='D')\n",
      "DatetimeIndex(['2015-07-03 00:00:00', '2015-07-03 01:00:00',\n",
      "               '2015-07-03 02:00:00', '2015-07-03 03:00:00',\n",
      "               '2015-07-03 04:00:00', '2015-07-03 05:00:00',\n",
      "               '2015-07-03 06:00:00', '2015-07-03 07:00:00'],\n",
      "              dtype='datetime64[ns]', freq='h')\n"
     ]
    }
   ],
   "source": [
    "# date_range() 可指定起始日期 頻率編碼\n",
    "print(pd.date_range('2015-07-03', '2015-07-10'))\n",
    "print(pd.date_range('2015-07-03', periods = 8))\n",
    "print(pd.date_range('2015-07-03', periods=8, freq='h'))\n"
   ]
  },
  {
   "cell_type": "code",
   "execution_count": 14,
   "metadata": {},
   "outputs": [
    {
     "name": "stdout",
     "output_type": "stream",
     "text": [
      "PeriodIndex(['2015-07', '2015-08', '2015-09', '2015-10', '2015-11', '2015-12',\n",
      "             '2016-01', '2016-02'],\n",
      "            dtype='period[M]')\n",
      "TimedeltaIndex(['0 days 00:00:00', '0 days 01:00:00', '0 days 02:00:00',\n",
      "                '0 days 03:00:00', '0 days 04:00:00', '0 days 05:00:00'],\n",
      "               dtype='timedelta64[ns]', freq='h')\n"
     ]
    }
   ],
   "source": [
    "# 使用period_range()\n",
    "print(pd.period_range('2015-07', periods=8, freq='M'))\n",
    "\n",
    "# 使用timedelta_range()\n",
    "print(pd.timedelta_range(0, periods=6, freq='h'))"
   ]
  }
 ],
 "metadata": {
  "kernelspec": {
   "display_name": "Python 3",
   "language": "python",
   "name": "python3"
  },
  "language_info": {
   "codemirror_mode": {
    "name": "ipython",
    "version": 3
   },
   "file_extension": ".py",
   "mimetype": "text/x-python",
   "name": "python",
   "nbconvert_exporter": "python",
   "pygments_lexer": "ipython3",
   "version": "3.13.0"
  }
 },
 "nbformat": 4,
 "nbformat_minor": 2
}

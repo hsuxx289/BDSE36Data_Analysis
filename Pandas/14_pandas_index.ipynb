{
 "cells": [
  {
   "cell_type": "code",
   "execution_count": 2,
   "metadata": {},
   "outputs": [
    {
     "name": "stdout",
     "output_type": "stream",
     "text": [
      "a    0.25\n",
      "b    0.50\n",
      "c    0.75\n",
      "d    1.00\n",
      "dtype: float64\n",
      "True\n",
      "Index(['a', 'b', 'c', 'd'], dtype='object')\n",
      "[0.25 0.5  0.75 1.  ]\n",
      "[('a', 0.25), ('b', 0.5), ('c', 0.75), ('d', 1.0)]\n",
      "a    0.25\n",
      "b    0.50\n",
      "c    0.75\n",
      "d    1.00\n",
      "e    1.25\n",
      "dtype: float64\n"
     ]
    }
   ],
   "source": [
    "import pandas as pd\n",
    "\n",
    "# 像字典一樣的鍵值對應\n",
    "data = pd.Series([0.25, 0.5, 0.75, 1.0],index=['a', 'b', 'c', 'd'])\n",
    "print(data)\n",
    "\n",
    "# 使用類似 python 字典檢索方式\n",
    "print('a' in data)\n",
    "print(data.keys())\n",
    "print(data.values)\n",
    "print(list(data.items()))\n",
    "\n",
    "# 也可以用字典的方式新增值\n",
    "data['e'] = 1.25\n",
    "print(data)"
   ]
  },
  {
   "cell_type": "code",
   "execution_count": 3,
   "metadata": {},
   "outputs": [
    {
     "name": "stdout",
     "output_type": "stream",
     "text": [
      "a    0.25\n",
      "b    0.50\n",
      "c    0.75\n",
      "dtype: float64\n",
      "a    0.25\n",
      "b    0.50\n",
      "dtype: float64\n",
      "b    0.50\n",
      "c    0.75\n",
      "dtype: float64\n",
      "a    0.25\n",
      "e    1.25\n",
      "dtype: float64\n"
     ]
    }
   ],
   "source": [
    "# 索引切片  包含'c'\n",
    "print(data['a':'c'])\n",
    "\n",
    "# 用隱含的整數索引切片 不包含2\n",
    "print(data[0:2])\n",
    "\n",
    "# 遮罩\n",
    "print(data[(data > 0.3) & (data < 0.8)])\n",
    "\n",
    "# fancy index\n",
    "print(data[['a','e']])"
   ]
  },
  {
   "cell_type": "code",
   "execution_count": 4,
   "metadata": {},
   "outputs": [
    {
     "name": "stdout",
     "output_type": "stream",
     "text": [
      "1    a\n",
      "3    b\n",
      "5    c\n",
      "dtype: object\n",
      "a\n",
      "3    b\n",
      "5    c\n",
      "dtype: object\n"
     ]
    }
   ],
   "source": [
    "data = pd.Series(['a', 'b', 'c'], index=[1, 3, 5])\n",
    "print(data)\n",
    "# 顯性索引\n",
    "print(data[1])\n",
    "# 隱性索引\n",
    "print(data[1:3])"
   ]
  },
  {
   "cell_type": "code",
   "execution_count": 5,
   "metadata": {},
   "outputs": [
    {
     "name": "stdout",
     "output_type": "stream",
     "text": [
      "a\n",
      "1    a\n",
      "3    b\n",
      "dtype: object\n",
      "b\n",
      "3    b\n",
      "5    c\n",
      "dtype: object\n"
     ]
    }
   ],
   "source": [
    "# loc 顯性 含尾巴\n",
    "print(data.loc[1])\n",
    "print(data.loc[1:3])\n",
    "\n",
    "# iloc 隱性 不含尾巴\n",
    "print(data.iloc[1])\n",
    "print(data.iloc[1:3])"
   ]
  },
  {
   "cell_type": "code",
   "execution_count": 8,
   "metadata": {},
   "outputs": [
    {
     "name": "stdout",
     "output_type": "stream",
     "text": [
      "                area       pop\n",
      "California    423967  39538223\n",
      "Texas         695662  29145505\n",
      "Florida       170312  21438187\n",
      "New York      141297  20201249\n",
      "Pennsylvania  119280  13002700\n",
      "California      423967\n",
      "Texas           695662\n",
      "Florida         170312\n",
      "New York        141297\n",
      "Pennsylvania    119280\n",
      "Name: area, dtype: int64\n",
      "California      423967\n",
      "Texas           695662\n",
      "Florida         170312\n",
      "New York        141297\n",
      "Pennsylvania    119280\n",
      "Name: area, dtype: int64\n",
      "False\n",
      "                area       pop     density\n",
      "California    423967  39538223   93.257784\n",
      "Texas         695662  29145505   41.896072\n",
      "Florida       170312  21438187  125.875963\n",
      "New York      141297  20201249  142.970120\n",
      "Pennsylvania  119280  13002700  109.009893\n"
     ]
    }
   ],
   "source": [
    "area = pd.Series({'California': 423967, 'Texas': 695662, 'Florida': 170312, \n",
    "                  'New York': 141297, 'Pennsylvania': 119280})\n",
    "pop = pd.Series({'California': 39538223, 'Texas': 29145505, 'Florida': 21438187, \n",
    "                 'New York': 20201249, 'Pennsylvania': 13002700})\n",
    "data = pd.DataFrame({'area': area, 'pop': pop})\n",
    "print(data)\n",
    "\n",
    "# 每一個Series 是一欄 可透過欄位名當作鍵取值\n",
    "print(data['area'])\n",
    "\n",
    "# 欄位也是一種屬性 可直接以屬性取值\n",
    "print(data.area)\n",
    "\n",
    "# 注意 DataFrame 有 pop 這個方法 不能用.pop 取值 應避免這樣取名 或用 data['pop'] 取值\n",
    "print(data.pop is data[\"pop\"])\n",
    "\n",
    "# 可以加入新欄位\n",
    "data['density'] = data['pop'] / data['area']\n",
    "print(data)"
   ]
  },
  {
   "cell_type": "code",
   "execution_count": 9,
   "metadata": {},
   "outputs": [
    {
     "name": "stdout",
     "output_type": "stream",
     "text": [
      "[[4.23967000e+05 3.95382230e+07 9.32577842e+01]\n",
      " [6.95662000e+05 2.91455050e+07 4.18960717e+01]\n",
      " [1.70312000e+05 2.14381870e+07 1.25875963e+02]\n",
      " [1.41297000e+05 2.02012490e+07 1.42970120e+02]\n",
      " [1.19280000e+05 1.30027000e+07 1.09009893e+02]]\n",
      "           California         Texas       Florida      New York  Pennsylvania\n",
      "area     4.239670e+05  6.956620e+05  1.703120e+05  1.412970e+05  1.192800e+05\n",
      "pop      3.953822e+07  2.914550e+07  2.143819e+07  2.020125e+07  1.300270e+07\n",
      "density  9.325778e+01  4.189607e+01  1.258760e+02  1.429701e+02  1.090099e+02\n",
      "[4.23967000e+05 3.95382230e+07 9.32577842e+01]\n",
      "California      423967\n",
      "Texas           695662\n",
      "Florida         170312\n",
      "New York        141297\n",
      "Pennsylvania    119280\n",
      "Name: area, dtype: int64\n",
      "              area       pop\n",
      "California  423967  39538223\n",
      "Texas       695662  29145505\n",
      "Florida     170312  21438187\n",
      "              area       pop\n",
      "California  423967  39538223\n",
      "Texas       695662  29145505\n",
      "Florida     170312  21438187\n",
      "               pop     density\n",
      "Florida   21438187  125.875963\n",
      "New York  20201249  142.970120\n",
      "                area       pop     density\n",
      "California    423967  39538223   90.000000\n",
      "Texas         695662  29145505   41.896072\n",
      "Florida       170312  21438187  125.875963\n",
      "New York      141297  20201249  142.970120\n",
      "Pennsylvania  119280  13002700  109.009893\n"
     ]
    }
   ],
   "source": [
    "# 檢視所有值 (原始資料)\n",
    "print(data.values)\n",
    "\n",
    "# 陣列轉置\n",
    "print(data.T)\n",
    "\n",
    "# 取得單列 (data.values[i]) 或 單欄 data['colname'] 資料與 NumPy 有點不同\n",
    "print(data.values[0])\n",
    "print(data['area'])\n",
    "\n",
    "# 若要使用 NumPy 的所有取值方式 要使用 loc / iloc\n",
    "# iloc 就是 python 的切片方式 取到指定的前一個值\n",
    "print(data.iloc[:3,:2])\n",
    "\n",
    "# loc 會包含指定的值\n",
    "print(data.loc[:'Florida',:'pop'])\n",
    "\n",
    "# loc 但結合遮罩與fancy index\n",
    "print(data.loc[data.density > 120, ['pop', 'density']])\n",
    "\n",
    "# 當然也可以改值\n",
    "data.iloc[0, 2] = 90\n",
    "print(data)"
   ]
  },
  {
   "cell_type": "code",
   "execution_count": 14,
   "metadata": {},
   "outputs": [
    {
     "name": "stdout",
     "output_type": "stream",
     "text": [
      "            area       pop     density\n",
      "Florida   170312  21438187  125.875963\n",
      "New York  141297  20201249  142.970120\n",
      "           area       pop     density\n",
      "Texas    695662  29145505   41.896072\n",
      "Florida  170312  21438187  125.875963\n",
      "            area       pop     density\n",
      "Florida   170312  21438187  125.875963\n",
      "New York  141297  20201249  142.970120\n"
     ]
    }
   ],
   "source": [
    "# 不用loc / iloc 直接用列索引切片取值 只有切片才可以 取單列的值還是只能用 loc / iloc\n",
    "print(data['Florida':'New York'])\n",
    "\n",
    "# 數字也行\n",
    "print(data[1:3])\n",
    "\n",
    "# 遮罩可以以列為單位處理\n",
    "print(data[data.density > 120])"
   ]
  }
 ],
 "metadata": {
  "kernelspec": {
   "display_name": "Python 3",
   "language": "python",
   "name": "python3"
  },
  "language_info": {
   "codemirror_mode": {
    "name": "ipython",
    "version": 3
   },
   "file_extension": ".py",
   "mimetype": "text/x-python",
   "name": "python",
   "nbconvert_exporter": "python",
   "pygments_lexer": "ipython3",
   "version": "3.13.0"
  }
 },
 "nbformat": 4,
 "nbformat_minor": 2
}

{
 "cells": [
  {
   "cell_type": "code",
   "execution_count": 1,
   "metadata": {},
   "outputs": [],
   "source": [
    "import pandas as pd\n",
    "import numpy as np"
   ]
  },
  {
   "cell_type": "code",
   "execution_count": 2,
   "metadata": {},
   "outputs": [
    {
     "name": "stdout",
     "output_type": "stream",
     "text": [
      "(California, 2010)    37243956\n",
      "(California, 2020)    39538223\n",
      "(New York, 2010)      19378102\n",
      "(New York, 2020)      20201249\n",
      "(Texas, 2010)         25145561\n",
      "(Texas, 2020)         29145505\n",
      "dtype: int64\n"
     ]
    },
    {
     "data": {
      "text/plain": [
       "(California, 2020)    39538223\n",
       "(New York, 2010)      19378102\n",
       "(New York, 2020)      20201249\n",
       "(Texas, 2010)         25145561\n",
       "dtype: int64"
      ]
     },
     "execution_count": 2,
     "metadata": {},
     "output_type": "execute_result"
    }
   ],
   "source": [
    "index = [('California',2010), ('California',2020), ('New York',2010),\n",
    "         ('New York',2020), ('Texas',2010), ('Texas',2020)]\n",
    "populations = [37243956,39538223,\n",
    "               19378102, 20201249,\n",
    "               25145561, 29145505]\n",
    "pop = pd.Series(populations, index=index)\n",
    "print(pop)\n",
    "\n",
    "# 使用元組進行切片\n",
    "pop[('California', 2020):('Texas', 2010)]"
   ]
  },
  {
   "cell_type": "code",
   "execution_count": 3,
   "metadata": {},
   "outputs": [
    {
     "name": "stdout",
     "output_type": "stream",
     "text": [
      "(California, 2010)    37243956\n",
      "(New York, 2010)      19378102\n",
      "(Texas, 2010)         25145561\n",
      "dtype: int64\n"
     ]
    }
   ],
   "source": [
    "print(pop[[i for i in pop.index if i[1] == 2010]])"
   ]
  },
  {
   "cell_type": "code",
   "execution_count": 4,
   "metadata": {},
   "outputs": [
    {
     "name": "stdout",
     "output_type": "stream",
     "text": [
      "California  2010    37243956\n",
      "            2020    39538223\n",
      "New York    2010    19378102\n",
      "            2020    20201249\n",
      "Texas       2010    25145561\n",
      "            2020    29145505\n",
      "dtype: int64\n",
      "California    39538223\n",
      "New York      20201249\n",
      "Texas         29145505\n",
      "dtype: int64\n"
     ]
    }
   ],
   "source": [
    "# Pandas MultiIndex 以元組為例\n",
    "index = pd.MultiIndex.from_tuples(index)\n",
    "\n",
    "# 使用 MultiIndex 重新建立索引 (空白代表與上方項目相同)\n",
    "pop = pop.reindex(index)\n",
    "print(pop)\n",
    "\n",
    "# 現在可以只使用切片 就用年份當條件取資料\n",
    "print(pop[:, 2020])"
   ]
  },
  {
   "cell_type": "code",
   "execution_count": 5,
   "metadata": {},
   "outputs": [
    {
     "name": "stdout",
     "output_type": "stream",
     "text": [
      "                2010      2020\n",
      "California  37243956  39538223\n",
      "New York    19378102  20201249\n",
      "Texas       25145561  29145505\n",
      "California  2010    37243956\n",
      "            2020    39538223\n",
      "New York    2010    19378102\n",
      "            2020    20201249\n",
      "Texas       2010    25145561\n",
      "            2020    29145505\n",
      "dtype: int64\n"
     ]
    }
   ],
   "source": [
    "# 使用 .unstack 將Series 轉換為 DataFrame\n",
    "pop_df = pop.unstack()\n",
    "print(pop_df)\n",
    "\n",
    "# 使用 .stack 將DataFrame 轉換為 Series\n",
    "print(pop_df.stack())"
   ]
  },
  {
   "cell_type": "code",
   "execution_count": 6,
   "metadata": {},
   "outputs": [
    {
     "name": "stdout",
     "output_type": "stream",
     "text": [
      "                    total  under18\n",
      "California 2010  37243956  9284094\n",
      "           2020  39538223  8898092\n",
      "New York   2010  19378102  4318033\n",
      "           2020  20201249  4181528\n",
      "Texas      2010  25145561  6879014\n",
      "           2020  29145505  7432474\n",
      "                2010      2020\n",
      "California  0.249278  0.225050\n",
      "New York    0.222831  0.206994\n",
      "Texas       0.273568  0.255013\n"
     ]
    }
   ],
   "source": [
    "# 使用多重索引 然後再新增一個欄位\n",
    "pop_df = pd.DataFrame({'total':pop,\n",
    "                      'under18':[9284094, 8898092,\n",
    "                                 4318033, 4181528,\n",
    "                                 6879014, 7432474]})\n",
    "print(pop_df)\n",
    "\n",
    "# 可以使用通用函式後 然後將多重索引 轉為欄標籤\n",
    "f_u18 = pop_df['under18'] / pop_df['total']\n",
    "print(f_u18.unstack())\n",
    "\n"
   ]
  },
  {
   "cell_type": "code",
   "execution_count": 7,
   "metadata": {},
   "outputs": [
    {
     "name": "stdout",
     "output_type": "stream",
     "text": [
      "        data1     data2\n",
      "a 1  0.167804  0.646344\n",
      "  2  0.819423  0.565153\n",
      "b 1  0.836086  0.008126\n",
      "  2  0.255162  0.280514\n",
      "California  2010    37243956\n",
      "            2020    39538223\n",
      "New York    2010    19378102\n",
      "            2020    20201249\n",
      "Texas       2010    25145561\n",
      "            2020    29145505\n",
      "dtype: int64\n"
     ]
    }
   ],
   "source": [
    "# 傳遞1個2個或多個索引陣列的串列給建構子\n",
    "df = pd.DataFrame(np.random.rand(4,2),\n",
    "                  index=[['a', 'a', 'b', 'b'], [1, 2, 1, 2]],\n",
    "                  columns=['data1', 'data2'])\n",
    "print(df)\n",
    "\n",
    "# Pandas 會自動辨識以元組做為鍵的字典 並設定為多重索引\n",
    "data = {('California', 2010): 37243956,\n",
    "        ('California', 2020): 39538223,\n",
    "        ('New York', 2010): 19378102,\n",
    "        ('New York', 2020): 20201249,\n",
    "        ('Texas', 2010): 25145561,\n",
    "        ('Texas', 2020): 29145505}\n",
    "print(pd.Series(data))"
   ]
  },
  {
   "cell_type": "code",
   "execution_count": 10,
   "metadata": {},
   "outputs": [
    {
     "name": "stdout",
     "output_type": "stream",
     "text": [
      "MultiIndex([('a', 1),\n",
      "            ('a', 2),\n",
      "            ('b', 1),\n",
      "            ('b', 2)],\n",
      "           )\n",
      "MultiIndex([('a', 1),\n",
      "            ('a', 2),\n",
      "            ('b', 1),\n",
      "            ('b', 2)],\n",
      "           )\n",
      "MultiIndex([('a', 1),\n",
      "            ('a', 2),\n",
      "            ('b', 1),\n",
      "            ('b', 2)],\n",
      "           )\n",
      "MultiIndex([('a', 1),\n",
      "            ('a', 2),\n",
      "            ('b', 1),\n",
      "            ('b', 2)],\n",
      "           )\n"
     ]
    }
   ],
   "source": [
    "# 使用陣列串列建構多重索引\n",
    "print(pd.MultiIndex.from_arrays([['a', 'a', 'b', 'b'],[1, 2, 1, 2]]))\n",
    "\n",
    "# 使用元祖串列建構多重索引\n",
    "print(pd.MultiIndex.from_tuples([('a', 1), ('a', 2), ('b', 1), ('b', 2)]))\n",
    "\n",
    "# 使用笛卡兒積建構多重索引\n",
    "print(pd.MultiIndex.from_product([['a', 'b'], [1, 2]]))\n",
    "\n",
    "# 使用 levels (索引串列的串列) 和 codes (參用levels 的串列) 建構多重索引\n",
    "print(pd.MultiIndex(levels=[['a', 'b'], [1, 2]],\n",
    "              codes=[[0, 0, 1, 1], [0, 1, 0, 1]]))"
   ]
  },
  {
   "cell_type": "code",
   "execution_count": 11,
   "metadata": {},
   "outputs": [
    {
     "name": "stdout",
     "output_type": "stream",
     "text": [
      "state       year\n",
      "California  2010    37243956\n",
      "            2020    39538223\n",
      "New York    2010    19378102\n",
      "            2020    20201249\n",
      "Texas       2010    25145561\n",
      "            2020    29145505\n",
      "dtype: int64\n"
     ]
    }
   ],
   "source": [
    "pop.index.names = ['state', 'year']\n",
    "print(pop)"
   ]
  },
  {
   "cell_type": "code",
   "execution_count": 18,
   "metadata": {},
   "outputs": [
    {
     "name": "stdout",
     "output_type": "stream",
     "text": [
      "subject      Bob       Guido         Sue      \n",
      "type          HR  Temp    HR  Temp    HR  Temp\n",
      "year visit                                    \n",
      "2013 1      30.0  35.6  42.0  36.3  40.0  37.6\n",
      "     2      49.0  36.9  33.0  36.3  35.0  37.2\n",
      "2014 1      50.0  35.5  49.0  38.3  23.0  36.2\n",
      "     2      32.0  36.8  46.0  36.4  41.0  35.6\n",
      "type          HR  Temp\n",
      "year visit            \n",
      "2013 1      42.0  36.3\n",
      "     2      33.0  36.3\n",
      "2014 1      49.0  38.3\n",
      "     2      46.0  36.4\n"
     ]
    }
   ],
   "source": [
    "# 建立列與欄的多重索引\n",
    "index = pd.MultiIndex.from_product([[2013, 2014], [1, 2]], \n",
    "                                   names=['year', 'visit'])\n",
    "\n",
    "columns = pd.MultiIndex.from_product([['Bob', 'Guido', 'Sue'],\n",
    "                                      ['HR', 'Temp']],\n",
    "                                      names=['subject', 'type'])\n",
    "\n",
    "# 仿製一些醫學資料\n",
    "data = np.round(np.random.randn(4,6),1)\n",
    "data[:,::2] *= 10\n",
    "data += 37\n",
    "\n",
    "# 建立DataFrame\n",
    "health_data = pd.DataFrame(data, index=index, columns=columns)\n",
    "print(health_data)\n",
    "\n",
    "# 取得單一病患的資料\n",
    "print(health_data['Guido'])"
   ]
  },
  {
   "cell_type": "code",
   "execution_count": 26,
   "metadata": {},
   "outputs": [
    {
     "name": "stdout",
     "output_type": "stream",
     "text": [
      "state       year\n",
      "California  2010    37243956\n",
      "            2020    39538223\n",
      "New York    2010    19378102\n",
      "            2020    20201249\n",
      "Texas       2010    25145561\n",
      "            2020    29145505\n",
      "dtype: int64\n",
      "37243956\n",
      "year\n",
      "2010    37243956\n",
      "2020    39538223\n",
      "dtype: int64\n",
      "state       year\n",
      "California  2010    37243956\n",
      "            2020    39538223\n",
      "New York    2010    19378102\n",
      "            2020    20201249\n",
      "dtype: int64\n",
      "state\n",
      "California    37243956\n",
      "New York      19378102\n",
      "Texas         25145561\n",
      "dtype: int64\n",
      "state       year\n",
      "California  2010    37243956\n",
      "            2020    39538223\n",
      "Texas       2010    25145561\n",
      "            2020    29145505\n",
      "dtype: int64\n",
      "state       year\n",
      "California  2010    37243956\n",
      "            2020    39538223\n",
      "Texas       2010    25145561\n",
      "            2020    29145505\n",
      "dtype: int64\n"
     ]
    }
   ],
   "source": [
    "print(pop)\n",
    "\n",
    "# 使用多個項目索引存取單一元素\n",
    "print(pop['California', 2010])\n",
    "\n",
    "# 使用外圍索引 會包含內部索引\n",
    "print(pop['California'])\n",
    "\n",
    "# 也可使用切片 但若外圍索引沒有按照字母序排列會報錯 需要先排序外圍索引\n",
    "print(pop.loc['California':'New York'])\n",
    "\n",
    "# 排序後的索引 可以對內部索引進行切片\n",
    "print(pop[:, 2010])\n",
    "\n",
    "# 可進行布林遮罩選取\n",
    "print(pop[pop > 22000000])\n",
    "\n",
    "# 可透過fancy index 選取\n",
    "print(pop[['California', 'Texas']])"
   ]
  },
  {
   "cell_type": "code",
   "execution_count": 27,
   "metadata": {},
   "outputs": [
    {
     "name": "stdout",
     "output_type": "stream",
     "text": [
      "subject      Bob       Guido         Sue      \n",
      "type          HR  Temp    HR  Temp    HR  Temp\n",
      "year visit                                    \n",
      "2013 1      30.0  35.6  42.0  36.3  40.0  37.6\n",
      "     2      49.0  36.9  33.0  36.3  35.0  37.2\n",
      "2014 1      50.0  35.5  49.0  38.3  23.0  36.2\n",
      "     2      32.0  36.8  46.0  36.4  41.0  35.6\n",
      "year  visit\n",
      "2013  1        42.0\n",
      "      2        33.0\n",
      "2014  1        49.0\n",
      "      2        46.0\n",
      "Name: (Guido, HR), dtype: float64\n",
      "subject      Bob      \n",
      "type          HR  Temp\n",
      "year visit            \n",
      "2013 1      30.0  35.6\n",
      "     2      49.0  36.9\n",
      "year  visit\n",
      "2013  1        30.0\n",
      "      2        49.0\n",
      "2014  1        50.0\n",
      "      2        32.0\n",
      "Name: (Bob, HR), dtype: float64\n",
      "subject      Bob Guido   Sue\n",
      "type          HR    HR    HR\n",
      "year visit                  \n",
      "2013 1      30.0  42.0  40.0\n",
      "2014 1      50.0  49.0  23.0\n"
     ]
    }
   ],
   "source": [
    "print(health_data)\n",
    "\n",
    "# Series 的多項目存取 在Pandas 中會以欄位為主\n",
    "print(health_data['Guido', 'HR'])\n",
    "\n",
    "# 列使用loc / iloc\n",
    "print(health_data.iloc[:2, :2])\n",
    "\n",
    "# loc / iloc 可以使用多重索引的元組\n",
    "print(health_data.loc[:, ('Bob', 'HR')])\n",
    "\n",
    "# 但最好的方法 還是使用 Pandas 內建的切片器\n",
    "idx = pd.IndexSlice\n",
    "print(health_data.loc[idx[:, 1], idx[:,'HR']])"
   ]
  },
  {
   "cell_type": "code",
   "execution_count": 28,
   "metadata": {},
   "outputs": [
    {
     "name": "stdout",
     "output_type": "stream",
     "text": [
      "char  int\n",
      "a     1      0.933669\n",
      "      2      0.773842\n",
      "c     1      0.842450\n",
      "      2      0.349751\n",
      "b     1      0.237959\n",
      "      2      0.734540\n",
      "dtype: float64\n"
     ]
    }
   ],
   "source": [
    "# 建立一個未依照辭典序排序的資料集\n",
    "index = pd.MultiIndex.from_product([['a', 'c', 'b'], [1, 2]])\n",
    "data = pd.Series(np.random.rand(6), index=index)\n",
    "data.index.names = ['char', 'int']\n",
    "print(data)"
   ]
  },
  {
   "cell_type": "code",
   "execution_count": 30,
   "metadata": {},
   "outputs": [
    {
     "name": "stdout",
     "output_type": "stream",
     "text": [
      "KeyError 'Key length (1) was greater than MultiIndex lexsort depth (0)'\n"
     ]
    }
   ],
   "source": [
    "# 使用字母去切片會報錯\n",
    "try:\n",
    "    print(data['a':'b'])\n",
    "except KeyError as e:\n",
    "    print(\"KeyError\",e)"
   ]
  },
  {
   "cell_type": "code",
   "execution_count": 32,
   "metadata": {},
   "outputs": [
    {
     "name": "stdout",
     "output_type": "stream",
     "text": [
      "char  int\n",
      "a     1      0.933669\n",
      "      2      0.773842\n",
      "b     1      0.237959\n",
      "      2      0.734540\n",
      "c     1      0.842450\n",
      "      2      0.349751\n",
      "dtype: float64\n",
      "char  int\n",
      "a     1      0.933669\n",
      "      2      0.773842\n",
      "b     1      0.237959\n",
      "      2      0.734540\n",
      "dtype: float64\n"
     ]
    }
   ],
   "source": [
    "# 使用 DataFrame 內建方法排序索引\n",
    "data = data.sort_index()\n",
    "print(data)\n",
    "\n",
    "# 可以使用字母序切片\n",
    "print(data['a':'b'])"
   ]
  },
  {
   "cell_type": "code",
   "execution_count": 38,
   "metadata": {},
   "outputs": [
    {
     "name": "stdout",
     "output_type": "stream",
     "text": [
      "state       year\n",
      "California  2010    37243956\n",
      "            2020    39538223\n",
      "New York    2010    19378102\n",
      "            2020    20201249\n",
      "Texas       2010    25145561\n",
      "            2020    29145505\n",
      "dtype: int64\n",
      "year            2010      2020\n",
      "state                         \n",
      "California  37243956  39538223\n",
      "New York    19378102  20201249\n",
      "Texas       25145561  29145505\n",
      "state  California  New York     Texas\n",
      "year                                 \n",
      "2010     37243956  19378102  25145561\n",
      "2020     39538223  20201249  29145505\n",
      "year            2010      2020\n",
      "state                         \n",
      "California  37243956  39538223\n",
      "New York    19378102  20201249\n",
      "Texas       25145561  29145505\n",
      "state       year\n",
      "California  2010    37243956\n",
      "            2020    39538223\n",
      "New York    2010    19378102\n",
      "            2020    20201249\n",
      "Texas       2010    25145561\n",
      "            2020    29145505\n",
      "dtype: int64\n"
     ]
    }
   ],
   "source": [
    "print(pop)\n",
    "# 指定要轉到欄的維度 (預設是最低維度)\n",
    "print(pop.unstack())\n",
    "print(pop.unstack(level=0))\n",
    "print(pop.unstack(level=1))\n",
    "\n",
    "# stack() 可以回復多重索引\n",
    "print(pop.unstack().stack())"
   ]
  },
  {
   "cell_type": "code",
   "execution_count": 40,
   "metadata": {},
   "outputs": [
    {
     "name": "stdout",
     "output_type": "stream",
     "text": [
      "        state  year  population\n",
      "0  California  2010    37243956\n",
      "1  California  2020    39538223\n",
      "2    New York  2010    19378102\n",
      "3    New York  2020    20201249\n",
      "4       Texas  2010    25145561\n",
      "5       Texas  2020    29145505\n",
      "                 population\n",
      "state      year            \n",
      "California 2010    37243956\n",
      "           2020    39538223\n",
      "New York   2010    19378102\n",
      "           2020    20201249\n",
      "Texas      2010    25145561\n",
      "           2020    29145505\n"
     ]
    }
   ],
   "source": [
    "# 將索引轉換成欄位\n",
    "pop_flat = pop.reset_index(name='population')\n",
    "print(pop_flat)\n",
    "\n",
    "# 指定欄位轉換成多重索引\n",
    "print(pop_flat.set_index(['state', 'year']))"
   ]
  }
 ],
 "metadata": {
  "kernelspec": {
   "display_name": "Python 3",
   "language": "python",
   "name": "python3"
  },
  "language_info": {
   "codemirror_mode": {
    "name": "ipython",
    "version": 3
   },
   "file_extension": ".py",
   "mimetype": "text/x-python",
   "name": "python",
   "nbconvert_exporter": "python",
   "pygments_lexer": "ipython3",
   "version": "3.13.0"
  }
 },
 "nbformat": 4,
 "nbformat_minor": 2
}

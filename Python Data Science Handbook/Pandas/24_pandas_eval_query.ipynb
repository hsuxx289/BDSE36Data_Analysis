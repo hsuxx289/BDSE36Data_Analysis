{
 "cells": [
  {
   "cell_type": "code",
   "execution_count": 4,
   "metadata": {},
   "outputs": [
    {
     "name": "stdout",
     "output_type": "stream",
     "text": [
      "45 ms ± 1.11 ms per loop (mean ± std. dev. of 7 runs, 10 loops each)\n"
     ]
    }
   ],
   "source": [
    "import pandas as pd\n",
    "import numpy as np\n",
    "rng = np.random.default_rng(42)\n",
    "nrows, ncols = 100000, 100\n",
    "df1, df2, df3, df4 = (pd.DataFrame(rng.random((nrows, ncols)))\n",
    "                      for i in range(4))\n",
    "\n",
    "# 使用pandas\n",
    "%timeit df1 + df2 + df3 + df4"
   ]
  },
  {
   "cell_type": "code",
   "execution_count": 5,
   "metadata": {},
   "outputs": [
    {
     "name": "stdout",
     "output_type": "stream",
     "text": [
      "21.2 ms ± 892 μs per loop (mean ± std. dev. of 7 runs, 100 loops each)\n"
     ]
    }
   ],
   "source": [
    "# 使用pd.eval\n",
    "%timeit pd.eval('df1 + df2 + df3 + df4')"
   ]
  },
  {
   "cell_type": "code",
   "execution_count": 12,
   "metadata": {},
   "outputs": [
    {
     "name": "stdout",
     "output_type": "stream",
     "text": [
      "True\n",
      "True\n",
      "True\n",
      "True\n"
     ]
    }
   ],
   "source": [
    "df1, df2, df3, df4, df5= (pd.DataFrame(rng.integers(0, 1000, (100,3)))\n",
    "                         for i in range(5))\n",
    "\n",
    "# 算術運算子\n",
    "result1 = -df1 * df2 / (df3 + df4) - df5\n",
    "result2 = pd.eval('-df1 * df2 / (df3 + df4) - df5')\n",
    "print(np.allclose(result1, result2))\n",
    "\n",
    "# 比較運算子\n",
    "result1 = (df1 < df2) & (df2 <= df3) & (df3 != df4)\n",
    "result2 = pd.eval('df1 < df2 <= df3 != df4')\n",
    "print(np.allclose(result1, result2))\n",
    "\n",
    "# 逐位元運算子\n",
    "result1 = (df1 < 0.5) & (df2 < 0.5) | (df3 < df4)\n",
    "result2 = pd.eval('(df1 < 0.5) & (df2 < 0.5) | (df3 < df4)')\n",
    "print(np.allclose(result1, result2))\n",
    "\n",
    "# 物件屬性及索引\n",
    "result1 = df2.T[0] + df3.iloc[1]\n",
    "result2 = pd.eval('df2.T[0] + df3.iloc[1]')\n",
    "print(np.allclose(result1, result2))"
   ]
  },
  {
   "cell_type": "code",
   "execution_count": 15,
   "metadata": {},
   "outputs": [
    {
     "name": "stdout",
     "output_type": "stream",
     "text": [
      "          A         B         C\n",
      "0  0.862386  0.577276  0.056387\n",
      "1  0.734979  0.604619  0.425555\n",
      "2  0.893920  0.206314  0.241786\n",
      "3  0.590268  0.104256  0.106346\n",
      "4  0.242339  0.820983  0.378531\n",
      "True\n",
      "True\n"
     ]
    }
   ],
   "source": [
    "df = pd.DataFrame(rng.random((1000,3)), columns=['A', 'B', 'C'])\n",
    "print(df.head())\n",
    "\n",
    "# 使用pd.eval\n",
    "result1 = (df['A'] + df['B']) / (df['C']-1)\n",
    "result2 = pd.eval(\"(df.A + df.B) / (df.C - 1)\")\n",
    "print(np.allclose(result1, result2))\n",
    "\n",
    "# 使用 DataFrame.eval()\n",
    "result3 = df.eval('(A + B) / (C - 1)')\n",
    "print(np.allclose(result1, result3))"
   ]
  },
  {
   "cell_type": "code",
   "execution_count": 16,
   "metadata": {},
   "outputs": [
    {
     "name": "stdout",
     "output_type": "stream",
     "text": [
      "          A         B         C          D\n",
      "0  0.862386  0.577276  0.056387  25.531871\n",
      "1  0.734979  0.604619  0.425555   3.147888\n",
      "2  0.893920  0.206314  0.241786   4.550440\n",
      "3  0.590268  0.104256  0.106346   6.530795\n",
      "4  0.242339  0.820983  0.378531   2.809074\n"
     ]
    }
   ],
   "source": [
    "# 使用 DataFrame.eval() 建立欄位D\n",
    "df.eval('D = (A + B) / C', inplace = True)\n",
    "print(df.head())"
   ]
  },
  {
   "cell_type": "code",
   "execution_count": 18,
   "metadata": {},
   "outputs": [
    {
     "data": {
      "text/plain": [
       "True"
      ]
     },
     "execution_count": 18,
     "metadata": {},
     "output_type": "execute_result"
    }
   ],
   "source": [
    "# 使用 DataFrame.eval() 操作 python 變數\n",
    "column_mean = df.mean(1)\n",
    "result1 = df['A'] + column_mean\n",
    "result2 = df.eval('A + @column_mean')\n",
    "np.allclose(result1, result2)"
   ]
  },
  {
   "cell_type": "code",
   "execution_count": 24,
   "metadata": {},
   "outputs": [
    {
     "name": "stdout",
     "output_type": "stream",
     "text": [
      "True\n",
      "True\n"
     ]
    }
   ],
   "source": [
    "# 使用 DataFrame.query() 的比較\n",
    "result1 = df[(df.A < 0.5) & (df.B < 0.5)]\n",
    "result2 = pd.eval('df[(df.A < 0.5) & (df.B < 0.5)]')\n",
    "np.allclose(result1, result2)\n",
    "\n",
    "result2 = df.query('A < 0.5 and B < 0.5')\n",
    "print(np.allclose(result1, result2))\n",
    "\n",
    "Cmean = df['C'].mean()\n",
    "result1 = df[(df.A < Cmean) & (df.B < Cmean)]\n",
    "result2 = df.query('A < @Cmean and B < @Cmean')\n",
    "print(np.allclose(result1, result2))"
   ]
  },
  {
   "cell_type": "code",
   "execution_count": 25,
   "metadata": {},
   "outputs": [
    {
     "data": {
      "text/plain": [
       "32000"
      ]
     },
     "execution_count": 25,
     "metadata": {},
     "output_type": "execute_result"
    }
   ],
   "source": [
    "df.values.nbytes"
   ]
  }
 ],
 "metadata": {
  "kernelspec": {
   "display_name": "Python 3",
   "language": "python",
   "name": "python3"
  },
  "language_info": {
   "codemirror_mode": {
    "name": "ipython",
    "version": 3
   },
   "file_extension": ".py",
   "mimetype": "text/x-python",
   "name": "python",
   "nbconvert_exporter": "python",
   "pygments_lexer": "ipython3",
   "version": "3.13.0"
  }
 },
 "nbformat": 4,
 "nbformat_minor": 2
}

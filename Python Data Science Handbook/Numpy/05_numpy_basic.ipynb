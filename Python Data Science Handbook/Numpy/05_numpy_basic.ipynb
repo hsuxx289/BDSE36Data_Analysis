{
 "cells": [
  {
   "cell_type": "code",
   "execution_count": 2,
   "metadata": {},
   "outputs": [],
   "source": [
    "import numpy as np"
   ]
  },
  {
   "cell_type": "code",
   "execution_count": 3,
   "metadata": {},
   "outputs": [
    {
     "name": "stdout",
     "output_type": "stream",
     "text": [
      "[9 4 0 3 8 6]\n",
      "[[3 1 3 7]\n",
      " [4 0 2 3]\n",
      " [0 0 6 9]]\n",
      "[[[4 3 5 5 0]\n",
      "  [8 3 5 2 2]\n",
      "  [1 8 8 5 3]\n",
      "  [0 0 8 5 8]]\n",
      "\n",
      " [[5 1 6 2 3]\n",
      "  [1 2 5 6 2]\n",
      "  [5 2 7 9 3]\n",
      "  [5 6 0 2 0]]\n",
      "\n",
      " [[2 9 4 3 9]\n",
      "  [9 2 2 4 0]\n",
      "  [0 3 0 0 2]\n",
      "  [3 2 7 4 7]]]\n"
     ]
    }
   ],
   "source": [
    "# 先設定一個seed 確保每一次程式碼執行時都會產生相同的亂數陣列\n",
    "rng = np.random.default_rng(seed=1701)\n",
    "\n",
    "x1 = rng.integers(10, size=6)\n",
    "x2 = rng.integers(10, size=(3, 4))\n",
    "x3 = rng.integers(10, size=(3, 4, 5))\n",
    "\n",
    "print(x1)\n",
    "print(x2)\n",
    "print(x3)"
   ]
  },
  {
   "cell_type": "code",
   "execution_count": 4,
   "metadata": {},
   "outputs": [
    {
     "name": "stdout",
     "output_type": "stream",
     "text": [
      "x3 ndim: 3\n",
      "x3 shape: (3, 4, 5)\n",
      "x3 size: 60\n",
      "dtype: int64\n"
     ]
    }
   ],
   "source": [
    "# 每個陣列都有  ndim (維度) shape (每一個維度的大小) size (整個陣列的元素數) dtype (資料型態)\n",
    "print(\"x3 ndim:\", x3.ndim)\n",
    "print(\"x3 shape:\", x3.shape)\n",
    "print(\"x3 size:\", x3.size)\n",
    "print(\"dtype:\", x3.dtype)"
   ]
  },
  {
   "cell_type": "code",
   "execution_count": 5,
   "metadata": {},
   "outputs": [
    {
     "name": "stdout",
     "output_type": "stream",
     "text": [
      "[9 4 0 3 8 6]\n",
      "8\n",
      "6\n"
     ]
    }
   ],
   "source": [
    "# 以一維陣列為例 一樣是用中括號取值 從0開始算 也可以倒著算從-1開始算\n",
    "print(x1)\n",
    "print(x1[4])\n",
    "print(x1[-1])"
   ]
  },
  {
   "cell_type": "code",
   "execution_count": 6,
   "metadata": {},
   "outputs": [
    {
     "name": "stdout",
     "output_type": "stream",
     "text": [
      "[[3 1 3 7]\n",
      " [4 0 2 3]\n",
      " [0 0 6 9]]\n",
      "3\n",
      "0\n",
      "9\n"
     ]
    }
   ],
   "source": [
    "# 多維陣列的話  依照維度給索引\n",
    "print(x2)\n",
    "print(x2[0,0])\n",
    "print(x2[2,0])\n",
    "print(x2[2,-1])"
   ]
  },
  {
   "cell_type": "code",
   "execution_count": 8,
   "metadata": {},
   "outputs": [
    {
     "name": "stdout",
     "output_type": "stream",
     "text": [
      "[9 4 0 3 8 6]\n",
      "[9 4 0]\n",
      "[3 8 6]\n",
      "[4 0 3]\n",
      "[9 0 8]\n",
      "[4 3 6]\n"
     ]
    }
   ],
   "source": [
    "# 取一維子陣列\n",
    "print(x1)\n",
    "print(x1[:3]) # 前三個元素\n",
    "print(x1[3:]) # 在索引3後的元素\n",
    "print(x1[1:4]) # 中間的子陣列\n",
    "print(x1[::2]) # 間隔2的所有元素\n",
    "print(x1[1::2]) # 從索引1開始間隔2的所有元素"
   ]
  },
  {
   "cell_type": "code",
   "execution_count": 9,
   "metadata": {},
   "outputs": [
    {
     "name": "stdout",
     "output_type": "stream",
     "text": [
      "[[3 1 3 7]\n",
      " [4 0 2 3]\n",
      " [0 0 6 9]]\n",
      "[[3 1 3]\n",
      " [4 0 2]]\n",
      "[[3 3]\n",
      " [4 2]\n",
      " [0 6]]\n",
      "[[9 6 0 0]\n",
      " [3 2 0 4]\n",
      " [7 3 1 3]]\n"
     ]
    }
   ],
   "source": [
    "# 取多維子陣列 其實也是一樣的方式 只是每一維度都要指定\n",
    "print(x2)\n",
    "print(x2[:2, :3]) # 前兩列以及前三欄\n",
    "print(x2[:3, ::2]) # 前三列以及間隔為2的欄\n",
    "print(x2[::-1, ::-1]) # 反向取出所有列和欄的值"
   ]
  },
  {
   "cell_type": "code",
   "execution_count": 12,
   "metadata": {},
   "outputs": [
    {
     "name": "stdout",
     "output_type": "stream",
     "text": [
      "[3 4 0]\n",
      "[3 1 3 7]\n",
      "[3 1 3 7]\n"
     ]
    }
   ],
   "source": [
    "print(x2[:,0]) # 取出每列第一欄的值 輸出為陣列\n",
    "print(x2[0,:]) # 取出第一列\n",
    "print(x2[0]) # 第一個維度的所有資料 可以省略後面的宣告"
   ]
  },
  {
   "cell_type": "code",
   "execution_count": 13,
   "metadata": {},
   "outputs": [
    {
     "name": "stdout",
     "output_type": "stream",
     "text": [
      "[[3 1 3 7]\n",
      " [4 0 2 3]\n",
      " [0 0 6 9]]\n",
      "[[3 1]\n",
      " [4 0]]\n",
      "[[99  1]\n",
      " [ 4  0]]\n",
      "[[99  1  3  7]\n",
      " [ 4  0  2  3]\n",
      " [ 0  0  6  9]]\n"
     ]
    }
   ],
   "source": [
    "# Numpy取出的子陣列並非是複製一份新的資料而是直接讓你取用的值\n",
    "print(x2)\n",
    "\n",
    "x2_sub = x2[:2, :2]\n",
    "print(x2_sub)\n",
    "\n",
    "x2_sub[0,0] = 99\n",
    "print(x2_sub)\n",
    "\n",
    "print(x2)"
   ]
  },
  {
   "cell_type": "code",
   "execution_count": 15,
   "metadata": {},
   "outputs": [
    {
     "name": "stdout",
     "output_type": "stream",
     "text": [
      "[[99  1  3  7]\n",
      " [ 4  0  2  3]\n",
      " [ 0  0  6  9]]\n",
      "[[99  1]\n",
      " [ 4  0]]\n",
      "[[42  1]\n",
      " [ 4  0]]\n",
      "[[99  1  3  7]\n",
      " [ 4  0  2  3]\n",
      " [ 0  0  6  9]]\n"
     ]
    }
   ],
   "source": [
    "print(x2)\n",
    "\n",
    "x2_sub_copy = x2[:2, :2].copy()\n",
    "print(x2_sub_copy)\n",
    "\n",
    "x2_sub_copy[0, 0] = 42\n",
    "print(x2_sub_copy)\n",
    "\n",
    "print(x2) #原始內容不會被動到"
   ]
  },
  {
   "cell_type": "code",
   "execution_count": 16,
   "metadata": {},
   "outputs": [
    {
     "name": "stdout",
     "output_type": "stream",
     "text": [
      "[[1 2 3]\n",
      " [4 5 6]\n",
      " [7 8 9]]\n"
     ]
    }
   ],
   "source": [
    "# 一維轉二維\n",
    "grid = np.arange(1, 10).reshape(3,3)\n",
    "print(grid)"
   ]
  },
  {
   "cell_type": "code",
   "execution_count": 17,
   "metadata": {},
   "outputs": [
    {
     "name": "stdout",
     "output_type": "stream",
     "text": [
      "[[1 2 3]]\n",
      "[[1]\n",
      " [2]\n",
      " [3]]\n",
      "[[1 2 3]]\n",
      "[[1]\n",
      " [2]\n",
      " [3]]\n"
     ]
    }
   ],
   "source": [
    "x = np.array([1, 2, 3])\n",
    "print(x.reshape((1,3))) # 建立列向量\n",
    "\n",
    "print(x.reshape((3,1))) # 建立欄向量\n",
    "\n",
    "print(x[np.newaxis, :])\n",
    "\n",
    "print(x[:, np.newaxis])"
   ]
  },
  {
   "cell_type": "code",
   "execution_count": 20,
   "metadata": {},
   "outputs": [
    {
     "name": "stdout",
     "output_type": "stream",
     "text": [
      "[1 2 3 3 2 1]\n",
      "[ 1  2  3  3  2  1 99 99 99]\n",
      "[[1 2 3]\n",
      " [4 5 6]\n",
      " [1 2 3]\n",
      " [4 5 6]]\n",
      "[[1 2 3 1 2 3]\n",
      " [4 5 6 4 5 6]]\n",
      "[[1 2 3]\n",
      " [1 2 3]\n",
      " [4 5 6]]\n",
      "[[ 1  2  3 99]\n",
      " [ 4  5  6 99]]\n"
     ]
    }
   ],
   "source": [
    "# 串接兩個陣列\n",
    "x = np.array([1, 2, 3])\n",
    "y = np.array([3, 2, 1])\n",
    "print(np.concatenate([x, y]))\n",
    "\n",
    "# 串接2個以上的陣列\n",
    "z = np.array([99, 99, 99])\n",
    "print(np.concatenate([x, y, z]))\n",
    "\n",
    "# 串接二維陣列\n",
    "grid = np.array([[1, 2, 3],\n",
    "                [4, 5, 6]])\n",
    "\n",
    "# 沿著第一軸串接\n",
    "print(np.concatenate([grid, grid]))\n",
    "\n",
    "# 沿著第二軸串接\n",
    "print(np.concatenate([grid, grid], axis=1))\n",
    "\n",
    "# 垂直地堆疊在陣列上\n",
    "print(np.vstack([x, grid]))\n",
    "\n",
    "# 水平地堆疊在陣列上\n",
    "y = np.array([[99],\n",
    "             [99]])\n",
    "print(np.hstack([grid, y]))\n"
   ]
  },
  {
   "cell_type": "code",
   "execution_count": 21,
   "metadata": {},
   "outputs": [
    {
     "name": "stdout",
     "output_type": "stream",
     "text": [
      "[1 2 3] [99 99] [3 2 1]\n",
      "[[ 0  1  2  3]\n",
      " [ 4  5  6  7]\n",
      " [ 8  9 10 11]\n",
      " [12 13 14 15]]\n",
      "[[0 1 2 3]\n",
      " [4 5 6 7]]\n",
      "[[ 8  9 10 11]\n",
      " [12 13 14 15]]\n",
      "[[ 0  1]\n",
      " [ 4  5]\n",
      " [ 8  9]\n",
      " [12 13]]\n",
      "[[ 2  3]\n",
      " [ 6  7]\n",
      " [10 11]\n",
      " [14 15]]\n"
     ]
    }
   ],
   "source": [
    "# 指定要分割的陣列跟分割點\n",
    "x = [1, 2, 3, 99, 99, 3, 2, 1]\n",
    "x1, x2, x3 = np.split(x,[3, 5])\n",
    "print(x1, x2, x3)\n",
    "\n",
    "grid = np.arange(16).reshape((4,4))\n",
    "print(grid)\n",
    "\n",
    "# 沿垂直方向分割\n",
    "upper, lower = np.vsplit(grid, [2])\n",
    "print(upper)\n",
    "print(lower)\n",
    "\n",
    "\n",
    "# 沿水平方向分割\n",
    "left, right = np.hsplit(grid, [2])\n",
    "print(left)\n",
    "print(right)"
   ]
  }
 ],
 "metadata": {
  "kernelspec": {
   "display_name": "Python 3",
   "language": "python",
   "name": "python3"
  },
  "language_info": {
   "codemirror_mode": {
    "name": "ipython",
    "version": 3
   },
   "file_extension": ".py",
   "mimetype": "text/x-python",
   "name": "python",
   "nbconvert_exporter": "python",
   "pygments_lexer": "ipython3",
   "version": "3.13.0"
  }
 },
 "nbformat": 4,
 "nbformat_minor": 2
}

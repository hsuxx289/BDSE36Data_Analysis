{
 "cells": [
  {
   "cell_type": "code",
   "execution_count": 2,
   "metadata": {},
   "outputs": [],
   "source": [
    "import numpy as np"
   ]
  },
  {
   "cell_type": "code",
   "execution_count": 4,
   "metadata": {},
   "outputs": [
    {
     "name": "stdout",
     "output_type": "stream",
     "text": [
      "[0 1 2 3]\n",
      "[5 6 7 8]\n",
      "[-5 -4 -3 -2]\n",
      "[0 2 4 6]\n",
      "[0.  0.5 1.  1.5]\n",
      "[0 0 1 1]\n",
      "[ 0 -1 -2 -3]\n",
      "[0 1 4 9]\n",
      "[0 1 0 1]\n",
      "[-1.   -2.25 -4.   -6.25]\n"
     ]
    }
   ],
   "source": [
    "x = np.arange(4)\n",
    "print(x)\n",
    "print(x+5)\n",
    "print(x-5)\n",
    "print(x*2)\n",
    "print(x/2)\n",
    "print(x//2) #取地板的除號(整除)\n",
    "print(-x)\n",
    "print(x**2)\n",
    "print(x%2)\n",
    "print(-(0.5*x +1) **2)"
   ]
  },
  {
   "cell_type": "code",
   "execution_count": 5,
   "metadata": {},
   "outputs": [
    {
     "name": "stdout",
     "output_type": "stream",
     "text": [
      "[5 6 7 8]\n",
      "[-5 -4 -3 -2]\n",
      "[0 2 4 6]\n",
      "[0.  0.5 1.  1.5]\n",
      "[0 0 1 1]\n",
      "[ 0 -1 -2 -3]\n",
      "[0 1 4 9]\n",
      "[0 1 0 1]\n"
     ]
    }
   ],
   "source": [
    "x = np.arange(4)\n",
    "print(np.add(x,5))\n",
    "print(np.subtract(x,5))\n",
    "print(np.multiply(x,2))\n",
    "print(np.divide(x,2))\n",
    "print(np.floor_divide(x,2))\n",
    "print(np.negative(x))\n",
    "print(np.power(x,2))\n",
    "print(np.mod(x,2))"
   ]
  },
  {
   "cell_type": "code",
   "execution_count": 7,
   "metadata": {},
   "outputs": [
    {
     "name": "stdout",
     "output_type": "stream",
     "text": [
      "[2 1 0 1 2]\n",
      "[2 1 0 1 2]\n",
      "[2 1 0 1 2]\n",
      "[5. 5. 2. 1.]\n"
     ]
    }
   ],
   "source": [
    "x = np.array([-2, -1, 0, 1, 2])\n",
    "print(abs(x))\n",
    "print(np.abs(x))\n",
    "print(np.absolute(x))\n",
    "\n",
    "x = np.array([3 - 4j, 4 - 3j, 2 + 0j, 0 + 1j])\n",
    "print(np.abs(x))"
   ]
  },
  {
   "cell_type": "code",
   "execution_count": 8,
   "metadata": {},
   "outputs": [
    {
     "name": "stdout",
     "output_type": "stream",
     "text": [
      "[0.0000000e+00 1.0000000e+00 1.2246468e-16]\n",
      "[ 1.000000e+00  6.123234e-17 -1.000000e+00]\n",
      "[ 0.00000000e+00  1.63312394e+16 -1.22464680e-16]\n",
      "[-1.57079633  0.          1.57079633]\n",
      "[3.14159265 1.57079633 0.        ]\n",
      "[-0.78539816  0.          0.78539816]\n"
     ]
    }
   ],
   "source": [
    "theta = np.linspace(0, np.pi, 3)\n",
    "print(np.sin(theta))\n",
    "print(np.cos(theta))\n",
    "print(np.tan(theta))\n",
    "\n",
    "x = [-1, 0 ,1]\n",
    "print(np.arcsin(x))\n",
    "print(np.arccos(x))\n",
    "print(np.arctan(x))"
   ]
  },
  {
   "cell_type": "code",
   "execution_count": 9,
   "metadata": {},
   "outputs": [
    {
     "name": "stdout",
     "output_type": "stream",
     "text": [
      "[1, 2, 3]\n",
      "[ 2.71828183  7.3890561  20.08553692]\n",
      "[2. 4. 8.]\n",
      "[ 3.  9. 27.]\n"
     ]
    }
   ],
   "source": [
    "x = np.array([1, 2, 3])\n",
    "print(x)\n",
    "print(np.exp(x)) # 以e為底\n",
    "print(np.exp2(x)) # 以2為底\n",
    "print(np.power(3., x)) # 3以上用power\n"
   ]
  },
  {
   "cell_type": "code",
   "execution_count": 15,
   "metadata": {},
   "outputs": [
    {
     "name": "stdout",
     "output_type": "stream",
     "text": [
      "[ 1  2  4 10]\n",
      "[0.         0.69314718 1.38629436 2.30258509]\n",
      "[0.         1.         2.         3.32192809]\n",
      "[0.         0.30103    0.60205999 1.        ]\n"
     ]
    }
   ],
   "source": [
    "x = np.array([1, 2, 4, 10])\n",
    "print(x)\n",
    "print(np.log(x)) # 以e為底\n",
    "print(np.log2(x)) # 以2為底\n",
    "print(np.log10(x)) # 以10為底"
   ]
  },
  {
   "cell_type": "code",
   "execution_count": 16,
   "metadata": {},
   "outputs": [
    {
     "name": "stdout",
     "output_type": "stream",
     "text": [
      "[0.         0.0010005  0.01005017 0.10517092]\n",
      "[0.         0.0009995  0.00995033 0.09531018]\n",
      "[0.         0.0010005  0.01005017 0.10517092]\n",
      "[0.         0.0009995  0.00995033 0.09531018]\n"
     ]
    }
   ],
   "source": [
    "x = np.array([0, 0.001, 0.01, 0.1])\n",
    "print(np.expm1(x))\n",
    "print(np.log1p(x))\n",
    "print(np.exp(x)-1)\n",
    "print(np.log(1 +x))"
   ]
  }
 ],
 "metadata": {
  "kernelspec": {
   "display_name": "Python 3",
   "language": "python",
   "name": "python3"
  },
  "language_info": {
   "codemirror_mode": {
    "name": "ipython",
    "version": 3
   },
   "file_extension": ".py",
   "mimetype": "text/x-python",
   "name": "python",
   "nbconvert_exporter": "python",
   "pygments_lexer": "ipython3",
   "version": "3.13.0"
  }
 },
 "nbformat": 4,
 "nbformat_minor": 2
}

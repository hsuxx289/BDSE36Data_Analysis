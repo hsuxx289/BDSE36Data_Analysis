{
 "cells": [
  {
   "cell_type": "code",
   "execution_count": 6,
   "metadata": {},
   "outputs": [
    {
     "name": "stdout",
     "output_type": "stream",
     "text": [
      "[('', 0, 0.) ('', 0, 0.) ('', 0, 0.) ('', 0, 0.)]\n",
      "[('name', '<U10'), ('age', '<i4'), ('weight', '<f8')]\n"
     ]
    }
   ],
   "source": [
    "import numpy as np\n",
    "\n",
    "name = ['Alice', 'Bob', 'Cathy', 'Doug']\n",
    "age = [25, 45, 37, 19]\n",
    "weight = [55.0, 85.5, 68.0, 61.5]\n",
    "\n",
    "# 在結構陣列中使用複合資料型態\n",
    "data = np.zeros(4, dtype={'names':('name', 'age','weight'),'formats':('U10', 'i4', 'f8')})\n",
    "print(data)\n",
    "print(data.dtype)"
   ]
  },
  {
   "cell_type": "code",
   "execution_count": 7,
   "metadata": {},
   "outputs": [
    {
     "name": "stdout",
     "output_type": "stream",
     "text": [
      "[('Alice', 25, 55. ) ('Bob', 45, 85.5) ('Cathy', 37, 68. )\n",
      " ('Doug', 19, 61.5)]\n"
     ]
    }
   ],
   "source": [
    "# 將個別陣列資料填入複合資料型態陣列中\n",
    "data['name'] = name\n",
    "data['age'] = age\n",
    "data['weight'] = weight\n",
    "print(data)"
   ]
  },
  {
   "cell_type": "code",
   "execution_count": 10,
   "metadata": {},
   "outputs": [
    {
     "name": "stdout",
     "output_type": "stream",
     "text": [
      "['Alice' 'Bob' 'Cathy' 'Doug']\n",
      "('Alice', 25, 55.0)\n",
      "Doug\n",
      "['Alice' 'Doug']\n"
     ]
    }
   ],
   "source": [
    "print(data['name'])\n",
    "print(data[0])\n",
    "print(data[-1]['name'])\n",
    "\n",
    "# 使用布林遮罩\n",
    "print(data[data['age']<30]['name'])"
   ]
  },
  {
   "cell_type": "code",
   "execution_count": 12,
   "metadata": {},
   "outputs": [
    {
     "name": "stdout",
     "output_type": "stream",
     "text": [
      "[('name', '<U10'), ('age', '<i4'), ('weight', '<f8')]\n",
      "[('name', '<U10'), ('age', '<i8'), ('weight', '<f4')]\n",
      "[('name', 'S10'), ('age', '<i4'), ('weight', '<f8')]\n",
      "[('f0', 'S10'), ('f1', '<i4'), ('f2', '<f8')]\n"
     ]
    }
   ],
   "source": [
    "# 前面的為字典建立法\n",
    "print(np.dtype({'names':('name', 'age','weight'),'formats':('U10', 'i4', 'f8')}))\n",
    "\n",
    "# 數值型態可以使用python 的type 或 NumPy的 dtype\n",
    "print(np.dtype({'names':('name', 'age','weight'),'formats':((np.str_, 10), int, np.float32)}))\n",
    "\n",
    "# 也可以個別指定\n",
    "print(np.dtype([('name', 'S10'),('age', 'i4'), ('weight', 'f8')]))\n",
    "\n",
    "# 如果名稱不重要 可以直接以逗點分隔的字串來設定\n",
    "print(np.dtype('S10,i4,f8'))\n",
    "\n"
   ]
  },
  {
   "cell_type": "code",
   "execution_count": 13,
   "metadata": {},
   "outputs": [
    {
     "name": "stdout",
     "output_type": "stream",
     "text": [
      "[(0, [[0., 0., 0.], [0., 0., 0.], [0., 0., 0.]])]\n",
      "(0, [[0.0, 0.0, 0.0], [0.0, 0.0, 0.0], [0.0, 0.0, 0.0]])\n",
      "[[0. 0. 0.]\n",
      " [0. 0. 0.]\n",
      " [0. 0. 0.]]\n"
     ]
    }
   ],
   "source": [
    "tp = np.dtype([('id','i8'),('mat','f8',(3,3))])\n",
    "x = np.zeros(1, dtype=tp)\n",
    "print(x)\n",
    "print(x[0])\n",
    "print(x['mat'][0])"
   ]
  },
  {
   "cell_type": "code",
   "execution_count": 17,
   "metadata": {},
   "outputs": [
    {
     "name": "stdout",
     "output_type": "stream",
     "text": [
      "[25 45 37 19]\n",
      "[25 45 37 19]\n"
     ]
    }
   ],
   "source": [
    "# 字典鍵方式\n",
    "print(data['age'])\n",
    "\n",
    "# 屬性方式\n",
    "data_rec = data.view(np.recarray)\n",
    "print(data_rec.age)"
   ]
  }
 ],
 "metadata": {
  "kernelspec": {
   "display_name": "Python 3",
   "language": "python",
   "name": "python3"
  },
  "language_info": {
   "codemirror_mode": {
    "name": "ipython",
    "version": 3
   },
   "file_extension": ".py",
   "mimetype": "text/x-python",
   "name": "python",
   "nbconvert_exporter": "python",
   "pygments_lexer": "ipython3",
   "version": "3.13.0"
  }
 },
 "nbformat": 4,
 "nbformat_minor": 2
}

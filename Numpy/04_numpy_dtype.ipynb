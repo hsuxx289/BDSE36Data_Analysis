{
 "cells": [
  {
   "cell_type": "code",
   "execution_count": 1,
   "metadata": {},
   "outputs": [
    {
     "name": "stdout",
     "output_type": "stream",
     "text": [
      "Collecting numpy\n",
      "  Downloading numpy-2.2.0-cp313-cp313-win_amd64.whl.metadata (60 kB)\n",
      "Downloading numpy-2.2.0-cp313-cp313-win_amd64.whl (12.6 MB)\n",
      "   ---------------------------------------- 0.0/12.6 MB ? eta -:--:--\n",
      "   ---------------------------------------- 0.0/12.6 MB ? eta -:--:--\n",
      "    --------------------------------------- 0.3/12.6 MB ? eta -:--:--\n",
      "   - -------------------------------------- 0.5/12.6 MB 1.2 MB/s eta 0:00:10\n",
      "   -- ------------------------------------- 0.8/12.6 MB 1.2 MB/s eta 0:00:11\n",
      "   --- ------------------------------------ 1.0/12.6 MB 1.0 MB/s eta 0:00:12\n",
      "   ---- ----------------------------------- 1.3/12.6 MB 1.2 MB/s eta 0:00:10\n",
      "   ---- ----------------------------------- 1.6/12.6 MB 1.2 MB/s eta 0:00:10\n",
      "   ----- ---------------------------------- 1.8/12.6 MB 1.2 MB/s eta 0:00:09\n",
      "   ------ --------------------------------- 2.1/12.6 MB 1.2 MB/s eta 0:00:09\n",
      "   ------- -------------------------------- 2.4/12.6 MB 1.3 MB/s eta 0:00:09\n",
      "   --------- ------------------------------ 2.9/12.6 MB 1.3 MB/s eta 0:00:08\n",
      "   --------- ------------------------------ 3.1/12.6 MB 1.3 MB/s eta 0:00:08\n",
      "   ---------- ----------------------------- 3.4/12.6 MB 1.3 MB/s eta 0:00:08\n",
      "   ----------- ---------------------------- 3.7/12.6 MB 1.3 MB/s eta 0:00:08\n",
      "   ------------ --------------------------- 3.9/12.6 MB 1.3 MB/s eta 0:00:07\n",
      "   ------------- -------------------------- 4.2/12.6 MB 1.3 MB/s eta 0:00:07\n",
      "   ------------- -------------------------- 4.2/12.6 MB 1.3 MB/s eta 0:00:07\n",
      "   -------------- ------------------------- 4.5/12.6 MB 1.2 MB/s eta 0:00:07\n",
      "   -------------- ------------------------- 4.7/12.6 MB 1.2 MB/s eta 0:00:07\n",
      "   --------------- ------------------------ 5.0/12.6 MB 1.2 MB/s eta 0:00:07\n",
      "   ---------------- ----------------------- 5.2/12.6 MB 1.2 MB/s eta 0:00:07\n",
      "   ----------------- ---------------------- 5.5/12.6 MB 1.2 MB/s eta 0:00:06\n",
      "   ------------------ --------------------- 5.8/12.6 MB 1.2 MB/s eta 0:00:06\n",
      "   ------------------- -------------------- 6.0/12.6 MB 1.2 MB/s eta 0:00:06\n",
      "   ------------------- -------------------- 6.3/12.6 MB 1.2 MB/s eta 0:00:06\n",
      "   -------------------- ------------------- 6.6/12.6 MB 1.2 MB/s eta 0:00:05\n",
      "   --------------------- ------------------ 6.8/12.6 MB 1.2 MB/s eta 0:00:05\n",
      "   --------------------- ------------------ 6.8/12.6 MB 1.2 MB/s eta 0:00:05\n",
      "   ----------------------- ---------------- 7.3/12.6 MB 1.2 MB/s eta 0:00:05\n",
      "   ----------------------- ---------------- 7.3/12.6 MB 1.2 MB/s eta 0:00:05\n",
      "   ------------------------ --------------- 7.6/12.6 MB 1.2 MB/s eta 0:00:05\n",
      "   ------------------------ --------------- 7.9/12.6 MB 1.2 MB/s eta 0:00:04\n",
      "   ------------------------- -------------- 8.1/12.6 MB 1.2 MB/s eta 0:00:04\n",
      "   -------------------------- ------------- 8.4/12.6 MB 1.2 MB/s eta 0:00:04\n",
      "   -------------------------- ------------- 8.4/12.6 MB 1.2 MB/s eta 0:00:04\n",
      "   --------------------------- ------------ 8.7/12.6 MB 1.2 MB/s eta 0:00:04\n",
      "   ---------------------------- ----------- 8.9/12.6 MB 1.2 MB/s eta 0:00:04\n",
      "   ---------------------------- ----------- 8.9/12.6 MB 1.2 MB/s eta 0:00:04\n",
      "   ----------------------------- ---------- 9.2/12.6 MB 1.1 MB/s eta 0:00:04\n",
      "   ----------------------------- ---------- 9.4/12.6 MB 1.1 MB/s eta 0:00:03\n",
      "   ------------------------------ --------- 9.7/12.6 MB 1.1 MB/s eta 0:00:03\n",
      "   ------------------------------ --------- 9.7/12.6 MB 1.1 MB/s eta 0:00:03\n",
      "   ------------------------------- -------- 10.0/12.6 MB 1.1 MB/s eta 0:00:03\n",
      "   -------------------------------- ------- 10.2/12.6 MB 1.1 MB/s eta 0:00:03\n",
      "   --------------------------------- ------ 10.5/12.6 MB 1.1 MB/s eta 0:00:02\n",
      "   --------------------------------- ------ 10.5/12.6 MB 1.1 MB/s eta 0:00:02\n",
      "   ---------------------------------- ----- 10.7/12.6 MB 1.1 MB/s eta 0:00:02\n",
      "   ---------------------------------- ----- 10.7/12.6 MB 1.1 MB/s eta 0:00:02\n",
      "   ---------------------------------- ----- 11.0/12.6 MB 1.1 MB/s eta 0:00:02\n",
      "   ----------------------------------- ---- 11.3/12.6 MB 1.1 MB/s eta 0:00:02\n",
      "   ----------------------------------- ---- 11.3/12.6 MB 1.1 MB/s eta 0:00:02\n",
      "   ------------------------------------ --- 11.5/12.6 MB 1.1 MB/s eta 0:00:02\n",
      "   ------------------------------------- -- 11.8/12.6 MB 1.1 MB/s eta 0:00:01\n",
      "   -------------------------------------- - 12.1/12.6 MB 1.1 MB/s eta 0:00:01\n",
      "   -------------------------------------- - 12.1/12.6 MB 1.1 MB/s eta 0:00:01\n",
      "   ---------------------------------------  12.3/12.6 MB 1.1 MB/s eta 0:00:01\n",
      "   ---------------------------------------- 12.6/12.6 MB 1.1 MB/s eta 0:00:00\n",
      "Installing collected packages: numpy\n",
      "Successfully installed numpy-2.2.0\n",
      "Note: you may need to restart the kernel to use updated packages.\n"
     ]
    },
    {
     "name": "stderr",
     "output_type": "stream",
     "text": [
      "\n",
      "[notice] A new release of pip is available: 24.2 -> 24.3.1\n",
      "[notice] To update, run: python.exe -m pip install --upgrade pip\n"
     ]
    }
   ],
   "source": [
    "pip install numpy"
   ]
  },
  {
   "cell_type": "code",
   "execution_count": 1,
   "metadata": {},
   "outputs": [],
   "source": [
    "import numpy as np"
   ]
  },
  {
   "cell_type": "code",
   "execution_count": 2,
   "metadata": {},
   "outputs": [
    {
     "data": {
      "text/plain": [
       "array([1, 3, 2, 5, 6])"
      ]
     },
     "execution_count": 2,
     "metadata": {},
     "output_type": "execute_result"
    }
   ],
   "source": [
    "np.array([1,3,2,5,6])"
   ]
  },
  {
   "cell_type": "code",
   "execution_count": 3,
   "metadata": {},
   "outputs": [
    {
     "data": {
      "text/plain": [
       "array([3.14, 4.  , 2.  , 3.  ])"
      ]
     },
     "execution_count": 3,
     "metadata": {},
     "output_type": "execute_result"
    }
   ],
   "source": [
    "np.array([3.14,4,2,3])"
   ]
  },
  {
   "cell_type": "code",
   "execution_count": 4,
   "metadata": {},
   "outputs": [
    {
     "data": {
      "text/plain": [
       "array([1., 2., 3., 4.], dtype=float32)"
      ]
     },
     "execution_count": 4,
     "metadata": {},
     "output_type": "execute_result"
    }
   ],
   "source": [
    "np.array([1,2,3,4], dtype=np.float32)"
   ]
  },
  {
   "cell_type": "code",
   "execution_count": 5,
   "metadata": {},
   "outputs": [
    {
     "data": {
      "text/plain": [
       "array([[2, 3, 4],\n",
       "       [4, 5, 6],\n",
       "       [6, 7, 8]])"
      ]
     },
     "execution_count": 5,
     "metadata": {},
     "output_type": "execute_result"
    }
   ],
   "source": [
    "np.array([range(i,i+3) for i in [2, 4, 6]])"
   ]
  },
  {
   "cell_type": "code",
   "execution_count": 6,
   "metadata": {},
   "outputs": [
    {
     "data": {
      "text/plain": [
       "array([0, 0, 0, 0, 0, 0, 0, 0, 0, 0])"
      ]
     },
     "execution_count": 6,
     "metadata": {},
     "output_type": "execute_result"
    }
   ],
   "source": [
    "np.zeros(10, dtype=int)"
   ]
  },
  {
   "cell_type": "code",
   "execution_count": 7,
   "metadata": {},
   "outputs": [
    {
     "data": {
      "text/plain": [
       "array([[1., 1., 1., 1., 1.],\n",
       "       [1., 1., 1., 1., 1.],\n",
       "       [1., 1., 1., 1., 1.]])"
      ]
     },
     "execution_count": 7,
     "metadata": {},
     "output_type": "execute_result"
    }
   ],
   "source": [
    "np.ones((3, 5), dtype=float)"
   ]
  },
  {
   "cell_type": "code",
   "execution_count": 8,
   "metadata": {},
   "outputs": [
    {
     "data": {
      "text/plain": [
       "array([[3.14, 3.14, 3.14, 3.14, 3.14],\n",
       "       [3.14, 3.14, 3.14, 3.14, 3.14],\n",
       "       [3.14, 3.14, 3.14, 3.14, 3.14]])"
      ]
     },
     "execution_count": 8,
     "metadata": {},
     "output_type": "execute_result"
    }
   ],
   "source": [
    "np.full((3, 5), 3.14)"
   ]
  },
  {
   "cell_type": "code",
   "execution_count": 9,
   "metadata": {},
   "outputs": [
    {
     "data": {
      "text/plain": [
       "array([ 0,  2,  4,  6,  8, 10, 12, 14, 16, 18])"
      ]
     },
     "execution_count": 9,
     "metadata": {},
     "output_type": "execute_result"
    }
   ],
   "source": [
    "np.arange(0,20,2)"
   ]
  },
  {
   "cell_type": "code",
   "execution_count": 10,
   "metadata": {},
   "outputs": [
    {
     "data": {
      "text/plain": [
       "array([0.  , 0.25, 0.5 , 0.75, 1.  ])"
      ]
     },
     "execution_count": 10,
     "metadata": {},
     "output_type": "execute_result"
    }
   ],
   "source": [
    "np.linspace(0, 1, 5)"
   ]
  },
  {
   "cell_type": "code",
   "execution_count": 11,
   "metadata": {},
   "outputs": [
    {
     "data": {
      "text/plain": [
       "array([[0.73658531, 0.80674397, 0.29641862],\n",
       "       [0.33963054, 0.00743049, 0.59801067],\n",
       "       [0.18915208, 0.82648276, 0.44945271]])"
      ]
     },
     "execution_count": 11,
     "metadata": {},
     "output_type": "execute_result"
    }
   ],
   "source": [
    "np.random.random((3,3))"
   ]
  },
  {
   "cell_type": "code",
   "execution_count": 12,
   "metadata": {},
   "outputs": [
    {
     "data": {
      "text/plain": [
       "array([[ 1.20845768,  0.92338115, -1.21705846],\n",
       "       [ 0.58331909, -0.00401623, -0.96604151],\n",
       "       [-0.55415477,  0.46704363, -0.25235192]])"
      ]
     },
     "execution_count": 12,
     "metadata": {},
     "output_type": "execute_result"
    }
   ],
   "source": [
    "np.random.normal(0,1,(3,3))"
   ]
  },
  {
   "cell_type": "code",
   "execution_count": 16,
   "metadata": {},
   "outputs": [
    {
     "data": {
      "text/plain": [
       "array([[7, 2, 2],\n",
       "       [0, 9, 7],\n",
       "       [2, 4, 4]], dtype=int32)"
      ]
     },
     "execution_count": 16,
     "metadata": {},
     "output_type": "execute_result"
    }
   ],
   "source": [
    "np.random.randint(0,10,(3,3))"
   ]
  },
  {
   "cell_type": "code",
   "execution_count": 17,
   "metadata": {},
   "outputs": [
    {
     "data": {
      "text/plain": [
       "array([[1., 0., 0.],\n",
       "       [0., 1., 0.],\n",
       "       [0., 0., 1.]])"
      ]
     },
     "execution_count": 17,
     "metadata": {},
     "output_type": "execute_result"
    }
   ],
   "source": [
    "np.eye(3)"
   ]
  },
  {
   "cell_type": "code",
   "execution_count": 21,
   "metadata": {},
   "outputs": [
    {
     "data": {
      "text/plain": [
       "array([1., 1., 1.])"
      ]
     },
     "execution_count": 21,
     "metadata": {},
     "output_type": "execute_result"
    }
   ],
   "source": [
    "np.empty(3)"
   ]
  }
 ],
 "metadata": {
  "kernelspec": {
   "display_name": "Python 3",
   "language": "python",
   "name": "python3"
  },
  "language_info": {
   "codemirror_mode": {
    "name": "ipython",
    "version": 3
   },
   "file_extension": ".py",
   "mimetype": "text/x-python",
   "name": "python",
   "nbconvert_exporter": "python",
   "pygments_lexer": "ipython3",
   "version": "3.13.0"
  }
 },
 "nbformat": 4,
 "nbformat_minor": 2
}

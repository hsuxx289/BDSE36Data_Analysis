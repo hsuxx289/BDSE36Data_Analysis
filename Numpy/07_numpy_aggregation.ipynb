{
 "cells": [
  {
   "cell_type": "code",
   "execution_count": 1,
   "metadata": {},
   "outputs": [
    {
     "name": "stdout",
     "output_type": "stream",
     "text": [
      "[0.55756096 0.76446698 0.80435208 0.07531549 0.81854581 0.01490052\n",
      " 0.9198815  0.28712534 0.43872567 0.63345024 0.24609993 0.47468959\n",
      " 0.52818334 0.83970763 0.43554149 0.9309866  0.12375064 0.89303017\n",
      " 0.18573721 0.55688414 0.6255534  0.07377173 0.62567203 0.82965858]\n",
      "12.683591056813457\n",
      "62.683591056813455\n",
      "[[0.55756096 0.76446698 0.80435208]\n",
      " [0.07531549 0.81854581 0.01490052]\n",
      " [0.9198815  0.28712534 0.43872567]\n",
      " [0.63345024 0.24609993 0.47468959]\n",
      " [0.52818334 0.83970763 0.43554149]\n",
      " [0.9309866  0.12375064 0.89303017]\n",
      " [0.18573721 0.55688414 0.6255534 ]\n",
      " [0.07377173 0.62567203 0.82965858]]\n",
      "12.683591056813459\n",
      "[3.90488706 4.2622525  4.51645149]\n",
      "[2.12638001 0.90876181 1.6457325  1.35423975 1.80343246 1.94776741\n",
      " 1.36817476 1.52910235]\n"
     ]
    }
   ],
   "source": [
    "import numpy as np\n",
    "rng = np.random.default_rng() #創建隨機生成器\n",
    "\n",
    "L = rng.random(24)\n",
    "print(L)\n",
    "print(sum(L)) # 將陣列元素加總\n",
    "print(sum(L,50)) # 將函式內的參數全部加總\n",
    "\n",
    "A = np.array(L).reshape(8,3)\n",
    "print(A)\n",
    "print(np.sum(A)) # 將陣列元素加總\n",
    "print(np.sum(A, 0)) # 沿著第0維度加總 把各個列位相加 = 欄總和\n",
    "print(np.sum(A, 1)) # 沿著第1維度加總 把各個欄位相加 = 列總和"
   ]
  },
  {
   "cell_type": "code",
   "execution_count": 2,
   "metadata": {},
   "outputs": [
    {
     "name": "stdout",
     "output_type": "stream",
     "text": [
      "0.014900518020168119\n",
      "0.9309866006643559\n",
      "0.014900518020168119\n",
      "0.9309866006643559\n",
      "0.014900518020168119\n",
      "0.9309866006643559\n",
      "12.683591056813459\n"
     ]
    }
   ],
   "source": [
    "print(min(L))\n",
    "print(max(L))\n",
    "print(np.min(A))\n",
    "print(np.max(A))\n",
    "#np 陣列本身就有包含聚合方法\n",
    "print(A.min()) \n",
    "print(A.max())\n",
    "print(A.sum())"
   ]
  },
  {
   "cell_type": "code",
   "execution_count": 3,
   "metadata": {},
   "outputs": [
    {
     "name": "stdout",
     "output_type": "stream",
     "text": [
      "[[9 9 4 6]\n",
      " [0 1 8 6]\n",
      " [9 5 1 1]]\n",
      "59\n",
      "[0 1 1 1]\n",
      "[9 8 9]\n"
     ]
    }
   ],
   "source": [
    "M = rng.integers(0, 10, (3,4))\n",
    "print(M)\n",
    "print(M.sum())\n",
    "print(M.min(axis=0))\n",
    "print(M.max(axis=1))"
   ]
  },
  {
   "cell_type": "code",
   "execution_count": 11,
   "metadata": {},
   "outputs": [
    {
     "name": "stdout",
     "output_type": "stream",
     "text": [
      "[189 170 189 163 183 171 185 168 173 183 173 173 175 178 183 193 178 173\n",
      " 174 183 183 168 170 178 182 180 183 178 182 188 175 179 183 193 182 183\n",
      " 177 185 188 188 182 185]\n"
     ]
    }
   ],
   "source": [
    "import pandas as pd\n",
    "data = pd.read_csv('data/president_heights.csv')\n",
    "heights = np.array(data['height(cm)'])\n",
    "print(heights)"
   ]
  },
  {
   "cell_type": "code",
   "execution_count": 5,
   "metadata": {},
   "outputs": [
    {
     "name": "stdout",
     "output_type": "stream",
     "text": [
      "179.73809523809524\n",
      "193\n",
      "163\n",
      "6.931843442745892\n"
     ]
    }
   ],
   "source": [
    "print(heights.mean())\n",
    "print(heights.max())\n",
    "print(heights.min())\n",
    "print(heights.std())"
   ]
  },
  {
   "cell_type": "code",
   "execution_count": 6,
   "metadata": {},
   "outputs": [
    {
     "name": "stdout",
     "output_type": "stream",
     "text": [
      "174.25\n",
      "182.0\n",
      "183.0\n"
     ]
    }
   ],
   "source": [
    "print(np.percentile(heights, 25))\n",
    "print(np.median(heights))\n",
    "print(np.percentile(heights, 75))"
   ]
  },
  {
   "cell_type": "code",
   "execution_count": 9,
   "metadata": {},
   "outputs": [
    {
     "data": {
      "text/plain": [
       "Text(0, 0.5, 'number')"
      ]
     },
     "execution_count": 9,
     "metadata": {},
     "output_type": "execute_result"
    },
    {
     "data": {
      "image/png": "[encoded data removed]",
      "text/plain": [
       "<Figure size 640x480 with 1 Axes>"
      ]
     },
     "metadata": {},
     "output_type": "display_data"
    }
   ],
   "source": [
    "%matplotlib inline\n",
    "import matplotlib.pyplot as plt\n",
    "plt.style.use('seaborn-v0_8-whitegrid')\n",
    "\n",
    "plt.hist(heights)\n",
    "plt.title('Height Distribution of US Presidents')\n",
    "plt.xlabel('height (cm)')\n",
    "plt.ylabel('number')\n"
   ]
  }
 ],
 "metadata": {
  "kernelspec": {
   "display_name": "Python 3",
   "language": "python",
   "name": "python3"
  },
  "language_info": {
   "codemirror_mode": {
    "name": "ipython",
    "version": 3
   },
   "file_extension": ".py",
   "mimetype": "text/x-python",
   "name": "python",
   "nbconvert_exporter": "python",
   "pygments_lexer": "ipython3",
   "version": "3.13.0"
  }
 },
 "nbformat": 4,
 "nbformat_minor": 2
}

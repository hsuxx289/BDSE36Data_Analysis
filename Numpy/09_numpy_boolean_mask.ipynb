{
 "cells": [
  {
   "cell_type": "code",
   "execution_count": 2,
   "metadata": {},
   "outputs": [
    {
     "name": "stdout",
     "output_type": "stream",
     "text": [
      "Collecting vega_datasets\n",
      "  Downloading vega_datasets-0.9.0-py3-none-any.whl.metadata (5.5 kB)\n",
      "Requirement already satisfied: pandas in c:\\users\\student\\appdata\\local\\programs\\python\\python313\\lib\\site-packages (from vega_datasets) (2.2.3)\n",
      "Requirement already satisfied: numpy>=1.26.0 in c:\\users\\student\\appdata\\local\\programs\\python\\python313\\lib\\site-packages (from pandas->vega_datasets) (2.1.3)\n",
      "Requirement already satisfied: python-dateutil>=2.8.2 in c:\\users\\student\\appdata\\roaming\\python\\python313\\site-packages (from pandas->vega_datasets) (2.9.0.post0)\n",
      "Requirement already satisfied: pytz>=2020.1 in c:\\users\\student\\appdata\\local\\programs\\python\\python313\\lib\\site-packages (from pandas->vega_datasets) (2024.2)\n",
      "Requirement already satisfied: tzdata>=2022.7 in c:\\users\\student\\appdata\\local\\programs\\python\\python313\\lib\\site-packages (from pandas->vega_datasets) (2024.2)\n",
      "Requirement already satisfied: six>=1.5 in c:\\users\\student\\appdata\\roaming\\python\\python313\\site-packages (from python-dateutil>=2.8.2->pandas->vega_datasets) (1.16.0)\n",
      "Downloading vega_datasets-0.9.0-py3-none-any.whl (210 kB)\n",
      "Installing collected packages: vega_datasets\n",
      "Successfully installed vega_datasets-0.9.0\n",
      "Note: you may need to restart the kernel to use updated packages.\n"
     ]
    },
    {
     "name": "stderr",
     "output_type": "stream",
     "text": [
      "\n",
      "[notice] A new release of pip is available: 24.2 -> 24.3.1\n",
      "[notice] To update, run: python.exe -m pip install --upgrade pip\n"
     ]
    }
   ],
   "source": [
    "pip install vega_datasets"
   ]
  },
  {
   "cell_type": "code",
   "execution_count": 7,
   "metadata": {},
   "outputs": [
    {
     "data": {
      "text/plain": [
       "365"
      ]
     },
     "execution_count": 7,
     "metadata": {},
     "output_type": "execute_result"
    }
   ],
   "source": [
    "import numpy as np\n",
    "from vega_datasets import data\n",
    "\n",
    "# 使用 DataFrame 運算取得雨量並轉換為NumPy陣列\n",
    "rainfall_mm = np.array(data.seattle_weather().set_index('date')['precipitation']['2015'])\n",
    "len(rainfall_mm)"
   ]
  },
  {
   "cell_type": "code",
   "execution_count": 10,
   "metadata": {},
   "outputs": [
    {
     "data": {
      "text/plain": [
       "(array([262.,  22.,  14.,   9.,  10.,   6.,   6.,   5.,   2.,   3.,   1.,\n",
       "          2.,   2.,   3.,   0.,   2.,   2.,   0.,   3.,   2.,   1.,   2.,\n",
       "          0.,   3.,   0.,   0.,   0.,   0.,   0.,   0.,   0.,   0.,   0.,\n",
       "          1.,   0.,   0.,   0.,   0.,   1.,   1.]),\n",
       " array([ 0.    ,  1.3975,  2.795 ,  4.1925,  5.59  ,  6.9875,  8.385 ,\n",
       "         9.7825, 11.18  , 12.5775, 13.975 , 15.3725, 16.77  , 18.1675,\n",
       "        19.565 , 20.9625, 22.36  , 23.7575, 25.155 , 26.5525, 27.95  ,\n",
       "        29.3475, 30.745 , 32.1425, 33.54  , 34.9375, 36.335 , 37.7325,\n",
       "        39.13  , 40.5275, 41.925 , 43.3225, 44.72  , 46.1175, 47.515 ,\n",
       "        48.9125, 50.31  , 51.7075, 53.105 , 54.5025, 55.9   ]),\n",
       " <BarContainer object of 40 artists>)"
      ]
     },
     "execution_count": 10,
     "metadata": {},
     "output_type": "execute_result"
    },
    {
     "data": {
      "image/png": "[encoded data removed]",
      "text/plain": [
       "<Figure size 640x480 with 1 Axes>"
      ]
     },
     "metadata": {},
     "output_type": "display_data"
    }
   ],
   "source": [
    "%matplotlib inline\n",
    "import matplotlib.pyplot as plt\n",
    "plt.style.use('seaborn-v0_8-whitegrid')\n",
    "plt.hist(rainfall_mm, 40)"
   ]
  },
  {
   "cell_type": "code",
   "execution_count": 12,
   "metadata": {},
   "outputs": [
    {
     "name": "stdout",
     "output_type": "stream",
     "text": [
      "[ True  True False False False]\n",
      "[False False False  True  True]\n",
      "[ True  True  True False False]\n",
      "[False False  True  True  True]\n",
      "[ True  True False  True  True]\n",
      "[False False  True False False]\n",
      "[False  True False False False]\n"
     ]
    }
   ],
   "source": [
    "x = np.array([1, 2, 3, 4, 5])\n",
    "print(x<3)\n",
    "print(x>3)\n",
    "print(x<=3)\n",
    "print(x>=3)\n",
    "print(x!=3)\n",
    "print(x==3)\n",
    "\n",
    "#可以使用複合敘述\n",
    "print((2 * x) == (x ** 2))"
   ]
  },
  {
   "cell_type": "code",
   "execution_count": 13,
   "metadata": {},
   "outputs": [
    {
     "name": "stdout",
     "output_type": "stream",
     "text": [
      "[[9 4 0 3]\n",
      " [8 6 3 1]\n",
      " [3 7 4 0]]\n",
      "[[False  True  True  True]\n",
      " [False False  True  True]\n",
      " [ True False  True  True]]\n"
     ]
    }
   ],
   "source": [
    "rng = np.random.default_rng(seed=1701)\n",
    "x = rng.integers(10, size=(3, 4))\n",
    "print(x)\n",
    "print(x < 6)"
   ]
  },
  {
   "cell_type": "code",
   "execution_count": 19,
   "metadata": {},
   "outputs": [
    {
     "name": "stdout",
     "output_type": "stream",
     "text": [
      "[[9 4 0 3]\n",
      " [8 6 3 1]\n",
      " [3 7 4 0]]\n",
      "8\n",
      "8\n",
      "[3 2 3]\n"
     ]
    }
   ],
   "source": [
    "rng = np.random.default_rng(seed=1701)\n",
    "x = rng.integers(10, size=(3, 4))\n",
    "print(x)\n",
    "\n",
    "print(np.count_nonzero(x < 6))\n",
    "\n",
    "print(np.sum(x < 6))\n",
    "#每一列的加總值\n",
    "print(np.sum(x < 6, axis=1))"
   ]
  },
  {
   "cell_type": "code",
   "execution_count": 21,
   "metadata": {},
   "outputs": [
    {
     "name": "stdout",
     "output_type": "stream",
     "text": [
      "True\n",
      "False\n",
      "True\n",
      "False\n",
      "[False False  True]\n"
     ]
    }
   ],
   "source": [
    "print(np.any(x > 8))\n",
    "print(np.any(x < 0))\n",
    "print(np.all(x < 10))\n",
    "print(np.all(x == 6))\n",
    "print(np.all(x < 8, axis=1))"
   ]
  },
  {
   "cell_type": "code",
   "execution_count": 24,
   "metadata": {},
   "outputs": [
    {
     "name": "stdout",
     "output_type": "stream",
     "text": [
      "16\n",
      "365\n",
      "16\n"
     ]
    }
   ],
   "source": [
    "# 找出降雨量介於10-20毫米之間的天數\n",
    "print(np.sum((rainfall_mm > 10) & (rainfall_mm < 20)))\n",
    "\n",
    "# 找出降雨量大於10 或 小於20毫米之間的天數\n",
    "print(np.sum((rainfall_mm > 10) | (rainfall_mm < 20)))\n",
    "\n",
    "# 找出降雨量介於10-20毫米之間的天數 (使用迪摩根定律)\n",
    "print(np.sum(~((rainfall_mm < 10) | (rainfall_mm > 20))))"
   ]
  }
 ],
 "metadata": {
  "kernelspec": {
   "display_name": "Python 3",
   "language": "python",
   "name": "python3"
  },
  "language_info": {
   "codemirror_mode": {
    "name": "ipython",
    "version": 3
   },
   "file_extension": ".py",
   "mimetype": "text/x-python",
   "name": "python",
   "nbconvert_exporter": "python",
   "pygments_lexer": "ipython3",
   "version": "3.13.0"
  }
 },
 "nbformat": 4,
 "nbformat_minor": 2
}
